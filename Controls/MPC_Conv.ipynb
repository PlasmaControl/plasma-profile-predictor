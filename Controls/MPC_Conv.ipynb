{
 "cells": [
  {
   "cell_type": "markdown",
   "metadata": {},
   "source": [
    "# A Clean Version of the MPC Implementation"
   ]
  },
  {
   "cell_type": "markdown",
   "metadata": {},
   "source": [
    "### Imports"
   ]
  },
  {
   "cell_type": "code",
   "execution_count": 1,
   "metadata": {},
   "outputs": [
    {
     "name": "stderr",
     "output_type": "stream",
     "text": [
      "Using TensorFlow backend.\n"
     ]
    },
    {
     "name": "stdout",
     "output_type": "stream",
     "text": [
      "573\n",
      "435\n",
      "Total: 11061\n"
     ]
    }
   ],
   "source": [
    "import os\n",
    "os.environ[\"CUDA_VISIBLE_DEVICES\"]=\"-1\"\n",
    "from keras.models import Model\n",
    "import gspread\n",
    "from oauth2client.service_account import ServiceAccountCredentials\n",
    "import seaborn as sns\n",
    "import matplotlib\n",
    "from matplotlib import pyplot as plt\n",
    "import numpy as np\n",
    "import pickle\n",
    "import keras\n",
    "import tensorflow as tf\n",
    "from keras import backend as K\n",
    "import sys\n",
    "\n",
    "import time\n",
    "sys.path.append(os.path.abspath('../'))\n",
    "import helpers\n",
    "from helpers.data_generator import process_data, AutoEncoderDataGenerator, DataGenerator\n",
    "from helpers.custom_losses import normed_mse, mean_diff_sum_2, max_diff_sum_2, mean_diff2_sum2, max_diff2_sum2, denorm_loss, hinge_mse_loss, percent_correct_sign, baseline_MAE\n",
    "from keras.callbacks import ModelCheckpoint, ReduceLROnPlateau\n",
    "from time import strftime, localtime\n",
    "import matplotlib\n",
    "from matplotlib import pyplot as plt\n",
    "import matplotlib.gridspec as gridspec\n",
    "import copy\n",
    "from tqdm import tqdm_notebook\n",
    "from helpers.normalization import normalize, denormalize, renormalize\n",
    "import scipy\n",
    "from keras.utils.vis_utils import model_to_dot\n",
    "from IPython.display import Image, display\n",
    "from helpers.custom_init import downsample\n",
    "from helpers.custom_reg import groupLasso\n",
    "import helpers\n",
    "from tqdm import tqdm"
   ]
  },
  {
   "cell_type": "markdown",
   "metadata": {},
   "source": [
    "### Load Files and Model"
   ]
  },
  {
   "cell_type": "code",
   "execution_count": 2,
   "metadata": {},
   "outputs": [
    {
     "name": "stdout",
     "output_type": "stream",
     "text": [
      "Matching files at /projects/EKOLEMEN/profile_predictor/run_results_03_10 are : ['model-conv2d_profiles-dens-temp-q_EFIT01-rotation-press_EFIT01_act-target_density-pinj-tinj-curr_target_15Mar20-03-48_Scenario-265.h5']\n"
     ]
    }
   ],
   "source": [
    "# # 'model-conv2d_profiles-dens-temp-q_EFIT01-rotation-press_EFIT01_act-target_density-pinj-tinj-curr_target_15Mar20-03-48_Scenario-265_params.pkl'\n",
    "os.chdir(os.path.expanduser('/projects/EKOLEMEN/profile_predictor/run_results_03_10/'))\n",
    "files = [foo for foo in os.listdir() if 'Scenario-265.h5' in foo]\n",
    "print(\"Matching files at {} are : {}\".format(os.getcwd(),files))"
   ]
  },
  {
   "cell_type": "code",
   "execution_count": 40,
   "metadata": {},
   "outputs": [],
   "source": [
    "# Extract A, B from Autoencoder model\n",
    "\n",
    "def get_AB(model):\n",
    "    A = model.get_layer('AB_matrices').get_weights()[1].T\n",
    "    B = model.get_layer('AB_matrices').get_weights()[0].T\n",
    "    return A,B\n",
    "def get_submodels(model):\n",
    "    from keras.models import Model\n",
    "    state_encoder = model.get_layer('state_encoder_time_dist').layer.layers[-1]\n",
    "    control_encoder = model.get_layer('ctrl_encoder_time_dist').layer.layers[-1]\n",
    "    state_decoder = model.get_layer('state_decoder_time_dist').layer\n",
    "    return state_encoder, state_decoder, control_encoder\n",
    "\n",
    "def get_control_decoder_matrices(control_encoder):\n",
    "    A1 = control_encoder.layers[5].get_weights()[0]\n",
    "    A2 = control_encoder.layers[6].get_weights()[0]\n",
    "    B1 = control_encoder.layers[5].get_weights()[1]\n",
    "    B2 = control_encoder.layers[6].get_weights()[1]\n",
    "    \n",
    "    A1 = np.linalg.inv(A1)\n",
    "    A2 = np.linalg.inv(A2)\n",
    "    \n",
    "    return A1, A2, B1, B2\n",
    "\n",
    "def decode_control(A1, A2, B1, B2, u_enc):\n",
    "    u_dec = []\n",
    "    for elem in u_enc:\n",
    "        u = A2 @ (elem - B2)\n",
    "        u = A1 @ (u - B1)      \n",
    "        u_dec.append(u)\n",
    "    return np.array(u_dec)\n",
    "        \n",
    "\n",
    "def get_state_and_inputs(scenario,inputs,**kwargs):\n",
    "    state_inputs = {}\n",
    "    x0 = {}\n",
    "    for sig in scenario['profile_names']+scenario['scalar_names']:\n",
    "        state_inputs[sig] = np.squeeze(inputs[0]['input_'+sig])\n",
    "        if sig in scenario['profile_names']:\n",
    "            x0['input_'+sig] = inputs[0]['input_'+sig][0][0].reshape((1,1,scenario['profile_length']))\n",
    "        else:\n",
    "            x0['input_'+sig] = inputs[0]['input_'+sig][0][0].reshape((1,1,1))\n",
    "    \n",
    "    control_inputs = {}\n",
    "    for sig in scenario['actuator_names']:\n",
    "        control_inputs['input_'+sig] = inputs[0]['input_'+sig]\n",
    "    return x0, control_inputs, state_inputs\n",
    "\n",
    "def encode_state_and_inputs(state_encoder,control_encoder,scenario,x0,control_inputs,**kwargs):\n",
    "    # encode control\n",
    "    T = scenario['lookahead']\n",
    "    u = []\n",
    "    for i in range(T):\n",
    "        temp_input = {k:v[:,i].reshape((1,1,1)) for k,v in control_inputs.items()}\n",
    "        u.append(np.squeeze(control_encoder.predict(temp_input)))\n",
    "        \n",
    "    # encode state and propogate\n",
    "    x0 = np.squeeze(state_encoder.predict(x0))\n",
    "    return x0, u\n",
    "\n",
    "def encode_state(state_encoder, x0):\n",
    "    return np.squeeze(state_encoder.predict(x0))\n",
    "\n",
    "def decode_state(state_decoder,x):\n",
    "    return state_decoder.predict(x[np.newaxis,:])\n",
    "\n",
    "\n",
    "def decode_inputs(control_decoder, inputs):\n",
    "    return control_decoder.predict(inputs)\n",
    "\n",
    "def get_final_state(state_encoder,scenario,inputs,**kwargs):\n",
    "    state_inputs = {}\n",
    "    xf = {}\n",
    "    for sig in scenario['target_profile_names']+scenario['scalar_names']:\n",
    "        state_inputs[sig] = np.squeeze(inputs[0]['input_'+sig])\n",
    "        if sig in scenario['profile_names']:\n",
    "            xf['input_'+sig] = inputs[0]['input_'+sig][0][3].reshape((1,1,scenario['profile_length']))\n",
    "        else:\n",
    "            xf['input_'+sig] = inputs[0]['input_'+sig][0][3].reshape((1,1,1))\n",
    "    \n",
    "    xf_enc = np.squeeze(state_encoder.predict(xf))\n",
    "    return xf, xf_enc\n",
    "\n",
    "def get_state_predictions(scenario,x_dec):\n",
    "    state_predictions = {}\n",
    "    for i, sig in enumerate(scenario['target_profile_names']):\n",
    "        state_predictions[sig] = np.squeeze(x_dec[0][i*33:(i+1)*33])\n",
    "#     print(\"x_dec: {}\".format(x_dec))\n",
    "#     print(\"state_pred: {}\".format(state_predictions))\n",
    "    return state_predictions\n",
    "\n",
    "def mean_squared_error(true,pred):\n",
    "    return np.mean((true-pred)**2)\n",
    "\n",
    "def mean_absolute_error(true,pred):\n",
    "    return np.mean(np.abs(true-pred))\n",
    "\n",
    "def median_absolute_error(true,pred):\n",
    "    return np.median(np.abs(true-pred))\n",
    "\n",
    "def percentile25_absolute_error(true,pred):\n",
    "    return np.percentile(np.abs(true-pred),25)\n",
    "\n",
    "def percentile75_absolute_error(true,pred):\n",
    "    return np.percentile(np.abs(true-pred),75)\n",
    "\n",
    "def median_squared_error(true,pred):\n",
    "    return np.median((true-pred)**2)\n",
    "\n",
    "def percentile25_squared_error(true,pred):\n",
    "    return np.percentile((true-pred)**2,25)\n",
    "\n",
    "def percentile75_squared_error(true,pred):\n",
    "    return np.percentile((true-pred)**2,75)\n",
    "\n",
    "def huber_error(true,pred):\n",
    "    return np.mean(np.where(np.abs(pred-true) < 0.7, 0.5*(pred - true)**2, 0.7*(np.abs(pred-true)-0.5*0.7)))"
   ]
  },
  {
   "cell_type": "code",
   "execution_count": 4,
   "metadata": {},
   "outputs": [
    {
     "name": "stderr",
     "output_type": "stream",
     "text": [
      "WARNING: Logging before flag parsing goes to stderr.\n",
      "W0421 13:21:22.755714 35184372369072 module_wrapper.py:139] From /scratch/gpfs/aiqtidar/.conda/envs/tfgpu/lib/python3.7/site-packages/keras/backend/tensorflow_backend.py:541: The name tf.placeholder is deprecated. Please use tf.compat.v1.placeholder instead.\n",
      "\n",
      "W0421 13:21:22.795882 35184372369072 module_wrapper.py:139] From /scratch/gpfs/aiqtidar/.conda/envs/tfgpu/lib/python3.7/site-packages/keras/backend/tensorflow_backend.py:4432: The name tf.random_uniform is deprecated. Please use tf.random.uniform instead.\n",
      "\n",
      "W0421 13:21:23.015533 35184372369072 module_wrapper.py:139] From /scratch/gpfs/aiqtidar/.conda/envs/tfgpu/lib/python3.7/site-packages/keras/backend/tensorflow_backend.py:66: The name tf.get_default_graph is deprecated. Please use tf.compat.v1.get_default_graph instead.\n",
      "\n",
      "/scratch/gpfs/aiqtidar/.conda/envs/tfgpu/lib/python3.7/site-packages/keras/engine/saving.py:348: UserWarning: No training configuration found in save file: the model was *not* compiled. Compile it manually.\n",
      "  warnings.warn('No training configuration found in save file: '\n",
      "W0421 13:21:23.743531 35184372369072 module_wrapper.py:139] From /scratch/gpfs/aiqtidar/.conda/envs/tfgpu/lib/python3.7/site-packages/keras/backend/tensorflow_backend.py:190: The name tf.get_default_session is deprecated. Please use tf.compat.v1.get_default_session instead.\n",
      "\n",
      "W0421 13:21:23.744214 35184372369072 module_wrapper.py:139] From /scratch/gpfs/aiqtidar/.conda/envs/tfgpu/lib/python3.7/site-packages/keras/backend/tensorflow_backend.py:200: The name tf.ConfigProto is deprecated. Please use tf.compat.v1.ConfigProto instead.\n",
      "\n",
      "W0421 13:21:23.744833 35184372369072 module_wrapper.py:139] From /scratch/gpfs/aiqtidar/.conda/envs/tfgpu/lib/python3.7/site-packages/keras/backend/tensorflow_backend.py:203: The name tf.Session is deprecated. Please use tf.compat.v1.Session instead.\n",
      "\n",
      "W0421 13:21:23.788875 35184372369072 module_wrapper.py:139] From /scratch/gpfs/aiqtidar/.conda/envs/tfgpu/lib/python3.7/site-packages/keras/backend/tensorflow_backend.py:207: The name tf.global_variables is deprecated. Please use tf.compat.v1.global_variables instead.\n",
      "\n",
      "W0421 13:21:23.789455 35184372369072 module_wrapper.py:139] From /scratch/gpfs/aiqtidar/.conda/envs/tfgpu/lib/python3.7/site-packages/keras/backend/tensorflow_backend.py:216: The name tf.is_variable_initialized is deprecated. Please use tf.compat.v1.is_variable_initialized instead.\n",
      "\n",
      "W0421 13:21:23.888927 35184372369072 module_wrapper.py:139] From /scratch/gpfs/aiqtidar/.conda/envs/tfgpu/lib/python3.7/site-packages/keras/backend/tensorflow_backend.py:223: The name tf.variables_initializer is deprecated. Please use tf.compat.v1.variables_initializer instead.\n",
      "\n",
      "W0421 13:21:24.300530 35184372369072 module_wrapper.py:139] From /scratch/gpfs/aiqtidar/.conda/envs/tfgpu/lib/python3.7/site-packages/keras/backend/tensorflow_backend.py:4479: The name tf.truncated_normal is deprecated. Please use tf.random.truncated_normal instead.\n",
      "\n"
     ]
    },
    {
     "name": "stdout",
     "output_type": "stream",
     "text": [
      "A: (70, 70)\n",
      "B: (70, 4)\n"
     ]
    }
   ],
   "source": [
    "\n",
    "################# Models ################################\n",
    "\n",
    "### Run Results 04_10\n",
    "# Model 7 (layer scale = 2)\n",
    "# model_path = '/home/aiqtidar/run_results_04_10/final_model-autoencoder_SET-dense_SDT-dense_CET-dense_CDT-dense_profiles-dens-temp-q_EFIT01-rotation-press_EFIT01_act-target_density-pinj-tinj-curr_target_LB-0_LA-6_10Apr21-18-37_Scenario-7.h5'\n",
    "# scenario_path = '/home/aiqtidar/run_results_04_10/final_model-autoencoder_SET-dense_SDT-dense_CET-dense_CDT-dense_profiles-dens-temp-q_EFIT01-rotation-press_EFIT01_act-target_density-pinj-tinj-curr_target_LB-0_LA-6_10Apr21-18-37_Scenario-7_params.pkl'\n",
    "\n",
    "# Model 2 (layer scale = 1)\n",
    "# model_path = '/home/aiqtidar/run_results_04_10/final_model-autoencoder_SET-dense_SDT-dense_CET-dense_CDT-dense_profiles-dens-temp-q_EFIT01-rotation-press_EFIT01_act-target_density-pinj-tinj-curr_target_LB-0_LA-6_10Apr21-17-25_Scenario-2.h5'\n",
    "# scenario_path = '/home/aiqtidar/run_results_04_10/final_model-autoencoder_SET-dense_SDT-dense_CET-dense_CDT-dense_profiles-dens-temp-q_EFIT01-rotation-press_EFIT01_act-target_density-pinj-tinj-curr_target_LB-0_LA-6_10Apr21-17-25_Scenario-2_params.pkl'\n",
    "\n",
    "# Model 2 with lookahead = 4\n",
    "# model_path = '/home/aiqtidar/run_results_04_12/final_model-autoencoder_SET-dense_SDT-dense_CET-dense_CDT-dense_profiles-dens-temp-q_EFIT01-rotation-press_EFIT01_act-target_density-pinj-tinj-curr_target_LB-0_LA-4_13Apr21-16-43_Scenario-0.h5'\n",
    "# scenario_path = '/home/aiqtidar/run_results_04_12/final_model-autoencoder_SET-dense_SDT-dense_CET-dense_CDT-dense_profiles-dens-temp-q_EFIT01-rotation-press_EFIT01_act-target_density-pinj-tinj-curr_target_LB-0_LA-4_13Apr21-16-43_Scenario-0_params.pkl'\n",
    "\n",
    "# Aaron's Best Model\n",
    "# model_path = '/home/aaronwu/run_results_06_30/model-autoencoder_SET-dense_SDT-dense_CET-dense_CDT-dense_profiles-temp-dens-ffprime_EFIT02-press_EFIT02-q_EFIT02_act-pinj-curr-tinj-gasA_LB-0_LA-3_30Jun20-17-10.h5'\n",
    "# scenario_path ='/home/aaronwu/run_results_06_30/model-autoencoder_SET-dense_SDT-dense_CET-dense_CDT-dense_profiles-temp-dens-ffprime_EFIT02-press_EFIT02-q_EFIT02_act-pinj-curr-tinj-gasA_LB-0_LA-3_30Jun20-17-10_params.pkl'\n",
    "\n",
    "# Aaron's Ideal Hyperparam\n",
    "scenario_path = '/home/aiqtidar/run_results_04_15_Aaron_Best/final_model-autoencoder_SET-dense_SDT-dense_CET-dense_CDT-dense_profiles-dens-temp-q_EFIT01-rotation-press_EFIT01_act-target_density-pinj-tinj-curr_target_LB-0_LA-4_15Apr21-13-36_Scenario-0_params.pkl'\n",
    "model_path = '/home/aiqtidar/run_results_04_15_Aaron_Best/final_model-autoencoder_SET-dense_SDT-dense_CET-dense_CDT-dense_profiles-dens-temp-q_EFIT01-rotation-press_EFIT01_act-target_density-pinj-tinj-curr_target_LB-0_LA-4_15Apr21-13-36_Scenario-0.h5'\n",
    "\n",
    "\n",
    "# Load Model\n",
    "model = keras.models.load_model(model_path, compile=False)\n",
    "with open(scenario_path, 'rb') as f:\n",
    "    scenario_auto = pickle.load(f, encoding='latin1')\n",
    "\n",
    "    \n",
    "A,B = get_AB(model)\n",
    "state_encoder, state_decoder, control_encoder = get_submodels(model)\n",
    "A1_inv, A2_inv, B1, B2 = get_control_decoder_matrices(control_encoder)\n",
    "\n",
    "print(\"A: \" + str(A.shape))\n",
    "print(\"B: \" + str(B.shape))\n",
    "\n",
    "# Ideal Convolutional Model\n",
    "model = keras.models.load_model('/projects/EKOLEMEN/profile_predictor/run_results_03_10/model-conv2d_profiles-dens-temp-q_EFIT01-rotation-press_EFIT01_act-target_density-pinj-tinj-curr_target_15Mar20-03-48_Scenario-265.h5', compile=False)\n",
    "with open('/projects/EKOLEMEN/profile_predictor/run_results_03_10/model-conv2d_profiles-dens-temp-q_EFIT01-rotation-press_EFIT01_act-target_density-pinj-tinj-curr_target_15Mar20-03-48_Scenario-265_params.pkl', 'rb') as f:\n",
    "    scenario = pickle.load(f, encoding='latin1')\n"
   ]
  },
  {
   "cell_type": "code",
   "execution_count": 5,
   "metadata": {},
   "outputs": [],
   "source": [
    "scenario_auto.keys();"
   ]
  },
  {
   "cell_type": "markdown",
   "metadata": {},
   "source": [
    "### Prepare Data"
   ]
  },
  {
   "cell_type": "code",
   "execution_count": 6,
   "metadata": {},
   "outputs": [
    {
     "name": "stdout",
     "output_type": "stream",
     "text": [
      "Loading\n",
      "Signals: curr_target, dens, density_estimate, kappa_EFIT01, li_EFIT01, pinj, press_EFIT01, q_EFIT01, rotation, target_density, temp, tinj, triangularity_bot_EFIT01, triangularity_top_EFIT01, volume_EFIT01\n",
      "Number of useable shots:  5551\n",
      "Number of shots used:  5551\n",
      "Total number of timesteps:  582795\n",
      "Shots with Complete NaN: \n",
      "394389 samples total\n",
      "Removing ECH\n",
      "Removed 167477 samples\n",
      "226912 samples remaining\n",
      "Removing timesteps WITHOUT gas feedback\n",
      "Removed 43708 samples\n",
      "183204 samples remaining\n",
      "Removing weird I-coils\n",
      "Removed 40583 samples\n",
      "142621 samples remaining\n",
      "Removing NaN\n",
      "Removed 0 samples\n",
      "142621 samples remaining\n",
      "Removing dudtrip\n",
      "Removed 8101 samples\n",
      "134520 samples remaining\n",
      "134520 samples remaining after pruning\n"
     ]
    },
    {
     "name": "stderr",
     "output_type": "stream",
     "text": [
      "Denormalizing:  22%|##2       | 6/27 [00:00<00:00, 59.61it/s]"
     ]
    },
    {
     "name": "stdout",
     "output_type": "stream",
     "text": [
      "Total number of samples:  134520\n",
      "Number of training samples:  121324\n",
      "Number of validation samples:  13196\n"
     ]
    },
    {
     "name": "stderr",
     "output_type": "stream",
     "text": [
      "Denormalizing: 100%|##########| 27/27 [00:00<00:00, 55.65it/s]\n",
      "Normalizing: 100%|##########| 27/27 [00:03<00:00,  8.38it/s]\n",
      "Denormalizing: 100%|##########| 27/27 [00:00<00:00, 531.22it/s]\n",
      "Normalizing: 100%|##########| 27/27 [00:00<00:00, 124.04it/s]\n"
     ]
    }
   ],
   "source": [
    "# CPU Only. \n",
    "os.environ[\"CUDA_VISIBLE_DEVICES\"]=\"-1\"  \n",
    "num_cores = 1\n",
    "config = tf.ConfigProto(intra_op_parallelism_threads=4*num_cores,\n",
    "                        inter_op_parallelism_threads=4*num_cores, \n",
    "                        allow_soft_placement=True,\n",
    "                        device_count = {'CPU' : 1,\n",
    "                                        'GPU' : 0})\n",
    "                        \n",
    "session = tf.Session(config=config)\n",
    "K.set_session(session)\n",
    "\n",
    "%matplotlib inline\n",
    "font={'family': 'DejaVu Serif',\n",
    "      'size': 18}\n",
    "plt.rc('font', **font)\n",
    "matplotlib.rcParams['figure.facecolor'] = (1,1,1,1)\n",
    "\n",
    "matplotlib_colors = [(0.1215, 0.4667, 0.7058), # blue\n",
    "                     (1.0000, 0.4980, 0.0549), # orange\n",
    "                     (0.1725, 0.6275, 0.1725), # green\n",
    "                     (0.8392, 0.1529, 0.1568), # red\n",
    "                     (0.5804, 0.4039, 0.7412), # violet\n",
    "                     (0.4980, 0.4980, 0.4980), # grey\n",
    "                     (0.0902, 0.7450, 0.8117)] # cyan\n",
    "\n",
    "matlab_colors=[(0.0000, 0.4470, 0.7410), # blue\n",
    "               (0.8500, 0.3250, 0.0980), # reddish orange\n",
    "               (0.9290, 0.6940, 0.1250), # yellow\n",
    "               (0.4940, 0.1840, 0.5560), # purple\n",
    "               (0.4660, 0.6740, 0.1880), # light green\n",
    "               (0.3010, 0.7450, 0.9330), # cyan\n",
    "               (0.6350, 0.0780, 0.1840)] # dark red\n",
    "\n",
    "colorblind_colors = [(0.0000, 0.4500, 0.7000), # blue\n",
    "                     (0.8359, 0.3682, 0.0000), # vermillion\n",
    "                     (0.0000, 0.6000, 0.5000), # bluish green\n",
    "                     (0.9500, 0.9000, 0.2500), # yellow\n",
    "                     (0.3500, 0.7000, 0.9000), # sky blue\n",
    "                     (0.8000, 0.6000, 0.7000), # reddish purple\n",
    "                     (0.9000, 0.6000, 0.0000)] # orange\n",
    "\n",
    "dashes = [(1.0, 0.0, 0.0, 0.0, 0.0, 0.0), # solid\n",
    "          (3.7, 1.6, 0.0, 0.0, 0.0, 0.0), # dashed\n",
    "          (1.0, 1.6, 0.0, 0.0, 0.0, 0.0), # dotted\n",
    "          (6.4, 1.6, 1.0, 1.6, 0.0, 0.0), # dot dash\n",
    "          (3.0, 1.6, 1.0, 1.6, 1.0, 1.6), # dot dot dash\n",
    "          (6.0, 4.0, 0.0, 0.0, 0.0, 0.0), # long dash\n",
    "          (1.0, 1.6, 3.0, 1.6, 3.0, 1.6)] # dash dash dot\n",
    "\n",
    "from matplotlib import rcParams, cycler\n",
    "matplotlib.rcdefaults()\n",
    "rcParams['font.family'] = 'DejaVu Serif'\n",
    "rcParams['mathtext.fontset'] = 'cm'\n",
    "rcParams['font.size'] = 12\n",
    "rcParams['figure.facecolor'] = (1,1,1,1)\n",
    "rcParams['figure.figsize'] = (16,8)\n",
    "rcParams['figure.dpi'] = 141\n",
    "rcParams['axes.spines.top'] = False\n",
    "rcParams['axes.spines.right'] = False\n",
    "rcParams['axes.labelsize'] =  'large'\n",
    "rcParams['axes.titlesize'] = 'x-large'\n",
    "rcParams['lines.linewidth'] = 2.5\n",
    "rcParams['lines.solid_capstyle'] = 'round'\n",
    "rcParams['lines.dash_capstyle'] = 'round'\n",
    "rcParams['lines.dash_joinstyle'] = 'round'\n",
    "rcParams['xtick.labelsize'] = 'large'\n",
    "rcParams['ytick.labelsize'] = 'large'\n",
    "# rcParams['text.usetex']=True\n",
    "color_cycle = cycler(color=colorblind_colors)\n",
    "dash_cycle = cycler(dashes=dashes)\n",
    "rcParams['axes.prop_cycle'] =  color_cycle\n",
    "\n",
    "labelsize=10\n",
    "ticksize=8\n",
    "# for i,c in enumerate(colorblind_colors):\n",
    "#     plt.plot((i)*np.ones(5),c=c)\n",
    "\n",
    "eq_sigs = {'temp':'etemp',\n",
    "         'thomson_temp_EFITRT1':'etemp',\n",
    "         'thomson_temp_EFITRT2':'etemp',\n",
    "         'dens':'edens',\n",
    "         'thomson_dens_EFITRT1':'edens',\n",
    "         'thomson_dens_EFITRT2':'edens',\n",
    "         'itemp':'itemp',\n",
    "         'cerquick_temp_EFITRT1':'itemp',\n",
    "         'cerquick_temp_EFITRT2':'itemp',\n",
    "         'rotation':'rotation',\n",
    "         'cerquick_rotation_EFITRT1':'rotation',\n",
    "         'cerquick_rotation_EFITRT2':'rotation',\n",
    "         'press_EFITRT1':'press',\n",
    "         'press_EFITRT2':'press',\n",
    "         'press_EFIT01':'press',\n",
    "         'press_EFIT02':'press',\n",
    "         'ffprime_EFITRT1':'ffprime',\n",
    "         'ffprime_EFITRT2':'ffprime',\n",
    "         'ffprime_EFIT01':'ffprime',\n",
    "         'ffprime_EFIT02':'ffprime',\n",
    "         'q':'q',\n",
    "         'q_EFITRT1':'q',\n",
    "         'q_EFITRT2':'q',\n",
    "         'q_EFIT01':'q',\n",
    "         'q_EFIT02':'q'}\n",
    "\n",
    "labels = {'edens': '$n_e$ ($10^{19}/m^3$)',\n",
    "          'etemp': '$T_e$ (keV)',\n",
    "          'itemp': '$T_i$ (keV)',\n",
    "          'rotation':'$\\Omega$ (kHz)',\n",
    "          'q':'$\\iota$',\n",
    "          'press':'$P$ (Pa)',\n",
    "         'ffprime':\"$FF'$\"}\n",
    "\n",
    "labels = {key:labels[val] for key, val in eq_sigs.items()}\n",
    "\n",
    "scatter_titles = {'mean':'Mean',\n",
    "                  'std':'Std Dev.',\n",
    "                  'pca_1':'PCA Mode 1',\n",
    "                  'pca_2':'PCA Mode 2',\n",
    "                  'pca_3':'PCA Mode 3',\n",
    "                  'pca_4':'PCA Mode 4',\n",
    "                  'pca_5':'PCA Mode 5',\n",
    "                  'pca_6':'PCA Mode 6',\n",
    "                  'pca_2':'PCA Mode 2'}\n",
    "\n",
    "\n",
    "orig_data_path = '/scratch/gpfs/jabbate/full_data_with_error/train_data.pkl'\n",
    "test_data_path = '/scratch/gpfs/jabbate/full_data_with_error/test_data.pkl' \n",
    "traindata, valdata, normalization_dict = helpers.data_generator.process_data(orig_data_path,\n",
    "                                                      scenario['sig_names'],\n",
    "                                                      scenario['normalization_method'],\n",
    "                                                      scenario['window_length'],\n",
    "                                                      scenario['window_overlap'],\n",
    "                                                      scenario['lookbacks'],\n",
    "                                                      scenario['lookahead'],\n",
    "                                                      scenario['sample_step'],\n",
    "                                                      scenario['uniform_normalization'],\n",
    "                                                      1, #scenario['train_frac'],\n",
    "                                                      0, #scenario['val_frac'],\n",
    "                                                      scenario['nshots'],\n",
    "                                                      2, #scenario['verbose']\n",
    "                                                      scenario['flattop_only'],\n",
    "                                                      randomize=False,\n",
    "                                                      pruning_functions=scenario['pruning_functions'],\n",
    "                                                      excluded_shots = scenario['excluded_shots'],\n",
    "                                                      delta_sigs = [],\n",
    "                                                      invert_q=scenario.setdefault('invert_q',False),\n",
    "                                                      val_idx = 0,\n",
    "                                                      uncertainties=True)\n",
    "traindata = helpers.normalization.renormalize(helpers.normalization.denormalize(traindata.copy(),normalization_dict),scenario['normalization_dict'])\n",
    "valdata = helpers.normalization.renormalize(helpers.normalization.denormalize(valdata.copy(),normalization_dict),scenario['normalization_dict'])\n",
    "\n",
    "data_generator_batch = DataGenerator(valdata,\n",
    "                                128, #scenario['batch_size'],\n",
    "                                scenario['input_profile_names'],\n",
    "                                scenario['actuator_names'],\n",
    "                                scenario['target_profile_names'],\n",
    "                                scenario['scalar_input_names'],\n",
    "                                scenario['lookbacks'],\n",
    "                                scenario['lookahead'],\n",
    "                                scenario['predict_deltas'],\n",
    "                                scenario['profile_downsample'],\n",
    "                                shuffle=False,\n",
    "                                sample_weights = None)"
   ]
  },
  {
   "cell_type": "code",
   "execution_count": 7,
   "metadata": {},
   "outputs": [],
   "source": [
    "data_generator_batch[1][0]['input_past_tinj'];"
   ]
  },
  {
   "cell_type": "markdown",
   "metadata": {},
   "source": [
    "### Define Encoders and Decoders"
   ]
  },
  {
   "cell_type": "code",
   "execution_count": 8,
   "metadata": {},
   "outputs": [
    {
     "name": "stderr",
     "output_type": "stream",
     "text": [
      "/scratch/gpfs/aiqtidar/.conda/envs/tfgpu/lib/python3.7/site-packages/keras/engine/saving.py:348: UserWarning: No training configuration found in save file: the model was *not* compiled. Compile it manually.\n",
      "  warnings.warn('No training configuration found in save file: '\n"
     ]
    }
   ],
   "source": [
    "model = keras.models.load_model('/projects/EKOLEMEN/profile_predictor/run_results_03_10/model-conv2d_profiles-dens-temp-q_EFIT01-rotation-press_EFIT01_act-target_density-pinj-tinj-curr_target_15Mar20-03-48_Scenario-265.h5', compile=False)\n",
    "with open('/projects/EKOLEMEN/profile_predictor/run_results_03_10/model-conv2d_profiles-dens-temp-q_EFIT01-rotation-press_EFIT01_act-target_density-pinj-tinj-curr_target_15Mar20-03-48_Scenario-265_params.pkl', 'rb') as f:\n",
    "    scenario = pickle.load(f, encoding='latin1')\n"
   ]
  },
  {
   "cell_type": "code",
   "execution_count": 9,
   "metadata": {},
   "outputs": [
    {
     "name": "stdout",
     "output_type": "stream",
     "text": [
      "104/104 [==============================] - 28s 270ms/step\n"
     ]
    }
   ],
   "source": [
    "# Make Predictions\n",
    "predictions_arr = np.array(model.predict_generator(data_generator_batch,verbose=1))"
   ]
  },
  {
   "cell_type": "code",
   "execution_count": 10,
   "metadata": {},
   "outputs": [],
   "source": [
    "predictions = {sig: arr for sig, arr in zip(scenario['target_profile_names'],predictions_arr)}"
   ]
  },
  {
   "cell_type": "code",
   "execution_count": 11,
   "metadata": {},
   "outputs": [],
   "source": [
    "### Use model.predict to get a prediction\n",
    "\n",
    "def predict_model(i, umpc = None):\n",
    "    inp = []\n",
    "\n",
    "    for sig in scenario['target_profile_names']:\n",
    "        inp.append((data_generator_batch[int(i/128)][0]['input_' + sig][int(i % 128)].reshape((1,1,scenario['profile_length']))))\n",
    "\n",
    "    for sig in scenario['actuator_names']:\n",
    "        inp.append((np.array(([np.transpose(data_generator_batch[int(i/128)][0]['input_past_' + sig][int(i % 128)])]))))\n",
    "\n",
    "    for sig in scenario['actuator_names']:\n",
    "        if umpc is not None:\n",
    "            inp.append(umpc)\n",
    "        else:\n",
    "            inp.append(np.array(([np.transpose(data_generator_batch[int(i/128)][0]['input_future_' + sig][int(i % 128)])])))\n",
    "\n",
    "    for sig in scenario['scalar_input_names']:\n",
    "        inp.append((data_generator_batch[int(i/128)][0]['input_' + sig][int(i % 128)].reshape((1,7))))\n",
    "    return np.array(model.predict(inp))"
   ]
  },
  {
   "cell_type": "code",
   "execution_count": 13,
   "metadata": {},
   "outputs": [],
   "source": [
    "with open('/projects/EKOLEMEN/profile_predictor/run_results_03_10/model-conv2d_profiles-dens-temp-q_EFIT01-rotation-press_EFIT01_act-target_density-pinj-tinj-curr_target_15Mar20-03-48_Scenario-265_params.pkl', 'rb') as f:\n",
    "    scenario = pickle.load(f, encoding='latin1')"
   ]
  },
  {
   "cell_type": "code",
   "execution_count": 14,
   "metadata": {},
   "outputs": [
    {
     "data": {
      "text/plain": [
       "['dens', 'temp', 'q_EFIT01', 'rotation', 'press_EFIT01']"
      ]
     },
     "execution_count": 14,
     "metadata": {},
     "output_type": "execute_result"
    }
   ],
   "source": [
    "scenario['target_profile_names']"
   ]
  },
  {
   "cell_type": "code",
   "execution_count": 15,
   "metadata": {},
   "outputs": [
    {
     "data": {
      "text/plain": [
       "['target_density', 'pinj', 'tinj', 'curr_target']"
      ]
     },
     "execution_count": 15,
     "metadata": {},
     "output_type": "execute_result"
    }
   ],
   "source": [
    "scenario['actuator_names']"
   ]
  },
  {
   "cell_type": "code",
   "execution_count": 16,
   "metadata": {},
   "outputs": [
    {
     "data": {
      "text/plain": [
       "4"
      ]
     },
     "execution_count": 16,
     "metadata": {},
     "output_type": "execute_result"
    }
   ],
   "source": [
    "scenario['lookahead']"
   ]
  },
  {
   "cell_type": "code",
   "execution_count": 17,
   "metadata": {},
   "outputs": [],
   "source": [
    "model = keras.models.load_model(model_path, compile=False)\n",
    "A,B = get_AB(model)\n",
    "state_encoder, state_decoder, control_encoder = get_submodels(model)\n",
    "\n",
    "model = keras.models.load_model('/projects/EKOLEMEN/profile_predictor/run_results_03_10/model-conv2d_profiles-dens-temp-q_EFIT01-rotation-press_EFIT01_act-target_density-pinj-tinj-curr_target_15Mar20-03-48_Scenario-265.h5', compile=False)"
   ]
  },
  {
   "cell_type": "markdown",
   "metadata": {},
   "source": [
    "### Finalize Data"
   ]
  },
  {
   "cell_type": "code",
   "execution_count": 18,
   "metadata": {},
   "outputs": [
    {
     "name": "stdout",
     "output_type": "stream",
     "text": [
      "Completed 13195 of 13196\r"
     ]
    }
   ],
   "source": [
    "###################### Get inital state and actuator inputs ready ######################\n",
    "X_F_conv_tot = [] # Final state predicted by conv model\n",
    "X_F_real_tot = [] # Final real state\n",
    "X_F_enc_tot = [] # Final real state encoded\n",
    "X_0_tot = [] # Initial state\n",
    "u_tot = [] # control inputs\n",
    "X_0_enc_tot = [] # Initial state encoded\n",
    "u_enc_tot = [] # Encoded control inputs\n",
    "state_inputs_arr = [] # Contains profiles, for both initial and final state\n",
    "\n",
    "for i in range(0, predictions_arr.shape[1]):\n",
    "    print(\"Completed {} of {}\".format(i,predictions_arr.shape[1]),end='\\r')\n",
    "    \n",
    "    # Get initial profile array\n",
    "    x0 = {}\n",
    "    state_inputs = {}\n",
    "    for sig in scenario['target_profile_names']:\n",
    "        x0['input_' + sig] = data_generator_batch[int(i/128)][0]['input_' + sig][int(i % 128)].reshape((1,1,scenario['profile_length']))\n",
    "        xf_real = data_generator_batch[int(i/128)][1]['target_' + sig][int(i % 128)].reshape((1,1,scenario['profile_length']))\n",
    "        state_inputs['input_' + sig] = np.array([x0['input_' + sig], xf_real])\n",
    "        \n",
    "    for sig in scenario['scalar_input_names']:\n",
    "        x0['input_' + sig] = data_generator_batch[int(i/128)][0]['input_' + sig][int(i % 128)][0].reshape((1,1,1))\n",
    "    \n",
    "    # Get control inputs array\n",
    "    control_inputs = {}\n",
    "    for sig in scenario['actuator_names']:\n",
    "        control_inputs['input_'+sig] = np.array(([np.transpose(data_generator_batch[int(i/128)][0]['input_future_' + sig][int(i % 128)] [np.newaxis])]))\n",
    "    \n",
    "    # Get target state\n",
    "    X_F = {}\n",
    "    X_F_real = {}\n",
    "    for profile in scenario['target_profile_names']:\n",
    "        X_F['input_' + profile] = np.array([[predictions[profile][i]]])\n",
    "        X_F_real['input_' + profile] = state_inputs['input_' + profile][-1]\n",
    "\n",
    "    for sig in scenario['scalar_input_names']:\n",
    "        X_F_real['input_' + sig] = data_generator_batch[int(i/128)][0]['input_' + sig][int(i % 128)][-1].reshape((1,1,1))\n",
    "    \n",
    "    \n",
    "    \n",
    "#     print(\"x0: {}\".format(x0.keys()))\n",
    "#     print(\"u: {}\".format(control_inputs['input_target_density'].shape))\n",
    "#     print(\"u: {}\".format(control_inputs['input_target_density']))\n",
    "    \n",
    "    x_enc, u_enc = encode_state_and_inputs(state_encoder,control_encoder,scenario,x0,control_inputs)\n",
    "    \n",
    "    X_F_real_tot.append(X_F_real)\n",
    "    X_F_enc_tot.append(encode_state(state_encoder, X_F_real))\n",
    "    X_F_conv_tot.append(X_F)\n",
    "    X_0_tot.append(x0)\n",
    "    u_tot.append(control_inputs)    \n",
    "    X_0_enc_tot.append(x_enc)\n",
    "    u_enc_tot.append(u_enc)\n",
    "    state_inputs_arr.append(state_inputs)\n",
    "    "
   ]
  },
  {
   "cell_type": "code",
   "execution_count": 19,
   "metadata": {},
   "outputs": [
    {
     "name": "stdout",
     "output_type": "stream",
     "text": [
      "X_0_tot.shape: (13196,)\n",
      "u_tot.shape: (13196,)\n",
      "X0_enc_tot.shape: (13196, 70)\n",
      "u_enc_tot.shape: (13196, 4, 4)\n"
     ]
    }
   ],
   "source": [
    "# Convert to Numpy Arrays\n",
    "X_F_real_tot = np.array(X_F_real_tot)\n",
    "X_F_enc_tot = np.array(X_F_enc_tot)\n",
    "X_F_conv_tot = np.array(X_F_conv_tot)\n",
    "X_0_tot = np.array(X_0_tot)\n",
    "u_tot = np.array(u_tot)\n",
    "X_0_enc_tot = np.array(X_0_enc_tot)\n",
    "u_enc_tot = np.array(u_enc_tot)\n",
    "\n",
    "# print(\"X_F_tot.shape: {}\".format(X_F_tot.shape))\n",
    "print(\"X_0_tot.shape: {}\".format(X_0_tot.shape))\n",
    "print(\"u_tot.shape: {}\".format(u_tot.shape))\n",
    "print(\"X0_enc_tot.shape: {}\".format(X_0_enc_tot.shape))\n",
    "print(\"u_enc_tot.shape: {}\".format(u_enc_tot.shape))"
   ]
  },
  {
   "cell_type": "code",
   "execution_count": 20,
   "metadata": {},
   "outputs": [],
   "source": [
    "state_inputs['input_dens'][-1];"
   ]
  },
  {
   "cell_type": "code",
   "execution_count": 21,
   "metadata": {},
   "outputs": [
    {
     "data": {
      "text/plain": [
       "array([[ 59001.957 ,   8959.81  , -20656.883 , -63998.492 ],\n",
       "       [ 52957.02  ,  13185.536 , -13149.328 , -50163.094 ],\n",
       "       [ 31740.146 ,  28099.922 ,  12073.763 , -14642.297 ],\n",
       "       [ 22368.203 ,  36455.727 ,  24478.877 ,   4782.4375]],\n",
       "      dtype=float32)"
      ]
     },
     "execution_count": 21,
     "metadata": {},
     "output_type": "execute_result"
    }
   ],
   "source": [
    "# Control decoder example\n",
    "A1_inv, A2_inv, B1, B2 = get_control_decoder_matrices(control_encoder)\n",
    "u_dec = decode_control(A1_inv, A2_inv, B1, B2, u_enc_tot[0]);\n",
    "# u_dec\n",
    "helpers.normalization.denormalize_arr(u_dec,scenario_auto['normalization_dict'][profile])"
   ]
  },
  {
   "cell_type": "code",
   "execution_count": 22,
   "metadata": {},
   "outputs": [
    {
     "data": {
      "text/plain": [
       "{'input_target_density': array([[[-0.51913744],\n",
       "         [-0.42296273],\n",
       "         [-0.3267881 ],\n",
       "         [-0.23061335]]], dtype=float32),\n",
       " 'input_pinj': array([[[0.7848003 ],\n",
       "         [0.64431113],\n",
       "         [0.2301327 ],\n",
       "         [0.05321147]]], dtype=float32),\n",
       " 'input_tinj': array([[[0.8612333 ],\n",
       "         [0.7304757 ],\n",
       "         [0.40844566],\n",
       "         [0.22243078]]], dtype=float32),\n",
       " 'input_curr_target': array([[[-0.98497546],\n",
       "         [-0.94506186],\n",
       "         [-0.90514845],\n",
       "         [-0.865235  ]]], dtype=float32)}"
      ]
     },
     "execution_count": 22,
     "metadata": {},
     "output_type": "execute_result"
    }
   ],
   "source": [
    "u_tot[0]"
   ]
  },
  {
   "cell_type": "code",
   "execution_count": 23,
   "metadata": {},
   "outputs": [
    {
     "ename": "KeyError",
     "evalue": "'target_density'",
     "output_type": "error",
     "traceback": [
      "\u001b[0;31m---------------------------------------------------------------------------\u001b[0m",
      "\u001b[0;31mKeyError\u001b[0m                                  Traceback (most recent call last)",
      "\u001b[0;32m<ipython-input-23-5d3c2e68b4b6>\u001b[0m in \u001b[0;36m<module>\u001b[0;34m\u001b[0m\n\u001b[1;32m      3\u001b[0m     \u001b[0mtempu\u001b[0m\u001b[0;34m[\u001b[0m\u001b[0mkey\u001b[0m\u001b[0;34m]\u001b[0m \u001b[0;34m=\u001b[0m \u001b[0mhelpers\u001b[0m\u001b[0;34m.\u001b[0m\u001b[0mnormalization\u001b[0m\u001b[0;34m.\u001b[0m\u001b[0mdenormalize_arr\u001b[0m\u001b[0;34m(\u001b[0m\u001b[0mu_tot\u001b[0m\u001b[0;34m[\u001b[0m\u001b[0;36m0\u001b[0m\u001b[0;34m]\u001b[0m\u001b[0;34m[\u001b[0m\u001b[0;34m'input_'\u001b[0m \u001b[0;34m+\u001b[0m \u001b[0mkey\u001b[0m\u001b[0;34m]\u001b[0m\u001b[0;34m,\u001b[0m\u001b[0mscenario\u001b[0m\u001b[0;34m[\u001b[0m\u001b[0;34m'normalization_dict'\u001b[0m\u001b[0;34m]\u001b[0m\u001b[0;34m[\u001b[0m\u001b[0mprofile\u001b[0m\u001b[0;34m]\u001b[0m\u001b[0;34m)\u001b[0m\u001b[0;34m\u001b[0m\u001b[0;34m\u001b[0m\u001b[0m\n\u001b[1;32m      4\u001b[0m \u001b[0;31m# helpers.normalization.normalize(tempu,scenario_auto['normalization_dict'][profile])\u001b[0m\u001b[0;34m\u001b[0m\u001b[0;34m\u001b[0m\u001b[0;34m\u001b[0m\u001b[0m\n\u001b[0;32m----> 5\u001b[0;31m     \u001b[0mhelpers\u001b[0m\u001b[0;34m.\u001b[0m\u001b[0mnormalization\u001b[0m\u001b[0;34m.\u001b[0m\u001b[0mnormalize_arr\u001b[0m\u001b[0;34m(\u001b[0m\u001b[0mtempu\u001b[0m\u001b[0;34m[\u001b[0m\u001b[0mkey\u001b[0m\u001b[0;34m]\u001b[0m\u001b[0;34m,\u001b[0m\u001b[0mscenario_auto\u001b[0m\u001b[0;34m[\u001b[0m\u001b[0;34m'normalization_dict'\u001b[0m\u001b[0;34m]\u001b[0m\u001b[0;34m[\u001b[0m\u001b[0mprofile\u001b[0m\u001b[0;34m]\u001b[0m\u001b[0;34m[\u001b[0m\u001b[0mkey\u001b[0m\u001b[0;34m]\u001b[0m\u001b[0;34m,\u001b[0m\u001b[0muniform_over_profile\u001b[0m\u001b[0;34m=\u001b[0m\u001b[0;32mTrue\u001b[0m\u001b[0;34m)\u001b[0m\u001b[0;34m\u001b[0m\u001b[0;34m\u001b[0m\u001b[0m\n\u001b[0m\u001b[1;32m      6\u001b[0m \u001b[0mtempu\u001b[0m\u001b[0;34m\u001b[0m\u001b[0;34m\u001b[0m\u001b[0m\n",
      "\u001b[0;31mKeyError\u001b[0m: 'target_density'"
     ]
    }
   ],
   "source": [
    "tempu = {}\n",
    "for key in scenario['actuator_names']:\n",
    "    tempu[key] = helpers.normalization.denormalize_arr(u_tot[0]['input_' + key],scenario['normalization_dict'][profile])\n",
    "# helpers.normalization.normalize(tempu,scenario_auto['normalization_dict'][profile])\n",
    "    helpers.normalization.normalize_arr(tempu[key],scenario_auto['normalization_dict'][profile][key],uniform_over_profile=True)\n",
    "tempu"
   ]
  },
  {
   "cell_type": "code",
   "execution_count": null,
   "metadata": {},
   "outputs": [],
   "source": [
    "scenario_auto['normalization_dict'];"
   ]
  },
  {
   "cell_type": "code",
   "execution_count": null,
   "metadata": {},
   "outputs": [],
   "source": [
    "scenario['target_profile_names']"
   ]
  },
  {
   "cell_type": "markdown",
   "metadata": {},
   "source": [
    "## Manually Propagate SSS"
   ]
  },
  {
   "cell_type": "markdown",
   "metadata": {},
   "source": [
    "### Use the True Future Control Inputs"
   ]
  },
  {
   "cell_type": "code",
   "execution_count": 31,
   "metadata": {},
   "outputs": [
    {
     "name": "stdout",
     "output_type": "stream",
     "text": [
      "N: 70\n",
      "M: 4\n",
      "     pcost       dcost       gap    pres   dres\n",
      " 0: -3.1633e+02 -3.9578e+02  8e+01  6e-17  2e-16\n",
      " 1: -3.1633e+02 -3.1713e+02  8e-01  1e-16  2e-16\n",
      " 2: -3.1633e+02 -3.1634e+02  8e-03  2e-16  2e-16\n",
      " 3: -3.1633e+02 -3.1633e+02  8e-05  2e-16  2e-16\n",
      "Optimal solution found.\n"
     ]
    },
    {
     "data": {
      "image/png": "[encoded data removed]",
      "text/plain": [
       "<Figure size 493.5x705 with 5 Axes>"
      ]
     },
     "metadata": {},
     "output_type": "display_data"
    }
   ],
   "source": [
    "def get_model_prediction(x0, control_inputs, u_mpc, A, B, n):\n",
    "    state_pred_arr = []\n",
    "    mpc_pred_arr = []\n",
    "    x_mpc = x0\n",
    "    # Propagate through model\n",
    "    for i in range(0, n):\n",
    "        if (control_inputs is not None):\n",
    "            x0 = (x0 @ A.T  + control_inputs[i] @ B.T)\n",
    "            state_pred_arr.append(get_state_predictions(scenario,decode_state(state_decoder,x0)))\n",
    "        if (u_mpc is not None):\n",
    "            x_mpc = (x_mpc @ A.T  + u_mpc[i] @ B.T)\n",
    "            mpc_pred_arr.append(get_state_predictions(scenario,decode_state(state_decoder,x_mpc)))\n",
    "\n",
    "    # print(\"State_predictions: {}\".format(state_predictions))\n",
    "    return state_pred_arr, mpc_pred_arr\n",
    "\n",
    "# Plotting\n",
    "def generate_profile_plots(state_predictions, mpc_predictions, conv_predictions, state_inputs, profiles, filtered = False, mpc_filtered = False, conv_filtered = False):\n",
    "    shotnum = data_generator_batch.cur_shotnum[0,0]\n",
    "    shottime = data_generator_batch.cur_times[0,-scenario['lookahead']-1]\n",
    "    psi = np.linspace(0,1,scenario['profile_length'])\n",
    "\n",
    "    fig, axes = plt.subplots(len(profiles),1,sharex=True, figsize=(3.5,5))\n",
    "    for j, profile in enumerate(profiles):\n",
    "        ax = axes[j]\n",
    "\n",
    "        inp_norm = state_inputs['input_' + profile][0].squeeze()\n",
    "        true_norm = inp_norm + state_inputs['input_' + profile][-1].squeeze()\n",
    "        \n",
    "        inp = helpers.normalization.denormalize_arr(inp_norm,scenario['normalization_dict'][profile])\n",
    "        true = helpers.normalization.denormalize_arr(true_norm,scenario['normalization_dict'][profile])\n",
    "        \n",
    "        ax.plot(psi,inp,lw=1.5,label='True, time $t$',c=colorblind_colors[1])\n",
    "        ax.plot(psi,true,lw=1.5,label='True, time $t+200$ms',c='k',ls=':')\n",
    "        \n",
    "        if (state_predictions is not None):\n",
    "            if (filtered == True):\n",
    "                pred = butter_lowpass_filtfilt(state_predictions['input_' + profile].squeeze(), cutoff, fs)\n",
    "            else:\n",
    "                pred = (state_predictions[profile].squeeze())\n",
    "            pred = helpers.normalization.denormalize_arr(pred,scenario_auto['normalization_dict'][profile])\n",
    "            ax.plot(psi,pred,lw=1.5,label='Autoencoder Prediction, time $t+200$ms',c=colorblind_colors[0])\n",
    "        \n",
    "        if (mpc_predictions is not None):\n",
    "            if (mpc_filtered == True):\n",
    "                mpc_pred = butter_lowpass_filtfilt(mpc_predictions[profile].squeeze(), cutoff, fs)\n",
    "            else:\n",
    "                mpc_pred = (mpc_predictions[profile].squeeze())\n",
    "            mpc_pred = helpers.normalization.denormalize_arr(mpc_pred,scenario_auto['normalization_dict'][profile])\n",
    "            ax.plot(psi,mpc_pred,lw=1.5,label='MPC Prediction, time $t+200$ms',c=colorblind_colors[2])\n",
    "        \n",
    "        if (conv_predictions is not None):\n",
    "            if (conv_filtered == True):\n",
    "                conv_pred = butter_lowpass_filtfilt(conv_predictions[profile].squeeze(), cutoff, fs)\n",
    "            else:\n",
    "                conv_pred = inp_norm + (conv_predictions[profile].squeeze())\n",
    "            conv_pred = helpers.normalization.denormalize_arr(conv_pred,scenario['normalization_dict'][profile])\n",
    "            ax.plot(psi,conv_pred,lw=1.5,label='Convolutional Model Prediction, time $t+200$ms',c=colorblind_colors[0])\n",
    "\n",
    "\n",
    "        ax.set_ylabel(labels[profile],size=8)\n",
    "        ax.tick_params(axis='both', which='major', labelsize=8)\n",
    "\n",
    "        if j in [0,1,2]:\n",
    "            ax.set_xlabel('$\\\\rho$',size=10)\n",
    "        if j in [3,4]:\n",
    "            ax.set_xlabel('$\\psi$',size=10)\n",
    "    fig.align_ylabels(axes)\n",
    "    plt.subplots_adjust(top=.92, bottom=.18, hspace=0.5)\n",
    "    fig.suptitle(\"Shot# {}, $t=${} ms\".format(int(shotnum), int(shottime)),fontsize=10)\n",
    "    fig.legend(handles=axes[0].lines,     \n",
    "               labels=[line._label for line in axes[0].lines],  \n",
    "               loc=\"upper center\",\n",
    "               bbox_to_anchor=(0.6, 0.12),\n",
    "               frameon=False,\n",
    "               mode=None,\n",
    "               ncol=1,\n",
    "              fontsize=8)\n",
    "\n",
    "### Set up system\n",
    "\n",
    "index = 55\n",
    "n = scenario['lookahead']\n",
    "profiles = scenario['target_profile_names']\n",
    "temp_x = X_0_enc_tot[index]\n",
    "temp_u = u_enc_tot[index]\n",
    "temp_xf = X_F_enc_tot[index]\n",
    "\n",
    "### Build Conv Model Predictions\n",
    "conv_pred_profiles = {}\n",
    "for sig in scenario['target_profile_names']:\n",
    "    conv_pred_profiles[sig] = predictions[sig][index]\n",
    "# conv_pred_profiles = None\n",
    "    \n",
    "#### Get MPC Solution\n",
    "\n",
    "N = temp_x.shape[0]\n",
    "M = u_enc_tot.shape[2]\n",
    "\n",
    "# Generate Q,R\n",
    "Q = np.eye(N)*1e-5\n",
    "R = np.eye(M)*1e3\n",
    "\n",
    "sol_mpc = solve_Neo_MPC_system(Q,R,A,B,temp_x,temp_xf,n)\n",
    "sol_mpc = np.array(sol_mpc['x'])\n",
    "u_mpc = sol_mpc.reshape(n, M)\n",
    "temp_u_mpc = u_mpc\n",
    "\n",
    "# mpc_pred = None\n",
    "\n",
    "#### Call functions to generate plots\n",
    "\n",
    "state_pred, mpc_pred = get_model_prediction(temp_x, temp_u, temp_u_mpc, A, B, n)\n",
    "# generate_profile_plots(state_pred[n-1], mpc_pred[-1], conv_pred_profiles, state_inputs_arr[index], profiles, filtered = False)\n",
    "generate_profile_plots(None, None, conv_pred_profiles, state_inputs_arr[index], profiles, filtered = False)"
   ]
  },
  {
   "cell_type": "markdown",
   "metadata": {},
   "source": [
    "### Use the MPC Control Inputs"
   ]
  },
  {
   "cell_type": "code",
   "execution_count": 36,
   "metadata": {},
   "outputs": [],
   "source": [
    "def get_model_prediction(x0, control_inputs, u_mpc, A, B, n):\n",
    "    state_pred_arr = []\n",
    "    mpc_pred_arr = []\n",
    "    x_mpc = x0\n",
    "    # Propagate through model\n",
    "    for i in range(0, n):\n",
    "        if (control_inputs is not None):\n",
    "            x0 = (x0 @ A.T  + control_inputs[i] @ B.T)\n",
    "            state_pred_arr.append(get_state_predictions(scenario,decode_state(state_decoder,x0)))\n",
    "        if (u_mpc is not None):\n",
    "            x_mpc = (x_mpc @ A.T  + u_mpc[i] @ B.T)\n",
    "            mpc_pred_arr.append(get_state_predictions(scenario,decode_state(state_decoder,x_mpc)))\n",
    "\n",
    "    # print(\"State_predictions: {}\".format(state_predictions))\n",
    "    return state_pred_arr, mpc_pred_arr\n",
    "\n",
    "# Plotting\n",
    "def generate_profile_plots(state_predictions, mpc_predictions, conv_predictions, state_inputs, profiles, filtered = False, mpc_filtered = False, conv_filtered = False):\n",
    "    shotnum = data_generator_batch.cur_shotnum[0,0]\n",
    "    shottime = data_generator_batch.cur_times[0,-scenario['lookahead']-1]\n",
    "    psi = np.linspace(0,1,scenario['profile_length'])\n",
    "\n",
    "    fig, axes = plt.subplots(len(profiles),1,sharex=True, figsize=(3.5,5))\n",
    "    for j, profile in enumerate(profiles):\n",
    "        ax = axes[j]\n",
    "\n",
    "        inp_norm = state_inputs['input_' + profile][0].squeeze()\n",
    "        true_norm = inp_norm + state_inputs['input_' + profile][-1].squeeze()\n",
    "        \n",
    "        inp = helpers.normalization.denormalize_arr(inp_norm,scenario['normalization_dict'][profile])\n",
    "        true = helpers.normalization.denormalize_arr(true_norm,scenario['normalization_dict'][profile])\n",
    "        \n",
    "        ax.plot(psi,inp,lw=1.5,label='True, time $t$',c=colorblind_colors[1])\n",
    "        ax.plot(psi,true,lw=1.5,label='True, time $t+200$ms',c='k',ls=':')\n",
    "        \n",
    "        if (state_predictions is not None):\n",
    "            if (filtered == True):\n",
    "                pred = butter_lowpass_filtfilt(state_predictions['input_' + profile].squeeze(), cutoff, fs)\n",
    "            else:\n",
    "                pred = (state_predictions[profile].squeeze())\n",
    "            pred = helpers.normalization.denormalize_arr(pred,scenario_auto['normalization_dict'][profile])\n",
    "            ax.plot(psi,pred,lw=1.5,label='Autoencoder Prediction, time $t+200$ms',c=colorblind_colors[0])\n",
    "        \n",
    "        if (mpc_predictions is not None):\n",
    "            if (mpc_filtered == True):\n",
    "                mpc_pred = butter_lowpass_filtfilt(mpc_predictions[profile].squeeze(), cutoff, fs)\n",
    "            else:\n",
    "                mpc_pred = (mpc_predictions[profile].squeeze())\n",
    "            mpc_pred = helpers.normalization.denormalize_arr(mpc_pred,scenario_auto['normalization_dict'][profile])\n",
    "            ax.plot(psi,mpc_pred,lw=1.5,label='MPC Prediction, time $t+200$ms',c=colorblind_colors[2])\n",
    "        \n",
    "        if (conv_predictions is not None):\n",
    "            if (conv_filtered == True):\n",
    "                conv_pred = butter_lowpass_filtfilt(conv_predictions[profile].squeeze(), cutoff, fs)\n",
    "            else:\n",
    "                conv_pred = inp_norm + (conv_predictions[profile].squeeze())\n",
    "            conv_pred = helpers.normalization.denormalize_arr(conv_pred,scenario['normalization_dict'][profile])\n",
    "            ax.plot(psi,conv_pred,lw=1.5,label='Convolutional Model Prediction with MPC Inputs, time $t+200$ms',c=colorblind_colors[0])\n",
    "\n",
    "\n",
    "        ax.set_ylabel(labels[profile],size=8)\n",
    "        ax.tick_params(axis='both', which='major', labelsize=8)\n",
    "\n",
    "        if j in [0,1,2]:\n",
    "            ax.set_xlabel('$\\\\rho$',size=10)\n",
    "        if j in [3,4]:\n",
    "            ax.set_xlabel('$\\psi$',size=10)\n",
    "    fig.align_ylabels(axes)\n",
    "    plt.subplots_adjust(top=.92, bottom=.18, hspace=0.5)\n",
    "    fig.suptitle(\"Shot# {}, $t=${} ms\".format(int(shotnum), int(shottime)),fontsize=10)\n",
    "    fig.legend(handles=axes[0].lines,     \n",
    "               labels=[line._label for line in axes[0].lines],  \n",
    "               loc=\"upper center\",\n",
    "               bbox_to_anchor=(0.6, 0.12),\n",
    "               frameon=False,\n",
    "               mode=None,\n",
    "               ncol=1,\n",
    "              fontsize=8)\n",
    "\n",
    "def gen_conv(index, plot = False):\n",
    "    ### Set up system\n",
    "    n = scenario['lookahead']\n",
    "    profiles = scenario['target_profile_names']\n",
    "    temp_x = X_0_enc_tot[index]\n",
    "    temp_u = u_enc_tot[index]\n",
    "    temp_xf = X_F_enc_tot[index]\n",
    "\n",
    "\n",
    "    #### Get MPC Solution\n",
    "\n",
    "    N = temp_x.shape[0]\n",
    "    M = u_enc_tot.shape[2]\n",
    "\n",
    "    # Generate Q,R\n",
    "    Q_scale = 1e5\n",
    "    R_scale = 1e-10\n",
    "    \n",
    "    Q = np.eye(N)\n",
    "    R = np.eye(M)\n",
    "    Q = np.eye(N)*Q_scale\n",
    "    R = np.eye(M)*R_scale\n",
    "\n",
    "    n_prime = n+20\n",
    "\n",
    "    sol_mpc = solve_Neo_MPC_system(Q,R,A,B,temp_x,temp_xf,n_prime, lim = 20)\n",
    "    sol_mpc = np.array(sol_mpc['x'])\n",
    "    u_mpc = sol_mpc.reshape(n_prime, M)\n",
    "    temp_u_mpc = u_mpc\n",
    "\n",
    "#     mpc_pred = None\n",
    "\n",
    "    ### Build Conv Model Predictions\n",
    "    conv_pred_profiles = {}\n",
    "    for i, sig in enumerate(scenario['target_profile_names']):\n",
    "        conv_pred_profiles[sig] = np.squeeze(predict_model(i, umpc = None)[i])\n",
    "    # conv_pred_profiles = None\n",
    "\n",
    "    #### Call functions to generate plots\n",
    "\n",
    "    state_pred, mpc_pred = get_model_prediction(temp_x, temp_u, temp_u_mpc, A, B, n)\n",
    "    # generate_profile_plots(state_pred[n-1], mpc_pred[-1], conv_pred_profiles, state_inputs_arr[index], profiles, filtered = False)\n",
    "    if plot == True:\n",
    "        generate_profile_plots(None, None, conv_pred_profiles, state_inputs_arr[index], profiles, filtered = False)\n",
    "    return state_pred, mpc_pred, conv_pred_profiles\n"
   ]
  },
  {
   "cell_type": "code",
   "execution_count": 39,
   "metadata": {},
   "outputs": [
    {
     "name": "stdout",
     "output_type": "stream",
     "text": [
      "N: 70\n",
      "M: 4\n",
      "     pcost       dcost       gap    pres   dres\n",
      " 0: -8.8270e+03 -6.1300e+04  5e+04  5e-17  4e-16\n",
      " 1: -9.4233e+03 -1.3240e+04  4e+03  2e-16  6e-16\n",
      " 2: -9.5582e+03 -9.9144e+03  4e+02  2e-16  7e-16\n",
      " 3: -9.5808e+03 -9.6120e+03  3e+01  2e-16  8e-16\n",
      " 4: -9.5849e+03 -9.5873e+03  2e+00  2e-16  9e-16\n",
      " 5: -9.5854e+03 -9.5855e+03  7e-02  2e-16  1e-15\n",
      " 6: -9.5855e+03 -9.5855e+03  8e-04  2e-16  7e-16\n",
      "Optimal solution found.\n"
     ]
    },
    {
     "data": {
      "image/png": "[encoded data removed]",
      "text/plain": [
       "<Figure size 493.5x705 with 5 Axes>"
      ]
     },
     "metadata": {},
     "output_type": "display_data"
    }
   ],
   "source": [
    "state_pred, mpc_pred, conv_pred_profiles = gen_conv(55, True)"
   ]
  },
  {
   "cell_type": "markdown",
   "metadata": {},
   "source": [
    "### Generate Statistics"
   ]
  },
  {
   "cell_type": "code",
   "execution_count": 50,
   "metadata": {},
   "outputs": [
    {
     "name": "stdout",
     "output_type": "stream",
     "text": [
      "N: 70\n",
      "M: 4\n",
      "     pcost       dcost       gap    pres   dres\n",
      " 0: -5.5150e+03 -4.8708e+04  4e+04  5e-17  4e-16\n",
      " 1: -6.1959e+03 -9.4354e+03  3e+03  2e-16  8e-16\n",
      " 2: -6.3087e+03 -6.5832e+03  3e+02  2e-16  1e-15\n",
      " 3: -6.3229e+03 -6.3461e+03  2e+01  2e-16  9e-16\n",
      " 4: -6.3256e+03 -6.3279e+03  2e+00  2e-16  9e-16\n",
      " 5: -6.3261e+03 -6.3262e+03  6e-02  2e-16  8e-16\n",
      " 6: -6.3261e+03 -6.3261e+03  8e-04  2e-16  8e-16\n",
      "Optimal solution found.\n"
     ]
    }
   ],
   "source": [
    "stats_conv_mpc_tot = []\n",
    "\n",
    "for i in range(0, 1): #len(X_0_tot)\n",
    "    state_pred, mpc_pred, conv_pred_profiles = gen_conv(i, False)\n",
    "    stats_conv_mpc = {}\n",
    "    mse = {}\n",
    "    mae = {}\n",
    "    meae = {}\n",
    "    p25ae = {}\n",
    "    \n",
    "    for j, profile in enumerate(scenario['target_profile_names']):\n",
    "        # True profile\n",
    "        true_norm = state_inputs_arr[i]['input_' + profile][0].squeeze() + state_inputs_arr[i]['input_' + profile][-1].squeeze()\n",
    "        true = helpers.normalization.denormalize_arr(true_norm,scenario['normalization_dict'][profile])\n",
    "\n",
    "        # Convolutional Model Predictions\n",
    "        conv_pred = state_inputs_arr[i]['input_' + profile][0].squeeze()  + (conv_pred_profiles[profile].squeeze())\n",
    "        conv_pred = helpers.normalization.denormalize_arr(conv_pred,scenario['normalization_dict'][profile])\n",
    "\n",
    "        mse_val = mean_squared_error(true,conv_pred)\n",
    "        mae_val = mean_absolute_error(true,conv_pred)\n",
    "        meae_val = median_absolute_error(true,conv_pred)\n",
    "        p25ae_val = percentile25_absolute_error(true,conv_pred)\n",
    "        \n",
    "        \n",
    "        mse[profile] = mse_val\n",
    "        mae[profile] = mae_val\n",
    "        meae[profile] = meae_val\n",
    "        p25ae[profile] = p25ae_val        \n",
    "\n",
    "    stats_conv_mpc['mse'] = mse\n",
    "    stats_conv_mpc['mae'] = mae\n",
    "    stats_conv_mpc['meae'] = meae\n",
    "    stats_conv_mpc['p25ae'] = p25ae\n",
    "    \n",
    "    stats_conv_mpc_tot.append(stats_conv_mpc)\n",
    "            \n",
    "            \n",
    "    "
   ]
  },
  {
   "cell_type": "code",
   "execution_count": 51,
   "metadata": {},
   "outputs": [
    {
     "data": {
      "text/plain": [
       "[{'mse': {'dens': 0.06554171,\n",
       "   'temp': 0.029075481,\n",
       "   'q_EFIT01': 0.000273052,\n",
       "   'rotation': 1547.4856,\n",
       "   'press_EFIT01': 107498000.0},\n",
       "  'mae': {'dens': 0.18239698,\n",
       "   'temp': 0.13905935,\n",
       "   'q_EFIT01': 0.0070186737,\n",
       "   'rotation': 32.811306,\n",
       "   'press_EFIT01': 7034.316},\n",
       "  'meae': {'dens': 0.104938984,\n",
       "   'temp': 0.13399422,\n",
       "   'q_EFIT01': 0.0025795698,\n",
       "   'rotation': 25.352295,\n",
       "   'press_EFIT01': 2950.3281},\n",
       "  'p25ae': {'dens': 0.04815411567687988,\n",
       "   'temp': 0.05227184295654297,\n",
       "   'q_EFIT01': 0.0018191635608673096,\n",
       "   'rotation': 15.531463623046875,\n",
       "   'press_EFIT01': 1124.248046875}}]"
      ]
     },
     "execution_count": 51,
     "metadata": {},
     "output_type": "execute_result"
    }
   ],
   "source": [
    "stats_conv_mpc_tot"
   ]
  },
  {
   "cell_type": "markdown",
   "metadata": {},
   "source": [
    "mae/mean for each profile; low error and large changes;"
   ]
  },
  {
   "cell_type": "markdown",
   "metadata": {},
   "source": [
    "## Neo MPC System"
   ]
  },
  {
   "cell_type": "code",
   "execution_count": 24,
   "metadata": {},
   "outputs": [],
   "source": [
    "def lqr(A: np.ndarray, B: np.ndarray, Q: np.ndarray, R: np.ndarray) -> np.ndarray:\n",
    "    from scipy.linalg import solve_discrete_are\n",
    "    return solve_discrete_are(A, B, Q, R) \n",
    "\n",
    "def solve_Neo_MPC_system(Q,R,A,B,x0,xf,n, lim = 2):\n",
    "    \n",
    "    # Imports\n",
    "    import numpy\n",
    "    from cvxopt import matrix\n",
    "    from cvxopt import solvers\n",
    "    \n",
    "    # Define parameters\n",
    "    N = A.shape[0]\n",
    "    M = B.shape[1]\n",
    "    print(\"N: {}\".format(N))\n",
    "    print(\"M: {}\".format(M))\n",
    "    \n",
    "    # Reshape to avoid complications\n",
    "    x0 = x0.reshape((N,1))\n",
    "    xf = xf.reshape((N,1))\n",
    "\n",
    "    ############################### Generate Matrices ####################################\n",
    "\n",
    "    # Generate Matrix M\n",
    "    M_bar = np.zeros((N * n, N))\n",
    "    rsl = slice(0, N)\n",
    "    M_bar[rsl, :N] = A\n",
    "\n",
    "    for i in range(1, n):\n",
    "        rsl_p, rsl = rsl, slice(i * N, (i + 1) * N)\n",
    "        M_bar[rsl, :N] = A @ M_bar[rsl_p, :N]\n",
    "    \n",
    "#     print(\"M_bar: {}\".format(M_bar))\n",
    "    \n",
    "    # Generate Q_bar\n",
    "    Q_bar = np.zeros((N * n, N * n))\n",
    "    rsl = slice(0, N)\n",
    "    Q_bar[rsl, :N] = Q\n",
    "\n",
    "    for i in range(1, n-1):\n",
    "        rsl_p, rsl = rsl, slice(i * N, (i + 1) * N)\n",
    "        Q_bar[rsl, N : (i + 1) * N] = Q_bar[rsl_p, : i * N]\n",
    "    \n",
    "    Q_N = lqr(A,B,Q,R)\n",
    "    rsl = slice((n-1) * N, n * N)\n",
    "    Q_bar[rsl, rsl] = Q_N\n",
    "    \n",
    "#     print(\"Q_bar: {}\".format(Q_bar))\n",
    "\n",
    "    # Generate R_bar\n",
    "    R_bar = np.kron(np.eye(n),R)\n",
    "    \n",
    "#     print(\"R_bar: {}\".format(R_bar))\n",
    "\n",
    "    # Generate V\n",
    "    V = np.zeros((N * n, n * M))\n",
    "    rsl = slice(0, N)\n",
    "    V[rsl, :M] = B #Make first line\n",
    "\n",
    "    for i in range(1, n):\n",
    "        rsl_p, rsl = rsl, slice(i * N, (i + 1) * N)\n",
    "        V[rsl, :M] = A @ V[rsl_p, :M] # A^(N-1)*B\n",
    "        V[rsl, M : (i + 1) * M] = V[rsl_p, : i * M]\n",
    "    \n",
    "#     print(\"V: {}\".format(V))\n",
    "        \n",
    "    # Generate L\n",
    "    L = np.zeros((N * n, N * n))\n",
    "    rsl = slice(0, N)\n",
    "    L[rsl, :N] = A #Make first line\n",
    "\n",
    "    for i in range(1, n):\n",
    "        rsl_p, rsl = rsl, slice(i * N, (i + 1) * N)\n",
    "        L[rsl, :N] = L[rsl_p, :N]\n",
    "        L[rsl, N : (i + 1) * N] = A @ L[rsl_p, : i * N]\n",
    "    \n",
    "#     print(\"L: {}\".format(np.matrix.view(L)))\n",
    "    \n",
    "    #Generate X_F from x_f\n",
    "    X_F = np.zeros((N*n,1))\n",
    "    \n",
    "    for i in range(0,n):\n",
    "        rsl = slice(i * N, (i + 1)*N)\n",
    "        X_F[rsl] = xf\n",
    "    \n",
    "#     print(\"XF: {}\".format(X_F))\n",
    "    \n",
    "    # Generate D_bar, d\n",
    "    D_bar = np.zeros((2*M*n,M*n))\n",
    "    rsl = slice(0,M*n)\n",
    "    D_bar[rsl, rsl] = np.eye(M*n)\n",
    "    D_bar[slice(M*n,2*M*n), rsl] = -np.eye(M*n)\n",
    "\n",
    "    d = np.zeros((2*M*n,1))\n",
    "    \n",
    "    # Limits on U\n",
    "    d[rsl,:] = np.ones((M*n,1))*lim\n",
    "    d[slice(M*n,2*M*n),:] = np.ones((M*n,1))*lim\n",
    "\n",
    "#     print(\"D_bar: {}\".format(D_bar))\n",
    "#     print(\"D: {}\".format(d))\n",
    "    \n",
    "    # Generate F and H matrices   \n",
    "    temp = np.transpose(V) @ (Q_bar)\n",
    "    F = temp @ (M_bar.dot(x0) - X_F) # + L @ (X_F)\n",
    "    \n",
    "    temp = np.transpose(V) @ (Q_bar)\n",
    "    H = temp @ (V) + R_bar\n",
    "    \n",
    "#     print(\"H: {}\".format(H))\n",
    "#     print(\"F: {}\".format(F))\n",
    "\n",
    "    ########################################### Do computations #############################\n",
    "\n",
    "    # Define QP parameters (with NumPy)\n",
    "\n",
    "    P = matrix(H, tc='d')\n",
    "    q = matrix(F, tc='d')\n",
    "    G = matrix(D_bar, tc='d')\n",
    "    h = matrix(d, tc='d')\n",
    "\n",
    "    ######################################### Print Solution ###############################\n",
    "    # Construct the QP, invoke solver\n",
    "    sol = solvers.qp(P,q, G, h)\n",
    "\n",
    "    return sol"
   ]
  },
  {
   "cell_type": "markdown",
   "metadata": {},
   "source": [
    "## Solve MPC Problem for one case"
   ]
  },
  {
   "cell_type": "markdown",
   "metadata": {},
   "source": [
    "### Set up Q,R"
   ]
  },
  {
   "cell_type": "code",
   "execution_count": null,
   "metadata": {},
   "outputs": [],
   "source": [
    "# 0 <= Sample < 9701\n",
    "sample = 10\n",
    "\n",
    "x0 = X_0_enc_tot[sample] \n",
    "xf = X_F_enc_tot[sample]\n",
    "\n",
    "N = x0.shape[0]\n",
    "M = u_enc_tot.shape[2]\n",
    "\n",
    "# Generate Q,R\n",
    "Q = np.eye(N)*1e5\n",
    "R = np.eye(M)*1e-3\n",
    "\n",
    "# Replenish A,B\n",
    "# A,B = get_AB(model)\n",
    "\n",
    "n = scenario['lookahead']\n",
    "print(\"N: {}\".format(N))\n",
    "print(\"M: {}\".format(M))\n",
    "print(\"n: {}\".format(n))\n",
    "print(\"Q: {}\".format(np.matrix.view(Q)))\n",
    "print(\"R: {}\".format(np.matrix.view(R)))"
   ]
  },
  {
   "cell_type": "code",
   "execution_count": null,
   "metadata": {},
   "outputs": [],
   "source": [
    "xf.shape"
   ]
  },
  {
   "cell_type": "markdown",
   "metadata": {},
   "source": [
    "### Solve System"
   ]
  },
  {
   "cell_type": "code",
   "execution_count": null,
   "metadata": {},
   "outputs": [],
   "source": [
    "sol_mpc = solve_Neo_MPC_system(Q,R,A,B,x0,xf,n)\n",
    "sol_mpc = np.array(sol_mpc['x'])\n",
    "u_mpc = sol_mpc.reshape(n, M)\n",
    "u_mpc"
   ]
  },
  {
   "cell_type": "markdown",
   "metadata": {},
   "source": [
    "### Actual inputs"
   ]
  },
  {
   "cell_type": "code",
   "execution_count": null,
   "metadata": {},
   "outputs": [],
   "source": [
    "u_enc_tot[sample]"
   ]
  },
  {
   "cell_type": "markdown",
   "metadata": {},
   "source": [
    "### Denormalized Versions"
   ]
  },
  {
   "cell_type": "code",
   "execution_count": null,
   "metadata": {},
   "outputs": [],
   "source": [
    "# A1_inv, A2_inv, B1, B2 = get_control_decoder_matrices(control_encoder)\n",
    "u_mpc_dec = decode_control(A1_inv, A2_inv, B1, B2, u_mpc);\n",
    "print(\"MPC inputs: {}\".format(helpers.normalization.denormalize_arr(u_mpc_dec,scenario_auto['normalization_dict'][profile])))\n",
    "\n",
    "u_real_dec = decode_control(A1_inv, A2_inv, B1, B2, u_enc_tot[sample]);\n",
    "print(\"Real inputs: {}\".format(helpers.normalization.denormalize_arr(u_real_dec,scenario_auto['normalization_dict'][profile])))\n"
   ]
  },
  {
   "cell_type": "markdown",
   "metadata": {},
   "source": [
    "## Plots"
   ]
  },
  {
   "cell_type": "markdown",
   "metadata": {},
   "source": [
    "### Plot u vs time"
   ]
  },
  {
   "cell_type": "code",
   "execution_count": null,
   "metadata": {},
   "outputs": [],
   "source": [
    "plt.plot(sol_mpc)\n",
    "plt.gca().set_aspect('equal', adjustable='box')\n",
    "plt.ylabel(\"u\")\n",
    "plt.xlabel(\"# Timestep\")\n",
    "plt.show()"
   ]
  },
  {
   "cell_type": "markdown",
   "metadata": {},
   "source": [
    "### Plot how state changes"
   ]
  },
  {
   "cell_type": "code",
   "execution_count": null,
   "metadata": {},
   "outputs": [],
   "source": [
    "states = []\n",
    "abs_diff = []\n",
    "abs_fin_diff = []\n",
    "abs_aut_diff = []\n",
    "x_prev = x0\n",
    "x_prev2 = x0\n",
    "\n",
    "for i in range(0,n):\n",
    "    x_new = (A @ x_prev) + np.transpose(B.dot(u_mpc[i]))\n",
    "    x_new2 = (A @ x_prev2) + np.transpose(B.dot(u_enc_tot[sample][i]))    \n",
    "    \n",
    "    print(\"x[{}]: {} \\n\".format(i+1,x_new))\n",
    "\n",
    "    states.append(x_prev)\n",
    "    abs_diff.append(np.linalg.norm(x_new - x_prev))\n",
    "    abs_fin_diff.append(np.linalg.norm(x_new - xf))\n",
    "    abs_aut_diff.append(np.linalg.norm(x_new2 - xf))\n",
    "    x_prev = x_new\n",
    "    x_prev2 = x_new2\n",
    "\n",
    "print(\"Target: {} \\n\".format(xf))\n",
    "    "
   ]
  },
  {
   "cell_type": "code",
   "execution_count": null,
   "metadata": {},
   "outputs": [],
   "source": [
    "plt.clf()\n",
    "plt.plot(np.arange(1,n+1),abs_fin_diff)\n",
    "plt.plot(np.arange(1,n+1),abs_aut_diff)\n",
    "plt.legend([\"Abs Diff between x_i and x_f\", \"Abs Diff between x_i and x_f in Autoencoder\"])\n",
    "plt.ylabel(\"Norm of (x_i+1 - x_i) \")\n",
    "plt.xlabel(\"# Timestep\")\n",
    "plt.show()"
   ]
  },
  {
   "cell_type": "markdown",
   "metadata": {},
   "source": [
    "# Generate Larger results"
   ]
  },
  {
   "cell_type": "code",
   "execution_count": null,
   "metadata": {},
   "outputs": [],
   "source": [
    "# Generate Q,R\n",
    "Q = np.eye(N)*1e5\n",
    "R = np.eye(M)*1e-3\n",
    "\n",
    "# Replenish A,B\n",
    "# A,B = get_AB(model)\n",
    "\n",
    "n = scenario['lookahead']\n",
    "\n",
    "#### Pick Sample and solve system\n",
    "\n",
    "# 0 <= Sample < 9701\n",
    "# Pick n_sample random samples and put them into an array called sample\n",
    "n_sample = 8\n",
    "sample = []\n",
    "\n",
    "for i in range(0, n_sample):\n",
    "    sample.append(np.random.randint(100))\n",
    "\n",
    "# Solve mpc system for the samples in sample array\n",
    "u_mpc = []\n",
    "for samp in sample:\n",
    "    x0 = X_0_enc_tot[samp] \n",
    "    xf = X_F_enc_tot[samp]\n",
    "\n",
    "    N = x0.shape[0]\n",
    "    M = u_enc_tot.shape[2]\n",
    "\n",
    "    sol_mpc = solve_Neo_MPC_system(Q,R,A,B,x0,xf,n)\n",
    "    sol_mpc = np.array(sol_mpc['x'])\n",
    "    u_mpc.append(sol_mpc.reshape(n, M))\n",
    "\n",
    "# Generate statistics for each sample\n",
    "abs_diff_tot = []\n",
    "abs_aut_diff_tot = []\n",
    "\n",
    "for j in range(0,len(sample)):\n",
    "    states = []\n",
    "    abs_diff = []\n",
    "    abs_aut_diff = []\n",
    "    x_prev = X_0_enc_tot[sample[j]]\n",
    "    x_prev2 = X_0_enc_tot[sample[j]]\n",
    "    xf = X_F_enc_tot[sample[j]]\n",
    "\n",
    "    for i in range(0,n):\n",
    "        x_new = (A @ x_prev) + np.transpose(B.dot(u_mpc[j][i]))\n",
    "        x_new2 = (A @ x_prev2) + np.transpose(B.dot(u_enc_tot[sample[j]][i]))    \n",
    "\n",
    "        states.append(x_prev)\n",
    "        abs_diff.append(np.linalg.norm(x_new - xf))\n",
    "        abs_aut_diff.append(np.linalg.norm(x_new2 - xf))\n",
    "        x_prev = x_new\n",
    "        x_prev2 = x_new2\n",
    "    abs_diff_tot.append(abs_diff)\n",
    "    abs_aut_diff_tot.append(abs_aut_diff)\n",
    "\n",
    "\n",
    "n_fig = 2\n",
    "figures, axes = plt.subplots(nrows = int(len(sample) /2) + 1, ncols = n_fig, clear= True)\n",
    "\n",
    "for k in range(0, len(sample)):\n",
    "    for i in range(0, n_fig):\n",
    "        for j in range(0, int(len(sample) /2) + 1):\n",
    "            axes[j,i].plot(np.arange(1,n+1),abs_diff_tot[k])\n",
    "            axes[j,i].plot(np.arange(1,n+1),abs_aut_diff_tot[k])\n",
    "            axes[j,i].set_ylabel(\"||x_i+1 - x_f|| \")\n",
    "            axes[j,i].set_xlabel(\"# Timestep\")\n",
    "    figures.tight_layout()\n",
    "    figures.legend([\"||x_i - x_f||\", \"||x_i - x_f|| in Autoencoder\"])\n",
    "    plt.show()\n",
    "    figures.clear()"
   ]
  },
  {
   "cell_type": "markdown",
   "metadata": {},
   "source": [
    "### Interpretation of Encoded state MPC results"
   ]
  },
  {
   "cell_type": "markdown",
   "metadata": {},
   "source": [
    "The MPC is asked to find the set of control inputs $ U $ which take the state space system from some $x_i$ to some $x_f$, both of which are taken from real data. However, the state space model used by the MPC relies on the model used from the autoencoder system. \n",
    "\n",
    "The autoencoder model predicts some final state $x_f^a$ based on the actual set of inputs used during the experiment.\n",
    "\n",
    "The MPC's final state $x_f^m$ is in fact closer to the real state $x_f$ than $x_f^a$.\n",
    "\n",
    "There are numerous possibilities:\n",
    "\n",
    "1. There  are errors in the state space model from the autoencoder, which implies that the real set of inputs to reach $x_f$ are different from $U$.\n",
    "\n",
    "2. The autoencoder's prediction $x_f^a$ in incorrect, and that the real state reached should be closer to $x_f$.\n",
    "\n",
    "3. Both of the above?\n",
    "\n",
    "\n"
   ]
  },
  {
   "cell_type": "markdown",
   "metadata": {},
   "source": [
    "## Decoding State and Control Inputs"
   ]
  },
  {
   "cell_type": "code",
   "execution_count": null,
   "metadata": {},
   "outputs": [],
   "source": []
  },
  {
   "cell_type": "code",
   "execution_count": null,
   "metadata": {},
   "outputs": [],
   "source": []
  },
  {
   "cell_type": "markdown",
   "metadata": {},
   "source": [
    "# ETC"
   ]
  },
  {
   "cell_type": "raw",
   "metadata": {},
   "source": [
    "Todo:\n",
    "1. Show that controller works\n",
    "2. Give it targets that are the same/different and see if it can hit that\n",
    "\n"
   ]
  },
  {
   "cell_type": "code",
   "execution_count": null,
   "metadata": {},
   "outputs": [],
   "source": []
  }
 ],
 "metadata": {
  "kernelspec": {
   "display_name": "Python 3",
   "language": "python",
   "name": "python3"
  },
  "language_info": {
   "codemirror_mode": {
    "name": "ipython",
    "version": 3
   },
   "file_extension": ".py",
   "mimetype": "text/x-python",
   "name": "python",
   "nbconvert_exporter": "python",
   "pygments_lexer": "ipython3",
   "version": "3.7.9"
  }
 },
 "nbformat": 4,
 "nbformat_minor": 4
}
