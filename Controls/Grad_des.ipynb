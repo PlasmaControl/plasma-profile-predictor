{
 "cells": [
  {
   "cell_type": "markdown",
   "metadata": {},
   "source": [
    "# Load Model"
   ]
  },
  {
   "cell_type": "markdown",
   "metadata": {},
   "source": [
    "### Print files"
   ]
  },
  {
   "cell_type": "code",
   "execution_count": null,
   "metadata": {},
   "outputs": [],
   "source": [
    "os.chdir(os.path.expanduser('/home/aiqtidar/test_run/'))\n",
    "files = [foo for foo in os.listdir() if '.pkl' in foo]\n",
    "files"
   ]
  },
  {
   "cell_type": "markdown",
   "metadata": {},
   "source": [
    "### Load Scenario"
   ]
  },
  {
   "cell_type": "code",
   "execution_count": null,
   "metadata": {},
   "outputs": [],
   "source": [
    "with open(f,'rb') as f:\n",
    "    scenario = pickle.load(f,encoding='latin1')"
   ]
  },
  {
   "cell_type": "markdown",
   "metadata": {},
   "source": [
    "# Get Matrices"
   ]
  },
  {
   "cell_type": "code",
   "execution_count": null,
   "metadata": {},
   "outputs": [],
   "source": [
    "def get_AB(model):\n",
    "    A = model.get_layer('AB_matrices').get_weights()[1].T\n",
    "    B = model.get_layer('AB_matrices').get_weights()[0].T\n",
    "    return A,B"
   ]
  },
  {
   "cell_type": "markdown",
   "metadata": {},
   "source": [
    "# Gradient Descent"
   ]
  },
  {
   "cell_type": "code",
   "execution_count": null,
   "metadata": {},
   "outputs": [],
   "source": [
    "# The cost function to perform gradient descent on\n",
    "def Function():\n",
    "    return ((np.matmul(np.transpose(x),np.matmul(A,x)))/2 - np.matmul(np.transpose(b),x))\n",
    "\n",
    "# The gradient descent algorithm\n",
    "def steepest_descent(A,B,x):\n",
    "    epsilon = 0.001\n",
    "    upper = 100000\n",
    "\n",
    "\n",
    "    #Steepest Descent method-------------------------------\n",
    "    F1 = Function(x,A,B)\n",
    "    F2 = upper-1\n",
    "    ri = 100\n",
    "    n = 1\n",
    "    \n",
    "    while not np.allclose(ri,0,atol = epsilon):\n",
    "        F1 = Function(x,A,B)\n",
    "        ri = B - np.matmul(A,x)\n",
    "        alpha = (np.matmul(ri,ri))/(np.matmul(ri,np.matmul(A,ri)))\n",
    "        x = x + alpha*ri\n",
    "        n = n + 1\n",
    "        F2 = Function(x,A,B)\n",
    "\n",
    "    print(\"Number of iterations: \", n)\n",
    "    if (abs(neg_grad(x,A,B)) > upper):\n",
    "        print(\"Does not converge\")\n",
    "    else:\n",
    "        print(\"For the steepest descent method, The root is at \", np.round(x,3))\n",
    "\n"
   ]
  },
  {
   "cell_type": "code",
   "execution_count": null,
   "metadata": {},
   "outputs": [],
   "source": []
  }
 ],
 "metadata": {
  "kernelspec": {
   "display_name": "Python 3",
   "language": "python",
   "name": "python3"
  },
  "language_info": {
   "codemirror_mode": {
    "name": "ipython",
    "version": 3
   },
   "file_extension": ".py",
   "mimetype": "text/x-python",
   "name": "python",
   "nbconvert_exporter": "python",
   "pygments_lexer": "ipython3",
   "version": "3.7.9"
  }
 },
 "nbformat": 4,
 "nbformat_minor": 4
}
