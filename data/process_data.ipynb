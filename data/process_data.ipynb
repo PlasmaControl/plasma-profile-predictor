{
 "cells": [
  {
   "cell_type": "code",
   "execution_count": 1,
   "metadata": {},
   "outputs": [],
   "source": [
    "import numpy as np\n",
    "import pickle"
   ]
  },
  {
   "cell_type": "code",
   "execution_count": 2,
   "metadata": {},
   "outputs": [],
   "source": [
    "dirname='/global/homes/a/abbatej/'\n",
    "with open(dirname+'final_data.pkl', 'rb') as f: \n",
    "    data=pickle.load(f, encoding='latin1')"
   ]
  },
  {
   "cell_type": "code",
   "execution_count": 4,
   "metadata": {},
   "outputs": [],
   "source": [
    "num_train_shots=70\n",
    "num_val_shots=30"
   ]
  },
  {
   "cell_type": "code",
   "execution_count": 5,
   "metadata": {},
   "outputs": [],
   "source": [
    "shots = sorted(data.keys())"
   ]
  },
  {
   "cell_type": "code",
   "execution_count": 6,
   "metadata": {},
   "outputs": [
    {
     "name": "stdout",
     "output_type": "stream",
     "text": [
      "dict_keys(['pinj', 'gasB', 'curr', 'gasA', 'curr_target', 'e_temp', 'time', 'e_dens', 'tinj', 'i_dens'])\n"
     ]
    }
   ],
   "source": [
    "#print the available\n",
    "print(data[shots[1]].keys())"
   ]
  },
  {
   "cell_type": "code",
   "execution_count": 7,
   "metadata": {},
   "outputs": [],
   "source": [
    "# specify the signals we want\n",
    "sigs_1d = sorted(['e_temp'])\n",
    "sigs_0d = sorted(['tinj', 'pinj', 'curr_target'])\n",
    "sigs = sigs_0d+sigs_1d"
   ]
  },
  {
   "cell_type": "code",
   "execution_count": 9,
   "metadata": {},
   "outputs": [
    {
     "name": "stdout",
     "output_type": "stream",
     "text": [
      "True\n"
     ]
    }
   ],
   "source": [
    "print(set(sigs).issubset(data[shots[1]].keys()))"
   ]
  },
  {
   "cell_type": "code",
   "execution_count": 10,
   "metadata": {},
   "outputs": [],
   "source": [
    "# first get the indices that contain all the data we need\n",
    "# (both train and validation)\n",
    "# simultaneously, get the means and stds for the sigs\n",
    "train_shots=[]\n",
    "val_shots=[]\n",
    "\n",
    "means={}\n",
    "stds={}\n",
    "\n",
    "for sig in sigs:\n",
    "    means[sig] = 0\n",
    "    stds[sig] = 0\n",
    "\n",
    "for shot in shots:\n",
    "    if set(sigs).issubset(data[shot].keys()):\n",
    "        if (len(train_shots)<num_train_shots):\n",
    "            train_shots.append(shot)\n",
    "            for sig in sigs:\n",
    "                means[sig] += np.mean(data[shot][sig])\n",
    "                stds[sig] += np.std(data[shot][sig])\n",
    "        elif (len(val_shots)<num_val_shots):\n",
    "            val_shots.append(shot)\n",
    "        else:\n",
    "            break\n",
    "            \n",
    "for sig in sigs:\n",
    "    means[sig] = means[sig] / len(train_shots)\n",
    "    stds[sig] = stds[sig] / len(train_shots)"
   ]
  },
  {
   "cell_type": "code",
   "execution_count": 11,
   "metadata": {},
   "outputs": [],
   "source": [
    "lookback = 10\n",
    "delay = 1\n",
    "\n",
    "def normalize(obj, mean, std):\n",
    "    return (obj-mean)/std\n",
    "\n",
    "def make_final_data(my_shots):\n",
    "    final_data=[]\n",
    "    final_target=[]\n",
    "    for shot in my_shots:\n",
    "        num_timesteps=len(data[shot][sigs[0]])\n",
    "        for end_time in range(lookback, num_timesteps-delay):\n",
    "            final_data.append([])\n",
    "            for time in range(end_time-lookback,end_time):\n",
    "                #target\n",
    "                final_target.append([])\n",
    "                for sig in sigs_1d:\n",
    "                    final_target[-1].extend(normalize(data[shot][sig][end_time+delay], means[sig], stds[sig]))\n",
    "                #data\n",
    "                final_data[-1].append([])\n",
    "                for sig in sigs_0d:\n",
    "                    # time+1 below because the 0d signals are actuators\n",
    "                    final_data[-1][-1].append(normalize(data[shot][sig][time+delay], means[sig], stds[sig]))\n",
    "                for sig in sigs_1d:\n",
    "                    final_data[-1][-1].extend(normalize(data[shot][sig][time], means[sig], stds[sig]))\n",
    "    return (final_data, final_target)\n",
    "\n",
    "train_tuple = make_final_data(train_shots)\n",
    "train_data = train_tuple[0]\n",
    "train_target = train_tuple[1]\n",
    "\n",
    "val_tuple = make_final_data(val_shots)\n",
    "val_data = val_tuple[0]\n",
    "val_target = val_tuple[1]"
   ]
  },
  {
   "cell_type": "code",
   "execution_count": 12,
   "metadata": {},
   "outputs": [
    {
     "name": "stdout",
     "output_type": "stream",
     "text": [
      "(149320, 22)\n"
     ]
    }
   ],
   "source": [
    "# note the shape reflects (num_samples, lookback, num_features)\n",
    "# num_features has 22 rho values for each 1d sig and 1 value for each 0d sig\n",
    "print(np.array(train_target).shape)"
   ]
  },
  {
   "cell_type": "code",
   "execution_count": 13,
   "metadata": {},
   "outputs": [],
   "source": [
    "with open(dirname+'train_data.pkl', 'wb') as f: \n",
    "    pickle.dump(train_data, f)"
   ]
  },
  {
   "cell_type": "code",
   "execution_count": 14,
   "metadata": {},
   "outputs": [],
   "source": [
    "with open(dirname+'train_target.pkl', 'wb') as f: \n",
    "    pickle.dump(train_target, f)"
   ]
  },
  {
   "cell_type": "code",
   "execution_count": 15,
   "metadata": {},
   "outputs": [],
   "source": [
    "with open(dirname+'val_data.pkl', 'wb') as f: \n",
    "    pickle.dump(val_data, f)"
   ]
  },
  {
   "cell_type": "code",
   "execution_count": 16,
   "metadata": {},
   "outputs": [],
   "source": [
    "with open(dirname+'val_target.pkl', 'wb') as f: \n",
    "    pickle.dump(val_target, f)"
   ]
  }
 ],
 "metadata": {
  "kernelspec": {
   "display_name": "Python [default]",
   "language": "python",
   "name": "python3"
  },
  "language_info": {
   "codemirror_mode": {
    "name": "ipython",
    "version": 3
   },
   "file_extension": ".py",
   "mimetype": "text/x-python",
   "name": "python",
   "nbconvert_exporter": "python",
   "pygments_lexer": "ipython3",
   "version": "3.6.8"
  }
 },
 "nbformat": 4,
 "nbformat_minor": 2
}
