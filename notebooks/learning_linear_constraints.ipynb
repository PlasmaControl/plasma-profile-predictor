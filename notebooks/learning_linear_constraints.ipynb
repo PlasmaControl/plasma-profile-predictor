{
 "cells": [
  {
   "cell_type": "code",
   "execution_count": 1,
   "id": "762b44c8-224d-48e0-8b95-6257120d31cc",
   "metadata": {},
   "outputs": [],
   "source": [
    "import numpy as np\n",
    "import matplotlib.pyplot as plt\n",
    "%matplotlib inline\n",
    "import jax\n",
    "import jax.numpy as jnp"
   ]
  },
  {
   "cell_type": "markdown",
   "id": "f719b116-8c7d-4a88-a1d5-3e5787093a46",
   "metadata": {},
   "source": [
    "# First generate some random data in 2D:"
   ]
  },
  {
   "cell_type": "code",
   "execution_count": 2,
   "id": "8ce49aa0-fff1-4e72-ae56-f961662bd604",
   "metadata": {},
   "outputs": [
    {
     "data": {
      "text/plain": [
       "<matplotlib.collections.PathCollection at 0x7ede5c646d00>"
      ]
     },
     "execution_count": 2,
     "metadata": {},
     "output_type": "execute_result"
    },
    {
     "data": {
      "image/png": "[encoded data removed]",
      "text/plain": [
       "<Figure size 432x288 with 1 Axes>"
      ]
     },
     "metadata": {
      "needs_background": "light"
     },
     "output_type": "display_data"
    }
   ],
   "source": [
    "ndim = 2\n",
    "npts = 100\n",
    "\n",
    "x = np.random.random((ndim, npts))\n",
    "y = np.ones(npts)\n",
    "\n",
    "# mark some of them as -1\n",
    "y[np.where(((x-0.75)**2).sum(axis=0)<0.1)] = -1\n",
    "\n",
    "plt.scatter(x[0], x[1], c=y)"
   ]
  },
  {
   "cell_type": "markdown",
   "id": "59ecd3c9-d0f4-4ca7-9fc2-b5ac6dd882ef",
   "metadata": {},
   "source": [
    "# Define objective function and constraints if needed"
   ]
  },
  {
   "cell_type": "code",
   "execution_count": 40,
   "id": "87274e1f-1f8b-495e-a249-4beb8fca109d",
   "metadata": {},
   "outputs": [
    {
     "data": {
      "text/plain": [
       "DeviceArray(-9.806493, dtype=float32)"
      ]
     },
     "execution_count": 40,
     "metadata": {},
     "output_type": "execute_result"
    }
   ],
   "source": [
    "nplane = 2 # number of hyperplanes to use. nplane=1 is basically SVM\n",
    "\n",
    "def elu(x):\n",
    "    return jnp.where(x>0, x, jnp.exp(x)-1)\n",
    "\n",
    "def fun(w):\n",
    "    w = w.reshape((nplane, ndim+1))\n",
    "    b = w[:,-1]\n",
    "    A = w[:,:-1]\n",
    "    res = A@x - b[:,None]\n",
    "    mask = jnp.all((res<0), axis=0) # where all Ax<b \n",
    "    dist = jnp.min(abs(res), axis=0) # rough idea is to penalize distance to boundary\n",
    "    err = (1-mask)*y*dist - mask*y*dist\n",
    "\n",
    "    return jnp.sum(elu(-err))\n",
    "\n",
    "# constraint to force A to have unit norm columns\n",
    "def con(w):\n",
    "    w = w.reshape((nplane, ndim+1))\n",
    "    b = w[:,-1]\n",
    "    A = w[:,:-1]\n",
    "    norm = jnp.linalg.norm(A, axis=1)\n",
    "    return 1-norm\n",
    "\n",
    "# some JAX tools. As long as the original function is written using jax (ie jnp) you can get gradients/hessians/jacobians easily\n",
    "# These are functions with the same signature as the original function, is call grad(x) to compute gradient\n",
    "grad = jax.grad(fun)\n",
    "hess = jax.hessian(fun)\n",
    "conjac = jax.jacfwd(con)\n",
    "\n",
    "# initial guess\n",
    "A0 = 0.5-np.random.random((nplane*(ndim+1)))\n",
    "\n",
    "# loss value at initial guess\n",
    "fun(A0)"
   ]
  },
  {
   "cell_type": "markdown",
   "id": "4860384a-7164-4d2b-9bc1-57883492fc16",
   "metadata": {},
   "source": [
    "# Optimize (local optimization seems not so good, could also be an issue with loss function)"
   ]
  },
  {
   "cell_type": "code",
   "execution_count": 41,
   "id": "d8bb697b-3671-49a2-8a8e-b2ea7913ab44",
   "metadata": {},
   "outputs": [
    {
     "name": "stderr",
     "output_type": "stream",
     "text": [
      "/home/fouriest/anaconda3/lib/python3.8/site-packages/scipy/optimize/_hessian_update_strategy.py:183: UserWarning: delta_grad == 0.0. Check if the approximated function is linear. If the function is linear better results can be obtained by defining the Hessian as zero instead of using quasi-Newton approximations.\n",
      "  warn('delta_grad == 0.0. Check if the approximated '\n"
     ]
    }
   ],
   "source": [
    "import scipy.optimize\n",
    "\n",
    "out = scipy.optimize.minimize(fun, \n",
    "                              x0=A0.flatten(), \n",
    "                              jac=grad, \n",
    "                              hess=hess, \n",
    "                              method=\"trust-constr\", \n",
    "                              constraints=scipy.optimize.NonlinearConstraint(con, 0, 0, conjac),\n",
    "                             )"
   ]
  },
  {
   "cell_type": "code",
   "execution_count": 42,
   "id": "dd66c871-ff0d-4a94-a5a0-f6a0a61c77c1",
   "metadata": {},
   "outputs": [
    {
     "data": {
      "text/plain": [
       "         cg_niter: 23\n",
       "     cg_stop_cond: 2\n",
       "           constr: [array([ 0.0000000e+00, -1.1920929e-07], dtype=float32)]\n",
       "      constr_nfev: [16]\n",
       "      constr_nhev: [0]\n",
       "      constr_njev: [16]\n",
       "   constr_penalty: 18.625481647054052\n",
       " constr_violation: 1.1920928955078125e-07\n",
       "   execution_time: 1.7210159301757812\n",
       "              fun: DeviceArray(-26.146355, dtype=float32)\n",
       "             grad: array([ 0.0000000e+00,  0.0000000e+00,  0.0000000e+00,  8.9426537e+00,\n",
       "        1.0349184e+01, -1.0641217e-03], dtype=float32)\n",
       "              jac: [array([[0.26519242, 0.96419555, 0.        , 0.        , 0.        ,\n",
       "        0.        ],\n",
       "       [0.        , 0.        , 0.        , 0.6538038 , 0.75666416,\n",
       "        0.        ]], dtype=float32)]\n",
       "  lagrangian_grad: array([ 0.        ,  0.        ,  0.        ,  0.00018776, -0.00016412,\n",
       "       -0.00106412], dtype=float32)\n",
       "          message: '`xtol` termination condition is satisfied.'\n",
       "           method: 'equality_constrained_sqp'\n",
       "             nfev: 16\n",
       "             nhev: 8\n",
       "              nit: 19\n",
       "            niter: 19\n",
       "             njev: 8\n",
       "       optimality: 0.0010641217\n",
       "           status: 2\n",
       "          success: True\n",
       "        tr_radius: DeviceArray(3.7673225e-09, dtype=float32)\n",
       "                v: [array([  0.      , -13.677598])]\n",
       "                x: array([-0.26519242, -0.96419553,  1.25597338, -0.65380391, -0.75666427,\n",
       "       -1.36497855])"
      ]
     },
     "execution_count": 42,
     "metadata": {},
     "output_type": "execute_result"
    }
   ],
   "source": [
    "out"
   ]
  },
  {
   "cell_type": "code",
   "execution_count": 43,
   "id": "7c3a2e29-fa31-41f2-9dc8-73086032e97b",
   "metadata": {},
   "outputs": [],
   "source": [
    "# extract A, b\n",
    "w = out['x'].reshape((nplane, ndim+1))\n",
    "b = w[:,-1]\n",
    "A = w[:,:-1]"
   ]
  },
  {
   "cell_type": "markdown",
   "id": "ac213f0f-dfa7-4afe-90b4-c3ab9e86ebaa",
   "metadata": {},
   "source": [
    "# Plot results"
   ]
  },
  {
   "cell_type": "markdown",
   "id": "7ac8df72-ae9c-410c-9e3b-617e4d218807",
   "metadata": {},
   "source": [
    "boundaries are given by\n",
    "\n",
    "$a_1 x_1 + a_2 x_2 = b$\n",
    "\n",
    "ie, \n",
    "\n",
    "$x_2 = b/a_2 - a_1/a_2 x_1$\n",
    "\n",
    "Plot below will show dividing lines in solid, and shade the region where $a x < b$ for each plane\n"
   ]
  },
  {
   "cell_type": "code",
   "execution_count": 44,
   "id": "a6cf876e-7a5c-44a7-a350-635a11c1e89b",
   "metadata": {},
   "outputs": [
    {
     "data": {
      "text/plain": [
       "(-2.0, 2.0)"
      ]
     },
     "execution_count": 44,
     "metadata": {},
     "output_type": "execute_result"
    },
    {
     "data": {
      "image/png": "[encoded data removed]",
      "text/plain": [
       "<Figure size 432x288 with 1 Axes>"
      ]
     },
     "metadata": {
      "needs_background": "light"
     },
     "output_type": "display_data"
    }
   ],
   "source": [
    "xmin = -2\n",
    "xmax = 2\n",
    "x1 = np.linspace(xmin,xmax,1000)\n",
    "xx1, xx2 = np.meshgrid(x1,x1)\n",
    "\n",
    "for i in range(nplane):\n",
    "    a = A[i]\n",
    "    bb = b[i]\n",
    "    x2 = bb/a[1] - a[0]/a[1]*x1\n",
    "    plt.plot(x1,x2)\n",
    "    if a[1] > 0:\n",
    "        plt.fill_between(x1,x2,-5, alpha=0.5)\n",
    "    else:\n",
    "        plt.fill_between(x1,x2,5, alpha=0.5)\n",
    "\n",
    "plt.scatter(x[0], x[1], c=y)\n",
    "plt.xlim(xmin, xmax)\n",
    "plt.ylim(xmin, xmax)\n"
   ]
  }
 ],
 "metadata": {
  "kernelspec": {
   "display_name": "Python 3",
   "language": "python",
   "name": "python3"
  },
  "language_info": {
   "codemirror_mode": {
    "name": "ipython",
    "version": 3
   },
   "file_extension": ".py",
   "mimetype": "text/x-python",
   "name": "python",
   "nbconvert_exporter": "python",
   "pygments_lexer": "ipython3",
   "version": "3.8.8"
  }
 },
 "nbformat": 4,
 "nbformat_minor": 5
}
