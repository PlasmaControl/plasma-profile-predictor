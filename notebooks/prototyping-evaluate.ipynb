{
 "cells": [
  {
   "cell_type": "code",
   "execution_count": 1,
   "metadata": {},
   "outputs": [
    {
     "name": "stderr",
     "output_type": "stream",
     "text": [
      "Using TensorFlow backend.\n",
      "/home/wconlin/.conda/envs/tfgpu/lib/python3.6/site-packages/tensorflow/python/framework/dtypes.py:458: FutureWarning: Passing (type, 1) or '1type' as a synonym of type is deprecated; in a future version of numpy, it will be understood as (type, (1,)) / '(1,)type'.\n",
      "  _np_qint8 = np.dtype([(\"qint8\", np.int8, 1)])\n",
      "/home/wconlin/.conda/envs/tfgpu/lib/python3.6/site-packages/tensorflow/python/framework/dtypes.py:459: FutureWarning: Passing (type, 1) or '1type' as a synonym of type is deprecated; in a future version of numpy, it will be understood as (type, (1,)) / '(1,)type'.\n",
      "  _np_quint8 = np.dtype([(\"quint8\", np.uint8, 1)])\n",
      "/home/wconlin/.conda/envs/tfgpu/lib/python3.6/site-packages/tensorflow/python/framework/dtypes.py:460: FutureWarning: Passing (type, 1) or '1type' as a synonym of type is deprecated; in a future version of numpy, it will be understood as (type, (1,)) / '(1,)type'.\n",
      "  _np_qint16 = np.dtype([(\"qint16\", np.int16, 1)])\n",
      "/home/wconlin/.conda/envs/tfgpu/lib/python3.6/site-packages/tensorflow/python/framework/dtypes.py:461: FutureWarning: Passing (type, 1) or '1type' as a synonym of type is deprecated; in a future version of numpy, it will be understood as (type, (1,)) / '(1,)type'.\n",
      "  _np_quint16 = np.dtype([(\"quint16\", np.uint16, 1)])\n",
      "/home/wconlin/.conda/envs/tfgpu/lib/python3.6/site-packages/tensorflow/python/framework/dtypes.py:462: FutureWarning: Passing (type, 1) or '1type' as a synonym of type is deprecated; in a future version of numpy, it will be understood as (type, (1,)) / '(1,)type'.\n",
      "  _np_qint32 = np.dtype([(\"qint32\", np.int32, 1)])\n",
      "/home/wconlin/.conda/envs/tfgpu/lib/python3.6/site-packages/tensorflow/python/framework/dtypes.py:465: FutureWarning: Passing (type, 1) or '1type' as a synonym of type is deprecated; in a future version of numpy, it will be understood as (type, (1,)) / '(1,)type'.\n",
      "  np_resource = np.dtype([(\"resource\", np.ubyte, 1)])\n"
     ]
    }
   ],
   "source": [
    "import sys\n",
    "import os\n",
    "import pickle\n",
    "import keras\n",
    "import datetime\n",
    "import matplotlib\n",
    "import copy\n",
    "\n",
    "import numpy as np\n",
    "import tensorflow as tf\n",
    "from keras import backend as K\n",
    "from tqdm import tqdm\n",
    "from matplotlib import pyplot as plt\n",
    "\n",
    "sys.path.append(os.path.abspath('../'))\n",
    "import helpers\n",
    "from helpers.data_generator import process_data, DataGenerator\n",
    "from helpers.normalization import normalize, denormalize, renormalize\n",
    "from helpers.custom_losses import denorm_loss, hinge_mse_loss, percent_baseline_error, baseline_MAE\n",
    "from helpers.custom_losses import percent_correct_sign, baseline_MAE, normed_mse, mean_diff_sum_2, max_diff_sum_2, mean_diff2_sum2, max_diff2_sum2"
   ]
  },
  {
   "cell_type": "code",
   "execution_count": 2,
   "metadata": {},
   "outputs": [],
   "source": [
    "config = tf.ConfigProto(intra_op_parallelism_threads=16,\n",
    "                            inter_op_parallelism_threads=16,\n",
    "                            allow_soft_placement=True,\n",
    "                            device_count={'CPU': 8,\n",
    "                                          'GPU': 0})\n",
    "session = tf.Session(config=config)\n",
    "K.set_session(session)"
   ]
  },
  {
   "cell_type": "code",
   "execution_count": 3,
   "metadata": {
    "jupyter": {
     "source_hidden": true
    }
   },
   "outputs": [],
   "source": [
    "matplotlib_colors = [(0.1215, 0.4667, 0.7058), # blue\n",
    "                     (1.0000, 0.4980, 0.0549), # orange\n",
    "                     (0.1725, 0.6275, 0.1725), # green\n",
    "                     (0.8392, 0.1529, 0.1568), # red\n",
    "                     (0.5804, 0.4039, 0.7412), # violet\n",
    "                     (0.4980, 0.4980, 0.4980), # grey\n",
    "                     (0.0902, 0.7450, 0.8117)] # cyan\n",
    "\n",
    "matlab_colors=[(0.0000, 0.4470, 0.7410), # blue\n",
    "               (0.8500, 0.3250, 0.0980), # reddish orange\n",
    "               (0.9290, 0.6940, 0.1250), # yellow\n",
    "               (0.4940, 0.1840, 0.5560), # purple\n",
    "               (0.4660, 0.6740, 0.1880), # light green\n",
    "               (0.3010, 0.7450, 0.9330), # cyan\n",
    "               (0.6350, 0.0780, 0.1840)] # dark red\n",
    "\n",
    "colorblind_colors = [(0.0000, 0.4500, 0.7000), # blue\n",
    "                     (0.8359, 0.3682, 0.0000), # vermillion\n",
    "                     (0.0000, 0.6000, 0.5000), # bluish green\n",
    "                     (0.9500, 0.9000, 0.2500), # yellow\n",
    "                     (0.3500, 0.7000, 0.9000), # sky blue\n",
    "                     (0.8000, 0.6000, 0.7000), # reddish purple\n",
    "                     (0.9000, 0.6000, 0.0000)] # orange\n",
    "\n",
    "dashes = [(1.0, 0.0, 0.0, 0.0, 0.0, 0.0), # solid\n",
    "          (3.7, 1.6, 0.0, 0.0, 0.0, 0.0), # dashed\n",
    "          (1.0, 1.6, 0.0, 0.0, 0.0, 0.0), # dotted\n",
    "          (6.4, 1.6, 1.0, 1.6, 0.0, 0.0), # dot dash\n",
    "          (3.0, 1.6, 1.0, 1.6, 1.0, 1.6), # dot dot dash\n",
    "          (6.0, 4.0, 0.0, 0.0, 0.0, 0.0), # long dash\n",
    "          (1.0, 1.6, 3.0, 1.6, 3.0, 1.6)] # dash dash dot\n",
    "\n",
    "from matplotlib import rcParams, cycler\n",
    "matplotlib.rcdefaults()\n",
    "rcParams['font.family'] = 'DejaVu Serif'\n",
    "rcParams['mathtext.fontset'] = 'cm'\n",
    "rcParams['font.size'] = 12\n",
    "rcParams['figure.facecolor'] = (1,1,1,1)\n",
    "rcParams['figure.figsize'] = (16,8)\n",
    "rcParams['figure.dpi'] = 96\n",
    "rcParams['axes.spines.top'] = False\n",
    "rcParams['axes.spines.right'] = False\n",
    "rcParams['axes.labelsize'] =  'large'\n",
    "rcParams['axes.titlesize'] = 'x-large'\n",
    "rcParams['lines.linewidth'] = 2.5\n",
    "rcParams['lines.solid_capstyle'] = 'round'\n",
    "rcParams['lines.dash_capstyle'] = 'round'\n",
    "rcParams['lines.dash_joinstyle'] = 'round'\n",
    "rcParams['xtick.labelsize'] = 'large'\n",
    "rcParams['ytick.labelsize'] = 'large'\n",
    "\n",
    "color_cycle = cycler(color=colorblind_colors)\n",
    "dash_cycle = cycler(dashes=dashes)\n",
    "rcParams['axes.prop_cycle'] =  color_cycle"
   ]
  },
  {
   "cell_type": "code",
   "execution_count": 4,
   "metadata": {},
   "outputs": [
    {
     "name": "stdout",
     "output_type": "stream",
     "text": [
      "loaded model: profiles-temp-dens-rotation-itemp-idens_act-target_density-curr_target-pinj-tinj_size_32_25Jan20-16-34_Scenario-1.h5\n",
      "loaded dict: profiles-temp-dens-rotation-itemp-idens_act-target_density-curr_target-pinj-tinj_size_32_25Jan20-16-34_Scenario-1_params.pkl\n",
      "with parameters: dict_keys(['model_kwargs', 'actuator_names', 'input_profile_names', 'target_profile_names', 'scalar_input_names', 'profile_downsample', 'model_type', 'std_activation', 'sample_weighting', 'hinge_weight', 'mse_weight_power', 'mse_weight_edge', 'mse_power', 'batch_size', 'epochs', 'flattop_only', 'predict_deltas', 'raw_data_path', 'process_data', 'processed_filename_base', 'optimizer', 'optimizer_kwargs', 'shuffle_generators', 'pruning_functions', 'normalization_method', 'window_length', 'window_overlap', 'profile_lookback', 'actuator_lookback', 'lookahead', 'sample_step', 'uniform_normalization', 'train_frac', 'val_frac', 'nshots', 'excluded_shots', 'lookbacks', 'sig_names', 'dt', 'normalization_dict', 'profile_length', 'mse_weight_vector', 'runname', 'steps_per_epoch', 'val_steps', 'model_path', 'history', 'history_params'])\n"
     ]
    }
   ],
   "source": [
    "file_path = '/home/jabbate/run_results_12_11/model-conv2d_profiles-dens-temp-q_EFIT01-rotation-press_EFIT01_act-curr_target-pinj-tinj-target_density-bt_targ-dens-temp-q_EFIT01-rotation-press_EFIT01_profLB-0_actLB-6_ftop-True_11Dec19-18-30_Scenario-12.h5'\n",
    "file_path = '/home/jabbate/run_results_1_24/profiles-temp-dens-rotation-itemp-idens_act-target_density-curr_target-pinj-tinj_size_32_25Jan20-16-34_Scenario-1.h5'\n",
    "base_path = os.path.expanduser('~/run_results_01_28')\n",
    "files = [foo for foo in os.listdir(base_path) if foo.endswith('.h5')]\n",
    "\n",
    "model = keras.models.load_model(file_path, compile=False)\n",
    "print('loaded model: ' + file_path.split('/')[-1])\n",
    "file_path = file_path[:-3] + '_params.pkl'\n",
    "with open(file_path, 'rb') as f:\n",
    "    scenario = pickle.load(f, encoding='latin1')\n",
    "print('loaded dict: ' + file_path.split('/')[-1])\n",
    "print('with parameters: ' + str(scenario.keys()))"
   ]
  },
  {
   "cell_type": "code",
   "execution_count": 5,
   "metadata": {},
   "outputs": [
    {
     "name": "stdout",
     "output_type": "stream",
     "text": [
      "Loading\n",
      "Signals: curr_target, dens, density_estimate, drsep_EFIT01, idens, itemp, kappa_EFIT01, li_EFIT01, pinj, q95_EFIT01, rotation, target_density, temp, tinj, triangularity_bot_EFIT01, triangularity_top_EFIT01\n",
      "Number of useable shots:  1098\n",
      "Number of shots used:  1098\n",
      "Total number of timesteps:  122217\n",
      "Shots with Complete NaN: \n",
      "84304 samples total\n",
      "Removing ECH\n",
      "Removed 45638 samples\n",
      "38666 samples remaining\n",
      "Removing timesteps WITHOUT gas feedback\n",
      "Removed 5149 samples\n",
      "33517 samples remaining\n",
      "Removing weird I-coils\n",
      "Removed 7301 samples\n",
      "26216 samples remaining\n",
      "Removing NaN\n",
      "Removed 0 samples\n",
      "26216 samples remaining\n",
      "Removing dudtrip\n",
      "Removed 620 samples\n",
      "25596 samples remaining\n",
      "25596 samples remaining after pruning\n"
     ]
    },
    {
     "name": "stderr",
     "output_type": "stream",
     "text": [
      "Denormalizing: 100%|##########| 25/25 [00:00<00:00, 276.97it/s]\n",
      "Normalizing:  24%|##4       | 6/25 [00:00<00:00, 56.79it/s]"
     ]
    },
    {
     "name": "stdout",
     "output_type": "stream",
     "text": [
      "Total number of samples:  25596\n",
      "Number of training samples:  25596\n",
      "Number of validation samples:  0\n"
     ]
    },
    {
     "name": "stderr",
     "output_type": "stream",
     "text": [
      "Normalizing: 100%|##########| 25/25 [00:00<00:00, 48.53it/s]\n"
     ]
    }
   ],
   "source": [
    "full_data_oath = '/scratch/gpfs/jabbate/full_data/train_data_full.pkl'\n",
    "test_data_path = '/scratch/gpfs/jabbate/full_data/test_data.pkl' \n",
    "traindata, valdata, normalization_dict = helpers.data_generator.process_data(test_data_path,\n",
    "                                                      scenario['sig_names'],\n",
    "                                                      scenario['normalization_method'],\n",
    "                                                      scenario['window_length'],\n",
    "                                                      scenario['window_overlap'],\n",
    "                                                      scenario['lookbacks'],\n",
    "                                                      scenario['lookahead'],\n",
    "                                                      scenario['sample_step'],\n",
    "                                                      scenario['uniform_normalization'],\n",
    "                                                      1, #scenario['train_frac'],\n",
    "                                                      0, #scenario['val_frac'],\n",
    "                                                      scenario['nshots'],\n",
    "                                                      2, #scenario['verbose']\n",
    "                                                      scenario['flattop_only'],\n",
    "                                                      randomize=False,\n",
    "                                                      pruning_functions=scenario['pruning_functions'],\n",
    "                                                      excluded_shots = scenario['excluded_shots'],\n",
    "                                                      delta_sigs = [])\n",
    "traindata = helpers.normalization.renormalize(helpers.normalization.denormalize(traindata.copy(),normalization_dict),scenario['normalization_dict'])\n",
    "train_generator = DataGenerator(traindata,\n",
    "                                scenario['batch_size'],\n",
    "                                scenario['input_profile_names'],\n",
    "                                scenario['actuator_names'],\n",
    "                                scenario['target_profile_names'],\n",
    "                                scenario['scalar_input_names'],\n",
    "                                scenario['lookbacks'],\n",
    "                                scenario['lookahead'],\n",
    "                                scenario['predict_deltas'],\n",
    "                                scenario['profile_downsample'],\n",
    "                                False,\n",
    "                                sample_weights = None) #scenario['shuffle_generators'])"
   ]
  },
  {
   "cell_type": "code",
   "execution_count": 6,
   "metadata": {},
   "outputs": [],
   "source": [
    "optimizer = keras.optimizers.Adam()\n",
    "loss = keras.metrics.mean_squared_error\n",
    "metrics = [keras.metrics.mean_squared_error, normed_mse, mean_diff_sum_2, max_diff_sum_2, mean_diff2_sum2, max_diff2_sum2]"
   ]
  },
  {
   "cell_type": "code",
   "execution_count": 7,
   "metadata": {},
   "outputs": [
    {
     "name": "stdout",
     "output_type": "stream",
     "text": [
      "200/200 [==============================] - 15s 74ms/step\n"
     ]
    }
   ],
   "source": [
    "model.compile(optimizer, loss, metrics)\n",
    "\n",
    "outs = model.evaluate_generator(train_generator, verbose=1, workers=8, use_multiprocessing=True)"
   ]
  },
  {
   "cell_type": "code",
   "execution_count": 8,
   "metadata": {},
   "outputs": [
    {
     "name": "stdout",
     "output_type": "stream",
     "text": [
      "mean_squared_error\n",
      "0.16124793765890325\n",
      "normed_mse\n",
      "596041.1658654101\n",
      "mean_diff_sum_2\n",
      "0.573295808097388\n",
      "max_diff_sum_2\n",
      "0.9568100351247029\n",
      "mean_diff2_sum2\n",
      "0.5288298645155898\n",
      "max_diff2_sum2\n",
      "0.6011426264726663\n"
     ]
    }
   ],
   "source": [
    "evaluation_metrics = {name: val for name,val in zip(model.metrics_names,outs)}\n",
    "for metric in metrics:\n",
    "    name = metric if isinstance(metric,str) else str(metric.__name__)\n",
    "    print(name)\n",
    "    s = 0\n",
    "    for key,val in evaluation_metrics.items():\n",
    "        if name in key:\n",
    "            s += val/len(model.outputs)\n",
    "    print(s)\n",
    "    evaluation_metrics[name] = s\n",
    "    \n",
    "    \n",
    "scenario['evaluation_metrics'] = evaluation_metrics\n",
    "if 'date' not in scenario:\n",
    "    scenario['date'] = datetime.datetime.strptime(scenario['runname'].split('_')[-2],'%d%b%y-%H-%M')"
   ]
  },
  {
   "cell_type": "code",
   "execution_count": 9,
   "metadata": {},
   "outputs": [
    {
     "data": {
      "text/plain": [
       "{'loss': 0.8062396895365709,\n",
       " 'target_temp_loss': 0.043142980272871646,\n",
       " 'target_dens_loss': 0.4216163620622871,\n",
       " 'target_rotation_loss': 0.165042760298017,\n",
       " 'target_itemp_loss': 0.06080081589563058,\n",
       " 'target_idens_loss': 0.11563676976571001,\n",
       " 'target_temp_mean_squared_error': 0.043142980272871646,\n",
       " 'target_temp_normed_mse': 5922.917766427021,\n",
       " 'target_temp_mean_diff_sum_2': 0.5206446685182208,\n",
       " 'target_temp_max_diff_sum_2': 0.961229582608985,\n",
       " 'target_temp_mean_diff2_sum2': 0.4785306710696887,\n",
       " 'target_temp_max_diff2_sum2': 0.5562605042535079,\n",
       " 'target_dens_mean_squared_error': 0.4216163620622871,\n",
       " 'target_dens_normed_mse': 2338002.3527112124,\n",
       " 'target_dens_mean_diff_sum_2': 0.5299075011127273,\n",
       " 'target_dens_max_diff_sum_2': 0.9471023185939822,\n",
       " 'target_dens_mean_diff2_sum2': 0.48586512834956114,\n",
       " 'target_dens_max_diff2_sum2': 0.5781108997989248,\n",
       " 'target_rotation_mean_squared_error': 0.165042760298017,\n",
       " 'target_rotation_normed_mse': 55755.52768714457,\n",
       " 'target_rotation_mean_diff_sum_2': 0.6061251302178269,\n",
       " 'target_rotation_max_diff_sum_2': 0.9547008928758574,\n",
       " 'target_rotation_mean_diff2_sum2': 0.5680376811034233,\n",
       " 'target_rotation_max_diff2_sum2': 0.6272038262809584,\n",
       " 'target_itemp_mean_squared_error': 0.06080081589563058,\n",
       " 'target_itemp_normed_mse': 25800.597498972635,\n",
       " 'target_itemp_mean_diff_sum_2': 0.611313381806484,\n",
       " 'target_itemp_max_diff_sum_2': 0.9491491972012228,\n",
       " 'target_itemp_mean_diff2_sum2': 0.550422999817499,\n",
       " 'target_itemp_max_diff2_sum2': 0.602258030456162,\n",
       " 'target_idens_mean_squared_error': 0.11563676976571001,\n",
       " 'target_idens_normed_mse': 554724.4336632943,\n",
       " 'target_idens_mean_diff_sum_2': 0.5984883588316814,\n",
       " 'target_idens_max_diff_sum_2': 0.9718681843434671,\n",
       " 'target_idens_mean_diff2_sum2': 0.5612928422377769,\n",
       " 'target_idens_max_diff2_sum2': 0.6418798715737783,\n",
       " 'mean_squared_error': 0.16124793765890325,\n",
       " 'normed_mse': 596041.1658654101,\n",
       " 'mean_diff_sum_2': 0.573295808097388,\n",
       " 'max_diff_sum_2': 0.9568100351247029,\n",
       " 'mean_diff2_sum2': 0.5288298645155898,\n",
       " 'max_diff2_sum2': 0.6011426264726663}"
      ]
     },
     "execution_count": 9,
     "metadata": {},
     "output_type": "execute_result"
    }
   ],
   "source": [
    "evaluation_metrics"
   ]
  },
  {
   "cell_type": "code",
   "execution_count": 95,
   "metadata": {},
   "outputs": [
    {
     "name": "stdout",
     "output_type": "stream",
     "text": [
      "0.12949062174808576\n"
     ]
    }
   ],
   "source": [
    "ble = 0\n",
    "for i in range(len(train_generator)):\n",
    "    inputs,targets,_ = train_generator[i]\n",
    "    for val in targets.values():\n",
    "        ble += np.mean(val**2)/len(model.outputs)\n",
    "        \n",
    "ble /= len(train_generator)\n",
    "print(ble)"
   ]
  },
  {
   "cell_type": "code",
   "execution_count": 61,
   "metadata": {},
   "outputs": [],
   "source": [
    "with open(os.path.expanduser('~/plasma-profile-predictor/pca_delta_kernels.pkl'),'rb') as f:\n",
    "    kernels = pickle.load(f, encoding='latin1')"
   ]
  },
  {
   "cell_type": "code",
   "execution_count": 76,
   "metadata": {},
   "outputs": [],
   "source": [
    "inputs,targets,times = train_generator.get_data_by_shot_time([180925],[2050])"
   ]
  },
  {
   "cell_type": "code",
   "execution_count": 77,
   "metadata": {},
   "outputs": [
    {
     "data": {
      "text/plain": [
       "{'shots': array([180925.], dtype=float32),\n",
       " 'times': array([2050.], dtype=float32)}"
      ]
     },
     "execution_count": 77,
     "metadata": {},
     "output_type": "execute_result"
    }
   ],
   "source": [
    "times"
   ]
  },
  {
   "cell_type": "code",
   "execution_count": 78,
   "metadata": {},
   "outputs": [],
   "source": [
    "predictions = model.predict(inputs)\n",
    "predictions[1] = np.dot(predictions[1],kernels['dens'][3])"
   ]
  },
  {
   "cell_type": "code",
   "execution_count": 90,
   "metadata": {},
   "outputs": [
    {
     "data": {
      "image/png": "[encoded data removed]",
      "text/plain": [
       "<Figure size 768x576 with 1 Axes>"
      ]
     },
     "metadata": {},
     "output_type": "display_data"
    }
   ],
   "source": [
    "fig, ax = plt.subplots(figsize=(8,6))\n",
    "psi = np.linspace(0,1,33)\n",
    "\n",
    "dens = helpers.normalization.denormalize_arr(inputs['input_dens'].squeeze(),scenario['normalization_dict']['dens'])\n",
    "true = helpers.normalization.denormalize_arr(targets['target_dens'].squeeze()+inputs['input_dens'].squeeze(),scenario['normalization_dict']['dens'])\n",
    "pred = helpers.normalization.denormalize_arr(predictions[1].squeeze()+inputs['input_dens'].squeeze(),scenario['normalization_dict']['dens'])\n",
    "ax.set_title('DII-D Shot {:.0f}'.format(times['shots'][0]))\n",
    "ax.plot(psi,dens,label='True, time={:.0f} ms'.format(times['times'][0]))\n",
    "ax.plot(psi,true,label='True, time={:.0f} ms'.format(times['times'][0]+200))\n",
    "ax.plot(psi,pred,label='Prediction, time={:.0f} ms'.format(times['times'][0]+200))\n",
    "ax.legend()\n",
    "ax.set_xlabel('$\\psi$', size=20)\n",
    "ax.set_ylabel('$n_e$ $(10^{19}/m^3)$', size=20)\n",
    "\n",
    "# fig.savefig('dens_plot_for_highlight.pdf')\n",
    "# fig.savefig('dens_plot_for_highlight.png')"
   ]
  }
 ],
 "metadata": {
  "kernelspec": {
   "display_name": "Python 3",
   "language": "python",
   "name": "python3"
  },
  "language_info": {
   "codemirror_mode": {
    "name": "ipython",
    "version": 3
   },
   "file_extension": ".py",
   "mimetype": "text/x-python",
   "name": "python",
   "nbconvert_exporter": "python",
   "pygments_lexer": "ipython3",
   "version": "3.6.9"
  }
 },
 "nbformat": 4,
 "nbformat_minor": 4
}
