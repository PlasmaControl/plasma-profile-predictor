{
 "cells": [
  {
   "cell_type": "code",
   "execution_count": 1,
   "id": "394c9624-aa6a-43e7-9781-ec700b43f72e",
   "metadata": {},
   "outputs": [],
   "source": [
    "import os\n",
    "os.environ['CUDA_VISIBLE_DEVICES'] = \"\"\n",
    "import tensorflow as tf\n",
    "import pickle\n",
    "import tensorflow.keras as keras\n",
    "from tensorflow.keras import layers\n",
    "import pandas as pd\n",
    "from tensorflow.keras.layers.experimental import preprocessing\n",
    "#from keras import backend as K\n",
    "import numpy as np\n",
    "#import pandas as pd\n",
    "import sys\n",
    "import time\n",
    "import math\n",
    "sys.path.append(os.path.abspath('../'))\n",
    "import helpers\n",
    "import helpers.data_generator\n",
    "from helpers.data_generator import process_data, DataGenerator\n",
    "from helpers.custom_losses import denorm_loss, hinge_mse_loss\n",
    "from helpers.custom_losses import percent_correct_sign, baseline_MAE\n",
    "# from models.LSTMConv2D import get_model_lstm_conv2d, get_model_simple_lstm\n",
    "# from models.LSTMConv2D import get_model_linear_systems, get_model_conv2d\n",
    "#from utils.callbacks import CyclicLR, TensorBoardWrapper\n",
    "from tensorflow.keras.callbacks import ModelCheckpoint, ReduceLROnPlateau\n",
    "from sklearn.metrics import r2_score\n",
    "from time import strftime, localtime\n",
    "import matplotlib\n",
    "from matplotlib import pyplot as plt\n",
    "import copy\n",
    "%matplotlib inline\n",
    "from helpers.normalization import normalize, denormalize, renormalize\n",
    "from tqdm import tqdm\n",
    "from sklearn import preprocessing\n",
    "from sklearn import decomposition\n",
    "from sklearn.decomposition import PCA\n",
    "from sklearn import linear_model"
   ]
  },
  {
   "cell_type": "code",
   "execution_count": 2,
   "id": "8e6c26bc-684c-479c-b749-a85afc5bc5fa",
   "metadata": {},
   "outputs": [],
   "source": [
    "my_devices = tf.config.experimental.list_physical_devices(device_type='CPU')\n",
    "tf.config.experimental.set_visible_devices(devices= my_devices, device_type='CPU')"
   ]
  },
  {
   "cell_type": "code",
   "execution_count": 3,
   "id": "c8938db4-d7ce-4490-8801-098a9d2dc904",
   "metadata": {},
   "outputs": [],
   "source": [
    "matplotlib_colors = [(0.1215, 0.4667, 0.7058), # blue\n",
    "                     (1.0000, 0.4980, 0.0549), # orange\n",
    "                     (0.1725, 0.6275, 0.1725), # green\n",
    "                     (0.8392, 0.1529, 0.1568), # red\n",
    "                     (0.5804, 0.4039, 0.7412), # violet\n",
    "                     (0.4980, 0.4980, 0.4980), # grey\n",
    "                     (0.0902, 0.7450, 0.8117)] # cyan\n",
    "\n",
    "matlab_colors=[(0.0000, 0.4470, 0.7410), # blue\n",
    "               (0.8500, 0.3250, 0.0980), # reddish orange\n",
    "               (0.9290, 0.6940, 0.1250), # yellow\n",
    "               (0.4940, 0.1840, 0.5560), # purple\n",
    "               (0.4660, 0.6740, 0.1880), # light green\n",
    "               (0.3010, 0.7450, 0.9330), # cyan\n",
    "               (0.6350, 0.0780, 0.1840)] # dark red\n",
    "\n",
    "colorblind_colors = [(0.0000, 0.4500, 0.7000), # blue\n",
    "                     (0.8359, 0.3682, 0.0000), # vermillion\n",
    "                     (0.0000, 0.6000, 0.5000), # bluish green\n",
    "                     (0.9500, 0.9000, 0.2500), # yellow\n",
    "                     (0.3500, 0.7000, 0.9000), # sky blue\n",
    "                     (0.8000, 0.6000, 0.7000), # reddish purple\n",
    "                     (0.9000, 0.6000, 0.0000)] # orange\n",
    "\n",
    "dashes = [(1.0, 0.0, 0.0, 0.0, 0.0, 0.0), # solid\n",
    "          (3.7, 1.6, 0.0, 0.0, 0.0, 0.0), # dashed\n",
    "          (1.0, 1.6, 0.0, 0.0, 0.0, 0.0), # dotted\n",
    "          (6.4, 1.6, 1.0, 1.6, 0.0, 0.0), # dot dash\n",
    "          (3.0, 1.6, 1.0, 1.6, 1.0, 1.6), # dot dot dash\n",
    "          (6.0, 4.0, 0.0, 0.0, 0.0, 0.0), # long dash\n",
    "          (1.0, 1.6, 3.0, 1.6, 3.0, 1.6)] # dash dash dot\n",
    "\n",
    "from matplotlib import rcParams, cycler\n",
    "matplotlib.rcdefaults()\n",
    "rcParams['font.family'] = 'DejaVu Serif'\n",
    "rcParams['mathtext.fontset'] = 'cm'\n",
    "rcParams['font.size'] = 10\n",
    "rcParams['figure.facecolor'] = (1,1,1,1)\n",
    "rcParams['figure.figsize'] = (6,4)\n",
    "rcParams['figure.dpi'] = 141\n",
    "rcParams['axes.spines.top'] = False\n",
    "rcParams['axes.spines.right'] = False\n",
    "rcParams['axes.labelsize'] =  'small'\n",
    "rcParams['axes.titlesize'] = 'medium'\n",
    "rcParams['lines.linewidth'] = 2\n",
    "rcParams['lines.solid_capstyle'] = 'round'\n",
    "rcParams['lines.dash_capstyle'] = 'round'\n",
    "rcParams['lines.dash_joinstyle'] = 'round'\n",
    "rcParams['xtick.labelsize'] = 'x-small'\n",
    "rcParams['ytick.labelsize'] = 'x-small'\n",
    "# rcParams['text.usetex']=True\n",
    "color_cycle = cycler(color=colorblind_colors)\n",
    "dash_cycle = cycler(dashes=dashes)\n",
    "rcParams['axes.prop_cycle'] =  color_cycle\n",
    "\n",
    "labelsize=10\n",
    "ticksize=8"
   ]
  },
  {
   "cell_type": "code",
   "execution_count": 4,
   "id": "26142fd7-50cd-40dc-bf7b-4e32ca39cf81",
   "metadata": {},
   "outputs": [],
   "source": [
    "def convert_attrs(f):\n",
    "    for key in f:\n",
    "        s = f[key]\n",
    "        if isinstance(s, str):\n",
    "            f[key] = np.string_(s)\n",
    "\n",
    "def convert_groups(f):\n",
    "    convert_attrs(f.attrs)\n",
    "    for key in f:\n",
    "        s = f[key]\n",
    "        if isinstance(s,str):\n",
    "            f[key] = np.string_(s)\n",
    "        elif isinstance(s, h5py.Group):\n",
    "            convert_groups(f[key])\n",
    "\n",
    "def convert_h5py(file_in, file_out=None):\n",
    "    if file_out:\n",
    "        shutil.copy(file_in, file_out)\n",
    "    else:\n",
    "        file_out = file_in\n",
    "    f = h5py.File(file_out, 'a')\n",
    "    convert_groups(f)\n",
    "    f.close()"
   ]
  },
  {
   "cell_type": "code",
   "execution_count": 5,
   "id": "79c35314-45e1-4753-ba4c-8aede1694379",
   "metadata": {},
   "outputs": [
    {
     "name": "stdout",
     "output_type": "stream",
     "text": [
      "loaded model: model-conv2d_profiles-dens-temp-q_EFIT01-rotation-press_EFIT01_act-target_density-pinj-tinj-curr_target_15Mar20-03-48_Scenario-265.h5\n",
      "loaded dict: model-conv2d_profiles-dens-temp-q_EFIT01-rotation-press_EFIT01_act-target_density-pinj-tinj-curr_target_15Mar20-03-48_Scenario-265_params.pkl\n",
      "with parameters: dict_keys(['model_type', 'model_kwargs', 'input_profile_names', 'target_profile_names', 'sample_weightin', 'scalar_input_names', 'std_activation', 'batch_size', 'process_data', 'predict_deltas', 'epochs', 'loss_function', 'actuator_names', 'profile_downsample', 'sample_weighting', 'loss_function_kwargs', 'flattop_only', 'raw_data_path', 'invert_q', 'processed_filename_base', 'optimizer', 'optimizer_kwargs', 'shuffle_generators', 'pruning_functions', 'normalization_method', 'window_length', 'window_overlap', 'profile_lookback', 'actuator_lookback', 'lookahead', 'sample_step', 'uniform_normalization', 'train_frac', 'val_frac', 'val_idx', 'nshots', 'excluded_shots', 'lookbacks', 'sig_names', 'dt', 'normalization_dict', 'profile_length', 'date', 'runname', 'steps_per_epoch', 'val_steps', 'model_path', 'history', 'history_params', 'evaluation_metrics'])\n"
     ]
    }
   ],
   "source": [
    "\"\"\"THIS IS THE ONE FROM THE PAPER AS OF 3/5\"\"\"\n",
    "import h5py\n",
    "import shutil\n",
    "import numpy as np\n",
    "import sys\n",
    "\n",
    "file_path='/home/jabbate/run_results_12_11/model-conv2d_profiles-dens-temp-q_EFIT01-rotation-press_EFIT01_act-curr_target-pinj-tinj-target_density-bt_targ-dens-temp-q_EFIT01-rotation-press_EFIT01_profLB-0_actLB-6_ftop-True_11Dec19-18-30_Scenario-12.h5'\n",
    "\n",
    "base_path = os.path.expanduser('/projects/EKOLEMEN/profile_predictor/run_results_03_10/')\n",
    "\"\"\"good but overfit\"\"\"\n",
    "#model_path = 'model-conv2d_profiles-dens-temp-q_EFIT01-rotation-press_EFIT01_act-target_density-pinj-tinj-curr_target_01Mar20-19-50_Scenario-93.h5'\n",
    "\"\"\"good val but looks bad?\"\"\"\n",
    "# model_path = 'model-conv2d_profiles-dens-temp-q_EFIT01-rotation-press_EFIT01_act-target_density-pinj-tinj-curr_target_01Mar20-02-31_Scenario-71.h5'\n",
    "\n",
    "model_path = 'model-conv2d_profiles-dens-temp-q_EFIT01-rotation-press_EFIT01_act-target_density-pinj-tinj-curr_target_15Mar20-03-48_Scenario-265.h5'\n",
    "file_path = base_path + model_path\n",
    "\n",
    "convert_h5py(file_path)\n",
    "\n",
    "model = keras.models.load_model(file_path, compile=False)\n",
    "print('loaded model: ' + file_path.split('/')[-1])\n",
    "file_path = file_path[:-3] + '_params.pkl'\n",
    "with open(file_path, 'rb') as f:\n",
    "    scenario = pickle.load(f, encoding='latin1')\n",
    "print('loaded dict: ' + file_path.split('/')[-1])\n",
    "print('with parameters: ' + str(scenario.keys()))"
   ]
  },
  {
   "cell_type": "code",
   "execution_count": 6,
   "id": "18e9aafe-3b36-4b09-ad78-35b1d73540ab",
   "metadata": {},
   "outputs": [
    {
     "name": "stdout",
     "output_type": "stream",
     "text": [
      "Loading\n",
      "Signals: curr_target, dens, density_estimate, kappa_EFIT01, li_EFIT01, pinj, press_EFIT01, q_EFIT01, rotation, target_density, temp, tinj, triangularity_bot_EFIT01, triangularity_top_EFIT01, volume_EFIT01\n",
      "Number of useable shots:  6378\n",
      "Number of shots used:  6378\n",
      "Total number of timesteps:  671222\n",
      "Shots with Complete NaN: \n",
      "454582 samples total\n",
      "Removing ECH\n",
      "Removed 194246 samples\n",
      "260336 samples remaining\n",
      "Removing timesteps WITHOUT gas feedback\n",
      "Removed 52091 samples\n",
      "208245 samples remaining\n",
      "Removing weird I-coils\n",
      "Removed 46528 samples\n",
      "161717 samples remaining\n",
      "Removing NaN\n",
      "Removed 0 samples\n",
      "161717 samples remaining\n",
      "Removing dudtrip\n",
      "Removed 9571 samples\n",
      "152146 samples remaining\n",
      "152146 samples remaining after pruning\n"
     ]
    },
    {
     "name": "stderr",
     "output_type": "stream",
     "text": [
      "Denormalizing: 100%|##########| 24/24 [00:00<00:00, 440.51it/s]\n",
      "Normalizing:  58%|#####8    | 14/24 [00:00<00:00, 139.71it/s]"
     ]
    },
    {
     "name": "stdout",
     "output_type": "stream",
     "text": [
      "Total number of samples:  152146\n",
      "Number of training samples:  137014\n",
      "Number of validation samples:  15132\n"
     ]
    },
    {
     "name": "stderr",
     "output_type": "stream",
     "text": [
      "Normalizing: 100%|##########| 24/24 [00:00<00:00, 98.69it/s] \n"
     ]
    }
   ],
   "source": [
    "orig_data_path = '/scratch/gpfs/jabbate/full_data/train_data_full.pkl'\n",
    "test_data_path = '/scratch/gpfs/jabbate/full_data_with_error/test_data.pkl' \n",
    "_, traindata, normalization_dict = helpers.data_generator.process_data(orig_data_path,\n",
    "                                                      scenario['sig_names'],\n",
    "                                                      scenario['normalization_method'],\n",
    "                                                      scenario['window_length'],\n",
    "                                                      scenario['window_overlap'],\n",
    "                                                      scenario['lookbacks'],\n",
    "                                                      scenario['lookahead'],\n",
    "                                                      scenario['sample_step'],\n",
    "                                                      scenario['uniform_normalization'],\n",
    "                                                      1, #scenario['train_frac'],\n",
    "                                                      0, #scenario['val_frac'],\n",
    "                                                      scenario['nshots'],\n",
    "                                                      2, #scenario['verbose']\n",
    "                                                      scenario['flattop_only'],\n",
    "                                                      randomize=False,\n",
    "                                                      pruning_functions=scenario['pruning_functions'],\n",
    "                                                      excluded_shots = scenario['excluded_shots'],\n",
    "                                                      delta_sigs = [],\n",
    "                                                      invert_q=scenario.setdefault('invert_q',False),\n",
    "                                                      val_idx = 0)\n",
    "\n",
    "traindata = helpers.normalization.renormalize(helpers.normalization.denormalize(traindata.copy(),normalization_dict),scenario['normalization_dict'])\n"
   ]
  },
  {
   "cell_type": "code",
   "execution_count": 7,
   "id": "818470f5-791c-4209-9c24-920932645e00",
   "metadata": {},
   "outputs": [],
   "source": [
    "traindatafull = copy.deepcopy(traindata)\n",
    "#traindata = {sig:traindatafull[sig][:,-1,::2] for sig in scenario['target_profile_names']}"
   ]
  },
  {
   "cell_type": "code",
   "execution_count": 8,
   "id": "03993c1a-dc4e-4473-8b02-a6ff0dbe6c38",
   "metadata": {},
   "outputs": [],
   "source": [
    "train_generator = DataGenerator(traindata,\n",
    "                                1, #scenario['batch_size'],\n",
    "                                scenario['input_profile_names'],\n",
    "                                scenario['actuator_names'],\n",
    "                                scenario['target_profile_names'],\n",
    "                                scenario['scalar_input_names'],\n",
    "                                scenario['lookbacks'],\n",
    "                                scenario['lookahead'],\n",
    "                                scenario['predict_deltas'],\n",
    "                                scenario['profile_downsample'],\n",
    "                                False,\n",
    "                                sample_weights = 'std') #scenario['shuffle_generators'])"
   ]
  },
  {
   "cell_type": "code",
   "execution_count": 9,
   "id": "ea3b5c22-59ad-4669-a87d-61d02507d3c5",
   "metadata": {},
   "outputs": [],
   "source": [
    "train_generator_batch = DataGenerator(traindatafull,\n",
    "                                128, #scenario['batch_size'],\n",
    "                                scenario['input_profile_names'],\n",
    "                                #all_profiles,\n",
    "                                scenario['actuator_names'],\n",
    "                                scenario['target_profile_names'],\n",
    "                                #all_profiles,\n",
    "                                scenario['scalar_input_names'],\n",
    "                                scenario['lookbacks'],\n",
    "                                scenario['lookahead'],\n",
    "                                scenario['predict_deltas'],\n",
    "                                scenario['profile_downsample'],\n",
    "                                shuffle=False,\n",
    "                                sample_weights = None) #scenario['shuffle_generators'])"
   ]
  },
  {
   "cell_type": "code",
   "execution_count": 10,
   "id": "d3ca65c1-24eb-48c2-9c72-28f0206ea772",
   "metadata": {},
   "outputs": [
    {
     "name": "stdout",
     "output_type": "stream",
     "text": [
      "Loading\n",
      "Signals: curr_target, dens, density_estimate, kappa_EFIT01, li_EFIT01, pinj, press_EFIT01, q_EFIT01, rotation, target_density, temp, tinj, triangularity_bot_EFIT01, triangularity_top_EFIT01, volume_EFIT01\n",
      "Number of useable shots:  1116\n",
      "Number of shots used:  1116\n",
      "Total number of timesteps:  124182\n",
      "Shots with Complete NaN: \n",
      "85701 samples total\n",
      "Removing ECH\n",
      "Removed 46375 samples\n",
      "39326 samples remaining\n",
      "Removing timesteps WITHOUT gas feedback\n",
      "Removed 5176 samples\n",
      "34150 samples remaining\n",
      "Removing weird I-coils\n",
      "Removed 7495 samples\n",
      "26655 samples remaining\n",
      "Removing NaN\n",
      "Removed 0 samples\n",
      "26655 samples remaining\n",
      "Removing dudtrip\n",
      "Removed 620 samples\n",
      "26035 samples remaining\n",
      "26035 samples remaining after pruning\n"
     ]
    },
    {
     "name": "stderr",
     "output_type": "stream",
     "text": [
      "Denormalizing: 100%|##########| 24/24 [00:00<00:00, 283.91it/s]\n",
      "Normalizing:   0%|          | 0/24 [00:00<?, ?it/s]"
     ]
    },
    {
     "name": "stdout",
     "output_type": "stream",
     "text": [
      "Total number of samples:  26035\n",
      "Number of training samples:  23469\n",
      "Number of validation samples:  2566\n"
     ]
    },
    {
     "name": "stderr",
     "output_type": "stream",
     "text": [
      "Normalizing: 100%|##########| 24/24 [00:00<00:00, 57.17it/s]\n"
     ]
    }
   ],
   "source": [
    "\n",
    "orig_data_path = '/scratch/gpfs/jabbate/full_data/train_data_full.pkl'\n",
    "test_data_path = '/scratch/gpfs/jabbate/full_data_with_error/test_data.pkl' \n",
    "testdata, valdata, test_normalization_dict = helpers.data_generator.process_data(test_data_path,\n",
    "                                                      scenario['sig_names'],\n",
    "                                                      scenario['normalization_method'],\n",
    "                                                      scenario['window_length'],\n",
    "                                                      scenario['window_overlap'],\n",
    "                                                      scenario['lookbacks'],\n",
    "                                                      scenario['lookahead'],\n",
    "                                                      scenario['sample_step'],\n",
    "                                                      scenario['uniform_normalization'],\n",
    "                                                      1, #scenario['train_frac'],\n",
    "                                                      0, #scenario['val_frac'],\n",
    "                                                      scenario['nshots'],\n",
    "                                                      2, #scenario['verbose']\n",
    "                                                      scenario['flattop_only'],\n",
    "                                                      randomize=False,\n",
    "                                                      pruning_functions=scenario['pruning_functions'],\n",
    "                                                      excluded_shots = scenario['excluded_shots'],\n",
    "                                                      delta_sigs = [],\n",
    "                                                      invert_q=scenario.setdefault('invert_q',False),\n",
    "                                                      val_idx = 1)\n",
    "\n",
    "testdata = helpers.normalization.renormalize(helpers.normalization.denormalize(testdata.copy(),test_normalization_dict),scenario['normalization_dict'])"
   ]
  },
  {
   "cell_type": "code",
   "execution_count": 11,
   "id": "7cb14b96-2555-449a-954a-1ef20af5d761",
   "metadata": {},
   "outputs": [],
   "source": [
    "testdata = copy.deepcopy(traindata)\n",
    "testdatafull = copy.deepcopy(testdata)"
   ]
  },
  {
   "cell_type": "code",
   "execution_count": 12,
   "id": "e8f4ffbe-ea1e-40eb-af33-3e766554c952",
   "metadata": {},
   "outputs": [
    {
     "name": "stdout",
     "output_type": "stream",
     "text": [
      "0,1,2,3,4,5,6,7,8,9,10,11,12,13,14,15,16,17,18,19,20,21,22,23,24,25,26,27,28,29,30,31,32,33,34,35,36,37,38,39,40,41,42,43,44,45,46,47,48,49,50,51,52,53,54,55,56,57,58,59,60,61,62,63,64,65,66,67,68,69,70,71,72,73,74,75,76,77,78,79,80,81,82,83,84,85,86,87,88,89,90,91,92,93,94,95,96,97,98,99,100,101,102,103,104,105,106,107,108,109,110,111,112,113,114,115,116,117,118,"
     ]
    }
   ],
   "source": [
    "inputs = {sig:[] for sig in scenario['target_profile_names']}\n",
    "baseline = {sig:[] for sig in scenario['target_profile_names']}\n",
    "predictions = {sig:[] for sig in scenario['target_profile_names']}\n",
    "for i in range(len(train_generator_batch)):\n",
    "    print(i,end=',')\n",
    "    sample = train_generator_batch[i]\n",
    "    out = model.predict(sample[0])\n",
    "    for i, sig in enumerate(scenario['target_profile_names']):\n",
    "        inputs[sig].append(sample[0][\"input_\"+sig][:,0,:])\n",
    "        if scenario['predict_deltas']:\n",
    "            baseline[sig].append(sample[1]['target_'+sig])\n",
    "            predictions[sig].append(out[i])\n",
    "        else:\n",
    "            baseline[sig].append(sample[1]['target_'+sig].squeeze() - sample[0]['input_'+sig].squeeze())\n",
    "            predictions[sig].append(out[i].squeeze() - sample[0]['input_'+sig].squeeze())\n",
    "inputs = {sig:np.concatenate(inputs[sig],axis=0) for sig in scenario['target_profile_names']}\n",
    "baseline = {sig:np.concatenate(baseline[sig],axis=0) for sig in scenario['target_profile_names']}\n",
    "predictions = {sig:np.concatenate(predictions[sig],axis=0) for sig in scenario['target_profile_names']}\n",
    "model_err = {sig: (predictions[sig] - baseline[sig]) for sig in scenario['target_profile_names']}\n",
    "model_err_abs = {sig: np.abs(predictions[sig] - baseline[sig]) for sig in scenario['target_profile_names']}"
   ]
  },
  {
   "cell_type": "code",
   "execution_count": 13,
   "id": "c96fe8df-0c57-4586-bf61-edefef743db6",
   "metadata": {},
   "outputs": [
    {
     "name": "stdout",
     "output_type": "stream",
     "text": [
      "0,1,2,3,4,5,6,7,8,9,10,11,12,13,14,15,16,17,18,19,20,21,22,23,24,25,26,27,28,29,30,31,32,33,34,35,36,37,38,39,40,41,42,43,44,45,46,47,48,49,50,51,52,53,54,55,56,57,58,59,60,61,62,63,64,65,66,67,68,69,70,71,72,73,74,75,76,77,78,79,80,81,82,83,84,85,86,87,88,89,90,91,92,93,94,95,96,97,98,99,100,101,102,103,104,105,106,107,108,109,110,111,112,113,114,115,116,117,118,"
     ]
    }
   ],
   "source": [
    "inputs = {sig:[] for sig in scenario['target_profile_names']}\n",
    "for i in range(len(train_generator_batch)):\n",
    "    print(i,end=',')\n",
    "    sample = train_generator_batch[i]\n",
    "    out = model.predict(sample[0])\n",
    "    for i, sig in enumerate(scenario['target_profile_names']):\n",
    "        inputs[sig].append(sample[0][\"input_\"+sig][:,0,:])\n",
    "#print(inputs)\n",
    "#print(inputs2)"
   ]
  },
  {
   "cell_type": "code",
   "execution_count": 14,
   "id": "19a1f7d4-4106-4c06-aabf-7c31ce622ad2",
   "metadata": {},
   "outputs": [
    {
     "name": "stdout",
     "output_type": "stream",
     "text": [
      "dens\n",
      "[[-0.19180018 -0.19223382 -0.19641    ... -0.1098849  -0.03226414\n",
      "  -0.02188841]\n",
      " [-0.04788183 -0.04380316 -0.02780151 ... -0.13400435 -0.06712969\n",
      "  -0.0219873 ]\n",
      " [-0.19918956 -0.19252217 -0.16520602 ... -0.05804759 -0.02607564\n",
      "  -0.00591739]\n",
      " ...\n",
      " [-0.00967059 -0.02349222 -0.03609447 ...  0.00894898 -0.05536464\n",
      "  -0.01310792]\n",
      " [ 0.45544082  0.40400484  0.43631965 ... -0.3612314   0.0998171\n",
      "   0.26035857]\n",
      " [ 0.37330484  0.33624047  0.34815532 ... -0.5923833   0.12958777\n",
      "   0.27777666]]\n",
      "dens  done full\n",
      "dens  abs done full\n",
      "temp\n",
      "[[ 0.03571695  0.04044792  0.04166755 ... -0.05088061 -0.0115652\n",
      "  -0.01501356]\n",
      " [-0.02424086 -0.02715341 -0.02706452 ... -0.08517347 -0.01160568\n",
      "  -0.00417025]\n",
      " [ 0.01665614  0.01156141  0.01163541 ... -0.07048777 -0.02403783\n",
      "  -0.00318289]\n",
      " ...\n",
      " [ 0.07307532  0.06901826  0.06557326 ... -0.00097628 -0.01369146\n",
      "  -0.00068536]\n",
      " [ 0.14601958  0.1615026   0.13167536 ... -0.14613988  0.00684169\n",
      "  -0.04435905]\n",
      " [ 0.02700865  0.0272752  -0.00186205 ... -0.13474742  0.01885219\n",
      "  -0.04300615]]\n",
      "temp  done full\n",
      "temp  abs done full\n",
      "q_EFIT01\n",
      "[[ 1.2080401e-01  1.5861705e-01  3.8389862e-03 ... -4.1768476e-03\n",
      "  -1.5387686e-02  4.4231676e-03]\n",
      " [ 1.2710871e-01  1.4168966e-01 -1.1971593e-03 ... -7.5769443e-03\n",
      "  -2.2227364e-02  6.7830416e-03]\n",
      " [ 9.3928188e-02  1.1152639e-01 -2.3049578e-02 ... -1.7210528e-02\n",
      "  -3.0845804e-02  7.0795626e-03]\n",
      " ...\n",
      " [ 3.3586338e-02  2.6267942e-02  2.9655039e-02 ...  1.4539571e-03\n",
      "   8.8123069e-04  8.1346720e-05]\n",
      " [-3.4947455e-02 -2.4779052e-02 -3.7011057e-02 ... -3.4400080e-03\n",
      "  -1.0337626e-02  2.2541662e-04]\n",
      " [-2.6836991e-03  1.4422983e-02 -1.2795031e-03 ...  5.0270138e-04\n",
      "  -5.1213843e-03 -5.1435619e-04]]\n",
      "q_EFIT01  done full\n",
      "q_EFIT01  abs done full\n",
      "rotation\n",
      "[[-0.18254268 -0.1418634  -0.16671407 ... -0.0358574  -0.0535769\n",
      "  -0.08873157]\n",
      " [ 0.00583592  0.00538203 -0.0111863  ...  0.07113293  0.03616427\n",
      "  -0.01342341]\n",
      " [-0.06921172 -0.12040687 -0.13727073 ...  0.06180003  0.02025474\n",
      "  -0.02691226]\n",
      " ...\n",
      " [-0.00290559 -0.00305417 -0.00311283 ... -0.00166786  0.00090885\n",
      "  -0.00128495]\n",
      " [-0.44918966 -0.21978474 -0.39321232 ... -0.07072335  0.0997068\n",
      "   0.05856641]\n",
      " [-0.26263022 -0.09782839 -0.2706256  ... -0.15989882  0.04714924\n",
      "   0.07110732]]\n",
      "rotation  done full\n",
      "rotation  abs done full\n",
      "press_EFIT01\n",
      "[[-5.1872969e-01 -3.3506829e-01 -3.1389192e-01 ...  3.4220446e-02\n",
      "   1.5933026e-02 -3.6089495e-04]\n",
      " [-2.0140165e-01 -2.7303964e-02  1.0434985e-03 ...  2.6246000e-02\n",
      "   1.2358740e-02 -5.4256245e-04]\n",
      " [-1.5203901e-01 -1.6584158e-02  5.4801404e-03 ...  3.1954285e-02\n",
      "   1.5970491e-02 -5.6850165e-04]\n",
      " ...\n",
      " [ 2.7582888e-02  1.4043111e-02  2.5487304e-02 ...  1.5227012e-03\n",
      "   1.4524572e-03  5.7137012e-04]\n",
      " [-2.4676514e-01 -1.9976306e-01 -1.9732141e-01 ...  1.8483527e-02\n",
      "  -1.2314819e-02 -9.2230625e-03]\n",
      " [-8.5465670e-02 -8.8832140e-02 -6.9412947e-02 ...  7.5553805e-03\n",
      "  -1.9244947e-02 -2.1723658e-04]]\n",
      "press_EFIT01  done full\n",
      "press_EFIT01  abs done full\n",
      "15132\n",
      "33\n",
      "15132\n",
      "33\n",
      "5\n",
      "33\n"
     ]
    }
   ],
   "source": [
    "num_components=5\n",
    "full_pca_fitter_errs = {}\n",
    "full_pca_fitter_errs_abs = {}\n",
    "#full_pca_fitter_preds = {}\n",
    "profiles=scenario['target_profile_names']\n",
    "\n",
    "#delta_pca_fitters = {}\n",
    "\n",
    "for index in range(5):\n",
    "    print((profiles[index]))\n",
    "    comp = str(profiles[index])\n",
    "    print(model_err[comp])\n",
    "    full_err = model_err[comp]\n",
    "    full_err_abs = model_err_abs[comp]\n",
    "    #full_pred = predictions[comp]\n",
    "    full_pca_fitter_errs[comp] = decomposition.IncrementalPCA(n_components=num_components).fit(full_err)\n",
    "    print(profiles[index], ' done full')\n",
    "    full_pca_fitter_errs_abs[comp] = decomposition.IncrementalPCA(n_components=num_components).fit(full_err_abs)\n",
    "    print(profiles[index], ' abs done full')\n",
    "    #full_pca_fitter_preds[comp] = decomposition.IncrementalPCA(n_components=num_components).fit(full_pred)\n",
    "    #print(profiles[index], ' pred done full')\n",
    "print(len(full_err))\n",
    "print(len(full_err[0]))\n",
    "print(len(full_err_abs))\n",
    "print(len(full_err_abs[0]))\n",
    "print(len(full_pca_fitter_errs['dens'].components_))\n",
    "print(len(full_pca_fitter_errs['dens'].components_[0]))"
   ]
  },
  {
   "cell_type": "code",
   "execution_count": 15,
   "id": "44b6a688-ad90-49fd-b0e7-04824521b43d",
   "metadata": {},
   "outputs": [
    {
     "name": "stdout",
     "output_type": "stream",
     "text": [
      "dens  done full\n",
      "temp  done full\n",
      "q_EFIT01  done full\n",
      "rotation  done full\n",
      "press_EFIT01  done full\n"
     ]
    }
   ],
   "source": [
    "num_components=5\n",
    "full_pca_fitters = {}\n",
    "full_profiles = {}\n",
    "#delta_pca_fitters = {}\n",
    "\n",
    "for profile in profiles:\n",
    "    full = np.array([train_generator[i][0]['input_' + profile] for i in range(len(train_generator))]).squeeze()\n",
    "    #delta = np.array([train_generator[i][1]['target_' + profile] for i in range(len(train_generator))]).squeeze()\n",
    "    #print(profile, ' made arrays')\n",
    "    full_profiles[profile] = full\n",
    "    full_pca_fitters[profile] = decomposition.IncrementalPCA(n_components=num_components).fit(full)\n",
    "    print(profile, ' done full')\n",
    "    #delta_pca_fitters[profile] = decomposition.IncrementalPCA(n_components=num_components).fit(delta)\n",
    "    #print(profile, ' done deltas')"
   ]
  },
  {
   "cell_type": "code",
   "execution_count": 16,
   "id": "c3b903a1-dbba-490c-a2ba-9978d31d6305",
   "metadata": {},
   "outputs": [
    {
     "name": "stdout",
     "output_type": "stream",
     "text": [
      "5\n",
      "15132\n",
      "5\n",
      "5\n",
      "15132\n",
      "5\n"
     ]
    }
   ],
   "source": [
    "'''coefficients of PCA decomposition'''\n",
    "# for profile in profiles:\n",
    "#     print(\"Coeffs for \" + profile +\": \" + decomposition.IncrementalPCA(n_components=num_components).fit_transform(full))\n",
    "#     print(\"Coeffs for errors in \" + profile +\": \" + decomposition.IncrementalPCA(n_components=num_components).fit_transform(full_errs))\n",
    "#     print(\"Coeffs for abs errors in \" + profile +\": \" + decomposition.IncrementalPCA(n_components=num_components).fit_transform(full_errs_abs))\n",
    "\n",
    "# for profile in profiles:\n",
    "#     for sig in scenario['target_profile_names']:   \n",
    "#         print(full_pca_fitters[profile].transform(traindata[sig]))\n",
    "\n",
    "coeff_og = {}\n",
    "coeff_err = {}\n",
    "coeff_err_abs = {}\n",
    "for profile in profiles:\n",
    "    full = np.array([train_generator[i][0]['input_' + profile] for i in range(len(train_generator))]).squeeze()\n",
    "    coeff_og[profile+\"\"] = decomposition.IncrementalPCA(n_components=5).fit_transform(full)\n",
    "    coeff_err[profile+\"\"] = decomposition.IncrementalPCA(n_components=5).fit_transform(model_err[profile])\n",
    "    coeff_err_abs[profile+\"\"] = decomposition.IncrementalPCA(n_components=5).fit_transform(model_err_abs[profile])\n",
    "\n",
    "print(len(coeff_og))\n",
    "print(len(coeff_og['dens']))\n",
    "print(len(coeff_og['dens'][0]))\n",
    "print(len(coeff_err))\n",
    "print(len(coeff_err['dens']))\n",
    "print(len(coeff_err['dens'][0]))"
   ]
  },
  {
   "cell_type": "code",
   "execution_count": 20,
   "id": "8610cbab-fc78-466c-ac2c-bee748f63a0d",
   "metadata": {},
   "outputs": [
    {
     "name": "stdout",
     "output_type": "stream",
     "text": [
      "15132\n",
      "5\n",
      "15132\n",
      "5\n",
      "15132\n",
      "2\n",
      "15132\n",
      "5\n"
     ]
    }
   ],
   "source": [
    "'''chop off last three pca modes of the pressure profile'''\n",
    "#coeff_og = np.concatenate((coeff_og[profiles[0]], coeff_og[profiles[1]], coeff_og[profiles[2]], coeff_og[profiles[3]], coeff_og[profiles[4]][:, 0:2]), axis=1)\n",
    "coeff_og_sliced = coeff_og.copy()\n",
    "coeff_og_sliced['press_EFIT01'] = coeff_og['press_EFIT01'][:, 0:2]\n",
    "coeff_err_sliced = coeff_err.copy()\n",
    "coeff_err_sliced['press_EFIT01'] = coeff_err['press_EFIT01'][:, 0:2]\n",
    "#print(coeff_og['press_EFIT01'])\n",
    "print(len(coeff_og['press_EFIT01']))\n",
    "print(len(coeff_og['press_EFIT01'][0]))\n",
    "print(len(coeff_og['temp']))\n",
    "print(len(coeff_og['temp'][0]))\n",
    "print(len(coeff_og_sliced['press_EFIT01']))\n",
    "print(len(coeff_og_sliced['press_EFIT01'][0]))\n",
    "print(len(coeff_og_sliced['temp']))\n",
    "print(len(coeff_og_sliced['temp'][0]))"
   ]
  },
  {
   "cell_type": "code",
   "execution_count": 17,
   "id": "aeb86672-0104-4472-8035-6a3a43abfe58",
   "metadata": {},
   "outputs": [],
   "source": [
    "'DNN using full profiles to predict model errs'\n",
    "dataset = []\n",
    "counter = 0\n",
    "    \n",
    "#dataset: 33 profs for dens, 33 profs for temp, etc. Then 33 errs for dens, etc. \n",
    "#15132x330 (165 for inputs, 165 for errors)\n",
    "for profile in profiles:\n",
    "    if counter == 0:\n",
    "        dataset = full_profiles[profile+\"\"]\n",
    "    else:\n",
    "        dataset = np.concatenate((dataset, full_profiles[profile+\"\"]), axis=1)\n",
    "    counter +=1\n",
    "    \n",
    "for profile in profiles:\n",
    "    dataset = np.concatenate((dataset, np.abs(model_err[profile+\"\"])), axis=1)\n",
    "\n",
    "ds = pd.DataFrame(dataset)\n",
    "#print(ds)\n",
    "\n",
    "train_dataset = ds.sample(frac=0.9, random_state=0)\n",
    "test_dataset = ds.drop(train_dataset.index)\n",
    "\n",
    "train_features = train_dataset.copy()\n",
    "#print(train_features)\n",
    "#print(type(train_features))\n",
    "test_features = test_dataset.copy()\n",
    "\n",
    "#normalizer = preprocessing.Normalization(axis=-1)\n",
    "#normalizer.adapt(train_features.to_numpy())"
   ]
  },
  {
   "cell_type": "code",
   "execution_count": 18,
   "id": "ae4e7651-43bf-46f9-a086-9a0f82cc3f7f",
   "metadata": {},
   "outputs": [],
   "source": [
    "import tensorflow as tf\n",
    "import pickle\n",
    "import tensorflow.keras as keras\n",
    "from tensorflow.keras import layers\n",
    "import pandas as pd\n",
    "from tensorflow.keras.layers.experimental import preprocessing\n",
    "\n",
    "def custom_loss_function(y_actual, y_predicted):\n",
    "    err = y_actual-y_predicted\n",
    "    is_neg_err = tf.abs(err) < 0\n",
    "    neg_err_loss = 0.1 * err**2\n",
    "    pos_err_loss = err**2\n",
    "\n",
    "    return tf.where(is_neg_err, neg_err_loss, pos_err_loss)"
   ]
  },
  {
   "cell_type": "code",
   "execution_count": 19,
   "id": "8eb1016f-60db-4ef8-81ca-456748940269",
   "metadata": {},
   "outputs": [],
   "source": [
    "callback = tf.keras.callbacks.EarlyStopping(monitor='loss', min_delta=0.0001, patience=5)\n",
    "reduce_lr = tf.keras.callbacks.ReduceLROnPlateau(monitor='val_loss', factor=0.7, patience=3)"
   ]
  },
  {
   "cell_type": "code",
   "execution_count": 20,
   "id": "5e7fdf7c-9053-4d8b-96eb-cd240d174968",
   "metadata": {},
   "outputs": [],
   "source": [
    "'''DNN'''\n",
    "def build_and_compile_model():\n",
    "    model = tf.keras.Sequential()\n",
    "    model.add(tf.keras.layers.Flatten(input_shape =(165,)))\n",
    "    model.add(tf.keras.layers.Dense(165, activation='relu'))\n",
    "    model.add(tf.keras.layers.Dense(330, activation='relu'))\n",
    "    model.add(tf.keras.layers.Dense(660, activation='relu'))\n",
    "    model.add(tf.keras.layers.Dense(330, activation='relu'))\n",
    "    model.add(tf.keras.layers.Dense(165, activation='relu'))\n",
    "        \n",
    "    model.compile(loss=custom_loss_function,optimizer=tf.keras.optimizers.Adam(0.001))\n",
    "\n",
    "    return model\n",
    "\n",
    "dnn_err_model = build_and_compile_model()\n",
    "err_model = dnn_err_model.fit(train_features.to_numpy()[:, 0:165], \n",
    "                              train_features.to_numpy()[:, 165:], \n",
    "                              validation_split=1.0/9, \n",
    "                              verbose=0, \n",
    "                              epochs=100, callbacks=[callback,reduce_lr])"
   ]
  },
  {
   "cell_type": "code",
   "execution_count": 21,
   "id": "87ef952f-8c25-4e32-8faa-ada22d118cb0",
   "metadata": {},
   "outputs": [
    {
     "data": {
      "text/html": [
       "<div>\n",
       "<style scoped>\n",
       "    .dataframe tbody tr th:only-of-type {\n",
       "        vertical-align: middle;\n",
       "    }\n",
       "\n",
       "    .dataframe tbody tr th {\n",
       "        vertical-align: top;\n",
       "    }\n",
       "\n",
       "    .dataframe thead th {\n",
       "        text-align: right;\n",
       "    }\n",
       "</style>\n",
       "<table border=\"1\" class=\"dataframe\">\n",
       "  <thead>\n",
       "    <tr style=\"text-align: right;\">\n",
       "      <th></th>\n",
       "      <th>Custom loss [model_err]</th>\n",
       "    </tr>\n",
       "  </thead>\n",
       "  <tbody>\n",
       "    <tr>\n",
       "      <th>165.330.330.165.100e.0.5lr</th>\n",
       "      <td>0.004791</td>\n",
       "    </tr>\n",
       "  </tbody>\n",
       "</table>\n",
       "</div>"
      ],
      "text/plain": [
       "                            Custom loss [model_err]\n",
       "165.330.330.165.100e.0.5lr                 0.004791"
      ]
     },
     "execution_count": 21,
     "metadata": {},
     "output_type": "execute_result"
    }
   ],
   "source": [
    "test_results = {}\n",
    "test_results['165.330.330.165.100e.0.5lr'] = dnn_err_model.evaluate(\n",
    "    test_features.to_numpy()[:, 0:165], test_features.to_numpy()[:,165:],\n",
    "    verbose=0)\n",
    "\n",
    "pd.DataFrame(test_results, index=['Custom loss [model_err]']).T"
   ]
  },
  {
   "cell_type": "code",
   "execution_count": 22,
   "id": "d17ea709-1b0c-44ff-8805-b78193e53e72",
   "metadata": {},
   "outputs": [
    {
     "name": "stdout",
     "output_type": "stream",
     "text": [
      "1513\n",
      "165\n",
      "[[0.03968798 0.03877842 0.02780369 ... 0.00057935 0.         0.        ]\n",
      " [0.07360458 0.0696272  0.06512887 ... 0.00487205 0.         0.        ]\n",
      " [0.08587139 0.08199096 0.07435911 ... 0.00606814 0.         0.        ]\n",
      " ...\n",
      " [0.04258873 0.04278974 0.04308026 ... 0.00275094 0.         0.        ]\n",
      " [0.0353108  0.0347712  0.03660173 ... 0.00386951 0.         0.        ]\n",
      " [0.02298094 0.02314629 0.025725   ... 0.00306186 0.         0.        ]]\n"
     ]
    }
   ],
   "source": [
    "y = dnn_err_model.predict(test_features.to_numpy()[:, 0:165])\n",
    "print(len(y))\n",
    "print(len(y[0]))\n",
    "print(y)"
   ]
  },
  {
   "cell_type": "code",
   "execution_count": 23,
   "id": "fb87c6fc-5b45-48f4-8440-2130d8e4649d",
   "metadata": {},
   "outputs": [
    {
     "name": "stdout",
     "output_type": "stream",
     "text": [
      "dens  pred done full\n",
      "dens  actual done full\n",
      "dens  input done full\n",
      "temp  pred done full\n",
      "temp  actual done full\n",
      "temp  input done full\n",
      "q_EFIT01  pred done full\n",
      "q_EFIT01  actual done full\n",
      "q_EFIT01  input done full\n",
      "rotation  pred done full\n",
      "rotation  actual done full\n",
      "rotation  input done full\n",
      "press_EFIT01  pred done full\n",
      "press_EFIT01  actual done full\n",
      "press_EFIT01  input done full\n",
      "[[ 0.16770737  0.16925937  0.16261453  0.16292059  0.1676213   0.17009881\n",
      "   0.17693713  0.17867002  0.18017453  0.18133719  0.18288577  0.18232754\n",
      "   0.18223898  0.18271007  0.18298345  0.18169239  0.18453301  0.18376242\n",
      "   0.18559496  0.18521616  0.18724405  0.18679912  0.18890009  0.18428277\n",
      "   0.18427832  0.18623334  0.18685919  0.18511187  0.18930725  0.18302748\n",
      "   0.13818101  0.04188183  0.02598705]\n",
      " [ 0.28704441  0.28090131  0.25580426  0.23705466  0.23086943  0.21296008\n",
      "   0.19711089  0.18350716  0.16667039  0.14965332  0.12441622  0.10284533\n",
      "   0.07518547  0.05014618  0.01548794 -0.0096086  -0.02725979 -0.05652345\n",
      "  -0.08135218 -0.10002286 -0.12244455 -0.13868718 -0.15898862 -0.17689674\n",
      "  -0.19581232 -0.20744953 -0.22325031 -0.23741119 -0.251864   -0.24175924\n",
      "  -0.16518009 -0.08016408 -0.08138728]\n",
      " [ 0.28120637  0.25205989  0.19657257  0.15452242  0.10670179  0.06932106\n",
      "   0.00249425 -0.0396695  -0.08413417 -0.10539337 -0.14355988 -0.15950989\n",
      "  -0.16834467 -0.16183364 -0.16422861 -0.15088144 -0.15317103 -0.13637639\n",
      "  -0.11412674 -0.09740189 -0.08551395 -0.06850023 -0.0524223  -0.02749807\n",
      "  -0.0042898   0.01483995  0.05759657  0.10195851  0.1463513   0.23252903\n",
      "   0.31083398  0.48634946  0.3254538 ]\n",
      " [-0.22245399 -0.21069496 -0.16413925 -0.12835148 -0.07992295 -0.03721986\n",
      "   0.01894278  0.06264742  0.10962143  0.11428676  0.14914623  0.17196517\n",
      "   0.17371622  0.18156525  0.1536802   0.1423495   0.11707253  0.09000562\n",
      "   0.05208732  0.02039934 -0.00201172 -0.05367371 -0.07625755 -0.09681548\n",
      "  -0.1407175  -0.16644843 -0.17520756 -0.18576002 -0.19648481 -0.03400555\n",
      "   0.25312325  0.52026397  0.36946063]\n",
      " [-0.27124161 -0.1855287  -0.12261583 -0.02147862  0.03244916  0.09819629\n",
      "   0.1738609   0.24091601  0.20620146  0.20961189  0.22704092  0.15379563\n",
      "   0.068585   -0.00899162 -0.0433316  -0.14732561 -0.15355914 -0.22440621\n",
      "  -0.25494444 -0.24822298 -0.2340991  -0.17010049 -0.12672681 -0.11515937\n",
      "  -0.05386946  0.038771    0.11187766  0.18980243  0.25788379  0.36438172\n",
      "   0.03824468 -0.11654207 -0.08152403]]\n"
     ]
    }
   ],
   "source": [
    "num_components=5\n",
    "full_pca_fitter_preds = {}\n",
    "full_pca_fitter_actual = {}\n",
    "full_pca_fitter_inputs = {}\n",
    "profiles=scenario['target_profile_names']\n",
    "indices = [0,33,66,99,132]\n",
    "\n",
    "\n",
    "for index in range(5):\n",
    "    i = indices[index]\n",
    "    full_pred = y[:,i:i+33]\n",
    "    #pca for predicted errs made by DNN using test set inputs\n",
    "    full_pca_fitter_preds[profiles[index]] = decomposition.IncrementalPCA(n_components=num_components).fit(full_pred)\n",
    "    print(profiles[index], ' pred done full')\n",
    "    #pca for actual errs in DNN test set\n",
    "    full_actual = test_features.to_numpy()[:,165+i:165+i+33]\n",
    "    full_pca_fitter_actual[profiles[index]] = decomposition.IncrementalPCA(n_components=num_components).fit(full_actual)\n",
    "    print(profiles[index], ' actual done full')\n",
    "    full_input = test_features.to_numpy()[:,i:i+33]\n",
    "    #pca for predicted errs made by DNN using test set inputs\n",
    "    full_pca_fitter_inputs[profiles[index]] = decomposition.IncrementalPCA(n_components=num_components).fit(full_input)\n",
    "    print(profiles[index], ' input done full')\n",
    "print(full_pca_fitter_preds['dens'].components_)"
   ]
  },
  {
   "cell_type": "code",
   "execution_count": 78,
   "id": "38080015-f346-4ddb-baea-8061ab2ad826",
   "metadata": {},
   "outputs": [
    {
     "name": "stdout",
     "output_type": "stream",
     "text": [
      "33\n",
      "33\n",
      "[[0.01592827 0.         0.         ... 0.         0.         0.        ]\n",
      " [0.         0.01515385 0.         ... 0.         0.         0.        ]\n",
      " [0.         0.         0.01349017 ... 0.         0.         0.        ]\n",
      " ...\n",
      " [0.         0.         0.         ... 0.01120767 0.         0.        ]\n",
      " [0.         0.         0.         ... 0.         0.0081489  0.        ]\n",
      " [0.         0.         0.         ... 0.         0.         0.00399199]]\n"
     ]
    }
   ],
   "source": [
    "cov = np.zeros((33,33))\n",
    "indices = [0,33,66,99,132]\n",
    "j = indices[i]\n",
    "for k in range(33):\n",
    "    cov[j,j] += (sum(np.square(y[:,j+k])))/1513\n",
    "print(len(cov))\n",
    "print(len(cov[0]))\n",
    "print(cov)"
   ]
  },
  {
   "cell_type": "code",
   "execution_count": 112,
   "id": "79bf68ce-59db-431f-8f4d-edad69b40a74",
   "metadata": {},
   "outputs": [
    {
     "name": "stdout",
     "output_type": "stream",
     "text": [
      "dens: \n",
      "[[ 1.12567708e-02 -6.05462862e-05  7.69206933e-04 -1.30706741e-03\n",
      "  -1.62623525e-05]\n",
      " [-6.05462862e-05  1.22031102e-02  8.76795392e-04 -4.00232957e-04\n",
      "  -1.35365344e-03]\n",
      " [ 7.69206933e-04  8.76795392e-04  9.53867161e-03 -2.01696062e-03\n",
      "   4.42631268e-04]\n",
      " [-1.30706741e-03 -4.00232957e-04 -2.01696062e-03  1.05162293e-02\n",
      "   6.29378882e-04]\n",
      " [-1.62623525e-05 -1.35365344e-03  4.42631268e-04  6.29378882e-04\n",
      "   1.14382937e-02]]\n",
      "sharpness for 1st PCA mode: 0.10609793010075314\n",
      "sharpness for 2nd PCA mode: 0.11046768864357835\n",
      "C_v: [1.462407272513351e-16]\n",
      "temp: \n",
      "[[ 1.57547081e-02  2.39352597e-03  1.70581690e-03 -1.03490316e-03\n",
      "   1.21923038e-03]\n",
      " [ 2.39352597e-03  1.66592774e-02  1.09139226e-03 -1.41650982e-03\n",
      "   1.46730343e-03]\n",
      " [ 1.70581690e-03  1.09139226e-03  1.48928252e-02 -1.26322945e-05\n",
      "   1.67166141e-03]\n",
      " [-1.03490316e-03 -1.41650982e-03 -1.26322945e-05  1.52901840e-02\n",
      "  -1.56918504e-04]\n",
      " [ 1.21923038e-03  1.46730343e-03  1.67166141e-03 -1.56918504e-04\n",
      "   1.53520588e-02]]\n",
      "sharpness for 1st PCA mode: 0.12551775992680497\n",
      "sharpness for 2nd PCA mode: 0.12907082329934172\n",
      "C_v: [1.462407272513351e-16, 0.15785583727632863]\n",
      "q_EFIT01: \n",
      "[[ 0.02533007  0.00592119  0.00402107  0.00019262  0.00101612]\n",
      " [ 0.00592119  0.01864393  0.00457564  0.00182021  0.00112698]\n",
      " [ 0.00402107  0.00457564  0.02082652  0.00655173  0.0014944 ]\n",
      " [ 0.00019262  0.00182021  0.00655173  0.02542562 -0.00131806]\n",
      " [ 0.00101612  0.00112698  0.0014944  -0.00131806  0.0211923 ]]\n",
      "sharpness for 1st PCA mode: 0.15915422187307793\n",
      "sharpness for 2nd PCA mode: 0.13654278474338666\n",
      "C_v: [1.462407272513351e-16, 0.15785583727632863, 0.48187924014588485]\n",
      "rotation: \n",
      "[[ 0.05137702  0.01868671  0.00898412 -0.00625776  0.00356803]\n",
      " [ 0.01868671  0.03369105  0.01214954 -0.00820344  0.00523257]\n",
      " [ 0.00898412  0.01214954  0.02521795 -0.01261566  0.0059494 ]\n",
      " [-0.00625776 -0.00820344 -0.01261566  0.03136992 -0.01288929]\n",
      " [ 0.00356803  0.00523257  0.0059494  -0.01288929  0.03512837]]\n",
      "sharpness for 1st PCA mode: 0.22666500489534372\n",
      "sharpness for 2nd PCA mode: 0.18355121726572485\n",
      "C_v: [1.462407272513351e-16, 0.15785583727632863, 0.48187924014588485, 0.7080027308406266]\n",
      "press_EFIT01: \n",
      "[[ 0.06897005  0.02662038  0.01283259  0.0026892   0.00219604]\n",
      " [ 0.02662038  0.04579103  0.02124967  0.00633443  0.00053747]\n",
      " [ 0.01283259  0.02124967  0.05660748  0.02817875  0.00388075]\n",
      " [ 0.0026892   0.00633443  0.02817875  0.07411748 -0.01685677]\n",
      " [ 0.00219604  0.00053747  0.00388075 -0.01685677  0.08153644]]\n",
      "sharpness for 1st PCA mode: 0.26262149149004393\n",
      "sharpness for 2nd PCA mode: 0.2139883826897161\n",
      "C_v: [1.462407272513351e-16, 0.15785583727632863, 0.48187924014588485, 0.7080027308406266, 0.6080996931027829]\n"
     ]
    }
   ],
   "source": [
    "'''variances of the pca coeffs of the profiles of the predictions'''\n",
    "#sigma = uncertainty is dif for dif pca modes. For c_v calculation, is mu val dependent on PCA mode too?\n",
    "#mu is mean of the uncertainties-- mean of the 5 diagonal entries\n",
    "indices = [0,33,66,99,132]\n",
    "cov = np.zeros((33,33))\n",
    "A = []\n",
    "var = []\n",
    "c_v = [] #coefficients of variation for all 5 profiles\n",
    "mu = 0\n",
    "sigma_mu = 0\n",
    "for i in range(5):\n",
    "    j = indices[i]\n",
    "    for k in range(33):\n",
    "        cov[k,k] += (sum(np.square(y[:,j+k])))/1513\n",
    "    A = full_pca_fitter_preds[profiles[i]].components_\n",
    "    #5x5-- just use the diagonals\n",
    "    var = A @ cov @ np.transpose(A)\n",
    "    for a in range(5):\n",
    "        mu += var[i,i]**0.5\n",
    "    mu = mu/5\n",
    "    for b in range(5):\n",
    "        sigma_mu += (var[i,i]**0.5-mu)**2\n",
    "    sigma_mu = (sigma_mu/4)**0.5\n",
    "    c_v.append(sigma_mu/mu)\n",
    "    print(profiles[i] + \": \")\n",
    "    print(var)\n",
    "    print(\"sharpness for 1st PCA mode: \" + str(var[0,0]**0.5)) #aka uncertainty?\n",
    "    print(\"sharpness for 2nd PCA mode: \" + str(var[1,1]**0.5))\n",
    "    print(\"C_v: \" + str(c_v))"
   ]
  },
  {
   "cell_type": "code",
   "execution_count": 48,
   "id": "1c7c2f10-d76c-4a7d-bad2-3ad00721d3ff",
   "metadata": {},
   "outputs": [
    {
     "name": "stdout",
     "output_type": "stream",
     "text": [
      "5\n",
      "33\n"
     ]
    }
   ],
   "source": [
    "print(len(full_pca_fitters['dens'].components_))\n",
    "print(len(full_pca_fitters['dens'].components_[0]))"
   ]
  },
  {
   "cell_type": "code",
   "execution_count": 60,
   "id": "6b93ee2f-b5b7-44bd-932f-e84764d40b3a",
   "metadata": {},
   "outputs": [
    {
     "name": "stdout",
     "output_type": "stream",
     "text": [
      "[-0.04574277 -0.04570009 -0.01668436 -0.01433894 -0.02065968 -0.02016994\n",
      " -0.01472136 -0.01217842 -0.0114495  -0.01071107 -0.00951693 -0.00489487\n",
      "  0.00029929  0.00435958  0.0059801   0.00782567  0.0110164   0.01194995\n",
      "  0.01499997  0.01720603  0.01918692  0.02184255  0.02099373  0.02102428\n",
      "  0.02032432  0.02183346  0.02284872  0.01974023  0.00847447 -0.01179822\n",
      " -0.02326471  0.0161544   0.02193434]\n"
     ]
    }
   ],
   "source": [
    "# A = full_pca_fitter_errs['dens'].components_ - full_pca_fitters['dens'].components_\n",
    "# print(A)\n",
    "print(predictions-actual)"
   ]
  },
  {
   "cell_type": "code",
   "execution_count": 25,
   "id": "aab27826-1ecd-4ba9-923b-6dd7ca28b017",
   "metadata": {},
   "outputs": [
    {
     "data": {
      "image/png": "[encoded data removed]",
      "text/plain": [
       "<Figure size 846x564 with 1 Axes>"
      ]
     },
     "metadata": {},
     "output_type": "display_data"
    }
   ],
   "source": [
    "#DO FOR EVERY PROFILE!!\n",
    "#should we be using absolute errors/uncertainties so that CDF plot is [0,1]?\n",
    "'''calibration curves'''\n",
    "#first row is 1st PCA mode\n",
    "from matplotlib import pyplot\n",
    "from numpy.random import normal\n",
    "from numpy import hstack\n",
    "import statsmodels\n",
    "from statsmodels.distributions.empirical_distribution import ECDF\n",
    "std_errs = []\n",
    "indices = [0,33,66,99,132]\n",
    "predictions = full_pca_fitter_preds['dens'].components_[0,:]\n",
    "actual = full_pca_fitter_actual['dens'].components_[0,:]\n",
    "uncertainty = 0.10609793010075314 #uncertainty/sharpness from before\n",
    "std_errs = (predictions-actual)/uncertainty\n",
    "ecdf = ECDF(std_errs)\n",
    "pyplot.plot(ecdf.x, ecdf.y)\n",
    "pyplot.plot([0, 1], [0, 1]) #works for plotting diagonal\n",
    "pyplot.show()"
   ]
  },
  {
   "cell_type": "code",
   "execution_count": 31,
   "id": "55e9bd9f-903f-4646-999d-36897fe3e316",
   "metadata": {},
   "outputs": [
    {
     "data": {
      "text/plain": [
       "(array([3., 2., 1., 1., 2., 4., 1., 1., 9., 9.]),\n",
       " array([-0.03685121, -0.03133138, -0.02581154, -0.02029171, -0.01477188,\n",
       "        -0.00925204, -0.00373221,  0.00178762,  0.00730746,  0.01282729,\n",
       "         0.01834712]),\n",
       " <BarContainer object of 10 artists>)"
      ]
     },
     "execution_count": 31,
     "metadata": {},
     "output_type": "execute_result"
    },
    {
     "data": {
      "image/png": "[encoded data removed]",
      "text/plain": [
       "<Figure size 846x564 with 1 Axes>"
      ]
     },
     "metadata": {},
     "output_type": "display_data"
    }
   ],
   "source": [
    "'''uncertainty distribution graph'''\n",
    "#first pca mode for dens\n",
    "plt.hist(full_pca_fitter_preds['dens'].components_[0,:]-full_pca_fitter_actual['dens'].components_[0,:])"
   ]
  },
  {
   "cell_type": "code",
   "execution_count": 42,
   "id": "c427de7b-dab5-4f73-8e8d-48b1547e5e9e",
   "metadata": {},
   "outputs": [
    {
     "data": {
      "text/plain": [
       "<ErrorbarContainer object of 3 artists>"
      ]
     },
     "execution_count": 42,
     "metadata": {},
     "output_type": "execute_result"
    },
    {
     "data": {
      "image/png": "[encoded data removed]",
      "text/plain": [
       "<Figure size 846x564 with 1 Axes>"
      ]
     },
     "metadata": {},
     "output_type": "display_data"
    }
   ],
   "source": [
    "'''error bar plots'''\n",
    "plt.plot(full_pca_fitter_inputs['dens'].components_[0,:],full_pca_fitter_actual['dens'].components_[0,:])\n",
    "plt.errorbar(full_pca_fitter_inputs['dens'].components_[0,:],full_pca_fitter_preds['dens'].components_[0,:],yerr=0.10609793010075314**2, fmt=\"o\")"
   ]
  },
  {
   "cell_type": "code",
   "execution_count": null,
   "id": "028427eb-6b19-4086-97d8-ea9d4d6b686e",
   "metadata": {},
   "outputs": [],
   "source": []
  }
 ],
 "metadata": {
  "kernelspec": {
   "display_name": "Python 3",
   "language": "python",
   "name": "python3"
  },
  "language_info": {
   "codemirror_mode": {
    "name": "ipython",
    "version": 3
   },
   "file_extension": ".py",
   "mimetype": "text/x-python",
   "name": "python",
   "nbconvert_exporter": "python",
   "pygments_lexer": "ipython3",
   "version": "3.7.10"
  },
  "toc-autonumbering": false,
  "toc-showmarkdowntxt": false
 },
 "nbformat": 4,
 "nbformat_minor": 5
}
