{
 "cells": [
  {
   "cell_type": "code",
   "execution_count": 1,
   "metadata": {},
   "outputs": [
    {
     "name": "stderr",
     "output_type": "stream",
     "text": [
      "Using TensorFlow backend.\n",
      "/home/aaronwu/.conda/envs/tfgpu/lib/python3.6/site-packages/tensorflow/python/framework/dtypes.py:458: FutureWarning: Passing (type, 1) or '1type' as a synonym of type is deprecated; in a future version of numpy, it will be understood as (type, (1,)) / '(1,)type'.\n",
      "  _np_qint8 = np.dtype([(\"qint8\", np.int8, 1)])\n",
      "/home/aaronwu/.conda/envs/tfgpu/lib/python3.6/site-packages/tensorflow/python/framework/dtypes.py:459: FutureWarning: Passing (type, 1) or '1type' as a synonym of type is deprecated; in a future version of numpy, it will be understood as (type, (1,)) / '(1,)type'.\n",
      "  _np_quint8 = np.dtype([(\"quint8\", np.uint8, 1)])\n",
      "/home/aaronwu/.conda/envs/tfgpu/lib/python3.6/site-packages/tensorflow/python/framework/dtypes.py:460: FutureWarning: Passing (type, 1) or '1type' as a synonym of type is deprecated; in a future version of numpy, it will be understood as (type, (1,)) / '(1,)type'.\n",
      "  _np_qint16 = np.dtype([(\"qint16\", np.int16, 1)])\n",
      "/home/aaronwu/.conda/envs/tfgpu/lib/python3.6/site-packages/tensorflow/python/framework/dtypes.py:461: FutureWarning: Passing (type, 1) or '1type' as a synonym of type is deprecated; in a future version of numpy, it will be understood as (type, (1,)) / '(1,)type'.\n",
      "  _np_quint16 = np.dtype([(\"quint16\", np.uint16, 1)])\n",
      "/home/aaronwu/.conda/envs/tfgpu/lib/python3.6/site-packages/tensorflow/python/framework/dtypes.py:462: FutureWarning: Passing (type, 1) or '1type' as a synonym of type is deprecated; in a future version of numpy, it will be understood as (type, (1,)) / '(1,)type'.\n",
      "  _np_qint32 = np.dtype([(\"qint32\", np.int32, 1)])\n",
      "/home/aaronwu/.conda/envs/tfgpu/lib/python3.6/site-packages/tensorflow/python/framework/dtypes.py:465: FutureWarning: Passing (type, 1) or '1type' as a synonym of type is deprecated; in a future version of numpy, it will be understood as (type, (1,)) / '(1,)type'.\n",
      "  np_resource = np.dtype([(\"resource\", np.ubyte, 1)])\n"
     ]
    }
   ],
   "source": [
    "import pickle\n",
    "import keras\n",
    "import tensorflow as tf\n",
    "from keras import backend as K\n",
    "import numpy as np\n",
    "import sys\n",
    "import os\n",
    "sys.path.append(os.path.abspath('../'))\n",
    "from helpers.data_generator import process_data, AutoEncoderDataGenerator\n",
    "from helpers.custom_losses import denorm_loss, hinge_mse_loss\n",
    "from helpers.custom_losses import percent_correct_sign, baseline_MAE\n",
    "from keras.callbacks import ModelCheckpoint, ReduceLROnPlateau\n",
    "from time import strftime, localtime\n",
    "import matplotlib\n",
    "from matplotlib import pyplot as plt\n",
    "import matplotlib.gridspec as gridspec\n",
    "import copy\n",
    "from tqdm import tqdm_notebook\n",
    "import seaborn as sns\n",
    "from helpers.normalization import normalize, denormalize, renormalize\n",
    "import scipy\n",
    "from keras.utils.vis_utils import model_to_dot\n",
    "from IPython.display import Image, display\n",
    "import gspread\n",
    "from oauth2client.service_account import ServiceAccountCredentials\n",
    "from helpers.custom_init import downsample\n",
    "from helpers.custom_reg import groupLasso"
   ]
  },
  {
   "cell_type": "code",
   "execution_count": 2,
   "metadata": {},
   "outputs": [
    {
     "data": {
      "text/plain": [
       "'2.1.6'"
      ]
     },
     "execution_count": 2,
     "metadata": {},
     "output_type": "execute_result"
    }
   ],
   "source": [
    "# CPU Only. \n",
    "os.environ[\"CUDA_VISIBLE_DEVICES\"]=\"-1\"  \n",
    "num_cores = 1\n",
    "config = tf.ConfigProto(intra_op_parallelism_threads=4*num_cores,\n",
    "                        inter_op_parallelism_threads=4*num_cores, \n",
    "                        allow_soft_placement=True,\n",
    "                        device_count = {'CPU' : 1,\n",
    "                                        'GPU' : 0})\n",
    "                        \n",
    "session = tf.Session(config=config)\n",
    "K.set_session(session)\n",
    "keras.__version__"
   ]
  },
  {
   "cell_type": "code",
   "execution_count": 3,
   "metadata": {},
   "outputs": [],
   "source": [
    "%matplotlib inline\n",
    "font={'family': 'DejaVu Serif',\n",
    "      'size': 18}\n",
    "plt.rc('font', **font)\n",
    "matplotlib.rcParams['figure.facecolor'] = (1,1,1,1)"
   ]
  },
  {
   "cell_type": "markdown",
   "metadata": {},
   "source": [
    "# \"A\" (Koopman Approximation) and \"B\" (recurrent actuator weights) Visualization"
   ]
  },
  {
   "cell_type": "code",
   "execution_count": 4,
   "metadata": {},
   "outputs": [],
   "source": [
    "def get_AB(model):\n",
    "    A = model.get_layer('AB_matrices').get_weights()[1].T\n",
    "    B = model.get_layer('AB_matrices').get_weights()[0].T\n",
    "    return A,B\n",
    "\n",
    "def get_submodels(model):\n",
    "    from keras.models import Model\n",
    "    state_encoder = model.get_layer('state_encoder_time_dist').layer.layers[-1]\n",
    "    control_encoder = model.get_layer('ctrl_encoder_time_dist').layer.layers[-1]\n",
    "    state_decoder = model.get_layer('state_decoder_time_dist').layer\n",
    "    #state_decoder = Model(model.get_layer('state_decoder_time_dist').layer.layers[0].input,\n",
    "    #                      model.get_layer('state_decoder_time_dist').layer.layers[-2].get_output_at(1),\n",
    "    #                     name='state_decoder')    \n",
    "    #control_decoder = Model(model.get_layer('ctrl_decoder_time_dist').layer.layers[0].input,\n",
    "    #                        model.get_layer('ctrl_decoder_time_dist').layer.layers[-2].get_output_at(1),\n",
    "    #                        name='control_decoder')\n",
    " \n",
    "    return state_encoder, state_decoder, control_encoder #, control_decoder\n",
    "\n",
    "def plot_autoencoder_AB(model,scenario, filename=None, **kwargs):\n",
    "    \n",
    "    A,B = get_AB(model)\n",
    "    f, axes = plt.subplots(1, 2, figsize=(28, 14),\n",
    "                           gridspec_kw={'width_ratios': [scenario['state_latent_dim'], \n",
    "                                                         scenario['control_latent_dim']]})\n",
    "    sns.heatmap(A, \n",
    "                cmap=kwargs.get('cmap','Spectral'),\n",
    "                annot=kwargs.get('annot',False), \n",
    "                square=kwargs.get('square',True), \n",
    "                robust=kwargs.get('robust',False), \n",
    "                ax=axes[0]).set_title('A')\n",
    "    sns.heatmap(B,\n",
    "                cmap=kwargs.get('cmap','Spectral'), \n",
    "                annot=kwargs.get('annot',False), \n",
    "                square=kwargs.get('square',True), \n",
    "                robust=kwargs.get('robust',False), \n",
    "                ax=axes[1]).set_title('B')\n",
    "\n",
    "    if filename:\n",
    "        f.savefig(filename,bbox_inches='tight')\n",
    "        html = \"\"\"<img src=\\\"\"\"\" + filename + \"\"\"\\\"><p>\"\"\"\n",
    "        return f, html\n",
    "    return f"
   ]
  },
  {
   "cell_type": "markdown",
   "metadata": {},
   "source": [
    "# Eigenvalue plots of A matrix"
   ]
  },
  {
   "cell_type": "code",
   "execution_count": 5,
   "metadata": {},
   "outputs": [],
   "source": [
    "def plot_autoencoder_spectrum(model,scenario, filename=None, **kwargs):\n",
    "\n",
    "    font={'family': 'DejaVu Serif',\n",
    "          'size': 18}\n",
    "    plt.rc('font', **font)\n",
    "    matplotlib.rcParams['figure.facecolor'] = (1,1,1,1)\n",
    "    \n",
    "    dt = scenario['dt']\n",
    "    A,B = get_AB(model)\n",
    "    eigvals, eigvecs = np.linalg.eig(A)\n",
    "    logeigvals = np.log(eigvals)\n",
    "    for i, elem in enumerate(logeigvals):\n",
    "        if abs(np.imag(elem)-np.pi)<np.finfo(np.float32).resolution:\n",
    "            logeigvals[i] = np.real(elem) + 0j\n",
    "    logeigvals = logeigvals/dt\n",
    "\n",
    "    f, axes = plt.subplots(1, 2, figsize=(28, 14))\n",
    "    axes[0].scatter(np.real(eigvals),np.imag(eigvals))\n",
    "    t = np.linspace(0,2*np.pi,1000)\n",
    "    axes[0].plot(np.cos(t),np.sin(t))\n",
    "\n",
    "    axes[0].set_title('Eigenvalues of A')\n",
    "    axes[0].grid(color='gray')\n",
    "    axes[0].set_xlabel('Re($\\lambda$)')\n",
    "    axes[0].set_ylabel('Im($\\lambda$)')\n",
    "\n",
    "\n",
    "    axes[1].scatter(np.real(logeigvals),np.imag(logeigvals))\n",
    "    axes[1].set_title('Eigenvalues of A')\n",
    "    axes[1].grid(color='gray')\n",
    "    axes[1].set_xlabel('Growth Rate (1/s)')\n",
    "    axes[1].set_ylabel('$\\omega$ (rad/s)')\n",
    "    axes[1].set_xlim((1.1*np.min(np.real(logeigvals)),np.maximum(1.1*np.max(np.real(logeigvals)),0)))\n",
    "    \n",
    "    if filename:\n",
    "        f.savefig(filename,bbox_inches='tight')\n",
    "        html = \"\"\"<img src=\\\"\"\"\" + filename + \"\"\"\\\"><p>\"\"\"\n",
    "        return f, html\n",
    "    return f"
   ]
  },
  {
   "cell_type": "markdown",
   "metadata": {},
   "source": [
    "# Autoencoder Training Plots"
   ]
  },
  {
   "cell_type": "code",
   "execution_count": 6,
   "metadata": {},
   "outputs": [],
   "source": [
    "def plot_autoencoder_training(model,scenario,filename=None,**kwargs):\n",
    "\n",
    "    f, axes = plt.subplots(2, 2, figsize=(28, 28))\n",
    "    axes[0,0].semilogy(scenario['history']['loss'],label='train')\n",
    "    axes[0,0].semilogy(scenario['history']['val_loss'],label='val')\n",
    "    axes[0,0].set_title('Loss')\n",
    "    axes[0,0].legend()\n",
    "    \n",
    "    axes[0,1].semilogy(scenario['history']['x_residual_mean_squared_error'],label='train')\n",
    "    axes[0,1].semilogy(scenario['history']['val_x_residual_mean_squared_error'],label='val')\n",
    "    axes[0,1].set_title('X residual MSE')\n",
    "    axes[0,1].legend()\n",
    "    '''\n",
    "    axes[1,0].semilogy(scenario['history']['u_residual_mean_squared_error'],label='train')\n",
    "    axes[1,0].semilogy(scenario['history']['val_u_residual_mean_squared_error'],label='val')\n",
    "    axes[1,0].set_title('U residual MSE')\n",
    "    axes[1,0].legend()\n",
    "    '''\n",
    "    axes[1,1].semilogy(scenario['history']['linear_system_residual_mean_squared_error'],label='train')\n",
    "    axes[1,1].semilogy(scenario['history']['val_linear_system_residual_mean_squared_error'],label='val')\n",
    "    axes[1,1].set_title('Linear Model MSE')\n",
    "    axes[1,1].legend()\n",
    "    \n",
    "    \n",
    "    if filename:\n",
    "        f.savefig(filename,bbox_inches='tight')\n",
    "        html = \"\"\"<img src=\\\"\"\"\" + filename + \"\"\"\\\"><p>\"\"\"\n",
    "        return f, html\n",
    "    return f\n",
    "        "
   ]
  },
  {
   "cell_type": "markdown",
   "metadata": {},
   "source": [
    "# Observability and Controlability Analysis"
   ]
  },
  {
   "cell_type": "code",
   "execution_count": 7,
   "metadata": {},
   "outputs": [],
   "source": [
    "def stabAnalysis(model, scenario, filename = None):\n",
    "    A,B = get_AB(model)\n",
    "    dt = .05\n",
    "    # Ac = logm(Ad)/dt\n",
    "    Ac = scipy.linalg.logm(A)/dt\n",
    "    # Bc = inv(Ad-I)*Ac*Bd\n",
    "    Bc = np.matmul(np.linalg.inv(A-np.eye(scenario['state_latent_dim'])),np.matmul(Ac,B))\n",
    "    C = np.eye(scenario['state_latent_dim'])\n",
    "    D = np.zeros((scenario['state_latent_dim'],scenario['control_latent_dim']))\n",
    "\n",
    "    Wcc = scipy.linalg.solve_continuous_lyapunov(Ac,-Bc.dot(Bc.T))\n",
    "    Wdc = scipy.linalg.solve_discrete_lyapunov(A,B.dot(B.T))\n",
    "\n",
    "    Wco = scipy.linalg.solve_continuous_lyapunov(Ac.T,-C.dot(C.T)).T\n",
    "    Wdo = scipy.linalg.solve_discrete_lyapunov(A.T,C.dot(C.T)).T\n",
    "\n",
    "    fig = plt.figure(figsize=(28,14))\n",
    "    plt.subplot(1,2,1,title='Wcc, Wdc')\n",
    "    plt.semilogy(np.linalg.svd(Wcc,compute_uv=False), label ='wcc')\n",
    "    plt.semilogy(np.linalg.svd(Wdc,compute_uv=False), label = 'wdc')\n",
    "    plt.legend(loc='best')\n",
    "\n",
    "    plt.subplot(1,2,2, title = 'Wco, Wdo')\n",
    "    plt.semilogy(np.linalg.svd(Wco,compute_uv=False),label = 'wco')\n",
    "    plt.semilogy(np.linalg.svd(Wdo,compute_uv=False), label = 'wdo')\n",
    "\n",
    "    plt.legend(loc='best')\n",
    "    plt.show()\n",
    "    if filename:\n",
    "        fig.savefig(filename,bbox_inches='tight')\n",
    "        html = \"\"\"<img src=\\\"\"\"\" + filename + \"\"\"\\\"><p>\"\"\"\n",
    "        return fig, html\n",
    "    \n",
    "    return fig"
   ]
  },
  {
   "cell_type": "markdown",
   "metadata": {},
   "source": [
    "# Plot State and Control Residuals for Specified Shot"
   ]
  },
  {
   "cell_type": "code",
   "execution_count": 41,
   "metadata": {},
   "outputs": [],
   "source": [
    "def get_autoencoder_predictions(state_encoder,state_decoder,control_encoder,A,B,scenario,inputs,shot,timestep,**kwargs):\n",
    "    import numpy as np\n",
    "    state_inputs = {}\n",
    "    x0 = {}\n",
    "    for sig in scenario['profile_names']+scenario['scalar_names']:\n",
    "        state_inputs[sig] = np.squeeze(inputs['input_'+sig])\n",
    "        if sig in scenario['profile_names']:\n",
    "            x0['input_'+sig] = inputs['input_'+sig][:,0,:].reshape((1,1,scenario['profile_length']))\n",
    "        else:\n",
    "            x0['input_'+sig] = inputs['input_'+sig][:,0].reshape((1,1,1))\n",
    "    control_inputs = {}\n",
    "    for sig in scenario['actuator_names']:\n",
    "        control_inputs['input_'+sig] = inputs['input_'+sig]\n",
    "    # encode control    \n",
    "    T = scenario['lookback'] + scenario['lookahead'] +1\n",
    "    u = []\n",
    "    for i in range(T):\n",
    "        temp_input = {k:v[:,i].reshape((1,1,1)) for k,v in control_inputs.items()}\n",
    "        u.append(np.squeeze(control_encoder.predict(temp_input)))\n",
    "    # encode state and propogate\n",
    "    x0 = np.squeeze(state_encoder.predict(x0))\n",
    "    x = [x0]\n",
    "    for i in range(scenario['lookahead']):\n",
    "        x.append(A.dot(x[i]+B.dot(u[i])))\n",
    "        '''\n",
    "        print(x[i])\n",
    "        print('Control')\n",
    "        print(B.dot(u[i]))\n",
    "        '''\n",
    "    # decode state and organize\n",
    "    x_decoded = []\n",
    "    for elem in x:\n",
    "        x_decoded.append(state_decoder.predict(elem[np.newaxis,:]))\n",
    "    state_predictions = {}\n",
    "    residuals = {}\n",
    "    for i, sig in enumerate(scenario['profile_names']):\n",
    "        state_predictions[sig] = np.squeeze(np.dsplit((np.array([x_decoded[j] for j in range(len(x_decoded))])),5)[i])\n",
    "        residuals[sig] = state_inputs[sig] - state_predictions[sig]\n",
    "\n",
    "    return state_inputs, state_predictions, residuals\n",
    "\n",
    "def plot_autoencoder_residuals(model,scenario,generator,shots,times, filename = None,**kwargs):\n",
    "    A, B = get_AB(model)\n",
    "    state_encoder, state_decoder, control_encoder = get_submodels(model)\n",
    "    inputs, targets, actual = generator.get_data_by_shot_time(shots,times)\n",
    "    psi = np.linspace(0,1,scenario['profile_length'])\n",
    "    nsteps = scenario['lookahead']\n",
    "    \n",
    "    fig = plt.figure(figsize=(40, 60))\n",
    "    outer_grid = fig.add_gridspec(len(times),1)\n",
    "    \n",
    "    for k, (shot,time) in enumerate(zip(actual['shots'],actual['times'])):\n",
    "        inp = {sig:arr[np.newaxis,k] for sig, arr in inputs.items()}\n",
    "        state_inputs, state_predictions, residuals = get_autoencoder_predictions(\n",
    "            state_encoder,state_decoder,control_encoder,A,B,scenario,inp,shot,time)\n",
    "        \n",
    "        outerax = fig.add_subplot(outer_grid[k])\n",
    "        outerax.set_title(label='Shot ' + str(int(shot)) + '   Time ' + str(int(time)),pad = 30)\n",
    "        outerax.axis('off')\n",
    "        \n",
    "        inner_grid = outer_grid[k].subgridspec(1, nsteps)\n",
    "        for j in range(nsteps):\n",
    "            ax = fig.add_subplot(inner_grid[j])\n",
    "            for i, sig in enumerate(scenario['profile_names']):\n",
    "                ax.plot(psi,residuals[sig][j].reshape((scenario['profile_length'],)),label=sig)\n",
    "                ax.hlines(0,0,1)\n",
    "                ax.legend()\n",
    "                ax.tick_params(reset=True)\n",
    "                ax.set_title(label = 'State Residuals t+' + str(int(j*scenario['dt']*1000)))\n",
    "            fig.add_subplot(ax)\n",
    "      \n",
    "    if filename:\n",
    "        fig.savefig(filename, bbox='tight')\n",
    "        html = \"\"\"<img src=\\\"\"\"\" + filename + \"\"\"\\\"><p>\"\"\"\n",
    "        return fig, html\n",
    "    return fig \n",
    "    \n",
    "def plot_autoencoder_predictions_timestep(model,scenario,generator,shots,times, filename = None,**kwargs):\n",
    "    A,B = get_AB(model)\n",
    "    state_encoder, state_decoder, control_encoder = get_submodels(model)\n",
    "    inputs, targets, actual = generator.get_data_by_shot_time(shots,times)\n",
    "    \n",
    "    fig = plt.figure(figsize=(40,90))\n",
    "    outer_grid = fig.add_gridspec(len(times),1)\n",
    "    \n",
    "    for i, (shot,time) in enumerate(zip(actual['shots'],actual['times'])):\n",
    "        inp = {sig:arr[np.newaxis,i] for sig, arr in inputs.items()}\n",
    "        state_inputs, state_predictions, residuals = get_autoencoder_predictions(\n",
    "            state_encoder,state_decoder,control_encoder,A,B,scenario,inp,shot,time)\n",
    "        baseline = {k:v[0].reshape((scenario['profile_length'],)) for k,v in state_inputs.items() if k in scenario['profile_names']}\n",
    "        true = {k:v[-1].reshape((scenario['profile_length'],)) for k,v in state_inputs.items() if k in scenario['profile_names']}\n",
    "        pred = {k:v[-1].reshape((scenario['profile_length'],)) for k,v in state_predictions.items() if k in scenario['profile_names']}\n",
    "        \n",
    "        outerax = fig.add_subplot(outer_grid[i])\n",
    "        outerax.set_title(label='Shot ' + str(int(shot)) + '   Time ' + str(int(time)) + '   Prediction Window ' \n",
    "                     + str(int(scenario['lookahead']*scenario['dt']*1000)),pad = 70)\n",
    "        outerax.axis('off')\n",
    "        \n",
    "        ncols = len(scenario['profile_names'])\n",
    "        nrows = 2\n",
    "        psi = np.linspace(0,1,scenario['profile_length'])\n",
    "        inner_grid = outer_grid[i].subgridspec(nrows, ncols)\n",
    "        \n",
    "        for j, sig in enumerate(scenario['profile_names']):\n",
    "            ax = fig.add_subplot(inner_grid[j]) \n",
    "            ax.plot(psi,pred[sig]-baseline[sig],psi,true[sig]-baseline[sig])\n",
    "            ax.set_title(label = sig + ' (deltas)')\n",
    "            ax.hlines(0,0,1)\n",
    "            ax.legend(['predicted delta','true delta'])\n",
    "            \n",
    "            ax1 = fig.add_subplot(inner_grid[j+ncols]) \n",
    "            ax1.plot(psi,pred[sig],psi,true[sig],psi, baseline[sig])\n",
    "            ax1.set_title(label = sig + ' (full)')\n",
    "            ax1.legend(['predicted','true','baseline'])\n",
    "            \n",
    "            fig.add_subplot(ax)\n",
    "            fig.add_subplot(ax1)\n",
    "            \n",
    "    if filename:\n",
    "        fig.savefig(filename, bbox='tight')\n",
    "        html = \"\"\"<img src=\\\"\"\"\" + filename + \"\"\"\\\"><p>\"\"\"\n",
    "        return fig, html\n",
    "    \n",
    "    return fig        \n",
    "\n",
    "def plot_autoencoder_control_encoding(model,scenario,generator,shots,times,filename=None,**kwargs):\n",
    "    state_encoder, state_decoder, control_encoder = get_submodels(model)\n",
    "    inputs, targets, actual = generator.get_data_by_shot_time(shots,times)\n",
    "    control_inputs = {}\n",
    "    for sig in scenario['actuator_names']:\n",
    "        control_inputs['input_'+sig] = inputs['input_'+sig]\n",
    "    figsize = (20,10)\n",
    "    nrows = int(np.ceil(len(shots)/3))\n",
    "    ncols = min(len(shots),3)\n",
    "    fig, ax = plt.subplots(nrows=nrows,ncols=ncols, figsize=figsize,squeeze=False,sharey=True)\n",
    "    fig.suptitle('Control Residuals',y=.95)\n",
    "    \n",
    "    for j, (shot,time) in enumerate(zip(shots,times)):\n",
    "        inp = {sig:arr[j] for sig, arr in control_inputs.items() }\n",
    "        residuals = []\n",
    "        T = scenario['lookback'] + scenario['lookahead'] +1\n",
    "        for i in range(T):\n",
    "            temp_input = {k:v[i].reshape((1,1,1)) for k,v in inp.items()}\n",
    "            encoded_control = control_encoder.predict(temp_input)\n",
    "            residuals.append(np.squeeze(control_decoder.predict(encoded_control)))\n",
    "        residuals = {sig:np.squeeze(inp['input_'+sig]-np.array(residuals)[:,i]) for i, sig in enumerate(scenario['actuator_names'])}\n",
    "        \n",
    "        t = np.arange(time,time+(T)*scenario['dt']*1000,scenario['dt']*1000)\n",
    "        for i, sig in enumerate(scenario['actuator_names']):\n",
    "            ax[np.unravel_index(j,(nrows,ncols))].plot(t,residuals[sig], label=sig)\n",
    "            ax[np.unravel_index(j,(nrows,ncols))].hlines(0,min(t),max(t))\n",
    "            ax[np.unravel_index(j,(nrows,ncols))].tick_params(reset=True)\n",
    "            ax[np.unravel_index(j,(nrows,ncols))].legend()\n",
    "            ax[np.unravel_index(j,(nrows,ncols))].title.set_text('Shot ' + str(int(shot)) + '   Time ' + str(int(time)))\n",
    "      \n",
    "    fig.tight_layout()\n",
    "    fig.subplots_adjust(top=0.88)     \n",
    "\n",
    "    if filename:\n",
    "        fig.savefig(filename,bbox_inches='tight')\n",
    "        html = \"\"\"<img src=\\\"\"\"\" + filename + \"\"\"\\\"><p>\"\"\"\n",
    "        return fig, html    \n",
    "    return fig\n",
    "\n",
    "\n",
    "# state_inputs, state_predictions, residuals = get_autoencoder_predictions(state_encoder,state_decoder,control_encoder,A,B,scenario,inputs,175702,1400)\n",
    "# f = plot_autoencoder_residuals(residuals,scenario,175702,1400)\n",
    "# f = plot_autoencoder_predictions_timestep(state_inputs, state_predictions, scenario,175702,1400)"
   ]
  },
  {
   "cell_type": "markdown",
   "metadata": {},
   "source": [
    "# Load files "
   ]
  },
  {
   "cell_type": "code",
   "execution_count": null,
   "metadata": {},
   "outputs": [],
   "source": [
    "run_path = '/scratch/gpfs/aaronwu/run_results_07_21_2'\n",
    "scenarios = []\n",
    "models = []\n",
    "for file in os.listdir(run_path):\n",
    "    if file.endswith(\".h5\"):\n",
    "        model_path = run_path+'/'+file\n",
    "        #model = keras.models.load_model(model_path, compile=False)\n",
    "        #models.append(model)\n",
    "        #print('loaded model: ' + model_path.split('/')[-1])\n",
    "        params_path = model_path[:-3]+'_params.pkl'\n",
    "        with open(params_path, 'rb') as f:\n",
    "            scenario = pickle.load(f, encoding='latin1')\n",
    "            scenario['dt'] = 0.05\n",
    "            scenarios.append(scenario)\n",
    "        print('loaded dict: ' + params_path.split('/')[-1])"
   ]
  },
  {
   "cell_type": "code",
   "execution_count": 12,
   "metadata": {},
   "outputs": [
    {
     "name": "stdout",
     "output_type": "stream",
     "text": [
      "Signals: curr, dens, density_estimate, gasA, li_EFIT02, pinj, press_EFIT02, q_EFIT02, rotation, temp, tinj, triangularity_bot_EFIT02, triangularity_top_EFIT02, volume_EFIT02\n",
      "Number of useable shots:  1\n",
      "Number of shots used:  1\n",
      "Total number of timesteps:  128\n"
     ]
    },
    {
     "name": "stderr",
     "output_type": "stream",
     "text": [
      "Gathering: 100%|##########| 1/1 [00:00<00:00,  2.20it/s]"
     ]
    },
    {
     "name": "stdout",
     "output_type": "stream",
     "text": [
      "Shots with Complete NaN: \n"
     ]
    },
    {
     "name": "stderr",
     "output_type": "stream",
     "text": [
      "\n",
      "Stacking: 100%|##########| 16/16 [00:02<00:00,  5.96it/s]"
     ]
    },
    {
     "name": "stdout",
     "output_type": "stream",
     "text": [
      "103 samples total\n"
     ]
    },
    {
     "name": "stderr",
     "output_type": "stream",
     "text": [
      "\n"
     ]
    },
    {
     "name": "stdout",
     "output_type": "stream",
     "text": [
      "103 samples remaining after pruning\n"
     ]
    },
    {
     "name": "stderr",
     "output_type": "stream",
     "text": [
      "Normalizing: 100%|##########| 16/16 [00:00<00:00, 1263.25it/s]\n",
      "Splitting: 100%|##########| 16/16 [00:00<00:00, 11652.87it/s]\n",
      "Denormalizing: 100%|##########| 16/16 [00:00<00:00, 18365.86it/s]\n",
      "Normalizing: 100%|##########| 16/16 [00:00<00:00, 3430.40it/s]"
     ]
    },
    {
     "name": "stdout",
     "output_type": "stream",
     "text": [
      "Total number of samples:  103\n",
      "Number of training samples:  103\n",
      "Number of validation samples:  0\n"
     ]
    },
    {
     "name": "stderr",
     "output_type": "stream",
     "text": [
      "\n"
     ]
    }
   ],
   "source": [
    "#Include in for loop if lookback/lookahead vary\n",
    "\n",
    "datapath = '/scratch/gpfs/jabbate/full_data_with_error/train_data.pkl'\n",
    "with open(datapath,'rb') as f:\n",
    "    rawdata = pickle.load(f,encoding='latin1')\n",
    "data = {163303: rawdata[163303]}\n",
    "times = [2000, 2480, 3080, 4040, 4820, 5840]\n",
    "shots = [163303]*len(times)\n",
    "traindata, valdata, normalization_dict = process_data(data,\n",
    "                                                      scenario['sig_names'],\n",
    "                                                      scenario['normalization_method'],\n",
    "                                                      scenario['window_length'],\n",
    "                                                      scenario['window_overlap'],\n",
    "                                                      scenario['lookback'],\n",
    "                                                      scenario['lookahead'],\n",
    "                                                      scenario['sample_step'],\n",
    "                                                      scenario['uniform_normalization'],\n",
    "                                                      1,\n",
    "                                                      0,\n",
    "                                                      scenario['nshots'],\n",
    "                                                      1,\n",
    "                                                      scenario['flattop_only'],\n",
    "                                                      invert_q = scenario['invert_q'],\n",
    "                                                      randomize=False)\n",
    "traindata = denormalize(traindata, normalization_dict)\n",
    "traindata = renormalize(traindata, scenario['normalization_dict'])\n",
    "generator = AutoEncoderDataGenerator(traindata,\n",
    "                                               scenario['batch_size'],\n",
    "                                               scenario['profile_names'],\n",
    "                                               scenario['actuator_names'],\n",
    "                                               scenario['scalar_names'],\n",
    "                                               scenario['lookback'],\n",
    "                                               scenario['lookahead'],\n",
    "                                               scenario['profile_downsample'],\n",
    "                                               scenario['state_latent_dim'],\n",
    "                                               scenario['discount_factor'],\n",
    "                                               scenario['x_weight'],\n",
    "                                               scenario['u_weight'],                                            \n",
    "                                               scenario['shuffle_generators'])"
   ]
  },
  {
   "cell_type": "markdown",
   "metadata": {},
   "source": [
    "# Write Scenario "
   ]
  },
  {
   "cell_type": "code",
   "execution_count": 11,
   "metadata": {},
   "outputs": [],
   "source": [
    "def write_results(model, scenario, worksheet):\n",
    "    \n",
    "    if 'image_path' not in scenario.keys():\n",
    "        scenario['image_path'] = 'https://jabbate7.github.io/plasma-profile-predictor/results/' + scenario['runname']\n",
    "    '''\n",
    "    base_sheet_path = \"https://docs.google.com/spreadsheets/d/1h2jm3PWuck-7t_WcHi3Zm0OT35fRfLr4RrrUjHrm1dA/edit#gid=0\"\n",
    "    scope = ['https://spreadsheets.google.com/feeds',\n",
    "         'https://www.googleapis.com/auth/drive']\n",
    "    creds = ServiceAccountCredentials.from_json_keyfile_name(os.path.expanduser('~/plasma-profile-predictor/drive-credentials.json'), scope)\n",
    "    client = gspread.authorize(creds)\n",
    "    sheet = client.open_by_url(base_sheet_path).get_worksheet(worksheet)\n",
    "    \n",
    "    write_scenario_to_sheets(scenario,sheet)\n",
    "    rowid = sheet.find(scenario['runname']).row\n",
    "    scenario['sheet_path'] = base_sheet_path + \"&range={}:{}\".format(rowid,rowid)\n",
    "    '''\n",
    "    results_dir = os.path.expanduser('~/results/'+scenario['runname'])  \n",
    "    if not os.path.exists(results_dir):\n",
    "        os.mkdir(results_dir)\n",
    "    os.chdir(results_dir)\n",
    "    f = open('index.html','w+')\n",
    "    f.write('<html><head></head><body>')\n",
    "    html = scenario_to_html(scenario)\n",
    "    f.write(html + '<p>\\n')\n",
    "    _, html = plot_autoencoder_training(model,scenario, filename='training.png')\n",
    "    f.write(html + '<p>\\n')\n",
    "    \n",
    "    _, html = plot_autoencoder_AB(model,scenario, filename='AB.png')\n",
    "    f.write(html + '<p>\\n')\n",
    "    _, html = plot_autoencoder_spectrum(model,scenario, filename='spectrum.png')\n",
    "    f.write(html + '<p>\\n')\n",
    "    \n",
    "    _, html = plot_autoencoder_residuals(model,scenario,generator,shots,times, filename = 'state_residuals.png')\n",
    "    f.write(html + '<p>\\n')\n",
    "    \n",
    "    _, html = plot_autoencoder_predictions_timestep(model,scenario,generator,shots,times, filename = 'predictions.png')\n",
    "    f.write(html + '<p>\\n')\n",
    "    '''\n",
    "    _, html =  plot_autoencoder_control_encoding(model,scenario,generator,shots,times,filename='control_residuals.png')\n",
    "    f.write(html + '<p>\\n')\n",
    "    '''\n",
    "    f.write('</body></html>')\n",
    "    f.close()\n",
    "    \n",
    "    \n",
    "def write_scenario_to_sheets(scenario,sheet):\n",
    "    sheet_keys = sheet.row_values(1)\n",
    "    row = [None]*len(sheet_keys)\n",
    "    for i,key in enumerate(sheet_keys):\n",
    "        if key in scenario.keys():\n",
    "            row[i] = str(scenario[key])\n",
    "        elif key in scenario.get('history',{}):\n",
    "            row[i] = str(scenario['history'][key][-1])\n",
    "    sheet.append_row(row)\n",
    "\n",
    "def scenario_to_html(scenario):\n",
    "    foo = {k:v for k,v in scenario.items() if k not in ['history','normalization_dict','history_params']}\n",
    "    def printitems(dictObj, indent=0):\n",
    "        p=[]\n",
    "        p.append('<ul>\\n')\n",
    "        for k,v in dictObj.items():\n",
    "            if isinstance(v, dict):\n",
    "                p.append('<li><b>'+ str(k)+ '</b>: ')\n",
    "                p.append(printitems(v))\n",
    "                p.append('</li>\\n')\n",
    "            elif k in ['image_path','sheet_path']:\n",
    "                p.append(\"<a href=\\\"\" + str(v) + \"\\\">\" + str(k) + \"</a>\\n\")          \n",
    "            else:\n",
    "                p.append('<li><b>'+ str(k)+ '</b>: '+ str(v)+ '</li>\\n')\n",
    "        p.append('</ul>\\n')\n",
    "        return ''.join(p)\n",
    "    return printitems(foo)"
   ]
  },
  {
   "cell_type": "code",
   "execution_count": null,
   "metadata": {},
   "outputs": [],
   "source": [
    "%%capture\n",
    "#Worksheet 0 for vanilla, 1 for LRAN, 2 for LRAN2\n",
    "for model, scenario in zip(models, scenarios):\n",
    "    write_results(model,scenario,1)"
   ]
  },
  {
   "cell_type": "code",
   "execution_count": null,
   "metadata": {},
   "outputs": [],
   "source": [
    "base_sheet_path = \"https://docs.google.com/spreadsheets/d/1h2jm3PWuck-7t_WcHi3Zm0OT35fRfLr4RrrUjHrm1dA/edit#gid=0\"\n",
    "scope = ['https://spreadsheets.google.com/feeds',\n",
    "         'https://www.googleapis.com/auth/drive']\n",
    "creds = ServiceAccountCredentials.from_json_keyfile_name(os.path.expanduser('~/plasma-profile-predictor/drive-credentials.json'), scope)\n",
    "client = gspread.authorize(creds)\n",
    "sheet = client.open_by_url(base_sheet_path).get_worksheet(1)\n",
    "\n",
    "\n",
    "for scenario in scenarios:\n",
    "    if 'image_path' not in scenario.keys():\n",
    "        scenario['image_path'] = 'https://jabbate7.github.io/plasma-profile-predictor/results/' + scenario['runname']\n",
    "    write_scenario_to_sheets(scenario, sheet)"
   ]
  },
  {
   "cell_type": "code",
   "execution_count": null,
   "metadata": {},
   "outputs": [],
   "source": [
    "%%capture\n",
    "# Architecture Visualization\n",
    "for model,scenario in zip(models, scenarios):\n",
    "    dot = model_to_dot(model,show_shapes=True,show_layer_names=True,rankdir='TB')\n",
    "    dot.write_png('/home/aaronwu/results/'+scenario['runname']+'/architecture.png')\n",
    "    #display(dot.create_png())\n",
    "    #print('\\n'+'\\n')"
   ]
  },
  {
   "cell_type": "markdown",
   "metadata": {},
   "source": [
    "# Comparison with baseline across shots"
   ]
  },
  {
   "cell_type": "code",
   "execution_count": 21,
   "metadata": {},
   "outputs": [],
   "source": [
    "model = keras.models.load_model('/scratch/gpfs/aaronwu/run_results_07_21/model-autoencoder_SET-dense_SDT-dense_CET-dense_CDT-dense_profiles-temp-dens-rotation-press_EFIT02-q_EFIT02_act-pinj-curr-tinj-gasA_LB-0_LA-3_22Jul20-11-08_Scenario-20.h5', compile=True)\n",
    "with open('/scratch/gpfs/aaronwu/run_results_07_21/model-autoencoder_SET-dense_SDT-dense_CET-dense_CDT-dense_profiles-temp-dens-rotation-press_EFIT02-q_EFIT02_act-pinj-curr-tinj-gasA_LB-0_LA-3_22Jul20-11-08_Scenario-20_params.pkl', 'rb') as f:\n",
    "    scenario = pickle.load(f, encoding='latin1')"
   ]
  },
  {
   "cell_type": "code",
   "execution_count": 22,
   "metadata": {},
   "outputs": [
    {
     "name": "stdout",
     "output_type": "stream",
     "text": [
      "Signals: curr, dens, gasA, pinj, press_EFIT02, q_EFIT02, rotation, temp, tinj\n",
      "Number of useable shots:  5385\n",
      "Number of shots used:  5385\n",
      "Total number of timesteps:  571887\n",
      "Shots with Complete NaN: \n",
      "391512 samples total\n",
      "Removing weird I-coils\n",
      "Removed 75502 samples\n",
      "316010 samples remaining\n",
      "Removing NaN\n",
      "Removed 0 samples\n",
      "316010 samples remaining\n",
      "Removing dudtrip\n",
      "Removed 15838 samples\n",
      "300172 samples remaining\n",
      "Removing jagged q profiles\n",
      "Removed 105 samples\n",
      "300067 samples remaining\n",
      "Removing zero q profiles\n",
      "Removed 13683 samples\n",
      "286384 samples remaining\n",
      "Removing outlier pressure profiles\n",
      "Removed 185 samples\n",
      "286199 samples remaining\n",
      "Removing negative pressure profiles\n",
      "Removed 22199 samples\n",
      "264000 samples remaining\n",
      "264000 samples remaining after pruning\n"
     ]
    },
    {
     "name": "stderr",
     "output_type": "stream",
     "text": [
      "Denormalizing:  33%|###3      | 5/15 [00:00<00:00, 30.95it/s]"
     ]
    },
    {
     "name": "stdout",
     "output_type": "stream",
     "text": [
      "Total number of samples:  264000\n",
      "Number of training samples:  264000\n",
      "Number of validation samples:  0\n"
     ]
    },
    {
     "name": "stderr",
     "output_type": "stream",
     "text": [
      "Denormalizing: 100%|##########| 15/15 [00:00<00:00, 18.89it/s]\n",
      "Normalizing: 100%|##########| 15/15 [00:05<00:00,  2.63it/s]\n"
     ]
    }
   ],
   "source": [
    "datapath = '/scratch/gpfs/jabbate/full_data_with_error/train_data.pkl'\n",
    "with open(datapath,'rb') as f:\n",
    "    rawdata = pickle.load(f,encoding='latin1')\n",
    "    \n",
    "traindata, valdata, normalization_dict = process_data(rawdata,\n",
    "                                                              scenario['sig_names'],\n",
    "                                                              scenario['normalization_method'],\n",
    "                                                              scenario['window_length'],\n",
    "                                                              scenario['window_overlap'],\n",
    "                                                              scenario['lookback'],\n",
    "                                                              scenario['lookahead'],\n",
    "                                                              scenario['sample_step'],\n",
    "                                                              scenario['uniform_normalization'],\n",
    "                                                              1,\n",
    "                                                              0,\n",
    "                                                              scenario['nshots'],\n",
    "                                                              2,\n",
    "                                                              scenario['flattop_only'],\n",
    "                                                              pruning_functions=scenario['pruning_functions'],\n",
    "                                                              invert_q = scenario['invert_q'],\n",
    "                                                              #val_idx = scenario['val_idx'],\n",
    "                                                              excluded_shots=scenario['excluded_shots'],\n",
    "                                                            randomize=False)\n",
    "traindata = denormalize(traindata, normalization_dict)\n",
    "traindata = renormalize(traindata, scenario['normalization_dict'])\n",
    "generator = AutoEncoderDataGenerator(traindata,\n",
    "                                               scenario['batch_size'],\n",
    "                                               scenario['profile_names'],\n",
    "                                               scenario['actuator_names'],\n",
    "                                               scenario['scalar_names'],\n",
    "                                               scenario['lookback'],\n",
    "                                               scenario['lookahead'],\n",
    "                                               scenario['profile_downsample'],\n",
    "                                               scenario['state_latent_dim'],\n",
    "                                               scenario['discount_factor'],\n",
    "                                               scenario['x_weight'],\n",
    "                                               scenario['u_weight'],                                            \n",
    "                                               scenario['shuffle_generators'])"
   ]
  },
  {
   "cell_type": "code",
   "execution_count": 23,
   "metadata": {},
   "outputs": [
    {
     "name": "stdout",
     "output_type": "stream",
     "text": [
      "2062/2062 [==============================] - 12s 6ms/step\n"
     ]
    }
   ],
   "source": [
    "predictions_arr = model.predict_generator(generator, verbose=1)"
   ]
  },
  {
   "cell_type": "code",
   "execution_count": 24,
   "metadata": {},
   "outputs": [
    {
     "name": "stdout",
     "output_type": "stream",
     "text": [
      "2062/2062\r"
     ]
    }
   ],
   "source": [
    "full_profiles = {sig:[] for sig in scenario['profile_names']}\n",
    "baseline_err = {sig:[] for sig in scenario['profile_names']}\n",
    "model_err = {sig:[] for sig in scenario['profile_names']}\n",
    "bas_tot = {sig:[] for sig in scenario['profile_names']}\n",
    "\n",
    "#For each batch\n",
    "for i in range(len(generator)):\n",
    "    print(\"{}/{}\".format(i+1,len(generator)),end='\\r')\n",
    "    sample = generator[i]\n",
    "    #Append 128 samples\n",
    "    for sig in scenario['profile_names']:\n",
    "        full_profiles[sig].append(sample[0]['input_'+sig])\n",
    "        \n",
    "for sig in scenario['profile_names']:\n",
    "    ##for each batch\n",
    "    for i in range(len(full_profiles[sig])):\n",
    "        print(\"{}/{}\".format(i+1,len(full_profiles[sig])),end='\\r')\n",
    "        #For the 128 samples\n",
    "        for j in range(len(full_profiles[sig][i])):\n",
    "            baseline_err[sig].append(abs(full_profiles[sig][i][j][-1]-full_profiles[sig][i][j][0]))\n",
    "\n",
    "# For each of the ~7000 samples\n",
    "for i in range(len(predictions_arr[0])):\n",
    "    # Split into profile type\n",
    "    for j, sig in enumerate(scenario['profile_names']):\n",
    "        model_err[sig].append(abs(predictions_arr[0][i][-1][j*33:((j+1)*33)]))"
   ]
  },
  {
   "cell_type": "code",
   "execution_count": 25,
   "metadata": {},
   "outputs": [],
   "source": [
    "bas_tot = {sig:[] for sig in scenario['profile_names']}\n",
    "mod_tot = {sig:[] for sig in scenario['profile_names']}\n",
    "for sig in scenario['profile_names']:\n",
    "    \n",
    "    bas_tot[sig] = np.median(np.array(baseline_err[sig])*scenario['normalization_dict'][sig]['iqr'],axis=0)\n",
    "    mod_tot[sig] = np.median(np.array(model_err[sig])*scenario['normalization_dict'][sig]['iqr'],axis=0)\n",
    "    \n",
    "    #bas_tot[sig] = np.mean(baseline_err[sig], axis=0)\n",
    "    #mod_tot[sig] = np.mean(model_err[sig], axis=0)\n",
    "    "
   ]
  },
  {
   "cell_type": "code",
   "execution_count": 26,
   "metadata": {},
   "outputs": [
    {
     "data": {
      "image/png": "[encoded data removed]",
      "text/plain": [
       "<Figure size 720x1080 with 5 Axes>"
      ]
     },
     "metadata": {
      "needs_background": "light"
     },
     "output_type": "display_data"
    }
   ],
   "source": [
    "fig, ax = plt.subplots(len(scenario['profile_names']),1,figsize=(10,15))\n",
    "\n",
    "for i,sig in enumerate(scenario['profile_names']):\n",
    "    \n",
    "    ax[i].plot(bas_tot[sig], label='baseline',lw=1.5)\n",
    "    ax[i].plot(mod_tot[sig], label='model',lw=1.5)\n",
    "    ax[i].set_ylim(0,None)\n",
    "    ax[i].set_ylabel(sig,size=16)\n",
    "plt.subplots_adjust(hspace=0.9, bottom=0.12)\n",
    "fig.legend(handles=ax[0].lines,     \n",
    "           labels=[line._label for line in ax[0].lines],  \n",
    "           loc=\"upper center\",\n",
    "           bbox_to_anchor=(0.6, 0.06),\n",
    "           frameon=False,\n",
    "           mode=None,\n",
    "           ncol=2,\n",
    "           fontsize=16);\n",
    "fig.show()"
   ]
  },
  {
   "cell_type": "code",
   "execution_count": null,
   "metadata": {},
   "outputs": [],
   "source": []
  },
  {
   "cell_type": "code",
   "execution_count": null,
   "metadata": {},
   "outputs": [],
   "source": []
  },
  {
   "cell_type": "code",
   "execution_count": null,
   "metadata": {},
   "outputs": [],
   "source": [
    "dot = model_to_dot(models[0],show_shapes=True,show_layer_names=True,rankdir='TB')\n",
    "Image(dot.create_png())\n",
    "scenarios[0]"
   ]
  },
  {
   "cell_type": "code",
   "execution_count": null,
   "metadata": {},
   "outputs": [],
   "source": [
    "models[-1].get_layer('state_decoder_time_dist').get_weights()"
   ]
  },
  {
   "cell_type": "code",
   "execution_count": null,
   "metadata": {},
   "outputs": [],
   "source": [
    "enc = model.get_layer('state_encoder_time_dist').layer.layers[-1]"
   ]
  },
  {
   "cell_type": "code",
   "execution_count": null,
   "metadata": {},
   "outputs": [],
   "source": [
    "graph = keras.utils.plot_model(enc, \n",
    "    show_shapes=True,\n",
    "    show_layer_names=True,\n",
    "    rankdir=\"TB\")\n"
   ]
  },
  {
   "cell_type": "code",
   "execution_count": null,
   "metadata": {},
   "outputs": [],
   "source": [
    "enc.get_weights()"
   ]
  },
  {
   "cell_type": "code",
   "execution_count": null,
   "metadata": {},
   "outputs": [],
   "source": [
    "dec = model.get_layer('state_decoder_time_dist').layer\n",
    "graph = keras.utils.plot_model(dec, \n",
    "    show_shapes=True,\n",
    "    show_layer_names=True,\n",
    "    rankdir=\"TB\")\n"
   ]
  },
  {
   "cell_type": "code",
   "execution_count": null,
   "metadata": {},
   "outputs": [],
   "source": [
    "dec.get_weights()"
   ]
  }
 ],
 "metadata": {
  "kernelspec": {
   "display_name": "Python 3",
   "language": "python",
   "name": "python3"
  },
  "language_info": {
   "codemirror_mode": {
    "name": "ipython",
    "version": 3
   },
   "file_extension": ".py",
   "mimetype": "text/x-python",
   "name": "python",
   "nbconvert_exporter": "python",
   "pygments_lexer": "ipython3",
   "version": "3.6.9"
  }
 },
 "nbformat": 4,
 "nbformat_minor": 4
}
