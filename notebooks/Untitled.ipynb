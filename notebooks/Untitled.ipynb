{
 "cells": [
  {
   "cell_type": "code",
   "execution_count": 6,
   "metadata": {},
   "outputs": [
    {
     "name": "stderr",
     "output_type": "stream",
     "text": [
      "Using TensorFlow backend.\n"
     ]
    },
    {
     "ename": "NameError",
     "evalue": "name 'delay' is not defined",
     "output_type": "error",
     "traceback": [
      "\u001b[0;31m---------------------------------------------------------------------------\u001b[0m",
      "\u001b[0;31mNameError\u001b[0m                                 Traceback (most recent call last)",
      "\u001b[0;32m<ipython-input-6-3a413dbc5224>\u001b[0m in \u001b[0;36m<module>\u001b[0;34m\u001b[0m\n\u001b[1;32m     26\u001b[0m \u001b[0mtmp_fig\u001b[0m\u001b[0;34m.\u001b[0m\u001b[0mlegend\u001b[0m\u001b[0;34m(\u001b[0m\u001b[0;34m)\u001b[0m\u001b[0;34m\u001b[0m\u001b[0;34m\u001b[0m\u001b[0m\n\u001b[1;32m     27\u001b[0m \u001b[0;31m# tmp_fig.set_ylim(0.1,0.35)\u001b[0m\u001b[0;34m\u001b[0m\u001b[0;34m\u001b[0m\u001b[0;34m\u001b[0m\u001b[0m\n\u001b[0;32m---> 28\u001b[0;31m \u001b[0mtmp_fig\u001b[0m\u001b[0;34m.\u001b[0m\u001b[0mset_title\u001b[0m\u001b[0;34m(\u001b[0m\u001b[0;34m\"MSE for Delay {} ms\"\u001b[0m\u001b[0;34m.\u001b[0m\u001b[0mformat\u001b[0m\u001b[0;34m(\u001b[0m\u001b[0mdelay\u001b[0m\u001b[0;34m*\u001b[0m\u001b[0;36m20\u001b[0m\u001b[0;34m)\u001b[0m\u001b[0;34m)\u001b[0m\u001b[0;34m\u001b[0m\u001b[0;34m\u001b[0m\u001b[0m\n\u001b[0m\u001b[1;32m     29\u001b[0m \u001b[0;32mif\u001b[0m\u001b[0;34m(\u001b[0m\u001b[0mnp\u001b[0m\u001b[0;34m.\u001b[0m\u001b[0mmax\u001b[0m\u001b[0;34m(\u001b[0m\u001b[0mhistory\u001b[0m\u001b[0;34m[\u001b[0m\u001b[0;34m'loss'\u001b[0m\u001b[0;34m]\u001b[0m\u001b[0;34m)\u001b[0m\u001b[0;34m>\u001b[0m\u001b[0;36m1\u001b[0m\u001b[0;34m)\u001b[0m\u001b[0;34m:\u001b[0m\u001b[0;34m\u001b[0m\u001b[0;34m\u001b[0m\u001b[0m\n\u001b[1;32m     30\u001b[0m     \u001b[0mtmp_fig\u001b[0m\u001b[0;34m.\u001b[0m\u001b[0mset_ylim\u001b[0m\u001b[0;34m(\u001b[0m\u001b[0;36m0.1\u001b[0m\u001b[0;34m,\u001b[0m\u001b[0;36m0.35\u001b[0m\u001b[0;34m)\u001b[0m\u001b[0;34m\u001b[0m\u001b[0;34m\u001b[0m\u001b[0m\n",
      "\u001b[0;31mNameError\u001b[0m: name 'delay' is not defined"
     ]
    },
    {
     "data": {
      "image/png": "[encoded data removed]",
      "text/plain": [
       "<Figure size 720x720 with 1 Axes>"
      ]
     },
     "metadata": {
      "needs_background": "light"
     },
     "output_type": "display_data"
    }
   ],
   "source": [
    "import pickle\n",
    "import numpy as np\n",
    "import copy \n",
    "from sklearn import decomposition\n",
    "import os\n",
    "import matplotlib.pyplot as plt\n",
    "import yaml\n",
    "from keras import models\n",
    "from keras import layers\n",
    "from keras import optimizers\n",
    "import tensorflow as tf\n",
    "from helpers import helper_functions\n",
    "\n",
    "new_dir = \"/global/cscratch1/sd/al34/autoruns/different_padding/ncomponents_None_lookback_4_prelayers_2_size_30_rnnsize_30_delay_6_numfinallayers_2_pad1dto_-100\" \n",
    "# load_config(os.path.join(new_dir,'conf.yaml'))\n",
    "\n",
    "fig = plt.figure(figsize = (10,10))\n",
    "history = np.load(os.path.join(new_dir, 'history.npz'))\n",
    "plot_position = 211\n",
    "\n",
    "#print(plot_position)\n",
    "\n",
    "tmp_fig = fig.add_subplot(plot_position)\n",
    "tmp_fig.plot(history['val_loss'], label = \"val loss\")\n",
    "tmp_fig.plot(history['loss'], label = 'train loss')\n",
    "tmp_fig.legend()\n",
    "# tmp_fig.set_ylim(0.1,0.35)\n",
    "tmp_fig.set_title(\"MSE for Delay {} ms\".format(delay*20))\n",
    "if(np.max(history['loss'])>1):\n",
    "    tmp_fig.set_ylim(0.1,0.35)\n",
    "percent_change = (np.max(history['val_loss'])-np.min(history['val_loss']))/np.max(history['val_loss'])\n",
    "tmp_fig.set_xlabel(\"Avg Percent Change for loss: {}\".format(round(percent_change,2)))\n",
    "\n",
    "plot_position = 212\n",
    "#print(plot_position)\n",
    "tmp_fig = fig.add_subplot(plot_position)\n",
    "tmp_fig.plot(history['val_mean_absolute_error'], label = \"val MAE\")\n",
    "tmp_fig.plot(history['mean_absolute_error'], label = 'train MAE')\n",
    "tmp_fig.legend()\n",
    "tmp_fig.set_title(\"MAE for Delay {} ms\".format(delay*20))\n",
    "\n",
    "percent_change = (np.max(history['val_mean_absolute_error'])-np.min(history['val_mean_absolute_error']))/np.max(history['val_mean_absolute_error'])\n",
    "tmp_fig.set_xlabel(\"Avg Percent Change for MAE: {}\".format(round(percent_change, 2)))"
   ]
  },
  {
   "cell_type": "code",
   "execution_count": null,
   "metadata": {},
   "outputs": [],
   "source": []
  }
 ],
 "metadata": {
  "kernelspec": {
   "display_name": "Python 3",
   "language": "python",
   "name": "python3"
  },
  "language_info": {
   "codemirror_mode": {
    "name": "ipython",
    "version": 3
   },
   "file_extension": ".py",
   "mimetype": "text/x-python",
   "name": "python",
   "nbconvert_exporter": "python",
   "pygments_lexer": "ipython3",
   "version": "3.6.8"
  }
 },
 "nbformat": 4,
 "nbformat_minor": 2
}
