{
 "cells": [
  {
   "cell_type": "code",
   "execution_count": 1,
   "id": "394c9624-aa6a-43e7-9781-ec700b43f72e",
   "metadata": {},
   "outputs": [],
   "source": [
    "import os\n",
    "os.environ['CUDA_VISIBLE_DEVICES'] = \"\"\n",
    "import tensorflow as tf\n",
    "import pickle\n",
    "import tensorflow.keras as keras\n",
    "from tensorflow.keras import layers\n",
    "import pandas as pd\n",
    "from tensorflow.keras.layers.experimental import preprocessing\n",
    "#from keras import backend as K\n",
    "import numpy as np\n",
    "#import pandas as pd\n",
    "import sys\n",
    "import time\n",
    "import math\n",
    "sys.path.append(os.path.abspath('../'))\n",
    "import helpers\n",
    "import helpers.data_generator\n",
    "from helpers.data_generator import process_data, DataGenerator\n",
    "from helpers.custom_losses import denorm_loss, hinge_mse_loss\n",
    "from helpers.custom_losses import percent_correct_sign, baseline_MAE\n",
    "# from models.LSTMConv2D import get_model_lstm_conv2d, get_model_simple_lstm\n",
    "# from models.LSTMConv2D import get_model_linear_systems, get_model_conv2d\n",
    "#from utils.callbacks import CyclicLR, TensorBoardWrapper\n",
    "from tensorflow.keras.callbacks import ModelCheckpoint, ReduceLROnPlateau\n",
    "from sklearn.metrics import r2_score\n",
    "from time import strftime, localtime\n",
    "import matplotlib\n",
    "from matplotlib import pyplot as plt\n",
    "import copy\n",
    "%matplotlib inline\n",
    "from helpers.normalization import normalize, denormalize, renormalize\n",
    "from tqdm import tqdm\n",
    "from sklearn import preprocessing\n",
    "from sklearn import decomposition\n",
    "from sklearn.decomposition import PCA\n",
    "from sklearn import linear_model"
   ]
  },
  {
   "cell_type": "code",
   "execution_count": 2,
   "id": "8e6c26bc-684c-479c-b749-a85afc5bc5fa",
   "metadata": {},
   "outputs": [],
   "source": [
    "my_devices = tf.config.experimental.list_physical_devices(device_type='CPU')\n",
    "tf.config.experimental.set_visible_devices(devices= my_devices, device_type='CPU')"
   ]
  },
  {
   "cell_type": "code",
   "execution_count": 3,
   "id": "c8938db4-d7ce-4490-8801-098a9d2dc904",
   "metadata": {},
   "outputs": [],
   "source": [
    "matplotlib_colors = [(0.1215, 0.4667, 0.7058), # blue\n",
    "                     (1.0000, 0.4980, 0.0549), # orange\n",
    "                     (0.1725, 0.6275, 0.1725), # green\n",
    "                     (0.8392, 0.1529, 0.1568), # red\n",
    "                     (0.5804, 0.4039, 0.7412), # violet\n",
    "                     (0.4980, 0.4980, 0.4980), # grey\n",
    "                     (0.0902, 0.7450, 0.8117)] # cyan\n",
    "\n",
    "matlab_colors=[(0.0000, 0.4470, 0.7410), # blue\n",
    "               (0.8500, 0.3250, 0.0980), # reddish orange\n",
    "               (0.9290, 0.6940, 0.1250), # yellow\n",
    "               (0.4940, 0.1840, 0.5560), # purple\n",
    "               (0.4660, 0.6740, 0.1880), # light green\n",
    "               (0.3010, 0.7450, 0.9330), # cyan\n",
    "               (0.6350, 0.0780, 0.1840)] # dark red\n",
    "\n",
    "colorblind_colors = [(0.0000, 0.4500, 0.7000), # blue\n",
    "                     (0.8359, 0.3682, 0.0000), # vermillion\n",
    "                     (0.0000, 0.6000, 0.5000), # bluish green\n",
    "                     (0.9500, 0.9000, 0.2500), # yellow\n",
    "                     (0.3500, 0.7000, 0.9000), # sky blue\n",
    "                     (0.8000, 0.6000, 0.7000), # reddish purple\n",
    "                     (0.9000, 0.6000, 0.0000)] # orange\n",
    "\n",
    "dashes = [(1.0, 0.0, 0.0, 0.0, 0.0, 0.0), # solid\n",
    "          (3.7, 1.6, 0.0, 0.0, 0.0, 0.0), # dashed\n",
    "          (1.0, 1.6, 0.0, 0.0, 0.0, 0.0), # dotted\n",
    "          (6.4, 1.6, 1.0, 1.6, 0.0, 0.0), # dot dash\n",
    "          (3.0, 1.6, 1.0, 1.6, 1.0, 1.6), # dot dot dash\n",
    "          (6.0, 4.0, 0.0, 0.0, 0.0, 0.0), # long dash\n",
    "          (1.0, 1.6, 3.0, 1.6, 3.0, 1.6)] # dash dash dot\n",
    "\n",
    "from matplotlib import rcParams, cycler\n",
    "matplotlib.rcdefaults()\n",
    "rcParams['font.family'] = 'DejaVu Serif'\n",
    "rcParams['mathtext.fontset'] = 'cm'\n",
    "rcParams['font.size'] = 10\n",
    "rcParams['figure.facecolor'] = (1,1,1,1)\n",
    "rcParams['figure.figsize'] = (6,4)\n",
    "rcParams['figure.dpi'] = 141\n",
    "rcParams['axes.spines.top'] = False\n",
    "rcParams['axes.spines.right'] = False\n",
    "rcParams['axes.labelsize'] =  'small'\n",
    "rcParams['axes.titlesize'] = 'medium'\n",
    "rcParams['lines.linewidth'] = 2\n",
    "rcParams['lines.solid_capstyle'] = 'round'\n",
    "rcParams['lines.dash_capstyle'] = 'round'\n",
    "rcParams['lines.dash_joinstyle'] = 'round'\n",
    "rcParams['xtick.labelsize'] = 'x-small'\n",
    "rcParams['ytick.labelsize'] = 'x-small'\n",
    "# rcParams['text.usetex']=True\n",
    "color_cycle = cycler(color=colorblind_colors)\n",
    "dash_cycle = cycler(dashes=dashes)\n",
    "rcParams['axes.prop_cycle'] =  color_cycle\n",
    "\n",
    "labelsize=10\n",
    "ticksize=8"
   ]
  },
  {
   "cell_type": "code",
   "execution_count": 4,
   "id": "26142fd7-50cd-40dc-bf7b-4e32ca39cf81",
   "metadata": {},
   "outputs": [],
   "source": [
    "def convert_attrs(f):\n",
    "    for key in f:\n",
    "        s = f[key]\n",
    "        if isinstance(s, str):\n",
    "            f[key] = np.string_(s)\n",
    "\n",
    "def convert_groups(f):\n",
    "    convert_attrs(f.attrs)\n",
    "    for key in f:\n",
    "        s = f[key]\n",
    "        if isinstance(s,str):\n",
    "            f[key] = np.string_(s)\n",
    "        elif isinstance(s, h5py.Group):\n",
    "            convert_groups(f[key])\n",
    "\n",
    "def convert_h5py(file_in, file_out=None):\n",
    "    if file_out:\n",
    "        shutil.copy(file_in, file_out)\n",
    "    else:\n",
    "        file_out = file_in\n",
    "    f = h5py.File(file_out, 'a')\n",
    "    convert_groups(f)\n",
    "    f.close()"
   ]
  },
  {
   "cell_type": "code",
   "execution_count": 5,
   "id": "79c35314-45e1-4753-ba4c-8aede1694379",
   "metadata": {},
   "outputs": [
    {
     "name": "stdout",
     "output_type": "stream",
     "text": [
      "loaded model: model-conv2d_profiles-dens-temp-q_EFIT01-rotation-press_EFIT01_act-target_density-pinj-tinj-curr_target_15Mar20-03-48_Scenario-265.h5\n",
      "loaded dict: model-conv2d_profiles-dens-temp-q_EFIT01-rotation-press_EFIT01_act-target_density-pinj-tinj-curr_target_15Mar20-03-48_Scenario-265_params.pkl\n",
      "with parameters: dict_keys(['model_type', 'model_kwargs', 'input_profile_names', 'target_profile_names', 'sample_weightin', 'scalar_input_names', 'std_activation', 'batch_size', 'process_data', 'predict_deltas', 'epochs', 'loss_function', 'actuator_names', 'profile_downsample', 'sample_weighting', 'loss_function_kwargs', 'flattop_only', 'raw_data_path', 'invert_q', 'processed_filename_base', 'optimizer', 'optimizer_kwargs', 'shuffle_generators', 'pruning_functions', 'normalization_method', 'window_length', 'window_overlap', 'profile_lookback', 'actuator_lookback', 'lookahead', 'sample_step', 'uniform_normalization', 'train_frac', 'val_frac', 'val_idx', 'nshots', 'excluded_shots', 'lookbacks', 'sig_names', 'dt', 'normalization_dict', 'profile_length', 'date', 'runname', 'steps_per_epoch', 'val_steps', 'model_path', 'history', 'history_params', 'evaluation_metrics'])\n"
     ]
    }
   ],
   "source": [
    "\"\"\"THIS IS THE ONE FROM THE PAPER AS OF 3/5\"\"\"\n",
    "import h5py\n",
    "import shutil\n",
    "import numpy as np\n",
    "import sys\n",
    "\n",
    "file_path='/home/jabbate/run_results_12_11/model-conv2d_profiles-dens-temp-q_EFIT01-rotation-press_EFIT01_act-curr_target-pinj-tinj-target_density-bt_targ-dens-temp-q_EFIT01-rotation-press_EFIT01_profLB-0_actLB-6_ftop-True_11Dec19-18-30_Scenario-12.h5'\n",
    "\n",
    "base_path = os.path.expanduser('/projects/EKOLEMEN/profile_predictor/run_results_03_10/')\n",
    "\"\"\"good but overfit\"\"\"\n",
    "#model_path = 'model-conv2d_profiles-dens-temp-q_EFIT01-rotation-press_EFIT01_act-target_density-pinj-tinj-curr_target_01Mar20-19-50_Scenario-93.h5'\n",
    "\"\"\"good val but looks bad?\"\"\"\n",
    "# model_path = 'model-conv2d_profiles-dens-temp-q_EFIT01-rotation-press_EFIT01_act-target_density-pinj-tinj-curr_target_01Mar20-02-31_Scenario-71.h5'\n",
    "\n",
    "model_path = 'model-conv2d_profiles-dens-temp-q_EFIT01-rotation-press_EFIT01_act-target_density-pinj-tinj-curr_target_15Mar20-03-48_Scenario-265.h5'\n",
    "file_path = base_path + model_path\n",
    "\n",
    "convert_h5py(file_path)\n",
    "\n",
    "model = keras.models.load_model(file_path, compile=False)\n",
    "print('loaded model: ' + file_path.split('/')[-1])\n",
    "file_path = file_path[:-3] + '_params.pkl'\n",
    "with open(file_path, 'rb') as f:\n",
    "    scenario = pickle.load(f, encoding='latin1')\n",
    "print('loaded dict: ' + file_path.split('/')[-1])\n",
    "print('with parameters: ' + str(scenario.keys()))"
   ]
  },
  {
   "cell_type": "code",
   "execution_count": 6,
   "id": "18e9aafe-3b36-4b09-ad78-35b1d73540ab",
   "metadata": {},
   "outputs": [
    {
     "name": "stdout",
     "output_type": "stream",
     "text": [
      "Loading\n",
      "Signals: curr_target, dens, density_estimate, kappa_EFIT01, li_EFIT01, pinj, press_EFIT01, q_EFIT01, rotation, target_density, temp, tinj, triangularity_bot_EFIT01, triangularity_top_EFIT01, volume_EFIT01\n",
      "Number of useable shots:  6378\n",
      "Number of shots used:  6378\n",
      "Total number of timesteps:  671222\n",
      "Shots with Complete NaN: \n",
      "454582 samples total\n",
      "Removing ECH\n",
      "Removed 194246 samples\n",
      "260336 samples remaining\n",
      "Removing timesteps WITHOUT gas feedback\n",
      "Removed 52091 samples\n",
      "208245 samples remaining\n",
      "Removing weird I-coils\n",
      "Removed 46528 samples\n",
      "161717 samples remaining\n",
      "Removing NaN\n",
      "Removed 0 samples\n",
      "161717 samples remaining\n",
      "Removing dudtrip\n",
      "Removed 9571 samples\n",
      "152146 samples remaining\n",
      "152146 samples remaining after pruning\n"
     ]
    },
    {
     "name": "stderr",
     "output_type": "stream",
     "text": [
      "Denormalizing: 100%|##########| 24/24 [00:00<00:00, 435.91it/s]\n",
      "Normalizing:  58%|#####8    | 14/24 [00:00<00:00, 134.04it/s]"
     ]
    },
    {
     "name": "stdout",
     "output_type": "stream",
     "text": [
      "Total number of samples:  152146\n",
      "Number of training samples:  137014\n",
      "Number of validation samples:  15132\n"
     ]
    },
    {
     "name": "stderr",
     "output_type": "stream",
     "text": [
      "Normalizing: 100%|##########| 24/24 [00:00<00:00, 95.70it/s] \n"
     ]
    }
   ],
   "source": [
    "orig_data_path = '/scratch/gpfs/jabbate/full_data/train_data_full.pkl'\n",
    "test_data_path = '/scratch/gpfs/jabbate/full_data_with_error/test_data.pkl' \n",
    "_, traindata, normalization_dict = helpers.data_generator.process_data(orig_data_path,\n",
    "                                                      scenario['sig_names'],\n",
    "                                                      scenario['normalization_method'],\n",
    "                                                      scenario['window_length'],\n",
    "                                                      scenario['window_overlap'],\n",
    "                                                      scenario['lookbacks'],\n",
    "                                                      scenario['lookahead'],\n",
    "                                                      scenario['sample_step'],\n",
    "                                                      scenario['uniform_normalization'],\n",
    "                                                      1, #scenario['train_frac'],\n",
    "                                                      0, #scenario['val_frac'],\n",
    "                                                      scenario['nshots'],\n",
    "                                                      2, #scenario['verbose']\n",
    "                                                      scenario['flattop_only'],\n",
    "                                                      randomize=False,\n",
    "                                                      pruning_functions=scenario['pruning_functions'],\n",
    "                                                      excluded_shots = scenario['excluded_shots'],\n",
    "                                                      delta_sigs = [],\n",
    "                                                      invert_q=scenario.setdefault('invert_q',False),\n",
    "                                                      val_idx = 0)\n",
    "\n",
    "traindata = helpers.normalization.renormalize(helpers.normalization.denormalize(traindata.copy(),normalization_dict),scenario['normalization_dict'])\n"
   ]
  },
  {
   "cell_type": "code",
   "execution_count": 7,
   "id": "818470f5-791c-4209-9c24-920932645e00",
   "metadata": {},
   "outputs": [],
   "source": [
    "traindatafull = copy.deepcopy(traindata)\n",
    "#traindata = {sig:traindatafull[sig][:,-1,::2] for sig in scenario['target_profile_names']}"
   ]
  },
  {
   "cell_type": "code",
   "execution_count": 8,
   "id": "03993c1a-dc4e-4473-8b02-a6ff0dbe6c38",
   "metadata": {},
   "outputs": [],
   "source": [
    "train_generator = DataGenerator(traindata,\n",
    "                                1, #scenario['batch_size'],\n",
    "                                scenario['input_profile_names'],\n",
    "                                scenario['actuator_names'],\n",
    "                                scenario['target_profile_names'],\n",
    "                                scenario['scalar_input_names'],\n",
    "                                scenario['lookbacks'],\n",
    "                                scenario['lookahead'],\n",
    "                                scenario['predict_deltas'],\n",
    "                                scenario['profile_downsample'],\n",
    "                                False,\n",
    "                                sample_weights = 'std') #scenario['shuffle_generators'])"
   ]
  },
  {
   "cell_type": "code",
   "execution_count": 9,
   "id": "ea3b5c22-59ad-4669-a87d-61d02507d3c5",
   "metadata": {},
   "outputs": [],
   "source": [
    "train_generator_batch = DataGenerator(traindatafull,\n",
    "                                128, #scenario['batch_size'],\n",
    "                                scenario['input_profile_names'],\n",
    "                                #all_profiles,\n",
    "                                scenario['actuator_names'],\n",
    "                                scenario['target_profile_names'],\n",
    "                                #all_profiles,\n",
    "                                scenario['scalar_input_names'],\n",
    "                                scenario['lookbacks'],\n",
    "                                scenario['lookahead'],\n",
    "                                scenario['predict_deltas'],\n",
    "                                scenario['profile_downsample'],\n",
    "                                shuffle=False,\n",
    "                                sample_weights = None) #scenario['shuffle_generators'])"
   ]
  },
  {
   "cell_type": "code",
   "execution_count": 10,
   "id": "d3ca65c1-24eb-48c2-9c72-28f0206ea772",
   "metadata": {},
   "outputs": [
    {
     "name": "stdout",
     "output_type": "stream",
     "text": [
      "Loading\n",
      "Signals: curr_target, dens, density_estimate, kappa_EFIT01, li_EFIT01, pinj, press_EFIT01, q_EFIT01, rotation, target_density, temp, tinj, triangularity_bot_EFIT01, triangularity_top_EFIT01, volume_EFIT01\n",
      "Number of useable shots:  1116\n",
      "Number of shots used:  1116\n",
      "Total number of timesteps:  124182\n",
      "Shots with Complete NaN: \n",
      "85701 samples total\n",
      "Removing ECH\n",
      "Removed 46375 samples\n",
      "39326 samples remaining\n",
      "Removing timesteps WITHOUT gas feedback\n",
      "Removed 5176 samples\n",
      "34150 samples remaining\n",
      "Removing weird I-coils\n",
      "Removed 7495 samples\n",
      "26655 samples remaining\n",
      "Removing NaN\n",
      "Removed 0 samples\n",
      "26655 samples remaining\n",
      "Removing dudtrip\n",
      "Removed 620 samples\n",
      "26035 samples remaining\n",
      "26035 samples remaining after pruning\n"
     ]
    },
    {
     "name": "stderr",
     "output_type": "stream",
     "text": [
      "Denormalizing: 100%|##########| 24/24 [00:00<00:00, 283.90it/s]\n",
      "Normalizing:   0%|          | 0/24 [00:00<?, ?it/s]"
     ]
    },
    {
     "name": "stdout",
     "output_type": "stream",
     "text": [
      "Total number of samples:  26035\n",
      "Number of training samples:  23469\n",
      "Number of validation samples:  2566\n"
     ]
    },
    {
     "name": "stderr",
     "output_type": "stream",
     "text": [
      "Normalizing: 100%|##########| 24/24 [00:00<00:00, 54.83it/s]\n"
     ]
    }
   ],
   "source": [
    "\n",
    "orig_data_path = '/scratch/gpfs/jabbate/full_data/train_data_full.pkl'\n",
    "test_data_path = '/scratch/gpfs/jabbate/full_data_with_error/test_data.pkl' \n",
    "testdata, valdata, test_normalization_dict = helpers.data_generator.process_data(test_data_path,\n",
    "                                                      scenario['sig_names'],\n",
    "                                                      scenario['normalization_method'],\n",
    "                                                      scenario['window_length'],\n",
    "                                                      scenario['window_overlap'],\n",
    "                                                      scenario['lookbacks'],\n",
    "                                                      scenario['lookahead'],\n",
    "                                                      scenario['sample_step'],\n",
    "                                                      scenario['uniform_normalization'],\n",
    "                                                      1, #scenario['train_frac'],\n",
    "                                                      0, #scenario['val_frac'],\n",
    "                                                      scenario['nshots'],\n",
    "                                                      2, #scenario['verbose']\n",
    "                                                      scenario['flattop_only'],\n",
    "                                                      randomize=False,\n",
    "                                                      pruning_functions=scenario['pruning_functions'],\n",
    "                                                      excluded_shots = scenario['excluded_shots'],\n",
    "                                                      delta_sigs = [],\n",
    "                                                      invert_q=scenario.setdefault('invert_q',False),\n",
    "                                                      val_idx = 1)\n",
    "\n",
    "testdata = helpers.normalization.renormalize(helpers.normalization.denormalize(testdata.copy(),test_normalization_dict),scenario['normalization_dict'])"
   ]
  },
  {
   "cell_type": "code",
   "execution_count": 11,
   "id": "7cb14b96-2555-449a-954a-1ef20af5d761",
   "metadata": {},
   "outputs": [],
   "source": [
    "testdata = copy.deepcopy(traindata)\n",
    "testdatafull = copy.deepcopy(testdata)"
   ]
  },
  {
   "cell_type": "code",
   "execution_count": 12,
   "id": "e8f4ffbe-ea1e-40eb-af33-3e766554c952",
   "metadata": {},
   "outputs": [
    {
     "name": "stdout",
     "output_type": "stream",
     "text": [
      "0,1,2,3,4,5,6,7,8,9,10,11,12,13,14,15,16,17,18,19,20,21,22,23,24,25,26,27,28,29,30,31,32,33,34,35,36,37,38,39,40,41,42,43,44,45,46,47,48,49,50,51,52,53,54,55,56,57,58,59,60,61,62,63,64,65,66,67,68,69,70,71,72,73,74,75,76,77,78,79,80,81,82,83,84,85,86,87,88,89,90,91,92,93,94,95,96,97,98,99,100,101,102,103,104,105,106,107,108,109,110,111,112,113,114,115,116,117,118,"
     ]
    }
   ],
   "source": [
    "inputs = {sig:[] for sig in scenario['target_profile_names']}\n",
    "baseline = {sig:[] for sig in scenario['target_profile_names']}\n",
    "predictions = {sig:[] for sig in scenario['target_profile_names']}\n",
    "for i in range(len(train_generator_batch)):\n",
    "    print(i,end=',')\n",
    "    sample = train_generator_batch[i]\n",
    "    out = model.predict(sample[0])\n",
    "    for i, sig in enumerate(scenario['target_profile_names']):\n",
    "        inputs[sig].append(sample[0][\"input_\"+sig][:,0,:])\n",
    "        if scenario['predict_deltas']:\n",
    "            baseline[sig].append(sample[1]['target_'+sig])\n",
    "            predictions[sig].append(out[i])\n",
    "        else:\n",
    "            baseline[sig].append(sample[1]['target_'+sig].squeeze() - sample[0]['input_'+sig].squeeze())\n",
    "            predictions[sig].append(out[i].squeeze() - sample[0]['input_'+sig].squeeze())\n",
    "inputs = {sig:np.concatenate(inputs[sig],axis=0) for sig in scenario['target_profile_names']}\n",
    "baseline = {sig:np.concatenate(baseline[sig],axis=0) for sig in scenario['target_profile_names']}\n",
    "predictions = {sig:np.concatenate(predictions[sig],axis=0) for sig in scenario['target_profile_names']}\n",
    "model_err = {sig: (predictions[sig] - baseline[sig]) for sig in scenario['target_profile_names']}\n",
    "model_err_abs = {sig: np.abs(predictions[sig] - baseline[sig]) for sig in scenario['target_profile_names']}"
   ]
  },
  {
   "cell_type": "code",
   "execution_count": 13,
   "id": "c96fe8df-0c57-4586-bf61-edefef743db6",
   "metadata": {},
   "outputs": [
    {
     "name": "stdout",
     "output_type": "stream",
     "text": [
      "0,1,2,3,4,5,6,7,8,9,10,11,12,13,14,15,16,17,18,19,20,21,22,23,24,25,26,27,28,29,30,31,32,33,34,35,36,37,38,39,40,41,42,43,44,45,46,47,48,49,50,51,52,53,54,55,56,57,58,59,60,61,62,63,64,65,66,67,68,69,70,71,72,73,74,75,76,77,78,79,80,81,82,83,84,85,86,87,88,89,90,91,92,93,94,95,96,97,98,99,100,101,102,103,104,105,106,107,108,109,110,111,112,113,114,115,116,117,118,"
     ]
    }
   ],
   "source": [
    "inputs = {sig:[] for sig in scenario['target_profile_names']}\n",
    "for i in range(len(train_generator_batch)):\n",
    "    print(i,end=',')\n",
    "    sample = train_generator_batch[i]\n",
    "    out = model.predict(sample[0])\n",
    "    for i, sig in enumerate(scenario['target_profile_names']):\n",
    "        inputs[sig].append(sample[0][\"input_\"+sig][:,0,:])\n",
    "#print(inputs)\n",
    "#print(inputs2)"
   ]
  },
  {
   "cell_type": "code",
   "execution_count": 14,
   "id": "19a1f7d4-4106-4c06-aabf-7c31ce622ad2",
   "metadata": {},
   "outputs": [
    {
     "name": "stdout",
     "output_type": "stream",
     "text": [
      "dens\n",
      "[[-0.19180018 -0.19223382 -0.19641    ... -0.1098849  -0.03226414\n",
      "  -0.02188841]\n",
      " [-0.04788183 -0.04380316 -0.02780151 ... -0.13400435 -0.06712969\n",
      "  -0.0219873 ]\n",
      " [-0.19918956 -0.19252217 -0.16520602 ... -0.05804759 -0.02607564\n",
      "  -0.00591739]\n",
      " ...\n",
      " [-0.00967059 -0.02349222 -0.03609447 ...  0.00894898 -0.05536464\n",
      "  -0.01310792]\n",
      " [ 0.45544082  0.40400484  0.43631965 ... -0.3612314   0.0998171\n",
      "   0.26035857]\n",
      " [ 0.37330484  0.33624047  0.34815532 ... -0.5923833   0.12958777\n",
      "   0.27777666]]\n",
      "dens  done full\n",
      "dens  abs done full\n",
      "temp\n",
      "[[ 0.03571695  0.04044792  0.04166755 ... -0.05088061 -0.0115652\n",
      "  -0.01501356]\n",
      " [-0.02424086 -0.02715341 -0.02706452 ... -0.08517347 -0.01160568\n",
      "  -0.00417025]\n",
      " [ 0.01665614  0.01156141  0.01163541 ... -0.07048777 -0.02403783\n",
      "  -0.00318289]\n",
      " ...\n",
      " [ 0.07307532  0.06901826  0.06557326 ... -0.00097628 -0.01369146\n",
      "  -0.00068536]\n",
      " [ 0.14601958  0.1615026   0.13167536 ... -0.14613988  0.00684169\n",
      "  -0.04435905]\n",
      " [ 0.02700865  0.0272752  -0.00186205 ... -0.13474742  0.01885219\n",
      "  -0.04300615]]\n",
      "temp  done full\n",
      "temp  abs done full\n",
      "q_EFIT01\n",
      "[[ 1.2080401e-01  1.5861705e-01  3.8389862e-03 ... -4.1768476e-03\n",
      "  -1.5387686e-02  4.4231676e-03]\n",
      " [ 1.2710871e-01  1.4168966e-01 -1.1971593e-03 ... -7.5769443e-03\n",
      "  -2.2227364e-02  6.7830416e-03]\n",
      " [ 9.3928188e-02  1.1152639e-01 -2.3049578e-02 ... -1.7210528e-02\n",
      "  -3.0845804e-02  7.0795626e-03]\n",
      " ...\n",
      " [ 3.3586338e-02  2.6267942e-02  2.9655039e-02 ...  1.4539571e-03\n",
      "   8.8123069e-04  8.1346720e-05]\n",
      " [-3.4947455e-02 -2.4779052e-02 -3.7011057e-02 ... -3.4400080e-03\n",
      "  -1.0337626e-02  2.2541662e-04]\n",
      " [-2.6836991e-03  1.4422983e-02 -1.2795031e-03 ...  5.0270138e-04\n",
      "  -5.1213843e-03 -5.1435619e-04]]\n",
      "q_EFIT01  done full\n",
      "q_EFIT01  abs done full\n",
      "rotation\n",
      "[[-0.18254268 -0.1418634  -0.16671407 ... -0.0358574  -0.0535769\n",
      "  -0.08873157]\n",
      " [ 0.00583592  0.00538203 -0.0111863  ...  0.07113293  0.03616427\n",
      "  -0.01342341]\n",
      " [-0.06921172 -0.12040687 -0.13727073 ...  0.06180003  0.02025474\n",
      "  -0.02691226]\n",
      " ...\n",
      " [-0.00290559 -0.00305417 -0.00311283 ... -0.00166786  0.00090885\n",
      "  -0.00128495]\n",
      " [-0.44918966 -0.21978474 -0.39321232 ... -0.07072335  0.0997068\n",
      "   0.05856641]\n",
      " [-0.26263022 -0.09782839 -0.2706256  ... -0.15989882  0.04714924\n",
      "   0.07110732]]\n",
      "rotation  done full\n",
      "rotation  abs done full\n",
      "press_EFIT01\n",
      "[[-5.1872969e-01 -3.3506829e-01 -3.1389192e-01 ...  3.4220446e-02\n",
      "   1.5933026e-02 -3.6089495e-04]\n",
      " [-2.0140165e-01 -2.7303964e-02  1.0434985e-03 ...  2.6246000e-02\n",
      "   1.2358740e-02 -5.4256245e-04]\n",
      " [-1.5203901e-01 -1.6584158e-02  5.4801404e-03 ...  3.1954285e-02\n",
      "   1.5970491e-02 -5.6850165e-04]\n",
      " ...\n",
      " [ 2.7582888e-02  1.4043111e-02  2.5487304e-02 ...  1.5227012e-03\n",
      "   1.4524572e-03  5.7137012e-04]\n",
      " [-2.4676514e-01 -1.9976306e-01 -1.9732141e-01 ...  1.8483527e-02\n",
      "  -1.2314819e-02 -9.2230625e-03]\n",
      " [-8.5465670e-02 -8.8832140e-02 -6.9412947e-02 ...  7.5553805e-03\n",
      "  -1.9244947e-02 -2.1723658e-04]]\n",
      "press_EFIT01  done full\n",
      "press_EFIT01  abs done full\n",
      "15132\n",
      "33\n",
      "15132\n",
      "33\n",
      "5\n",
      "33\n"
     ]
    }
   ],
   "source": [
    "num_components=5\n",
    "full_pca_fitter_errs = {}\n",
    "full_pca_fitter_errs_abs = {}\n",
    "#full_pca_fitter_preds = {}\n",
    "profiles=scenario['target_profile_names']\n",
    "\n",
    "#delta_pca_fitters = {}\n",
    "\n",
    "for index in range(5):\n",
    "    print((profiles[index]))\n",
    "    comp = str(profiles[index])\n",
    "    print(model_err[comp])\n",
    "    full_err = model_err[comp]\n",
    "    full_err_abs = model_err_abs[comp]\n",
    "    #full_pred = predictions[comp]\n",
    "    full_pca_fitter_errs[comp] = decomposition.IncrementalPCA(n_components=num_components).fit(full_err)\n",
    "    print(profiles[index], ' done full')\n",
    "    full_pca_fitter_errs_abs[comp] = decomposition.IncrementalPCA(n_components=num_components).fit(full_err_abs)\n",
    "    print(profiles[index], ' abs done full')\n",
    "    #full_pca_fitter_preds[comp] = decomposition.IncrementalPCA(n_components=num_components).fit(full_pred)\n",
    "    #print(profiles[index], ' pred done full')\n",
    "print(len(full_err))\n",
    "print(len(full_err[0]))\n",
    "print(len(full_err_abs))\n",
    "print(len(full_err_abs[0]))\n",
    "print(len(full_pca_fitter_errs['dens'].components_))\n",
    "print(len(full_pca_fitter_errs['dens'].components_[0]))"
   ]
  },
  {
   "cell_type": "code",
   "execution_count": 15,
   "id": "44b6a688-ad90-49fd-b0e7-04824521b43d",
   "metadata": {},
   "outputs": [
    {
     "name": "stdout",
     "output_type": "stream",
     "text": [
      "dens  done full\n",
      "temp  done full\n",
      "q_EFIT01  done full\n",
      "rotation  done full\n",
      "press_EFIT01  done full\n"
     ]
    }
   ],
   "source": [
    "num_components=5\n",
    "full_pca_fitters = {}\n",
    "full_profiles = {}\n",
    "#delta_pca_fitters = {}\n",
    "\n",
    "for profile in profiles:\n",
    "    full = np.array([train_generator[i][0]['input_' + profile] for i in range(len(train_generator))]).squeeze()\n",
    "    #delta = np.array([train_generator[i][1]['target_' + profile] for i in range(len(train_generator))]).squeeze()\n",
    "    #print(profile, ' made arrays')\n",
    "    full_profiles[profile] = full\n",
    "    full_pca_fitters[profile] = decomposition.IncrementalPCA(n_components=num_components).fit(full)\n",
    "    print(profile, ' done full')\n",
    "    #delta_pca_fitters[profile] = decomposition.IncrementalPCA(n_components=num_components).fit(delta)\n",
    "    #print(profile, ' done deltas')"
   ]
  },
  {
   "cell_type": "code",
   "execution_count": 16,
   "id": "bec2099a-39d2-420e-8fd2-8fbfa20dabc3",
   "metadata": {},
   "outputs": [
    {
     "name": "stdout",
     "output_type": "stream",
     "text": [
      "15132\n",
      "33\n"
     ]
    }
   ],
   "source": [
    "print(len(model_err['dens']))\n",
    "print(len(model_err['dens'][0]))"
   ]
  },
  {
   "cell_type": "code",
   "execution_count": 17,
   "id": "c3b903a1-dbba-490c-a2ba-9978d31d6305",
   "metadata": {},
   "outputs": [
    {
     "name": "stdout",
     "output_type": "stream",
     "text": [
      "5\n",
      "15132\n",
      "5\n",
      "5\n",
      "15132\n",
      "5\n"
     ]
    }
   ],
   "source": [
    "'''coefficients of PCA decomposition'''\n",
    "# for profile in profiles:\n",
    "#     print(\"Coeffs for \" + profile +\": \" + decomposition.IncrementalPCA(n_components=num_components).fit_transform(full))\n",
    "#     print(\"Coeffs for errors in \" + profile +\": \" + decomposition.IncrementalPCA(n_components=num_components).fit_transform(full_errs))\n",
    "#     print(\"Coeffs for abs errors in \" + profile +\": \" + decomposition.IncrementalPCA(n_components=num_components).fit_transform(full_errs_abs))\n",
    "\n",
    "# for profile in profiles:\n",
    "#     for sig in scenario['target_profile_names']:   \n",
    "#         print(full_pca_fitters[profile].transform(traindata[sig]))\n",
    "\n",
    "coeff_og = {}\n",
    "coeff_err = {}\n",
    "coeff_err_abs = {}\n",
    "for profile in profiles:\n",
    "    full = np.array([train_generator[i][0]['input_' + profile] for i in range(len(train_generator))]).squeeze()\n",
    "    coeff_og[profile+\"\"] = decomposition.IncrementalPCA(n_components=5).fit_transform(full)\n",
    "    coeff_err[profile+\"\"] = decomposition.IncrementalPCA(n_components=5).fit_transform(model_err[profile])\n",
    "    coeff_err_abs[profile+\"\"] = decomposition.IncrementalPCA(n_components=5).fit_transform(model_err_abs[profile])\n",
    "\n",
    "print(len(coeff_og))\n",
    "print(len(coeff_og['dens']))\n",
    "print(len(coeff_og['dens'][0]))\n",
    "print(len(coeff_err))\n",
    "print(len(coeff_err['dens']))\n",
    "print(len(coeff_err['dens'][0]))"
   ]
  },
  {
   "cell_type": "code",
   "execution_count": 18,
   "id": "8610cbab-fc78-466c-ac2c-bee748f63a0d",
   "metadata": {},
   "outputs": [
    {
     "name": "stdout",
     "output_type": "stream",
     "text": [
      "15132\n",
      "5\n",
      "15132\n",
      "5\n",
      "15132\n",
      "2\n",
      "15132\n",
      "5\n"
     ]
    }
   ],
   "source": [
    "'''chop off last three pca modes of the pressure profile'''\n",
    "#coeff_og = np.concatenate((coeff_og[profiles[0]], coeff_og[profiles[1]], coeff_og[profiles[2]], coeff_og[profiles[3]], coeff_og[profiles[4]][:, 0:2]), axis=1)\n",
    "coeff_og_sliced = coeff_og.copy()\n",
    "coeff_og_sliced['press_EFIT01'] = coeff_og['press_EFIT01'][:, 0:2]\n",
    "coeff_err_sliced = coeff_err.copy()\n",
    "coeff_err_sliced['press_EFIT01'] = coeff_err['press_EFIT01'][:, 0:2]\n",
    "#print(coeff_og['press_EFIT01'])\n",
    "print(len(coeff_og['press_EFIT01']))\n",
    "print(len(coeff_og['press_EFIT01'][0]))\n",
    "print(len(coeff_og['temp']))\n",
    "print(len(coeff_og['temp'][0]))\n",
    "print(len(coeff_og_sliced['press_EFIT01']))\n",
    "print(len(coeff_og_sliced['press_EFIT01'][0]))\n",
    "print(len(coeff_og_sliced['temp']))\n",
    "print(len(coeff_og_sliced['temp'][0]))"
   ]
  },
  {
   "cell_type": "code",
   "execution_count": 56,
   "id": "2212aae2-3474-48bc-ab05-e8f11958aeb6",
   "metadata": {},
   "outputs": [
    {
     "name": "stdout",
     "output_type": "stream",
     "text": [
      "15132\n",
      "33\n",
      "15132\n",
      "33\n"
     ]
    }
   ],
   "source": [
    "print(len(full_profiles['dens']))\n",
    "print(len(full_profiles['dens'][0]))\n",
    "print(len(baseline['dens']))\n",
    "print(len(baseline['dens'][0]))"
   ]
  },
  {
   "cell_type": "code",
   "execution_count": 19,
   "id": "aeb86672-0104-4472-8035-6a3a43abfe58",
   "metadata": {},
   "outputs": [],
   "source": [
    "'DNN using full profiles to predict model errs'\n",
    "dataset = []\n",
    "counter = 0\n",
    "    \n",
    "#dataset: 33 profs for dens, 33 profs for temp, etc. Then 33 errs for dens, etc. \n",
    "#15132x330 (165 for inputs, 165 for errors)\n",
    "for profile in profiles:\n",
    "    if counter == 0:\n",
    "        dataset = full_profiles[profile+\"\"]\n",
    "    else:\n",
    "        dataset = np.concatenate((dataset, full_profiles[profile+\"\"]), axis=1)\n",
    "    counter +=1\n",
    "    \n",
    "for profile in profiles:\n",
    "    dataset = np.concatenate((dataset, np.abs(model_err[profile+\"\"])), axis=1)\n",
    "\n",
    "ds = pd.DataFrame(dataset)\n",
    "#print(ds)\n",
    "\n",
    "train_dataset = ds.sample(frac=0.9, random_state=0)\n",
    "test_dataset = ds.drop(train_dataset.index)\n",
    "\n",
    "train_features = train_dataset.copy()\n",
    "#print(train_features)\n",
    "#print(type(train_features))\n",
    "test_features = test_dataset.copy()\n",
    "\n",
    "#normalizer = preprocessing.Normalization(axis=-1)\n",
    "#normalizer.adapt(train_features.to_numpy())"
   ]
  },
  {
   "cell_type": "code",
   "execution_count": 57,
   "id": "eb97ce43-2492-476e-ac22-a22bae3927bf",
   "metadata": {},
   "outputs": [],
   "source": [
    "datasetb = []\n",
    "datasetp = []\n",
    "counter=0\n",
    "for profile in profiles:\n",
    "    if counter == 0:\n",
    "        datasetb = baseline[profile+\"\"]\n",
    "        datasetp = predictions[profile+\"\"]\n",
    "    else:\n",
    "        datasetb = np.concatenate((datasetb, baseline[profile+\"\"]), axis=1)\n",
    "        datasetp = np.concatenate((datasetp, predictions[profile+\"\"]), axis=1)\n",
    "    counter +=1"
   ]
  },
  {
   "cell_type": "code",
   "execution_count": 61,
   "id": "a260e1d7-2b96-47f0-b1df-52571dcc6e6a",
   "metadata": {},
   "outputs": [
    {
     "name": "stdout",
     "output_type": "stream",
     "text": [
      "1513\n",
      "1513\n",
      "1513\n",
      "1513\n",
      "1513\n",
      "1513\n"
     ]
    }
   ],
   "source": [
    "ds_base = pd.DataFrame(datasetb)\n",
    "ds_pred = pd.DataFrame(datasetp)\n",
    "train_base = ds_base.sample(frac=0.9, random_state=0)\n",
    "test_base = ds_base.drop(train_base.index)\n",
    "train_pred = ds_pred.sample(frac=0.9, random_state=0)\n",
    "test_pred = ds_pred.drop(train_pred.index)\n",
    "print(len(test_base))\n",
    "print(len(test_base[0]))\n",
    "print(len(test_pred))\n",
    "print(len(test_pred[0]))\n",
    "print(len(test_dataset))\n",
    "print(len(test_dataset[0]))"
   ]
  },
  {
   "cell_type": "code",
   "execution_count": 20,
   "id": "ae4e7651-43bf-46f9-a086-9a0f82cc3f7f",
   "metadata": {},
   "outputs": [],
   "source": [
    "import tensorflow as tf\n",
    "import pickle\n",
    "import tensorflow.keras as keras\n",
    "from tensorflow.keras import layers\n",
    "import pandas as pd\n",
    "from tensorflow.keras.layers.experimental import preprocessing\n",
    "\n",
    "def custom_loss_function(y_actual, y_predicted):\n",
    "    err = y_actual-y_predicted\n",
    "    is_neg_err = tf.abs(err) < 0\n",
    "    neg_err_loss = 0.1 * err**2\n",
    "    pos_err_loss = err**2\n",
    "\n",
    "    return tf.where(is_neg_err, neg_err_loss, pos_err_loss)"
   ]
  },
  {
   "cell_type": "code",
   "execution_count": 21,
   "id": "8eb1016f-60db-4ef8-81ca-456748940269",
   "metadata": {},
   "outputs": [],
   "source": [
    "callback = tf.keras.callbacks.EarlyStopping(monitor='loss', min_delta=0.0001, patience=5)\n",
    "reduce_lr = tf.keras.callbacks.ReduceLROnPlateau(monitor='val_loss', factor=0.7, patience=3)"
   ]
  },
  {
   "cell_type": "code",
   "execution_count": 22,
   "id": "5e7fdf7c-9053-4d8b-96eb-cd240d174968",
   "metadata": {},
   "outputs": [],
   "source": [
    "'''DNN'''\n",
    "def build_and_compile_model():\n",
    "    model = tf.keras.Sequential()\n",
    "    model.add(tf.keras.layers.Flatten(input_shape =(165,)))\n",
    "    model.add(tf.keras.layers.Dense(165, activation='relu'))\n",
    "    model.add(tf.keras.layers.Dense(330, activation='relu'))\n",
    "    model.add(tf.keras.layers.Dense(660, activation='relu'))\n",
    "    model.add(tf.keras.layers.Dense(330, activation='relu'))\n",
    "    model.add(tf.keras.layers.Dense(165, activation='relu'))\n",
    "        \n",
    "    model.compile(loss=custom_loss_function,optimizer=tf.keras.optimizers.Adam(0.001))\n",
    "\n",
    "    return model\n",
    "\n",
    "dnn_err_model = build_and_compile_model()\n",
    "err_model = dnn_err_model.fit(train_features.to_numpy()[:, 0:165], \n",
    "                              train_features.to_numpy()[:, 165:], \n",
    "                              validation_split=1.0/9, \n",
    "                              verbose=0, \n",
    "                              epochs=100, callbacks=[callback,reduce_lr])"
   ]
  },
  {
   "cell_type": "code",
   "execution_count": 23,
   "id": "87ef952f-8c25-4e32-8faa-ada22d118cb0",
   "metadata": {},
   "outputs": [
    {
     "data": {
      "text/html": [
       "<div>\n",
       "<style scoped>\n",
       "    .dataframe tbody tr th:only-of-type {\n",
       "        vertical-align: middle;\n",
       "    }\n",
       "\n",
       "    .dataframe tbody tr th {\n",
       "        vertical-align: top;\n",
       "    }\n",
       "\n",
       "    .dataframe thead th {\n",
       "        text-align: right;\n",
       "    }\n",
       "</style>\n",
       "<table border=\"1\" class=\"dataframe\">\n",
       "  <thead>\n",
       "    <tr style=\"text-align: right;\">\n",
       "      <th></th>\n",
       "      <th>Custom loss [model_err]</th>\n",
       "    </tr>\n",
       "  </thead>\n",
       "  <tbody>\n",
       "    <tr>\n",
       "      <th>165.330.330.165.100e.0.5lr</th>\n",
       "      <td>0.005032</td>\n",
       "    </tr>\n",
       "  </tbody>\n",
       "</table>\n",
       "</div>"
      ],
      "text/plain": [
       "                            Custom loss [model_err]\n",
       "165.330.330.165.100e.0.5lr                 0.005032"
      ]
     },
     "execution_count": 23,
     "metadata": {},
     "output_type": "execute_result"
    }
   ],
   "source": [
    "test_results = {}\n",
    "test_results['165.330.330.165.100e.0.5lr'] = dnn_err_model.evaluate(\n",
    "    test_features.to_numpy()[:, 0:165], test_features.to_numpy()[:,165:],\n",
    "    verbose=0)\n",
    "\n",
    "pd.DataFrame(test_results, index=['Custom loss [model_err]']).T"
   ]
  },
  {
   "cell_type": "code",
   "execution_count": 24,
   "id": "d17ea709-1b0c-44ff-8805-b78193e53e72",
   "metadata": {},
   "outputs": [
    {
     "name": "stdout",
     "output_type": "stream",
     "text": [
      "1513\n",
      "165\n",
      "[[0.01416322 0.00603547 0.01179231 ... 0.         0.         0.        ]\n",
      " [0.12289877 0.11774647 0.1002434  ... 0.         0.         0.        ]\n",
      " [0.13130671 0.12375835 0.10933559 ... 0.         0.         0.        ]\n",
      " ...\n",
      " [0.0385327  0.04061574 0.04089837 ... 0.         0.         0.        ]\n",
      " [0.04741207 0.04913687 0.04567723 ... 0.         0.         0.        ]\n",
      " [0.04119675 0.04539103 0.03989696 ... 0.         0.         0.        ]]\n"
     ]
    }
   ],
   "source": [
    "y = dnn_err_model.predict(test_features.to_numpy()[:, 0:165])\n",
    "y2 = dnn_err_model.predict(test_features.to_numpy()[:, 165:])\n",
    "print(len(y))\n",
    "print(len(y[0]))\n",
    "print(y)"
   ]
  },
  {
   "cell_type": "code",
   "execution_count": 29,
   "id": "47fa0f65-cbe1-4274-9638-603e80c8e6c1",
   "metadata": {},
   "outputs": [
    {
     "name": "stdout",
     "output_type": "stream",
     "text": [
      "1513\n",
      "33\n",
      "5\n",
      "33\n"
     ]
    }
   ],
   "source": [
    "print(len(full_pred))\n",
    "print(len(full_pred[0]))\n",
    "print(len(full_pca_fitter_preds['dens'].components_))\n",
    "print(len(full_pca_fitter_preds['dens'].components_[0]))"
   ]
  },
  {
   "cell_type": "code",
   "execution_count": 30,
   "id": "b24e91f8-c16d-472d-a735-190bf58ceba2",
   "metadata": {},
   "outputs": [
    {
     "name": "stdout",
     "output_type": "stream",
     "text": [
      "[[0.19180018 0.19223382 0.19641    ... 0.1098849  0.03226414 0.02188841]\n",
      " [0.02976718 0.02704049 0.02365413 ... 0.01439006 0.02995246 0.02054892]\n",
      " [0.08848594 0.08458173 0.07350092 ... 0.05693302 0.05124528 0.02754694]\n",
      " ...\n",
      " [0.00242949 0.00932822 0.018991   ... 0.02462043 0.00097087 0.07791024]\n",
      " [0.03594564 0.02224494 0.01647791 ... 0.01482156 0.02496096 0.05598267]\n",
      " [0.00967059 0.02349222 0.03609447 ... 0.00894898 0.05536464 0.01310792]]\n"
     ]
    }
   ],
   "source": [
    "print(test_features.to_numpy()[:,165:198])"
   ]
  },
  {
   "cell_type": "code",
   "execution_count": 25,
   "id": "fb87c6fc-5b45-48f4-8440-2130d8e4649d",
   "metadata": {},
   "outputs": [
    {
     "name": "stdout",
     "output_type": "stream",
     "text": [
      "dens  pred done full\n",
      "dens  actual done full\n",
      "dens  input done full\n",
      "temp  pred done full\n",
      "temp  actual done full\n",
      "temp  input done full\n",
      "q_EFIT01  pred done full\n",
      "q_EFIT01  actual done full\n",
      "q_EFIT01  input done full\n",
      "rotation  pred done full\n",
      "rotation  actual done full\n",
      "rotation  input done full\n",
      "press_EFIT01  pred done full\n",
      "press_EFIT01  actual done full\n",
      "press_EFIT01  input done full\n",
      "[[ 0.16284125  0.16359146  0.15674559  0.15879295  0.16167431  0.1629992\n",
      "   0.16850951  0.16854838  0.16962344  0.1713525   0.17163619  0.17225034\n",
      "   0.17301415  0.17441011  0.17517526  0.17667174  0.17967363  0.18234009\n",
      "   0.18520235  0.18711366  0.18867205  0.19184864  0.19371077  0.19585616\n",
      "   0.19624698  0.19733936  0.19916841  0.20408504  0.20437735  0.19909059\n",
      "   0.14718666  0.04504222  0.03011669]\n",
      " [ 0.27572106  0.26809155  0.25019326  0.24678471  0.23271608  0.21611142\n",
      "   0.20460005  0.19239977  0.17566928  0.16162697  0.14128397  0.12127546\n",
      "   0.09584315  0.06848824  0.04035222  0.01607951 -0.0114185  -0.03660656\n",
      "  -0.06356645 -0.08307459 -0.10898982 -0.13536653 -0.15438914 -0.17724462\n",
      "  -0.19480596 -0.20998103 -0.22774865 -0.2366547  -0.25075524 -0.24649129\n",
      "  -0.16178219 -0.0458302  -0.04191727]\n",
      " [ 0.2003524   0.20306751  0.16175143  0.14654321  0.11256621  0.06817058\n",
      "   0.03006371 -0.02025928 -0.07416216 -0.08823163 -0.12600095 -0.12998634\n",
      "  -0.1367681  -0.14622207 -0.1533182  -0.13257652 -0.12966461 -0.11609395\n",
      "  -0.12917205 -0.11216891 -0.08825788 -0.08709923 -0.06716433 -0.05131691\n",
      "  -0.03300128  0.007397    0.03986776  0.07519193  0.11451486  0.23227803\n",
      "   0.31651288  0.55574283  0.39819841]\n",
      " [-0.26593716 -0.25147191 -0.21484164 -0.17173708 -0.11164377 -0.06159797\n",
      "  -0.00437379  0.04942061  0.10002932  0.14173073  0.18008608  0.19669311\n",
      "   0.21100965  0.1944765   0.19474088  0.17369125  0.13169607  0.08882409\n",
      "   0.06162621  0.03678319  0.0125381  -0.02146556 -0.05568617 -0.07908239\n",
      "  -0.10467449 -0.14894633 -0.17081976 -0.17325875 -0.18843541 -0.05392921\n",
      "   0.22975217  0.40982568  0.35799529]\n",
      " [-0.22600882 -0.19537365 -0.11653572 -0.04399976  0.03886493  0.07958671\n",
      "   0.14242055  0.19203995  0.25121876  0.23294313  0.22449231  0.15413396\n",
      "   0.0940107   0.03431227 -0.04621842 -0.12099879 -0.17524315 -0.23640041\n",
      "  -0.24445319 -0.26202538 -0.28159359 -0.21596691 -0.14173191 -0.07927163\n",
      "  -0.02141699  0.07313567  0.16123579  0.21422572  0.24379111  0.28287737\n",
      "   0.00447098 -0.16097897 -0.03875354]]\n"
     ]
    }
   ],
   "source": [
    "num_components=5\n",
    "full_pca_fitter_preds = {}\n",
    "full_pca_fitter_actual = {}\n",
    "full_pca_fitter_inputs = {}\n",
    "profiles=scenario['target_profile_names']\n",
    "indices = [0,33,66,99,132]\n",
    "\n",
    "\n",
    "for index in range(5):\n",
    "    i = indices[index]\n",
    "    full_pred = y[:,i:i+33]\n",
    "    #pca for predicted errs made by DNN using test set inputs\n",
    "    full_pca_fitter_preds[profiles[index]] = decomposition.IncrementalPCA(n_components=num_components).fit(full_pred)\n",
    "    print(profiles[index], ' pred done full')\n",
    "    #pca for actual errs in DNN test set\n",
    "    full_actual = test_features.to_numpy()[:,165+i:165+i+33]\n",
    "    full_pca_fitter_actual[profiles[index]] = decomposition.IncrementalPCA(n_components=num_components).fit(full_actual)\n",
    "    print(profiles[index], ' actual done full')\n",
    "    full_input = test_features.to_numpy()[:,i:i+33]\n",
    "    #pca for predicted errs made by DNN using test set inputs\n",
    "    full_pca_fitter_inputs[profiles[index]] = decomposition.IncrementalPCA(n_components=num_components).fit(full_input)\n",
    "    print(profiles[index], ' input done full')\n",
    "print(full_pca_fitter_preds['dens'].components_)"
   ]
  },
  {
   "cell_type": "code",
   "execution_count": 60,
   "id": "38080015-f346-4ddb-baea-8061ab2ad826",
   "metadata": {},
   "outputs": [
    {
     "name": "stdout",
     "output_type": "stream",
     "text": [
      "5\n",
      "33\n",
      "5\n",
      "33\n",
      "<class 'numpy.ndarray'>\n",
      "1513\n",
      "0\n"
     ]
    }
   ],
   "source": [
    "# cov = np.zeros((33,33))\n",
    "# indices = [0,33,66,99,132]\n",
    "# j = indices[i]\n",
    "# for k in range(33):\n",
    "#     cov[j,j] += (sum(np.square(y[:,j+k])))/1513\n",
    "# print(len(cov))\n",
    "# print(len(cov[0]))\n",
    "# print(cov)\n",
    "print(len(full_pca_fitter_preds['dens'].components_))\n",
    "print(len(full_pca_fitter_preds['dens'].components_[0]))\n",
    "tests = {}\n",
    "test = y[:,0:33]\n",
    "a = decomposition.IncrementalPCA(n_components=5)\n",
    "a.fit_transform(test)\n",
    "#a.transform(test)\n",
    "print(len(a.components_))\n",
    "print(len(a.components_[0]))\n",
    "# b = decomposition.IncrementalPCA(n_components=5)\n",
    "# b.transform(model_err)\n",
    "print(type(y[:,j+165:j+165+33]))\n",
    "print(len(y[:,287:]))\n",
    "print(len(y[:,287:][0]))"
   ]
  },
  {
   "cell_type": "code",
   "execution_count": 26,
   "id": "79bf68ce-59db-431f-8f4d-edad69b40a74",
   "metadata": {},
   "outputs": [
    {
     "name": "stderr",
     "output_type": "stream",
     "text": [
      "/home/lzfang/.conda/envs/tf2-gpu/lib/python3.7/site-packages/ipykernel_launcher.py:32: RuntimeWarning: divide by zero encountered in true_divide\n",
      "/home/lzfang/.conda/envs/tf2-gpu/lib/python3.7/site-packages/ipykernel_launcher.py:32: RuntimeWarning: divide by zero encountered in true_divide\n",
      "/home/lzfang/.conda/envs/tf2-gpu/lib/python3.7/site-packages/ipykernel_launcher.py:32: RuntimeWarning: divide by zero encountered in true_divide\n",
      "/home/lzfang/.conda/envs/tf2-gpu/lib/python3.7/site-packages/ipykernel_launcher.py:32: RuntimeWarning: divide by zero encountered in true_divide\n",
      "/home/lzfang/.conda/envs/tf2-gpu/lib/python3.7/site-packages/ipykernel_launcher.py:32: RuntimeWarning: divide by zero encountered in true_divide\n"
     ]
    }
   ],
   "source": [
    "'''variances of the pca coeffs of the profiles of the predictions'''\n",
    "#sigma = uncertainty is dif for dif pca modes. For c_v calculation, is mu val dependent on PCA mode too?\n",
    "#mu is mean of the uncertainties-- mean of the 5 diagonal entries\n",
    "indices = [0,33,66,99,132]\n",
    "cov = np.zeros((33,33))\n",
    "A = []\n",
    "var = []\n",
    "std_err = {}\n",
    "c_v = [] #coefficients of variation for all 5 profiles\n",
    "mu = 0\n",
    "sigma_mu = 0\n",
    "for i in range(5):\n",
    "    j = indices[i]\n",
    "    y_slice = y[:,j:j+33]\n",
    "#     print(len(y_slice))\n",
    "#     print(len(y_slice[0]))\n",
    "    cov_points = np.array([np.diag(foo) for foo in y_slice])\n",
    "#     print(len(cov_points))\n",
    "#     print(len(cov_points[0]))\n",
    "#     print(len(cov_points[0][0]))\n",
    "#     print(cov_points)\n",
    "    A = decomposition.IncrementalPCA(n_components=5)\n",
    "    A.fit_transform(y_slice)\n",
    "    A = A.components_\n",
    "    cov_pca = (A@cov_points@A.T)\n",
    "    sigma_pca = np.array([np.diag(foo) for foo in cov_pca])\n",
    "    #print(profiles[i]+\" predicted uncertainties: \")\n",
    "    #print(sigma_pca)\n",
    "    #model_errs\n",
    "    y_slice_model_err = test_features.to_numpy()[:,165+i:165+i+33] #abs val of model_err for profile\n",
    "    num = decomposition.IncrementalPCA(n_components=5)\n",
    "    num = num.fit_transform(y_slice_model_err)\n",
    "    std_err[profiles[i]] = num/sigma_pca\n",
    "#         #cov[k,k] += (sum(np.square(y[:,j+k])))/1513\n",
    "#     #5x5-- just use the diagonals\n",
    "#     #var = A @ cov @ np.transpose(A)\n",
    "#     for a in range(5):\n",
    "#         mu += var[i,i]**0.5\n",
    "#     mu = mu/5\n",
    "#     for b in range(5):\n",
    "#         sigma_mu += (var[i,i]**0.5-mu)**2\n",
    "#     sigma_mu = (sigma_mu/4)**0.5\n",
    "#     c_v.append(sigma_mu/mu)\n",
    "#     print(profiles[i] + \": \")\n",
    "#     print(var)\n",
    "#     print(\"sharpness for 1st PCA mode: \" + str(var[0,0]**0.5)) #aka uncertainty?\n",
    "#     print(\"sharpness for 2nd PCA mode: \" + str(var[1,1]**0.5))\n",
    "#     print(\"C_v: \" + str(c_v))"
   ]
  },
  {
   "cell_type": "code",
   "execution_count": 48,
   "id": "1c7c2f10-d76c-4a7d-bad2-3ad00721d3ff",
   "metadata": {},
   "outputs": [
    {
     "name": "stdout",
     "output_type": "stream",
     "text": [
      "5\n",
      "33\n"
     ]
    }
   ],
   "source": [
    "print(len(full_pca_fitters['dens'].components_))\n",
    "print(len(full_pca_fitters['dens'].components_[0]))"
   ]
  },
  {
   "cell_type": "code",
   "execution_count": 51,
   "id": "c7f31758-3544-4145-ace2-b2cf8031de55",
   "metadata": {},
   "outputs": [
    {
     "name": "stdout",
     "output_type": "stream",
     "text": [
      "1513\n",
      "165\n",
      "15132\n",
      "33\n"
     ]
    }
   ],
   "source": [
    "cov_points = np.array([np.diag(foo) for foo in y])\n",
    "print(len(cov_points))\n",
    "print(len(cov_points[0]))\n",
    "print(len(baseline['dens']))\n",
    "print(len(baseline['dens'][0]))"
   ]
  },
  {
   "cell_type": "code",
   "execution_count": 40,
   "id": "aab27826-1ecd-4ba9-923b-6dd7ca28b017",
   "metadata": {},
   "outputs": [
    {
     "data": {
      "image/png": "[encoded data removed]",
      "text/plain": [
       "<Figure size 846x564 with 1 Axes>"
      ]
     },
     "metadata": {},
     "output_type": "display_data"
    },
    {
     "data": {
      "image/png": "[encoded data removed]",
      "text/plain": [
       "<Figure size 846x564 with 1 Axes>"
      ]
     },
     "metadata": {},
     "output_type": "display_data"
    },
    {
     "data": {
      "image/png": "[encoded data removed]",
      "text/plain": [
       "<Figure size 846x564 with 1 Axes>"
      ]
     },
     "metadata": {},
     "output_type": "display_data"
    },
    {
     "data": {
      "image/png": "[encoded data removed]",
      "text/plain": [
       "<Figure size 846x564 with 1 Axes>"
      ]
     },
     "metadata": {},
     "output_type": "display_data"
    },
    {
     "data": {
      "image/png": "[encoded data removed]",
      "text/plain": [
       "<Figure size 846x564 with 1 Axes>"
      ]
     },
     "metadata": {},
     "output_type": "display_data"
    }
   ],
   "source": [
    "#make look nice-- first two PCA modes for each profile\n",
    "#should we be using absolute errors/uncertainties so that CDF plot is [0,1]?\n",
    "'''calibration curves'''\n",
    "#first row is 1st PCA mode\n",
    "from matplotlib import pyplot\n",
    "from numpy.random import normal\n",
    "from numpy import hstack\n",
    "import statsmodels\n",
    "from statsmodels.distributions.empirical_distribution import ECDF\n",
    "import scipy\n",
    "from scipy.stats import norm\n",
    "indices = [0,33,66,99,132]\n",
    "for i in range(5):\n",
    "    ecdf = ECDF(std_err[profiles[i]][:,0]) #first PCA mode\n",
    "    pyplot.plot(ecdf.y, scipy.stats.norm.cdf(ecdf.x))\n",
    "    pyplot.plot([0, 1], [0, 1]) #works for plotting diagonal\n",
    "    pyplot.show()"
   ]
  },
  {
   "cell_type": "code",
   "execution_count": 29,
   "id": "26981042-468b-43d4-ad62-ca19ddcebcc5",
   "metadata": {},
   "outputs": [
    {
     "name": "stdout",
     "output_type": "stream",
     "text": [
      "5\n"
     ]
    }
   ],
   "source": [
    "print(len(sigma_pca[0]))"
   ]
  },
  {
   "cell_type": "code",
   "execution_count": 30,
   "id": "55e9bd9f-903f-4646-999d-36897fe3e316",
   "metadata": {},
   "outputs": [
    {
     "data": {
      "text/plain": [
       "(array([1.187e+03, 2.570e+02, 4.400e+01, 1.100e+01, 9.000e+00, 3.000e+00,\n",
       "        0.000e+00, 1.000e+00, 0.000e+00, 1.000e+00]),\n",
       " array([0.        , 0.1034949 , 0.20698981, 0.31048471, 0.41397961,\n",
       "        0.51747452, 0.62096942, 0.72446432, 0.82795923, 0.93145413,\n",
       "        1.03494903]),\n",
       " <BarContainer object of 10 artists>)"
      ]
     },
     "execution_count": 30,
     "metadata": {},
     "output_type": "execute_result"
    },
    {
     "data": {
      "image/png": "[encoded data removed]",
      "text/plain": [
       "<Figure size 846x564 with 1 Axes>"
      ]
     },
     "metadata": {},
     "output_type": "display_data"
    }
   ],
   "source": [
    "'''uncertainty distribution graph'''\n",
    "#PLOT FOR OTHER PROFILES\n",
    "#first pca mode for press_EFIT01\n",
    "plt.hist(sigma_pca[:,0])"
   ]
  },
  {
   "cell_type": "code",
   "execution_count": 65,
   "id": "0c160752-789a-490c-8fcb-d2abdde0b8da",
   "metadata": {},
   "outputs": [
    {
     "name": "stdout",
     "output_type": "stream",
     "text": [
      "1513\n",
      "165\n",
      "[]\n"
     ]
    }
   ],
   "source": [
    "print(len(test_base.to_numpy()))\n",
    "print(len(test_base.to_numpy()[0]))\n",
    "print(test_base.to_numpy()[:,297:330])"
   ]
  },
  {
   "cell_type": "code",
   "execution_count": 74,
   "id": "c427de7b-dab5-4f73-8e8d-48b1547e5e9e",
   "metadata": {},
   "outputs": [
    {
     "data": {
      "text/plain": [
       "[<matplotlib.lines.Line2D at 0x2005cfdd6c50>]"
      ]
     },
     "execution_count": 74,
     "metadata": {},
     "output_type": "execute_result"
    },
    {
     "data": {
      "image/png": "[encoded data removed]",
      "text/plain": [
       "<Figure size 846x564 with 1 Axes>"
      ]
     },
     "metadata": {},
     "output_type": "display_data"
    }
   ],
   "source": [
    "'''error bar plots'''\n",
    "#wanna plot prediction w/err bars and test against baseline\n",
    "num2 = decomposition.IncrementalPCA(n_components=5)\n",
    "num2 = num2.fit_transform(test_base.to_numpy()[:,132:165])\n",
    "num3 = decomposition.IncrementalPCA(n_components=5)\n",
    "num3 = num3.fit_transform(test_pred.to_numpy()[:,132:165])\n",
    "a_list = list(range(0, 1513))\n",
    "#plt.plot(a_list,num2[:,0])\n",
    "#print(num3[:,0])\n",
    "#print(len(num3))\n",
    "plt.errorbar(num2[:,0],num3[:,0],yerr=2*sigma_pca[:,0],fmt='o')\n",
    "plt.plot([-6,8], [-6, 8])\n",
    "#plt.errorbar(full_pca_fitter_inputs['dens'].components_[0,:],full_pca_fitter_preds['dens'].components_[0,:],yerr=0.10609793010075314**2, fmt=\"o\")"
   ]
  },
  {
   "cell_type": "code",
   "execution_count": null,
   "id": "028427eb-6b19-4086-97d8-ea9d4d6b686e",
   "metadata": {},
   "outputs": [],
   "source": []
  }
 ],
 "metadata": {
  "kernelspec": {
   "display_name": "Python 3",
   "language": "python",
   "name": "python3"
  },
  "language_info": {
   "codemirror_mode": {
    "name": "ipython",
    "version": 3
   },
   "file_extension": ".py",
   "mimetype": "text/x-python",
   "name": "python",
   "nbconvert_exporter": "python",
   "pygments_lexer": "ipython3",
   "version": "3.7.10"
  },
  "toc-autonumbering": false,
  "toc-showmarkdowntxt": false
 },
 "nbformat": 4,
 "nbformat_minor": 5
}
