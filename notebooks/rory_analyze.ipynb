{
 "cells": [
  {
   "cell_type": "markdown",
   "metadata": {},
   "source": [
    "# Setup/Imports"
   ]
  },
  {
   "cell_type": "code",
   "execution_count": 1,
   "metadata": {},
   "outputs": [
    {
     "name": "stderr",
     "output_type": "stream",
     "text": [
      "Using TensorFlow backend.\n",
      "/home/wconlin/.conda/envs/tfgpu/lib/python3.6/site-packages/tensorflow/python/framework/dtypes.py:458: FutureWarning: Passing (type, 1) or '1type' as a synonym of type is deprecated; in a future version of numpy, it will be understood as (type, (1,)) / '(1,)type'.\n",
      "  _np_qint8 = np.dtype([(\"qint8\", np.int8, 1)])\n",
      "/home/wconlin/.conda/envs/tfgpu/lib/python3.6/site-packages/tensorflow/python/framework/dtypes.py:459: FutureWarning: Passing (type, 1) or '1type' as a synonym of type is deprecated; in a future version of numpy, it will be understood as (type, (1,)) / '(1,)type'.\n",
      "  _np_quint8 = np.dtype([(\"quint8\", np.uint8, 1)])\n",
      "/home/wconlin/.conda/envs/tfgpu/lib/python3.6/site-packages/tensorflow/python/framework/dtypes.py:460: FutureWarning: Passing (type, 1) or '1type' as a synonym of type is deprecated; in a future version of numpy, it will be understood as (type, (1,)) / '(1,)type'.\n",
      "  _np_qint16 = np.dtype([(\"qint16\", np.int16, 1)])\n",
      "/home/wconlin/.conda/envs/tfgpu/lib/python3.6/site-packages/tensorflow/python/framework/dtypes.py:461: FutureWarning: Passing (type, 1) or '1type' as a synonym of type is deprecated; in a future version of numpy, it will be understood as (type, (1,)) / '(1,)type'.\n",
      "  _np_quint16 = np.dtype([(\"quint16\", np.uint16, 1)])\n",
      "/home/wconlin/.conda/envs/tfgpu/lib/python3.6/site-packages/tensorflow/python/framework/dtypes.py:462: FutureWarning: Passing (type, 1) or '1type' as a synonym of type is deprecated; in a future version of numpy, it will be understood as (type, (1,)) / '(1,)type'.\n",
      "  _np_qint32 = np.dtype([(\"qint32\", np.int32, 1)])\n",
      "/home/wconlin/.conda/envs/tfgpu/lib/python3.6/site-packages/tensorflow/python/framework/dtypes.py:465: FutureWarning: Passing (type, 1) or '1type' as a synonym of type is deprecated; in a future version of numpy, it will be understood as (type, (1,)) / '(1,)type'.\n",
      "  np_resource = np.dtype([(\"resource\", np.ubyte, 1)])\n"
     ]
    }
   ],
   "source": [
    "import pickle\n",
    "import keras\n",
    "import tensorflow as tf\n",
    "from keras import backend as K\n",
    "import numpy as np\n",
    "import sys\n",
    "import os\n",
    "sys.path.append(os.path.abspath('../'))\n",
    "from helpers.data_generator import process_data, DataGenerator\n",
    "from helpers.custom_losses import denorm_loss, hinge_mse_loss\n",
    "from helpers.custom_losses import percent_correct_sign, baseline_MAE\n",
    "from models.LSTMConv2D import get_model_lstm_conv2d, get_model_simple_lstm\n",
    "from models.LSTMConv2D import get_model_linear_systems, get_model_conv2d\n",
    "from utils.callbacks import CyclicLR, TensorBoardWrapper\n",
    "from keras.callbacks import ModelCheckpoint, ReduceLROnPlateau\n",
    "from time import strftime, localtime\n",
    "import matplotlib\n",
    "from matplotlib import pyplot as plt\n",
    "import copy\n",
    "from tqdm import tqdm_notebook\n",
    "\n",
    "from helpers.normalization import normalize, denormalize, renormalize\n",
    "#import tkinter as tk\n",
    "#from tkinter import filedialog\n",
    "#root = tk.Tk()\n",
    "#root.withdraw()"
   ]
  },
  {
   "cell_type": "code",
   "execution_count": 2,
   "metadata": {},
   "outputs": [],
   "source": [
    "num_cores = 4\n",
    "config = tf.ConfigProto(intra_op_parallelism_threads=num_cores,\n",
    "                        inter_op_parallelism_threads=num_cores, \n",
    "                        allow_soft_placement=True,\n",
    "                        device_count = {'CPU' : 1,\n",
    "                                        'GPU' : 0})\n",
    "session = tf.Session(config=config)\n",
    "K.set_session(session)"
   ]
  },
  {
   "cell_type": "code",
   "execution_count": 16,
   "metadata": {},
   "outputs": [],
   "source": [
    "%matplotlib inline\n",
    "font={'family': 'DejaVu Serif',\n",
    "      'size': 18}\n",
    "plt.rc('font', **font)\n",
    "matplotlib.rcParams['figure.facecolor'] = (1,1,1,1)"
   ]
  },
  {
   "cell_type": "markdown",
   "metadata": {},
   "source": [
    "# Functions"
   ]
  },
  {
   "cell_type": "code",
   "execution_count": 79,
   "metadata": {},
   "outputs": [],
   "source": [
    "def hinge_loss(delta_true, delta_pred, threshold):\n",
    "    \"\"\"Finds the percentage of the time the prediction has the right sign\n",
    "    \"\"\"\n",
    "    if isinstance(delta_true, dict):\n",
    "        out = {}\n",
    "        for k in delta_true.keys():\n",
    "            if np.mean(np.abs(delta_true[k]))>threshold:\n",
    "                out[k] = np.sum(np.maximum(np.sign(delta_true[k]*delta_pred[k]),0))/delta_true[k].size\n",
    "            else:\n",
    "                out[k] = np.nan\n",
    "        return out\n",
    "    if np.mean(np.abs(delta_true))>threshold:\n",
    "        return np.sum(np.maximum(np.sign(delta_true*delta_pred),0))/delta_true.size\n",
    "    else:\n",
    "        return np.nan\n",
    "\n",
    "def batch_hinge(model,generator,param_dict,sig):\n",
    "    \"\"\"Finds the percentage of the time the prediction has the right sign\n",
    "    \"\"\"    \n",
    "    nbatches = len(generator)\n",
    "    err = 0\n",
    "    for ind in range(nbatches):\n",
    "        inputs, targets = generator[ind]\n",
    "        predictions = model.predict_on_batch(inputs)\n",
    "        full_pred, full_true, delta_pred, delta_true, baseline = batch_denorm(inputs,targets,predictions,param_dict,sig)\n",
    "        err += hinge_loss(delta_true,delta_pred)\n",
    "    return err/nbatches    \n",
    "\n",
    "def get_deltas(inputs, targets, profiles, predictions=None):\n",
    "    delta_true = {}\n",
    "    for profile in profiles:\n",
    "        delta_true['target_' + profile] = targets['target_' + profile] - inputs['input_' + profile]\n",
    "    if predictions is not None:\n",
    "        delta_pred = {}\n",
    "        for profile in profiles:\n",
    "                delta_pred['target_' + profile] = predictions['target_' + profile] - inputs['input_' + profile]\n",
    "        return delta_true, delta_pred\n",
    "    else:\n",
    "        return delta_true\n",
    "                \n",
    "                \n",
    "                \n",
    "                \n",
    "def batch_denorm(inputs,targets,predictions,param_dict,sig):\n",
    "    \"\"\"Denormalizes and calculates deltas, prep for plotting and analysis\n",
    "    \"\"\"\n",
    "    targets = targets['target_' + sig]\n",
    "    baseline = inputs['input_' + sig][:,-1]\n",
    "    predictions = predictions[sig]\n",
    "    if predict_deltas:\n",
    "        full_pred = predictions + baseline\n",
    "        full_true = targets + baseline\n",
    "    else:\n",
    "        full_pred = predictions\n",
    "        full_true = targets\n",
    "    denorm_baseline = denormalize(baseline, param_dict[sig])\n",
    "    denorm_full_pred = denormalize(full_pred, param_dict[sig])\n",
    "    denorm_full_true = denormalize(full_true, param_dict[sig])\n",
    "    denorm_delta_pred = denorm_full_pred - denorm_baseline\n",
    "    denorm_delta_true = denorm_full_true - denorm_baseline\n",
    "    return denorm_full_pred, denorm_full_true, denorm_delta_pred, denorm_delta_true, denorm_baseline\n",
    "\n",
    "def plot_batch(y_true, y_pred, baseline, psi, labels, axlabels,shots,times):\n",
    "    batch_size = y_true.shape[0]\n",
    "    ncols = 4\n",
    "    nrows = int(batch_size/ncols)\n",
    "    figsize = (20,10*batch_size/10)\n",
    "    fig, ax = plt.subplots(nrows=nrows, ncols=ncols, figsize=figsize)\n",
    "    ax = ax.flatten()\n",
    "    # Plot predictions and true deltas\n",
    "    for i in range(batch_size):\n",
    "        ax[i].plot(psi,y_true[i], label=labels[0])\n",
    "        ax[i].plot(psi,y_pred[i], label=labels[1])\n",
    "        ax[i].plot(psi,baseline[i], label=labels[2])\n",
    "        ax[i].title.set_text('Shot ' + str(int(shots[i])) + ', time ' + str(int(times[i])))\n",
    "        ax[i].set_xlabel(axlabels[0])\n",
    "        ax[i].set_ylabel(axlabels[1])\n",
    "        ax[i].set_ylim(-2*normalization_params[sig]['std'],2*normalization_params[sig]['std'])\n",
    "        ax[i].legend(loc=0)\n",
    "    plt.tight_layout()\n",
    "    return fig,ax\n",
    "\n",
    "def set_future_actuators(inputs, actuator_names, change):\n",
    "    for sig in actuator_names:\n",
    "        inputs['input_future_' + sig][:] = inputs['input_past_' + sig][:,-1] + change\n",
    "    return inputs"
   ]
  },
  {
   "cell_type": "markdown",
   "metadata": {},
   "source": [
    "# Load Model & Get Data"
   ]
  },
  {
   "cell_type": "code",
   "execution_count": 6,
   "metadata": {},
   "outputs": [
    {
     "name": "stdout",
     "output_type": "stream",
     "text": [
      "loaded model: model-conv1d_profiles-temp-dens-press_EFIT01-ffprime_EFIT01-q_EFIT01_act-pinj-curr-tinj-gasA_targ-temp-dens_profLB-1_actLB-6_norm-RobustScaler_activ-relu_nshots-12000_ftop-True_03Nov19-01-54.h5\n",
      "loaded dict: model-conv1d_profiles-temp-dens-press_EFIT01-ffprime_EFIT01-q_EFIT01_act-pinj-curr-tinj-gasA_targ-temp-dens_profLB-1_actLB-6_norm-RobustScaler_activ-relu_nshots-12000_ftop-True_03Nov19-01-54_params.pkl\n",
      "with parameters: dict_keys(['actuator_names', 'input_profile_names', 'target_profile_names', 'scalar_input_names', 'profile_downsample', 'model_type', 'model_kwargs', 'std_activation', 'hinge_weight', 'mse_weight_power', 'mse_weight_edge', 'mse_power', 'batch_size', 'epochs', 'flattop_only', 'predict_deltas', 'raw_data_path', 'process_data', 'processed_filename_base', 'optimizer', 'optimizer_kwargs', 'shuffle_generators', 'pruning_functions', 'normalization_method', 'window_length', 'window_overlap', 'profile_lookback', 'actuator_lookback', 'lookahead', 'sample_step', 'uniform_normalization', 'train_frac', 'val_frac', 'nshots', 'excluded_shots', 'lookbacks', 'sig_names', 'normalization_dict', 'profile_length', 'mse_weight_vector', 'runname', 'steps_per_epoch', 'val_steps', 'model_path', 'history', 'history_params'])\n"
     ]
    }
   ],
   "source": [
    "file_path = os.path.expanduser(\"~/run_results_11_2/model-conv1d_profiles-temp-dens-press_EFIT01-ffprime_EFIT01-q_EFIT01_act-pinj-curr-tinj-gasA_targ-temp-dens_profLB-1_actLB-6_norm-RobustScaler_activ-relu_nshots-12000_ftop-True_03Nov19-01-54.h5\")\n",
    "model = keras.models.load_model(file_path, compile=False)\n",
    "print('loaded model: ' + file_path.split('/')[-1])\n",
    "file_path = file_path[:-3] + '_params.pkl'\n",
    "with open(file_path, 'rb') as f:\n",
    "     analysis_params = pickle.load(f, encoding='latin1')\n",
    "print('loaded dict: ' + file_path.split('/')[-1])\n",
    "print('with parameters: ' + str(analysis_params.keys()))\n"
   ]
  },
  {
   "cell_type": "code",
   "execution_count": 10,
   "metadata": {},
   "outputs": [
    {
     "data": {
      "text/plain": [
       "dict_keys(['val_loss', 'val_target_temp_loss', 'val_target_dens_loss', 'val_target_temp_denorm_MAE', 'val_target_temp_sgn_acc', 'val_target_temp_perBLMAE', 'val_target_dens_denorm_MAE', 'val_target_dens_sgn_acc', 'val_target_dens_perBLMAE', 'loss', 'target_temp_loss', 'target_dens_loss', 'target_temp_denorm_MAE', 'target_temp_sgn_acc', 'target_temp_perBLMAE', 'target_dens_denorm_MAE', 'target_dens_sgn_acc', 'target_dens_perBLMAE', 'lr'])"
      ]
     },
     "execution_count": 10,
     "metadata": {},
     "output_type": "execute_result"
    }
   ],
   "source": [
    "analysis_params['history'].keys()"
   ]
  },
  {
   "cell_type": "code",
   "execution_count": 12,
   "metadata": {},
   "outputs": [
    {
     "data": {
      "text/plain": [
       "[<tf.Tensor 'target_temp_1/Reshape:0' shape=(?, 33) dtype=float32>,\n",
       " <tf.Tensor 'target_dens_1/Reshape:0' shape=(?, 33) dtype=float32>]"
      ]
     },
     "execution_count": 12,
     "metadata": {},
     "output_type": "execute_result"
    }
   ],
   "source": [
    "model.outputs"
   ]
  },
  {
   "cell_type": "code",
   "execution_count": 13,
   "metadata": {},
   "outputs": [
    {
     "data": {
      "text/plain": [
       "['temp', 'dens']"
      ]
     },
     "execution_count": 13,
     "metadata": {},
     "output_type": "execute_result"
    }
   ],
   "source": [
    "analysis_params['target_profile_names']"
   ]
  },
  {
   "cell_type": "code",
   "execution_count": null,
   "metadata": {},
   "outputs": [],
   "source": []
  },
  {
   "cell_type": "code",
   "execution_count": 18,
   "metadata": {},
   "outputs": [],
   "source": [
    "def plot_conv_training(model,analysis_params,filename=None,**kwargs):\n",
    "    \n",
    "    font={'family': 'DejaVu Serif',\n",
    "      'size': 18}\n",
    "    plt.rc('font', **font)\n",
    "    matplotlib.rcParams['figure.facecolor'] = (1,1,1,1)\n",
    "\n",
    "    targets = analysis_params['target_profile_names']\n",
    "    nout = len(targets)\n",
    "    nrows = int(np.ceil((nout+1)/2))\n",
    "    f, axes = plt.subplots(nrows, 2, figsize=(28, 14*nrows))\n",
    "    axes[0,0].semilogy(analysis_params['history']['loss'],label='train')\n",
    "    axes[0,0].semilogy(analysis_params['history']['val_loss'],label='val')\n",
    "    axes[0,0].set_title('Loss')\n",
    "    axes[0,0].legend()\n",
    "    i=1\n",
    "    for i,targ in enumerate(targets):\n",
    "        idx = np.unravel_index(i+1,(nrows,2))\n",
    "        if 'target_' + targ + '_mean_squared_error' in analysis_params['history'].keys():\n",
    "            axes[idx].semilogy(analysis_params['history']['target_' + targ + '_mean_squared_error'],label='train')\n",
    "            axes[idx].semilogy(analysis_params['history']['val_target_' + targ + '_mean_squared_error'],label='val')\n",
    "            axes[idx].set_title(targ + ' MSE')\n",
    "            axes[idx].legend()\n",
    "        else:\n",
    "            axes[idx].semilogy(analysis_params['history']['target_' + targ + '_loss'],label='train')\n",
    "            axes[idx].semilogy(analysis_params['history']['val_target_' + targ + '_loss'],label='val')\n",
    "            axes[idx].set_title(targ + ' loss')\n",
    "            axes[idx].legend()\n",
    "    \n",
    "    if filename:\n",
    "        f.savefig(filename,bbox_inches='tight',quality=25)\n",
    "        html = \"\"\"<img src=\\\"\"\"\" + filename + \"\"\"\\\"><p>\"\"\"\n",
    "        return f, html\n",
    "    return f"
   ]
  },
  {
   "cell_type": "code",
   "execution_count": 19,
   "metadata": {},
   "outputs": [
    {
     "data": {
      "image/png": "[encoded data removed]",
      "text/plain": [
       "<Figure size 2016x2016 with 4 Axes>"
      ]
     },
     "metadata": {},
     "output_type": "display_data"
    }
   ],
   "source": [
    "f = plot_conv_training(model,analysis_params)"
   ]
  },
  {
   "cell_type": "code",
   "execution_count": 30,
   "metadata": {},
   "outputs": [],
   "source": [
    "import gspread\n",
    "from oauth2client.service_account import ServiceAccountCredentials\n",
    "\n",
    "def write_conv_results(scenario,model):\n",
    "    \"\"\"opens a google sheet and writes results, and generates images and html\"\"\"\n",
    "\n",
    "    if 'image_path' not in scenario.keys():\n",
    "        scenario['image_path'] = 'https://jabbate7.github.io/plasma-profile-predictor/results/' + scenario['runname']\n",
    "    \n",
    "    base_sheet_path = \"https://docs.google.com/spreadsheets/d/10ImJmFpVGYwE-3AsJxiqt0SyTDBCimcOh35au6qsh_k/edit#gid=0\"\n",
    "    scope = ['https://spreadsheets.google.com/feeds',\n",
    "         'https://www.googleapis.com/auth/drive']\n",
    "    creds = ServiceAccountCredentials.from_json_keyfile_name(os.path.expanduser('~/plasma-profile-predictor/drive-credentials.json'), scope)\n",
    "    client = gspread.authorize(creds)\n",
    "    sheet = client.open_by_url(base_sheet_path).sheet1\n",
    "    \n",
    "    write_scenario_to_sheets(scenario,sheet)\n",
    "    rowid = sheet.find(analysis_params['runname']).row\n",
    "    scenario['sheet_path'] = base_sheet_path + \"&range={}:{}\".format(rowid,rowid)\n",
    "    \n",
    "    results_dir =os.path.expanduser('~/plasma-profile-predictor/results/'+scenario['runname'])  \n",
    "    if not os.path.exists(results_dir):\n",
    "        os.mkdir(results_dir)\n",
    "    os.chdir(results_dir)\n",
    "    f = open('index.html','w+')\n",
    "    f.write('<html><head></head><body>')\n",
    "    html = scenario_to_html(scenario)\n",
    "    f.write(html + '<p>\\n')\n",
    "    _, html = plot_conv_training(model,scenario, filename='training.png')\n",
    "    f.write(html + '<p>\\n')\n",
    " \n",
    "    f.write('</body></html>')\n",
    "    f.close()\n",
    "    \n",
    "    \n",
    "def write_scenario_to_sheets(scenario,sheet):\n",
    "    sheet_keys = sheet.row_values(1)\n",
    "    row = [None]*len(sheet_keys)\n",
    "    for i,key in enumerate(sheet_keys):\n",
    "        if key in scenario.keys():\n",
    "            row[i] = str(scenario[key])\n",
    "        elif key in scenario.get('history',{}):\n",
    "            row[i] = str(scenario['history'][key][-1])\n",
    "    sheet.append_row(row)\n",
    "\n",
    "def scenario_to_html(scenario):\n",
    "    foo = {k:v for k,v in scenario.items() if k not in ['history','normalization_dict','history_params']}\n",
    "    def printitems(dictObj, indent=0):\n",
    "        p=[]\n",
    "        p.append('<ul>\\n')\n",
    "        for k,v in dictObj.items():\n",
    "            if isinstance(v, dict):\n",
    "                p.append('<li><b>'+ str(k)+ '</b>: ')\n",
    "                p.append(printitems(v))\n",
    "                p.append('</li>\\n')\n",
    "            elif k in ['image_path','sheet_path']:\n",
    "                p.append(\"<a href=\\\"\" + str(v) + \"\\\">\" + str(k) + \"</a>\\n\")          \n",
    "            else:\n",
    "                p.append('<li><b>'+ str(k)+ '</b>: '+ str(v)+ '</li>\\n')\n",
    "        p.append('</ul>\\n')\n",
    "        return ''.join(p)\n",
    "    return printitems(foo)"
   ]
  },
  {
   "cell_type": "code",
   "execution_count": 31,
   "metadata": {},
   "outputs": [
    {
     "data": {
      "image/png": "[encoded data removed]",
      "text/plain": [
       "<Figure size 2016x2016 with 4 Axes>"
      ]
     },
     "metadata": {},
     "output_type": "display_data"
    }
   ],
   "source": [
    "write_conv_results(analysis_params,model)"
   ]
  },
  {
   "cell_type": "code",
   "execution_count": null,
   "metadata": {},
   "outputs": [],
   "source": []
  },
  {
   "cell_type": "code",
   "execution_count": null,
   "metadata": {},
   "outputs": [],
   "source": []
  },
  {
   "cell_type": "code",
   "execution_count": null,
   "metadata": {},
   "outputs": [],
   "source": []
  },
  {
   "cell_type": "code",
   "execution_count": null,
   "metadata": {},
   "outputs": [],
   "source": []
  },
  {
   "cell_type": "code",
   "execution_count": null,
   "metadata": {},
   "outputs": [],
   "source": []
  },
  {
   "cell_type": "code",
   "execution_count": null,
   "metadata": {},
   "outputs": [],
   "source": []
  },
  {
   "cell_type": "code",
   "execution_count": null,
   "metadata": {},
   "outputs": [],
   "source": []
  },
  {
   "cell_type": "code",
   "execution_count": null,
   "metadata": {},
   "outputs": [],
   "source": []
  },
  {
   "cell_type": "code",
   "execution_count": null,
   "metadata": {},
   "outputs": [],
   "source": []
  },
  {
   "cell_type": "code",
   "execution_count": null,
   "metadata": {},
   "outputs": [],
   "source": []
  },
  {
   "cell_type": "code",
   "execution_count": null,
   "metadata": {},
   "outputs": [],
   "source": []
  },
  {
   "cell_type": "code",
   "execution_count": 7,
   "metadata": {},
   "outputs": [
    {
     "data": {
      "image/svg+xml": [
       "<svg height=\"1134pt\" viewBox=\"0.00 0.00 4110.00 1134.00\" width=\"4110pt\" xmlns=\"http://www.w3.org/2000/svg\" xmlns:xlink=\"http://www.w3.org/1999/xlink\">\n",
       "<g class=\"graph\" id=\"graph0\" transform=\"scale(1 1) rotate(0) translate(4 1130)\">\n",
       "<title>G</title>\n",
       "<polygon fill=\"#ffffff\" points=\"-4,4 -4,-1130 4106,-1130 4106,4 -4,4\" stroke=\"transparent\"/>\n",
       "<!-- 35195133522272 -->\n",
       "<g class=\"node\" id=\"node1\">\n",
       "<title>35195133522272</title>\n",
       "<polygon fill=\"none\" points=\"3810,-1079.5 3810,-1125.5 4102,-1125.5 4102,-1079.5 3810,-1079.5\" stroke=\"#000000\"/>\n",
       "<text fill=\"#000000\" font-family=\"Times,serif\" font-size=\"14.00\" text-anchor=\"middle\" x=\"3894\" y=\"-1098.8\">input_past_pinj: InputLayer</text>\n",
       "<polyline fill=\"none\" points=\"3978,-1079.5 3978,-1125.5 \" stroke=\"#000000\"/>\n",
       "<text fill=\"#000000\" font-family=\"Times,serif\" font-size=\"14.00\" text-anchor=\"middle\" x=\"4005.5\" y=\"-1110.3\">input:</text>\n",
       "<polyline fill=\"none\" points=\"3978,-1102.5 4033,-1102.5 \" stroke=\"#000000\"/>\n",
       "<text fill=\"#000000\" font-family=\"Times,serif\" font-size=\"14.00\" text-anchor=\"middle\" x=\"4005.5\" y=\"-1087.3\">output:</text>\n",
       "<polyline fill=\"none\" points=\"4033,-1079.5 4033,-1125.5 \" stroke=\"#000000\"/>\n",
       "<text fill=\"#000000\" font-family=\"Times,serif\" font-size=\"14.00\" text-anchor=\"middle\" x=\"4067.5\" y=\"-1110.3\">(None, 6)</text>\n",
       "<polyline fill=\"none\" points=\"4033,-1102.5 4102,-1102.5 \" stroke=\"#000000\"/>\n",
       "<text fill=\"#000000\" font-family=\"Times,serif\" font-size=\"14.00\" text-anchor=\"middle\" x=\"4067.5\" y=\"-1087.3\">(None, 6)</text>\n",
       "</g>\n",
       "<!-- 35195132454840 -->\n",
       "<g class=\"node\" id=\"node14\">\n",
       "<title>35195132454840</title>\n",
       "<polygon fill=\"none\" points=\"3803.5,-996.5 3803.5,-1042.5 4066.5,-1042.5 4066.5,-996.5 3803.5,-996.5\" stroke=\"#000000\"/>\n",
       "<text fill=\"#000000\" font-family=\"Times,serif\" font-size=\"14.00\" text-anchor=\"middle\" x=\"3866\" y=\"-1015.8\">reshape_8: Reshape</text>\n",
       "<polyline fill=\"none\" points=\"3928.5,-996.5 3928.5,-1042.5 \" stroke=\"#000000\"/>\n",
       "<text fill=\"#000000\" font-family=\"Times,serif\" font-size=\"14.00\" text-anchor=\"middle\" x=\"3956\" y=\"-1027.3\">input:</text>\n",
       "<polyline fill=\"none\" points=\"3928.5,-1019.5 3983.5,-1019.5 \" stroke=\"#000000\"/>\n",
       "<text fill=\"#000000\" font-family=\"Times,serif\" font-size=\"14.00\" text-anchor=\"middle\" x=\"3956\" y=\"-1004.3\">output:</text>\n",
       "<polyline fill=\"none\" points=\"3983.5,-996.5 3983.5,-1042.5 \" stroke=\"#000000\"/>\n",
       "<text fill=\"#000000\" font-family=\"Times,serif\" font-size=\"14.00\" text-anchor=\"middle\" x=\"4025\" y=\"-1027.3\">(None, 6)</text>\n",
       "<polyline fill=\"none\" points=\"3983.5,-1019.5 4066.5,-1019.5 \" stroke=\"#000000\"/>\n",
       "<text fill=\"#000000\" font-family=\"Times,serif\" font-size=\"14.00\" text-anchor=\"middle\" x=\"4025\" y=\"-1004.3\">(None, 6, 1)</text>\n",
       "</g>\n",
       "<!-- 35195133522272&#45;&gt;35195132454840 -->\n",
       "<g class=\"edge\" id=\"edge1\">\n",
       "<title>35195133522272-&gt;35195132454840</title>\n",
       "<path d=\"M3950.1503,-1079.3799C3948.0517,-1071.0854 3945.6425,-1061.5633 3943.3719,-1052.5889\" fill=\"none\" stroke=\"#000000\"/>\n",
       "<polygon fill=\"#000000\" points=\"3946.7371,-1051.62 3940.8911,-1042.784 3939.951,-1053.337 3946.7371,-1051.62\" stroke=\"#000000\"/>\n",
       "</g>\n",
       "<!-- 35195132194264 -->\n",
       "<g class=\"node\" id=\"node2\">\n",
       "<title>35195132194264</title>\n",
       "<polygon fill=\"none\" points=\"2874.5,-1079.5 2874.5,-1125.5 3167.5,-1125.5 3167.5,-1079.5 2874.5,-1079.5\" stroke=\"#000000\"/>\n",
       "<text fill=\"#000000\" font-family=\"Times,serif\" font-size=\"14.00\" text-anchor=\"middle\" x=\"2959\" y=\"-1098.8\">input_past_curr: InputLayer</text>\n",
       "<polyline fill=\"none\" points=\"3043.5,-1079.5 3043.5,-1125.5 \" stroke=\"#000000\"/>\n",
       "<text fill=\"#000000\" font-family=\"Times,serif\" font-size=\"14.00\" text-anchor=\"middle\" x=\"3071\" y=\"-1110.3\">input:</text>\n",
       "<polyline fill=\"none\" points=\"3043.5,-1102.5 3098.5,-1102.5 \" stroke=\"#000000\"/>\n",
       "<text fill=\"#000000\" font-family=\"Times,serif\" font-size=\"14.00\" text-anchor=\"middle\" x=\"3071\" y=\"-1087.3\">output:</text>\n",
       "<polyline fill=\"none\" points=\"3098.5,-1079.5 3098.5,-1125.5 \" stroke=\"#000000\"/>\n",
       "<text fill=\"#000000\" font-family=\"Times,serif\" font-size=\"14.00\" text-anchor=\"middle\" x=\"3133\" y=\"-1110.3\">(None, 6)</text>\n",
       "<polyline fill=\"none\" points=\"3098.5,-1102.5 3167.5,-1102.5 \" stroke=\"#000000\"/>\n",
       "<text fill=\"#000000\" font-family=\"Times,serif\" font-size=\"14.00\" text-anchor=\"middle\" x=\"3133\" y=\"-1087.3\">(None, 6)</text>\n",
       "</g>\n",
       "<!-- 35195132453944 -->\n",
       "<g class=\"node\" id=\"node15\">\n",
       "<title>35195132453944</title>\n",
       "<polygon fill=\"none\" points=\"2897.5,-996.5 2897.5,-1042.5 3166.5,-1042.5 3166.5,-996.5 2897.5,-996.5\" stroke=\"#000000\"/>\n",
       "<text fill=\"#000000\" font-family=\"Times,serif\" font-size=\"14.00\" text-anchor=\"middle\" x=\"2963\" y=\"-1015.8\">reshape_10: Reshape</text>\n",
       "<polyline fill=\"none\" points=\"3028.5,-996.5 3028.5,-1042.5 \" stroke=\"#000000\"/>\n",
       "<text fill=\"#000000\" font-family=\"Times,serif\" font-size=\"14.00\" text-anchor=\"middle\" x=\"3056\" y=\"-1027.3\">input:</text>\n",
       "<polyline fill=\"none\" points=\"3028.5,-1019.5 3083.5,-1019.5 \" stroke=\"#000000\"/>\n",
       "<text fill=\"#000000\" font-family=\"Times,serif\" font-size=\"14.00\" text-anchor=\"middle\" x=\"3056\" y=\"-1004.3\">output:</text>\n",
       "<polyline fill=\"none\" points=\"3083.5,-996.5 3083.5,-1042.5 \" stroke=\"#000000\"/>\n",
       "<text fill=\"#000000\" font-family=\"Times,serif\" font-size=\"14.00\" text-anchor=\"middle\" x=\"3125\" y=\"-1027.3\">(None, 6)</text>\n",
       "<polyline fill=\"none\" points=\"3083.5,-1019.5 3166.5,-1019.5 \" stroke=\"#000000\"/>\n",
       "<text fill=\"#000000\" font-family=\"Times,serif\" font-size=\"14.00\" text-anchor=\"middle\" x=\"3125\" y=\"-1004.3\">(None, 6, 1)</text>\n",
       "</g>\n",
       "<!-- 35195132194264&#45;&gt;35195132453944 -->\n",
       "<g class=\"edge\" id=\"edge2\">\n",
       "<title>35195132194264-&gt;35195132453944</title>\n",
       "<path d=\"M3024.0641,-1079.3799C3025.1516,-1071.1745 3026.3982,-1061.7679 3027.5763,-1052.8786\" fill=\"none\" stroke=\"#000000\"/>\n",
       "<polygon fill=\"#000000\" points=\"3031.0699,-1053.1572 3028.9142,-1042.784 3024.1306,-1052.2375 3031.0699,-1053.1572\" stroke=\"#000000\"/>\n",
       "</g>\n",
       "<!-- 35195133468624 -->\n",
       "<g class=\"node\" id=\"node3\">\n",
       "<title>35195133468624</title>\n",
       "<polygon fill=\"none\" points=\"3185.5,-1079.5 3185.5,-1125.5 3474.5,-1125.5 3474.5,-1079.5 3185.5,-1079.5\" stroke=\"#000000\"/>\n",
       "<text fill=\"#000000\" font-family=\"Times,serif\" font-size=\"14.00\" text-anchor=\"middle\" x=\"3268\" y=\"-1098.8\">input_past_tinj: InputLayer</text>\n",
       "<polyline fill=\"none\" points=\"3350.5,-1079.5 3350.5,-1125.5 \" stroke=\"#000000\"/>\n",
       "<text fill=\"#000000\" font-family=\"Times,serif\" font-size=\"14.00\" text-anchor=\"middle\" x=\"3378\" y=\"-1110.3\">input:</text>\n",
       "<polyline fill=\"none\" points=\"3350.5,-1102.5 3405.5,-1102.5 \" stroke=\"#000000\"/>\n",
       "<text fill=\"#000000\" font-family=\"Times,serif\" font-size=\"14.00\" text-anchor=\"middle\" x=\"3378\" y=\"-1087.3\">output:</text>\n",
       "<polyline fill=\"none\" points=\"3405.5,-1079.5 3405.5,-1125.5 \" stroke=\"#000000\"/>\n",
       "<text fill=\"#000000\" font-family=\"Times,serif\" font-size=\"14.00\" text-anchor=\"middle\" x=\"3440\" y=\"-1110.3\">(None, 6)</text>\n",
       "<polyline fill=\"none\" points=\"3405.5,-1102.5 3474.5,-1102.5 \" stroke=\"#000000\"/>\n",
       "<text fill=\"#000000\" font-family=\"Times,serif\" font-size=\"14.00\" text-anchor=\"middle\" x=\"3440\" y=\"-1087.3\">(None, 6)</text>\n",
       "</g>\n",
       "<!-- 35195132453160 -->\n",
       "<g class=\"node\" id=\"node16\">\n",
       "<title>35195132453160</title>\n",
       "<polygon fill=\"none\" points=\"3195.5,-996.5 3195.5,-1042.5 3464.5,-1042.5 3464.5,-996.5 3195.5,-996.5\" stroke=\"#000000\"/>\n",
       "<text fill=\"#000000\" font-family=\"Times,serif\" font-size=\"14.00\" text-anchor=\"middle\" x=\"3261\" y=\"-1015.8\">reshape_12: Reshape</text>\n",
       "<polyline fill=\"none\" points=\"3326.5,-996.5 3326.5,-1042.5 \" stroke=\"#000000\"/>\n",
       "<text fill=\"#000000\" font-family=\"Times,serif\" font-size=\"14.00\" text-anchor=\"middle\" x=\"3354\" y=\"-1027.3\">input:</text>\n",
       "<polyline fill=\"none\" points=\"3326.5,-1019.5 3381.5,-1019.5 \" stroke=\"#000000\"/>\n",
       "<text fill=\"#000000\" font-family=\"Times,serif\" font-size=\"14.00\" text-anchor=\"middle\" x=\"3354\" y=\"-1004.3\">output:</text>\n",
       "<polyline fill=\"none\" points=\"3381.5,-996.5 3381.5,-1042.5 \" stroke=\"#000000\"/>\n",
       "<text fill=\"#000000\" font-family=\"Times,serif\" font-size=\"14.00\" text-anchor=\"middle\" x=\"3423\" y=\"-1027.3\">(None, 6)</text>\n",
       "<polyline fill=\"none\" points=\"3381.5,-1019.5 3464.5,-1019.5 \" stroke=\"#000000\"/>\n",
       "<text fill=\"#000000\" font-family=\"Times,serif\" font-size=\"14.00\" text-anchor=\"middle\" x=\"3423\" y=\"-1004.3\">(None, 6, 1)</text>\n",
       "</g>\n",
       "<!-- 35195133468624&#45;&gt;35195132453160 -->\n",
       "<g class=\"edge\" id=\"edge3\">\n",
       "<title>35195133468624-&gt;35195132453160</title>\n",
       "<path d=\"M3330,-1079.3799C3330,-1071.1745 3330,-1061.7679 3330,-1052.8786\" fill=\"none\" stroke=\"#000000\"/>\n",
       "<polygon fill=\"#000000\" points=\"3333.5001,-1052.784 3330,-1042.784 3326.5001,-1052.784 3333.5001,-1052.784\" stroke=\"#000000\"/>\n",
       "</g>\n",
       "<!-- 35195121997808 -->\n",
       "<g class=\"node\" id=\"node4\">\n",
       "<title>35195121997808</title>\n",
       "<polygon fill=\"none\" points=\"3492.5,-1079.5 3492.5,-1125.5 3791.5,-1125.5 3791.5,-1079.5 3492.5,-1079.5\" stroke=\"#000000\"/>\n",
       "<text fill=\"#000000\" font-family=\"Times,serif\" font-size=\"14.00\" text-anchor=\"middle\" x=\"3580\" y=\"-1098.8\">input_past_gasA: InputLayer</text>\n",
       "<polyline fill=\"none\" points=\"3667.5,-1079.5 3667.5,-1125.5 \" stroke=\"#000000\"/>\n",
       "<text fill=\"#000000\" font-family=\"Times,serif\" font-size=\"14.00\" text-anchor=\"middle\" x=\"3695\" y=\"-1110.3\">input:</text>\n",
       "<polyline fill=\"none\" points=\"3667.5,-1102.5 3722.5,-1102.5 \" stroke=\"#000000\"/>\n",
       "<text fill=\"#000000\" font-family=\"Times,serif\" font-size=\"14.00\" text-anchor=\"middle\" x=\"3695\" y=\"-1087.3\">output:</text>\n",
       "<polyline fill=\"none\" points=\"3722.5,-1079.5 3722.5,-1125.5 \" stroke=\"#000000\"/>\n",
       "<text fill=\"#000000\" font-family=\"Times,serif\" font-size=\"14.00\" text-anchor=\"middle\" x=\"3757\" y=\"-1110.3\">(None, 6)</text>\n",
       "<polyline fill=\"none\" points=\"3722.5,-1102.5 3791.5,-1102.5 \" stroke=\"#000000\"/>\n",
       "<text fill=\"#000000\" font-family=\"Times,serif\" font-size=\"14.00\" text-anchor=\"middle\" x=\"3757\" y=\"-1087.3\">(None, 6)</text>\n",
       "</g>\n",
       "<!-- 35195132453608 -->\n",
       "<g class=\"node\" id=\"node17\">\n",
       "<title>35195132453608</title>\n",
       "<polygon fill=\"none\" points=\"3495.5,-996.5 3495.5,-1042.5 3764.5,-1042.5 3764.5,-996.5 3495.5,-996.5\" stroke=\"#000000\"/>\n",
       "<text fill=\"#000000\" font-family=\"Times,serif\" font-size=\"14.00\" text-anchor=\"middle\" x=\"3561\" y=\"-1015.8\">reshape_14: Reshape</text>\n",
       "<polyline fill=\"none\" points=\"3626.5,-996.5 3626.5,-1042.5 \" stroke=\"#000000\"/>\n",
       "<text fill=\"#000000\" font-family=\"Times,serif\" font-size=\"14.00\" text-anchor=\"middle\" x=\"3654\" y=\"-1027.3\">input:</text>\n",
       "<polyline fill=\"none\" points=\"3626.5,-1019.5 3681.5,-1019.5 \" stroke=\"#000000\"/>\n",
       "<text fill=\"#000000\" font-family=\"Times,serif\" font-size=\"14.00\" text-anchor=\"middle\" x=\"3654\" y=\"-1004.3\">output:</text>\n",
       "<polyline fill=\"none\" points=\"3681.5,-996.5 3681.5,-1042.5 \" stroke=\"#000000\"/>\n",
       "<text fill=\"#000000\" font-family=\"Times,serif\" font-size=\"14.00\" text-anchor=\"middle\" x=\"3723\" y=\"-1027.3\">(None, 6)</text>\n",
       "<polyline fill=\"none\" points=\"3681.5,-1019.5 3764.5,-1019.5 \" stroke=\"#000000\"/>\n",
       "<text fill=\"#000000\" font-family=\"Times,serif\" font-size=\"14.00\" text-anchor=\"middle\" x=\"3723\" y=\"-1004.3\">(None, 6, 1)</text>\n",
       "</g>\n",
       "<!-- 35195121997808&#45;&gt;35195132453608 -->\n",
       "<g class=\"edge\" id=\"edge4\">\n",
       "<title>35195121997808-&gt;35195132453608</title>\n",
       "<path d=\"M3638.6573,-1079.3799C3637.471,-1071.1745 3636.111,-1061.7679 3634.8258,-1052.8786\" fill=\"none\" stroke=\"#000000\"/>\n",
       "<polygon fill=\"#000000\" points=\"3638.2613,-1052.1803 3633.3664,-1042.784 3631.3334,-1053.1819 3638.2613,-1052.1803\" stroke=\"#000000\"/>\n",
       "</g>\n",
       "<!-- 35195133418016 -->\n",
       "<g class=\"node\" id=\"node5\">\n",
       "<title>35195133418016</title>\n",
       "<polygon fill=\"none\" points=\"1587.5,-1079.5 1587.5,-1125.5 1890.5,-1125.5 1890.5,-1079.5 1587.5,-1079.5\" stroke=\"#000000\"/>\n",
       "<text fill=\"#000000\" font-family=\"Times,serif\" font-size=\"14.00\" text-anchor=\"middle\" x=\"1677\" y=\"-1098.8\">input_future_pinj: InputLayer</text>\n",
       "<polyline fill=\"none\" points=\"1766.5,-1079.5 1766.5,-1125.5 \" stroke=\"#000000\"/>\n",
       "<text fill=\"#000000\" font-family=\"Times,serif\" font-size=\"14.00\" text-anchor=\"middle\" x=\"1794\" y=\"-1110.3\">input:</text>\n",
       "<polyline fill=\"none\" points=\"1766.5,-1102.5 1821.5,-1102.5 \" stroke=\"#000000\"/>\n",
       "<text fill=\"#000000\" font-family=\"Times,serif\" font-size=\"14.00\" text-anchor=\"middle\" x=\"1794\" y=\"-1087.3\">output:</text>\n",
       "<polyline fill=\"none\" points=\"1821.5,-1079.5 1821.5,-1125.5 \" stroke=\"#000000\"/>\n",
       "<text fill=\"#000000\" font-family=\"Times,serif\" font-size=\"14.00\" text-anchor=\"middle\" x=\"1856\" y=\"-1110.3\">(None, 3)</text>\n",
       "<polyline fill=\"none\" points=\"1821.5,-1102.5 1890.5,-1102.5 \" stroke=\"#000000\"/>\n",
       "<text fill=\"#000000\" font-family=\"Times,serif\" font-size=\"14.00\" text-anchor=\"middle\" x=\"1856\" y=\"-1087.3\">(None, 3)</text>\n",
       "</g>\n",
       "<!-- 35195132454056 -->\n",
       "<g class=\"node\" id=\"node18\">\n",
       "<title>35195132454056</title>\n",
       "<polygon fill=\"none\" points=\"1683.5,-996.5 1683.5,-1042.5 1946.5,-1042.5 1946.5,-996.5 1683.5,-996.5\" stroke=\"#000000\"/>\n",
       "<text fill=\"#000000\" font-family=\"Times,serif\" font-size=\"14.00\" text-anchor=\"middle\" x=\"1746\" y=\"-1015.8\">reshape_7: Reshape</text>\n",
       "<polyline fill=\"none\" points=\"1808.5,-996.5 1808.5,-1042.5 \" stroke=\"#000000\"/>\n",
       "<text fill=\"#000000\" font-family=\"Times,serif\" font-size=\"14.00\" text-anchor=\"middle\" x=\"1836\" y=\"-1027.3\">input:</text>\n",
       "<polyline fill=\"none\" points=\"1808.5,-1019.5 1863.5,-1019.5 \" stroke=\"#000000\"/>\n",
       "<text fill=\"#000000\" font-family=\"Times,serif\" font-size=\"14.00\" text-anchor=\"middle\" x=\"1836\" y=\"-1004.3\">output:</text>\n",
       "<polyline fill=\"none\" points=\"1863.5,-996.5 1863.5,-1042.5 \" stroke=\"#000000\"/>\n",
       "<text fill=\"#000000\" font-family=\"Times,serif\" font-size=\"14.00\" text-anchor=\"middle\" x=\"1905\" y=\"-1027.3\">(None, 3)</text>\n",
       "<polyline fill=\"none\" points=\"1863.5,-1019.5 1946.5,-1019.5 \" stroke=\"#000000\"/>\n",
       "<text fill=\"#000000\" font-family=\"Times,serif\" font-size=\"14.00\" text-anchor=\"middle\" x=\"1905\" y=\"-1004.3\">(None, 3, 1)</text>\n",
       "</g>\n",
       "<!-- 35195133418016&#45;&gt;35195132454056 -->\n",
       "<g class=\"edge\" id=\"edge5\">\n",
       "<title>35195133418016-&gt;35195132454056</title>\n",
       "<path d=\"M1760.1702,-1079.3799C1768.4185,-1070.3718 1777.9926,-1059.916 1786.8102,-1050.2863\" fill=\"none\" stroke=\"#000000\"/>\n",
       "<polygon fill=\"#000000\" points=\"1789.5078,-1052.5229 1793.6797,-1042.784 1784.3451,-1047.7956 1789.5078,-1052.5229\" stroke=\"#000000\"/>\n",
       "</g>\n",
       "<!-- 35195133308880 -->\n",
       "<g class=\"node\" id=\"node6\">\n",
       "<title>35195133308880</title>\n",
       "<polygon fill=\"none\" points=\"1908.5,-1079.5 1908.5,-1125.5 2211.5,-1125.5 2211.5,-1079.5 1908.5,-1079.5\" stroke=\"#000000\"/>\n",
       "<text fill=\"#000000\" font-family=\"Times,serif\" font-size=\"14.00\" text-anchor=\"middle\" x=\"1998\" y=\"-1098.8\">input_future_curr: InputLayer</text>\n",
       "<polyline fill=\"none\" points=\"2087.5,-1079.5 2087.5,-1125.5 \" stroke=\"#000000\"/>\n",
       "<text fill=\"#000000\" font-family=\"Times,serif\" font-size=\"14.00\" text-anchor=\"middle\" x=\"2115\" y=\"-1110.3\">input:</text>\n",
       "<polyline fill=\"none\" points=\"2087.5,-1102.5 2142.5,-1102.5 \" stroke=\"#000000\"/>\n",
       "<text fill=\"#000000\" font-family=\"Times,serif\" font-size=\"14.00\" text-anchor=\"middle\" x=\"2115\" y=\"-1087.3\">output:</text>\n",
       "<polyline fill=\"none\" points=\"2142.5,-1079.5 2142.5,-1125.5 \" stroke=\"#000000\"/>\n",
       "<text fill=\"#000000\" font-family=\"Times,serif\" font-size=\"14.00\" text-anchor=\"middle\" x=\"2177\" y=\"-1110.3\">(None, 3)</text>\n",
       "<polyline fill=\"none\" points=\"2142.5,-1102.5 2211.5,-1102.5 \" stroke=\"#000000\"/>\n",
       "<text fill=\"#000000\" font-family=\"Times,serif\" font-size=\"14.00\" text-anchor=\"middle\" x=\"2177\" y=\"-1087.3\">(None, 3)</text>\n",
       "</g>\n",
       "<!-- 35195132454504 -->\n",
       "<g class=\"node\" id=\"node19\">\n",
       "<title>35195132454504</title>\n",
       "<polygon fill=\"none\" points=\"1964.5,-996.5 1964.5,-1042.5 2227.5,-1042.5 2227.5,-996.5 1964.5,-996.5\" stroke=\"#000000\"/>\n",
       "<text fill=\"#000000\" font-family=\"Times,serif\" font-size=\"14.00\" text-anchor=\"middle\" x=\"2027\" y=\"-1015.8\">reshape_9: Reshape</text>\n",
       "<polyline fill=\"none\" points=\"2089.5,-996.5 2089.5,-1042.5 \" stroke=\"#000000\"/>\n",
       "<text fill=\"#000000\" font-family=\"Times,serif\" font-size=\"14.00\" text-anchor=\"middle\" x=\"2117\" y=\"-1027.3\">input:</text>\n",
       "<polyline fill=\"none\" points=\"2089.5,-1019.5 2144.5,-1019.5 \" stroke=\"#000000\"/>\n",
       "<text fill=\"#000000\" font-family=\"Times,serif\" font-size=\"14.00\" text-anchor=\"middle\" x=\"2117\" y=\"-1004.3\">output:</text>\n",
       "<polyline fill=\"none\" points=\"2144.5,-996.5 2144.5,-1042.5 \" stroke=\"#000000\"/>\n",
       "<text fill=\"#000000\" font-family=\"Times,serif\" font-size=\"14.00\" text-anchor=\"middle\" x=\"2186\" y=\"-1027.3\">(None, 3)</text>\n",
       "<polyline fill=\"none\" points=\"2144.5,-1019.5 2227.5,-1019.5 \" stroke=\"#000000\"/>\n",
       "<text fill=\"#000000\" font-family=\"Times,serif\" font-size=\"14.00\" text-anchor=\"middle\" x=\"2186\" y=\"-1004.3\">(None, 3, 1)</text>\n",
       "</g>\n",
       "<!-- 35195133308880&#45;&gt;35195132454504 -->\n",
       "<g class=\"edge\" id=\"edge6\">\n",
       "<title>35195133308880-&gt;35195132454504</title>\n",
       "<path d=\"M2070.028,-1079.3799C2073.703,-1070.907 2077.9336,-1061.1531 2081.899,-1052.0107\" fill=\"none\" stroke=\"#000000\"/>\n",
       "<polygon fill=\"#000000\" points=\"2085.1327,-1053.351 2085.9009,-1042.784 2078.7107,-1050.5655 2085.1327,-1053.351\" stroke=\"#000000\"/>\n",
       "</g>\n",
       "<!-- 35195133358432 -->\n",
       "<g class=\"node\" id=\"node7\">\n",
       "<title>35195133358432</title>\n",
       "<polygon fill=\"none\" points=\"2230,-1079.5 2230,-1125.5 2530,-1125.5 2530,-1079.5 2230,-1079.5\" stroke=\"#000000\"/>\n",
       "<text fill=\"#000000\" font-family=\"Times,serif\" font-size=\"14.00\" text-anchor=\"middle\" x=\"2318\" y=\"-1098.8\">input_future_tinj: InputLayer</text>\n",
       "<polyline fill=\"none\" points=\"2406,-1079.5 2406,-1125.5 \" stroke=\"#000000\"/>\n",
       "<text fill=\"#000000\" font-family=\"Times,serif\" font-size=\"14.00\" text-anchor=\"middle\" x=\"2433.5\" y=\"-1110.3\">input:</text>\n",
       "<polyline fill=\"none\" points=\"2406,-1102.5 2461,-1102.5 \" stroke=\"#000000\"/>\n",
       "<text fill=\"#000000\" font-family=\"Times,serif\" font-size=\"14.00\" text-anchor=\"middle\" x=\"2433.5\" y=\"-1087.3\">output:</text>\n",
       "<polyline fill=\"none\" points=\"2461,-1079.5 2461,-1125.5 \" stroke=\"#000000\"/>\n",
       "<text fill=\"#000000\" font-family=\"Times,serif\" font-size=\"14.00\" text-anchor=\"middle\" x=\"2495.5\" y=\"-1110.3\">(None, 3)</text>\n",
       "<polyline fill=\"none\" points=\"2461,-1102.5 2530,-1102.5 \" stroke=\"#000000\"/>\n",
       "<text fill=\"#000000\" font-family=\"Times,serif\" font-size=\"14.00\" text-anchor=\"middle\" x=\"2495.5\" y=\"-1087.3\">(None, 3)</text>\n",
       "</g>\n",
       "<!-- 35195132455400 -->\n",
       "<g class=\"node\" id=\"node20\">\n",
       "<title>35195132455400</title>\n",
       "<polygon fill=\"none\" points=\"2245.5,-996.5 2245.5,-1042.5 2514.5,-1042.5 2514.5,-996.5 2245.5,-996.5\" stroke=\"#000000\"/>\n",
       "<text fill=\"#000000\" font-family=\"Times,serif\" font-size=\"14.00\" text-anchor=\"middle\" x=\"2311\" y=\"-1015.8\">reshape_11: Reshape</text>\n",
       "<polyline fill=\"none\" points=\"2376.5,-996.5 2376.5,-1042.5 \" stroke=\"#000000\"/>\n",
       "<text fill=\"#000000\" font-family=\"Times,serif\" font-size=\"14.00\" text-anchor=\"middle\" x=\"2404\" y=\"-1027.3\">input:</text>\n",
       "<polyline fill=\"none\" points=\"2376.5,-1019.5 2431.5,-1019.5 \" stroke=\"#000000\"/>\n",
       "<text fill=\"#000000\" font-family=\"Times,serif\" font-size=\"14.00\" text-anchor=\"middle\" x=\"2404\" y=\"-1004.3\">output:</text>\n",
       "<polyline fill=\"none\" points=\"2431.5,-996.5 2431.5,-1042.5 \" stroke=\"#000000\"/>\n",
       "<text fill=\"#000000\" font-family=\"Times,serif\" font-size=\"14.00\" text-anchor=\"middle\" x=\"2473\" y=\"-1027.3\">(None, 3)</text>\n",
       "<polyline fill=\"none\" points=\"2431.5,-1019.5 2514.5,-1019.5 \" stroke=\"#000000\"/>\n",
       "<text fill=\"#000000\" font-family=\"Times,serif\" font-size=\"14.00\" text-anchor=\"middle\" x=\"2473\" y=\"-1004.3\">(None, 3, 1)</text>\n",
       "</g>\n",
       "<!-- 35195133358432&#45;&gt;35195132455400 -->\n",
       "<g class=\"edge\" id=\"edge7\">\n",
       "<title>35195133358432-&gt;35195132455400</title>\n",
       "<path d=\"M2380,-1079.3799C2380,-1071.1745 2380,-1061.7679 2380,-1052.8786\" fill=\"none\" stroke=\"#000000\"/>\n",
       "<polygon fill=\"#000000\" points=\"2383.5001,-1052.784 2380,-1042.784 2376.5001,-1052.784 2383.5001,-1052.784\" stroke=\"#000000\"/>\n",
       "</g>\n",
       "<!-- 35195133570352 -->\n",
       "<g class=\"node\" id=\"node8\">\n",
       "<title>35195133570352</title>\n",
       "<polygon fill=\"none\" points=\"2547.5,-1079.5 2547.5,-1125.5 2856.5,-1125.5 2856.5,-1079.5 2547.5,-1079.5\" stroke=\"#000000\"/>\n",
       "<text fill=\"#000000\" font-family=\"Times,serif\" font-size=\"14.00\" text-anchor=\"middle\" x=\"2640\" y=\"-1098.8\">input_future_gasA: InputLayer</text>\n",
       "<polyline fill=\"none\" points=\"2732.5,-1079.5 2732.5,-1125.5 \" stroke=\"#000000\"/>\n",
       "<text fill=\"#000000\" font-family=\"Times,serif\" font-size=\"14.00\" text-anchor=\"middle\" x=\"2760\" y=\"-1110.3\">input:</text>\n",
       "<polyline fill=\"none\" points=\"2732.5,-1102.5 2787.5,-1102.5 \" stroke=\"#000000\"/>\n",
       "<text fill=\"#000000\" font-family=\"Times,serif\" font-size=\"14.00\" text-anchor=\"middle\" x=\"2760\" y=\"-1087.3\">output:</text>\n",
       "<polyline fill=\"none\" points=\"2787.5,-1079.5 2787.5,-1125.5 \" stroke=\"#000000\"/>\n",
       "<text fill=\"#000000\" font-family=\"Times,serif\" font-size=\"14.00\" text-anchor=\"middle\" x=\"2822\" y=\"-1110.3\">(None, 3)</text>\n",
       "<polyline fill=\"none\" points=\"2787.5,-1102.5 2856.5,-1102.5 \" stroke=\"#000000\"/>\n",
       "<text fill=\"#000000\" font-family=\"Times,serif\" font-size=\"14.00\" text-anchor=\"middle\" x=\"2822\" y=\"-1087.3\">(None, 3)</text>\n",
       "</g>\n",
       "<!-- 35195132455344 -->\n",
       "<g class=\"node\" id=\"node21\">\n",
       "<title>35195132455344</title>\n",
       "<polygon fill=\"none\" points=\"2550.5,-996.5 2550.5,-1042.5 2819.5,-1042.5 2819.5,-996.5 2550.5,-996.5\" stroke=\"#000000\"/>\n",
       "<text fill=\"#000000\" font-family=\"Times,serif\" font-size=\"14.00\" text-anchor=\"middle\" x=\"2616\" y=\"-1015.8\">reshape_13: Reshape</text>\n",
       "<polyline fill=\"none\" points=\"2681.5,-996.5 2681.5,-1042.5 \" stroke=\"#000000\"/>\n",
       "<text fill=\"#000000\" font-family=\"Times,serif\" font-size=\"14.00\" text-anchor=\"middle\" x=\"2709\" y=\"-1027.3\">input:</text>\n",
       "<polyline fill=\"none\" points=\"2681.5,-1019.5 2736.5,-1019.5 \" stroke=\"#000000\"/>\n",
       "<text fill=\"#000000\" font-family=\"Times,serif\" font-size=\"14.00\" text-anchor=\"middle\" x=\"2709\" y=\"-1004.3\">output:</text>\n",
       "<polyline fill=\"none\" points=\"2736.5,-996.5 2736.5,-1042.5 \" stroke=\"#000000\"/>\n",
       "<text fill=\"#000000\" font-family=\"Times,serif\" font-size=\"14.00\" text-anchor=\"middle\" x=\"2778\" y=\"-1027.3\">(None, 3)</text>\n",
       "<polyline fill=\"none\" points=\"2736.5,-1019.5 2819.5,-1019.5 \" stroke=\"#000000\"/>\n",
       "<text fill=\"#000000\" font-family=\"Times,serif\" font-size=\"14.00\" text-anchor=\"middle\" x=\"2778\" y=\"-1004.3\">(None, 3, 1)</text>\n",
       "</g>\n",
       "<!-- 35195133570352&#45;&gt;35195132455344 -->\n",
       "<g class=\"edge\" id=\"edge8\">\n",
       "<title>35195133570352-&gt;35195132455344</title>\n",
       "<path d=\"M2697.2646,-1079.3799C2695.5657,-1071.0854 2693.6154,-1061.5633 2691.7773,-1052.5889\" fill=\"none\" stroke=\"#000000\"/>\n",
       "<polygon fill=\"#000000\" points=\"2695.2044,-1051.8783 2689.769,-1042.784 2688.3468,-1053.2829 2695.2044,-1051.8783\" stroke=\"#000000\"/>\n",
       "</g>\n",
       "<!-- 35195133569288 -->\n",
       "<g class=\"node\" id=\"node9\">\n",
       "<title>35195133569288</title>\n",
       "<polygon fill=\"none\" points=\"1067.5,-996.5 1067.5,-1042.5 1358.5,-1042.5 1358.5,-996.5 1067.5,-996.5\" stroke=\"#000000\"/>\n",
       "<text fill=\"#000000\" font-family=\"Times,serif\" font-size=\"14.00\" text-anchor=\"middle\" x=\"1140.5\" y=\"-1015.8\">input_temp: InputLayer</text>\n",
       "<polyline fill=\"none\" points=\"1213.5,-996.5 1213.5,-1042.5 \" stroke=\"#000000\"/>\n",
       "<text fill=\"#000000\" font-family=\"Times,serif\" font-size=\"14.00\" text-anchor=\"middle\" x=\"1241\" y=\"-1027.3\">input:</text>\n",
       "<polyline fill=\"none\" points=\"1213.5,-1019.5 1268.5,-1019.5 \" stroke=\"#000000\"/>\n",
       "<text fill=\"#000000\" font-family=\"Times,serif\" font-size=\"14.00\" text-anchor=\"middle\" x=\"1241\" y=\"-1004.3\">output:</text>\n",
       "<polyline fill=\"none\" points=\"1268.5,-996.5 1268.5,-1042.5 \" stroke=\"#000000\"/>\n",
       "<text fill=\"#000000\" font-family=\"Times,serif\" font-size=\"14.00\" text-anchor=\"middle\" x=\"1313.5\" y=\"-1027.3\">(None, 1, 33)</text>\n",
       "<polyline fill=\"none\" points=\"1268.5,-1019.5 1358.5,-1019.5 \" stroke=\"#000000\"/>\n",
       "<text fill=\"#000000\" font-family=\"Times,serif\" font-size=\"14.00\" text-anchor=\"middle\" x=\"1313.5\" y=\"-1004.3\">(None, 1, 33)</text>\n",
       "</g>\n",
       "<!-- 35195132454952 -->\n",
       "<g class=\"node\" id=\"node22\">\n",
       "<title>35195132454952</title>\n",
       "<polygon fill=\"none\" points=\"1066,-913.5 1066,-959.5 1350,-959.5 1350,-913.5 1066,-913.5\" stroke=\"#000000\"/>\n",
       "<text fill=\"#000000\" font-family=\"Times,serif\" font-size=\"14.00\" text-anchor=\"middle\" x=\"1128.5\" y=\"-932.8\">reshape_1: Reshape</text>\n",
       "<polyline fill=\"none\" points=\"1191,-913.5 1191,-959.5 \" stroke=\"#000000\"/>\n",
       "<text fill=\"#000000\" font-family=\"Times,serif\" font-size=\"14.00\" text-anchor=\"middle\" x=\"1218.5\" y=\"-944.3\">input:</text>\n",
       "<polyline fill=\"none\" points=\"1191,-936.5 1246,-936.5 \" stroke=\"#000000\"/>\n",
       "<text fill=\"#000000\" font-family=\"Times,serif\" font-size=\"14.00\" text-anchor=\"middle\" x=\"1218.5\" y=\"-921.3\">output:</text>\n",
       "<polyline fill=\"none\" points=\"1246,-913.5 1246,-959.5 \" stroke=\"#000000\"/>\n",
       "<text fill=\"#000000\" font-family=\"Times,serif\" font-size=\"14.00\" text-anchor=\"middle\" x=\"1298\" y=\"-944.3\">(None, 1, 33)</text>\n",
       "<polyline fill=\"none\" points=\"1246,-936.5 1350,-936.5 \" stroke=\"#000000\"/>\n",
       "<text fill=\"#000000\" font-family=\"Times,serif\" font-size=\"14.00\" text-anchor=\"middle\" x=\"1298\" y=\"-921.3\">(None, 1, 33, 1)</text>\n",
       "</g>\n",
       "<!-- 35195133569288&#45;&gt;35195132454952 -->\n",
       "<g class=\"edge\" id=\"edge9\">\n",
       "<title>35195133569288-&gt;35195132454952</title>\n",
       "<path d=\"M1211.6072,-996.3799C1211.1129,-988.1745 1210.5463,-978.7679 1210.0108,-969.8786\" fill=\"none\" stroke=\"#000000\"/>\n",
       "<polygon fill=\"#000000\" points=\"1213.4977,-969.5554 1209.4027,-959.784 1206.5104,-969.9764 1213.4977,-969.5554\" stroke=\"#000000\"/>\n",
       "</g>\n",
       "<!-- 35195133570744 -->\n",
       "<g class=\"node\" id=\"node10\">\n",
       "<title>35195133570744</title>\n",
       "<polygon fill=\"none\" points=\"1377,-996.5 1377,-1042.5 1665,-1042.5 1665,-996.5 1377,-996.5\" stroke=\"#000000\"/>\n",
       "<text fill=\"#000000\" font-family=\"Times,serif\" font-size=\"14.00\" text-anchor=\"middle\" x=\"1448.5\" y=\"-1015.8\">input_dens: InputLayer</text>\n",
       "<polyline fill=\"none\" points=\"1520,-996.5 1520,-1042.5 \" stroke=\"#000000\"/>\n",
       "<text fill=\"#000000\" font-family=\"Times,serif\" font-size=\"14.00\" text-anchor=\"middle\" x=\"1547.5\" y=\"-1027.3\">input:</text>\n",
       "<polyline fill=\"none\" points=\"1520,-1019.5 1575,-1019.5 \" stroke=\"#000000\"/>\n",
       "<text fill=\"#000000\" font-family=\"Times,serif\" font-size=\"14.00\" text-anchor=\"middle\" x=\"1547.5\" y=\"-1004.3\">output:</text>\n",
       "<polyline fill=\"none\" points=\"1575,-996.5 1575,-1042.5 \" stroke=\"#000000\"/>\n",
       "<text fill=\"#000000\" font-family=\"Times,serif\" font-size=\"14.00\" text-anchor=\"middle\" x=\"1620\" y=\"-1027.3\">(None, 1, 33)</text>\n",
       "<polyline fill=\"none\" points=\"1575,-1019.5 1665,-1019.5 \" stroke=\"#000000\"/>\n",
       "<text fill=\"#000000\" font-family=\"Times,serif\" font-size=\"14.00\" text-anchor=\"middle\" x=\"1620\" y=\"-1004.3\">(None, 1, 33)</text>\n",
       "</g>\n",
       "<!-- 35195132455288 -->\n",
       "<g class=\"node\" id=\"node23\">\n",
       "<title>35195132455288</title>\n",
       "<polygon fill=\"none\" points=\"1376,-913.5 1376,-959.5 1660,-959.5 1660,-913.5 1376,-913.5\" stroke=\"#000000\"/>\n",
       "<text fill=\"#000000\" font-family=\"Times,serif\" font-size=\"14.00\" text-anchor=\"middle\" x=\"1438.5\" y=\"-932.8\">reshape_2: Reshape</text>\n",
       "<polyline fill=\"none\" points=\"1501,-913.5 1501,-959.5 \" stroke=\"#000000\"/>\n",
       "<text fill=\"#000000\" font-family=\"Times,serif\" font-size=\"14.00\" text-anchor=\"middle\" x=\"1528.5\" y=\"-944.3\">input:</text>\n",
       "<polyline fill=\"none\" points=\"1501,-936.5 1556,-936.5 \" stroke=\"#000000\"/>\n",
       "<text fill=\"#000000\" font-family=\"Times,serif\" font-size=\"14.00\" text-anchor=\"middle\" x=\"1528.5\" y=\"-921.3\">output:</text>\n",
       "<polyline fill=\"none\" points=\"1556,-913.5 1556,-959.5 \" stroke=\"#000000\"/>\n",
       "<text fill=\"#000000\" font-family=\"Times,serif\" font-size=\"14.00\" text-anchor=\"middle\" x=\"1608\" y=\"-944.3\">(None, 1, 33)</text>\n",
       "<polyline fill=\"none\" points=\"1556,-936.5 1660,-936.5 \" stroke=\"#000000\"/>\n",
       "<text fill=\"#000000\" font-family=\"Times,serif\" font-size=\"14.00\" text-anchor=\"middle\" x=\"1608\" y=\"-921.3\">(None, 1, 33, 1)</text>\n",
       "</g>\n",
       "<!-- 35195133570744&#45;&gt;35195132455288 -->\n",
       "<g class=\"edge\" id=\"edge10\">\n",
       "<title>35195133570744-&gt;35195132455288</title>\n",
       "<path d=\"M1520.1643,-996.3799C1519.8678,-988.1745 1519.5278,-978.7679 1519.2065,-969.8786\" fill=\"none\" stroke=\"#000000\"/>\n",
       "<polygon fill=\"#000000\" points=\"1522.7006,-969.651 1518.8416,-959.784 1515.7052,-969.9039 1522.7006,-969.651\" stroke=\"#000000\"/>\n",
       "</g>\n",
       "<!-- 35195133570296 -->\n",
       "<g class=\"node\" id=\"node11\">\n",
       "<title>35195133570296</title>\n",
       "<polygon fill=\"none\" points=\"0,-996.5 0,-1042.5 340,-1042.5 340,-996.5 0,-996.5\" stroke=\"#000000\"/>\n",
       "<text fill=\"#000000\" font-family=\"Times,serif\" font-size=\"14.00\" text-anchor=\"middle\" x=\"97.5\" y=\"-1015.8\">input_press_EFIT01: InputLayer</text>\n",
       "<polyline fill=\"none\" points=\"195,-996.5 195,-1042.5 \" stroke=\"#000000\"/>\n",
       "<text fill=\"#000000\" font-family=\"Times,serif\" font-size=\"14.00\" text-anchor=\"middle\" x=\"222.5\" y=\"-1027.3\">input:</text>\n",
       "<polyline fill=\"none\" points=\"195,-1019.5 250,-1019.5 \" stroke=\"#000000\"/>\n",
       "<text fill=\"#000000\" font-family=\"Times,serif\" font-size=\"14.00\" text-anchor=\"middle\" x=\"222.5\" y=\"-1004.3\">output:</text>\n",
       "<polyline fill=\"none\" points=\"250,-996.5 250,-1042.5 \" stroke=\"#000000\"/>\n",
       "<text fill=\"#000000\" font-family=\"Times,serif\" font-size=\"14.00\" text-anchor=\"middle\" x=\"295\" y=\"-1027.3\">(None, 1, 33)</text>\n",
       "<polyline fill=\"none\" points=\"250,-1019.5 340,-1019.5 \" stroke=\"#000000\"/>\n",
       "<text fill=\"#000000\" font-family=\"Times,serif\" font-size=\"14.00\" text-anchor=\"middle\" x=\"295\" y=\"-1004.3\">(None, 1, 33)</text>\n",
       "</g>\n",
       "<!-- 35195132455680 -->\n",
       "<g class=\"node\" id=\"node24\">\n",
       "<title>35195132455680</title>\n",
       "<polygon fill=\"none\" points=\"48,-913.5 48,-959.5 332,-959.5 332,-913.5 48,-913.5\" stroke=\"#000000\"/>\n",
       "<text fill=\"#000000\" font-family=\"Times,serif\" font-size=\"14.00\" text-anchor=\"middle\" x=\"110.5\" y=\"-932.8\">reshape_3: Reshape</text>\n",
       "<polyline fill=\"none\" points=\"173,-913.5 173,-959.5 \" stroke=\"#000000\"/>\n",
       "<text fill=\"#000000\" font-family=\"Times,serif\" font-size=\"14.00\" text-anchor=\"middle\" x=\"200.5\" y=\"-944.3\">input:</text>\n",
       "<polyline fill=\"none\" points=\"173,-936.5 228,-936.5 \" stroke=\"#000000\"/>\n",
       "<text fill=\"#000000\" font-family=\"Times,serif\" font-size=\"14.00\" text-anchor=\"middle\" x=\"200.5\" y=\"-921.3\">output:</text>\n",
       "<polyline fill=\"none\" points=\"228,-913.5 228,-959.5 \" stroke=\"#000000\"/>\n",
       "<text fill=\"#000000\" font-family=\"Times,serif\" font-size=\"14.00\" text-anchor=\"middle\" x=\"280\" y=\"-944.3\">(None, 1, 33)</text>\n",
       "<polyline fill=\"none\" points=\"228,-936.5 332,-936.5 \" stroke=\"#000000\"/>\n",
       "<text fill=\"#000000\" font-family=\"Times,serif\" font-size=\"14.00\" text-anchor=\"middle\" x=\"280\" y=\"-921.3\">(None, 1, 33, 1)</text>\n",
       "</g>\n",
       "<!-- 35195133570296&#45;&gt;35195132455680 -->\n",
       "<g class=\"edge\" id=\"edge11\">\n",
       "<title>35195133570296-&gt;35195132455680</title>\n",
       "<path d=\"M175.5711,-996.3799C177.5698,-988.0854 179.8643,-978.5633 182.0268,-969.5889\" fill=\"none\" stroke=\"#000000\"/>\n",
       "<polygon fill=\"#000000\" points=\"185.4493,-970.3257 184.3894,-959.784 178.6441,-968.6858 185.4493,-970.3257\" stroke=\"#000000\"/>\n",
       "</g>\n",
       "<!-- 35195133186680 -->\n",
       "<g class=\"node\" id=\"node12\">\n",
       "<title>35195133186680</title>\n",
       "<polygon fill=\"none\" points=\"358,-996.5 358,-1042.5 712,-1042.5 712,-996.5 358,-996.5\" stroke=\"#000000\"/>\n",
       "<text fill=\"#000000\" font-family=\"Times,serif\" font-size=\"14.00\" text-anchor=\"middle\" x=\"462.5\" y=\"-1015.8\">input_ffprime_EFIT01: InputLayer</text>\n",
       "<polyline fill=\"none\" points=\"567,-996.5 567,-1042.5 \" stroke=\"#000000\"/>\n",
       "<text fill=\"#000000\" font-family=\"Times,serif\" font-size=\"14.00\" text-anchor=\"middle\" x=\"594.5\" y=\"-1027.3\">input:</text>\n",
       "<polyline fill=\"none\" points=\"567,-1019.5 622,-1019.5 \" stroke=\"#000000\"/>\n",
       "<text fill=\"#000000\" font-family=\"Times,serif\" font-size=\"14.00\" text-anchor=\"middle\" x=\"594.5\" y=\"-1004.3\">output:</text>\n",
       "<polyline fill=\"none\" points=\"622,-996.5 622,-1042.5 \" stroke=\"#000000\"/>\n",
       "<text fill=\"#000000\" font-family=\"Times,serif\" font-size=\"14.00\" text-anchor=\"middle\" x=\"667\" y=\"-1027.3\">(None, 1, 33)</text>\n",
       "<polyline fill=\"none\" points=\"622,-1019.5 712,-1019.5 \" stroke=\"#000000\"/>\n",
       "<text fill=\"#000000\" font-family=\"Times,serif\" font-size=\"14.00\" text-anchor=\"middle\" x=\"667\" y=\"-1004.3\">(None, 1, 33)</text>\n",
       "</g>\n",
       "<!-- 35195132455736 -->\n",
       "<g class=\"node\" id=\"node25\">\n",
       "<title>35195132455736</title>\n",
       "<polygon fill=\"none\" points=\"418,-913.5 418,-959.5 702,-959.5 702,-913.5 418,-913.5\" stroke=\"#000000\"/>\n",
       "<text fill=\"#000000\" font-family=\"Times,serif\" font-size=\"14.00\" text-anchor=\"middle\" x=\"480.5\" y=\"-932.8\">reshape_4: Reshape</text>\n",
       "<polyline fill=\"none\" points=\"543,-913.5 543,-959.5 \" stroke=\"#000000\"/>\n",
       "<text fill=\"#000000\" font-family=\"Times,serif\" font-size=\"14.00\" text-anchor=\"middle\" x=\"570.5\" y=\"-944.3\">input:</text>\n",
       "<polyline fill=\"none\" points=\"543,-936.5 598,-936.5 \" stroke=\"#000000\"/>\n",
       "<text fill=\"#000000\" font-family=\"Times,serif\" font-size=\"14.00\" text-anchor=\"middle\" x=\"570.5\" y=\"-921.3\">output:</text>\n",
       "<polyline fill=\"none\" points=\"598,-913.5 598,-959.5 \" stroke=\"#000000\"/>\n",
       "<text fill=\"#000000\" font-family=\"Times,serif\" font-size=\"14.00\" text-anchor=\"middle\" x=\"650\" y=\"-944.3\">(None, 1, 33)</text>\n",
       "<polyline fill=\"none\" points=\"598,-936.5 702,-936.5 \" stroke=\"#000000\"/>\n",
       "<text fill=\"#000000\" font-family=\"Times,serif\" font-size=\"14.00\" text-anchor=\"middle\" x=\"650\" y=\"-921.3\">(None, 1, 33, 1)</text>\n",
       "</g>\n",
       "<!-- 35195133186680&#45;&gt;35195132455736 -->\n",
       "<g class=\"edge\" id=\"edge12\">\n",
       "<title>35195133186680-&gt;35195132455736</title>\n",
       "<path d=\"M541.9639,-996.3799C544.4622,-988.0854 547.3303,-978.5633 550.0335,-969.5889\" fill=\"none\" stroke=\"#000000\"/>\n",
       "<polygon fill=\"#000000\" points=\"553.4539,-970.3685 552.9867,-959.784 546.7513,-968.3496 553.4539,-970.3685\" stroke=\"#000000\"/>\n",
       "</g>\n",
       "<!-- 35195132454392 -->\n",
       "<g class=\"node\" id=\"node13\">\n",
       "<title>35195132454392</title>\n",
       "<polygon fill=\"none\" points=\"730.5,-996.5 730.5,-1042.5 1049.5,-1042.5 1049.5,-996.5 730.5,-996.5\" stroke=\"#000000\"/>\n",
       "<text fill=\"#000000\" font-family=\"Times,serif\" font-size=\"14.00\" text-anchor=\"middle\" x=\"817.5\" y=\"-1015.8\">input_q_EFIT01: InputLayer</text>\n",
       "<polyline fill=\"none\" points=\"904.5,-996.5 904.5,-1042.5 \" stroke=\"#000000\"/>\n",
       "<text fill=\"#000000\" font-family=\"Times,serif\" font-size=\"14.00\" text-anchor=\"middle\" x=\"932\" y=\"-1027.3\">input:</text>\n",
       "<polyline fill=\"none\" points=\"904.5,-1019.5 959.5,-1019.5 \" stroke=\"#000000\"/>\n",
       "<text fill=\"#000000\" font-family=\"Times,serif\" font-size=\"14.00\" text-anchor=\"middle\" x=\"932\" y=\"-1004.3\">output:</text>\n",
       "<polyline fill=\"none\" points=\"959.5,-996.5 959.5,-1042.5 \" stroke=\"#000000\"/>\n",
       "<text fill=\"#000000\" font-family=\"Times,serif\" font-size=\"14.00\" text-anchor=\"middle\" x=\"1004.5\" y=\"-1027.3\">(None, 1, 33)</text>\n",
       "<polyline fill=\"none\" points=\"959.5,-1019.5 1049.5,-1019.5 \" stroke=\"#000000\"/>\n",
       "<text fill=\"#000000\" font-family=\"Times,serif\" font-size=\"14.00\" text-anchor=\"middle\" x=\"1004.5\" y=\"-1004.3\">(None, 1, 33)</text>\n",
       "</g>\n",
       "<!-- 35195132455792 -->\n",
       "<g class=\"node\" id=\"node26\">\n",
       "<title>35195132455792</title>\n",
       "<polygon fill=\"none\" points=\"754,-913.5 754,-959.5 1038,-959.5 1038,-913.5 754,-913.5\" stroke=\"#000000\"/>\n",
       "<text fill=\"#000000\" font-family=\"Times,serif\" font-size=\"14.00\" text-anchor=\"middle\" x=\"816.5\" y=\"-932.8\">reshape_5: Reshape</text>\n",
       "<polyline fill=\"none\" points=\"879,-913.5 879,-959.5 \" stroke=\"#000000\"/>\n",
       "<text fill=\"#000000\" font-family=\"Times,serif\" font-size=\"14.00\" text-anchor=\"middle\" x=\"906.5\" y=\"-944.3\">input:</text>\n",
       "<polyline fill=\"none\" points=\"879,-936.5 934,-936.5 \" stroke=\"#000000\"/>\n",
       "<text fill=\"#000000\" font-family=\"Times,serif\" font-size=\"14.00\" text-anchor=\"middle\" x=\"906.5\" y=\"-921.3\">output:</text>\n",
       "<polyline fill=\"none\" points=\"934,-913.5 934,-959.5 \" stroke=\"#000000\"/>\n",
       "<text fill=\"#000000\" font-family=\"Times,serif\" font-size=\"14.00\" text-anchor=\"middle\" x=\"986\" y=\"-944.3\">(None, 1, 33)</text>\n",
       "<polyline fill=\"none\" points=\"934,-936.5 1038,-936.5 \" stroke=\"#000000\"/>\n",
       "<text fill=\"#000000\" font-family=\"Times,serif\" font-size=\"14.00\" text-anchor=\"middle\" x=\"986\" y=\"-921.3\">(None, 1, 33, 1)</text>\n",
       "</g>\n",
       "<!-- 35195132454392&#45;&gt;35195132455792 -->\n",
       "<g class=\"edge\" id=\"edge13\">\n",
       "<title>35195132454392-&gt;35195132455792</title>\n",
       "<path d=\"M891.6713,-996.3799C892.2645,-988.1745 892.9445,-978.7679 893.5871,-969.8786\" fill=\"none\" stroke=\"#000000\"/>\n",
       "<polygon fill=\"#000000\" points=\"897.0866,-970.0104 894.3168,-959.784 890.1048,-969.5056 897.0866,-970.0104\" stroke=\"#000000\"/>\n",
       "</g>\n",
       "<!-- 35195132455848 -->\n",
       "<g class=\"node\" id=\"node27\">\n",
       "<title>35195132455848</title>\n",
       "<polygon fill=\"none\" points=\"3061,-913.5 3061,-959.5 3599,-959.5 3599,-913.5 3061,-913.5\" stroke=\"#000000\"/>\n",
       "<text fill=\"#000000\" font-family=\"Times,serif\" font-size=\"14.00\" text-anchor=\"middle\" x=\"3145\" y=\"-932.8\">concatenate_3: Concatenate</text>\n",
       "<polyline fill=\"none\" points=\"3229,-913.5 3229,-959.5 \" stroke=\"#000000\"/>\n",
       "<text fill=\"#000000\" font-family=\"Times,serif\" font-size=\"14.00\" text-anchor=\"middle\" x=\"3256.5\" y=\"-944.3\">input:</text>\n",
       "<polyline fill=\"none\" points=\"3229,-936.5 3284,-936.5 \" stroke=\"#000000\"/>\n",
       "<text fill=\"#000000\" font-family=\"Times,serif\" font-size=\"14.00\" text-anchor=\"middle\" x=\"3256.5\" y=\"-921.3\">output:</text>\n",
       "<polyline fill=\"none\" points=\"3284,-913.5 3284,-959.5 \" stroke=\"#000000\"/>\n",
       "<text fill=\"#000000\" font-family=\"Times,serif\" font-size=\"14.00\" text-anchor=\"middle\" x=\"3441.5\" y=\"-944.3\">[(None, 6, 1), (None, 6, 1), (None, 6, 1), (None, 6, 1)]</text>\n",
       "<polyline fill=\"none\" points=\"3284,-936.5 3599,-936.5 \" stroke=\"#000000\"/>\n",
       "<text fill=\"#000000\" font-family=\"Times,serif\" font-size=\"14.00\" text-anchor=\"middle\" x=\"3441.5\" y=\"-921.3\">(None, 6, 4)</text>\n",
       "</g>\n",
       "<!-- 35195132454840&#45;&gt;35195132455848 -->\n",
       "<g class=\"edge\" id=\"edge14\">\n",
       "<title>35195132454840-&gt;35195132455848</title>\n",
       "<path d=\"M3803.2236,-1000.1372C3793.3363,-998.7237 3783.5114,-997.3314 3774,-996 3689.1506,-984.1227 3595.107,-971.4494 3515.4946,-960.8646\" fill=\"none\" stroke=\"#000000\"/>\n",
       "<polygon fill=\"#000000\" points=\"3515.7345,-957.3658 3505.3606,-959.5182 3514.8125,-964.3048 3515.7345,-957.3658\" stroke=\"#000000\"/>\n",
       "</g>\n",
       "<!-- 35195132453944&#45;&gt;35195132455848 -->\n",
       "<g class=\"edge\" id=\"edge15\">\n",
       "<title>35195132453944-&gt;35195132455848</title>\n",
       "<path d=\"M3114.6139,-996.4901C3152.724,-985.8755 3198.1174,-973.2324 3237.3829,-962.2961\" fill=\"none\" stroke=\"#000000\"/>\n",
       "<polygon fill=\"#000000\" points=\"3238.5312,-965.6095 3247.2254,-959.5547 3236.653,-958.8662 3238.5312,-965.6095\" stroke=\"#000000\"/>\n",
       "</g>\n",
       "<!-- 35195132453160&#45;&gt;35195132455848 -->\n",
       "<g class=\"edge\" id=\"edge16\">\n",
       "<title>35195132453160-&gt;35195132455848</title>\n",
       "<path d=\"M3330,-996.3799C3330,-988.1745 3330,-978.7679 3330,-969.8786\" fill=\"none\" stroke=\"#000000\"/>\n",
       "<polygon fill=\"#000000\" points=\"3333.5001,-969.784 3330,-959.784 3326.5001,-969.784 3333.5001,-969.784\" stroke=\"#000000\"/>\n",
       "</g>\n",
       "<!-- 35195132453608&#45;&gt;35195132455848 -->\n",
       "<g class=\"edge\" id=\"edge17\">\n",
       "<title>35195132453608-&gt;35195132455848</title>\n",
       "<path d=\"M3546.8317,-996.4901C3508.3845,-985.853 3462.5741,-973.1788 3422.9876,-962.2266\" fill=\"none\" stroke=\"#000000\"/>\n",
       "<polygon fill=\"#000000\" points=\"3423.9014,-958.848 3413.3301,-959.5547 3422.0348,-965.5945 3423.9014,-958.848\" stroke=\"#000000\"/>\n",
       "</g>\n",
       "<!-- 35195132455904 -->\n",
       "<g class=\"node\" id=\"node28\">\n",
       "<title>35195132455904</title>\n",
       "<polygon fill=\"none\" points=\"1944,-913.5 1944,-959.5 2482,-959.5 2482,-913.5 1944,-913.5\" stroke=\"#000000\"/>\n",
       "<text fill=\"#000000\" font-family=\"Times,serif\" font-size=\"14.00\" text-anchor=\"middle\" x=\"2028\" y=\"-932.8\">concatenate_2: Concatenate</text>\n",
       "<polyline fill=\"none\" points=\"2112,-913.5 2112,-959.5 \" stroke=\"#000000\"/>\n",
       "<text fill=\"#000000\" font-family=\"Times,serif\" font-size=\"14.00\" text-anchor=\"middle\" x=\"2139.5\" y=\"-944.3\">input:</text>\n",
       "<polyline fill=\"none\" points=\"2112,-936.5 2167,-936.5 \" stroke=\"#000000\"/>\n",
       "<text fill=\"#000000\" font-family=\"Times,serif\" font-size=\"14.00\" text-anchor=\"middle\" x=\"2139.5\" y=\"-921.3\">output:</text>\n",
       "<polyline fill=\"none\" points=\"2167,-913.5 2167,-959.5 \" stroke=\"#000000\"/>\n",
       "<text fill=\"#000000\" font-family=\"Times,serif\" font-size=\"14.00\" text-anchor=\"middle\" x=\"2324.5\" y=\"-944.3\">[(None, 3, 1), (None, 3, 1), (None, 3, 1), (None, 3, 1)]</text>\n",
       "<polyline fill=\"none\" points=\"2167,-936.5 2482,-936.5 \" stroke=\"#000000\"/>\n",
       "<text fill=\"#000000\" font-family=\"Times,serif\" font-size=\"14.00\" text-anchor=\"middle\" x=\"2324.5\" y=\"-921.3\">(None, 3, 4)</text>\n",
       "</g>\n",
       "<!-- 35195132454056&#45;&gt;35195132455904 -->\n",
       "<g class=\"edge\" id=\"edge18\">\n",
       "<title>35195132454056-&gt;35195132455904</title>\n",
       "<path d=\"M1925.3367,-996.4901C1977.3138,-985.6506 2039.4347,-972.6958 2092.6253,-961.6033\" fill=\"none\" stroke=\"#000000\"/>\n",
       "<polygon fill=\"#000000\" points=\"2093.3739,-965.0225 2102.4487,-959.5547 2091.9448,-958.17 2093.3739,-965.0225\" stroke=\"#000000\"/>\n",
       "</g>\n",
       "<!-- 35195132454504&#45;&gt;35195132455904 -->\n",
       "<g class=\"edge\" id=\"edge19\">\n",
       "<title>35195132454504-&gt;35195132455904</title>\n",
       "<path d=\"M2128.591,-996.3799C2142.0434,-986.8367 2157.7865,-975.6686 2172.0087,-965.5793\" fill=\"none\" stroke=\"#000000\"/>\n",
       "<polygon fill=\"#000000\" points=\"2174.0469,-968.4247 2180.178,-959.784 2169.9967,-962.7154 2174.0469,-968.4247\" stroke=\"#000000\"/>\n",
       "</g>\n",
       "<!-- 35195132455400&#45;&gt;35195132455904 -->\n",
       "<g class=\"edge\" id=\"edge20\">\n",
       "<title>35195132455400-&gt;35195132455904</title>\n",
       "<path d=\"M2333.4812,-996.3799C2313.3883,-986.3936 2289.7152,-974.6279 2268.6957,-964.1811\" fill=\"none\" stroke=\"#000000\"/>\n",
       "<polygon fill=\"#000000\" points=\"2270.0714,-960.9564 2259.5587,-959.6399 2266.9559,-967.2249 2270.0714,-960.9564\" stroke=\"#000000\"/>\n",
       "</g>\n",
       "<!-- 35195132455344&#45;&gt;35195132455904 -->\n",
       "<g class=\"edge\" id=\"edge21\">\n",
       "<title>35195132455344-&gt;35195132455904</title>\n",
       "<path d=\"M2554.1485,-996.4901C2491.9957,-985.5607 2417.6126,-972.4806 2354.1877,-961.3275\" fill=\"none\" stroke=\"#000000\"/>\n",
       "<polygon fill=\"#000000\" points=\"2354.5611,-957.8395 2344.106,-959.5547 2353.3487,-964.7338 2354.5611,-957.8395\" stroke=\"#000000\"/>\n",
       "</g>\n",
       "<!-- 35195132455960 -->\n",
       "<g class=\"node\" id=\"node29\">\n",
       "<title>35195132455960</title>\n",
       "<polygon fill=\"none\" points=\"693.5,-830.5 693.5,-876.5 1410.5,-876.5 1410.5,-830.5 693.5,-830.5\" stroke=\"#000000\"/>\n",
       "<text fill=\"#000000\" font-family=\"Times,serif\" font-size=\"14.00\" text-anchor=\"middle\" x=\"777.5\" y=\"-849.8\">concatenate_1: Concatenate</text>\n",
       "<polyline fill=\"none\" points=\"861.5,-830.5 861.5,-876.5 \" stroke=\"#000000\"/>\n",
       "<text fill=\"#000000\" font-family=\"Times,serif\" font-size=\"14.00\" text-anchor=\"middle\" x=\"889\" y=\"-861.3\">input:</text>\n",
       "<polyline fill=\"none\" points=\"861.5,-853.5 916.5,-853.5 \" stroke=\"#000000\"/>\n",
       "<text fill=\"#000000\" font-family=\"Times,serif\" font-size=\"14.00\" text-anchor=\"middle\" x=\"889\" y=\"-838.3\">output:</text>\n",
       "<polyline fill=\"none\" points=\"916.5,-830.5 916.5,-876.5 \" stroke=\"#000000\"/>\n",
       "<text fill=\"#000000\" font-family=\"Times,serif\" font-size=\"14.00\" text-anchor=\"middle\" x=\"1163.5\" y=\"-861.3\">[(None, 1, 33, 1), (None, 1, 33, 1), (None, 1, 33, 1), (None, 1, 33, 1), (None, 1, 33, 1)]</text>\n",
       "<polyline fill=\"none\" points=\"916.5,-853.5 1410.5,-853.5 \" stroke=\"#000000\"/>\n",
       "<text fill=\"#000000\" font-family=\"Times,serif\" font-size=\"14.00\" text-anchor=\"middle\" x=\"1163.5\" y=\"-838.3\">(None, 1, 33, 5)</text>\n",
       "</g>\n",
       "<!-- 35195132454952&#45;&gt;35195132455960 -->\n",
       "<g class=\"edge\" id=\"edge22\">\n",
       "<title>35195132454952-&gt;35195132455960</title>\n",
       "<path d=\"M1164.5453,-913.3799C1145.9442,-903.4832 1124.0585,-891.8388 1104.556,-881.4625\" fill=\"none\" stroke=\"#000000\"/>\n",
       "<polygon fill=\"#000000\" points=\"1105.9642,-878.2472 1095.492,-876.6399 1102.6762,-884.427 1105.9642,-878.2472\" stroke=\"#000000\"/>\n",
       "</g>\n",
       "<!-- 35195132455288&#45;&gt;35195132455960 -->\n",
       "<g class=\"edge\" id=\"edge23\">\n",
       "<title>35195132455288-&gt;35195132455960</title>\n",
       "<path d=\"M1388.8119,-913.4901C1327.4492,-902.5607 1254.0116,-889.4806 1191.393,-878.3275\" fill=\"none\" stroke=\"#000000\"/>\n",
       "<polygon fill=\"#000000\" points=\"1191.8983,-874.8625 1181.4394,-876.5547 1190.6707,-881.754 1191.8983,-874.8625\" stroke=\"#000000\"/>\n",
       "</g>\n",
       "<!-- 35195132455680&#45;&gt;35195132455960 -->\n",
       "<g class=\"edge\" id=\"edge24\">\n",
       "<title>35195132455680-&gt;35195132455960</title>\n",
       "<path d=\"M332.218,-920.9335C357.774,-918.2234 384.1726,-915.4806 409,-913 532.0274,-900.7077 668.3889,-887.9638 783.7629,-877.4388\" fill=\"none\" stroke=\"#000000\"/>\n",
       "<polygon fill=\"#000000\" points=\"784.1556,-880.9176 793.7966,-876.5243 783.5201,-873.9465 784.1556,-880.9176\" stroke=\"#000000\"/>\n",
       "</g>\n",
       "<!-- 35195132455736&#45;&gt;35195132455960 -->\n",
       "<g class=\"edge\" id=\"edge25\">\n",
       "<title>35195132455736-&gt;35195132455960</title>\n",
       "<path d=\"M696.3961,-913.4901C761.3157,-902.5382 839.0365,-889.4268 905.2377,-878.2587\" fill=\"none\" stroke=\"#000000\"/>\n",
       "<polygon fill=\"#000000\" points=\"906.0602,-881.6695 915.3386,-876.5547 904.8957,-874.767 906.0602,-881.6695\" stroke=\"#000000\"/>\n",
       "</g>\n",
       "<!-- 35195132455792&#45;&gt;35195132455960 -->\n",
       "<g class=\"edge\" id=\"edge26\">\n",
       "<title>35195132455792-&gt;35195132455960</title>\n",
       "<path d=\"M939.4547,-913.3799C958.0558,-903.4832 979.9415,-891.8388 999.444,-881.4625\" fill=\"none\" stroke=\"#000000\"/>\n",
       "<polygon fill=\"#000000\" points=\"1001.3238,-884.427 1008.508,-876.6399 998.0358,-878.2472 1001.3238,-884.427\" stroke=\"#000000\"/>\n",
       "</g>\n",
       "<!-- 35195132456016 -->\n",
       "<g class=\"node\" id=\"node30\">\n",
       "<title>35195132456016</title>\n",
       "<polygon fill=\"none\" points=\"3094,-830.5 3094,-876.5 3330,-876.5 3330,-830.5 3094,-830.5\" stroke=\"#000000\"/>\n",
       "<text fill=\"#000000\" font-family=\"Times,serif\" font-size=\"14.00\" text-anchor=\"middle\" x=\"3143\" y=\"-849.8\">lstm_1: LSTM</text>\n",
       "<polyline fill=\"none\" points=\"3192,-830.5 3192,-876.5 \" stroke=\"#000000\"/>\n",
       "<text fill=\"#000000\" font-family=\"Times,serif\" font-size=\"14.00\" text-anchor=\"middle\" x=\"3219.5\" y=\"-861.3\">input:</text>\n",
       "<polyline fill=\"none\" points=\"3192,-853.5 3247,-853.5 \" stroke=\"#000000\"/>\n",
       "<text fill=\"#000000\" font-family=\"Times,serif\" font-size=\"14.00\" text-anchor=\"middle\" x=\"3219.5\" y=\"-838.3\">output:</text>\n",
       "<polyline fill=\"none\" points=\"3247,-830.5 3247,-876.5 \" stroke=\"#000000\"/>\n",
       "<text fill=\"#000000\" font-family=\"Times,serif\" font-size=\"14.00\" text-anchor=\"middle\" x=\"3288.5\" y=\"-861.3\">(None, 6, 4)</text>\n",
       "<polyline fill=\"none\" points=\"3247,-853.5 3330,-853.5 \" stroke=\"#000000\"/>\n",
       "<text fill=\"#000000\" font-family=\"Times,serif\" font-size=\"14.00\" text-anchor=\"middle\" x=\"3288.5\" y=\"-838.3\">(None, 33)</text>\n",
       "</g>\n",
       "<!-- 35195132455848&#45;&gt;35195132456016 -->\n",
       "<g class=\"edge\" id=\"edge27\">\n",
       "<title>35195132455848-&gt;35195132456016</title>\n",
       "<path d=\"M3297.1304,-913.3799C3283.563,-903.8367 3267.6855,-892.6686 3253.3417,-882.5793\" fill=\"none\" stroke=\"#000000\"/>\n",
       "<polygon fill=\"#000000\" points=\"3255.2955,-879.6745 3245.1026,-876.784 3251.2682,-885.4 3255.2955,-879.6745\" stroke=\"#000000\"/>\n",
       "</g>\n",
       "<!-- 35195132456464 -->\n",
       "<g class=\"node\" id=\"node31\">\n",
       "<title>35195132456464</title>\n",
       "<polygon fill=\"none\" points=\"2095,-830.5 2095,-876.5 2331,-876.5 2331,-830.5 2095,-830.5\" stroke=\"#000000\"/>\n",
       "<text fill=\"#000000\" font-family=\"Times,serif\" font-size=\"14.00\" text-anchor=\"middle\" x=\"2144\" y=\"-849.8\">lstm_2: LSTM</text>\n",
       "<polyline fill=\"none\" points=\"2193,-830.5 2193,-876.5 \" stroke=\"#000000\"/>\n",
       "<text fill=\"#000000\" font-family=\"Times,serif\" font-size=\"14.00\" text-anchor=\"middle\" x=\"2220.5\" y=\"-861.3\">input:</text>\n",
       "<polyline fill=\"none\" points=\"2193,-853.5 2248,-853.5 \" stroke=\"#000000\"/>\n",
       "<text fill=\"#000000\" font-family=\"Times,serif\" font-size=\"14.00\" text-anchor=\"middle\" x=\"2220.5\" y=\"-838.3\">output:</text>\n",
       "<polyline fill=\"none\" points=\"2248,-830.5 2248,-876.5 \" stroke=\"#000000\"/>\n",
       "<text fill=\"#000000\" font-family=\"Times,serif\" font-size=\"14.00\" text-anchor=\"middle\" x=\"2289.5\" y=\"-861.3\">(None, 3, 4)</text>\n",
       "<polyline fill=\"none\" points=\"2248,-853.5 2331,-853.5 \" stroke=\"#000000\"/>\n",
       "<text fill=\"#000000\" font-family=\"Times,serif\" font-size=\"14.00\" text-anchor=\"middle\" x=\"2289.5\" y=\"-838.3\">(None, 33)</text>\n",
       "</g>\n",
       "<!-- 35195132455904&#45;&gt;35195132456464 -->\n",
       "<g class=\"edge\" id=\"edge28\">\n",
       "<title>35195132455904-&gt;35195132456464</title>\n",
       "<path d=\"M2213,-913.3799C2213,-905.1745 2213,-895.7679 2213,-886.8786\" fill=\"none\" stroke=\"#000000\"/>\n",
       "<polygon fill=\"#000000\" points=\"2216.5001,-886.784 2213,-876.784 2209.5001,-886.784 2216.5001,-886.784\" stroke=\"#000000\"/>\n",
       "</g>\n",
       "<!-- 35195133569064 -->\n",
       "<g class=\"node\" id=\"node32\">\n",
       "<title>35195133569064</title>\n",
       "<polygon fill=\"none\" points=\"1403,-747.5 1403,-793.5 1687,-793.5 1687,-747.5 1403,-747.5\" stroke=\"#000000\"/>\n",
       "<text fill=\"#000000\" font-family=\"Times,serif\" font-size=\"14.00\" text-anchor=\"middle\" x=\"1465.5\" y=\"-766.8\">reshape_6: Reshape</text>\n",
       "<polyline fill=\"none\" points=\"1528,-747.5 1528,-793.5 \" stroke=\"#000000\"/>\n",
       "<text fill=\"#000000\" font-family=\"Times,serif\" font-size=\"14.00\" text-anchor=\"middle\" x=\"1555.5\" y=\"-778.3\">input:</text>\n",
       "<polyline fill=\"none\" points=\"1528,-770.5 1583,-770.5 \" stroke=\"#000000\"/>\n",
       "<text fill=\"#000000\" font-family=\"Times,serif\" font-size=\"14.00\" text-anchor=\"middle\" x=\"1555.5\" y=\"-755.3\">output:</text>\n",
       "<polyline fill=\"none\" points=\"1583,-747.5 1583,-793.5 \" stroke=\"#000000\"/>\n",
       "<text fill=\"#000000\" font-family=\"Times,serif\" font-size=\"14.00\" text-anchor=\"middle\" x=\"1635\" y=\"-778.3\">(None, 1, 33, 5)</text>\n",
       "<polyline fill=\"none\" points=\"1583,-770.5 1687,-770.5 \" stroke=\"#000000\"/>\n",
       "<text fill=\"#000000\" font-family=\"Times,serif\" font-size=\"14.00\" text-anchor=\"middle\" x=\"1635\" y=\"-755.3\">(None, 33, 5)</text>\n",
       "</g>\n",
       "<!-- 35195132455960&#45;&gt;35195133569064 -->\n",
       "<g class=\"edge\" id=\"edge29\">\n",
       "<title>35195132455960-&gt;35195133569064</title>\n",
       "<path d=\"M1188.6733,-830.4901C1253.7249,-819.5382 1331.6036,-806.4268 1397.9394,-795.2587\" fill=\"none\" stroke=\"#000000\"/>\n",
       "<polygon fill=\"#000000\" points=\"1398.7807,-798.6664 1408.0608,-793.5547 1397.6185,-791.7635 1398.7807,-798.6664\" stroke=\"#000000\"/>\n",
       "</g>\n",
       "<!-- 35195133206600 -->\n",
       "<g class=\"node\" id=\"node33\">\n",
       "<title>35195133206600</title>\n",
       "<polygon fill=\"none\" points=\"2604,-747.5 2604,-793.5 2880,-793.5 2880,-747.5 2604,-747.5\" stroke=\"#000000\"/>\n",
       "<text fill=\"#000000\" font-family=\"Times,serif\" font-size=\"14.00\" text-anchor=\"middle\" x=\"2669.5\" y=\"-766.8\">reshape_15: Reshape</text>\n",
       "<polyline fill=\"none\" points=\"2735,-747.5 2735,-793.5 \" stroke=\"#000000\"/>\n",
       "<text fill=\"#000000\" font-family=\"Times,serif\" font-size=\"14.00\" text-anchor=\"middle\" x=\"2762.5\" y=\"-778.3\">input:</text>\n",
       "<polyline fill=\"none\" points=\"2735,-770.5 2790,-770.5 \" stroke=\"#000000\"/>\n",
       "<text fill=\"#000000\" font-family=\"Times,serif\" font-size=\"14.00\" text-anchor=\"middle\" x=\"2762.5\" y=\"-755.3\">output:</text>\n",
       "<polyline fill=\"none\" points=\"2790,-747.5 2790,-793.5 \" stroke=\"#000000\"/>\n",
       "<text fill=\"#000000\" font-family=\"Times,serif\" font-size=\"14.00\" text-anchor=\"middle\" x=\"2835\" y=\"-778.3\">(None, 33)</text>\n",
       "<polyline fill=\"none\" points=\"2790,-770.5 2880,-770.5 \" stroke=\"#000000\"/>\n",
       "<text fill=\"#000000\" font-family=\"Times,serif\" font-size=\"14.00\" text-anchor=\"middle\" x=\"2835\" y=\"-755.3\">(None, 33, 1)</text>\n",
       "</g>\n",
       "<!-- 35195132456016&#45;&gt;35195133206600 -->\n",
       "<g class=\"edge\" id=\"edge30\">\n",
       "<title>35195132456016-&gt;35195133206600</title>\n",
       "<path d=\"M3093.7026,-832.6092C3029.425,-821.258 2949.5358,-807.1499 2882.15,-795.2499\" fill=\"none\" stroke=\"#000000\"/>\n",
       "<polygon fill=\"#000000\" points=\"2882.7582,-791.8032 2872.3019,-793.5108 2881.5409,-798.6966 2882.7582,-791.8032\" stroke=\"#000000\"/>\n",
       "</g>\n",
       "<!-- 35195133206656 -->\n",
       "<g class=\"node\" id=\"node34\">\n",
       "<title>35195133206656</title>\n",
       "<polygon fill=\"none\" points=\"2075,-747.5 2075,-793.5 2351,-793.5 2351,-747.5 2075,-747.5\" stroke=\"#000000\"/>\n",
       "<text fill=\"#000000\" font-family=\"Times,serif\" font-size=\"14.00\" text-anchor=\"middle\" x=\"2140.5\" y=\"-766.8\">reshape_16: Reshape</text>\n",
       "<polyline fill=\"none\" points=\"2206,-747.5 2206,-793.5 \" stroke=\"#000000\"/>\n",
       "<text fill=\"#000000\" font-family=\"Times,serif\" font-size=\"14.00\" text-anchor=\"middle\" x=\"2233.5\" y=\"-778.3\">input:</text>\n",
       "<polyline fill=\"none\" points=\"2206,-770.5 2261,-770.5 \" stroke=\"#000000\"/>\n",
       "<text fill=\"#000000\" font-family=\"Times,serif\" font-size=\"14.00\" text-anchor=\"middle\" x=\"2233.5\" y=\"-755.3\">output:</text>\n",
       "<polyline fill=\"none\" points=\"2261,-747.5 2261,-793.5 \" stroke=\"#000000\"/>\n",
       "<text fill=\"#000000\" font-family=\"Times,serif\" font-size=\"14.00\" text-anchor=\"middle\" x=\"2306\" y=\"-778.3\">(None, 33)</text>\n",
       "<polyline fill=\"none\" points=\"2261,-770.5 2351,-770.5 \" stroke=\"#000000\"/>\n",
       "<text fill=\"#000000\" font-family=\"Times,serif\" font-size=\"14.00\" text-anchor=\"middle\" x=\"2306\" y=\"-755.3\">(None, 33, 1)</text>\n",
       "</g>\n",
       "<!-- 35195132456464&#45;&gt;35195133206656 -->\n",
       "<g class=\"edge\" id=\"edge31\">\n",
       "<title>35195132456464-&gt;35195133206656</title>\n",
       "<path d=\"M2213,-830.3799C2213,-822.1745 2213,-812.7679 2213,-803.8786\" fill=\"none\" stroke=\"#000000\"/>\n",
       "<polygon fill=\"#000000\" points=\"2216.5001,-803.784 2213,-793.784 2209.5001,-803.784 2216.5001,-803.784\" stroke=\"#000000\"/>\n",
       "</g>\n",
       "<!-- 35195133206712 -->\n",
       "<g class=\"node\" id=\"node35\">\n",
       "<title>35195133206712</title>\n",
       "<polygon fill=\"none\" points=\"1971,-664.5 1971,-710.5 2455,-710.5 2455,-664.5 1971,-664.5\" stroke=\"#000000\"/>\n",
       "<text fill=\"#000000\" font-family=\"Times,serif\" font-size=\"14.00\" text-anchor=\"middle\" x=\"2055\" y=\"-683.8\">concatenate_4: Concatenate</text>\n",
       "<polyline fill=\"none\" points=\"2139,-664.5 2139,-710.5 \" stroke=\"#000000\"/>\n",
       "<text fill=\"#000000\" font-family=\"Times,serif\" font-size=\"14.00\" text-anchor=\"middle\" x=\"2166.5\" y=\"-695.3\">input:</text>\n",
       "<polyline fill=\"none\" points=\"2139,-687.5 2194,-687.5 \" stroke=\"#000000\"/>\n",
       "<text fill=\"#000000\" font-family=\"Times,serif\" font-size=\"14.00\" text-anchor=\"middle\" x=\"2166.5\" y=\"-672.3\">output:</text>\n",
       "<polyline fill=\"none\" points=\"2194,-664.5 2194,-710.5 \" stroke=\"#000000\"/>\n",
       "<text fill=\"#000000\" font-family=\"Times,serif\" font-size=\"14.00\" text-anchor=\"middle\" x=\"2324.5\" y=\"-695.3\">[(None, 33, 5), (None, 33, 1), (None, 33, 1)]</text>\n",
       "<polyline fill=\"none\" points=\"2194,-687.5 2455,-687.5 \" stroke=\"#000000\"/>\n",
       "<text fill=\"#000000\" font-family=\"Times,serif\" font-size=\"14.00\" text-anchor=\"middle\" x=\"2324.5\" y=\"-672.3\">(None, 33, 7)</text>\n",
       "</g>\n",
       "<!-- 35195133569064&#45;&gt;35195133206712 -->\n",
       "<g class=\"edge\" id=\"edge32\">\n",
       "<title>35195133569064-&gt;35195133206712</title>\n",
       "<path d=\"M1687.0743,-752.8471C1783.2834,-740.8929 1911.6518,-724.943 2017.4804,-711.7936\" fill=\"none\" stroke=\"#000000\"/>\n",
       "<polygon fill=\"#000000\" points=\"2018.1576,-715.2365 2027.6497,-710.53 2017.2944,-708.2899 2018.1576,-715.2365\" stroke=\"#000000\"/>\n",
       "</g>\n",
       "<!-- 35195133206600&#45;&gt;35195133206712 -->\n",
       "<g class=\"edge\" id=\"edge33\">\n",
       "<title>35195133206600-&gt;35195133206712</title>\n",
       "<path d=\"M2603.7025,-748.8011C2531.9236,-737.5391 2443.9487,-723.7358 2369.6654,-712.0808\" fill=\"none\" stroke=\"#000000\"/>\n",
       "<polygon fill=\"#000000\" points=\"2370.167,-708.6167 2359.7454,-710.5243 2369.082,-715.5321 2370.167,-708.6167\" stroke=\"#000000\"/>\n",
       "</g>\n",
       "<!-- 35195133206656&#45;&gt;35195133206712 -->\n",
       "<g class=\"edge\" id=\"edge34\">\n",
       "<title>35195133206656-&gt;35195133206712</title>\n",
       "<path d=\"M2213,-747.3799C2213,-739.1745 2213,-729.7679 2213,-720.8786\" fill=\"none\" stroke=\"#000000\"/>\n",
       "<polygon fill=\"#000000\" points=\"2216.5001,-720.784 2213,-710.784 2209.5001,-720.784 2216.5001,-720.784\" stroke=\"#000000\"/>\n",
       "</g>\n",
       "<!-- 35195133206768 -->\n",
       "<g class=\"node\" id=\"node36\">\n",
       "<title>35195133206768</title>\n",
       "<polygon fill=\"none\" points=\"1929.5,-581.5 1929.5,-627.5 2204.5,-627.5 2204.5,-581.5 1929.5,-581.5\" stroke=\"#000000\"/>\n",
       "<text fill=\"#000000\" font-family=\"Times,serif\" font-size=\"14.00\" text-anchor=\"middle\" x=\"1991\" y=\"-600.8\">conv1d_1: Conv1D</text>\n",
       "<polyline fill=\"none\" points=\"2052.5,-581.5 2052.5,-627.5 \" stroke=\"#000000\"/>\n",
       "<text fill=\"#000000\" font-family=\"Times,serif\" font-size=\"14.00\" text-anchor=\"middle\" x=\"2080\" y=\"-612.3\">input:</text>\n",
       "<polyline fill=\"none\" points=\"2052.5,-604.5 2107.5,-604.5 \" stroke=\"#000000\"/>\n",
       "<text fill=\"#000000\" font-family=\"Times,serif\" font-size=\"14.00\" text-anchor=\"middle\" x=\"2080\" y=\"-589.3\">output:</text>\n",
       "<polyline fill=\"none\" points=\"2107.5,-581.5 2107.5,-627.5 \" stroke=\"#000000\"/>\n",
       "<text fill=\"#000000\" font-family=\"Times,serif\" font-size=\"14.00\" text-anchor=\"middle\" x=\"2156\" y=\"-612.3\">(None, 33, 7)</text>\n",
       "<polyline fill=\"none\" points=\"2107.5,-604.5 2204.5,-604.5 \" stroke=\"#000000\"/>\n",
       "<text fill=\"#000000\" font-family=\"Times,serif\" font-size=\"14.00\" text-anchor=\"middle\" x=\"2156\" y=\"-589.3\">(None, 33, 16)</text>\n",
       "</g>\n",
       "<!-- 35195133206712&#45;&gt;35195133206768 -->\n",
       "<g class=\"edge\" id=\"edge35\">\n",
       "<title>35195133206712-&gt;35195133206768</title>\n",
       "<path d=\"M2172.3309,-664.3799C2155.0009,-654.5279 2134.6247,-642.9442 2116.4349,-632.6034\" fill=\"none\" stroke=\"#000000\"/>\n",
       "<polygon fill=\"#000000\" points=\"2118.1272,-629.5394 2107.704,-627.6399 2114.6677,-635.6248 2118.1272,-629.5394\" stroke=\"#000000\"/>\n",
       "</g>\n",
       "<!-- 35195133207104 -->\n",
       "<g class=\"node\" id=\"node37\">\n",
       "<title>35195133207104</title>\n",
       "<polygon fill=\"none\" points=\"2222.5,-581.5 2222.5,-627.5 2497.5,-627.5 2497.5,-581.5 2222.5,-581.5\" stroke=\"#000000\"/>\n",
       "<text fill=\"#000000\" font-family=\"Times,serif\" font-size=\"14.00\" text-anchor=\"middle\" x=\"2284\" y=\"-600.8\">conv1d_7: Conv1D</text>\n",
       "<polyline fill=\"none\" points=\"2345.5,-581.5 2345.5,-627.5 \" stroke=\"#000000\"/>\n",
       "<text fill=\"#000000\" font-family=\"Times,serif\" font-size=\"14.00\" text-anchor=\"middle\" x=\"2373\" y=\"-612.3\">input:</text>\n",
       "<polyline fill=\"none\" points=\"2345.5,-604.5 2400.5,-604.5 \" stroke=\"#000000\"/>\n",
       "<text fill=\"#000000\" font-family=\"Times,serif\" font-size=\"14.00\" text-anchor=\"middle\" x=\"2373\" y=\"-589.3\">output:</text>\n",
       "<polyline fill=\"none\" points=\"2400.5,-581.5 2400.5,-627.5 \" stroke=\"#000000\"/>\n",
       "<text fill=\"#000000\" font-family=\"Times,serif\" font-size=\"14.00\" text-anchor=\"middle\" x=\"2449\" y=\"-612.3\">(None, 33, 7)</text>\n",
       "<polyline fill=\"none\" points=\"2400.5,-604.5 2497.5,-604.5 \" stroke=\"#000000\"/>\n",
       "<text fill=\"#000000\" font-family=\"Times,serif\" font-size=\"14.00\" text-anchor=\"middle\" x=\"2449\" y=\"-589.3\">(None, 33, 16)</text>\n",
       "</g>\n",
       "<!-- 35195133206712&#45;&gt;35195133207104 -->\n",
       "<g class=\"edge\" id=\"edge36\">\n",
       "<title>35195133206712-&gt;35195133207104</title>\n",
       "<path d=\"M2253.9477,-664.3799C2271.3963,-654.5279 2291.9122,-642.9442 2310.2265,-632.6034\" fill=\"none\" stroke=\"#000000\"/>\n",
       "<polygon fill=\"#000000\" points=\"2312.0302,-635.6044 2319.0172,-627.6399 2308.5885,-629.5089 2312.0302,-635.6044\" stroke=\"#000000\"/>\n",
       "</g>\n",
       "<!-- 35195133207496 -->\n",
       "<g class=\"node\" id=\"node38\">\n",
       "<title>35195133207496</title>\n",
       "<polygon fill=\"none\" points=\"1770.5,-498.5 1770.5,-544.5 2045.5,-544.5 2045.5,-498.5 1770.5,-498.5\" stroke=\"#000000\"/>\n",
       "<text fill=\"#000000\" font-family=\"Times,serif\" font-size=\"14.00\" text-anchor=\"middle\" x=\"1832\" y=\"-517.8\">conv1d_2: Conv1D</text>\n",
       "<polyline fill=\"none\" points=\"1893.5,-498.5 1893.5,-544.5 \" stroke=\"#000000\"/>\n",
       "<text fill=\"#000000\" font-family=\"Times,serif\" font-size=\"14.00\" text-anchor=\"middle\" x=\"1921\" y=\"-529.3\">input:</text>\n",
       "<polyline fill=\"none\" points=\"1893.5,-521.5 1948.5,-521.5 \" stroke=\"#000000\"/>\n",
       "<text fill=\"#000000\" font-family=\"Times,serif\" font-size=\"14.00\" text-anchor=\"middle\" x=\"1921\" y=\"-506.3\">output:</text>\n",
       "<polyline fill=\"none\" points=\"1948.5,-498.5 1948.5,-544.5 \" stroke=\"#000000\"/>\n",
       "<text fill=\"#000000\" font-family=\"Times,serif\" font-size=\"14.00\" text-anchor=\"middle\" x=\"1997\" y=\"-529.3\">(None, 33, 16)</text>\n",
       "<polyline fill=\"none\" points=\"1948.5,-521.5 2045.5,-521.5 \" stroke=\"#000000\"/>\n",
       "<text fill=\"#000000\" font-family=\"Times,serif\" font-size=\"14.00\" text-anchor=\"middle\" x=\"1997\" y=\"-506.3\">(None, 33, 16)</text>\n",
       "</g>\n",
       "<!-- 35195133206768&#45;&gt;35195133207496 -->\n",
       "<g class=\"edge\" id=\"edge37\">\n",
       "<title>35195133206768-&gt;35195133207496</title>\n",
       "<path d=\"M2022.7096,-581.3799C2003.6651,-571.4384 1981.2423,-559.7334 1961.297,-549.3217\" fill=\"none\" stroke=\"#000000\"/>\n",
       "<polygon fill=\"#000000\" points=\"1962.8129,-546.1649 1952.3283,-544.6399 1959.5735,-552.3703 1962.8129,-546.1649\" stroke=\"#000000\"/>\n",
       "</g>\n",
       "<!-- 35195133209064 -->\n",
       "<g class=\"node\" id=\"node42\">\n",
       "<title>35195133209064</title>\n",
       "<polygon fill=\"none\" points=\"1707,-332.5 1707,-378.5 2211,-378.5 2211,-332.5 1707,-332.5\" stroke=\"#000000\"/>\n",
       "<text fill=\"#000000\" font-family=\"Times,serif\" font-size=\"14.00\" text-anchor=\"middle\" x=\"1791\" y=\"-351.8\">concatenate_5: Concatenate</text>\n",
       "<polyline fill=\"none\" points=\"1875,-332.5 1875,-378.5 \" stroke=\"#000000\"/>\n",
       "<text fill=\"#000000\" font-family=\"Times,serif\" font-size=\"14.00\" text-anchor=\"middle\" x=\"1902.5\" y=\"-363.3\">input:</text>\n",
       "<polyline fill=\"none\" points=\"1875,-355.5 1930,-355.5 \" stroke=\"#000000\"/>\n",
       "<text fill=\"#000000\" font-family=\"Times,serif\" font-size=\"14.00\" text-anchor=\"middle\" x=\"1902.5\" y=\"-340.3\">output:</text>\n",
       "<polyline fill=\"none\" points=\"1930,-332.5 1930,-378.5 \" stroke=\"#000000\"/>\n",
       "<text fill=\"#000000\" font-family=\"Times,serif\" font-size=\"14.00\" text-anchor=\"middle\" x=\"2070.5\" y=\"-363.3\">[(None, 33, 16), (None, 33, 16), (None, 33, 16)]</text>\n",
       "<polyline fill=\"none\" points=\"1930,-355.5 2211,-355.5 \" stroke=\"#000000\"/>\n",
       "<text fill=\"#000000\" font-family=\"Times,serif\" font-size=\"14.00\" text-anchor=\"middle\" x=\"2070.5\" y=\"-340.3\">(None, 33, 48)</text>\n",
       "</g>\n",
       "<!-- 35195133206768&#45;&gt;35195133209064 -->\n",
       "<g class=\"edge\" id=\"edge41\">\n",
       "<title>35195133206768-&gt;35195133209064</title>\n",
       "<path d=\"M2069.7557,-581.3714C2073.1755,-549.265 2078.086,-489.392 2074,-438.5\" fill=\"none\" stroke=\"#000000\"/>\n",
       "</g>\n",
       "<!-- 35195133207888 -->\n",
       "<g class=\"node\" id=\"node39\">\n",
       "<title>35195133207888</title>\n",
       "<polygon fill=\"none\" points=\"2209.5,-498.5 2209.5,-544.5 2484.5,-544.5 2484.5,-498.5 2209.5,-498.5\" stroke=\"#000000\"/>\n",
       "<text fill=\"#000000\" font-family=\"Times,serif\" font-size=\"14.00\" text-anchor=\"middle\" x=\"2271\" y=\"-517.8\">conv1d_8: Conv1D</text>\n",
       "<polyline fill=\"none\" points=\"2332.5,-498.5 2332.5,-544.5 \" stroke=\"#000000\"/>\n",
       "<text fill=\"#000000\" font-family=\"Times,serif\" font-size=\"14.00\" text-anchor=\"middle\" x=\"2360\" y=\"-529.3\">input:</text>\n",
       "<polyline fill=\"none\" points=\"2332.5,-521.5 2387.5,-521.5 \" stroke=\"#000000\"/>\n",
       "<text fill=\"#000000\" font-family=\"Times,serif\" font-size=\"14.00\" text-anchor=\"middle\" x=\"2360\" y=\"-506.3\">output:</text>\n",
       "<polyline fill=\"none\" points=\"2387.5,-498.5 2387.5,-544.5 \" stroke=\"#000000\"/>\n",
       "<text fill=\"#000000\" font-family=\"Times,serif\" font-size=\"14.00\" text-anchor=\"middle\" x=\"2436\" y=\"-529.3\">(None, 33, 16)</text>\n",
       "<polyline fill=\"none\" points=\"2387.5,-521.5 2484.5,-521.5 \" stroke=\"#000000\"/>\n",
       "<text fill=\"#000000\" font-family=\"Times,serif\" font-size=\"14.00\" text-anchor=\"middle\" x=\"2436\" y=\"-506.3\">(None, 33, 16)</text>\n",
       "</g>\n",
       "<!-- 35195133207104&#45;&gt;35195133207888 -->\n",
       "<g class=\"edge\" id=\"edge38\">\n",
       "<title>35195133207104-&gt;35195133207888</title>\n",
       "<path d=\"M2356.3788,-581.3799C2355.0936,-573.1745 2353.6203,-563.7679 2352.228,-554.8786\" fill=\"none\" stroke=\"#000000\"/>\n",
       "<polygon fill=\"#000000\" points=\"2355.6522,-554.1219 2350.6469,-544.784 2348.7365,-555.2052 2355.6522,-554.1219\" stroke=\"#000000\"/>\n",
       "</g>\n",
       "<!-- 35195133209176 -->\n",
       "<g class=\"node\" id=\"node43\">\n",
       "<title>35195133209176</title>\n",
       "<polygon fill=\"none\" points=\"2255,-332.5 2255,-378.5 2759,-378.5 2759,-332.5 2255,-332.5\" stroke=\"#000000\"/>\n",
       "<text fill=\"#000000\" font-family=\"Times,serif\" font-size=\"14.00\" text-anchor=\"middle\" x=\"2339\" y=\"-351.8\">concatenate_6: Concatenate</text>\n",
       "<polyline fill=\"none\" points=\"2423,-332.5 2423,-378.5 \" stroke=\"#000000\"/>\n",
       "<text fill=\"#000000\" font-family=\"Times,serif\" font-size=\"14.00\" text-anchor=\"middle\" x=\"2450.5\" y=\"-363.3\">input:</text>\n",
       "<polyline fill=\"none\" points=\"2423,-355.5 2478,-355.5 \" stroke=\"#000000\"/>\n",
       "<text fill=\"#000000\" font-family=\"Times,serif\" font-size=\"14.00\" text-anchor=\"middle\" x=\"2450.5\" y=\"-340.3\">output:</text>\n",
       "<polyline fill=\"none\" points=\"2478,-332.5 2478,-378.5 \" stroke=\"#000000\"/>\n",
       "<text fill=\"#000000\" font-family=\"Times,serif\" font-size=\"14.00\" text-anchor=\"middle\" x=\"2618.5\" y=\"-363.3\">[(None, 33, 16), (None, 33, 16), (None, 33, 16)]</text>\n",
       "<polyline fill=\"none\" points=\"2478,-355.5 2759,-355.5 \" stroke=\"#000000\"/>\n",
       "<text fill=\"#000000\" font-family=\"Times,serif\" font-size=\"14.00\" text-anchor=\"middle\" x=\"2618.5\" y=\"-340.3\">(None, 33, 48)</text>\n",
       "</g>\n",
       "<!-- 35195133207104&#45;&gt;35195133209176 -->\n",
       "<g class=\"edge\" id=\"edge44\">\n",
       "<title>35195133207104-&gt;35195133209176</title>\n",
       "<path d=\"M2444.0365,-581.4915C2462.5576,-572.804 2480.3887,-560.9877 2493,-545 2522.8271,-507.1873 2496.1868,-483.6306 2513,-438.5\" fill=\"none\" stroke=\"#000000\"/>\n",
       "</g>\n",
       "<!-- 35195133208280 -->\n",
       "<g class=\"node\" id=\"node40\">\n",
       "<title>35195133208280</title>\n",
       "<polygon fill=\"none\" points=\"1770.5,-415.5 1770.5,-461.5 2045.5,-461.5 2045.5,-415.5 1770.5,-415.5\" stroke=\"#000000\"/>\n",
       "<text fill=\"#000000\" font-family=\"Times,serif\" font-size=\"14.00\" text-anchor=\"middle\" x=\"1832\" y=\"-434.8\">conv1d_3: Conv1D</text>\n",
       "<polyline fill=\"none\" points=\"1893.5,-415.5 1893.5,-461.5 \" stroke=\"#000000\"/>\n",
       "<text fill=\"#000000\" font-family=\"Times,serif\" font-size=\"14.00\" text-anchor=\"middle\" x=\"1921\" y=\"-446.3\">input:</text>\n",
       "<polyline fill=\"none\" points=\"1893.5,-438.5 1948.5,-438.5 \" stroke=\"#000000\"/>\n",
       "<text fill=\"#000000\" font-family=\"Times,serif\" font-size=\"14.00\" text-anchor=\"middle\" x=\"1921\" y=\"-423.3\">output:</text>\n",
       "<polyline fill=\"none\" points=\"1948.5,-415.5 1948.5,-461.5 \" stroke=\"#000000\"/>\n",
       "<text fill=\"#000000\" font-family=\"Times,serif\" font-size=\"14.00\" text-anchor=\"middle\" x=\"1997\" y=\"-446.3\">(None, 33, 16)</text>\n",
       "<polyline fill=\"none\" points=\"1948.5,-438.5 2045.5,-438.5 \" stroke=\"#000000\"/>\n",
       "<text fill=\"#000000\" font-family=\"Times,serif\" font-size=\"14.00\" text-anchor=\"middle\" x=\"1997\" y=\"-423.3\">(None, 33, 16)</text>\n",
       "</g>\n",
       "<!-- 35195133207496&#45;&gt;35195133208280 -->\n",
       "<g class=\"edge\" id=\"edge39\">\n",
       "<title>35195133207496-&gt;35195133208280</title>\n",
       "<path d=\"M1908,-498.3799C1908,-490.1745 1908,-480.7679 1908,-471.8786\" fill=\"none\" stroke=\"#000000\"/>\n",
       "<polygon fill=\"#000000\" points=\"1911.5001,-471.784 1908,-461.784 1904.5001,-471.784 1911.5001,-471.784\" stroke=\"#000000\"/>\n",
       "</g>\n",
       "<!-- 35195133207496&#45;&gt;35195133209064 -->\n",
       "<g class=\"edge\" id=\"edge42\">\n",
       "<title>35195133207496-&gt;35195133209064</title>\n",
       "<path d=\"M2030.2468,-498.3196C2056.7124,-486.0363 2076.3079,-467.2454 2074,-438.5\" fill=\"none\" stroke=\"#000000\"/>\n",
       "<path d=\"M2074,-438.5C2072.0603,-414.3403 2054.6088,-396.4883 2033.8615,-383.6653\" fill=\"none\" stroke=\"#000000\"/>\n",
       "<polygon fill=\"#000000\" points=\"2035.5445,-380.5958 2025.1302,-378.6482 2032.0569,-386.6651 2035.5445,-380.5958\" stroke=\"#000000\"/>\n",
       "</g>\n",
       "<!-- 35195133208672 -->\n",
       "<g class=\"node\" id=\"node41\">\n",
       "<title>35195133208672</title>\n",
       "<polygon fill=\"none\" points=\"2209.5,-415.5 2209.5,-461.5 2484.5,-461.5 2484.5,-415.5 2209.5,-415.5\" stroke=\"#000000\"/>\n",
       "<text fill=\"#000000\" font-family=\"Times,serif\" font-size=\"14.00\" text-anchor=\"middle\" x=\"2271\" y=\"-434.8\">conv1d_9: Conv1D</text>\n",
       "<polyline fill=\"none\" points=\"2332.5,-415.5 2332.5,-461.5 \" stroke=\"#000000\"/>\n",
       "<text fill=\"#000000\" font-family=\"Times,serif\" font-size=\"14.00\" text-anchor=\"middle\" x=\"2360\" y=\"-446.3\">input:</text>\n",
       "<polyline fill=\"none\" points=\"2332.5,-438.5 2387.5,-438.5 \" stroke=\"#000000\"/>\n",
       "<text fill=\"#000000\" font-family=\"Times,serif\" font-size=\"14.00\" text-anchor=\"middle\" x=\"2360\" y=\"-423.3\">output:</text>\n",
       "<polyline fill=\"none\" points=\"2387.5,-415.5 2387.5,-461.5 \" stroke=\"#000000\"/>\n",
       "<text fill=\"#000000\" font-family=\"Times,serif\" font-size=\"14.00\" text-anchor=\"middle\" x=\"2436\" y=\"-446.3\">(None, 33, 16)</text>\n",
       "<polyline fill=\"none\" points=\"2387.5,-438.5 2484.5,-438.5 \" stroke=\"#000000\"/>\n",
       "<text fill=\"#000000\" font-family=\"Times,serif\" font-size=\"14.00\" text-anchor=\"middle\" x=\"2436\" y=\"-423.3\">(None, 33, 16)</text>\n",
       "</g>\n",
       "<!-- 35195133207888&#45;&gt;35195133208672 -->\n",
       "<g class=\"edge\" id=\"edge40\">\n",
       "<title>35195133207888-&gt;35195133208672</title>\n",
       "<path d=\"M2347,-498.3799C2347,-490.1745 2347,-480.7679 2347,-471.8786\" fill=\"none\" stroke=\"#000000\"/>\n",
       "<polygon fill=\"#000000\" points=\"2350.5001,-471.784 2347,-461.784 2343.5001,-471.784 2350.5001,-471.784\" stroke=\"#000000\"/>\n",
       "</g>\n",
       "<!-- 35195133207888&#45;&gt;35195133209176 -->\n",
       "<g class=\"edge\" id=\"edge45\">\n",
       "<title>35195133207888-&gt;35195133209176</title>\n",
       "<path d=\"M2448.7066,-498.3425C2476.6989,-486.0093 2502.3138,-467.1842 2513,-438.5\" fill=\"none\" stroke=\"#000000\"/>\n",
       "<path d=\"M2513,-438.5C2518.8191,-422.8801 2518.1744,-404.4809 2515.7101,-388.9802\" fill=\"none\" stroke=\"#000000\"/>\n",
       "<polygon fill=\"#000000\" points=\"2519.0774,-387.9517 2513.7705,-378.7817 2512.2006,-389.2596 2519.0774,-387.9517\" stroke=\"#000000\"/>\n",
       "</g>\n",
       "<!-- 35195133208280&#45;&gt;35195133209064 -->\n",
       "<g class=\"edge\" id=\"edge43\">\n",
       "<title>35195133208280-&gt;35195133209064</title>\n",
       "<path d=\"M1922.2063,-415.3799C1927.5222,-406.7286 1933.6586,-396.7419 1939.3778,-387.4341\" fill=\"none\" stroke=\"#000000\"/>\n",
       "<polygon fill=\"#000000\" points=\"1942.4397,-389.1365 1944.693,-378.784 1936.4756,-385.4718 1942.4397,-389.1365\" stroke=\"#000000\"/>\n",
       "</g>\n",
       "<!-- 35195133208672&#45;&gt;35195133209176 -->\n",
       "<g class=\"edge\" id=\"edge46\">\n",
       "<title>35195133208672-&gt;35195133209176</title>\n",
       "<path d=\"M2391.5689,-415.3799C2410.7333,-405.4384 2433.2971,-393.7334 2453.3678,-383.3217\" fill=\"none\" stroke=\"#000000\"/>\n",
       "<polygon fill=\"#000000\" points=\"2455.1278,-386.3516 2462.3929,-378.6399 2451.9045,-380.1379 2455.1278,-386.3516\" stroke=\"#000000\"/>\n",
       "</g>\n",
       "<!-- 35195133209232 -->\n",
       "<g class=\"node\" id=\"node44\">\n",
       "<title>35195133209232</title>\n",
       "<polygon fill=\"none\" points=\"1821.5,-249.5 1821.5,-295.5 2096.5,-295.5 2096.5,-249.5 1821.5,-249.5\" stroke=\"#000000\"/>\n",
       "<text fill=\"#000000\" font-family=\"Times,serif\" font-size=\"14.00\" text-anchor=\"middle\" x=\"1883\" y=\"-268.8\">conv1d_4: Conv1D</text>\n",
       "<polyline fill=\"none\" points=\"1944.5,-249.5 1944.5,-295.5 \" stroke=\"#000000\"/>\n",
       "<text fill=\"#000000\" font-family=\"Times,serif\" font-size=\"14.00\" text-anchor=\"middle\" x=\"1972\" y=\"-280.3\">input:</text>\n",
       "<polyline fill=\"none\" points=\"1944.5,-272.5 1999.5,-272.5 \" stroke=\"#000000\"/>\n",
       "<text fill=\"#000000\" font-family=\"Times,serif\" font-size=\"14.00\" text-anchor=\"middle\" x=\"1972\" y=\"-257.3\">output:</text>\n",
       "<polyline fill=\"none\" points=\"1999.5,-249.5 1999.5,-295.5 \" stroke=\"#000000\"/>\n",
       "<text fill=\"#000000\" font-family=\"Times,serif\" font-size=\"14.00\" text-anchor=\"middle\" x=\"2048\" y=\"-280.3\">(None, 33, 48)</text>\n",
       "<polyline fill=\"none\" points=\"1999.5,-272.5 2096.5,-272.5 \" stroke=\"#000000\"/>\n",
       "<text fill=\"#000000\" font-family=\"Times,serif\" font-size=\"14.00\" text-anchor=\"middle\" x=\"2048\" y=\"-257.3\">(None, 33, 16)</text>\n",
       "</g>\n",
       "<!-- 35195133209064&#45;&gt;35195133209232 -->\n",
       "<g class=\"edge\" id=\"edge47\">\n",
       "<title>35195133209064-&gt;35195133209232</title>\n",
       "<path d=\"M1959,-332.3799C1959,-324.1745 1959,-314.7679 1959,-305.8786\" fill=\"none\" stroke=\"#000000\"/>\n",
       "<polygon fill=\"#000000\" points=\"1962.5001,-305.784 1959,-295.784 1955.5001,-305.784 1962.5001,-305.784\" stroke=\"#000000\"/>\n",
       "</g>\n",
       "<!-- 35195133209568 -->\n",
       "<g class=\"node\" id=\"node45\">\n",
       "<title>35195133209568</title>\n",
       "<polygon fill=\"none\" points=\"2366,-249.5 2366,-295.5 2648,-295.5 2648,-249.5 2366,-249.5\" stroke=\"#000000\"/>\n",
       "<text fill=\"#000000\" font-family=\"Times,serif\" font-size=\"14.00\" text-anchor=\"middle\" x=\"2431\" y=\"-268.8\">conv1d_10: Conv1D</text>\n",
       "<polyline fill=\"none\" points=\"2496,-249.5 2496,-295.5 \" stroke=\"#000000\"/>\n",
       "<text fill=\"#000000\" font-family=\"Times,serif\" font-size=\"14.00\" text-anchor=\"middle\" x=\"2523.5\" y=\"-280.3\">input:</text>\n",
       "<polyline fill=\"none\" points=\"2496,-272.5 2551,-272.5 \" stroke=\"#000000\"/>\n",
       "<text fill=\"#000000\" font-family=\"Times,serif\" font-size=\"14.00\" text-anchor=\"middle\" x=\"2523.5\" y=\"-257.3\">output:</text>\n",
       "<polyline fill=\"none\" points=\"2551,-249.5 2551,-295.5 \" stroke=\"#000000\"/>\n",
       "<text fill=\"#000000\" font-family=\"Times,serif\" font-size=\"14.00\" text-anchor=\"middle\" x=\"2599.5\" y=\"-280.3\">(None, 33, 48)</text>\n",
       "<polyline fill=\"none\" points=\"2551,-272.5 2648,-272.5 \" stroke=\"#000000\"/>\n",
       "<text fill=\"#000000\" font-family=\"Times,serif\" font-size=\"14.00\" text-anchor=\"middle\" x=\"2599.5\" y=\"-257.3\">(None, 33, 16)</text>\n",
       "</g>\n",
       "<!-- 35195133209176&#45;&gt;35195133209568 -->\n",
       "<g class=\"edge\" id=\"edge48\">\n",
       "<title>35195133209176-&gt;35195133209568</title>\n",
       "<path d=\"M2507,-332.3799C2507,-324.1745 2507,-314.7679 2507,-305.8786\" fill=\"none\" stroke=\"#000000\"/>\n",
       "<polygon fill=\"#000000\" points=\"2510.5001,-305.784 2507,-295.784 2503.5001,-305.784 2510.5001,-305.784\" stroke=\"#000000\"/>\n",
       "</g>\n",
       "<!-- 35195133209960 -->\n",
       "<g class=\"node\" id=\"node46\">\n",
       "<title>35195133209960</title>\n",
       "<polygon fill=\"none\" points=\"1821.5,-166.5 1821.5,-212.5 2096.5,-212.5 2096.5,-166.5 1821.5,-166.5\" stroke=\"#000000\"/>\n",
       "<text fill=\"#000000\" font-family=\"Times,serif\" font-size=\"14.00\" text-anchor=\"middle\" x=\"1883\" y=\"-185.8\">conv1d_5: Conv1D</text>\n",
       "<polyline fill=\"none\" points=\"1944.5,-166.5 1944.5,-212.5 \" stroke=\"#000000\"/>\n",
       "<text fill=\"#000000\" font-family=\"Times,serif\" font-size=\"14.00\" text-anchor=\"middle\" x=\"1972\" y=\"-197.3\">input:</text>\n",
       "<polyline fill=\"none\" points=\"1944.5,-189.5 1999.5,-189.5 \" stroke=\"#000000\"/>\n",
       "<text fill=\"#000000\" font-family=\"Times,serif\" font-size=\"14.00\" text-anchor=\"middle\" x=\"1972\" y=\"-174.3\">output:</text>\n",
       "<polyline fill=\"none\" points=\"1999.5,-166.5 1999.5,-212.5 \" stroke=\"#000000\"/>\n",
       "<text fill=\"#000000\" font-family=\"Times,serif\" font-size=\"14.00\" text-anchor=\"middle\" x=\"2048\" y=\"-197.3\">(None, 33, 16)</text>\n",
       "<polyline fill=\"none\" points=\"1999.5,-189.5 2096.5,-189.5 \" stroke=\"#000000\"/>\n",
       "<text fill=\"#000000\" font-family=\"Times,serif\" font-size=\"14.00\" text-anchor=\"middle\" x=\"2048\" y=\"-174.3\">(None, 33, 8)</text>\n",
       "</g>\n",
       "<!-- 35195133209232&#45;&gt;35195133209960 -->\n",
       "<g class=\"edge\" id=\"edge49\">\n",
       "<title>35195133209232-&gt;35195133209960</title>\n",
       "<path d=\"M1959,-249.3799C1959,-241.1745 1959,-231.7679 1959,-222.8786\" fill=\"none\" stroke=\"#000000\"/>\n",
       "<polygon fill=\"#000000\" points=\"1962.5001,-222.784 1959,-212.784 1955.5001,-222.784 1962.5001,-222.784\" stroke=\"#000000\"/>\n",
       "</g>\n",
       "<!-- 35195133210352 -->\n",
       "<g class=\"node\" id=\"node47\">\n",
       "<title>35195133210352</title>\n",
       "<polygon fill=\"none\" points=\"2366,-166.5 2366,-212.5 2648,-212.5 2648,-166.5 2366,-166.5\" stroke=\"#000000\"/>\n",
       "<text fill=\"#000000\" font-family=\"Times,serif\" font-size=\"14.00\" text-anchor=\"middle\" x=\"2431\" y=\"-185.8\">conv1d_11: Conv1D</text>\n",
       "<polyline fill=\"none\" points=\"2496,-166.5 2496,-212.5 \" stroke=\"#000000\"/>\n",
       "<text fill=\"#000000\" font-family=\"Times,serif\" font-size=\"14.00\" text-anchor=\"middle\" x=\"2523.5\" y=\"-197.3\">input:</text>\n",
       "<polyline fill=\"none\" points=\"2496,-189.5 2551,-189.5 \" stroke=\"#000000\"/>\n",
       "<text fill=\"#000000\" font-family=\"Times,serif\" font-size=\"14.00\" text-anchor=\"middle\" x=\"2523.5\" y=\"-174.3\">output:</text>\n",
       "<polyline fill=\"none\" points=\"2551,-166.5 2551,-212.5 \" stroke=\"#000000\"/>\n",
       "<text fill=\"#000000\" font-family=\"Times,serif\" font-size=\"14.00\" text-anchor=\"middle\" x=\"2599.5\" y=\"-197.3\">(None, 33, 16)</text>\n",
       "<polyline fill=\"none\" points=\"2551,-189.5 2648,-189.5 \" stroke=\"#000000\"/>\n",
       "<text fill=\"#000000\" font-family=\"Times,serif\" font-size=\"14.00\" text-anchor=\"middle\" x=\"2599.5\" y=\"-174.3\">(None, 33, 8)</text>\n",
       "</g>\n",
       "<!-- 35195133209568&#45;&gt;35195133210352 -->\n",
       "<g class=\"edge\" id=\"edge50\">\n",
       "<title>35195133209568-&gt;35195133210352</title>\n",
       "<path d=\"M2507,-249.3799C2507,-241.1745 2507,-231.7679 2507,-222.8786\" fill=\"none\" stroke=\"#000000\"/>\n",
       "<polygon fill=\"#000000\" points=\"2510.5001,-222.784 2507,-212.784 2503.5001,-222.784 2510.5001,-222.784\" stroke=\"#000000\"/>\n",
       "</g>\n",
       "<!-- 35195132456912 -->\n",
       "<g class=\"node\" id=\"node48\">\n",
       "<title>35195132456912</title>\n",
       "<polygon fill=\"none\" points=\"1825,-83.5 1825,-129.5 2093,-129.5 2093,-83.5 1825,-83.5\" stroke=\"#000000\"/>\n",
       "<text fill=\"#000000\" font-family=\"Times,serif\" font-size=\"14.00\" text-anchor=\"middle\" x=\"1886.5\" y=\"-102.8\">conv1d_6: Conv1D</text>\n",
       "<polyline fill=\"none\" points=\"1948,-83.5 1948,-129.5 \" stroke=\"#000000\"/>\n",
       "<text fill=\"#000000\" font-family=\"Times,serif\" font-size=\"14.00\" text-anchor=\"middle\" x=\"1975.5\" y=\"-114.3\">input:</text>\n",
       "<polyline fill=\"none\" points=\"1948,-106.5 2003,-106.5 \" stroke=\"#000000\"/>\n",
       "<text fill=\"#000000\" font-family=\"Times,serif\" font-size=\"14.00\" text-anchor=\"middle\" x=\"1975.5\" y=\"-91.3\">output:</text>\n",
       "<polyline fill=\"none\" points=\"2003,-83.5 2003,-129.5 \" stroke=\"#000000\"/>\n",
       "<text fill=\"#000000\" font-family=\"Times,serif\" font-size=\"14.00\" text-anchor=\"middle\" x=\"2048\" y=\"-114.3\">(None, 33, 8)</text>\n",
       "<polyline fill=\"none\" points=\"2003,-106.5 2093,-106.5 \" stroke=\"#000000\"/>\n",
       "<text fill=\"#000000\" font-family=\"Times,serif\" font-size=\"14.00\" text-anchor=\"middle\" x=\"2048\" y=\"-91.3\">(None, 33, 1)</text>\n",
       "</g>\n",
       "<!-- 35195133209960&#45;&gt;35195132456912 -->\n",
       "<g class=\"edge\" id=\"edge51\">\n",
       "<title>35195133209960-&gt;35195132456912</title>\n",
       "<path d=\"M1959,-166.3799C1959,-158.1745 1959,-148.7679 1959,-139.8786\" fill=\"none\" stroke=\"#000000\"/>\n",
       "<polygon fill=\"#000000\" points=\"1962.5001,-139.784 1959,-129.784 1955.5001,-139.784 1962.5001,-139.784\" stroke=\"#000000\"/>\n",
       "</g>\n",
       "<!-- 35195133174336 -->\n",
       "<g class=\"node\" id=\"node49\">\n",
       "<title>35195133174336</title>\n",
       "<polygon fill=\"none\" points=\"2369.5,-83.5 2369.5,-129.5 2644.5,-129.5 2644.5,-83.5 2369.5,-83.5\" stroke=\"#000000\"/>\n",
       "<text fill=\"#000000\" font-family=\"Times,serif\" font-size=\"14.00\" text-anchor=\"middle\" x=\"2434.5\" y=\"-102.8\">conv1d_12: Conv1D</text>\n",
       "<polyline fill=\"none\" points=\"2499.5,-83.5 2499.5,-129.5 \" stroke=\"#000000\"/>\n",
       "<text fill=\"#000000\" font-family=\"Times,serif\" font-size=\"14.00\" text-anchor=\"middle\" x=\"2527\" y=\"-114.3\">input:</text>\n",
       "<polyline fill=\"none\" points=\"2499.5,-106.5 2554.5,-106.5 \" stroke=\"#000000\"/>\n",
       "<text fill=\"#000000\" font-family=\"Times,serif\" font-size=\"14.00\" text-anchor=\"middle\" x=\"2527\" y=\"-91.3\">output:</text>\n",
       "<polyline fill=\"none\" points=\"2554.5,-83.5 2554.5,-129.5 \" stroke=\"#000000\"/>\n",
       "<text fill=\"#000000\" font-family=\"Times,serif\" font-size=\"14.00\" text-anchor=\"middle\" x=\"2599.5\" y=\"-114.3\">(None, 33, 8)</text>\n",
       "<polyline fill=\"none\" points=\"2554.5,-106.5 2644.5,-106.5 \" stroke=\"#000000\"/>\n",
       "<text fill=\"#000000\" font-family=\"Times,serif\" font-size=\"14.00\" text-anchor=\"middle\" x=\"2599.5\" y=\"-91.3\">(None, 33, 1)</text>\n",
       "</g>\n",
       "<!-- 35195133210352&#45;&gt;35195133174336 -->\n",
       "<g class=\"edge\" id=\"edge52\">\n",
       "<title>35195133210352-&gt;35195133174336</title>\n",
       "<path d=\"M2507,-166.3799C2507,-158.1745 2507,-148.7679 2507,-139.8786\" fill=\"none\" stroke=\"#000000\"/>\n",
       "<polygon fill=\"#000000\" points=\"2510.5001,-139.784 2507,-129.784 2503.5001,-139.784 2510.5001,-139.784\" stroke=\"#000000\"/>\n",
       "</g>\n",
       "<!-- 35195133174728 -->\n",
       "<g class=\"node\" id=\"node50\">\n",
       "<title>35195133174728</title>\n",
       "<polygon fill=\"none\" points=\"1819,-.5 1819,-46.5 2099,-46.5 2099,-.5 1819,-.5\" stroke=\"#000000\"/>\n",
       "<text fill=\"#000000\" font-family=\"Times,serif\" font-size=\"14.00\" text-anchor=\"middle\" x=\"1886.5\" y=\"-19.8\">target_temp: Reshape</text>\n",
       "<polyline fill=\"none\" points=\"1954,-.5 1954,-46.5 \" stroke=\"#000000\"/>\n",
       "<text fill=\"#000000\" font-family=\"Times,serif\" font-size=\"14.00\" text-anchor=\"middle\" x=\"1981.5\" y=\"-31.3\">input:</text>\n",
       "<polyline fill=\"none\" points=\"1954,-23.5 2009,-23.5 \" stroke=\"#000000\"/>\n",
       "<text fill=\"#000000\" font-family=\"Times,serif\" font-size=\"14.00\" text-anchor=\"middle\" x=\"1981.5\" y=\"-8.3\">output:</text>\n",
       "<polyline fill=\"none\" points=\"2009,-.5 2009,-46.5 \" stroke=\"#000000\"/>\n",
       "<text fill=\"#000000\" font-family=\"Times,serif\" font-size=\"14.00\" text-anchor=\"middle\" x=\"2054\" y=\"-31.3\">(None, 33, 1)</text>\n",
       "<polyline fill=\"none\" points=\"2009,-23.5 2099,-23.5 \" stroke=\"#000000\"/>\n",
       "<text fill=\"#000000\" font-family=\"Times,serif\" font-size=\"14.00\" text-anchor=\"middle\" x=\"2054\" y=\"-8.3\">(None, 33)</text>\n",
       "</g>\n",
       "<!-- 35195132456912&#45;&gt;35195133174728 -->\n",
       "<g class=\"edge\" id=\"edge53\">\n",
       "<title>35195132456912-&gt;35195133174728</title>\n",
       "<path d=\"M1959,-83.3799C1959,-75.1745 1959,-65.7679 1959,-56.8786\" fill=\"none\" stroke=\"#000000\"/>\n",
       "<polygon fill=\"#000000\" points=\"1962.5001,-56.784 1959,-46.784 1955.5001,-56.784 1962.5001,-56.784\" stroke=\"#000000\"/>\n",
       "</g>\n",
       "<!-- 35195133174840 -->\n",
       "<g class=\"node\" id=\"node51\">\n",
       "<title>35195133174840</title>\n",
       "<polygon fill=\"none\" points=\"2368.5,-.5 2368.5,-46.5 2645.5,-46.5 2645.5,-.5 2368.5,-.5\" stroke=\"#000000\"/>\n",
       "<text fill=\"#000000\" font-family=\"Times,serif\" font-size=\"14.00\" text-anchor=\"middle\" x=\"2434.5\" y=\"-19.8\">target_dens: Reshape</text>\n",
       "<polyline fill=\"none\" points=\"2500.5,-.5 2500.5,-46.5 \" stroke=\"#000000\"/>\n",
       "<text fill=\"#000000\" font-family=\"Times,serif\" font-size=\"14.00\" text-anchor=\"middle\" x=\"2528\" y=\"-31.3\">input:</text>\n",
       "<polyline fill=\"none\" points=\"2500.5,-23.5 2555.5,-23.5 \" stroke=\"#000000\"/>\n",
       "<text fill=\"#000000\" font-family=\"Times,serif\" font-size=\"14.00\" text-anchor=\"middle\" x=\"2528\" y=\"-8.3\">output:</text>\n",
       "<polyline fill=\"none\" points=\"2555.5,-.5 2555.5,-46.5 \" stroke=\"#000000\"/>\n",
       "<text fill=\"#000000\" font-family=\"Times,serif\" font-size=\"14.00\" text-anchor=\"middle\" x=\"2600.5\" y=\"-31.3\">(None, 33, 1)</text>\n",
       "<polyline fill=\"none\" points=\"2555.5,-23.5 2645.5,-23.5 \" stroke=\"#000000\"/>\n",
       "<text fill=\"#000000\" font-family=\"Times,serif\" font-size=\"14.00\" text-anchor=\"middle\" x=\"2600.5\" y=\"-8.3\">(None, 33)</text>\n",
       "</g>\n",
       "<!-- 35195133174336&#45;&gt;35195133174840 -->\n",
       "<g class=\"edge\" id=\"edge54\">\n",
       "<title>35195133174336-&gt;35195133174840</title>\n",
       "<path d=\"M2507,-83.3799C2507,-75.1745 2507,-65.7679 2507,-56.8786\" fill=\"none\" stroke=\"#000000\"/>\n",
       "<polygon fill=\"#000000\" points=\"2510.5001,-56.784 2507,-46.784 2503.5001,-56.784 2510.5001,-56.784\" stroke=\"#000000\"/>\n",
       "</g>\n",
       "</g>\n",
       "</svg>"
      ],
      "text/plain": [
       "<IPython.core.display.SVG object>"
      ]
     },
     "execution_count": 7,
     "metadata": {},
     "output_type": "execute_result"
    }
   ],
   "source": [
    "from IPython.display import SVG\n",
    "from keras.utils.vis_utils import model_to_dot\n",
    "SVG(model_to_dot(model,show_shapes=True,show_layer_names=True,rankdir='TB').create(prog='dot', format='svg'))"
   ]
  },
  {
   "cell_type": "code",
   "execution_count": null,
   "metadata": {},
   "outputs": [],
   "source": []
  },
  {
   "cell_type": "code",
   "execution_count": null,
   "metadata": {},
   "outputs": [],
   "source": []
  },
  {
   "cell_type": "markdown",
   "metadata": {},
   "source": [
    "# Sensitivity Analysis"
   ]
  },
  {
   "cell_type": "code",
   "execution_count": null,
   "metadata": {},
   "outputs": [],
   "source": [
    "shots = [173649]\n",
    "times = [6000]\n",
    "inputs, targets = train_generator.get_data_by_shot_time(shots,times)\n",
    "input_const = set_future_actuators(inputs, actuator_names, 0)\n",
    "pred_const = model.predict_on_batch(input_const)\n",
    "input_increasing = set_future_actuators(inputs, actuator_names, 0.5)\n",
    "pred_increasing = model.predict_on_batch(input_increasing)\n",
    "input_decreasing = set_future_actuators(inputs, actuator_names, -0.5)\n",
    "pred_decreasing = model.predict_on_batch(input_decreasing)"
   ]
  },
  {
   "cell_type": "code",
   "execution_count": null,
   "metadata": {},
   "outputs": [],
   "source": [
    "inputs['input_past_pinj']"
   ]
  },
  {
   "cell_type": "code",
   "execution_count": null,
   "metadata": {},
   "outputs": [],
   "source": []
  },
  {
   "cell_type": "markdown",
   "metadata": {},
   "source": [
    "# Full Run Processing"
   ]
  },
  {
   "cell_type": "code",
   "execution_count": 65,
   "metadata": {},
   "outputs": [
    {
     "name": "stdout",
     "output_type": "stream",
     "text": [
      "number of models: 102\n"
     ]
    }
   ],
   "source": [
    "base_path = os.path.expanduser('~/run_results/')\n",
    "files = os.listdir(base_path)\n",
    "model_files = [file for file in files if 'h5' in file]\n",
    "param_files = [file[:-3] + '_params.pkl' for file in model_files]\n",
    "num_models = len(model_files)\n",
    "print('number of models: ' + str(num_models))"
   ]
  },
  {
   "cell_type": "code",
   "execution_count": 66,
   "metadata": {},
   "outputs": [
    {
     "data": {
      "application/vnd.jupyter.widget-view+json": {
       "model_id": "af283abbdcc647028da9191e4ed3e80d",
       "version_major": 2,
       "version_minor": 0
      },
      "text/plain": [
       "HBox(children=(IntProgress(value=0, max=102), HTML(value='')))"
      ]
     },
     "metadata": {},
     "output_type": "display_data"
    },
    {
     "name": "stdout",
     "output_type": "stream",
     "text": [
      "\n"
     ]
    }
   ],
   "source": [
    "models = []\n",
    "params = []\n",
    "for modelname, paramsname in tqdm_notebook(zip(model_files,param_files), total=num_models):\n",
    "    models.append(keras.models.load_model(base_path+modelname, compile=False))\n",
    "    with open(base_path+paramsname, 'rb') as f:\n",
    "         params.append(pickle.load(f, encoding='latin1'))"
   ]
  },
  {
   "cell_type": "code",
   "execution_count": 91,
   "metadata": {},
   "outputs": [
    {
     "data": {
      "application/vnd.jupyter.widget-view+json": {
       "model_id": "b1165876578e4da0826a4bf129f41f88",
       "version_major": 2,
       "version_minor": 0
      },
      "text/plain": [
       "HBox(children=(IntProgress(value=0, max=102), HTML(value='')))"
      ]
     },
     "metadata": {},
     "output_type": "display_data"
    },
    {
     "data": {
      "application/vnd.jupyter.widget-view+json": {
       "model_id": "",
       "version_major": 2,
       "version_minor": 0
      },
      "text/plain": [
       "HBox(children=(IntProgress(value=0, max=1281), HTML(value='')))"
      ]
     },
     "metadata": {},
     "output_type": "display_data"
    },
    {
     "data": {
      "application/vnd.jupyter.widget-view+json": {
       "model_id": "",
       "version_major": 2,
       "version_minor": 0
      },
      "text/plain": [
       "HBox(children=(IntProgress(value=0, max=1281), HTML(value='')))"
      ]
     },
     "metadata": {},
     "output_type": "display_data"
    },
    {
     "data": {
      "application/vnd.jupyter.widget-view+json": {
       "model_id": "",
       "version_major": 2,
       "version_minor": 0
      },
      "text/plain": [
       "HBox(children=(IntProgress(value=0, max=1281), HTML(value='')))"
      ]
     },
     "metadata": {},
     "output_type": "display_data"
    },
    {
     "data": {
      "application/vnd.jupyter.widget-view+json": {
       "model_id": "",
       "version_major": 2,
       "version_minor": 0
      },
      "text/plain": [
       "HBox(children=(IntProgress(value=0, max=1281), HTML(value='')))"
      ]
     },
     "metadata": {},
     "output_type": "display_data"
    },
    {
     "data": {
      "application/vnd.jupyter.widget-view+json": {
       "model_id": "",
       "version_major": 2,
       "version_minor": 0
      },
      "text/plain": [
       "HBox(children=(IntProgress(value=0, max=1281), HTML(value='')))"
      ]
     },
     "metadata": {},
     "output_type": "display_data"
    },
    {
     "data": {
      "application/vnd.jupyter.widget-view+json": {
       "model_id": "",
       "version_major": 2,
       "version_minor": 0
      },
      "text/plain": [
       "HBox(children=(IntProgress(value=0, max=1281), HTML(value='')))"
      ]
     },
     "metadata": {},
     "output_type": "display_data"
    },
    {
     "data": {
      "application/vnd.jupyter.widget-view+json": {
       "model_id": "",
       "version_major": 2,
       "version_minor": 0
      },
      "text/plain": [
       "HBox(children=(IntProgress(value=0, max=1281), HTML(value='')))"
      ]
     },
     "metadata": {},
     "output_type": "display_data"
    },
    {
     "data": {
      "application/vnd.jupyter.widget-view+json": {
       "model_id": "",
       "version_major": 2,
       "version_minor": 0
      },
      "text/plain": [
       "HBox(children=(IntProgress(value=0, max=1281), HTML(value='')))"
      ]
     },
     "metadata": {},
     "output_type": "display_data"
    },
    {
     "data": {
      "application/vnd.jupyter.widget-view+json": {
       "model_id": "",
       "version_major": 2,
       "version_minor": 0
      },
      "text/plain": [
       "HBox(children=(IntProgress(value=0, max=1281), HTML(value='')))"
      ]
     },
     "metadata": {},
     "output_type": "display_data"
    },
    {
     "data": {
      "application/vnd.jupyter.widget-view+json": {
       "model_id": "",
       "version_major": 2,
       "version_minor": 0
      },
      "text/plain": [
       "HBox(children=(IntProgress(value=0, max=1281), HTML(value='')))"
      ]
     },
     "metadata": {},
     "output_type": "display_data"
    },
    {
     "data": {
      "application/vnd.jupyter.widget-view+json": {
       "model_id": "",
       "version_major": 2,
       "version_minor": 0
      },
      "text/plain": [
       "HBox(children=(IntProgress(value=0, max=1281), HTML(value='')))"
      ]
     },
     "metadata": {},
     "output_type": "display_data"
    },
    {
     "data": {
      "application/vnd.jupyter.widget-view+json": {
       "model_id": "",
       "version_major": 2,
       "version_minor": 0
      },
      "text/plain": [
       "HBox(children=(IntProgress(value=0, max=1281), HTML(value='')))"
      ]
     },
     "metadata": {},
     "output_type": "display_data"
    },
    {
     "data": {
      "application/vnd.jupyter.widget-view+json": {
       "model_id": "",
       "version_major": 2,
       "version_minor": 0
      },
      "text/plain": [
       "HBox(children=(IntProgress(value=0, max=1281), HTML(value='')))"
      ]
     },
     "metadata": {},
     "output_type": "display_data"
    },
    {
     "data": {
      "application/vnd.jupyter.widget-view+json": {
       "model_id": "",
       "version_major": 2,
       "version_minor": 0
      },
      "text/plain": [
       "HBox(children=(IntProgress(value=0, max=1281), HTML(value='')))"
      ]
     },
     "metadata": {},
     "output_type": "display_data"
    },
    {
     "data": {
      "application/vnd.jupyter.widget-view+json": {
       "model_id": "",
       "version_major": 2,
       "version_minor": 0
      },
      "text/plain": [
       "HBox(children=(IntProgress(value=0, max=1281), HTML(value='')))"
      ]
     },
     "metadata": {},
     "output_type": "display_data"
    },
    {
     "data": {
      "application/vnd.jupyter.widget-view+json": {
       "model_id": "",
       "version_major": 2,
       "version_minor": 0
      },
      "text/plain": [
       "HBox(children=(IntProgress(value=0, max=1281), HTML(value='')))"
      ]
     },
     "metadata": {},
     "output_type": "display_data"
    },
    {
     "data": {
      "application/vnd.jupyter.widget-view+json": {
       "model_id": "",
       "version_major": 2,
       "version_minor": 0
      },
      "text/plain": [
       "HBox(children=(IntProgress(value=0, max=1281), HTML(value='')))"
      ]
     },
     "metadata": {},
     "output_type": "display_data"
    },
    {
     "data": {
      "application/vnd.jupyter.widget-view+json": {
       "model_id": "",
       "version_major": 2,
       "version_minor": 0
      },
      "text/plain": [
       "HBox(children=(IntProgress(value=0, max=1281), HTML(value='')))"
      ]
     },
     "metadata": {},
     "output_type": "display_data"
    },
    {
     "data": {
      "application/vnd.jupyter.widget-view+json": {
       "model_id": "",
       "version_major": 2,
       "version_minor": 0
      },
      "text/plain": [
       "HBox(children=(IntProgress(value=0, max=1281), HTML(value='')))"
      ]
     },
     "metadata": {},
     "output_type": "display_data"
    },
    {
     "data": {
      "application/vnd.jupyter.widget-view+json": {
       "model_id": "",
       "version_major": 2,
       "version_minor": 0
      },
      "text/plain": [
       "HBox(children=(IntProgress(value=0, max=1281), HTML(value='')))"
      ]
     },
     "metadata": {},
     "output_type": "display_data"
    },
    {
     "data": {
      "application/vnd.jupyter.widget-view+json": {
       "model_id": "",
       "version_major": 2,
       "version_minor": 0
      },
      "text/plain": [
       "HBox(children=(IntProgress(value=0, max=1281), HTML(value='')))"
      ]
     },
     "metadata": {},
     "output_type": "display_data"
    },
    {
     "data": {
      "application/vnd.jupyter.widget-view+json": {
       "model_id": "",
       "version_major": 2,
       "version_minor": 0
      },
      "text/plain": [
       "HBox(children=(IntProgress(value=0, max=1281), HTML(value='')))"
      ]
     },
     "metadata": {},
     "output_type": "display_data"
    },
    {
     "data": {
      "application/vnd.jupyter.widget-view+json": {
       "model_id": "",
       "version_major": 2,
       "version_minor": 0
      },
      "text/plain": [
       "HBox(children=(IntProgress(value=0, max=1281), HTML(value='')))"
      ]
     },
     "metadata": {},
     "output_type": "display_data"
    },
    {
     "data": {
      "application/vnd.jupyter.widget-view+json": {
       "model_id": "",
       "version_major": 2,
       "version_minor": 0
      },
      "text/plain": [
       "HBox(children=(IntProgress(value=0, max=1281), HTML(value='')))"
      ]
     },
     "metadata": {},
     "output_type": "display_data"
    },
    {
     "data": {
      "application/vnd.jupyter.widget-view+json": {
       "model_id": "",
       "version_major": 2,
       "version_minor": 0
      },
      "text/plain": [
       "HBox(children=(IntProgress(value=0, max=1281), HTML(value='')))"
      ]
     },
     "metadata": {},
     "output_type": "display_data"
    },
    {
     "data": {
      "application/vnd.jupyter.widget-view+json": {
       "model_id": "",
       "version_major": 2,
       "version_minor": 0
      },
      "text/plain": [
       "HBox(children=(IntProgress(value=0, max=1281), HTML(value='')))"
      ]
     },
     "metadata": {},
     "output_type": "display_data"
    },
    {
     "data": {
      "application/vnd.jupyter.widget-view+json": {
       "model_id": "",
       "version_major": 2,
       "version_minor": 0
      },
      "text/plain": [
       "HBox(children=(IntProgress(value=0, max=1281), HTML(value='')))"
      ]
     },
     "metadata": {},
     "output_type": "display_data"
    },
    {
     "data": {
      "application/vnd.jupyter.widget-view+json": {
       "model_id": "",
       "version_major": 2,
       "version_minor": 0
      },
      "text/plain": [
       "HBox(children=(IntProgress(value=0, max=1281), HTML(value='')))"
      ]
     },
     "metadata": {},
     "output_type": "display_data"
    },
    {
     "data": {
      "application/vnd.jupyter.widget-view+json": {
       "model_id": "",
       "version_major": 2,
       "version_minor": 0
      },
      "text/plain": [
       "HBox(children=(IntProgress(value=0, max=1281), HTML(value='')))"
      ]
     },
     "metadata": {},
     "output_type": "display_data"
    },
    {
     "data": {
      "application/vnd.jupyter.widget-view+json": {
       "model_id": "",
       "version_major": 2,
       "version_minor": 0
      },
      "text/plain": [
       "HBox(children=(IntProgress(value=0, max=1281), HTML(value='')))"
      ]
     },
     "metadata": {},
     "output_type": "display_data"
    },
    {
     "data": {
      "application/vnd.jupyter.widget-view+json": {
       "model_id": "",
       "version_major": 2,
       "version_minor": 0
      },
      "text/plain": [
       "HBox(children=(IntProgress(value=0, max=1281), HTML(value='')))"
      ]
     },
     "metadata": {},
     "output_type": "display_data"
    },
    {
     "data": {
      "application/vnd.jupyter.widget-view+json": {
       "model_id": "",
       "version_major": 2,
       "version_minor": 0
      },
      "text/plain": [
       "HBox(children=(IntProgress(value=0, max=1281), HTML(value='')))"
      ]
     },
     "metadata": {},
     "output_type": "display_data"
    },
    {
     "data": {
      "application/vnd.jupyter.widget-view+json": {
       "model_id": "",
       "version_major": 2,
       "version_minor": 0
      },
      "text/plain": [
       "HBox(children=(IntProgress(value=0, max=1281), HTML(value='')))"
      ]
     },
     "metadata": {},
     "output_type": "display_data"
    },
    {
     "data": {
      "application/vnd.jupyter.widget-view+json": {
       "model_id": "",
       "version_major": 2,
       "version_minor": 0
      },
      "text/plain": [
       "HBox(children=(IntProgress(value=0, max=1281), HTML(value='')))"
      ]
     },
     "metadata": {},
     "output_type": "display_data"
    },
    {
     "data": {
      "application/vnd.jupyter.widget-view+json": {
       "model_id": "",
       "version_major": 2,
       "version_minor": 0
      },
      "text/plain": [
       "HBox(children=(IntProgress(value=0, max=1281), HTML(value='')))"
      ]
     },
     "metadata": {},
     "output_type": "display_data"
    },
    {
     "data": {
      "application/vnd.jupyter.widget-view+json": {
       "model_id": "",
       "version_major": 2,
       "version_minor": 0
      },
      "text/plain": [
       "HBox(children=(IntProgress(value=0, max=1281), HTML(value='')))"
      ]
     },
     "metadata": {},
     "output_type": "display_data"
    },
    {
     "data": {
      "application/vnd.jupyter.widget-view+json": {
       "model_id": "",
       "version_major": 2,
       "version_minor": 0
      },
      "text/plain": [
       "HBox(children=(IntProgress(value=0, max=1281), HTML(value='')))"
      ]
     },
     "metadata": {},
     "output_type": "display_data"
    },
    {
     "data": {
      "application/vnd.jupyter.widget-view+json": {
       "model_id": "",
       "version_major": 2,
       "version_minor": 0
      },
      "text/plain": [
       "HBox(children=(IntProgress(value=0, max=1281), HTML(value='')))"
      ]
     },
     "metadata": {},
     "output_type": "display_data"
    },
    {
     "data": {
      "application/vnd.jupyter.widget-view+json": {
       "model_id": "",
       "version_major": 2,
       "version_minor": 0
      },
      "text/plain": [
       "HBox(children=(IntProgress(value=0, max=1281), HTML(value='')))"
      ]
     },
     "metadata": {},
     "output_type": "display_data"
    },
    {
     "data": {
      "application/vnd.jupyter.widget-view+json": {
       "model_id": "",
       "version_major": 2,
       "version_minor": 0
      },
      "text/plain": [
       "HBox(children=(IntProgress(value=0, max=1281), HTML(value='')))"
      ]
     },
     "metadata": {},
     "output_type": "display_data"
    },
    {
     "data": {
      "application/vnd.jupyter.widget-view+json": {
       "model_id": "",
       "version_major": 2,
       "version_minor": 0
      },
      "text/plain": [
       "HBox(children=(IntProgress(value=0, max=1281), HTML(value='')))"
      ]
     },
     "metadata": {},
     "output_type": "display_data"
    },
    {
     "data": {
      "application/vnd.jupyter.widget-view+json": {
       "model_id": "",
       "version_major": 2,
       "version_minor": 0
      },
      "text/plain": [
       "HBox(children=(IntProgress(value=0, max=1281), HTML(value='')))"
      ]
     },
     "metadata": {},
     "output_type": "display_data"
    },
    {
     "data": {
      "application/vnd.jupyter.widget-view+json": {
       "model_id": "",
       "version_major": 2,
       "version_minor": 0
      },
      "text/plain": [
       "HBox(children=(IntProgress(value=0, max=1281), HTML(value='')))"
      ]
     },
     "metadata": {},
     "output_type": "display_data"
    },
    {
     "data": {
      "application/vnd.jupyter.widget-view+json": {
       "model_id": "",
       "version_major": 2,
       "version_minor": 0
      },
      "text/plain": [
       "HBox(children=(IntProgress(value=0, max=1281), HTML(value='')))"
      ]
     },
     "metadata": {},
     "output_type": "display_data"
    },
    {
     "data": {
      "application/vnd.jupyter.widget-view+json": {
       "model_id": "",
       "version_major": 2,
       "version_minor": 0
      },
      "text/plain": [
       "HBox(children=(IntProgress(value=0, max=1281), HTML(value='')))"
      ]
     },
     "metadata": {},
     "output_type": "display_data"
    },
    {
     "data": {
      "application/vnd.jupyter.widget-view+json": {
       "model_id": "",
       "version_major": 2,
       "version_minor": 0
      },
      "text/plain": [
       "HBox(children=(IntProgress(value=0, max=1281), HTML(value='')))"
      ]
     },
     "metadata": {},
     "output_type": "display_data"
    },
    {
     "data": {
      "application/vnd.jupyter.widget-view+json": {
       "model_id": "",
       "version_major": 2,
       "version_minor": 0
      },
      "text/plain": [
       "HBox(children=(IntProgress(value=0, max=1281), HTML(value='')))"
      ]
     },
     "metadata": {},
     "output_type": "display_data"
    },
    {
     "data": {
      "application/vnd.jupyter.widget-view+json": {
       "model_id": "",
       "version_major": 2,
       "version_minor": 0
      },
      "text/plain": [
       "HBox(children=(IntProgress(value=0, max=1281), HTML(value='')))"
      ]
     },
     "metadata": {},
     "output_type": "display_data"
    },
    {
     "data": {
      "application/vnd.jupyter.widget-view+json": {
       "model_id": "",
       "version_major": 2,
       "version_minor": 0
      },
      "text/plain": [
       "HBox(children=(IntProgress(value=0, max=1281), HTML(value='')))"
      ]
     },
     "metadata": {},
     "output_type": "display_data"
    },
    {
     "data": {
      "application/vnd.jupyter.widget-view+json": {
       "model_id": "",
       "version_major": 2,
       "version_minor": 0
      },
      "text/plain": [
       "HBox(children=(IntProgress(value=0, max=1281), HTML(value='')))"
      ]
     },
     "metadata": {},
     "output_type": "display_data"
    },
    {
     "data": {
      "application/vnd.jupyter.widget-view+json": {
       "model_id": "",
       "version_major": 2,
       "version_minor": 0
      },
      "text/plain": [
       "HBox(children=(IntProgress(value=0, max=1281), HTML(value='')))"
      ]
     },
     "metadata": {},
     "output_type": "display_data"
    },
    {
     "data": {
      "application/vnd.jupyter.widget-view+json": {
       "model_id": "",
       "version_major": 2,
       "version_minor": 0
      },
      "text/plain": [
       "HBox(children=(IntProgress(value=0, max=1281), HTML(value='')))"
      ]
     },
     "metadata": {},
     "output_type": "display_data"
    },
    {
     "data": {
      "application/vnd.jupyter.widget-view+json": {
       "model_id": "",
       "version_major": 2,
       "version_minor": 0
      },
      "text/plain": [
       "HBox(children=(IntProgress(value=0, max=1281), HTML(value='')))"
      ]
     },
     "metadata": {},
     "output_type": "display_data"
    },
    {
     "data": {
      "application/vnd.jupyter.widget-view+json": {
       "model_id": "",
       "version_major": 2,
       "version_minor": 0
      },
      "text/plain": [
       "HBox(children=(IntProgress(value=0, max=1281), HTML(value='')))"
      ]
     },
     "metadata": {},
     "output_type": "display_data"
    },
    {
     "data": {
      "application/vnd.jupyter.widget-view+json": {
       "model_id": "",
       "version_major": 2,
       "version_minor": 0
      },
      "text/plain": [
       "HBox(children=(IntProgress(value=0, max=1281), HTML(value='')))"
      ]
     },
     "metadata": {},
     "output_type": "display_data"
    },
    {
     "data": {
      "application/vnd.jupyter.widget-view+json": {
       "model_id": "",
       "version_major": 2,
       "version_minor": 0
      },
      "text/plain": [
       "HBox(children=(IntProgress(value=0, max=1281), HTML(value='')))"
      ]
     },
     "metadata": {},
     "output_type": "display_data"
    },
    {
     "data": {
      "application/vnd.jupyter.widget-view+json": {
       "model_id": "",
       "version_major": 2,
       "version_minor": 0
      },
      "text/plain": [
       "HBox(children=(IntProgress(value=0, max=1281), HTML(value='')))"
      ]
     },
     "metadata": {},
     "output_type": "display_data"
    },
    {
     "data": {
      "application/vnd.jupyter.widget-view+json": {
       "model_id": "",
       "version_major": 2,
       "version_minor": 0
      },
      "text/plain": [
       "HBox(children=(IntProgress(value=0, max=1281), HTML(value='')))"
      ]
     },
     "metadata": {},
     "output_type": "display_data"
    },
    {
     "data": {
      "application/vnd.jupyter.widget-view+json": {
       "model_id": "",
       "version_major": 2,
       "version_minor": 0
      },
      "text/plain": [
       "HBox(children=(IntProgress(value=0, max=1281), HTML(value='')))"
      ]
     },
     "metadata": {},
     "output_type": "display_data"
    },
    {
     "data": {
      "application/vnd.jupyter.widget-view+json": {
       "model_id": "",
       "version_major": 2,
       "version_minor": 0
      },
      "text/plain": [
       "HBox(children=(IntProgress(value=0, max=1281), HTML(value='')))"
      ]
     },
     "metadata": {},
     "output_type": "display_data"
    },
    {
     "data": {
      "application/vnd.jupyter.widget-view+json": {
       "model_id": "",
       "version_major": 2,
       "version_minor": 0
      },
      "text/plain": [
       "HBox(children=(IntProgress(value=0, max=1281), HTML(value='')))"
      ]
     },
     "metadata": {},
     "output_type": "display_data"
    },
    {
     "data": {
      "application/vnd.jupyter.widget-view+json": {
       "model_id": "",
       "version_major": 2,
       "version_minor": 0
      },
      "text/plain": [
       "HBox(children=(IntProgress(value=0, max=1281), HTML(value='')))"
      ]
     },
     "metadata": {},
     "output_type": "display_data"
    },
    {
     "data": {
      "application/vnd.jupyter.widget-view+json": {
       "model_id": "",
       "version_major": 2,
       "version_minor": 0
      },
      "text/plain": [
       "HBox(children=(IntProgress(value=0, max=1281), HTML(value='')))"
      ]
     },
     "metadata": {},
     "output_type": "display_data"
    },
    {
     "data": {
      "application/vnd.jupyter.widget-view+json": {
       "model_id": "",
       "version_major": 2,
       "version_minor": 0
      },
      "text/plain": [
       "HBox(children=(IntProgress(value=0, max=1281), HTML(value='')))"
      ]
     },
     "metadata": {},
     "output_type": "display_data"
    },
    {
     "data": {
      "application/vnd.jupyter.widget-view+json": {
       "model_id": "",
       "version_major": 2,
       "version_minor": 0
      },
      "text/plain": [
       "HBox(children=(IntProgress(value=0, max=1281), HTML(value='')))"
      ]
     },
     "metadata": {},
     "output_type": "display_data"
    },
    {
     "data": {
      "application/vnd.jupyter.widget-view+json": {
       "model_id": "",
       "version_major": 2,
       "version_minor": 0
      },
      "text/plain": [
       "HBox(children=(IntProgress(value=0, max=1281), HTML(value='')))"
      ]
     },
     "metadata": {},
     "output_type": "display_data"
    },
    {
     "data": {
      "application/vnd.jupyter.widget-view+json": {
       "model_id": "",
       "version_major": 2,
       "version_minor": 0
      },
      "text/plain": [
       "HBox(children=(IntProgress(value=0, max=1281), HTML(value='')))"
      ]
     },
     "metadata": {},
     "output_type": "display_data"
    },
    {
     "data": {
      "application/vnd.jupyter.widget-view+json": {
       "model_id": "",
       "version_major": 2,
       "version_minor": 0
      },
      "text/plain": [
       "HBox(children=(IntProgress(value=0, max=1281), HTML(value='')))"
      ]
     },
     "metadata": {},
     "output_type": "display_data"
    },
    {
     "data": {
      "application/vnd.jupyter.widget-view+json": {
       "model_id": "",
       "version_major": 2,
       "version_minor": 0
      },
      "text/plain": [
       "HBox(children=(IntProgress(value=0, max=1281), HTML(value='')))"
      ]
     },
     "metadata": {},
     "output_type": "display_data"
    },
    {
     "data": {
      "application/vnd.jupyter.widget-view+json": {
       "model_id": "",
       "version_major": 2,
       "version_minor": 0
      },
      "text/plain": [
       "HBox(children=(IntProgress(value=0, max=1281), HTML(value='')))"
      ]
     },
     "metadata": {},
     "output_type": "display_data"
    },
    {
     "data": {
      "application/vnd.jupyter.widget-view+json": {
       "model_id": "",
       "version_major": 2,
       "version_minor": 0
      },
      "text/plain": [
       "HBox(children=(IntProgress(value=0, max=1281), HTML(value='')))"
      ]
     },
     "metadata": {},
     "output_type": "display_data"
    },
    {
     "data": {
      "application/vnd.jupyter.widget-view+json": {
       "model_id": "",
       "version_major": 2,
       "version_minor": 0
      },
      "text/plain": [
       "HBox(children=(IntProgress(value=0, max=1281), HTML(value='')))"
      ]
     },
     "metadata": {},
     "output_type": "display_data"
    },
    {
     "data": {
      "application/vnd.jupyter.widget-view+json": {
       "model_id": "",
       "version_major": 2,
       "version_minor": 0
      },
      "text/plain": [
       "HBox(children=(IntProgress(value=0, max=1281), HTML(value='')))"
      ]
     },
     "metadata": {},
     "output_type": "display_data"
    },
    {
     "data": {
      "application/vnd.jupyter.widget-view+json": {
       "model_id": "",
       "version_major": 2,
       "version_minor": 0
      },
      "text/plain": [
       "HBox(children=(IntProgress(value=0, max=1281), HTML(value='')))"
      ]
     },
     "metadata": {},
     "output_type": "display_data"
    },
    {
     "data": {
      "application/vnd.jupyter.widget-view+json": {
       "model_id": "",
       "version_major": 2,
       "version_minor": 0
      },
      "text/plain": [
       "HBox(children=(IntProgress(value=0, max=1281), HTML(value='')))"
      ]
     },
     "metadata": {},
     "output_type": "display_data"
    },
    {
     "data": {
      "application/vnd.jupyter.widget-view+json": {
       "model_id": "",
       "version_major": 2,
       "version_minor": 0
      },
      "text/plain": [
       "HBox(children=(IntProgress(value=0, max=1281), HTML(value='')))"
      ]
     },
     "metadata": {},
     "output_type": "display_data"
    },
    {
     "data": {
      "application/vnd.jupyter.widget-view+json": {
       "model_id": "",
       "version_major": 2,
       "version_minor": 0
      },
      "text/plain": [
       "HBox(children=(IntProgress(value=0, max=1281), HTML(value='')))"
      ]
     },
     "metadata": {},
     "output_type": "display_data"
    },
    {
     "data": {
      "application/vnd.jupyter.widget-view+json": {
       "model_id": "",
       "version_major": 2,
       "version_minor": 0
      },
      "text/plain": [
       "HBox(children=(IntProgress(value=0, max=1281), HTML(value='')))"
      ]
     },
     "metadata": {},
     "output_type": "display_data"
    },
    {
     "data": {
      "application/vnd.jupyter.widget-view+json": {
       "model_id": "",
       "version_major": 2,
       "version_minor": 0
      },
      "text/plain": [
       "HBox(children=(IntProgress(value=0, max=1281), HTML(value='')))"
      ]
     },
     "metadata": {},
     "output_type": "display_data"
    },
    {
     "data": {
      "application/vnd.jupyter.widget-view+json": {
       "model_id": "",
       "version_major": 2,
       "version_minor": 0
      },
      "text/plain": [
       "HBox(children=(IntProgress(value=0, max=1281), HTML(value='')))"
      ]
     },
     "metadata": {},
     "output_type": "display_data"
    },
    {
     "data": {
      "application/vnd.jupyter.widget-view+json": {
       "model_id": "",
       "version_major": 2,
       "version_minor": 0
      },
      "text/plain": [
       "HBox(children=(IntProgress(value=0, max=1281), HTML(value='')))"
      ]
     },
     "metadata": {},
     "output_type": "display_data"
    },
    {
     "data": {
      "application/vnd.jupyter.widget-view+json": {
       "model_id": "",
       "version_major": 2,
       "version_minor": 0
      },
      "text/plain": [
       "HBox(children=(IntProgress(value=0, max=1281), HTML(value='')))"
      ]
     },
     "metadata": {},
     "output_type": "display_data"
    },
    {
     "data": {
      "application/vnd.jupyter.widget-view+json": {
       "model_id": "",
       "version_major": 2,
       "version_minor": 0
      },
      "text/plain": [
       "HBox(children=(IntProgress(value=0, max=1281), HTML(value='')))"
      ]
     },
     "metadata": {},
     "output_type": "display_data"
    },
    {
     "data": {
      "application/vnd.jupyter.widget-view+json": {
       "model_id": "",
       "version_major": 2,
       "version_minor": 0
      },
      "text/plain": [
       "HBox(children=(IntProgress(value=0, max=1281), HTML(value='')))"
      ]
     },
     "metadata": {},
     "output_type": "display_data"
    },
    {
     "data": {
      "application/vnd.jupyter.widget-view+json": {
       "model_id": "",
       "version_major": 2,
       "version_minor": 0
      },
      "text/plain": [
       "HBox(children=(IntProgress(value=0, max=1281), HTML(value='')))"
      ]
     },
     "metadata": {},
     "output_type": "display_data"
    },
    {
     "data": {
      "application/vnd.jupyter.widget-view+json": {
       "model_id": "",
       "version_major": 2,
       "version_minor": 0
      },
      "text/plain": [
       "HBox(children=(IntProgress(value=0, max=1281), HTML(value='')))"
      ]
     },
     "metadata": {},
     "output_type": "display_data"
    },
    {
     "data": {
      "application/vnd.jupyter.widget-view+json": {
       "model_id": "",
       "version_major": 2,
       "version_minor": 0
      },
      "text/plain": [
       "HBox(children=(IntProgress(value=0, max=1281), HTML(value='')))"
      ]
     },
     "metadata": {},
     "output_type": "display_data"
    },
    {
     "data": {
      "application/vnd.jupyter.widget-view+json": {
       "model_id": "",
       "version_major": 2,
       "version_minor": 0
      },
      "text/plain": [
       "HBox(children=(IntProgress(value=0, max=1281), HTML(value='')))"
      ]
     },
     "metadata": {},
     "output_type": "display_data"
    },
    {
     "data": {
      "application/vnd.jupyter.widget-view+json": {
       "model_id": "",
       "version_major": 2,
       "version_minor": 0
      },
      "text/plain": [
       "HBox(children=(IntProgress(value=0, max=1281), HTML(value='')))"
      ]
     },
     "metadata": {},
     "output_type": "display_data"
    },
    {
     "data": {
      "application/vnd.jupyter.widget-view+json": {
       "model_id": "",
       "version_major": 2,
       "version_minor": 0
      },
      "text/plain": [
       "HBox(children=(IntProgress(value=0, max=1281), HTML(value='')))"
      ]
     },
     "metadata": {},
     "output_type": "display_data"
    },
    {
     "data": {
      "application/vnd.jupyter.widget-view+json": {
       "model_id": "",
       "version_major": 2,
       "version_minor": 0
      },
      "text/plain": [
       "HBox(children=(IntProgress(value=0, max=1281), HTML(value='')))"
      ]
     },
     "metadata": {},
     "output_type": "display_data"
    },
    {
     "data": {
      "application/vnd.jupyter.widget-view+json": {
       "model_id": "",
       "version_major": 2,
       "version_minor": 0
      },
      "text/plain": [
       "HBox(children=(IntProgress(value=0, max=1281), HTML(value='')))"
      ]
     },
     "metadata": {},
     "output_type": "display_data"
    },
    {
     "data": {
      "application/vnd.jupyter.widget-view+json": {
       "model_id": "",
       "version_major": 2,
       "version_minor": 0
      },
      "text/plain": [
       "HBox(children=(IntProgress(value=0, max=1281), HTML(value='')))"
      ]
     },
     "metadata": {},
     "output_type": "display_data"
    },
    {
     "data": {
      "application/vnd.jupyter.widget-view+json": {
       "model_id": "",
       "version_major": 2,
       "version_minor": 0
      },
      "text/plain": [
       "HBox(children=(IntProgress(value=0, max=1281), HTML(value='')))"
      ]
     },
     "metadata": {},
     "output_type": "display_data"
    },
    {
     "data": {
      "application/vnd.jupyter.widget-view+json": {
       "model_id": "",
       "version_major": 2,
       "version_minor": 0
      },
      "text/plain": [
       "HBox(children=(IntProgress(value=0, max=1281), HTML(value='')))"
      ]
     },
     "metadata": {},
     "output_type": "display_data"
    },
    {
     "data": {
      "application/vnd.jupyter.widget-view+json": {
       "model_id": "",
       "version_major": 2,
       "version_minor": 0
      },
      "text/plain": [
       "HBox(children=(IntProgress(value=0, max=1281), HTML(value='')))"
      ]
     },
     "metadata": {},
     "output_type": "display_data"
    },
    {
     "data": {
      "application/vnd.jupyter.widget-view+json": {
       "model_id": "",
       "version_major": 2,
       "version_minor": 0
      },
      "text/plain": [
       "HBox(children=(IntProgress(value=0, max=1281), HTML(value='')))"
      ]
     },
     "metadata": {},
     "output_type": "display_data"
    },
    {
     "data": {
      "application/vnd.jupyter.widget-view+json": {
       "model_id": "",
       "version_major": 2,
       "version_minor": 0
      },
      "text/plain": [
       "HBox(children=(IntProgress(value=0, max=1281), HTML(value='')))"
      ]
     },
     "metadata": {},
     "output_type": "display_data"
    },
    {
     "data": {
      "application/vnd.jupyter.widget-view+json": {
       "model_id": "",
       "version_major": 2,
       "version_minor": 0
      },
      "text/plain": [
       "HBox(children=(IntProgress(value=0, max=1281), HTML(value='')))"
      ]
     },
     "metadata": {},
     "output_type": "display_data"
    },
    {
     "data": {
      "application/vnd.jupyter.widget-view+json": {
       "model_id": "",
       "version_major": 2,
       "version_minor": 0
      },
      "text/plain": [
       "HBox(children=(IntProgress(value=0, max=1281), HTML(value='')))"
      ]
     },
     "metadata": {},
     "output_type": "display_data"
    },
    {
     "data": {
      "application/vnd.jupyter.widget-view+json": {
       "model_id": "",
       "version_major": 2,
       "version_minor": 0
      },
      "text/plain": [
       "HBox(children=(IntProgress(value=0, max=1281), HTML(value='')))"
      ]
     },
     "metadata": {},
     "output_type": "display_data"
    },
    {
     "data": {
      "application/vnd.jupyter.widget-view+json": {
       "model_id": "",
       "version_major": 2,
       "version_minor": 0
      },
      "text/plain": [
       "HBox(children=(IntProgress(value=0, max=1281), HTML(value='')))"
      ]
     },
     "metadata": {},
     "output_type": "display_data"
    }
   ],
   "source": [
    "sign_acc = {'temp': [], 'dens':[]}\n",
    "threshold = .1\n",
    "ftop_filepath_base = '/scratch/gpfs/jabbate/data_60_ms_randomized_flattop/'\n",
    "for model, scenario in tqdm_notebook(zip(models,params), total=num_models, position=0):\n",
    "    with open(os.path.join(ftop_filepath_base, 'val.pkl'), 'rb') as f:\n",
    "        valdata = pickle.load(f)\n",
    "    val_generator = DataGenerator(valdata,\n",
    "                                  1,\n",
    "                                  scenario['input_profile_names'],\n",
    "                                  scenario['actuator_names'],\n",
    "                                  scenario['target_profile_names'],\n",
    "                                  scenario['scalar_input_names'],\n",
    "                                  scenario['lookbacks'],\n",
    "                                  scenario['lookahead'],\n",
    "                                  scenario['predict_deltas'],\n",
    "                                  scenario['profile_downsample'],\n",
    "                                  scenario['shuffle_generators'])\n",
    "    temp_sign_acc = []\n",
    "    dens_sign_acc = []\n",
    "    for i in tqdm_notebook(range(int(len(val_generator)/100)), position=1, leave=False):\n",
    "        inputs, targets = val_generator[i]\n",
    "        pred = model.predict_on_batch(inputs)\n",
    "        predictions = {}\n",
    "        for i, sig in enumerate(scenario['target_profile_names']):\n",
    "            predictions['target_'+sig] = pred[i]\n",
    "        if not scenario['predict_deltas']:\n",
    "            delta_true, delta_pred = get_deltas(inputs, targets, scenario['target_profile_names'], predictions)\n",
    "        else:\n",
    "            delta_true = targets\n",
    "            delta_pred = predictions\n",
    "        foo = hinge_loss(delta_true,delta_pred, threshold)\n",
    "        temp_sign_acc.append(foo['target_temp'])\n",
    "        dens_sign_acc.append(foo['target_dens'])\n",
    "    sign_acc['temp'].append(np.nanmean(temp_sign_acc))\n",
    "    sign_acc['dens'].append(np.nanmean(dens_sign_acc))\n",
    "\n",
    "        \n",
    "        \n",
    "    \n",
    "    \n",
    "    "
   ]
  },
  {
   "cell_type": "code",
   "execution_count": 94,
   "metadata": {},
   "outputs": [
    {
     "data": {
      "text/plain": [
       "0.7975265475265475"
      ]
     },
     "execution_count": 94,
     "metadata": {},
     "output_type": "execute_result"
    }
   ],
   "source": [
    "np.max(sign_acc['dens'])"
   ]
  },
  {
   "cell_type": "code",
   "execution_count": 95,
   "metadata": {},
   "outputs": [
    {
     "data": {
      "text/plain": [
       "12"
      ]
     },
     "execution_count": 95,
     "metadata": {},
     "output_type": "execute_result"
    }
   ],
   "source": [
    "np.argmax(sign_acc['dens'])"
   ]
  },
  {
   "cell_type": "code",
   "execution_count": null,
   "metadata": {},
   "outputs": [],
   "source": []
  },
  {
   "cell_type": "code",
   "execution_count": null,
   "metadata": {},
   "outputs": [
    {
     "data": {
      "application/vnd.jupyter.widget-view+json": {
       "model_id": "d8f4d30f972748e3bd810eeb8997b6ce",
       "version_major": 2,
       "version_minor": 0
      },
      "text/plain": [
       "HBox(children=(IntProgress(value=0, max=102), HTML(value='')))"
      ]
     },
     "metadata": {},
     "output_type": "display_data"
    },
    {
     "data": {
      "application/vnd.jupyter.widget-view+json": {
       "model_id": "",
       "version_major": 2,
       "version_minor": 0
      },
      "text/plain": [
       "HBox(children=(IntProgress(value=0, max=1281), HTML(value='')))"
      ]
     },
     "metadata": {},
     "output_type": "display_data"
    },
    {
     "data": {
      "application/vnd.jupyter.widget-view+json": {
       "model_id": "",
       "version_major": 2,
       "version_minor": 0
      },
      "text/plain": [
       "HBox(children=(IntProgress(value=0, max=1281), HTML(value='')))"
      ]
     },
     "metadata": {},
     "output_type": "display_data"
    },
    {
     "data": {
      "application/vnd.jupyter.widget-view+json": {
       "model_id": "",
       "version_major": 2,
       "version_minor": 0
      },
      "text/plain": [
       "HBox(children=(IntProgress(value=0, max=1281), HTML(value='')))"
      ]
     },
     "metadata": {},
     "output_type": "display_data"
    },
    {
     "data": {
      "application/vnd.jupyter.widget-view+json": {
       "model_id": "",
       "version_major": 2,
       "version_minor": 0
      },
      "text/plain": [
       "HBox(children=(IntProgress(value=0, max=1281), HTML(value='')))"
      ]
     },
     "metadata": {},
     "output_type": "display_data"
    },
    {
     "data": {
      "application/vnd.jupyter.widget-view+json": {
       "model_id": "",
       "version_major": 2,
       "version_minor": 0
      },
      "text/plain": [
       "HBox(children=(IntProgress(value=0, max=1281), HTML(value='')))"
      ]
     },
     "metadata": {},
     "output_type": "display_data"
    },
    {
     "data": {
      "application/vnd.jupyter.widget-view+json": {
       "model_id": "",
       "version_major": 2,
       "version_minor": 0
      },
      "text/plain": [
       "HBox(children=(IntProgress(value=0, max=1281), HTML(value='')))"
      ]
     },
     "metadata": {},
     "output_type": "display_data"
    },
    {
     "data": {
      "application/vnd.jupyter.widget-view+json": {
       "model_id": "",
       "version_major": 2,
       "version_minor": 0
      },
      "text/plain": [
       "HBox(children=(IntProgress(value=0, max=1281), HTML(value='')))"
      ]
     },
     "metadata": {},
     "output_type": "display_data"
    },
    {
     "data": {
      "application/vnd.jupyter.widget-view+json": {
       "model_id": "",
       "version_major": 2,
       "version_minor": 0
      },
      "text/plain": [
       "HBox(children=(IntProgress(value=0, max=1281), HTML(value='')))"
      ]
     },
     "metadata": {},
     "output_type": "display_data"
    },
    {
     "data": {
      "application/vnd.jupyter.widget-view+json": {
       "model_id": "",
       "version_major": 2,
       "version_minor": 0
      },
      "text/plain": [
       "HBox(children=(IntProgress(value=0, max=1281), HTML(value='')))"
      ]
     },
     "metadata": {},
     "output_type": "display_data"
    },
    {
     "data": {
      "application/vnd.jupyter.widget-view+json": {
       "model_id": "",
       "version_major": 2,
       "version_minor": 0
      },
      "text/plain": [
       "HBox(children=(IntProgress(value=0, max=1281), HTML(value='')))"
      ]
     },
     "metadata": {},
     "output_type": "display_data"
    },
    {
     "data": {
      "application/vnd.jupyter.widget-view+json": {
       "model_id": "",
       "version_major": 2,
       "version_minor": 0
      },
      "text/plain": [
       "HBox(children=(IntProgress(value=0, max=1281), HTML(value='')))"
      ]
     },
     "metadata": {},
     "output_type": "display_data"
    },
    {
     "data": {
      "application/vnd.jupyter.widget-view+json": {
       "model_id": "",
       "version_major": 2,
       "version_minor": 0
      },
      "text/plain": [
       "HBox(children=(IntProgress(value=0, max=1281), HTML(value='')))"
      ]
     },
     "metadata": {},
     "output_type": "display_data"
    },
    {
     "data": {
      "application/vnd.jupyter.widget-view+json": {
       "model_id": "",
       "version_major": 2,
       "version_minor": 0
      },
      "text/plain": [
       "HBox(children=(IntProgress(value=0, max=1281), HTML(value='')))"
      ]
     },
     "metadata": {},
     "output_type": "display_data"
    },
    {
     "data": {
      "application/vnd.jupyter.widget-view+json": {
       "model_id": "",
       "version_major": 2,
       "version_minor": 0
      },
      "text/plain": [
       "HBox(children=(IntProgress(value=0, max=1281), HTML(value='')))"
      ]
     },
     "metadata": {},
     "output_type": "display_data"
    },
    {
     "data": {
      "application/vnd.jupyter.widget-view+json": {
       "model_id": "",
       "version_major": 2,
       "version_minor": 0
      },
      "text/plain": [
       "HBox(children=(IntProgress(value=0, max=1281), HTML(value='')))"
      ]
     },
     "metadata": {},
     "output_type": "display_data"
    },
    {
     "data": {
      "application/vnd.jupyter.widget-view+json": {
       "model_id": "",
       "version_major": 2,
       "version_minor": 0
      },
      "text/plain": [
       "HBox(children=(IntProgress(value=0, max=1281), HTML(value='')))"
      ]
     },
     "metadata": {},
     "output_type": "display_data"
    },
    {
     "data": {
      "application/vnd.jupyter.widget-view+json": {
       "model_id": "",
       "version_major": 2,
       "version_minor": 0
      },
      "text/plain": [
       "HBox(children=(IntProgress(value=0, max=1281), HTML(value='')))"
      ]
     },
     "metadata": {},
     "output_type": "display_data"
    },
    {
     "data": {
      "application/vnd.jupyter.widget-view+json": {
       "model_id": "",
       "version_major": 2,
       "version_minor": 0
      },
      "text/plain": [
       "HBox(children=(IntProgress(value=0, max=1281), HTML(value='')))"
      ]
     },
     "metadata": {},
     "output_type": "display_data"
    },
    {
     "data": {
      "application/vnd.jupyter.widget-view+json": {
       "model_id": "",
       "version_major": 2,
       "version_minor": 0
      },
      "text/plain": [
       "HBox(children=(IntProgress(value=0, max=1281), HTML(value='')))"
      ]
     },
     "metadata": {},
     "output_type": "display_data"
    },
    {
     "data": {
      "application/vnd.jupyter.widget-view+json": {
       "model_id": "",
       "version_major": 2,
       "version_minor": 0
      },
      "text/plain": [
       "HBox(children=(IntProgress(value=0, max=1281), HTML(value='')))"
      ]
     },
     "metadata": {},
     "output_type": "display_data"
    },
    {
     "data": {
      "application/vnd.jupyter.widget-view+json": {
       "model_id": "",
       "version_major": 2,
       "version_minor": 0
      },
      "text/plain": [
       "HBox(children=(IntProgress(value=0, max=1281), HTML(value='')))"
      ]
     },
     "metadata": {},
     "output_type": "display_data"
    },
    {
     "data": {
      "application/vnd.jupyter.widget-view+json": {
       "model_id": "",
       "version_major": 2,
       "version_minor": 0
      },
      "text/plain": [
       "HBox(children=(IntProgress(value=0, max=1281), HTML(value='')))"
      ]
     },
     "metadata": {},
     "output_type": "display_data"
    },
    {
     "data": {
      "application/vnd.jupyter.widget-view+json": {
       "model_id": "",
       "version_major": 2,
       "version_minor": 0
      },
      "text/plain": [
       "HBox(children=(IntProgress(value=0, max=1281), HTML(value='')))"
      ]
     },
     "metadata": {},
     "output_type": "display_data"
    },
    {
     "data": {
      "application/vnd.jupyter.widget-view+json": {
       "model_id": "",
       "version_major": 2,
       "version_minor": 0
      },
      "text/plain": [
       "HBox(children=(IntProgress(value=0, max=1281), HTML(value='')))"
      ]
     },
     "metadata": {},
     "output_type": "display_data"
    },
    {
     "data": {
      "application/vnd.jupyter.widget-view+json": {
       "model_id": "",
       "version_major": 2,
       "version_minor": 0
      },
      "text/plain": [
       "HBox(children=(IntProgress(value=0, max=1281), HTML(value='')))"
      ]
     },
     "metadata": {},
     "output_type": "display_data"
    },
    {
     "data": {
      "application/vnd.jupyter.widget-view+json": {
       "model_id": "",
       "version_major": 2,
       "version_minor": 0
      },
      "text/plain": [
       "HBox(children=(IntProgress(value=0, max=1281), HTML(value='')))"
      ]
     },
     "metadata": {},
     "output_type": "display_data"
    },
    {
     "data": {
      "application/vnd.jupyter.widget-view+json": {
       "model_id": "",
       "version_major": 2,
       "version_minor": 0
      },
      "text/plain": [
       "HBox(children=(IntProgress(value=0, max=1281), HTML(value='')))"
      ]
     },
     "metadata": {},
     "output_type": "display_data"
    },
    {
     "data": {
      "application/vnd.jupyter.widget-view+json": {
       "model_id": "",
       "version_major": 2,
       "version_minor": 0
      },
      "text/plain": [
       "HBox(children=(IntProgress(value=0, max=1281), HTML(value='')))"
      ]
     },
     "metadata": {},
     "output_type": "display_data"
    },
    {
     "data": {
      "application/vnd.jupyter.widget-view+json": {
       "model_id": "",
       "version_major": 2,
       "version_minor": 0
      },
      "text/plain": [
       "HBox(children=(IntProgress(value=0, max=1281), HTML(value='')))"
      ]
     },
     "metadata": {},
     "output_type": "display_data"
    },
    {
     "data": {
      "application/vnd.jupyter.widget-view+json": {
       "model_id": "",
       "version_major": 2,
       "version_minor": 0
      },
      "text/plain": [
       "HBox(children=(IntProgress(value=0, max=1281), HTML(value='')))"
      ]
     },
     "metadata": {},
     "output_type": "display_data"
    },
    {
     "data": {
      "application/vnd.jupyter.widget-view+json": {
       "model_id": "",
       "version_major": 2,
       "version_minor": 0
      },
      "text/plain": [
       "HBox(children=(IntProgress(value=0, max=1281), HTML(value='')))"
      ]
     },
     "metadata": {},
     "output_type": "display_data"
    },
    {
     "data": {
      "application/vnd.jupyter.widget-view+json": {
       "model_id": "",
       "version_major": 2,
       "version_minor": 0
      },
      "text/plain": [
       "HBox(children=(IntProgress(value=0, max=1281), HTML(value='')))"
      ]
     },
     "metadata": {},
     "output_type": "display_data"
    },
    {
     "data": {
      "application/vnd.jupyter.widget-view+json": {
       "model_id": "",
       "version_major": 2,
       "version_minor": 0
      },
      "text/plain": [
       "HBox(children=(IntProgress(value=0, max=1281), HTML(value='')))"
      ]
     },
     "metadata": {},
     "output_type": "display_data"
    },
    {
     "data": {
      "application/vnd.jupyter.widget-view+json": {
       "model_id": "",
       "version_major": 2,
       "version_minor": 0
      },
      "text/plain": [
       "HBox(children=(IntProgress(value=0, max=1281), HTML(value='')))"
      ]
     },
     "metadata": {},
     "output_type": "display_data"
    },
    {
     "data": {
      "application/vnd.jupyter.widget-view+json": {
       "model_id": "",
       "version_major": 2,
       "version_minor": 0
      },
      "text/plain": [
       "HBox(children=(IntProgress(value=0, max=1281), HTML(value='')))"
      ]
     },
     "metadata": {},
     "output_type": "display_data"
    },
    {
     "data": {
      "application/vnd.jupyter.widget-view+json": {
       "model_id": "",
       "version_major": 2,
       "version_minor": 0
      },
      "text/plain": [
       "HBox(children=(IntProgress(value=0, max=1281), HTML(value='')))"
      ]
     },
     "metadata": {},
     "output_type": "display_data"
    },
    {
     "data": {
      "application/vnd.jupyter.widget-view+json": {
       "model_id": "",
       "version_major": 2,
       "version_minor": 0
      },
      "text/plain": [
       "HBox(children=(IntProgress(value=0, max=1281), HTML(value='')))"
      ]
     },
     "metadata": {},
     "output_type": "display_data"
    },
    {
     "data": {
      "application/vnd.jupyter.widget-view+json": {
       "model_id": "",
       "version_major": 2,
       "version_minor": 0
      },
      "text/plain": [
       "HBox(children=(IntProgress(value=0, max=1281), HTML(value='')))"
      ]
     },
     "metadata": {},
     "output_type": "display_data"
    },
    {
     "data": {
      "application/vnd.jupyter.widget-view+json": {
       "model_id": "",
       "version_major": 2,
       "version_minor": 0
      },
      "text/plain": [
       "HBox(children=(IntProgress(value=0, max=1281), HTML(value='')))"
      ]
     },
     "metadata": {},
     "output_type": "display_data"
    },
    {
     "data": {
      "application/vnd.jupyter.widget-view+json": {
       "model_id": "",
       "version_major": 2,
       "version_minor": 0
      },
      "text/plain": [
       "HBox(children=(IntProgress(value=0, max=1281), HTML(value='')))"
      ]
     },
     "metadata": {},
     "output_type": "display_data"
    },
    {
     "data": {
      "application/vnd.jupyter.widget-view+json": {
       "model_id": "",
       "version_major": 2,
       "version_minor": 0
      },
      "text/plain": [
       "HBox(children=(IntProgress(value=0, max=1281), HTML(value='')))"
      ]
     },
     "metadata": {},
     "output_type": "display_data"
    },
    {
     "data": {
      "application/vnd.jupyter.widget-view+json": {
       "model_id": "",
       "version_major": 2,
       "version_minor": 0
      },
      "text/plain": [
       "HBox(children=(IntProgress(value=0, max=1281), HTML(value='')))"
      ]
     },
     "metadata": {},
     "output_type": "display_data"
    },
    {
     "data": {
      "application/vnd.jupyter.widget-view+json": {
       "model_id": "",
       "version_major": 2,
       "version_minor": 0
      },
      "text/plain": [
       "HBox(children=(IntProgress(value=0, max=1281), HTML(value='')))"
      ]
     },
     "metadata": {},
     "output_type": "display_data"
    },
    {
     "data": {
      "application/vnd.jupyter.widget-view+json": {
       "model_id": "",
       "version_major": 2,
       "version_minor": 0
      },
      "text/plain": [
       "HBox(children=(IntProgress(value=0, max=1281), HTML(value='')))"
      ]
     },
     "metadata": {},
     "output_type": "display_data"
    },
    {
     "data": {
      "application/vnd.jupyter.widget-view+json": {
       "model_id": "",
       "version_major": 2,
       "version_minor": 0
      },
      "text/plain": [
       "HBox(children=(IntProgress(value=0, max=1281), HTML(value='')))"
      ]
     },
     "metadata": {},
     "output_type": "display_data"
    },
    {
     "data": {
      "application/vnd.jupyter.widget-view+json": {
       "model_id": "b3599195dd174f2e8b39b4661cfc349d",
       "version_major": 2,
       "version_minor": 0
      },
      "text/plain": [
       "HBox(children=(IntProgress(value=0, max=1281), HTML(value='')))"
      ]
     },
     "metadata": {},
     "output_type": "display_data"
    }
   ],
   "source": [
    "\n",
    "sensitivity = []\n",
    "ftop_filepath_base = '/scratch/gpfs/jabbate/data_60_ms_randomized_flattop/'\n",
    "for model, scenario in tqdm_notebook(zip(models,params), total=num_models, position=0):\n",
    "    with open(os.path.join(ftop_filepath_base, 'val.pkl'), 'rb') as f:\n",
    "        valdata = pickle.load(f)\n",
    "    val_generator = DataGenerator(valdata,\n",
    "                                  1,\n",
    "                                  scenario['input_profile_names'],\n",
    "                                  scenario['actuator_names'],\n",
    "                                  scenario['target_profile_names'],\n",
    "                                  scenario['scalar_input_names'],\n",
    "                                  scenario['lookbacks'],\n",
    "                                  scenario['lookahead'],\n",
    "                                  scenario['predict_deltas'],\n",
    "                                  scenario['profile_downsample'],\n",
    "                                  scenario['shuffle_generators'])\n",
    "    delta_actuators = [-1.5, -1, -.5, 0, .5, 1, 1.5]\n",
    "    predictions_pert = {sig: {act:{d:[] for d in delta_actuators} for act in scenario['actuator_names']} for sig in scenario['target_profile_names']}\n",
    "    for i in tqdm_notebook(range(int(len(val_generator)/100)), position=1, leave=False):\n",
    "        inputs, targets = val_generator[i]\n",
    "        input_const = set_future_actuators(inputs, scenario['actuator_names'], 0)\n",
    "        pred_const = model.predict_on_batch(input_const)\n",
    "        predictions_const = {}\n",
    "        for i, sig in enumerate(scenario['target_profile_names']):\n",
    "            predictions_const[sig] = pred_const[i]\n",
    "        for act in scenario['actuator_names']:\n",
    "            for d in delta_actuators:\n",
    "                input_pert = set_future_actuators(input_const, [act], d)\n",
    "                pred_pert = model.predict_on_batch(input_pert)\n",
    "                for i, sig in enumerate(scenario['target_profile_names']):\n",
    "                    predictions_pert[sig][act][d].append(np.mean(pred_pert[i] - predictions_const[sig], axis=-1))\n",
    "    for sig in scenario['target_profile_names']:\n",
    "        for act in scenario['actuator_names']:\n",
    "            for d in delta_actuators:\n",
    "                predictions_pert[sig][act][d] = {'mean': np.mean(predictions_pert[sig][act][d]),'std': np.std(predictions_pert[sig][act][d])}\n",
    "    sensitivity.append(predictions_pert) \n",
    "    \n"
   ]
  },
  {
   "cell_type": "code",
   "execution_count": 67,
   "metadata": {},
   "outputs": [],
   "source": [
    "scenarios = [int(foo.split('_')[-1].split('-')[-1].split('.')[0]) for foo in model_files]"
   ]
  },
  {
   "cell_type": "code",
   "execution_count": 46,
   "metadata": {},
   "outputs": [],
   "source": []
  },
  {
   "cell_type": "code",
   "execution_count": 48,
   "metadata": {},
   "outputs": [],
   "source": []
  },
  {
   "cell_type": "code",
   "execution_count": 62,
   "metadata": {},
   "outputs": [],
   "source": []
  },
  {
   "cell_type": "code",
   "execution_count": 63,
   "metadata": {},
   "outputs": [],
   "source": []
  },
  {
   "cell_type": "code",
   "execution_count": 58,
   "metadata": {},
   "outputs": [],
   "source": []
  },
  {
   "cell_type": "code",
   "execution_count": null,
   "metadata": {},
   "outputs": [],
   "source": []
  },
  {
   "cell_type": "code",
   "execution_count": null,
   "metadata": {},
   "outputs": [],
   "source": []
  },
  {
   "cell_type": "code",
   "execution_count": null,
   "metadata": {},
   "outputs": [],
   "source": []
  },
  {
   "cell_type": "code",
   "execution_count": null,
   "metadata": {},
   "outputs": [],
   "source": []
  },
  {
   "cell_type": "code",
   "execution_count": null,
   "metadata": {},
   "outputs": [],
   "source": []
  },
  {
   "cell_type": "code",
   "execution_count": null,
   "metadata": {},
   "outputs": [],
   "source": []
  },
  {
   "cell_type": "code",
   "execution_count": null,
   "metadata": {},
   "outputs": [],
   "source": []
  },
  {
   "cell_type": "markdown",
   "metadata": {},
   "source": [
    "# Plot Predictions vs True"
   ]
  },
  {
   "cell_type": "code",
   "execution_count": null,
   "metadata": {},
   "outputs": [],
   "source": [
    "sig='itemp'\n",
    "all_means=[]\n",
    "all_stds=[]\n",
    "for shot in data.keys():\n",
    "    if sig in data[shot]:\n",
    "        data[shot][sig][np.isinf(data[shot][sig])] = np.nan\n",
    "        this_mean=np.nanmean(data[shot][sig])\n",
    "        this_std=np.nanstd(data[shot][sig])\n",
    "        if False: #abs(this_mean)>4000:\n",
    "            print(shot)\n",
    "            print(np.mean(all_means))\n",
    "            print(this_mean)\n",
    "            print('\\n')\n",
    "            print(np.std(all_stds))\n",
    "            print(this_std)\n",
    "            print('\\n')\n",
    "        else:\n",
    "            all_means.append(this_mean)\n",
    "            all_stds.append(this_std)\n",
    "plt.hist(all_means)"
   ]
  },
  {
   "cell_type": "code",
   "execution_count": null,
   "metadata": {},
   "outputs": [],
   "source": [
    "shots=list(data.keys())\n",
    "shot=np.random.choice(shots)\n",
    "plt.plot(data[shot]['curr_target'])\n",
    "inds=np.where(np.isclose(data[shot]['curr_target'],max(data[shot]['curr_target'])))[0]\n",
    "plt.axvline(inds[0])\n",
    "plt.axvline(inds[-1])\n",
    "plt.show()"
   ]
  },
  {
   "cell_type": "code",
   "execution_count": null,
   "metadata": {},
   "outputs": [],
   "source": [
    "analysis_params['batch_size']=1\n",
    "train_generator = DataGenerator(traindata,**analysis_params)\n",
    "steps_per_epoch = len(train_generator)"
   ]
  },
  {
   "cell_type": "code",
   "execution_count": null,
   "metadata": {},
   "outputs": [],
   "source": [
    "batch_ind+=1\n",
    "inputs, targets = train_generator[batch_ind]\n",
    "shotnums = train_generator.cur_shotnum[:,max(profile_lookback, actuator_lookback)]\n",
    "times = train_generator.cur_times[:,max(profile_lookback, actuator_lookback)]\n",
    "pred = model.predict_on_batch(inputs)\n",
    "# # add deltas to future actuators\n",
    "# #predict on new actuators\n",
    "# predictions = {}\n",
    "# for i, sig in enumerate(target_profile_names):\n",
    "#     predictions[sig] = pred[i]\n",
    "# psi = np.linspace(0,1,profile_length)\n",
    "# full_pred = {}\n",
    "# full_true = {}\n",
    "# delta_pred = {}\n",
    "# delta_true = {}\n",
    "# baseline = {}\n",
    "# for sig in target_profile_names:\n",
    "#     full_pred[sig], full_true[sig], delta_pred[sig], delta_true[sig], baseline[sig] = batch_denorm(inputs,targets,predictions,\n",
    "#                                                                                                    normalization_params,sig)"
   ]
  },
  {
   "cell_type": "markdown",
   "metadata": {},
   "source": [
    "# Design your own shot"
   ]
  },
  {
   "cell_type": "code",
   "execution_count": null,
   "metadata": {},
   "outputs": [],
   "source": [
    "plt.rcParams['figure.figsize'] = [20, 15]"
   ]
  },
  {
   "cell_type": "code",
   "execution_count": null,
   "metadata": {},
   "outputs": [],
   "source": [
    "all_shots=np.unique(traindata['shotnum'])\n",
    "shotnum=np.random.choice(all_shots) #all_shots[5]\n",
    "t=4700\n",
    "\n",
    "psi = np.linspace(0,1,profile_length)\n",
    "sigs=['curr','pinj','tinj','gasA','temp','dens']\n",
    "profiles=['temp','dens']\n",
    "input_profiles=['thomson_temp_EFITRT1','thomson_dens_EFITRT1']\n",
    "changed_input_keys=['pinj']\n",
    "changed_profile_keys=[] #'thomson_dens_EFITRT1']\n",
    "\n",
    "shot_indices=np.where(traindata['shotnum'][:,0]==shotnum)[0]\n",
    "\n",
    "time_offset=np.searchsorted(traindata['time'][shot_indices,-lookahead],t)\n",
    "\n",
    "\n",
    "#prev_targets=train_generator[shot_indices[0]+time_offset-1][1]\n",
    "\n",
    "inputs=train_generator[shot_indices[0]+time_offset][0]\n",
    "\n",
    "changed_input=copy.deepcopy(inputs)\n",
    "for key in changed_input_keys:\n",
    "    #changed_input['input_past_{}'.format(key)]=np.array([np.linspace(-2,0,actuator_lookback)])\n",
    "    #changed_input['input_future_{}'.format(key)]-=[0,.5,1,1.5]\n",
    "    \n",
    "    prev=traindata[key][shot_indices[0]+time_offset][-lookahead]\n",
    "    changed_input['input_future_{}'.format(key)]=np.array([[prev]*lookahead])\n",
    "    changed_input['input_future_{}'.format(key)]=np.array([np.linspace(prev,prev-2,lookahead)]) \n",
    "    #prev=traindata[key][shot_indices[0]+time_offset][-1]#0]\n",
    "    #changed_input['input_past_{}'.format(key)]=np.array([[prev]*actuator_lookback])\n",
    "\n",
    "for key in changed_profile_keys:\n",
    "    #changed_input['input_{}'.format(key)]=np.array([[[0]*profile_length]])\n",
    "    changed_input['input_{}'.format(key)]-=np.array([[np.linspace(0,1,profile_length)]])\n",
    "    \n",
    "targets=train_generator[shot_indices[0]+time_offset][1]\n",
    "\n",
    "num_cols=4\n",
    "\n",
    "fig=plt.figure()\n",
    "for i,sig in enumerate(sigs):\n",
    "    ax=fig.add_subplot(len(sigs),num_cols,i*num_cols+1)\n",
    "    if len(traindata[sig][shot_indices].shape)>2:\n",
    "        ax.plot(traindata['time'][shot_indices,-lookahead],\n",
    "                np.mean(traindata[sig][shot_indices,-lookahead,:],axis=1),\n",
    "                c='b')\n",
    "#         ax.contourf(traindata['time'][shot_indices,-lookahead],\n",
    "#                 psi,\n",
    "#                 traindata[sig][shot_indices,-lookahead,::analysis_params['profile_downsample']].T)\n",
    "        ax.set_ylim(-2,2)\n",
    "        \n",
    "    else:\n",
    "        ax.plot(traindata['time'][shot_indices[0],:-lookahead],\n",
    "                        traindata[sig][shot_indices[0],:-lookahead],\n",
    "               c='b')\n",
    "        ax.plot(traindata['time'][shot_indices,-lookahead],\n",
    "                        traindata[sig][shot_indices,-lookahead],\n",
    "               c='b')\n",
    "        if sig in changed_input_keys:\n",
    "            ax.plot(traindata['time'][shot_indices[0]+time_offset,-lookahead:],\n",
    "                   changed_input['input_future_{}'.format(sig)].squeeze(),\n",
    "                   color='r')\n",
    "            ax.plot(traindata['time'][shot_indices[0]+time_offset,:-lookahead],\n",
    "                   changed_input['input_past_{}'.format(sig)].squeeze(),\n",
    "                   color='r')\n",
    "        if sig=='curr':\n",
    "            ax.set_ylim(-6,6)\n",
    "            N=1\n",
    "            smoothed=np.convolve(traindata[sig][shot_indices,-lookahead], np.ones((N,))/N, mode='valid') \n",
    "            #smoothed=traindata[sig][shot_indices,-lookahead][::N]\n",
    "            #flattop_start_ind=np.where(np.isclose(np.diff(smoothed),0,atol=2e-3))[0][0]\n",
    "            flattop_inds=np.where(np.isclose(smoothed,np.max(smoothed),atol=1e-3))[0]\n",
    "            ax.axvline(traindata['time'][flattop_inds[0],-lookahead],linewidth=4)\n",
    "            ax.axvline(traindata['time'][flattop_inds[-1],-lookahead],linewidth=4)\n",
    "        else:\n",
    "            ax.set_ylim(-2,2)\n",
    "        \n",
    "    \n",
    "    ax.axvline(traindata['time'][shot_indices[0]+time_offset,-lookahead],\n",
    "              color='r')\n",
    "    ax.axvline(traindata['time'][shot_indices[0]+time_offset,-1],\n",
    "              color='g')\n",
    "    ax.axvline(traindata['time'][shot_indices[0]+time_offset,0],\n",
    "              color='k')\n",
    "    ax.set_xlim(0,np.amax(traindata['time'][shot_indices]))\n",
    "    ax.set_title(sig)\n",
    "\n",
    "# truths=train_generator[shot_indices[0]+time_offset][1]\n",
    "\n",
    "for i,profile in enumerate(input_profiles):\n",
    "    ax=fig.add_subplot(len(input_profiles),num_cols,i*num_cols+1+1)\n",
    "    \n",
    "    ax.plot(psi,inputs['input_{}'.format(profile)].squeeze(),c='g')\n",
    "    if profile in changed_profile_keys:\n",
    "        ax.plot(psi,changed_input['input_{}'.format(profile)].squeeze(),c='r')\n",
    "    ax.set_title('{}'.format(profile))\n",
    "    ax.axhline(0,color='k',alpha=.5)\n",
    "    ax.set_ylim(-2,2)\n",
    "\n",
    "predictions=model.predict_on_batch(inputs)\n",
    "changed_predictions=model.predict_on_batch(changed_input)\n",
    "for i,profile in enumerate(profiles):\n",
    "    ax=fig.add_subplot(len(profiles),num_cols,i*num_cols+1+1+1)\n",
    "    ax.plot(psi,targets['target_{}'.format(profile)].squeeze(),label='True',c='g')\n",
    "    ax.plot(psi,predictions[i].squeeze(),label='Prediction',\n",
    "            c='b')\n",
    "    ax.plot(psi,changed_predictions[i].squeeze(),color='r',label='Perturbed Prediction')\n",
    "    ax.set_title('{} change'.format(profile))\n",
    "    ax.axhline(0,color='k',alpha=.5)\n",
    "    ax.set_ylim(-2,2)\n",
    "    ax.legend()\n",
    "    \n",
    "    ax=fig.add_subplot(len(profiles),num_cols,i*num_cols+1+1+1+1)\n",
    "    ax.plot(psi,\n",
    "            traindata[profile][shot_indices[0]+time_offset][0][::analysis_params['profile_downsample']],\n",
    "            label='Previous',\n",
    "            c='k')\n",
    "    ax.plot(psi,\n",
    "            traindata[profile][shot_indices[0]+time_offset][-1][::analysis_params['profile_downsample']],\n",
    "            label='Next',\n",
    "            c='g')\n",
    "    ax.plot(psi,\n",
    "            traindata[profile][shot_indices[0]+time_offset][0][::analysis_params['profile_downsample']]+predictions[i].squeeze(),\n",
    "            label='Prediction',\n",
    "            c='b')\n",
    "    ax.plot(psi,\n",
    "            traindata[profile][shot_indices[0]+time_offset][0][::analysis_params['profile_downsample']]+changed_predictions[i].squeeze(),\n",
    "            label='Perturbed Prediction',\n",
    "            c='r')\n",
    "    ax.legend()\n",
    "    ax.set_title(profile)\n",
    "    ax.set_ylim(-2,2)\n",
    "    ax.axhline(0,color='k',alpha=.5)\n",
    "    \n",
    "time=train_generator.cur_times[:,max(profile_lookback, actuator_lookback)].squeeze()\n",
    "fig.suptitle('Shot {:.0f}, {:.0f} ms'.format(shotnum,time),fontsize=30)\n",
    "plt.subplots_adjust(hspace=.2)\n",
    "plt.show()"
   ]
  },
  {
   "cell_type": "code",
   "execution_count": null,
   "metadata": {},
   "outputs": [],
   "source": [
    "sig = 'temp'\n",
    "fig, ax = plot_batch(full_true[sig],full_pred[sig],baseline[sig],\n",
    "                     psi,['true','pred','baseline'],['psi',sig], shotnums,times)  "
   ]
  },
  {
   "cell_type": "code",
   "execution_count": null,
   "metadata": {},
   "outputs": [],
   "source": [
    "sig = 'dens'\n",
    "fig, ax = plot_batch(full_true[sig],full_pred[sig],baseline[sig],\n",
    "                     psi,['true','pred','baseline'],['psi',sig], shotnums,times)  "
   ]
  },
  {
   "cell_type": "code",
   "execution_count": null,
   "metadata": {},
   "outputs": [],
   "source": [
    "sig = 'press'\n",
    "fig, ax = plot_batch(full_true[sig],full_pred[sig],baseline[sig],\n",
    "                     psi,['true','pred','baseline'],['psi',sig], shotnums,times)  "
   ]
  }
 ],
 "metadata": {
  "kernelspec": {
   "display_name": "Python 3",
   "language": "python",
   "name": "python3"
  },
  "language_info": {
   "codemirror_mode": {
    "name": "ipython",
    "version": 3
   },
   "file_extension": ".py",
   "mimetype": "text/x-python",
   "name": "python",
   "nbconvert_exporter": "python",
   "pygments_lexer": "ipython3",
   "version": "3.6.9"
  },
  "toc": {
   "base_numbering": 1,
   "nav_menu": {},
   "number_sections": true,
   "sideBar": true,
   "skip_h1_title": false,
   "title_cell": "Table of Contents",
   "title_sidebar": "Contents",
   "toc_cell": false,
   "toc_position": {},
   "toc_section_display": true,
   "toc_window_display": false
  },
  "varInspector": {
   "cols": {
    "lenName": 16,
    "lenType": 16,
    "lenVar": 40
   },
   "kernels_config": {
    "python": {
     "delete_cmd_postfix": "",
     "delete_cmd_prefix": "del ",
     "library": "var_list.py",
     "varRefreshCmd": "print(var_dic_list())"
    },
    "r": {
     "delete_cmd_postfix": ") ",
     "delete_cmd_prefix": "rm(",
     "library": "var_list.r",
     "varRefreshCmd": "cat(var_dic_list()) "
    }
   },
   "position": {
    "height": "522.85px",
    "left": "1504px",
    "right": "20px",
    "top": "120px",
    "width": "341px"
   },
   "types_to_exclude": [
    "module",
    "function",
    "builtin_function_or_method",
    "instance",
    "_Feature"
   ],
   "window_display": false
  }
 },
 "nbformat": 4,
 "nbformat_minor": 4
}
