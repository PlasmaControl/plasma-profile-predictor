{
 "cells": [
  {
   "cell_type": "markdown",
   "metadata": {},
   "source": [
    "# Setup/Imports"
   ]
  },
  {
   "cell_type": "code",
   "execution_count": 1,
   "metadata": {},
   "outputs": [
    {
     "name": "stderr",
     "output_type": "stream",
     "text": [
      "Using TensorFlow backend.\n"
     ]
    }
   ],
   "source": [
    "import pickle\n",
    "import keras\n",
    "import tensorflow as tf\n",
    "from keras import backend as K\n",
    "import numpy as np\n",
    "import sys\n",
    "import os\n",
    "sys.path.append(os.path.abspath('../'))\n",
    "from helpers.data_generator import process_data, DataGenerator\n",
    "from helpers.custom_losses import denorm_loss, hinge_mse_loss\n",
    "from helpers.custom_losses import percent_correct_sign, baseline_MAE\n",
    "from models.LSTMConv2D import get_model_lstm_conv2d, get_model_simple_lstm\n",
    "from models.LSTMConv2D import get_model_linear_systems, get_model_conv2d\n",
    "from utils.callbacks import CyclicLR, TensorBoardWrapper\n",
    "from keras.callbacks import ModelCheckpoint, ReduceLROnPlateau\n",
    "from time import strftime, localtime\n",
    "import matplotlib\n",
    "from matplotlib import pyplot as plt\n",
    "import copy\n",
    "from tqdm import tqdm_notebook\n",
    "\n",
    "from helpers.normalization import normalize, denormalize, renormalize\n",
    "#import tkinter as tk\n",
    "#from tkinter import filedialog\n",
    "#root = tk.Tk()\n",
    "#root.withdraw()"
   ]
  },
  {
   "cell_type": "code",
   "execution_count": 2,
   "metadata": {},
   "outputs": [],
   "source": [
    "num_cores = 4\n",
    "config = tf.ConfigProto(intra_op_parallelism_threads=num_cores,\n",
    "                        inter_op_parallelism_threads=num_cores, \n",
    "                        allow_soft_placement=True,\n",
    "                        device_count = {'CPU' : 1,\n",
    "                                        'GPU' : 0})\n",
    "session = tf.Session(config=config)\n",
    "K.set_session(session)"
   ]
  },
  {
   "cell_type": "code",
   "execution_count": 3,
   "metadata": {},
   "outputs": [],
   "source": [
    "%matplotlib inline\n",
    "font={'family': 'Times New Roman',\n",
    "      'size': 10}\n",
    "plt.rc('font', **font)\n",
    "matplotlib.rcParams['figure.facecolor'] = (1,1,1,1)"
   ]
  },
  {
   "cell_type": "markdown",
   "metadata": {},
   "source": [
    "# Functions"
   ]
  },
  {
   "cell_type": "code",
   "execution_count": 79,
   "metadata": {},
   "outputs": [],
   "source": [
    "def hinge_loss(delta_true, delta_pred, threshold):\n",
    "    \"\"\"Finds the percentage of the time the prediction has the right sign\n",
    "    \"\"\"\n",
    "    if isinstance(delta_true, dict):\n",
    "        out = {}\n",
    "        for k in delta_true.keys():\n",
    "            if np.mean(np.abs(delta_true[k]))>threshold:\n",
    "                out[k] = np.sum(np.maximum(np.sign(delta_true[k]*delta_pred[k]),0))/delta_true[k].size\n",
    "            else:\n",
    "                out[k] = np.nan\n",
    "        return out\n",
    "    if np.mean(np.abs(delta_true))>threshold:\n",
    "        return np.sum(np.maximum(np.sign(delta_true*delta_pred),0))/delta_true.size\n",
    "    else:\n",
    "        return np.nan\n",
    "\n",
    "def batch_hinge(model,generator,param_dict,sig):\n",
    "    \"\"\"Finds the percentage of the time the prediction has the right sign\n",
    "    \"\"\"    \n",
    "    nbatches = len(generator)\n",
    "    err = 0\n",
    "    for ind in range(nbatches):\n",
    "        inputs, targets = generator[ind]\n",
    "        predictions = model.predict_on_batch(inputs)\n",
    "        full_pred, full_true, delta_pred, delta_true, baseline = batch_denorm(inputs,targets,predictions,param_dict,sig)\n",
    "        err += hinge_loss(delta_true,delta_pred)\n",
    "    return err/nbatches    \n",
    "\n",
    "def get_deltas(inputs, targets, profiles, predictions=None):\n",
    "    delta_true = {}\n",
    "    for profile in profiles:\n",
    "        delta_true['target_' + profile] = targets['target_' + profile] - inputs['input_' + profile]\n",
    "    if predictions is not None:\n",
    "        delta_pred = {}\n",
    "        for profile in profiles:\n",
    "                delta_pred['target_' + profile] = predictions['target_' + profile] - inputs['input_' + profile]\n",
    "        return delta_true, delta_pred\n",
    "    else:\n",
    "        return delta_true\n",
    "                \n",
    "                \n",
    "                \n",
    "                \n",
    "def batch_denorm(inputs,targets,predictions,param_dict,sig):\n",
    "    \"\"\"Denormalizes and calculates deltas, prep for plotting and analysis\n",
    "    \"\"\"\n",
    "    targets = targets['target_' + sig]\n",
    "    baseline = inputs['input_' + sig][:,-1]\n",
    "    predictions = predictions[sig]\n",
    "    if predict_deltas:\n",
    "        full_pred = predictions + baseline\n",
    "        full_true = targets + baseline\n",
    "    else:\n",
    "        full_pred = predictions\n",
    "        full_true = targets\n",
    "    denorm_baseline = denormalize(baseline, param_dict[sig])\n",
    "    denorm_full_pred = denormalize(full_pred, param_dict[sig])\n",
    "    denorm_full_true = denormalize(full_true, param_dict[sig])\n",
    "    denorm_delta_pred = denorm_full_pred - denorm_baseline\n",
    "    denorm_delta_true = denorm_full_true - denorm_baseline\n",
    "    return denorm_full_pred, denorm_full_true, denorm_delta_pred, denorm_delta_true, denorm_baseline\n",
    "\n",
    "def plot_batch(y_true, y_pred, baseline, psi, labels, axlabels,shots,times):\n",
    "    batch_size = y_true.shape[0]\n",
    "    ncols = 4\n",
    "    nrows = int(batch_size/ncols)\n",
    "    figsize = (20,10*batch_size/10)\n",
    "    fig, ax = plt.subplots(nrows=nrows, ncols=ncols, figsize=figsize)\n",
    "    ax = ax.flatten()\n",
    "    # Plot predictions and true deltas\n",
    "    for i in range(batch_size):\n",
    "        ax[i].plot(psi,y_true[i], label=labels[0])\n",
    "        ax[i].plot(psi,y_pred[i], label=labels[1])\n",
    "        ax[i].plot(psi,baseline[i], label=labels[2])\n",
    "        ax[i].title.set_text('Shot ' + str(int(shots[i])) + ', time ' + str(int(times[i])))\n",
    "        ax[i].set_xlabel(axlabels[0])\n",
    "        ax[i].set_ylabel(axlabels[1])\n",
    "        ax[i].set_ylim(-2*normalization_params[sig]['std'],2*normalization_params[sig]['std'])\n",
    "        ax[i].legend(loc=0)\n",
    "    plt.tight_layout()\n",
    "    return fig,ax\n",
    "\n",
    "def set_future_actuators(inputs, actuator_names, change):\n",
    "    for sig in actuator_names:\n",
    "        inputs['input_future_' + sig][:] = inputs['input_past_' + sig][:,-1] + change\n",
    "    return inputs"
   ]
  },
  {
   "cell_type": "markdown",
   "metadata": {},
   "source": [
    "# Load Model & Get Data"
   ]
  },
  {
   "cell_type": "code",
   "execution_count": null,
   "metadata": {},
   "outputs": [],
   "source": [
    "#file_path='/global/cscratch1/sd/abbatej/run_results/model-conv1d_profiles-thomson_temp_EFITRT1-thomson_dens_EFITRT1_act-pinj_15L-pinj_15R-pinj_21L-pinj_21R-pinj_30L-pinj_30R-pinj_33L-pinj_33R-tinj-curr-gasA_targ-temp-dens_profLB-1_actLB-8_norm-RobustScaler_activ-relu_nshots-10000_15Aug19-12-07.h5'\n",
    "#file_path='/global/cscratch1/sd/abbatej/run_results/model-conv1d_profiles-thomson_temp_EFITRT1-thomson_dens_EFITRT1_act-pinj-tinj-curr-gasA_targ-temp-dens_profLB-1_actLB-8_norm-RobustScaler_activ-relu_nshots-1000_15Aug19-07-05.h5'\n",
    "file_path='/global/homes/a/abbatej/plasma-profile-predictor/model-conv1d_profiles-thomson_dens_EFITRT1-thomson_temp_EFITRT1_act-pinj-curr-tinj-gasA_targ-temp-dens_profLB-1_actLB-10_norm-StandardScaler_activ-relu_nshots-50_28Aug19-15-08.h5'\n",
    "#file_path = '/global/cscratch1/sd/abbatej/run_results/model-conv2d_profiles-temp-dens_act-pinj-curr-tinj-gasA_targ-temp-dens_profLB-1_actLB-8_norm-StandardScaler_activ-relu_nshots-10000_10Aug19-12-29.h5'\n",
    "#file_path = '/global/cscratch1/sd/abbatej/run_results/model-conv2d_profiles-temp-dens_act-pinj-curr-tinj-gasA_targ-temp-dens_profLB-1_actLB-8_norm-StandardScaler_activ-relu_nshots-10000_11Aug19-12-26.h5'\n",
    "#Rory small: file_path = '/global/cscratch1/sd/abbatej/run_results/model-conv2d_profiles-temp-dens_act-pinj-curr-tinj-gasA_targ-temp-dens_profLB-1_actLB-8_norm-StandardScaler_activ-relu_nshots-1000_11Aug19-14-01.h5'\n",
    "model = keras.models.load_model(file_path, compile=False)\n",
    "print('loaded model: ' + file_path.split('/')[-1])\n",
    "file_path = file_path[:-3] + 'params.pkl'\n",
    "with open(file_path, 'rb') as f:\n",
    "     analysis_params = pickle.load(f, encoding='latin1')\n",
    "print('loaded dict: ' + file_path.split('/')[-1])\n",
    "print('with parameters: ' + str(analysis_params.keys()))\n"
   ]
  },
  {
   "cell_type": "code",
   "execution_count": null,
   "metadata": {},
   "outputs": [],
   "source": [
    "from IPython.display import SVG\n",
    "from keras.utils.vis_utils import model_to_dot\n",
    "SVG(model_to_dot(model,show_shapes=True,show_layer_names=True,rankdir='TB').create(prog='dot', format='svg'))"
   ]
  },
  {
   "cell_type": "code",
   "execution_count": null,
   "metadata": {},
   "outputs": [],
   "source": []
  },
  {
   "cell_type": "code",
   "execution_count": null,
   "metadata": {},
   "outputs": [],
   "source": []
  },
  {
   "cell_type": "markdown",
   "metadata": {},
   "source": [
    "# Sensitivity Analysis"
   ]
  },
  {
   "cell_type": "code",
   "execution_count": null,
   "metadata": {},
   "outputs": [],
   "source": [
    "shots = [173649]\n",
    "times = [6000]\n",
    "inputs, targets = train_generator.get_data_by_shot_time(shots,times)\n",
    "input_const = set_future_actuators(inputs, actuator_names, 0)\n",
    "pred_const = model.predict_on_batch(input_const)\n",
    "input_increasing = set_future_actuators(inputs, actuator_names, 0.5)\n",
    "pred_increasing = model.predict_on_batch(input_increasing)\n",
    "input_decreasing = set_future_actuators(inputs, actuator_names, -0.5)\n",
    "pred_decreasing = model.predict_on_batch(input_decreasing)"
   ]
  },
  {
   "cell_type": "code",
   "execution_count": null,
   "metadata": {},
   "outputs": [],
   "source": [
    "inputs['input_past_pinj']"
   ]
  },
  {
   "cell_type": "code",
   "execution_count": null,
   "metadata": {},
   "outputs": [],
   "source": []
  },
  {
   "cell_type": "markdown",
   "metadata": {},
   "source": [
    "# Full Run Processing"
   ]
  },
  {
   "cell_type": "code",
   "execution_count": 65,
   "metadata": {},
   "outputs": [
    {
     "name": "stdout",
     "output_type": "stream",
     "text": [
      "number of models: 102\n"
     ]
    }
   ],
   "source": [
    "base_path = os.path.expanduser('~/run_results/')\n",
    "files = os.listdir(base_path)\n",
    "model_files = [file for file in files if 'h5' in file]\n",
    "param_files = [file[:-3] + '_params.pkl' for file in model_files]\n",
    "num_models = len(model_files)\n",
    "print('number of models: ' + str(num_models))"
   ]
  },
  {
   "cell_type": "code",
   "execution_count": 66,
   "metadata": {},
   "outputs": [
    {
     "data": {
      "application/vnd.jupyter.widget-view+json": {
       "model_id": "af283abbdcc647028da9191e4ed3e80d",
       "version_major": 2,
       "version_minor": 0
      },
      "text/plain": [
       "HBox(children=(IntProgress(value=0, max=102), HTML(value='')))"
      ]
     },
     "metadata": {},
     "output_type": "display_data"
    },
    {
     "name": "stdout",
     "output_type": "stream",
     "text": [
      "\n"
     ]
    }
   ],
   "source": [
    "models = []\n",
    "params = []\n",
    "for modelname, paramsname in tqdm_notebook(zip(model_files,param_files), total=num_models):\n",
    "    models.append(keras.models.load_model(base_path+modelname, compile=False))\n",
    "    with open(base_path+paramsname, 'rb') as f:\n",
    "         params.append(pickle.load(f, encoding='latin1'))"
   ]
  },
  {
   "cell_type": "code",
   "execution_count": 91,
   "metadata": {},
   "outputs": [
    {
     "data": {
      "application/vnd.jupyter.widget-view+json": {
       "model_id": "b1165876578e4da0826a4bf129f41f88",
       "version_major": 2,
       "version_minor": 0
      },
      "text/plain": [
       "HBox(children=(IntProgress(value=0, max=102), HTML(value='')))"
      ]
     },
     "metadata": {},
     "output_type": "display_data"
    },
    {
     "data": {
      "application/vnd.jupyter.widget-view+json": {
       "model_id": "",
       "version_major": 2,
       "version_minor": 0
      },
      "text/plain": [
       "HBox(children=(IntProgress(value=0, max=1281), HTML(value='')))"
      ]
     },
     "metadata": {},
     "output_type": "display_data"
    },
    {
     "data": {
      "application/vnd.jupyter.widget-view+json": {
       "model_id": "",
       "version_major": 2,
       "version_minor": 0
      },
      "text/plain": [
       "HBox(children=(IntProgress(value=0, max=1281), HTML(value='')))"
      ]
     },
     "metadata": {},
     "output_type": "display_data"
    },
    {
     "data": {
      "application/vnd.jupyter.widget-view+json": {
       "model_id": "",
       "version_major": 2,
       "version_minor": 0
      },
      "text/plain": [
       "HBox(children=(IntProgress(value=0, max=1281), HTML(value='')))"
      ]
     },
     "metadata": {},
     "output_type": "display_data"
    },
    {
     "data": {
      "application/vnd.jupyter.widget-view+json": {
       "model_id": "",
       "version_major": 2,
       "version_minor": 0
      },
      "text/plain": [
       "HBox(children=(IntProgress(value=0, max=1281), HTML(value='')))"
      ]
     },
     "metadata": {},
     "output_type": "display_data"
    },
    {
     "data": {
      "application/vnd.jupyter.widget-view+json": {
       "model_id": "",
       "version_major": 2,
       "version_minor": 0
      },
      "text/plain": [
       "HBox(children=(IntProgress(value=0, max=1281), HTML(value='')))"
      ]
     },
     "metadata": {},
     "output_type": "display_data"
    },
    {
     "data": {
      "application/vnd.jupyter.widget-view+json": {
       "model_id": "",
       "version_major": 2,
       "version_minor": 0
      },
      "text/plain": [
       "HBox(children=(IntProgress(value=0, max=1281), HTML(value='')))"
      ]
     },
     "metadata": {},
     "output_type": "display_data"
    },
    {
     "data": {
      "application/vnd.jupyter.widget-view+json": {
       "model_id": "",
       "version_major": 2,
       "version_minor": 0
      },
      "text/plain": [
       "HBox(children=(IntProgress(value=0, max=1281), HTML(value='')))"
      ]
     },
     "metadata": {},
     "output_type": "display_data"
    },
    {
     "data": {
      "application/vnd.jupyter.widget-view+json": {
       "model_id": "",
       "version_major": 2,
       "version_minor": 0
      },
      "text/plain": [
       "HBox(children=(IntProgress(value=0, max=1281), HTML(value='')))"
      ]
     },
     "metadata": {},
     "output_type": "display_data"
    },
    {
     "data": {
      "application/vnd.jupyter.widget-view+json": {
       "model_id": "",
       "version_major": 2,
       "version_minor": 0
      },
      "text/plain": [
       "HBox(children=(IntProgress(value=0, max=1281), HTML(value='')))"
      ]
     },
     "metadata": {},
     "output_type": "display_data"
    },
    {
     "data": {
      "application/vnd.jupyter.widget-view+json": {
       "model_id": "",
       "version_major": 2,
       "version_minor": 0
      },
      "text/plain": [
       "HBox(children=(IntProgress(value=0, max=1281), HTML(value='')))"
      ]
     },
     "metadata": {},
     "output_type": "display_data"
    },
    {
     "data": {
      "application/vnd.jupyter.widget-view+json": {
       "model_id": "",
       "version_major": 2,
       "version_minor": 0
      },
      "text/plain": [
       "HBox(children=(IntProgress(value=0, max=1281), HTML(value='')))"
      ]
     },
     "metadata": {},
     "output_type": "display_data"
    },
    {
     "data": {
      "application/vnd.jupyter.widget-view+json": {
       "model_id": "",
       "version_major": 2,
       "version_minor": 0
      },
      "text/plain": [
       "HBox(children=(IntProgress(value=0, max=1281), HTML(value='')))"
      ]
     },
     "metadata": {},
     "output_type": "display_data"
    },
    {
     "data": {
      "application/vnd.jupyter.widget-view+json": {
       "model_id": "",
       "version_major": 2,
       "version_minor": 0
      },
      "text/plain": [
       "HBox(children=(IntProgress(value=0, max=1281), HTML(value='')))"
      ]
     },
     "metadata": {},
     "output_type": "display_data"
    },
    {
     "data": {
      "application/vnd.jupyter.widget-view+json": {
       "model_id": "",
       "version_major": 2,
       "version_minor": 0
      },
      "text/plain": [
       "HBox(children=(IntProgress(value=0, max=1281), HTML(value='')))"
      ]
     },
     "metadata": {},
     "output_type": "display_data"
    },
    {
     "data": {
      "application/vnd.jupyter.widget-view+json": {
       "model_id": "",
       "version_major": 2,
       "version_minor": 0
      },
      "text/plain": [
       "HBox(children=(IntProgress(value=0, max=1281), HTML(value='')))"
      ]
     },
     "metadata": {},
     "output_type": "display_data"
    },
    {
     "data": {
      "application/vnd.jupyter.widget-view+json": {
       "model_id": "",
       "version_major": 2,
       "version_minor": 0
      },
      "text/plain": [
       "HBox(children=(IntProgress(value=0, max=1281), HTML(value='')))"
      ]
     },
     "metadata": {},
     "output_type": "display_data"
    },
    {
     "data": {
      "application/vnd.jupyter.widget-view+json": {
       "model_id": "",
       "version_major": 2,
       "version_minor": 0
      },
      "text/plain": [
       "HBox(children=(IntProgress(value=0, max=1281), HTML(value='')))"
      ]
     },
     "metadata": {},
     "output_type": "display_data"
    },
    {
     "data": {
      "application/vnd.jupyter.widget-view+json": {
       "model_id": "",
       "version_major": 2,
       "version_minor": 0
      },
      "text/plain": [
       "HBox(children=(IntProgress(value=0, max=1281), HTML(value='')))"
      ]
     },
     "metadata": {},
     "output_type": "display_data"
    },
    {
     "data": {
      "application/vnd.jupyter.widget-view+json": {
       "model_id": "",
       "version_major": 2,
       "version_minor": 0
      },
      "text/plain": [
       "HBox(children=(IntProgress(value=0, max=1281), HTML(value='')))"
      ]
     },
     "metadata": {},
     "output_type": "display_data"
    },
    {
     "data": {
      "application/vnd.jupyter.widget-view+json": {
       "model_id": "",
       "version_major": 2,
       "version_minor": 0
      },
      "text/plain": [
       "HBox(children=(IntProgress(value=0, max=1281), HTML(value='')))"
      ]
     },
     "metadata": {},
     "output_type": "display_data"
    },
    {
     "data": {
      "application/vnd.jupyter.widget-view+json": {
       "model_id": "",
       "version_major": 2,
       "version_minor": 0
      },
      "text/plain": [
       "HBox(children=(IntProgress(value=0, max=1281), HTML(value='')))"
      ]
     },
     "metadata": {},
     "output_type": "display_data"
    },
    {
     "data": {
      "application/vnd.jupyter.widget-view+json": {
       "model_id": "",
       "version_major": 2,
       "version_minor": 0
      },
      "text/plain": [
       "HBox(children=(IntProgress(value=0, max=1281), HTML(value='')))"
      ]
     },
     "metadata": {},
     "output_type": "display_data"
    },
    {
     "data": {
      "application/vnd.jupyter.widget-view+json": {
       "model_id": "",
       "version_major": 2,
       "version_minor": 0
      },
      "text/plain": [
       "HBox(children=(IntProgress(value=0, max=1281), HTML(value='')))"
      ]
     },
     "metadata": {},
     "output_type": "display_data"
    },
    {
     "data": {
      "application/vnd.jupyter.widget-view+json": {
       "model_id": "",
       "version_major": 2,
       "version_minor": 0
      },
      "text/plain": [
       "HBox(children=(IntProgress(value=0, max=1281), HTML(value='')))"
      ]
     },
     "metadata": {},
     "output_type": "display_data"
    },
    {
     "data": {
      "application/vnd.jupyter.widget-view+json": {
       "model_id": "",
       "version_major": 2,
       "version_minor": 0
      },
      "text/plain": [
       "HBox(children=(IntProgress(value=0, max=1281), HTML(value='')))"
      ]
     },
     "metadata": {},
     "output_type": "display_data"
    },
    {
     "data": {
      "application/vnd.jupyter.widget-view+json": {
       "model_id": "",
       "version_major": 2,
       "version_minor": 0
      },
      "text/plain": [
       "HBox(children=(IntProgress(value=0, max=1281), HTML(value='')))"
      ]
     },
     "metadata": {},
     "output_type": "display_data"
    },
    {
     "data": {
      "application/vnd.jupyter.widget-view+json": {
       "model_id": "",
       "version_major": 2,
       "version_minor": 0
      },
      "text/plain": [
       "HBox(children=(IntProgress(value=0, max=1281), HTML(value='')))"
      ]
     },
     "metadata": {},
     "output_type": "display_data"
    },
    {
     "data": {
      "application/vnd.jupyter.widget-view+json": {
       "model_id": "",
       "version_major": 2,
       "version_minor": 0
      },
      "text/plain": [
       "HBox(children=(IntProgress(value=0, max=1281), HTML(value='')))"
      ]
     },
     "metadata": {},
     "output_type": "display_data"
    },
    {
     "data": {
      "application/vnd.jupyter.widget-view+json": {
       "model_id": "",
       "version_major": 2,
       "version_minor": 0
      },
      "text/plain": [
       "HBox(children=(IntProgress(value=0, max=1281), HTML(value='')))"
      ]
     },
     "metadata": {},
     "output_type": "display_data"
    },
    {
     "data": {
      "application/vnd.jupyter.widget-view+json": {
       "model_id": "",
       "version_major": 2,
       "version_minor": 0
      },
      "text/plain": [
       "HBox(children=(IntProgress(value=0, max=1281), HTML(value='')))"
      ]
     },
     "metadata": {},
     "output_type": "display_data"
    },
    {
     "data": {
      "application/vnd.jupyter.widget-view+json": {
       "model_id": "",
       "version_major": 2,
       "version_minor": 0
      },
      "text/plain": [
       "HBox(children=(IntProgress(value=0, max=1281), HTML(value='')))"
      ]
     },
     "metadata": {},
     "output_type": "display_data"
    },
    {
     "data": {
      "application/vnd.jupyter.widget-view+json": {
       "model_id": "",
       "version_major": 2,
       "version_minor": 0
      },
      "text/plain": [
       "HBox(children=(IntProgress(value=0, max=1281), HTML(value='')))"
      ]
     },
     "metadata": {},
     "output_type": "display_data"
    },
    {
     "data": {
      "application/vnd.jupyter.widget-view+json": {
       "model_id": "",
       "version_major": 2,
       "version_minor": 0
      },
      "text/plain": [
       "HBox(children=(IntProgress(value=0, max=1281), HTML(value='')))"
      ]
     },
     "metadata": {},
     "output_type": "display_data"
    },
    {
     "data": {
      "application/vnd.jupyter.widget-view+json": {
       "model_id": "",
       "version_major": 2,
       "version_minor": 0
      },
      "text/plain": [
       "HBox(children=(IntProgress(value=0, max=1281), HTML(value='')))"
      ]
     },
     "metadata": {},
     "output_type": "display_data"
    },
    {
     "data": {
      "application/vnd.jupyter.widget-view+json": {
       "model_id": "",
       "version_major": 2,
       "version_minor": 0
      },
      "text/plain": [
       "HBox(children=(IntProgress(value=0, max=1281), HTML(value='')))"
      ]
     },
     "metadata": {},
     "output_type": "display_data"
    },
    {
     "data": {
      "application/vnd.jupyter.widget-view+json": {
       "model_id": "",
       "version_major": 2,
       "version_minor": 0
      },
      "text/plain": [
       "HBox(children=(IntProgress(value=0, max=1281), HTML(value='')))"
      ]
     },
     "metadata": {},
     "output_type": "display_data"
    },
    {
     "data": {
      "application/vnd.jupyter.widget-view+json": {
       "model_id": "",
       "version_major": 2,
       "version_minor": 0
      },
      "text/plain": [
       "HBox(children=(IntProgress(value=0, max=1281), HTML(value='')))"
      ]
     },
     "metadata": {},
     "output_type": "display_data"
    },
    {
     "data": {
      "application/vnd.jupyter.widget-view+json": {
       "model_id": "",
       "version_major": 2,
       "version_minor": 0
      },
      "text/plain": [
       "HBox(children=(IntProgress(value=0, max=1281), HTML(value='')))"
      ]
     },
     "metadata": {},
     "output_type": "display_data"
    },
    {
     "data": {
      "application/vnd.jupyter.widget-view+json": {
       "model_id": "",
       "version_major": 2,
       "version_minor": 0
      },
      "text/plain": [
       "HBox(children=(IntProgress(value=0, max=1281), HTML(value='')))"
      ]
     },
     "metadata": {},
     "output_type": "display_data"
    },
    {
     "data": {
      "application/vnd.jupyter.widget-view+json": {
       "model_id": "",
       "version_major": 2,
       "version_minor": 0
      },
      "text/plain": [
       "HBox(children=(IntProgress(value=0, max=1281), HTML(value='')))"
      ]
     },
     "metadata": {},
     "output_type": "display_data"
    },
    {
     "data": {
      "application/vnd.jupyter.widget-view+json": {
       "model_id": "",
       "version_major": 2,
       "version_minor": 0
      },
      "text/plain": [
       "HBox(children=(IntProgress(value=0, max=1281), HTML(value='')))"
      ]
     },
     "metadata": {},
     "output_type": "display_data"
    },
    {
     "data": {
      "application/vnd.jupyter.widget-view+json": {
       "model_id": "",
       "version_major": 2,
       "version_minor": 0
      },
      "text/plain": [
       "HBox(children=(IntProgress(value=0, max=1281), HTML(value='')))"
      ]
     },
     "metadata": {},
     "output_type": "display_data"
    },
    {
     "data": {
      "application/vnd.jupyter.widget-view+json": {
       "model_id": "",
       "version_major": 2,
       "version_minor": 0
      },
      "text/plain": [
       "HBox(children=(IntProgress(value=0, max=1281), HTML(value='')))"
      ]
     },
     "metadata": {},
     "output_type": "display_data"
    },
    {
     "data": {
      "application/vnd.jupyter.widget-view+json": {
       "model_id": "",
       "version_major": 2,
       "version_minor": 0
      },
      "text/plain": [
       "HBox(children=(IntProgress(value=0, max=1281), HTML(value='')))"
      ]
     },
     "metadata": {},
     "output_type": "display_data"
    },
    {
     "data": {
      "application/vnd.jupyter.widget-view+json": {
       "model_id": "",
       "version_major": 2,
       "version_minor": 0
      },
      "text/plain": [
       "HBox(children=(IntProgress(value=0, max=1281), HTML(value='')))"
      ]
     },
     "metadata": {},
     "output_type": "display_data"
    },
    {
     "data": {
      "application/vnd.jupyter.widget-view+json": {
       "model_id": "",
       "version_major": 2,
       "version_minor": 0
      },
      "text/plain": [
       "HBox(children=(IntProgress(value=0, max=1281), HTML(value='')))"
      ]
     },
     "metadata": {},
     "output_type": "display_data"
    },
    {
     "data": {
      "application/vnd.jupyter.widget-view+json": {
       "model_id": "",
       "version_major": 2,
       "version_minor": 0
      },
      "text/plain": [
       "HBox(children=(IntProgress(value=0, max=1281), HTML(value='')))"
      ]
     },
     "metadata": {},
     "output_type": "display_data"
    },
    {
     "data": {
      "application/vnd.jupyter.widget-view+json": {
       "model_id": "",
       "version_major": 2,
       "version_minor": 0
      },
      "text/plain": [
       "HBox(children=(IntProgress(value=0, max=1281), HTML(value='')))"
      ]
     },
     "metadata": {},
     "output_type": "display_data"
    },
    {
     "data": {
      "application/vnd.jupyter.widget-view+json": {
       "model_id": "",
       "version_major": 2,
       "version_minor": 0
      },
      "text/plain": [
       "HBox(children=(IntProgress(value=0, max=1281), HTML(value='')))"
      ]
     },
     "metadata": {},
     "output_type": "display_data"
    },
    {
     "data": {
      "application/vnd.jupyter.widget-view+json": {
       "model_id": "",
       "version_major": 2,
       "version_minor": 0
      },
      "text/plain": [
       "HBox(children=(IntProgress(value=0, max=1281), HTML(value='')))"
      ]
     },
     "metadata": {},
     "output_type": "display_data"
    },
    {
     "data": {
      "application/vnd.jupyter.widget-view+json": {
       "model_id": "",
       "version_major": 2,
       "version_minor": 0
      },
      "text/plain": [
       "HBox(children=(IntProgress(value=0, max=1281), HTML(value='')))"
      ]
     },
     "metadata": {},
     "output_type": "display_data"
    },
    {
     "data": {
      "application/vnd.jupyter.widget-view+json": {
       "model_id": "",
       "version_major": 2,
       "version_minor": 0
      },
      "text/plain": [
       "HBox(children=(IntProgress(value=0, max=1281), HTML(value='')))"
      ]
     },
     "metadata": {},
     "output_type": "display_data"
    },
    {
     "data": {
      "application/vnd.jupyter.widget-view+json": {
       "model_id": "",
       "version_major": 2,
       "version_minor": 0
      },
      "text/plain": [
       "HBox(children=(IntProgress(value=0, max=1281), HTML(value='')))"
      ]
     },
     "metadata": {},
     "output_type": "display_data"
    },
    {
     "data": {
      "application/vnd.jupyter.widget-view+json": {
       "model_id": "",
       "version_major": 2,
       "version_minor": 0
      },
      "text/plain": [
       "HBox(children=(IntProgress(value=0, max=1281), HTML(value='')))"
      ]
     },
     "metadata": {},
     "output_type": "display_data"
    },
    {
     "data": {
      "application/vnd.jupyter.widget-view+json": {
       "model_id": "",
       "version_major": 2,
       "version_minor": 0
      },
      "text/plain": [
       "HBox(children=(IntProgress(value=0, max=1281), HTML(value='')))"
      ]
     },
     "metadata": {},
     "output_type": "display_data"
    },
    {
     "data": {
      "application/vnd.jupyter.widget-view+json": {
       "model_id": "",
       "version_major": 2,
       "version_minor": 0
      },
      "text/plain": [
       "HBox(children=(IntProgress(value=0, max=1281), HTML(value='')))"
      ]
     },
     "metadata": {},
     "output_type": "display_data"
    },
    {
     "data": {
      "application/vnd.jupyter.widget-view+json": {
       "model_id": "",
       "version_major": 2,
       "version_minor": 0
      },
      "text/plain": [
       "HBox(children=(IntProgress(value=0, max=1281), HTML(value='')))"
      ]
     },
     "metadata": {},
     "output_type": "display_data"
    },
    {
     "data": {
      "application/vnd.jupyter.widget-view+json": {
       "model_id": "",
       "version_major": 2,
       "version_minor": 0
      },
      "text/plain": [
       "HBox(children=(IntProgress(value=0, max=1281), HTML(value='')))"
      ]
     },
     "metadata": {},
     "output_type": "display_data"
    },
    {
     "data": {
      "application/vnd.jupyter.widget-view+json": {
       "model_id": "",
       "version_major": 2,
       "version_minor": 0
      },
      "text/plain": [
       "HBox(children=(IntProgress(value=0, max=1281), HTML(value='')))"
      ]
     },
     "metadata": {},
     "output_type": "display_data"
    },
    {
     "data": {
      "application/vnd.jupyter.widget-view+json": {
       "model_id": "",
       "version_major": 2,
       "version_minor": 0
      },
      "text/plain": [
       "HBox(children=(IntProgress(value=0, max=1281), HTML(value='')))"
      ]
     },
     "metadata": {},
     "output_type": "display_data"
    },
    {
     "data": {
      "application/vnd.jupyter.widget-view+json": {
       "model_id": "",
       "version_major": 2,
       "version_minor": 0
      },
      "text/plain": [
       "HBox(children=(IntProgress(value=0, max=1281), HTML(value='')))"
      ]
     },
     "metadata": {},
     "output_type": "display_data"
    },
    {
     "data": {
      "application/vnd.jupyter.widget-view+json": {
       "model_id": "",
       "version_major": 2,
       "version_minor": 0
      },
      "text/plain": [
       "HBox(children=(IntProgress(value=0, max=1281), HTML(value='')))"
      ]
     },
     "metadata": {},
     "output_type": "display_data"
    },
    {
     "data": {
      "application/vnd.jupyter.widget-view+json": {
       "model_id": "",
       "version_major": 2,
       "version_minor": 0
      },
      "text/plain": [
       "HBox(children=(IntProgress(value=0, max=1281), HTML(value='')))"
      ]
     },
     "metadata": {},
     "output_type": "display_data"
    },
    {
     "data": {
      "application/vnd.jupyter.widget-view+json": {
       "model_id": "",
       "version_major": 2,
       "version_minor": 0
      },
      "text/plain": [
       "HBox(children=(IntProgress(value=0, max=1281), HTML(value='')))"
      ]
     },
     "metadata": {},
     "output_type": "display_data"
    },
    {
     "data": {
      "application/vnd.jupyter.widget-view+json": {
       "model_id": "",
       "version_major": 2,
       "version_minor": 0
      },
      "text/plain": [
       "HBox(children=(IntProgress(value=0, max=1281), HTML(value='')))"
      ]
     },
     "metadata": {},
     "output_type": "display_data"
    },
    {
     "data": {
      "application/vnd.jupyter.widget-view+json": {
       "model_id": "",
       "version_major": 2,
       "version_minor": 0
      },
      "text/plain": [
       "HBox(children=(IntProgress(value=0, max=1281), HTML(value='')))"
      ]
     },
     "metadata": {},
     "output_type": "display_data"
    },
    {
     "data": {
      "application/vnd.jupyter.widget-view+json": {
       "model_id": "",
       "version_major": 2,
       "version_minor": 0
      },
      "text/plain": [
       "HBox(children=(IntProgress(value=0, max=1281), HTML(value='')))"
      ]
     },
     "metadata": {},
     "output_type": "display_data"
    },
    {
     "data": {
      "application/vnd.jupyter.widget-view+json": {
       "model_id": "",
       "version_major": 2,
       "version_minor": 0
      },
      "text/plain": [
       "HBox(children=(IntProgress(value=0, max=1281), HTML(value='')))"
      ]
     },
     "metadata": {},
     "output_type": "display_data"
    },
    {
     "data": {
      "application/vnd.jupyter.widget-view+json": {
       "model_id": "",
       "version_major": 2,
       "version_minor": 0
      },
      "text/plain": [
       "HBox(children=(IntProgress(value=0, max=1281), HTML(value='')))"
      ]
     },
     "metadata": {},
     "output_type": "display_data"
    },
    {
     "data": {
      "application/vnd.jupyter.widget-view+json": {
       "model_id": "",
       "version_major": 2,
       "version_minor": 0
      },
      "text/plain": [
       "HBox(children=(IntProgress(value=0, max=1281), HTML(value='')))"
      ]
     },
     "metadata": {},
     "output_type": "display_data"
    },
    {
     "data": {
      "application/vnd.jupyter.widget-view+json": {
       "model_id": "",
       "version_major": 2,
       "version_minor": 0
      },
      "text/plain": [
       "HBox(children=(IntProgress(value=0, max=1281), HTML(value='')))"
      ]
     },
     "metadata": {},
     "output_type": "display_data"
    },
    {
     "data": {
      "application/vnd.jupyter.widget-view+json": {
       "model_id": "",
       "version_major": 2,
       "version_minor": 0
      },
      "text/plain": [
       "HBox(children=(IntProgress(value=0, max=1281), HTML(value='')))"
      ]
     },
     "metadata": {},
     "output_type": "display_data"
    },
    {
     "data": {
      "application/vnd.jupyter.widget-view+json": {
       "model_id": "",
       "version_major": 2,
       "version_minor": 0
      },
      "text/plain": [
       "HBox(children=(IntProgress(value=0, max=1281), HTML(value='')))"
      ]
     },
     "metadata": {},
     "output_type": "display_data"
    },
    {
     "data": {
      "application/vnd.jupyter.widget-view+json": {
       "model_id": "",
       "version_major": 2,
       "version_minor": 0
      },
      "text/plain": [
       "HBox(children=(IntProgress(value=0, max=1281), HTML(value='')))"
      ]
     },
     "metadata": {},
     "output_type": "display_data"
    },
    {
     "data": {
      "application/vnd.jupyter.widget-view+json": {
       "model_id": "",
       "version_major": 2,
       "version_minor": 0
      },
      "text/plain": [
       "HBox(children=(IntProgress(value=0, max=1281), HTML(value='')))"
      ]
     },
     "metadata": {},
     "output_type": "display_data"
    },
    {
     "data": {
      "application/vnd.jupyter.widget-view+json": {
       "model_id": "",
       "version_major": 2,
       "version_minor": 0
      },
      "text/plain": [
       "HBox(children=(IntProgress(value=0, max=1281), HTML(value='')))"
      ]
     },
     "metadata": {},
     "output_type": "display_data"
    },
    {
     "data": {
      "application/vnd.jupyter.widget-view+json": {
       "model_id": "",
       "version_major": 2,
       "version_minor": 0
      },
      "text/plain": [
       "HBox(children=(IntProgress(value=0, max=1281), HTML(value='')))"
      ]
     },
     "metadata": {},
     "output_type": "display_data"
    },
    {
     "data": {
      "application/vnd.jupyter.widget-view+json": {
       "model_id": "",
       "version_major": 2,
       "version_minor": 0
      },
      "text/plain": [
       "HBox(children=(IntProgress(value=0, max=1281), HTML(value='')))"
      ]
     },
     "metadata": {},
     "output_type": "display_data"
    },
    {
     "data": {
      "application/vnd.jupyter.widget-view+json": {
       "model_id": "",
       "version_major": 2,
       "version_minor": 0
      },
      "text/plain": [
       "HBox(children=(IntProgress(value=0, max=1281), HTML(value='')))"
      ]
     },
     "metadata": {},
     "output_type": "display_data"
    },
    {
     "data": {
      "application/vnd.jupyter.widget-view+json": {
       "model_id": "",
       "version_major": 2,
       "version_minor": 0
      },
      "text/plain": [
       "HBox(children=(IntProgress(value=0, max=1281), HTML(value='')))"
      ]
     },
     "metadata": {},
     "output_type": "display_data"
    },
    {
     "data": {
      "application/vnd.jupyter.widget-view+json": {
       "model_id": "",
       "version_major": 2,
       "version_minor": 0
      },
      "text/plain": [
       "HBox(children=(IntProgress(value=0, max=1281), HTML(value='')))"
      ]
     },
     "metadata": {},
     "output_type": "display_data"
    },
    {
     "data": {
      "application/vnd.jupyter.widget-view+json": {
       "model_id": "",
       "version_major": 2,
       "version_minor": 0
      },
      "text/plain": [
       "HBox(children=(IntProgress(value=0, max=1281), HTML(value='')))"
      ]
     },
     "metadata": {},
     "output_type": "display_data"
    },
    {
     "data": {
      "application/vnd.jupyter.widget-view+json": {
       "model_id": "",
       "version_major": 2,
       "version_minor": 0
      },
      "text/plain": [
       "HBox(children=(IntProgress(value=0, max=1281), HTML(value='')))"
      ]
     },
     "metadata": {},
     "output_type": "display_data"
    },
    {
     "data": {
      "application/vnd.jupyter.widget-view+json": {
       "model_id": "",
       "version_major": 2,
       "version_minor": 0
      },
      "text/plain": [
       "HBox(children=(IntProgress(value=0, max=1281), HTML(value='')))"
      ]
     },
     "metadata": {},
     "output_type": "display_data"
    },
    {
     "data": {
      "application/vnd.jupyter.widget-view+json": {
       "model_id": "",
       "version_major": 2,
       "version_minor": 0
      },
      "text/plain": [
       "HBox(children=(IntProgress(value=0, max=1281), HTML(value='')))"
      ]
     },
     "metadata": {},
     "output_type": "display_data"
    },
    {
     "data": {
      "application/vnd.jupyter.widget-view+json": {
       "model_id": "",
       "version_major": 2,
       "version_minor": 0
      },
      "text/plain": [
       "HBox(children=(IntProgress(value=0, max=1281), HTML(value='')))"
      ]
     },
     "metadata": {},
     "output_type": "display_data"
    },
    {
     "data": {
      "application/vnd.jupyter.widget-view+json": {
       "model_id": "",
       "version_major": 2,
       "version_minor": 0
      },
      "text/plain": [
       "HBox(children=(IntProgress(value=0, max=1281), HTML(value='')))"
      ]
     },
     "metadata": {},
     "output_type": "display_data"
    },
    {
     "data": {
      "application/vnd.jupyter.widget-view+json": {
       "model_id": "",
       "version_major": 2,
       "version_minor": 0
      },
      "text/plain": [
       "HBox(children=(IntProgress(value=0, max=1281), HTML(value='')))"
      ]
     },
     "metadata": {},
     "output_type": "display_data"
    },
    {
     "data": {
      "application/vnd.jupyter.widget-view+json": {
       "model_id": "",
       "version_major": 2,
       "version_minor": 0
      },
      "text/plain": [
       "HBox(children=(IntProgress(value=0, max=1281), HTML(value='')))"
      ]
     },
     "metadata": {},
     "output_type": "display_data"
    },
    {
     "data": {
      "application/vnd.jupyter.widget-view+json": {
       "model_id": "",
       "version_major": 2,
       "version_minor": 0
      },
      "text/plain": [
       "HBox(children=(IntProgress(value=0, max=1281), HTML(value='')))"
      ]
     },
     "metadata": {},
     "output_type": "display_data"
    },
    {
     "data": {
      "application/vnd.jupyter.widget-view+json": {
       "model_id": "",
       "version_major": 2,
       "version_minor": 0
      },
      "text/plain": [
       "HBox(children=(IntProgress(value=0, max=1281), HTML(value='')))"
      ]
     },
     "metadata": {},
     "output_type": "display_data"
    },
    {
     "data": {
      "application/vnd.jupyter.widget-view+json": {
       "model_id": "",
       "version_major": 2,
       "version_minor": 0
      },
      "text/plain": [
       "HBox(children=(IntProgress(value=0, max=1281), HTML(value='')))"
      ]
     },
     "metadata": {},
     "output_type": "display_data"
    },
    {
     "data": {
      "application/vnd.jupyter.widget-view+json": {
       "model_id": "",
       "version_major": 2,
       "version_minor": 0
      },
      "text/plain": [
       "HBox(children=(IntProgress(value=0, max=1281), HTML(value='')))"
      ]
     },
     "metadata": {},
     "output_type": "display_data"
    },
    {
     "data": {
      "application/vnd.jupyter.widget-view+json": {
       "model_id": "",
       "version_major": 2,
       "version_minor": 0
      },
      "text/plain": [
       "HBox(children=(IntProgress(value=0, max=1281), HTML(value='')))"
      ]
     },
     "metadata": {},
     "output_type": "display_data"
    },
    {
     "data": {
      "application/vnd.jupyter.widget-view+json": {
       "model_id": "",
       "version_major": 2,
       "version_minor": 0
      },
      "text/plain": [
       "HBox(children=(IntProgress(value=0, max=1281), HTML(value='')))"
      ]
     },
     "metadata": {},
     "output_type": "display_data"
    },
    {
     "data": {
      "application/vnd.jupyter.widget-view+json": {
       "model_id": "",
       "version_major": 2,
       "version_minor": 0
      },
      "text/plain": [
       "HBox(children=(IntProgress(value=0, max=1281), HTML(value='')))"
      ]
     },
     "metadata": {},
     "output_type": "display_data"
    },
    {
     "data": {
      "application/vnd.jupyter.widget-view+json": {
       "model_id": "",
       "version_major": 2,
       "version_minor": 0
      },
      "text/plain": [
       "HBox(children=(IntProgress(value=0, max=1281), HTML(value='')))"
      ]
     },
     "metadata": {},
     "output_type": "display_data"
    },
    {
     "data": {
      "application/vnd.jupyter.widget-view+json": {
       "model_id": "",
       "version_major": 2,
       "version_minor": 0
      },
      "text/plain": [
       "HBox(children=(IntProgress(value=0, max=1281), HTML(value='')))"
      ]
     },
     "metadata": {},
     "output_type": "display_data"
    },
    {
     "data": {
      "application/vnd.jupyter.widget-view+json": {
       "model_id": "",
       "version_major": 2,
       "version_minor": 0
      },
      "text/plain": [
       "HBox(children=(IntProgress(value=0, max=1281), HTML(value='')))"
      ]
     },
     "metadata": {},
     "output_type": "display_data"
    },
    {
     "data": {
      "application/vnd.jupyter.widget-view+json": {
       "model_id": "",
       "version_major": 2,
       "version_minor": 0
      },
      "text/plain": [
       "HBox(children=(IntProgress(value=0, max=1281), HTML(value='')))"
      ]
     },
     "metadata": {},
     "output_type": "display_data"
    },
    {
     "data": {
      "application/vnd.jupyter.widget-view+json": {
       "model_id": "",
       "version_major": 2,
       "version_minor": 0
      },
      "text/plain": [
       "HBox(children=(IntProgress(value=0, max=1281), HTML(value='')))"
      ]
     },
     "metadata": {},
     "output_type": "display_data"
    },
    {
     "data": {
      "application/vnd.jupyter.widget-view+json": {
       "model_id": "",
       "version_major": 2,
       "version_minor": 0
      },
      "text/plain": [
       "HBox(children=(IntProgress(value=0, max=1281), HTML(value='')))"
      ]
     },
     "metadata": {},
     "output_type": "display_data"
    }
   ],
   "source": [
    "sign_acc = {'temp': [], 'dens':[]}\n",
    "threshold = .1\n",
    "ftop_filepath_base = '/scratch/gpfs/jabbate/data_60_ms_randomized_flattop/'\n",
    "for model, scenario in tqdm_notebook(zip(models,params), total=num_models, position=0):\n",
    "    with open(os.path.join(ftop_filepath_base, 'val.pkl'), 'rb') as f:\n",
    "        valdata = pickle.load(f)\n",
    "    val_generator = DataGenerator(valdata,\n",
    "                                  1,\n",
    "                                  scenario['input_profile_names'],\n",
    "                                  scenario['actuator_names'],\n",
    "                                  scenario['target_profile_names'],\n",
    "                                  scenario['scalar_input_names'],\n",
    "                                  scenario['lookbacks'],\n",
    "                                  scenario['lookahead'],\n",
    "                                  scenario['predict_deltas'],\n",
    "                                  scenario['profile_downsample'],\n",
    "                                  scenario['shuffle_generators'])\n",
    "    temp_sign_acc = []\n",
    "    dens_sign_acc = []\n",
    "    for i in tqdm_notebook(range(int(len(val_generator)/100)), position=1, leave=False):\n",
    "        inputs, targets = val_generator[i]\n",
    "        pred = model.predict_on_batch(inputs)\n",
    "        predictions = {}\n",
    "        for i, sig in enumerate(scenario['target_profile_names']):\n",
    "            predictions['target_'+sig] = pred[i]\n",
    "        if not scenario['predict_deltas']:\n",
    "            delta_true, delta_pred = get_deltas(inputs, targets, scenario['target_profile_names'], predictions)\n",
    "        else:\n",
    "            delta_true = targets\n",
    "            delta_pred = predictions\n",
    "        foo = hinge_loss(delta_true,delta_pred, threshold)\n",
    "        temp_sign_acc.append(foo['target_temp'])\n",
    "        dens_sign_acc.append(foo['target_dens'])\n",
    "    sign_acc['temp'].append(np.nanmean(temp_sign_acc))\n",
    "    sign_acc['dens'].append(np.nanmean(dens_sign_acc))\n",
    "\n",
    "        \n",
    "        \n",
    "    \n",
    "    \n",
    "    "
   ]
  },
  {
   "cell_type": "code",
   "execution_count": 94,
   "metadata": {},
   "outputs": [
    {
     "data": {
      "text/plain": [
       "0.7975265475265475"
      ]
     },
     "execution_count": 94,
     "metadata": {},
     "output_type": "execute_result"
    }
   ],
   "source": [
    "np.max(sign_acc['dens'])"
   ]
  },
  {
   "cell_type": "code",
   "execution_count": 95,
   "metadata": {},
   "outputs": [
    {
     "data": {
      "text/plain": [
       "12"
      ]
     },
     "execution_count": 95,
     "metadata": {},
     "output_type": "execute_result"
    }
   ],
   "source": [
    "np.argmax(sign_acc['dens'])"
   ]
  },
  {
   "cell_type": "code",
   "execution_count": 96,
   "metadata": {},
   "outputs": [
    {
     "data": {
      "text/plain": [
       "{'model_type': 'conv2d',\n",
       " 'epochs': 100,\n",
       " 'model_kwargs': {'max_channels': 64},\n",
       " 'actuator_names': ['pinj', 'curr', 'tinj', 'gasA'],\n",
       " 'scalar_input_names': [],\n",
       " 'flattop_only': True,\n",
       " 'input_profile_names': ['temp', 'dens'],\n",
       " 'target_profile_names': ['temp', 'dens'],\n",
       " 'batch_size': 128,\n",
       " 'predict_deltas': False,\n",
       " 'processed_filename_base': '/scratch/gpfs/jabbate/data_60_ms_randomized_flattop/',\n",
       " 'normalization_dict': {'curr': {'nanmean': 843946.2390728785,\n",
       "   'method': 'RobustScaler',\n",
       "   'median': 993414.8958333334,\n",
       "   'iqr': 404358.2291666666},\n",
       "  'dens': {'nanmean': array([5.2486587 , 5.2453074 , 5.2368107 , 5.223216  , 5.2056646 ,\n",
       "          5.1847086 , 5.1608973 , 5.1348605 , 5.106694  , 5.0769434 ,\n",
       "          5.0455556 , 5.012879  , 4.9789305 , 4.943857  , 4.9077783 ,\n",
       "          4.8707128 , 4.8328533 , 4.794133  , 4.7547617 , 4.7147164 ,\n",
       "          4.674113  , 4.632993  , 4.5914083 , 4.549442  , 4.507101  ,\n",
       "          4.4644856 , 4.4216003 , 4.3785224 , 4.335278  , 4.2919135 ,\n",
       "          4.248469  , 4.204977  , 4.161475  , 4.117999  , 4.074574  ,\n",
       "          4.0312386 , 3.9880161 , 3.9449372 , 3.9020371 , 3.8593295 ,\n",
       "          3.8168752 , 3.7746692 , 3.7327914 , 3.6912417 , 3.650087  ,\n",
       "          3.6093633 , 3.5690966 , 3.5293574 , 3.490092  , 3.451359  ,\n",
       "          3.4129753 , 3.3747659 , 3.3362873 , 3.2968416 , 3.255053  ,\n",
       "          3.2092447 , 3.1548283 , 3.0870132 , 2.9898708 , 2.8411705 ,\n",
       "          2.58665   , 2.1675205 , 1.6364181 , 1.1620655 , 0.82391226],\n",
       "         dtype=float32),\n",
       "   'method': 'RobustScaler',\n",
       "   'median': array(3.8207545, dtype=float32),\n",
       "   'iqr': array(2.6032012, dtype=float32)},\n",
       "  'density_estimate': {'nanmean': 4.009064837593927,\n",
       "   'method': 'RobustScaler',\n",
       "   'median': 3.8753320376078286,\n",
       "   'iqr': 2.250439008076986},\n",
       "  'gasA': {'nanmean': 1.0627480524850275,\n",
       "   'method': 'RobustScaler',\n",
       "   'median': 0.10082860539356868,\n",
       "   'iqr': 1.6502687378476064},\n",
       "  'gasB': {'nanmean': 0.060969379498120146,\n",
       "   'method': 'RobustScaler',\n",
       "   'median': -0.0005199413668985168,\n",
       "   'iqr': 0.005201489664614201},\n",
       "  'gasC': {'nanmean': 0.057938338975791905,\n",
       "   'method': 'RobustScaler',\n",
       "   'median': -0.00045309890507875633,\n",
       "   'iqr': 0.00448152640213569},\n",
       "  'gasD': {'nanmean': 0.023767291736136065,\n",
       "   'method': 'RobustScaler',\n",
       "   'median': -0.00046375231083099305,\n",
       "   'iqr': 0.004279648885130882},\n",
       "  'gas_feedback': {'nanmean': 0.848497442494044,\n",
       "   'method': 'RobustScaler',\n",
       "   'median': 1.0,\n",
       "   'iqr': 0.0},\n",
       "  'pinj': {'nanmean': 4623.6945857991805,\n",
       "   'method': 'RobustScaler',\n",
       "   'median': 4361.865315755208,\n",
       "   'iqr': 3590.9274902343745},\n",
       "  'target_density': {'nanmean': 3.180996219180885,\n",
       "   'method': 'RobustScaler',\n",
       "   'median': 2.9570459524790444,\n",
       "   'iqr': 1.995119015375773},\n",
       "  'temp': {'nanmean': array([2.9039266 , 2.901884  , 2.8964942 , 2.887411  , 2.8750293 ,\n",
       "          2.8593771 , 2.8405056 , 2.8187692 , 2.7939246 , 2.766534  ,\n",
       "          2.7363117 , 2.7037246 , 2.6687083 , 2.6314633 , 2.5921688 ,\n",
       "          2.550811  , 2.507761  , 2.4628432 , 2.4164913 , 2.3686428 ,\n",
       "          2.319547  , 2.2692993 , 2.2180185 , 2.165904  , 2.112996  ,\n",
       "          2.0595315 , 2.0055616 , 1.9512786 , 1.8967859 , 1.8422264 ,\n",
       "          1.7877203 , 1.7334117 , 1.6793861 , 1.6258372 , 1.5728009 ,\n",
       "          1.5204636 , 1.4688885 , 1.4181963 , 1.36852   , 1.3198694 ,\n",
       "          1.2724838 , 1.2262574 , 1.1814609 , 1.137986  , 1.0959885 ,\n",
       "          1.0554707 , 1.0164138 , 0.9789351 , 0.94282436, 0.9082902 ,\n",
       "          0.8749893 , 0.8429401 , 0.8117926 , 0.7811772 , 0.7503057 ,\n",
       "          0.71806467, 0.6819083 , 0.6392189 , 0.5823722 , 0.502503  ,\n",
       "          0.3865746 , 0.24978916, 0.1358141 , 0.07034609, 0.03648655],\n",
       "         dtype=float32),\n",
       "   'method': 'RobustScaler',\n",
       "   'median': array(1.5230068, dtype=float32),\n",
       "   'iqr': array(1.588726, dtype=float32)},\n",
       "  'thomson_dens_EFITRT1': {'nanmean': array([5.26625046e+19, 5.21751999e+19, 5.10376716e+19, 5.00741056e+19,\n",
       "          4.90834115e+19, 4.83474336e+19, 4.76947076e+19, 4.64906089e+19,\n",
       "          4.51948530e+19, 4.42637770e+19, 4.35880873e+19, 4.28615380e+19,\n",
       "          4.25869560e+19, 4.24914408e+19, 4.24828667e+19, 4.27760798e+19,\n",
       "          4.31803907e+19, 4.34907498e+19, 4.35074151e+19, 4.34571096e+19,\n",
       "          4.34291004e+19, 4.32944056e+19, 4.30606023e+19, 4.28027654e+19,\n",
       "          4.25242766e+19, 4.22334445e+19, 4.19347701e+19, 4.16522353e+19,\n",
       "          4.13656317e+19, 4.10460202e+19, 4.06769782e+19, 4.02937040e+19,\n",
       "          3.99486873e+19, 3.96416789e+19, 3.93081499e+19, 3.89597554e+19,\n",
       "          3.85934732e+19, 3.82384014e+19, 3.79312533e+19, 3.76341122e+19,\n",
       "          3.73600326e+19, 3.71123452e+19, 3.68330619e+19, 3.65058802e+19,\n",
       "          3.61799435e+19, 3.58648420e+19, 3.55917719e+19, 3.53074121e+19,\n",
       "          3.49479669e+19, 3.45217367e+19, 3.40382373e+19, 3.35254285e+19,\n",
       "          3.30907366e+19, 3.26352466e+19, 3.21310448e+19, 3.16656934e+19,\n",
       "          3.12391734e+19, 3.08305509e+19, 3.02558449e+19, 2.92576987e+19,\n",
       "          2.74439877e+19, 2.39112907e+19, 1.84340737e+19, 1.27888502e+19,\n",
       "          9.04638863e+18]),\n",
       "   'method': 'RobustScaler',\n",
       "   'median': 3.6262620377446023e+19,\n",
       "   'iqr': 2.51329290068749e+19},\n",
       "  'thomson_temp_EFITRT1': {'nanmean': array([3003.60203228, 2806.27948599, 2712.53074157, 2665.43735338,\n",
       "          2621.90089167, 2584.32908969, 2538.85976997, 2465.79068874,\n",
       "          2379.7207992 , 2305.8422007 , 2248.20884165, 2198.05929886,\n",
       "          2154.63600891, 2118.81453628, 2089.21104053, 2070.28785674,\n",
       "          2057.26617246, 2036.22782118, 2003.98714761, 1970.8509718 ,\n",
       "          1939.08424788, 1903.14704419, 1864.87601909, 1825.62243898,\n",
       "          1785.82723415, 1746.18632232, 1706.31015656, 1666.36036275,\n",
       "          1626.63318698, 1587.00508138, 1547.4900529 , 1507.97909379,\n",
       "          1469.03139462, 1431.46241249, 1394.87116361, 1359.3502157 ,\n",
       "          1324.91091316, 1291.6227526 , 1259.16885425, 1226.73117817,\n",
       "          1194.21237285, 1161.67621378, 1129.28948197, 1097.23284545,\n",
       "          1066.14203365, 1035.96859814, 1006.96781455,  978.75700622,\n",
       "           951.22355957,  923.93136473,  896.8509731 ,  869.91114701,\n",
       "           842.38465106,  813.29836884,  782.58876368,  750.5328152 ,\n",
       "           713.90752352,  670.39156581,  618.70677022,  556.6560904 ,\n",
       "           473.3106885 ,  360.95589573,  225.47889964,  108.25737784,\n",
       "            50.41756589]),\n",
       "   'method': 'RobustScaler',\n",
       "   'median': 1329.6697665287481,\n",
       "   'iqr': 1352.0910045985052},\n",
       "  'tinj': {'nanmean': 3.22662687509553,\n",
       "   'method': 'RobustScaler',\n",
       "   'median': 3.147245168685913,\n",
       "   'iqr': 3.457317590713501}},\n",
       " 'rawdata_path': '/scratch/gpfs/jabbate/full_data/final_data.pkl',\n",
       " 'sig_names': ['thomson_dens_EFITRT1',\n",
       "  'thomson_temp_EFITRT1',\n",
       "  'temp',\n",
       "  'dens',\n",
       "  'temp',\n",
       "  'dens',\n",
       "  'pinj',\n",
       "  'curr',\n",
       "  'tinj',\n",
       "  'gasA',\n",
       "  'gasB',\n",
       "  'gasC',\n",
       "  'gasD',\n",
       "  'target_density',\n",
       "  'density_estimate',\n",
       "  'gas_feedback'],\n",
       " 'normalization_method': 'RobustScaler',\n",
       " 'window_length': 3,\n",
       " 'window_overlap': 0,\n",
       " 'lookbacks': {'thomson_dens_EFITRT1': 1,\n",
       "  'thomson_temp_EFITRT1': 1,\n",
       "  'temp': 1,\n",
       "  'dens': 1,\n",
       "  'pinj': 6,\n",
       "  'curr': 6,\n",
       "  'tinj': 6,\n",
       "  'gasA': 6,\n",
       "  'gasB': 6,\n",
       "  'gasC': 6,\n",
       "  'gasD': 6,\n",
       "  'target_density': 6,\n",
       "  'density_estimate': 6,\n",
       "  'gas_feedback': 6},\n",
       " 'lookahead': 3,\n",
       " 'sample_step': 1,\n",
       " 'uniform_normalization': True,\n",
       " 'train_frac': 0.8,\n",
       " 'val_frac': 0.2,\n",
       " 'nshots': 12000,\n",
       " 'efit_type': 'EFITRT1',\n",
       " 'profile_lookback': 1,\n",
       " 'actuator_lookback': 6,\n",
       " 'basefilename': '/scratch/gpfs/jabbate/data_60_ms_flattop_randomized',\n",
       " 'profile_downsample': 2,\n",
       " 'std_activation': 'relu',\n",
       " 'hinge_weight': 50,\n",
       " 'mse_weight_power': 2,\n",
       " 'mse_weight_edge': 3.1622776601683795,\n",
       " 'mse_power': 2.5,\n",
       " 'verbose': 1,\n",
       " 'optimizer': 'adagrad',\n",
       " 'optimizer_kwargs': {},\n",
       " 'shuffle_generators': True,\n",
       " 'profile_length': 33,\n",
       " 'mse_weight_vector': array([ 1.        ,  1.13970822,  1.28854816,  1.44651984,  1.61362324,\n",
       "         1.78985837,  1.97522522,  2.16972381,  2.37335412,  2.58611616,\n",
       "         2.80800993,  3.03903543,  3.27919265,  3.52848161,  3.78690229,\n",
       "         4.05445469,  4.33113883,  4.61695469,  4.91190229,  5.21598161,\n",
       "         5.52919265,  5.85153543,  6.18300993,  6.52361616,  6.87335412,\n",
       "         7.23222381,  7.60022522,  7.97735837,  8.36362324,  8.75901984,\n",
       "         9.16354816,  9.57720822, 10.        ]),\n",
       " 'runname': 'model-conv2d_profiles-temp-dens_act-pinj-curr-tinj-gasA_targ-temp-dens_profLB-1_actLB-6_norm-RobustScaler_activ-relu_nshots-12000_ftop-True_07Sep19-14-30_Scenario-25',\n",
       " 'steps_per_epoch': 4006,\n",
       " 'val_steps': 1002,\n",
       " 'model_path': '/home/wconlin/run_results/model-conv2d_profiles-temp-dens_act-pinj-curr-tinj-gasA_targ-temp-dens_profLB-1_actLB-6_norm-RobustScaler_activ-relu_nshots-12000_ftop-True_07Sep19-14-30_Scenario-25.h5',\n",
       " 'history': {'val_loss': [0.32686016762976894,\n",
       "   0.22762937047399912,\n",
       "   0.22542819712201975,\n",
       "   0.19795717092129883,\n",
       "   0.19402003383092922,\n",
       "   0.2900064602837447,\n",
       "   0.18756460850279055,\n",
       "   0.19134418740445372,\n",
       "   0.181647083552137,\n",
       "   0.17672722643452535,\n",
       "   0.17882320797678333,\n",
       "   0.16687190545542985,\n",
       "   0.1763622533481399,\n",
       "   0.16971464468344236,\n",
       "   0.16199464001460465,\n",
       "   0.17561228271434498,\n",
       "   0.1636445636027248,\n",
       "   0.15863937680458323,\n",
       "   0.1689578514523136,\n",
       "   0.17193540145928074,\n",
       "   0.15733835394016688,\n",
       "   0.159665002752737,\n",
       "   0.20600690252678527,\n",
       "   0.16895308735722828,\n",
       "   0.1697050522075977,\n",
       "   0.165801191964425,\n",
       "   0.1533703176667089,\n",
       "   0.1479577474806719,\n",
       "   0.14941568621280119,\n",
       "   0.1637615822962004,\n",
       "   0.15207654952437427,\n",
       "   0.15047288586913163,\n",
       "   0.15959735985049706,\n",
       "   0.1509895948405406,\n",
       "   0.15543402103134832,\n",
       "   0.14246839162364816,\n",
       "   0.1528867780604584,\n",
       "   0.1472578926380726,\n",
       "   0.1517108643813367,\n",
       "   0.14582802727074917,\n",
       "   0.16305426158695055,\n",
       "   0.1493789875571302,\n",
       "   0.13833437147833094,\n",
       "   0.15052243677711943,\n",
       "   0.14093164140360312,\n",
       "   0.14951365340725922,\n",
       "   0.15213980324923057,\n",
       "   0.15377350213065083,\n",
       "   0.14185453020094352,\n",
       "   0.14911761452571293,\n",
       "   0.14497873392290697,\n",
       "   0.14302947782093975,\n",
       "   0.14381939147469233,\n",
       "   0.1381639080353635,\n",
       "   0.1408638991417826,\n",
       "   0.13820551678969595,\n",
       "   0.1544884088584103,\n",
       "   0.1371063339419858,\n",
       "   0.14389517594720158,\n",
       "   0.13886483522302598,\n",
       "   0.13734101995088197,\n",
       "   0.13732028831212986,\n",
       "   0.13782877522923515,\n",
       "   0.13715022442077968,\n",
       "   0.1424718797913271,\n",
       "   0.13764119596005409,\n",
       "   0.14026829924511208,\n",
       "   0.14310573316888708,\n",
       "   0.13790463966608538,\n",
       "   0.1339435606495464,\n",
       "   0.1353848099998749,\n",
       "   0.13701806555385004,\n",
       "   0.14048554978934324,\n",
       "   0.13681513380598065,\n",
       "   0.13475175852871113,\n",
       "   0.13664549875442444,\n",
       "   0.14307376325956392,\n",
       "   0.13237734685490232,\n",
       "   0.14768695022205797,\n",
       "   0.13578406407566604,\n",
       "   0.13507845403160026,\n",
       "   0.13681592616418045,\n",
       "   0.14575716044979495,\n",
       "   0.1386602979911837,\n",
       "   0.13213006905975597,\n",
       "   0.1359572653823313,\n",
       "   0.13890689631432127,\n",
       "   0.1359801792507277,\n",
       "   0.13858526509009791,\n",
       "   0.13391750460021723,\n",
       "   0.1433926460606431,\n",
       "   0.13422188845451877,\n",
       "   0.13298558341008462,\n",
       "   0.13869142512272217,\n",
       "   0.13889255131374367,\n",
       "   0.13902909309787306,\n",
       "   0.1369418784892239,\n",
       "   0.13683752550886658,\n",
       "   0.13219162547203658,\n",
       "   0.14192178866440322],\n",
       "  'val_target_temp_loss': [0.05831127504147131,\n",
       "   0.03912427565320665,\n",
       "   0.03703201444072349,\n",
       "   0.03488783253195558,\n",
       "   0.03629630439560801,\n",
       "   0.03509296648793546,\n",
       "   0.032007064427684015,\n",
       "   0.036170953271318654,\n",
       "   0.032287367285028075,\n",
       "   0.031587068620360224,\n",
       "   0.02988135931173627,\n",
       "   0.030970352453679992,\n",
       "   0.03023885637749619,\n",
       "   0.030849114505179704,\n",
       "   0.028791517632717856,\n",
       "   0.028330962350534467,\n",
       "   0.03006301405162101,\n",
       "   0.027780661056623086,\n",
       "   0.027705917149704516,\n",
       "   0.028428271917139005,\n",
       "   0.028255398022428886,\n",
       "   0.028202406137997526,\n",
       "   0.02723118654968994,\n",
       "   0.02784321522322727,\n",
       "   0.029130356706039397,\n",
       "   0.027012069464749714,\n",
       "   0.027141791693208205,\n",
       "   0.02633732803680724,\n",
       "   0.026224190112829282,\n",
       "   0.028220969465135515,\n",
       "   0.02625106320828111,\n",
       "   0.026624773829758894,\n",
       "   0.026458904326534617,\n",
       "   0.026140044044993205,\n",
       "   0.02628179107821218,\n",
       "   0.02702670192688024,\n",
       "   0.025738049262275773,\n",
       "   0.026910656891288534,\n",
       "   0.025709763309559614,\n",
       "   0.025667000050747586,\n",
       "   0.026537323731354333,\n",
       "   0.027350077369322854,\n",
       "   0.026247376026288648,\n",
       "   0.02553757704601062,\n",
       "   0.024940324585399295,\n",
       "   0.02595626628696621,\n",
       "   0.02670811150330211,\n",
       "   0.025013991692314753,\n",
       "   0.025477346573624902,\n",
       "   0.0258820917125184,\n",
       "   0.024740317481348733,\n",
       "   0.025291668471561873,\n",
       "   0.024926189636878697,\n",
       "   0.024312129320412743,\n",
       "   0.024959538166743907,\n",
       "   0.023960805449731455,\n",
       "   0.024752409598263962,\n",
       "   0.02445127439171459,\n",
       "   0.024671384854808753,\n",
       "   0.024255325274992957,\n",
       "   0.024128982636502767,\n",
       "   0.024626660114125135,\n",
       "   0.0245378361976523,\n",
       "   0.023957281035930523,\n",
       "   0.024018046143139432,\n",
       "   0.02456475431735491,\n",
       "   0.02419763062397096,\n",
       "   0.023964760506914068,\n",
       "   0.024471399718560136,\n",
       "   0.024024089603910916,\n",
       "   0.023806939971276968,\n",
       "   0.02417127520009548,\n",
       "   0.02396601735527565,\n",
       "   0.024185126178436527,\n",
       "   0.023721096056868847,\n",
       "   0.024569608169159568,\n",
       "   0.024196885364981997,\n",
       "   0.023396497435250622,\n",
       "   0.024063242922684202,\n",
       "   0.02400858037196055,\n",
       "   0.0239411187673489,\n",
       "   0.023948523432514565,\n",
       "   0.02383542303699793,\n",
       "   0.02395333465051181,\n",
       "   0.02413045261533652,\n",
       "   0.023858725983849603,\n",
       "   0.023542113779433,\n",
       "   0.0239916806386013,\n",
       "   0.02409330543833311,\n",
       "   0.023789915543568463,\n",
       "   0.023955571949444785,\n",
       "   0.02390557882323639,\n",
       "   0.02346715923691948,\n",
       "   0.024208296791180046,\n",
       "   0.02377566000915538,\n",
       "   0.02366934975464187,\n",
       "   0.023959087879617445,\n",
       "   0.023823041868528086,\n",
       "   0.02344220617820231,\n",
       "   0.024209401229260342],\n",
       "  'val_target_dens_loss': [0.26854889272106963,\n",
       "   0.18850509503622728,\n",
       "   0.1883961824317383,\n",
       "   0.16306933843119784,\n",
       "   0.15772372956303582,\n",
       "   0.25491349418110393,\n",
       "   0.1555575440066278,\n",
       "   0.1551732337942292,\n",
       "   0.14935971617095964,\n",
       "   0.145140157895084,\n",
       "   0.14894184826789358,\n",
       "   0.1359015531394049,\n",
       "   0.14612339709155694,\n",
       "   0.13886553020560316,\n",
       "   0.13320312253803668,\n",
       "   0.14728132080095838,\n",
       "   0.13358154937345434,\n",
       "   0.1308587157997552,\n",
       "   0.14125193492606794,\n",
       "   0.143507130114445,\n",
       "   0.12908295636755845,\n",
       "   0.13146259707420976,\n",
       "   0.1787757158626347,\n",
       "   0.14110987194436256,\n",
       "   0.14057469563911895,\n",
       "   0.1387891224779923,\n",
       "   0.12622852573725482,\n",
       "   0.12162041933132232,\n",
       "   0.12319149598456003,\n",
       "   0.13554061242488924,\n",
       "   0.12582548647220496,\n",
       "   0.12384811207037803,\n",
       "   0.13313845538361344,\n",
       "   0.12484955079897715,\n",
       "   0.1291522300538778,\n",
       "   0.11544168956023987,\n",
       "   0.12714872877308708,\n",
       "   0.12034723596143618,\n",
       "   0.12600110125994832,\n",
       "   0.12016102719583555,\n",
       "   0.13651693776473264,\n",
       "   0.1220289103318742,\n",
       "   0.11208699527395687,\n",
       "   0.12498485995819897,\n",
       "   0.11599131668040343,\n",
       "   0.12355738725387888,\n",
       "   0.1254316918506812,\n",
       "   0.12875951066004912,\n",
       "   0.11637718339400839,\n",
       "   0.12323552250052378,\n",
       "   0.12023841651777427,\n",
       "   0.11773780953432281,\n",
       "   0.1188932018657167,\n",
       "   0.11385177904594547,\n",
       "   0.11590436111748958,\n",
       "   0.11424471120054494,\n",
       "   0.12973599990476503,\n",
       "   0.11265506008478908,\n",
       "   0.11922379145600452,\n",
       "   0.11460950991460747,\n",
       "   0.11321203702096114,\n",
       "   0.11269362808055687,\n",
       "   0.11329093925288893,\n",
       "   0.11319294326236637,\n",
       "   0.11845383331172184,\n",
       "   0.11307644162151029,\n",
       "   0.11607066817874837,\n",
       "   0.11914097244604407,\n",
       "   0.11343323985236421,\n",
       "   0.10991947056462752,\n",
       "   0.11157786986280727,\n",
       "   0.11284679039465097,\n",
       "   0.11651953234942833,\n",
       "   0.11263000735987826,\n",
       "   0.11103066266007165,\n",
       "   0.1120758906088662,\n",
       "   0.11887687767757756,\n",
       "   0.10898084946333648,\n",
       "   0.12362370671219262,\n",
       "   0.11177548349736456,\n",
       "   0.11113733510945753,\n",
       "   0.1128674026340722,\n",
       "   0.12192173770801638,\n",
       "   0.11470696333974242,\n",
       "   0.1079996165975665,\n",
       "   0.11209853978212143,\n",
       "   0.11536478283167793,\n",
       "   0.1119884989918986,\n",
       "   0.1144919597289103,\n",
       "   0.11012758896601789,\n",
       "   0.11943707408424385,\n",
       "   0.110316309418696,\n",
       "   0.10951842416572434,\n",
       "   0.11448312836686175,\n",
       "   0.11511689115694952,\n",
       "   0.11535974329304018,\n",
       "   0.11298279037220935,\n",
       "   0.11301448354181534,\n",
       "   0.1087494196865407,\n",
       "   0.11771238714754395],\n",
       "  'val_target_temp_denorm_MAE': [0.11125845135339049,\n",
       "   0.10455160630671215,\n",
       "   0.10372493816433265,\n",
       "   0.10212555784953235,\n",
       "   0.10172722815060971,\n",
       "   0.10322718235917115,\n",
       "   0.10040339773777651,\n",
       "   0.10194209088462025,\n",
       "   0.10030761489755212,\n",
       "   0.09936454578156136,\n",
       "   0.09964718406201599,\n",
       "   0.09885935894468291,\n",
       "   0.10044330213688396,\n",
       "   0.09939817562001262,\n",
       "   0.09827070434144633,\n",
       "   0.09826759650729419,\n",
       "   0.09850359900276295,\n",
       "   0.0981284759198821,\n",
       "   0.0979156793782226,\n",
       "   0.09774248369601282,\n",
       "   0.09781256192156561,\n",
       "   0.0976363696438358,\n",
       "   0.09734070046673061,\n",
       "   0.09774096857600477,\n",
       "   0.09737773893954987,\n",
       "   0.09685250688301222,\n",
       "   0.09735027398705058,\n",
       "   0.0968358636169344,\n",
       "   0.09690704110597984,\n",
       "   0.09731987947802581,\n",
       "   0.09695312313265318,\n",
       "   0.09762357175350189,\n",
       "   0.09616482732241263,\n",
       "   0.09610556707620457,\n",
       "   0.09659926200986735,\n",
       "   0.09662354736217181,\n",
       "   0.09661641852286999,\n",
       "   0.09603260927260629,\n",
       "   0.09603884208813253,\n",
       "   0.09586106459359209,\n",
       "   0.09655676255704164,\n",
       "   0.09614562524292997,\n",
       "   0.09641150707793693,\n",
       "   0.09601539158404793,\n",
       "   0.09584746009535158,\n",
       "   0.09543205846735142,\n",
       "   0.09623625651062387,\n",
       "   0.0954607510289913,\n",
       "   0.09595635895700493,\n",
       "   0.09561035381787125,\n",
       "   0.09538524863338042,\n",
       "   0.095763610541415,\n",
       "   0.09536671230918153,\n",
       "   0.09517096001550154,\n",
       "   0.09509593518143342,\n",
       "   0.09486961981909955,\n",
       "   0.09510614827185056,\n",
       "   0.09537988848029492,\n",
       "   0.0951628266502897,\n",
       "   0.09510322351320935,\n",
       "   0.09468278088125276,\n",
       "   0.09520897757887915,\n",
       "   0.09518684997803992,\n",
       "   0.09483398427347009,\n",
       "   0.09478714199599153,\n",
       "   0.09490480657675525,\n",
       "   0.09492323744825688,\n",
       "   0.09485751536762169,\n",
       "   0.09515292002005,\n",
       "   0.09477707150053735,\n",
       "   0.09471523401055783,\n",
       "   0.0951791945733353,\n",
       "   0.09486436619377374,\n",
       "   0.09477116822336996,\n",
       "   0.09458015907027288,\n",
       "   0.09519747119945918,\n",
       "   0.09477652394494777,\n",
       "   0.09466639864528012,\n",
       "   0.09476109275327929,\n",
       "   0.09511861074976102,\n",
       "   0.09473639466962093,\n",
       "   0.09462573277408967,\n",
       "   0.09488530591232638,\n",
       "   0.09464195285163478,\n",
       "   0.09501377568202299,\n",
       "   0.0947255049177738,\n",
       "   0.09430153559104876,\n",
       "   0.09504366580462695,\n",
       "   0.09473276360633369,\n",
       "   0.09484009556402496,\n",
       "   0.09473974429472477,\n",
       "   0.09477636618805352,\n",
       "   0.09444541955818644,\n",
       "   0.09495436107208154,\n",
       "   0.09466011750091247,\n",
       "   0.09457662458459061,\n",
       "   0.09466862238287405,\n",
       "   0.09460377667151287,\n",
       "   0.09467944288953593,\n",
       "   0.09454791585703629],\n",
       "  'val_target_temp_sgn_acc': [0.6049477801207753,\n",
       "   0.6235365596620281,\n",
       "   0.617372070624657,\n",
       "   0.6235015649383608,\n",
       "   0.6161884754667359,\n",
       "   0.6234041488198154,\n",
       "   0.6323110199950844,\n",
       "   0.5941690977172871,\n",
       "   0.6278814669219707,\n",
       "   0.6266874914483016,\n",
       "   0.6305824680934349,\n",
       "   0.6264879441009792,\n",
       "   0.6213821879442797,\n",
       "   0.620556573611658,\n",
       "   0.634162141474897,\n",
       "   0.6355376166281246,\n",
       "   0.6314137514949656,\n",
       "   0.6380558546306295,\n",
       "   0.6348101135035682,\n",
       "   0.6370852899926409,\n",
       "   0.6329694831425625,\n",
       "   0.6348966374378527,\n",
       "   0.63489688415294,\n",
       "   0.6276944088682691,\n",
       "   0.6287650192331173,\n",
       "   0.637824852549474,\n",
       "   0.6412275840441287,\n",
       "   0.6369729961217041,\n",
       "   0.6408582917754908,\n",
       "   0.6266433297398085,\n",
       "   0.6441321541148248,\n",
       "   0.6296394550078068,\n",
       "   0.6366453380165937,\n",
       "   0.6362953726759148,\n",
       "   0.6425771385042507,\n",
       "   0.6387507072320064,\n",
       "   0.6377371427660693,\n",
       "   0.6289748596445164,\n",
       "   0.6405677039348993,\n",
       "   0.6424566302708761,\n",
       "   0.6290579077603294,\n",
       "   0.6226215392291665,\n",
       "   0.6382653288058177,\n",
       "   0.639093315026174,\n",
       "   0.6451062523137838,\n",
       "   0.6385923113598819,\n",
       "   0.6341452572305702,\n",
       "   0.6424688544957039,\n",
       "   0.6389214239735987,\n",
       "   0.6381036133560667,\n",
       "   0.6354982501375461,\n",
       "   0.6446804386512386,\n",
       "   0.6401657622432405,\n",
       "   0.6460345059763559,\n",
       "   0.6430622944707736,\n",
       "   0.6455212880275445,\n",
       "   0.6451265854481625,\n",
       "   0.6459264389012133,\n",
       "   0.6424409587481043,\n",
       "   0.6446147155065258,\n",
       "   0.6456682529798289,\n",
       "   0.6443014522554873,\n",
       "   0.6431720071157098,\n",
       "   0.6471629754247369,\n",
       "   0.6447293156397319,\n",
       "   0.6456717923818386,\n",
       "   0.6458920721111262,\n",
       "   0.6469818699278789,\n",
       "   0.6466052365893841,\n",
       "   0.6462491672811835,\n",
       "   0.6461971491941702,\n",
       "   0.6428285237557874,\n",
       "   0.6451766182823825,\n",
       "   0.6444823120976869,\n",
       "   0.6461983348954059,\n",
       "   0.6473693799588588,\n",
       "   0.6450057705870937,\n",
       "   0.64580504938276,\n",
       "   0.6472865643462563,\n",
       "   0.644564160329853,\n",
       "   0.6468867186231214,\n",
       "   0.6468722800056853,\n",
       "   0.6462249651169643,\n",
       "   0.6456422595206849,\n",
       "   0.6459418063112862,\n",
       "   0.6465862456148375,\n",
       "   0.64681802177078,\n",
       "   0.6451821507426001,\n",
       "   0.6456415479530593,\n",
       "   0.6470454753301502,\n",
       "   0.6471858110851394,\n",
       "   0.6471684163417808,\n",
       "   0.646452972895048,\n",
       "   0.6472318825607528,\n",
       "   0.6465554871907613,\n",
       "   0.6455045151496361,\n",
       "   0.6460581688639673,\n",
       "   0.6473107970879225,\n",
       "   0.6462836869014023,\n",
       "   0.6470984727423463],\n",
       "  'val_target_temp_perBLMAE': [0.8678882438311616,\n",
       "   0.9003584185020731,\n",
       "   0.9050225515013204,\n",
       "   0.9032315191024028,\n",
       "   0.894198142703155,\n",
       "   0.897828182844654,\n",
       "   0.8976971923534838,\n",
       "   0.8998407255798889,\n",
       "   0.900095403975713,\n",
       "   0.8991247710645307,\n",
       "   0.8999493666173188,\n",
       "   0.8995089943389174,\n",
       "   0.906049342062744,\n",
       "   0.8934730175656873,\n",
       "   0.8984396163218036,\n",
       "   0.9034110431508635,\n",
       "   0.8901395946992232,\n",
       "   0.9035824811694462,\n",
       "   0.9006099279554408,\n",
       "   0.8970948033591467,\n",
       "   0.8978021503290979,\n",
       "   0.8905406149129699,\n",
       "   0.900912727464206,\n",
       "   0.8985967552490639,\n",
       "   0.8899753760553881,\n",
       "   0.8974179813280124,\n",
       "   0.8988712445551608,\n",
       "   0.9008268878355907,\n",
       "   0.9006109708402397,\n",
       "   0.9002363511664186,\n",
       "   0.8984767304668637,\n",
       "   0.9040424365985401,\n",
       "   0.8967925105504171,\n",
       "   0.8963495622665782,\n",
       "   0.899170972012036,\n",
       "   0.8968747683869981,\n",
       "   0.9003492712736606,\n",
       "   0.897197991337797,\n",
       "   0.8987102912729967,\n",
       "   0.8961778415177397,\n",
       "   0.8992182628353412,\n",
       "   0.8946141265704485,\n",
       "   0.8999548470971737,\n",
       "   0.8997025043432665,\n",
       "   0.8977298509255381,\n",
       "   0.8927592693453505,\n",
       "   0.8936042556132607,\n",
       "   0.8987678180293908,\n",
       "   0.8957936213812826,\n",
       "   0.8940660585171725,\n",
       "   0.8991026184753982,\n",
       "   0.8984904667834248,\n",
       "   0.8955142222892241,\n",
       "   0.8981946528963116,\n",
       "   0.8927433277052981,\n",
       "   0.8974562076156487,\n",
       "   0.8965531569147488,\n",
       "   0.898233644037864,\n",
       "   0.8993340586761761,\n",
       "   0.8981530300746896,\n",
       "   0.8974681652802875,\n",
       "   0.8974292231529374,\n",
       "   0.899080043956363,\n",
       "   0.8955422468894088,\n",
       "   0.8982829214213137,\n",
       "   0.8956339464050116,\n",
       "   0.897620231445546,\n",
       "   0.8981475511983303,\n",
       "   0.8970498462256388,\n",
       "   0.8988401920940834,\n",
       "   0.8967314877430306,\n",
       "   0.9002050540285434,\n",
       "   0.8992453340959876,\n",
       "   0.8986916149029399,\n",
       "   0.8977599226388955,\n",
       "   0.8959800732149911,\n",
       "   0.8979430434468846,\n",
       "   0.8989635820755225,\n",
       "   0.8976321611755866,\n",
       "   0.8998094267117049,\n",
       "   0.8968233273373329,\n",
       "   0.8983443421636989,\n",
       "   0.8981417178958747,\n",
       "   0.8982882778682633,\n",
       "   0.8991481701679336,\n",
       "   0.8982293209532214,\n",
       "   0.8964987637495014,\n",
       "   0.8985737117107244,\n",
       "   0.8981474911619327,\n",
       "   0.8983251299134349,\n",
       "   0.8975470889947134,\n",
       "   0.8978473288454402,\n",
       "   0.8989333655494748,\n",
       "   0.8968328994191336,\n",
       "   0.8987298089366343,\n",
       "   0.8979976810143141,\n",
       "   0.898897283543355,\n",
       "   0.8974103163816258,\n",
       "   0.8989390942214186,\n",
       "   0.8981308390318342],\n",
       "  'val_target_dens_denorm_MAE': [0.3179912503129065,\n",
       "   0.2790183898204052,\n",
       "   0.28140424183859863,\n",
       "   0.27269714327201094,\n",
       "   0.27194189230092536,\n",
       "   0.3064890934232171,\n",
       "   0.26814165534311507,\n",
       "   0.2659309542932118,\n",
       "   0.2645551641628348,\n",
       "   0.26696633374126993,\n",
       "   0.26541744682733937,\n",
       "   0.26222764086458433,\n",
       "   0.2660490246024012,\n",
       "   0.26218908600215984,\n",
       "   0.2599692901005288,\n",
       "   0.2583047207334457,\n",
       "   0.25800360546234985,\n",
       "   0.2592336277201726,\n",
       "   0.2603543748436524,\n",
       "   0.2582159323770004,\n",
       "   0.25736946710210695,\n",
       "   0.25764744017973323,\n",
       "   0.26766968071721153,\n",
       "   0.2576938227721857,\n",
       "   0.2605006685424708,\n",
       "   0.2559367309513777,\n",
       "   0.2561882105363858,\n",
       "   0.25503613637089095,\n",
       "   0.2551388432538785,\n",
       "   0.25444379750780477,\n",
       "   0.2538880392882077,\n",
       "   0.255103932969798,\n",
       "   0.2542627163662644,\n",
       "   0.25306643352445446,\n",
       "   0.25334524259712504,\n",
       "   0.25309254657954144,\n",
       "   0.25418850195086645,\n",
       "   0.25169715110135776,\n",
       "   0.251047741701954,\n",
       "   0.2542722308617866,\n",
       "   0.2528031373306932,\n",
       "   0.25187792727154884,\n",
       "   0.25098100728730005,\n",
       "   0.25119043613676645,\n",
       "   0.25098256701223937,\n",
       "   0.25154494574700065,\n",
       "   0.25044636672693915,\n",
       "   0.2498656769130986,\n",
       "   0.2491145744025949,\n",
       "   0.24842138497774338,\n",
       "   0.250541755732543,\n",
       "   0.25040513408012166,\n",
       "   0.2491551308281881,\n",
       "   0.24877217031135773,\n",
       "   0.24722355948495445,\n",
       "   0.24877072943601303,\n",
       "   0.2489625257757018,\n",
       "   0.2469960807764339,\n",
       "   0.24896279763516158,\n",
       "   0.2476106456583057,\n",
       "   0.2481599214879339,\n",
       "   0.24887229375061878,\n",
       "   0.24810450345186635,\n",
       "   0.24774037678417632,\n",
       "   0.24677310788821794,\n",
       "   0.2485783695951397,\n",
       "   0.24630665049412934,\n",
       "   0.24794661764735162,\n",
       "   0.24734362703804724,\n",
       "   0.24655047509042402,\n",
       "   0.2480571066836175,\n",
       "   0.24822719850226077,\n",
       "   0.24742436726193068,\n",
       "   0.24709014078255384,\n",
       "   0.246831399807099,\n",
       "   0.24877984601641318,\n",
       "   0.24691550938029927,\n",
       "   0.24694694067070821,\n",
       "   0.24730495313120812,\n",
       "   0.24721722785167827,\n",
       "   0.2477800062937263,\n",
       "   0.24567091185413673,\n",
       "   0.2474369789793073,\n",
       "   0.2470980177590709,\n",
       "   0.24704481304532677,\n",
       "   0.24694967453811856,\n",
       "   0.24632486577401128,\n",
       "   0.24747909130035034,\n",
       "   0.24660061342927986,\n",
       "   0.24640676187657326,\n",
       "   0.246897540242967,\n",
       "   0.2474832252011184,\n",
       "   0.24587373973933224,\n",
       "   0.24806724118436882,\n",
       "   0.24587798638503153,\n",
       "   0.247128171195646,\n",
       "   0.24595797324761384,\n",
       "   0.24672006714546277,\n",
       "   0.2460873274628005,\n",
       "   0.24609648831035105],\n",
       "  'val_target_dens_sgn_acc': [0.5427938264881089,\n",
       "   0.6247974438402703,\n",
       "   0.5986144878795684,\n",
       "   0.6328687519439634,\n",
       "   0.6310139585542854,\n",
       "   0.5901899346065063,\n",
       "   0.6305252482520382,\n",
       "   0.6337837551678993,\n",
       "   0.6434977928073164,\n",
       "   0.6166975146993017,\n",
       "   0.6412263894399582,\n",
       "   0.6457810211654876,\n",
       "   0.6307708859093947,\n",
       "   0.6423682331219828,\n",
       "   0.6483966847974622,\n",
       "   0.6484134555138287,\n",
       "   0.6475618218714866,\n",
       "   0.641259257255158,\n",
       "   0.6321802716242985,\n",
       "   0.6377532072344356,\n",
       "   0.6509952925094006,\n",
       "   0.6485825026870913,\n",
       "   0.6067120151739726,\n",
       "   0.6333610541816058,\n",
       "   0.6280885806935514,\n",
       "   0.6488366663273664,\n",
       "   0.643691894021584,\n",
       "   0.6431041331886762,\n",
       "   0.6503308107821663,\n",
       "   0.6412556682399171,\n",
       "   0.6513144767996479,\n",
       "   0.636063932821499,\n",
       "   0.6416814191612655,\n",
       "   0.6522377423598417,\n",
       "   0.6518249287229376,\n",
       "   0.650168039022871,\n",
       "   0.640687905683251,\n",
       "   0.6517139494307409,\n",
       "   0.6538435905459341,\n",
       "   0.6260984745806086,\n",
       "   0.6450656408224159,\n",
       "   0.6519291453256817,\n",
       "   0.6536383684279283,\n",
       "   0.6521670421733443,\n",
       "   0.6535452122277858,\n",
       "   0.6542963571862762,\n",
       "   0.6550914719937989,\n",
       "   0.6576818267873935,\n",
       "   0.6556808954841538,\n",
       "   0.6604729024713148,\n",
       "   0.656312664706788,\n",
       "   0.6574645401959591,\n",
       "   0.6535062002678815,\n",
       "   0.6582290481433952,\n",
       "   0.6567457894187809,\n",
       "   0.6566377722931479,\n",
       "   0.657748499975305,\n",
       "   0.6603934601982631,\n",
       "   0.6593652179227638,\n",
       "   0.6602459304468602,\n",
       "   0.6572139276992991,\n",
       "   0.6585616896556066,\n",
       "   0.6587734332238532,\n",
       "   0.6621688298314157,\n",
       "   0.6585071394424477,\n",
       "   0.6576839548082627,\n",
       "   0.6610802450305145,\n",
       "   0.6610230819524641,\n",
       "   0.661031591029852,\n",
       "   0.6612323255219283,\n",
       "   0.660920234136044,\n",
       "   0.6586687459560212,\n",
       "   0.657830625187971,\n",
       "   0.6608128960484847,\n",
       "   0.660902030361881,\n",
       "   0.6605069498973842,\n",
       "   0.6602220502538736,\n",
       "   0.661335521175,\n",
       "   0.6587434041060782,\n",
       "   0.6620287403256118,\n",
       "   0.6590938022477711,\n",
       "   0.6612492847942306,\n",
       "   0.6599150199431467,\n",
       "   0.659742123412039,\n",
       "   0.6585864129044741,\n",
       "   0.6609536700215957,\n",
       "   0.6607244714995045,\n",
       "   0.6604156916555666,\n",
       "   0.6601700062404374,\n",
       "   0.6609167619171477,\n",
       "   0.6600556518741234,\n",
       "   0.660511919312334,\n",
       "   0.6594737475600391,\n",
       "   0.6574013939874614,\n",
       "   0.6603016153415392,\n",
       "   0.6613097713141146,\n",
       "   0.660943731436649,\n",
       "   0.6623098975765015,\n",
       "   0.6614470060201599,\n",
       "   0.6613390844661992],\n",
       "  'val_target_dens_perBLMAE': [0.8975203372545065,\n",
       "   0.8886975310252226,\n",
       "   0.8946583257781962,\n",
       "   0.8883712755726724,\n",
       "   0.8995731419283578,\n",
       "   0.8848596962008254,\n",
       "   0.8898657784391436,\n",
       "   0.8846606135286498,\n",
       "   0.8832571154400901,\n",
       "   0.889177925540121,\n",
       "   0.8864868487708168,\n",
       "   0.8866337861068894,\n",
       "   0.880568670948215,\n",
       "   0.8894743376043274,\n",
       "   0.8847537996645222,\n",
       "   0.881544842072532,\n",
       "   0.876321716680188,\n",
       "   0.8846267107519554,\n",
       "   0.8881716493750383,\n",
       "   0.8815998024213076,\n",
       "   0.8835431555372433,\n",
       "   0.880480337861727,\n",
       "   0.846767012579344,\n",
       "   0.8621208245719991,\n",
       "   0.8771702952965529,\n",
       "   0.8815037593227835,\n",
       "   0.8729898058723015,\n",
       "   0.8801975328149468,\n",
       "   0.8805620973814584,\n",
       "   0.8824659281386111,\n",
       "   0.8801421740700798,\n",
       "   0.8792325103230807,\n",
       "   0.8785733652566959,\n",
       "   0.8790257815065831,\n",
       "   0.8768678402738486,\n",
       "   0.8794715054700852,\n",
       "   0.8769825372153414,\n",
       "   0.8798483869792669,\n",
       "   0.8766994165292312,\n",
       "   0.8758916365291306,\n",
       "   0.874976916487406,\n",
       "   0.8735569943924864,\n",
       "   0.8807204340877965,\n",
       "   0.8751024371206623,\n",
       "   0.8775325365767751,\n",
       "   0.8793726532499886,\n",
       "   0.8698153080851552,\n",
       "   0.8768545947236505,\n",
       "   0.8716909019332887,\n",
       "   0.8705902178089444,\n",
       "   0.8777192771553756,\n",
       "   0.8737206854078253,\n",
       "   0.875807173532922,\n",
       "   0.8768449927180503,\n",
       "   0.8722354609766417,\n",
       "   0.8768637868577611,\n",
       "   0.8749928838616936,\n",
       "   0.8727868298943752,\n",
       "   0.8734433130559891,\n",
       "   0.8754827883663074,\n",
       "   0.8758697511253788,\n",
       "   0.8708056959191536,\n",
       "   0.8776343481890845,\n",
       "   0.8725931096572523,\n",
       "   0.8751774204824261,\n",
       "   0.8772274678614053,\n",
       "   0.8728349213746099,\n",
       "   0.8744998445716826,\n",
       "   0.8727131967322522,\n",
       "   0.8734329712241339,\n",
       "   0.8759451918920159,\n",
       "   0.8761565441380956,\n",
       "   0.8783638805095141,\n",
       "   0.8748727460812632,\n",
       "   0.8761584357028969,\n",
       "   0.8749477450086133,\n",
       "   0.8760657746443163,\n",
       "   0.8748852179316942,\n",
       "   0.8753306215215966,\n",
       "   0.8744844506957574,\n",
       "   0.8757557368963529,\n",
       "   0.875488090538931,\n",
       "   0.8745889686778663,\n",
       "   0.8755035518767115,\n",
       "   0.8760686018896879,\n",
       "   0.8761241927435813,\n",
       "   0.8751227493872766,\n",
       "   0.8746312531919844,\n",
       "   0.8752741150989266,\n",
       "   0.8760289067554891,\n",
       "   0.8755961492389976,\n",
       "   0.8749432661070389,\n",
       "   0.8762346256702671,\n",
       "   0.8755630405839094,\n",
       "   0.8754484413043921,\n",
       "   0.8740397482337114,\n",
       "   0.8745961731259038,\n",
       "   0.8730708860946511,\n",
       "   0.8743801243734839,\n",
       "   0.8749487256199624],\n",
       "  'loss': [0.4107706818774713,\n",
       "   0.2529889402846472,\n",
       "   0.2283540843123411,\n",
       "   0.21328891349319054,\n",
       "   0.20487947473590581,\n",
       "   0.1980905831421254,\n",
       "   0.19073123662115293,\n",
       "   0.1874641238756414,\n",
       "   0.1831925280916794,\n",
       "   0.17911643648756967,\n",
       "   0.1766691559590833,\n",
       "   0.17318639482955472,\n",
       "   0.17010583308682556,\n",
       "   0.17065198429174327,\n",
       "   0.16623030251890605,\n",
       "   0.16408522660588395,\n",
       "   0.16389091638219364,\n",
       "   0.16168074425205703,\n",
       "   0.16021307038474086,\n",
       "   0.15936821300725199,\n",
       "   0.15624677173382048,\n",
       "   0.15696275659729045,\n",
       "   0.15578627740948572,\n",
       "   0.15363535058160313,\n",
       "   0.15394559255100082,\n",
       "   0.15232306255185266,\n",
       "   0.15127013664862973,\n",
       "   0.14965190752087432,\n",
       "   0.14907360662162664,\n",
       "   0.14844427605469246,\n",
       "   0.1479721967389084,\n",
       "   0.14708084159692383,\n",
       "   0.14548383880929738,\n",
       "   0.14454585737053932,\n",
       "   0.14422636050303203,\n",
       "   0.14340409090242598,\n",
       "   0.1434919085208349,\n",
       "   0.14328358062171387,\n",
       "   0.14235997657604632,\n",
       "   0.14110323262059124,\n",
       "   0.1406227451099595,\n",
       "   0.13892014646642042,\n",
       "   0.1392755139302665,\n",
       "   0.13960713442080372,\n",
       "   0.1387139093458581,\n",
       "   0.13793744351457654,\n",
       "   0.13684207606402904,\n",
       "   0.13723330533103795,\n",
       "   0.13692278123832385,\n",
       "   0.13521303715311012,\n",
       "   0.13450616615795497,\n",
       "   0.13510841016464156,\n",
       "   0.13424404588185798,\n",
       "   0.13017903873980952,\n",
       "   0.12992147677068644,\n",
       "   0.12962635887208993,\n",
       "   0.12927944723038184,\n",
       "   0.12857578069923484,\n",
       "   0.12899443956546774,\n",
       "   0.1283093971117724,\n",
       "   0.12808599892514255,\n",
       "   0.12781787901308628,\n",
       "   0.12783580475205653,\n",
       "   0.12803246986971356,\n",
       "   0.12713323883490765,\n",
       "   0.12730592842383934,\n",
       "   0.1272903886514086,\n",
       "   0.12662108718991166,\n",
       "   0.12514017415009396,\n",
       "   0.12482373853643967,\n",
       "   0.12479962618988846,\n",
       "   0.12466141635880489,\n",
       "   0.1246893478801726,\n",
       "   0.12438208097119585,\n",
       "   0.12419056861314177,\n",
       "   0.12422990239884521,\n",
       "   0.12395108578810057,\n",
       "   0.12395473605536624,\n",
       "   0.1236567670508421,\n",
       "   0.12391274703798022,\n",
       "   0.12362468435023417,\n",
       "   0.12353299399769783,\n",
       "   0.12356220860934622,\n",
       "   0.12326798582974219,\n",
       "   0.12313546230953099,\n",
       "   0.12306942137715476,\n",
       "   0.12289850240543557,\n",
       "   0.12303159148136197,\n",
       "   0.12210959345628693,\n",
       "   0.12209292256755726,\n",
       "   0.12192849426455771,\n",
       "   0.12195087571802175,\n",
       "   0.12184784587451727,\n",
       "   0.12177090380991737,\n",
       "   0.12170492332776242,\n",
       "   0.12173506960984554,\n",
       "   0.12169385229544719,\n",
       "   0.12160671482251272,\n",
       "   0.12120698698124727,\n",
       "   0.12118793702546289],\n",
       "  'target_temp_loss': [0.09216809611726264,\n",
       "   0.04554924903168989,\n",
       "   0.040431984906991604,\n",
       "   0.037428802069250276,\n",
       "   0.03545241841689782,\n",
       "   0.03414898256080177,\n",
       "   0.032999059085173914,\n",
       "   0.032262316702425756,\n",
       "   0.03145963379672166,\n",
       "   0.030927450464143726,\n",
       "   0.030357243036006214,\n",
       "   0.0298921026237486,\n",
       "   0.029525310132268917,\n",
       "   0.029219259171039114,\n",
       "   0.02888149438017389,\n",
       "   0.02853109142326256,\n",
       "   0.0282926762625704,\n",
       "   0.027942405885645567,\n",
       "   0.02781993683342976,\n",
       "   0.027519761143902796,\n",
       "   0.027307403319886275,\n",
       "   0.027155343693415906,\n",
       "   0.026951601207480923,\n",
       "   0.02675991999974975,\n",
       "   0.02677340322972736,\n",
       "   0.02648718581358803,\n",
       "   0.026332209042273964,\n",
       "   0.026221002457011228,\n",
       "   0.02601738424743391,\n",
       "   0.02593013742887747,\n",
       "   0.025857278549409075,\n",
       "   0.0257049280492604,\n",
       "   0.025561449512694612,\n",
       "   0.025485615534332973,\n",
       "   0.025371676730130004,\n",
       "   0.025208650256122733,\n",
       "   0.02519593050831438,\n",
       "   0.025048383376553848,\n",
       "   0.02495170940097342,\n",
       "   0.024892181082478232,\n",
       "   0.024819035058692863,\n",
       "   0.024756153783641047,\n",
       "   0.024623117015838733,\n",
       "   0.024575323432228426,\n",
       "   0.024471957397171725,\n",
       "   0.024413216947437005,\n",
       "   0.024334306203260454,\n",
       "   0.02427880935916314,\n",
       "   0.024219117542264867,\n",
       "   0.02410166756369532,\n",
       "   0.024045701044456438,\n",
       "   0.02398667342300473,\n",
       "   0.023901387182490966,\n",
       "   0.02322503020363325,\n",
       "   0.023187491873064413,\n",
       "   0.023161657973032677,\n",
       "   0.023117113575296402,\n",
       "   0.023076785983519026,\n",
       "   0.023050503342569535,\n",
       "   0.02303362877755357,\n",
       "   0.02298373505312839,\n",
       "   0.02296981333093049,\n",
       "   0.022945385793724297,\n",
       "   0.022903092518367474,\n",
       "   0.022870124219795493,\n",
       "   0.022850955055014038,\n",
       "   0.02282126826744542,\n",
       "   0.022786841241196343,\n",
       "   0.02259201466694994,\n",
       "   0.022580105402813334,\n",
       "   0.02256079043550616,\n",
       "   0.02255040230639162,\n",
       "   0.02253182916075963,\n",
       "   0.022524659005186833,\n",
       "   0.02251308854211647,\n",
       "   0.02250001579593026,\n",
       "   0.02248433155357408,\n",
       "   0.02246350979681954,\n",
       "   0.02246210085734438,\n",
       "   0.022444022753803656,\n",
       "   0.02243429288777897,\n",
       "   0.022419186563255325,\n",
       "   0.022412764665572783,\n",
       "   0.022390435251827868,\n",
       "   0.02239173653573681,\n",
       "   0.022373898502598445,\n",
       "   0.02235215931797632,\n",
       "   0.02234371005163397,\n",
       "   0.0222764388848108,\n",
       "   0.022267515189005518,\n",
       "   0.022259776900535638,\n",
       "   0.022251486173418884,\n",
       "   0.02224688307913365,\n",
       "   0.022243854951855418,\n",
       "   0.02223893237851035,\n",
       "   0.02223496538558755,\n",
       "   0.02222372392082516,\n",
       "   0.02221280040333041,\n",
       "   0.02218780080869224,\n",
       "   0.022184834731348916],\n",
       "  'target_dens_loss': [0.31860258612638026,\n",
       "   0.207439691438154,\n",
       "   0.18792209970040424,\n",
       "   0.17586011149509348,\n",
       "   0.16942705623658813,\n",
       "   0.1639416007492607,\n",
       "   0.15773217765192635,\n",
       "   0.1552018073141269,\n",
       "   0.15173289428730616,\n",
       "   0.14818898601683161,\n",
       "   0.14631191302523086,\n",
       "   0.1432942920829048,\n",
       "   0.14058052295613163,\n",
       "   0.14143272515824634,\n",
       "   0.13734880822352996,\n",
       "   0.13555413519545398,\n",
       "   0.13559824023529443,\n",
       "   0.13373833852793404,\n",
       "   0.13239313369508715,\n",
       "   0.13184845208241125,\n",
       "   0.1289393683977845,\n",
       "   0.12980741269496007,\n",
       "   0.1288346761591672,\n",
       "   0.12687543058471817,\n",
       "   0.12717218949522532,\n",
       "   0.1258358768988353,\n",
       "   0.1249379274171843,\n",
       "   0.12343090505132844,\n",
       "   0.123056222213464,\n",
       "   0.12251413863516875,\n",
       "   0.12211491821495013,\n",
       "   0.12137591352846908,\n",
       "   0.11992238933808883,\n",
       "   0.11906024169831794,\n",
       "   0.11885468375910846,\n",
       "   0.11819544075848654,\n",
       "   0.11829597801363048,\n",
       "   0.11823519731398797,\n",
       "   0.11740826715548797,\n",
       "   0.1162110515733826,\n",
       "   0.11580371023713004,\n",
       "   0.11416399265538482,\n",
       "   0.11465239686711944,\n",
       "   0.11503181112062871,\n",
       "   0.11424195190461162,\n",
       "   0.11352422645797909,\n",
       "   0.11250776983137392,\n",
       "   0.1129544959217762,\n",
       "   0.1127036636664227,\n",
       "   0.11111136966485884,\n",
       "   0.11046046512036897,\n",
       "   0.11112173675626423,\n",
       "   0.11034265866423366,\n",
       "   0.10695400859048217,\n",
       "   0.10673398502365156,\n",
       "   0.10646470099813547,\n",
       "   0.10616233361026045,\n",
       "   0.10549899473560774,\n",
       "   0.10594393623008475,\n",
       "   0.10527576821061993,\n",
       "   0.10510226378342144,\n",
       "   0.1048480655811338,\n",
       "   0.10489041899104402,\n",
       "   0.10512937750204525,\n",
       "   0.10426311464466488,\n",
       "   0.10445497339703552,\n",
       "   0.10446912047560054,\n",
       "   0.10383424570422427,\n",
       "   0.10254815951673323,\n",
       "   0.10224363306356128,\n",
       "   0.1022388355815622,\n",
       "   0.10211101411891595,\n",
       "   0.10215751881438927,\n",
       "   0.10185742201042164,\n",
       "   0.1016774800694503,\n",
       "   0.10172988669225794,\n",
       "   0.10146675428392754,\n",
       "   0.10149122636840471,\n",
       "   0.10119466620129826,\n",
       "   0.10146872426678973,\n",
       "   0.10119039150355977,\n",
       "   0.10111380750270002,\n",
       "   0.10114944391773044,\n",
       "   0.10087755057396137,\n",
       "   0.1007437258585611,\n",
       "   0.10069552280007325,\n",
       "   0.10054634314280063,\n",
       "   0.10068788126440144,\n",
       "   0.09983315455462884,\n",
       "   0.09982540742296436,\n",
       "   0.0996687173690105,\n",
       "   0.0996993894008486,\n",
       "   0.09960096278760489,\n",
       "   0.09952704885299904,\n",
       "   0.09946599089187062,\n",
       "   0.09950010421397412,\n",
       "   0.09947012842874808,\n",
       "   0.09939391460042606,\n",
       "   0.09901918611512091,\n",
       "   0.09900310224691103],\n",
       "  'target_temp_denorm_MAE': [0.1291274300100592,\n",
       "   0.10742692794690824,\n",
       "   0.10468750261494424,\n",
       "   0.10312552581633323,\n",
       "   0.10218278021639976,\n",
       "   0.10151202786419684,\n",
       "   0.10086129989820118,\n",
       "   0.10038662134629431,\n",
       "   0.09988557990643228,\n",
       "   0.09962633684557991,\n",
       "   0.09929561589628826,\n",
       "   0.09899374063363545,\n",
       "   0.09878412840321632,\n",
       "   0.09862124933401166,\n",
       "   0.09835054792512886,\n",
       "   0.09817713100929536,\n",
       "   0.09793992870164894,\n",
       "   0.09781169259013829,\n",
       "   0.09766362578587638,\n",
       "   0.09750083462897105,\n",
       "   0.097354318074777,\n",
       "   0.09723470804794702,\n",
       "   0.0971492345885411,\n",
       "   0.0970018605532057,\n",
       "   0.09701419459583954,\n",
       "   0.09676607714012503,\n",
       "   0.09672119894321954,\n",
       "   0.09659473095063874,\n",
       "   0.09645968249929471,\n",
       "   0.09639684100080481,\n",
       "   0.09629680198016909,\n",
       "   0.09621710236402964,\n",
       "   0.09611747910556762,\n",
       "   0.0960239364980957,\n",
       "   0.09596450222320323,\n",
       "   0.09588173062699587,\n",
       "   0.09582377581397492,\n",
       "   0.09575035069691189,\n",
       "   0.09566928836156055,\n",
       "   0.09558807655617065,\n",
       "   0.09551036582776667,\n",
       "   0.09546739084550149,\n",
       "   0.09537209679762322,\n",
       "   0.0953516642801038,\n",
       "   0.09523055907686231,\n",
       "   0.0952110915886703,\n",
       "   0.0951110256456004,\n",
       "   0.09509701477856936,\n",
       "   0.09513170531107526,\n",
       "   0.09495728529115985,\n",
       "   0.09491854198796622,\n",
       "   0.09488993159194123,\n",
       "   0.09484541583119559,\n",
       "   0.09457151439568655,\n",
       "   0.09457435789201431,\n",
       "   0.09456700240622297,\n",
       "   0.09453386726101437,\n",
       "   0.09450792225494738,\n",
       "   0.09448842675279673,\n",
       "   0.09448754183516252,\n",
       "   0.09445001824479182,\n",
       "   0.09444150815245035,\n",
       "   0.09442354067596324,\n",
       "   0.09438847628033396,\n",
       "   0.09435212054224354,\n",
       "   0.09434379916915897,\n",
       "   0.09430783946036278,\n",
       "   0.09429481117820113,\n",
       "   0.0941648748744965,\n",
       "   0.09414248843412434,\n",
       "   0.09416294754373,\n",
       "   0.09413746188976393,\n",
       "   0.09414240279191163,\n",
       "   0.09412947702416649,\n",
       "   0.09410909479280882,\n",
       "   0.0940928716660118,\n",
       "   0.0940956270887974,\n",
       "   0.09408534123630256,\n",
       "   0.09408257155928895,\n",
       "   0.0940627292925155,\n",
       "   0.09405453934544679,\n",
       "   0.09402867711331611,\n",
       "   0.09403968674663528,\n",
       "   0.09402693325222303,\n",
       "   0.09402088282487937,\n",
       "   0.09401458733921156,\n",
       "   0.09400509256441988,\n",
       "   0.09397088441322356,\n",
       "   0.09395868229668357,\n",
       "   0.09393192749994014,\n",
       "   0.09392440074713383,\n",
       "   0.09392840297419451,\n",
       "   0.0938961961844893,\n",
       "   0.09391250053832348,\n",
       "   0.093906206148976,\n",
       "   0.09390619773044441,\n",
       "   0.09391497498662048,\n",
       "   0.09390396933224203,\n",
       "   0.09385397973724732,\n",
       "   0.093883658201277],\n",
       "  'target_temp_sgn_acc': [0.5771938853435377,\n",
       "   0.6105187529852961,\n",
       "   0.6151020131985697,\n",
       "   0.6171054928303914,\n",
       "   0.6188455836876705,\n",
       "   0.6208050847124449,\n",
       "   0.6232538829545392,\n",
       "   0.6241581828961381,\n",
       "   0.6256050962303561,\n",
       "   0.6265736456443743,\n",
       "   0.6277668660157849,\n",
       "   0.6288976083102122,\n",
       "   0.6292293831974645,\n",
       "   0.6298177480756229,\n",
       "   0.6306086173504826,\n",
       "   0.631220094755152,\n",
       "   0.6318295600756467,\n",
       "   0.6328173202973776,\n",
       "   0.6326409997573862,\n",
       "   0.6335648035582658,\n",
       "   0.6338166057176533,\n",
       "   0.6341134480466611,\n",
       "   0.6348894806980282,\n",
       "   0.6350157367245565,\n",
       "   0.6346217199240877,\n",
       "   0.6360958816389338,\n",
       "   0.6364747672532663,\n",
       "   0.6363142881198965,\n",
       "   0.6373405273111866,\n",
       "   0.636971690955277,\n",
       "   0.6372207745610109,\n",
       "   0.6377292824718728,\n",
       "   0.6379410091006192,\n",
       "   0.6383901146071352,\n",
       "   0.6384366915827479,\n",
       "   0.6389885268505995,\n",
       "   0.6393668793189641,\n",
       "   0.6393682399284601,\n",
       "   0.6394287071969109,\n",
       "   0.6396858282624361,\n",
       "   0.6401357608062588,\n",
       "   0.6400274751565246,\n",
       "   0.6405819695547559,\n",
       "   0.6405411261127966,\n",
       "   0.6412060354629828,\n",
       "   0.6411563257768355,\n",
       "   0.641677248621149,\n",
       "   0.6418312248477676,\n",
       "   0.6413510880659339,\n",
       "   0.6420730384386959,\n",
       "   0.642312543938931,\n",
       "   0.6423014907754004,\n",
       "   0.6425098474919619,\n",
       "   0.647098077328427,\n",
       "   0.646598612543971,\n",
       "   0.6466076565544437,\n",
       "   0.6465726645804826,\n",
       "   0.6463120555454208,\n",
       "   0.6465016160612066,\n",
       "   0.6462165375017442,\n",
       "   0.6466662936153812,\n",
       "   0.6464487143441436,\n",
       "   0.6464889081176929,\n",
       "   0.6464885541021282,\n",
       "   0.6465516807386011,\n",
       "   0.6464231797548513,\n",
       "   0.6467946162805951,\n",
       "   0.6467532994799624,\n",
       "   0.6484247665128343,\n",
       "   0.6483402420612949,\n",
       "   0.6482808385181491,\n",
       "   0.648166049829821,\n",
       "   0.6483378775183228,\n",
       "   0.6483242234163407,\n",
       "   0.648063793017214,\n",
       "   0.6483809076617472,\n",
       "   0.6481445340613422,\n",
       "   0.6482418263759977,\n",
       "   0.648306018742389,\n",
       "   0.6481837229992115,\n",
       "   0.648148198710682,\n",
       "   0.6482965013253424,\n",
       "   0.6482141636309581,\n",
       "   0.6484847025695915,\n",
       "   0.6481039857139315,\n",
       "   0.6482660020170817,\n",
       "   0.6484664982190846,\n",
       "   0.6485620753811923,\n",
       "   0.6490033197867171,\n",
       "   0.6491631486218779,\n",
       "   0.6491163347668973,\n",
       "   0.6489985913803326,\n",
       "   0.649112256666744,\n",
       "   0.649035060947914,\n",
       "   0.6490756687323176,\n",
       "   0.6491443519225646,\n",
       "   0.6490335835208991,\n",
       "   0.6490464097690569,\n",
       "   0.6494474009116046,\n",
       "   0.6492989795800302],\n",
       "  'target_temp_perBLMAE': [0.9147298812856677,\n",
       "   0.8955270163863194,\n",
       "   0.8955649392297507,\n",
       "   0.89727799275983,\n",
       "   0.8983146772882781,\n",
       "   0.8980861729984562,\n",
       "   0.8972150752322801,\n",
       "   0.8971318136149202,\n",
       "   0.8971053998746441,\n",
       "   0.897342409121511,\n",
       "   0.8971715579905217,\n",
       "   0.896813288682467,\n",
       "   0.8969904936005286,\n",
       "   0.8967608925529914,\n",
       "   0.8967081325268405,\n",
       "   0.8970587537018418,\n",
       "   0.8967949330354816,\n",
       "   0.8968922184361848,\n",
       "   0.8970129147878478,\n",
       "   0.8966237314176385,\n",
       "   0.8969956107809348,\n",
       "   0.8969190450199144,\n",
       "   0.896950283146087,\n",
       "   0.8967416672747863,\n",
       "   0.8967896573978174,\n",
       "   0.8964858757492218,\n",
       "   0.8967345852826746,\n",
       "   0.8963971865276932,\n",
       "   0.8963996757211985,\n",
       "   0.8962627698358783,\n",
       "   0.8960911179186972,\n",
       "   0.896114779314058,\n",
       "   0.896210928673617,\n",
       "   0.8959837066226861,\n",
       "   0.8960778377178565,\n",
       "   0.8961288758765503,\n",
       "   0.8955001713336825,\n",
       "   0.8959286033489501,\n",
       "   0.895696104178694,\n",
       "   0.8956886012734019,\n",
       "   0.8950279284952762,\n",
       "   0.8952908301242818,\n",
       "   0.8948501355436409,\n",
       "   0.8952632468341198,\n",
       "   0.8948107902833422,\n",
       "   0.894975648604909,\n",
       "   0.8946101254556837,\n",
       "   0.8946821295633206,\n",
       "   0.8952515479487405,\n",
       "   0.8945138132179506,\n",
       "   0.8946369996739265,\n",
       "   0.8945265388211784,\n",
       "   0.8943167778823914,\n",
       "   0.8959512351256903,\n",
       "   0.8963286317005026,\n",
       "   0.8964218880021256,\n",
       "   0.8963396475209243,\n",
       "   0.896305854863653,\n",
       "   0.8963235379728672,\n",
       "   0.896569108641149,\n",
       "   0.896373136481085,\n",
       "   0.896498451109085,\n",
       "   0.8963434905050769,\n",
       "   0.8964828127865002,\n",
       "   0.8963618454850591,\n",
       "   0.8964247155686517,\n",
       "   0.8962364013839198,\n",
       "   0.8963091161746541,\n",
       "   0.8964891224743972,\n",
       "   0.8963647784189023,\n",
       "   0.896697887511417,\n",
       "   0.8964888319226086,\n",
       "   0.8965786636572003,\n",
       "   0.8965840371572624,\n",
       "   0.8965844563517209,\n",
       "   0.8963736740631995,\n",
       "   0.8965136031571782,\n",
       "   0.8965781935007701,\n",
       "   0.8966017932419946,\n",
       "   0.8965096556243192,\n",
       "   0.8965678609172595,\n",
       "   0.8963792537805972,\n",
       "   0.8964862954761667,\n",
       "   0.8965019837334198,\n",
       "   0.896531000613944,\n",
       "   0.8964944907249339,\n",
       "   0.896511532834454,\n",
       "   0.896333646763619,\n",
       "   0.8966715742996911,\n",
       "   0.8965356816835659,\n",
       "   0.8964827840182826,\n",
       "   0.896572580318113,\n",
       "   0.8963844764465604,\n",
       "   0.8965830369165448,\n",
       "   0.89645777435281,\n",
       "   0.8965134945476235,\n",
       "   0.8966353430690719,\n",
       "   0.8964816450583456,\n",
       "   0.8964348788249732,\n",
       "   0.8966542331424341],\n",
       "  'target_dens_denorm_MAE': [0.32666262772647353,\n",
       "   0.2873660247768928,\n",
       "   0.28051182117112977,\n",
       "   0.2765701931513841,\n",
       "   0.2737960345251458,\n",
       "   0.2716335442368959,\n",
       "   0.26977527325714845,\n",
       "   0.2686215859771282,\n",
       "   0.2672442993626775,\n",
       "   0.266138685579631,\n",
       "   0.2649296567364643,\n",
       "   0.2640130350032264,\n",
       "   0.26316734861840574,\n",
       "   0.26273273620837573,\n",
       "   0.26163238747023443,\n",
       "   0.26097765508990006,\n",
       "   0.260282024975647,\n",
       "   0.25967571006202406,\n",
       "   0.25916527683779833,\n",
       "   0.25852487689007064,\n",
       "   0.25794878558248907,\n",
       "   0.2576846843526459,\n",
       "   0.25722922580741586,\n",
       "   0.2567184271246613,\n",
       "   0.2565421067653142,\n",
       "   0.2557391435687285,\n",
       "   0.25566870095032856,\n",
       "   0.2551347306812867,\n",
       "   0.2546545879818491,\n",
       "   0.254367969261265,\n",
       "   0.25404610326774024,\n",
       "   0.25369050274684574,\n",
       "   0.2531817507781644,\n",
       "   0.2529617080263529,\n",
       "   0.25258355589108766,\n",
       "   0.2523970044423189,\n",
       "   0.2521628556948381,\n",
       "   0.2519035126898625,\n",
       "   0.25153367608570715,\n",
       "   0.25119785571521575,\n",
       "   0.250902119111378,\n",
       "   0.25071547447522113,\n",
       "   0.25049220634971836,\n",
       "   0.25021211932793697,\n",
       "   0.25000999165679316,\n",
       "   0.24976078166793952,\n",
       "   0.24953168690327396,\n",
       "   0.24947870819030438,\n",
       "   0.24936765284854404,\n",
       "   0.2488194764201172,\n",
       "   0.24877043803429133,\n",
       "   0.2486097162591905,\n",
       "   0.24829648656693523,\n",
       "   0.2476368971962013,\n",
       "   0.2475703883529789,\n",
       "   0.24746599479458997,\n",
       "   0.24737806522636413,\n",
       "   0.24730004699612948,\n",
       "   0.24710322834823958,\n",
       "   0.2471461483490308,\n",
       "   0.2470128927775106,\n",
       "   0.246978522675646,\n",
       "   0.2468527418666104,\n",
       "   0.24668546177699002,\n",
       "   0.24662140648823688,\n",
       "   0.24656880343361395,\n",
       "   0.24653157820164,\n",
       "   0.2463685277881779,\n",
       "   0.24609500988289107,\n",
       "   0.24603825230881657,\n",
       "   0.2460104371926467,\n",
       "   0.24595998829898866,\n",
       "   0.24595660281372728,\n",
       "   0.24590765122234262,\n",
       "   0.24584782352569706,\n",
       "   0.24584511358849898,\n",
       "   0.24583040698743217,\n",
       "   0.2457063728397229,\n",
       "   0.24574258218009343,\n",
       "   0.2456435235846035,\n",
       "   0.24566387961794975,\n",
       "   0.24561187138988078,\n",
       "   0.24553839294245855,\n",
       "   0.24549730237297704,\n",
       "   0.24554648403572227,\n",
       "   0.24542620926276046,\n",
       "   0.24542759697741323,\n",
       "   0.24537648533597334,\n",
       "   0.24524293992591156,\n",
       "   0.24519628149792883,\n",
       "   0.2452304878988813,\n",
       "   0.24519234069648854,\n",
       "   0.24516093545672402,\n",
       "   0.24513175544800128,\n",
       "   0.24514852152095762,\n",
       "   0.2451214612607717,\n",
       "   0.24510117402612236,\n",
       "   0.2450939549264926,\n",
       "   0.24499181196189157,\n",
       "   0.2449983880505283],\n",
       "  'target_dens_sgn_acc': [0.5863655494204135,\n",
       "   0.6110662144105097,\n",
       "   0.6187160735267324,\n",
       "   0.6229798546639973,\n",
       "   0.6258807157521166,\n",
       "   0.6288395595193282,\n",
       "   0.6313908535936905,\n",
       "   0.632513083974452,\n",
       "   0.6343655995943297,\n",
       "   0.6358172996526573,\n",
       "   0.6370987687964432,\n",
       "   0.6383191782342631,\n",
       "   0.6396217491288139,\n",
       "   0.639174298408443,\n",
       "   0.6407800360297773,\n",
       "   0.6411502906270703,\n",
       "   0.6421033533649352,\n",
       "   0.642749880834112,\n",
       "   0.6430457179328418,\n",
       "   0.6437340353856507,\n",
       "   0.644165525515572,\n",
       "   0.6451116138465992,\n",
       "   0.6451603775833198,\n",
       "   0.6459638384449264,\n",
       "   0.6461556443238096,\n",
       "   0.6476714774677935,\n",
       "   0.6471908094189249,\n",
       "   0.6478164113219744,\n",
       "   0.6481685211887521,\n",
       "   0.6488055301128948,\n",
       "   0.6485807412713833,\n",
       "   0.649173835138057,\n",
       "   0.6495502362518567,\n",
       "   0.6499400550366985,\n",
       "   0.6503749159464787,\n",
       "   0.6505729884818463,\n",
       "   0.6506440950288865,\n",
       "   0.6511583961238541,\n",
       "   0.6512215241245618,\n",
       "   0.6514570126395499,\n",
       "   0.652270046926937,\n",
       "   0.6521531319484243,\n",
       "   0.6523763832366023,\n",
       "   0.6529932376732998,\n",
       "   0.6529388584180741,\n",
       "   0.6533472377907811,\n",
       "   0.6535375666718938,\n",
       "   0.6537092174246968,\n",
       "   0.6539305780476922,\n",
       "   0.6544111281609368,\n",
       "   0.654772871598881,\n",
       "   0.6549830024005163,\n",
       "   0.6549099442254597,\n",
       "   0.6590861274465062,\n",
       "   0.6590167356286988,\n",
       "   0.6586839549986795,\n",
       "   0.6588128105953553,\n",
       "   0.6590991905688,\n",
       "   0.6591329423658782,\n",
       "   0.6587062384651331,\n",
       "   0.6592968490890115,\n",
       "   0.6591119582072952,\n",
       "   0.6591369607646556,\n",
       "   0.6595472915928442,\n",
       "   0.6595142496526958,\n",
       "   0.6596380814462699,\n",
       "   0.6595675075754934,\n",
       "   0.6596203495873438,\n",
       "   0.6613622143300725,\n",
       "   0.6614811993041443,\n",
       "   0.6610558550405845,\n",
       "   0.6614008123347587,\n",
       "   0.6613691304066287,\n",
       "   0.6614501079455255,\n",
       "   0.6613420586811559,\n",
       "   0.6613518700467428,\n",
       "   0.6613927137573868,\n",
       "   0.6615573315655404,\n",
       "   0.6616308030614282,\n",
       "   0.6615346913301722,\n",
       "   0.6615695074727042,\n",
       "   0.6616511947636611,\n",
       "   0.6616514904306908,\n",
       "   0.661715268370586,\n",
       "   0.6617871438560153,\n",
       "   0.661758180770221,\n",
       "   0.6616889649818393,\n",
       "   0.66170640233916,\n",
       "   0.6625040107391814,\n",
       "   0.6625504104666952,\n",
       "   0.6624819037841816,\n",
       "   0.6625867028704688,\n",
       "   0.6626104645363914,\n",
       "   0.6624429516491789,\n",
       "   0.662478062183331,\n",
       "   0.6625359288802574,\n",
       "   0.6626134788741519,\n",
       "   0.6626439197569113,\n",
       "   0.6628640399120164,\n",
       "   0.6629560126659712],\n",
       "  'target_dens_perBLMAE': [0.9074624663055538,\n",
       "   0.8954842565699664,\n",
       "   0.8936817231137154,\n",
       "   0.8917837243318023,\n",
       "   0.8911593897854627,\n",
       "   0.8902352727480598,\n",
       "   0.8894923202787824,\n",
       "   0.8892622219052193,\n",
       "   0.8883992069209846,\n",
       "   0.8873601272521747,\n",
       "   0.886706534123802,\n",
       "   0.8860796365941301,\n",
       "   0.8855338781721708,\n",
       "   0.8850064820206067,\n",
       "   0.8843539865606407,\n",
       "   0.8839332722813755,\n",
       "   0.8835638976026372,\n",
       "   0.8830174134390275,\n",
       "   0.882825627967279,\n",
       "   0.8822001743886667,\n",
       "   0.8817498620572862,\n",
       "   0.8817956859305158,\n",
       "   0.8814017149046944,\n",
       "   0.8810055412273476,\n",
       "   0.8809560106525364,\n",
       "   0.8800828598375879,\n",
       "   0.880401983310804,\n",
       "   0.8797894984803385,\n",
       "   0.8795786769826806,\n",
       "   0.8790659108998772,\n",
       "   0.8786410720908995,\n",
       "   0.8785324809174402,\n",
       "   0.8780273251987084,\n",
       "   0.8779206401418387,\n",
       "   0.8774439221722302,\n",
       "   0.8775037677610584,\n",
       "   0.87710201702177,\n",
       "   0.8769677071233591,\n",
       "   0.8765276143159525,\n",
       "   0.8762250428104953,\n",
       "   0.8758571047897292,\n",
       "   0.8758387094256525,\n",
       "   0.8754724525738726,\n",
       "   0.8751367859824033,\n",
       "   0.8749911461808823,\n",
       "   0.8748090851484077,\n",
       "   0.874613726756125,\n",
       "   0.8746835846474244,\n",
       "   0.874491971275166,\n",
       "   0.8738417403251363,\n",
       "   0.873816680882881,\n",
       "   0.8737696821181595,\n",
       "   0.87325118680124,\n",
       "   0.8747286705036806,\n",
       "   0.8750643356504609,\n",
       "   0.8750755620922762,\n",
       "   0.8749869748384064,\n",
       "   0.8747460525236886,\n",
       "   0.8746432462046433,\n",
       "   0.8748109664133451,\n",
       "   0.8747240752636589,\n",
       "   0.8747930869794159,\n",
       "   0.8745864184533367,\n",
       "   0.8743326387145449,\n",
       "   0.8743334102511887,\n",
       "   0.8742409036844954,\n",
       "   0.8743619008070352,\n",
       "   0.8739800778074825,\n",
       "   0.874548561497541,\n",
       "   0.8743975698874544,\n",
       "   0.8745641620685837,\n",
       "   0.8744297172640443,\n",
       "   0.8745136816705651,\n",
       "   0.8744566606459929,\n",
       "   0.8744151296166619,\n",
       "   0.8744575688794541,\n",
       "   0.874389243178955,\n",
       "   0.8743539426178442,\n",
       "   0.8742769255818034,\n",
       "   0.8741963069143286,\n",
       "   0.874273937987068,\n",
       "   0.8742128582510096,\n",
       "   0.87417826956365,\n",
       "   0.8740368776158094,\n",
       "   0.8742212674530472,\n",
       "   0.8740964218644187,\n",
       "   0.874023580168106,\n",
       "   0.8739663836629877,\n",
       "   0.8741447189293559,\n",
       "   0.8740700621760471,\n",
       "   0.8742125416185486,\n",
       "   0.874067928628003,\n",
       "   0.8740268616949884,\n",
       "   0.874040236863617,\n",
       "   0.8741216733488263,\n",
       "   0.8740620394054397,\n",
       "   0.874037394049145,\n",
       "   0.8739827814620968,\n",
       "   0.8740603846990512,\n",
       "   0.8739767129303171],\n",
       "  'lr': [0.01,\n",
       "   0.01,\n",
       "   0.01,\n",
       "   0.01,\n",
       "   0.01,\n",
       "   0.01,\n",
       "   0.01,\n",
       "   0.01,\n",
       "   0.01,\n",
       "   0.01,\n",
       "   0.01,\n",
       "   0.01,\n",
       "   0.01,\n",
       "   0.01,\n",
       "   0.01,\n",
       "   0.01,\n",
       "   0.01,\n",
       "   0.01,\n",
       "   0.01,\n",
       "   0.01,\n",
       "   0.01,\n",
       "   0.01,\n",
       "   0.01,\n",
       "   0.01,\n",
       "   0.01,\n",
       "   0.01,\n",
       "   0.01,\n",
       "   0.01,\n",
       "   0.01,\n",
       "   0.01,\n",
       "   0.01,\n",
       "   0.01,\n",
       "   0.01,\n",
       "   0.01,\n",
       "   0.01,\n",
       "   0.01,\n",
       "   0.01,\n",
       "   0.01,\n",
       "   0.01,\n",
       "   0.01,\n",
       "   0.01,\n",
       "   0.01,\n",
       "   0.01,\n",
       "   0.01,\n",
       "   0.01,\n",
       "   0.01,\n",
       "   0.01,\n",
       "   0.01,\n",
       "   0.01,\n",
       "   0.01,\n",
       "   0.01,\n",
       "   0.01,\n",
       "   0.01,\n",
       "   0.005,\n",
       "   0.005,\n",
       "   0.005,\n",
       "   0.005,\n",
       "   0.005,\n",
       "   0.005,\n",
       "   0.005,\n",
       "   0.005,\n",
       "   0.005,\n",
       "   0.005,\n",
       "   0.005,\n",
       "   0.005,\n",
       "   0.005,\n",
       "   0.005,\n",
       "   0.005,\n",
       "   0.0025,\n",
       "   0.0025,\n",
       "   0.0025,\n",
       "   0.0025,\n",
       "   0.0025,\n",
       "   0.0025,\n",
       "   0.0025,\n",
       "   0.0025,\n",
       "   0.0025,\n",
       "   0.0025,\n",
       "   0.0025,\n",
       "   0.0025,\n",
       "   0.0025,\n",
       "   0.0025,\n",
       "   0.0025,\n",
       "   0.0025,\n",
       "   0.0025,\n",
       "   0.0025,\n",
       "   0.0025,\n",
       "   0.0025,\n",
       "   0.00125,\n",
       "   0.00125,\n",
       "   0.00125,\n",
       "   0.00125,\n",
       "   0.00125,\n",
       "   0.00125,\n",
       "   0.00125,\n",
       "   0.00125,\n",
       "   0.00125,\n",
       "   0.00125,\n",
       "   0.000625,\n",
       "   0.000625]},\n",
       " 'history_params': {'epochs': 100,\n",
       "  'steps': 4006,\n",
       "  'verbose': 1,\n",
       "  'do_validation': True,\n",
       "  'metrics': ['loss',\n",
       "   'target_temp_loss',\n",
       "   'target_dens_loss',\n",
       "   'target_temp_denorm_MAE',\n",
       "   'target_temp_sgn_acc',\n",
       "   'target_temp_perBLMAE',\n",
       "   'target_dens_denorm_MAE',\n",
       "   'target_dens_sgn_acc',\n",
       "   'target_dens_perBLMAE',\n",
       "   'val_loss',\n",
       "   'val_target_temp_loss',\n",
       "   'val_target_dens_loss',\n",
       "   'val_target_temp_denorm_MAE',\n",
       "   'val_target_temp_sgn_acc',\n",
       "   'val_target_temp_perBLMAE',\n",
       "   'val_target_dens_denorm_MAE',\n",
       "   'val_target_dens_sgn_acc',\n",
       "   'val_target_dens_perBLMAE']}}"
      ]
     },
     "execution_count": 96,
     "metadata": {},
     "output_type": "execute_result"
    }
   ],
   "source": [
    "params[12]"
   ]
  },
  {
   "cell_type": "code",
   "execution_count": null,
   "metadata": {},
   "outputs": [
    {
     "data": {
      "application/vnd.jupyter.widget-view+json": {
       "model_id": "d8f4d30f972748e3bd810eeb8997b6ce",
       "version_major": 2,
       "version_minor": 0
      },
      "text/plain": [
       "HBox(children=(IntProgress(value=0, max=102), HTML(value='')))"
      ]
     },
     "metadata": {},
     "output_type": "display_data"
    },
    {
     "data": {
      "application/vnd.jupyter.widget-view+json": {
       "model_id": "",
       "version_major": 2,
       "version_minor": 0
      },
      "text/plain": [
       "HBox(children=(IntProgress(value=0, max=1281), HTML(value='')))"
      ]
     },
     "metadata": {},
     "output_type": "display_data"
    },
    {
     "data": {
      "application/vnd.jupyter.widget-view+json": {
       "model_id": "",
       "version_major": 2,
       "version_minor": 0
      },
      "text/plain": [
       "HBox(children=(IntProgress(value=0, max=1281), HTML(value='')))"
      ]
     },
     "metadata": {},
     "output_type": "display_data"
    },
    {
     "data": {
      "application/vnd.jupyter.widget-view+json": {
       "model_id": "",
       "version_major": 2,
       "version_minor": 0
      },
      "text/plain": [
       "HBox(children=(IntProgress(value=0, max=1281), HTML(value='')))"
      ]
     },
     "metadata": {},
     "output_type": "display_data"
    },
    {
     "data": {
      "application/vnd.jupyter.widget-view+json": {
       "model_id": "",
       "version_major": 2,
       "version_minor": 0
      },
      "text/plain": [
       "HBox(children=(IntProgress(value=0, max=1281), HTML(value='')))"
      ]
     },
     "metadata": {},
     "output_type": "display_data"
    },
    {
     "data": {
      "application/vnd.jupyter.widget-view+json": {
       "model_id": "",
       "version_major": 2,
       "version_minor": 0
      },
      "text/plain": [
       "HBox(children=(IntProgress(value=0, max=1281), HTML(value='')))"
      ]
     },
     "metadata": {},
     "output_type": "display_data"
    },
    {
     "data": {
      "application/vnd.jupyter.widget-view+json": {
       "model_id": "",
       "version_major": 2,
       "version_minor": 0
      },
      "text/plain": [
       "HBox(children=(IntProgress(value=0, max=1281), HTML(value='')))"
      ]
     },
     "metadata": {},
     "output_type": "display_data"
    },
    {
     "data": {
      "application/vnd.jupyter.widget-view+json": {
       "model_id": "",
       "version_major": 2,
       "version_minor": 0
      },
      "text/plain": [
       "HBox(children=(IntProgress(value=0, max=1281), HTML(value='')))"
      ]
     },
     "metadata": {},
     "output_type": "display_data"
    },
    {
     "data": {
      "application/vnd.jupyter.widget-view+json": {
       "model_id": "",
       "version_major": 2,
       "version_minor": 0
      },
      "text/plain": [
       "HBox(children=(IntProgress(value=0, max=1281), HTML(value='')))"
      ]
     },
     "metadata": {},
     "output_type": "display_data"
    },
    {
     "data": {
      "application/vnd.jupyter.widget-view+json": {
       "model_id": "",
       "version_major": 2,
       "version_minor": 0
      },
      "text/plain": [
       "HBox(children=(IntProgress(value=0, max=1281), HTML(value='')))"
      ]
     },
     "metadata": {},
     "output_type": "display_data"
    },
    {
     "data": {
      "application/vnd.jupyter.widget-view+json": {
       "model_id": "",
       "version_major": 2,
       "version_minor": 0
      },
      "text/plain": [
       "HBox(children=(IntProgress(value=0, max=1281), HTML(value='')))"
      ]
     },
     "metadata": {},
     "output_type": "display_data"
    },
    {
     "data": {
      "application/vnd.jupyter.widget-view+json": {
       "model_id": "",
       "version_major": 2,
       "version_minor": 0
      },
      "text/plain": [
       "HBox(children=(IntProgress(value=0, max=1281), HTML(value='')))"
      ]
     },
     "metadata": {},
     "output_type": "display_data"
    },
    {
     "data": {
      "application/vnd.jupyter.widget-view+json": {
       "model_id": "",
       "version_major": 2,
       "version_minor": 0
      },
      "text/plain": [
       "HBox(children=(IntProgress(value=0, max=1281), HTML(value='')))"
      ]
     },
     "metadata": {},
     "output_type": "display_data"
    },
    {
     "data": {
      "application/vnd.jupyter.widget-view+json": {
       "model_id": "",
       "version_major": 2,
       "version_minor": 0
      },
      "text/plain": [
       "HBox(children=(IntProgress(value=0, max=1281), HTML(value='')))"
      ]
     },
     "metadata": {},
     "output_type": "display_data"
    },
    {
     "data": {
      "application/vnd.jupyter.widget-view+json": {
       "model_id": "",
       "version_major": 2,
       "version_minor": 0
      },
      "text/plain": [
       "HBox(children=(IntProgress(value=0, max=1281), HTML(value='')))"
      ]
     },
     "metadata": {},
     "output_type": "display_data"
    },
    {
     "data": {
      "application/vnd.jupyter.widget-view+json": {
       "model_id": "",
       "version_major": 2,
       "version_minor": 0
      },
      "text/plain": [
       "HBox(children=(IntProgress(value=0, max=1281), HTML(value='')))"
      ]
     },
     "metadata": {},
     "output_type": "display_data"
    },
    {
     "data": {
      "application/vnd.jupyter.widget-view+json": {
       "model_id": "",
       "version_major": 2,
       "version_minor": 0
      },
      "text/plain": [
       "HBox(children=(IntProgress(value=0, max=1281), HTML(value='')))"
      ]
     },
     "metadata": {},
     "output_type": "display_data"
    },
    {
     "data": {
      "application/vnd.jupyter.widget-view+json": {
       "model_id": "",
       "version_major": 2,
       "version_minor": 0
      },
      "text/plain": [
       "HBox(children=(IntProgress(value=0, max=1281), HTML(value='')))"
      ]
     },
     "metadata": {},
     "output_type": "display_data"
    },
    {
     "data": {
      "application/vnd.jupyter.widget-view+json": {
       "model_id": "",
       "version_major": 2,
       "version_minor": 0
      },
      "text/plain": [
       "HBox(children=(IntProgress(value=0, max=1281), HTML(value='')))"
      ]
     },
     "metadata": {},
     "output_type": "display_data"
    },
    {
     "data": {
      "application/vnd.jupyter.widget-view+json": {
       "model_id": "",
       "version_major": 2,
       "version_minor": 0
      },
      "text/plain": [
       "HBox(children=(IntProgress(value=0, max=1281), HTML(value='')))"
      ]
     },
     "metadata": {},
     "output_type": "display_data"
    },
    {
     "data": {
      "application/vnd.jupyter.widget-view+json": {
       "model_id": "",
       "version_major": 2,
       "version_minor": 0
      },
      "text/plain": [
       "HBox(children=(IntProgress(value=0, max=1281), HTML(value='')))"
      ]
     },
     "metadata": {},
     "output_type": "display_data"
    },
    {
     "data": {
      "application/vnd.jupyter.widget-view+json": {
       "model_id": "",
       "version_major": 2,
       "version_minor": 0
      },
      "text/plain": [
       "HBox(children=(IntProgress(value=0, max=1281), HTML(value='')))"
      ]
     },
     "metadata": {},
     "output_type": "display_data"
    },
    {
     "data": {
      "application/vnd.jupyter.widget-view+json": {
       "model_id": "",
       "version_major": 2,
       "version_minor": 0
      },
      "text/plain": [
       "HBox(children=(IntProgress(value=0, max=1281), HTML(value='')))"
      ]
     },
     "metadata": {},
     "output_type": "display_data"
    },
    {
     "data": {
      "application/vnd.jupyter.widget-view+json": {
       "model_id": "",
       "version_major": 2,
       "version_minor": 0
      },
      "text/plain": [
       "HBox(children=(IntProgress(value=0, max=1281), HTML(value='')))"
      ]
     },
     "metadata": {},
     "output_type": "display_data"
    },
    {
     "data": {
      "application/vnd.jupyter.widget-view+json": {
       "model_id": "",
       "version_major": 2,
       "version_minor": 0
      },
      "text/plain": [
       "HBox(children=(IntProgress(value=0, max=1281), HTML(value='')))"
      ]
     },
     "metadata": {},
     "output_type": "display_data"
    },
    {
     "data": {
      "application/vnd.jupyter.widget-view+json": {
       "model_id": "",
       "version_major": 2,
       "version_minor": 0
      },
      "text/plain": [
       "HBox(children=(IntProgress(value=0, max=1281), HTML(value='')))"
      ]
     },
     "metadata": {},
     "output_type": "display_data"
    },
    {
     "data": {
      "application/vnd.jupyter.widget-view+json": {
       "model_id": "",
       "version_major": 2,
       "version_minor": 0
      },
      "text/plain": [
       "HBox(children=(IntProgress(value=0, max=1281), HTML(value='')))"
      ]
     },
     "metadata": {},
     "output_type": "display_data"
    },
    {
     "data": {
      "application/vnd.jupyter.widget-view+json": {
       "model_id": "",
       "version_major": 2,
       "version_minor": 0
      },
      "text/plain": [
       "HBox(children=(IntProgress(value=0, max=1281), HTML(value='')))"
      ]
     },
     "metadata": {},
     "output_type": "display_data"
    },
    {
     "data": {
      "application/vnd.jupyter.widget-view+json": {
       "model_id": "",
       "version_major": 2,
       "version_minor": 0
      },
      "text/plain": [
       "HBox(children=(IntProgress(value=0, max=1281), HTML(value='')))"
      ]
     },
     "metadata": {},
     "output_type": "display_data"
    },
    {
     "data": {
      "application/vnd.jupyter.widget-view+json": {
       "model_id": "",
       "version_major": 2,
       "version_minor": 0
      },
      "text/plain": [
       "HBox(children=(IntProgress(value=0, max=1281), HTML(value='')))"
      ]
     },
     "metadata": {},
     "output_type": "display_data"
    },
    {
     "data": {
      "application/vnd.jupyter.widget-view+json": {
       "model_id": "",
       "version_major": 2,
       "version_minor": 0
      },
      "text/plain": [
       "HBox(children=(IntProgress(value=0, max=1281), HTML(value='')))"
      ]
     },
     "metadata": {},
     "output_type": "display_data"
    },
    {
     "data": {
      "application/vnd.jupyter.widget-view+json": {
       "model_id": "",
       "version_major": 2,
       "version_minor": 0
      },
      "text/plain": [
       "HBox(children=(IntProgress(value=0, max=1281), HTML(value='')))"
      ]
     },
     "metadata": {},
     "output_type": "display_data"
    },
    {
     "data": {
      "application/vnd.jupyter.widget-view+json": {
       "model_id": "",
       "version_major": 2,
       "version_minor": 0
      },
      "text/plain": [
       "HBox(children=(IntProgress(value=0, max=1281), HTML(value='')))"
      ]
     },
     "metadata": {},
     "output_type": "display_data"
    },
    {
     "data": {
      "application/vnd.jupyter.widget-view+json": {
       "model_id": "",
       "version_major": 2,
       "version_minor": 0
      },
      "text/plain": [
       "HBox(children=(IntProgress(value=0, max=1281), HTML(value='')))"
      ]
     },
     "metadata": {},
     "output_type": "display_data"
    },
    {
     "data": {
      "application/vnd.jupyter.widget-view+json": {
       "model_id": "",
       "version_major": 2,
       "version_minor": 0
      },
      "text/plain": [
       "HBox(children=(IntProgress(value=0, max=1281), HTML(value='')))"
      ]
     },
     "metadata": {},
     "output_type": "display_data"
    },
    {
     "data": {
      "application/vnd.jupyter.widget-view+json": {
       "model_id": "",
       "version_major": 2,
       "version_minor": 0
      },
      "text/plain": [
       "HBox(children=(IntProgress(value=0, max=1281), HTML(value='')))"
      ]
     },
     "metadata": {},
     "output_type": "display_data"
    },
    {
     "data": {
      "application/vnd.jupyter.widget-view+json": {
       "model_id": "",
       "version_major": 2,
       "version_minor": 0
      },
      "text/plain": [
       "HBox(children=(IntProgress(value=0, max=1281), HTML(value='')))"
      ]
     },
     "metadata": {},
     "output_type": "display_data"
    },
    {
     "data": {
      "application/vnd.jupyter.widget-view+json": {
       "model_id": "",
       "version_major": 2,
       "version_minor": 0
      },
      "text/plain": [
       "HBox(children=(IntProgress(value=0, max=1281), HTML(value='')))"
      ]
     },
     "metadata": {},
     "output_type": "display_data"
    },
    {
     "data": {
      "application/vnd.jupyter.widget-view+json": {
       "model_id": "",
       "version_major": 2,
       "version_minor": 0
      },
      "text/plain": [
       "HBox(children=(IntProgress(value=0, max=1281), HTML(value='')))"
      ]
     },
     "metadata": {},
     "output_type": "display_data"
    },
    {
     "data": {
      "application/vnd.jupyter.widget-view+json": {
       "model_id": "",
       "version_major": 2,
       "version_minor": 0
      },
      "text/plain": [
       "HBox(children=(IntProgress(value=0, max=1281), HTML(value='')))"
      ]
     },
     "metadata": {},
     "output_type": "display_data"
    },
    {
     "data": {
      "application/vnd.jupyter.widget-view+json": {
       "model_id": "",
       "version_major": 2,
       "version_minor": 0
      },
      "text/plain": [
       "HBox(children=(IntProgress(value=0, max=1281), HTML(value='')))"
      ]
     },
     "metadata": {},
     "output_type": "display_data"
    },
    {
     "data": {
      "application/vnd.jupyter.widget-view+json": {
       "model_id": "",
       "version_major": 2,
       "version_minor": 0
      },
      "text/plain": [
       "HBox(children=(IntProgress(value=0, max=1281), HTML(value='')))"
      ]
     },
     "metadata": {},
     "output_type": "display_data"
    },
    {
     "data": {
      "application/vnd.jupyter.widget-view+json": {
       "model_id": "",
       "version_major": 2,
       "version_minor": 0
      },
      "text/plain": [
       "HBox(children=(IntProgress(value=0, max=1281), HTML(value='')))"
      ]
     },
     "metadata": {},
     "output_type": "display_data"
    },
    {
     "data": {
      "application/vnd.jupyter.widget-view+json": {
       "model_id": "",
       "version_major": 2,
       "version_minor": 0
      },
      "text/plain": [
       "HBox(children=(IntProgress(value=0, max=1281), HTML(value='')))"
      ]
     },
     "metadata": {},
     "output_type": "display_data"
    },
    {
     "data": {
      "application/vnd.jupyter.widget-view+json": {
       "model_id": "",
       "version_major": 2,
       "version_minor": 0
      },
      "text/plain": [
       "HBox(children=(IntProgress(value=0, max=1281), HTML(value='')))"
      ]
     },
     "metadata": {},
     "output_type": "display_data"
    },
    {
     "data": {
      "application/vnd.jupyter.widget-view+json": {
       "model_id": "",
       "version_major": 2,
       "version_minor": 0
      },
      "text/plain": [
       "HBox(children=(IntProgress(value=0, max=1281), HTML(value='')))"
      ]
     },
     "metadata": {},
     "output_type": "display_data"
    },
    {
     "data": {
      "application/vnd.jupyter.widget-view+json": {
       "model_id": "b3599195dd174f2e8b39b4661cfc349d",
       "version_major": 2,
       "version_minor": 0
      },
      "text/plain": [
       "HBox(children=(IntProgress(value=0, max=1281), HTML(value='')))"
      ]
     },
     "metadata": {},
     "output_type": "display_data"
    }
   ],
   "source": [
    "\n",
    "sensitivity = []\n",
    "ftop_filepath_base = '/scratch/gpfs/jabbate/data_60_ms_randomized_flattop/'\n",
    "for model, scenario in tqdm_notebook(zip(models,params), total=num_models, position=0):\n",
    "    with open(os.path.join(ftop_filepath_base, 'val.pkl'), 'rb') as f:\n",
    "        valdata = pickle.load(f)\n",
    "    val_generator = DataGenerator(valdata,\n",
    "                                  1,\n",
    "                                  scenario['input_profile_names'],\n",
    "                                  scenario['actuator_names'],\n",
    "                                  scenario['target_profile_names'],\n",
    "                                  scenario['scalar_input_names'],\n",
    "                                  scenario['lookbacks'],\n",
    "                                  scenario['lookahead'],\n",
    "                                  scenario['predict_deltas'],\n",
    "                                  scenario['profile_downsample'],\n",
    "                                  scenario['shuffle_generators'])\n",
    "    delta_actuators = [-1.5, -1, -.5, 0, .5, 1, 1.5]\n",
    "    predictions_pert = {sig: {act:{d:[] for d in delta_actuators} for act in scenario['actuator_names']} for sig in scenario['target_profile_names']}\n",
    "    for i in tqdm_notebook(range(int(len(val_generator)/100)), position=1, leave=False):\n",
    "        inputs, targets = val_generator[i]\n",
    "        input_const = set_future_actuators(inputs, scenario['actuator_names'], 0)\n",
    "        pred_const = model.predict_on_batch(input_const)\n",
    "        predictions_const = {}\n",
    "        for i, sig in enumerate(scenario['target_profile_names']):\n",
    "            predictions_const[sig] = pred_const[i]\n",
    "        for act in scenario['actuator_names']:\n",
    "            for d in delta_actuators:\n",
    "                input_pert = set_future_actuators(input_const, [act], d)\n",
    "                pred_pert = model.predict_on_batch(input_pert)\n",
    "                for i, sig in enumerate(scenario['target_profile_names']):\n",
    "                    predictions_pert[sig][act][d].append(np.mean(pred_pert[i] - predictions_const[sig], axis=-1))\n",
    "    for sig in scenario['target_profile_names']:\n",
    "        for act in scenario['actuator_names']:\n",
    "            for d in delta_actuators:\n",
    "                predictions_pert[sig][act][d] = {'mean': np.mean(predictions_pert[sig][act][d]),'std': np.std(predictions_pert[sig][act][d])}\n",
    "    sensitivity.append(predictions_pert) \n",
    "    \n"
   ]
  },
  {
   "cell_type": "code",
   "execution_count": 67,
   "metadata": {},
   "outputs": [],
   "source": [
    "scenarios = [int(foo.split('_')[-1].split('-')[-1].split('.')[0]) for foo in model_files]"
   ]
  },
  {
   "cell_type": "code",
   "execution_count": 46,
   "metadata": {},
   "outputs": [],
   "source": []
  },
  {
   "cell_type": "code",
   "execution_count": 48,
   "metadata": {},
   "outputs": [],
   "source": []
  },
  {
   "cell_type": "code",
   "execution_count": 62,
   "metadata": {},
   "outputs": [],
   "source": []
  },
  {
   "cell_type": "code",
   "execution_count": 63,
   "metadata": {},
   "outputs": [],
   "source": []
  },
  {
   "cell_type": "code",
   "execution_count": 58,
   "metadata": {},
   "outputs": [],
   "source": []
  },
  {
   "cell_type": "code",
   "execution_count": null,
   "metadata": {},
   "outputs": [],
   "source": []
  },
  {
   "cell_type": "code",
   "execution_count": null,
   "metadata": {},
   "outputs": [],
   "source": []
  },
  {
   "cell_type": "code",
   "execution_count": null,
   "metadata": {},
   "outputs": [],
   "source": []
  },
  {
   "cell_type": "code",
   "execution_count": null,
   "metadata": {},
   "outputs": [],
   "source": []
  },
  {
   "cell_type": "code",
   "execution_count": null,
   "metadata": {},
   "outputs": [],
   "source": []
  },
  {
   "cell_type": "code",
   "execution_count": null,
   "metadata": {},
   "outputs": [],
   "source": []
  },
  {
   "cell_type": "code",
   "execution_count": null,
   "metadata": {},
   "outputs": [],
   "source": []
  },
  {
   "cell_type": "markdown",
   "metadata": {},
   "source": [
    "# Plot Predictions vs True"
   ]
  },
  {
   "cell_type": "code",
   "execution_count": null,
   "metadata": {},
   "outputs": [],
   "source": [
    "sig='itemp'\n",
    "all_means=[]\n",
    "all_stds=[]\n",
    "for shot in data.keys():\n",
    "    if sig in data[shot]:\n",
    "        data[shot][sig][np.isinf(data[shot][sig])] = np.nan\n",
    "        this_mean=np.nanmean(data[shot][sig])\n",
    "        this_std=np.nanstd(data[shot][sig])\n",
    "        if False: #abs(this_mean)>4000:\n",
    "            print(shot)\n",
    "            print(np.mean(all_means))\n",
    "            print(this_mean)\n",
    "            print('\\n')\n",
    "            print(np.std(all_stds))\n",
    "            print(this_std)\n",
    "            print('\\n')\n",
    "        else:\n",
    "            all_means.append(this_mean)\n",
    "            all_stds.append(this_std)\n",
    "plt.hist(all_means)"
   ]
  },
  {
   "cell_type": "code",
   "execution_count": null,
   "metadata": {},
   "outputs": [],
   "source": [
    "shots=list(data.keys())\n",
    "shot=np.random.choice(shots)\n",
    "plt.plot(data[shot]['curr_target'])\n",
    "inds=np.where(np.isclose(data[shot]['curr_target'],max(data[shot]['curr_target'])))[0]\n",
    "plt.axvline(inds[0])\n",
    "plt.axvline(inds[-1])\n",
    "plt.show()"
   ]
  },
  {
   "cell_type": "code",
   "execution_count": null,
   "metadata": {},
   "outputs": [],
   "source": [
    "analysis_params['batch_size']=1\n",
    "train_generator = DataGenerator(traindata,**analysis_params)\n",
    "steps_per_epoch = len(train_generator)"
   ]
  },
  {
   "cell_type": "code",
   "execution_count": null,
   "metadata": {},
   "outputs": [],
   "source": [
    "batch_ind+=1\n",
    "inputs, targets = train_generator[batch_ind]\n",
    "shotnums = train_generator.cur_shotnum[:,max(profile_lookback, actuator_lookback)]\n",
    "times = train_generator.cur_times[:,max(profile_lookback, actuator_lookback)]\n",
    "pred = model.predict_on_batch(inputs)\n",
    "# # add deltas to future actuators\n",
    "# #predict on new actuators\n",
    "# predictions = {}\n",
    "# for i, sig in enumerate(target_profile_names):\n",
    "#     predictions[sig] = pred[i]\n",
    "# psi = np.linspace(0,1,profile_length)\n",
    "# full_pred = {}\n",
    "# full_true = {}\n",
    "# delta_pred = {}\n",
    "# delta_true = {}\n",
    "# baseline = {}\n",
    "# for sig in target_profile_names:\n",
    "#     full_pred[sig], full_true[sig], delta_pred[sig], delta_true[sig], baseline[sig] = batch_denorm(inputs,targets,predictions,\n",
    "#                                                                                                    normalization_params,sig)"
   ]
  },
  {
   "cell_type": "markdown",
   "metadata": {},
   "source": [
    "# Design your own shot"
   ]
  },
  {
   "cell_type": "code",
   "execution_count": null,
   "metadata": {},
   "outputs": [],
   "source": [
    "plt.rcParams['figure.figsize'] = [20, 15]"
   ]
  },
  {
   "cell_type": "code",
   "execution_count": null,
   "metadata": {},
   "outputs": [],
   "source": [
    "all_shots=np.unique(traindata['shotnum'])\n",
    "shotnum=np.random.choice(all_shots) #all_shots[5]\n",
    "t=4700\n",
    "\n",
    "psi = np.linspace(0,1,profile_length)\n",
    "sigs=['curr','pinj','tinj','gasA','temp','dens']\n",
    "profiles=['temp','dens']\n",
    "input_profiles=['thomson_temp_EFITRT1','thomson_dens_EFITRT1']\n",
    "changed_input_keys=['pinj']\n",
    "changed_profile_keys=[] #'thomson_dens_EFITRT1']\n",
    "\n",
    "shot_indices=np.where(traindata['shotnum'][:,0]==shotnum)[0]\n",
    "\n",
    "time_offset=np.searchsorted(traindata['time'][shot_indices,-lookahead],t)\n",
    "\n",
    "\n",
    "#prev_targets=train_generator[shot_indices[0]+time_offset-1][1]\n",
    "\n",
    "inputs=train_generator[shot_indices[0]+time_offset][0]\n",
    "\n",
    "changed_input=copy.deepcopy(inputs)\n",
    "for key in changed_input_keys:\n",
    "    #changed_input['input_past_{}'.format(key)]=np.array([np.linspace(-2,0,actuator_lookback)])\n",
    "    #changed_input['input_future_{}'.format(key)]-=[0,.5,1,1.5]\n",
    "    \n",
    "    prev=traindata[key][shot_indices[0]+time_offset][-lookahead]\n",
    "    changed_input['input_future_{}'.format(key)]=np.array([[prev]*lookahead])\n",
    "    changed_input['input_future_{}'.format(key)]=np.array([np.linspace(prev,prev-2,lookahead)]) \n",
    "    #prev=traindata[key][shot_indices[0]+time_offset][-1]#0]\n",
    "    #changed_input['input_past_{}'.format(key)]=np.array([[prev]*actuator_lookback])\n",
    "\n",
    "for key in changed_profile_keys:\n",
    "    #changed_input['input_{}'.format(key)]=np.array([[[0]*profile_length]])\n",
    "    changed_input['input_{}'.format(key)]-=np.array([[np.linspace(0,1,profile_length)]])\n",
    "    \n",
    "targets=train_generator[shot_indices[0]+time_offset][1]\n",
    "\n",
    "num_cols=4\n",
    "\n",
    "fig=plt.figure()\n",
    "for i,sig in enumerate(sigs):\n",
    "    ax=fig.add_subplot(len(sigs),num_cols,i*num_cols+1)\n",
    "    if len(traindata[sig][shot_indices].shape)>2:\n",
    "        ax.plot(traindata['time'][shot_indices,-lookahead],\n",
    "                np.mean(traindata[sig][shot_indices,-lookahead,:],axis=1),\n",
    "                c='b')\n",
    "#         ax.contourf(traindata['time'][shot_indices,-lookahead],\n",
    "#                 psi,\n",
    "#                 traindata[sig][shot_indices,-lookahead,::analysis_params['profile_downsample']].T)\n",
    "        ax.set_ylim(-2,2)\n",
    "        \n",
    "    else:\n",
    "        ax.plot(traindata['time'][shot_indices[0],:-lookahead],\n",
    "                        traindata[sig][shot_indices[0],:-lookahead],\n",
    "               c='b')\n",
    "        ax.plot(traindata['time'][shot_indices,-lookahead],\n",
    "                        traindata[sig][shot_indices,-lookahead],\n",
    "               c='b')\n",
    "        if sig in changed_input_keys:\n",
    "            ax.plot(traindata['time'][shot_indices[0]+time_offset,-lookahead:],\n",
    "                   changed_input['input_future_{}'.format(sig)].squeeze(),\n",
    "                   color='r')\n",
    "            ax.plot(traindata['time'][shot_indices[0]+time_offset,:-lookahead],\n",
    "                   changed_input['input_past_{}'.format(sig)].squeeze(),\n",
    "                   color='r')\n",
    "        if sig=='curr':\n",
    "            ax.set_ylim(-6,6)\n",
    "            N=1\n",
    "            smoothed=np.convolve(traindata[sig][shot_indices,-lookahead], np.ones((N,))/N, mode='valid') \n",
    "            #smoothed=traindata[sig][shot_indices,-lookahead][::N]\n",
    "            #flattop_start_ind=np.where(np.isclose(np.diff(smoothed),0,atol=2e-3))[0][0]\n",
    "            flattop_inds=np.where(np.isclose(smoothed,np.max(smoothed),atol=1e-3))[0]\n",
    "            ax.axvline(traindata['time'][flattop_inds[0],-lookahead],linewidth=4)\n",
    "            ax.axvline(traindata['time'][flattop_inds[-1],-lookahead],linewidth=4)\n",
    "        else:\n",
    "            ax.set_ylim(-2,2)\n",
    "        \n",
    "    \n",
    "    ax.axvline(traindata['time'][shot_indices[0]+time_offset,-lookahead],\n",
    "              color='r')\n",
    "    ax.axvline(traindata['time'][shot_indices[0]+time_offset,-1],\n",
    "              color='g')\n",
    "    ax.axvline(traindata['time'][shot_indices[0]+time_offset,0],\n",
    "              color='k')\n",
    "    ax.set_xlim(0,np.amax(traindata['time'][shot_indices]))\n",
    "    ax.set_title(sig)\n",
    "\n",
    "# truths=train_generator[shot_indices[0]+time_offset][1]\n",
    "\n",
    "for i,profile in enumerate(input_profiles):\n",
    "    ax=fig.add_subplot(len(input_profiles),num_cols,i*num_cols+1+1)\n",
    "    \n",
    "    ax.plot(psi,inputs['input_{}'.format(profile)].squeeze(),c='g')\n",
    "    if profile in changed_profile_keys:\n",
    "        ax.plot(psi,changed_input['input_{}'.format(profile)].squeeze(),c='r')\n",
    "    ax.set_title('{}'.format(profile))\n",
    "    ax.axhline(0,color='k',alpha=.5)\n",
    "    ax.set_ylim(-2,2)\n",
    "\n",
    "predictions=model.predict_on_batch(inputs)\n",
    "changed_predictions=model.predict_on_batch(changed_input)\n",
    "for i,profile in enumerate(profiles):\n",
    "    ax=fig.add_subplot(len(profiles),num_cols,i*num_cols+1+1+1)\n",
    "    ax.plot(psi,targets['target_{}'.format(profile)].squeeze(),label='True',c='g')\n",
    "    ax.plot(psi,predictions[i].squeeze(),label='Prediction',\n",
    "            c='b')\n",
    "    ax.plot(psi,changed_predictions[i].squeeze(),color='r',label='Perturbed Prediction')\n",
    "    ax.set_title('{} change'.format(profile))\n",
    "    ax.axhline(0,color='k',alpha=.5)\n",
    "    ax.set_ylim(-2,2)\n",
    "    ax.legend()\n",
    "    \n",
    "    ax=fig.add_subplot(len(profiles),num_cols,i*num_cols+1+1+1+1)\n",
    "    ax.plot(psi,\n",
    "            traindata[profile][shot_indices[0]+time_offset][0][::analysis_params['profile_downsample']],\n",
    "            label='Previous',\n",
    "            c='k')\n",
    "    ax.plot(psi,\n",
    "            traindata[profile][shot_indices[0]+time_offset][-1][::analysis_params['profile_downsample']],\n",
    "            label='Next',\n",
    "            c='g')\n",
    "    ax.plot(psi,\n",
    "            traindata[profile][shot_indices[0]+time_offset][0][::analysis_params['profile_downsample']]+predictions[i].squeeze(),\n",
    "            label='Prediction',\n",
    "            c='b')\n",
    "    ax.plot(psi,\n",
    "            traindata[profile][shot_indices[0]+time_offset][0][::analysis_params['profile_downsample']]+changed_predictions[i].squeeze(),\n",
    "            label='Perturbed Prediction',\n",
    "            c='r')\n",
    "    ax.legend()\n",
    "    ax.set_title(profile)\n",
    "    ax.set_ylim(-2,2)\n",
    "    ax.axhline(0,color='k',alpha=.5)\n",
    "    \n",
    "time=train_generator.cur_times[:,max(profile_lookback, actuator_lookback)].squeeze()\n",
    "fig.suptitle('Shot {:.0f}, {:.0f} ms'.format(shotnum,time),fontsize=30)\n",
    "plt.subplots_adjust(hspace=.2)\n",
    "plt.show()"
   ]
  },
  {
   "cell_type": "code",
   "execution_count": null,
   "metadata": {},
   "outputs": [],
   "source": [
    "sig = 'temp'\n",
    "fig, ax = plot_batch(full_true[sig],full_pred[sig],baseline[sig],\n",
    "                     psi,['true','pred','baseline'],['psi',sig], shotnums,times)  "
   ]
  },
  {
   "cell_type": "code",
   "execution_count": null,
   "metadata": {},
   "outputs": [],
   "source": [
    "sig = 'dens'\n",
    "fig, ax = plot_batch(full_true[sig],full_pred[sig],baseline[sig],\n",
    "                     psi,['true','pred','baseline'],['psi',sig], shotnums,times)  "
   ]
  },
  {
   "cell_type": "code",
   "execution_count": null,
   "metadata": {},
   "outputs": [],
   "source": [
    "sig = 'press'\n",
    "fig, ax = plot_batch(full_true[sig],full_pred[sig],baseline[sig],\n",
    "                     psi,['true','pred','baseline'],['psi',sig], shotnums,times)  "
   ]
  }
 ],
 "metadata": {
  "kernelspec": {
   "display_name": "Python 3",
   "language": "python",
   "name": "python3"
  },
  "language_info": {
   "codemirror_mode": {
    "name": "ipython",
    "version": 3
   },
   "file_extension": ".py",
   "mimetype": "text/x-python",
   "name": "python",
   "nbconvert_exporter": "python",
   "pygments_lexer": "ipython3",
   "version": "3.6.9"
  },
  "toc": {
   "base_numbering": 1,
   "nav_menu": {},
   "number_sections": true,
   "sideBar": true,
   "skip_h1_title": false,
   "title_cell": "Table of Contents",
   "title_sidebar": "Contents",
   "toc_cell": false,
   "toc_position": {},
   "toc_section_display": true,
   "toc_window_display": false
  },
  "varInspector": {
   "cols": {
    "lenName": 16,
    "lenType": 16,
    "lenVar": 40
   },
   "kernels_config": {
    "python": {
     "delete_cmd_postfix": "",
     "delete_cmd_prefix": "del ",
     "library": "var_list.py",
     "varRefreshCmd": "print(var_dic_list())"
    },
    "r": {
     "delete_cmd_postfix": ") ",
     "delete_cmd_prefix": "rm(",
     "library": "var_list.r",
     "varRefreshCmd": "cat(var_dic_list()) "
    }
   },
   "position": {
    "height": "522.85px",
    "left": "1504px",
    "right": "20px",
    "top": "120px",
    "width": "341px"
   },
   "types_to_exclude": [
    "module",
    "function",
    "builtin_function_or_method",
    "instance",
    "_Feature"
   ],
   "window_display": false
  }
 },
 "nbformat": 4,
 "nbformat_minor": 4
}
