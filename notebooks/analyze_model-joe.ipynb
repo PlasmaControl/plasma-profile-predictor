{
 "cells": [
  {
   "cell_type": "code",
   "execution_count": 1,
   "metadata": {},
   "outputs": [],
   "source": [
    "import os\n",
    "\n",
    "root_dir=\"/Users/jabbate/plasma-profile-predictor\"\n",
    "conf_filename=os.path.join(root_dir,'configs','trend_plus_actuators_joe.yaml')\n",
    "model_filename=os.path.join(root_dir,'test_model.h5')\n",
    "\n",
    "import numpy as np\n",
    "psi_points=np.linspace(0,1,65)"
   ]
  },
  {
   "cell_type": "code",
   "execution_count": 2,
   "metadata": {},
   "outputs": [],
   "source": [
    "import sys\n",
    "# for some reason jupyter can't change the PYTHONPATH; neither with bash_profile nor with \n",
    "# os.system. so we add this to import helper functions\n",
    "sys.path.insert(0,root_dir)"
   ]
  },
  {
   "cell_type": "code",
   "execution_count": 3,
   "metadata": {},
   "outputs": [],
   "source": [
    "# matplotlib setup\n",
    "%matplotlib inline"
   ]
  },
  {
   "cell_type": "code",
   "execution_count": 4,
   "metadata": {},
   "outputs": [
    {
     "name": "stderr",
     "output_type": "stream",
     "text": [
      "Using TensorFlow backend.\n"
     ]
    }
   ],
   "source": [
    "from helpers import helper_functions\n",
    "import time\n",
    "\n",
    "import tensorflow as tf\n",
    "import numpy as np\n",
    "from keras import models\n",
    "from keras import layers\n",
    "from keras import optimizers\n",
    "import matplotlib.pyplot as plt\n",
    "import yaml"
   ]
  },
  {
   "cell_type": "code",
   "execution_count": 5,
   "metadata": {},
   "outputs": [],
   "source": [
    "config=helper_functions.load_config(conf_filename)"
   ]
  },
  {
   "cell_type": "code",
   "execution_count": 182,
   "metadata": {},
   "outputs": [
    {
     "name": "stdout",
     "output_type": "stream",
     "text": [
      "Normalizing the same across all rho points\n"
     ]
    },
    {
     "name": "stderr",
     "output_type": "stream",
     "text": [
      "/miniconda3/lib/python3.6/site-packages/numpy/lib/nanfunctions.py:1426: RuntimeWarning: invalid value encountered in subtract\n",
      "  np.subtract(arr, avg, out=arr, casting='unsafe')\n",
      "/Users/jabbate/plasma-profile-predictor/helpers/helper_functions.py:32: RuntimeWarning: invalid value encountered in subtract\n",
      "  a=obj-mean\n"
     ]
    },
    {
     "name": "stdout",
     "output_type": "stream",
     "text": [
      "Saving data to /Users/jabbate/data/...\n",
      "1.715994119644165\n"
     ]
    }
   ],
   "source": [
    "begin_time=time.time()\n",
    "helper_functions.preprocess_data(**config['data_and_model'],\n",
    "                                 **config['data'],\n",
    "                                 save_data=True)\n",
    "print(time.time()-begin_time)"
   ]
  },
  {
   "cell_type": "code",
   "execution_count": 7,
   "metadata": {},
   "outputs": [],
   "source": [
    "input_dir=config['data']['output_dirname']"
   ]
  },
  {
   "cell_type": "code",
   "execution_count": 185,
   "metadata": {},
   "outputs": [],
   "source": [
    "train_shot = helper_functions.load_obj(os.path.join(input_dir,'train_shot'))\n",
    "val_shot = helper_functions.load_obj(os.path.join(input_dir,'val_shot'))\n",
    "train_time = np.array(helper_functions.load_obj(os.path.join(input_dir,'train_time')))\n",
    "val_time = np.array(helper_functions.load_obj(os.path.join(input_dir,'val_time')))"
   ]
  },
  {
   "cell_type": "code",
   "execution_count": 183,
   "metadata": {},
   "outputs": [],
   "source": [
    "means = helper_functions.load_obj(os.path.join(input_dir,'means'))\n",
    "stds = helper_functions.load_obj(os.path.join(input_dir,'stds'))"
   ]
  },
  {
   "cell_type": "code",
   "execution_count": 184,
   "metadata": {},
   "outputs": [
    {
     "name": "stdout",
     "output_type": "stream",
     "text": [
      "Means:  {'curr': 935392.4611100055, 'gasA': 1.1303357827551475, 'pinj': 3817.6441620437076, 'press': 3434.7616967907475, 'temp': 1.538893261837595, 'thomson_dens': inf, 'thomson_temp': inf}\n",
      "Stds:  {'curr': 488253.8340439437, 'gasA': 1.6091280824646736, 'pinj': 2867.9360082624326, 'press': 10506.950312459207, 'temp': 0.6814838702714286, 'thomson_dens': 5.8694071958057255e+20, 'thomson_temp': 43566.419399394865}\n"
     ]
    }
   ],
   "source": [
    "print('Means: ', means)\n",
    "print('Stds: ', stds)"
   ]
  },
  {
   "cell_type": "code",
   "execution_count": 11,
   "metadata": {},
   "outputs": [],
   "source": [
    "loaded_model=models.load_model(model_filename)\n",
    "\n",
    "loaded_model.compile(optimizer=optimizers.RMSprop(lr=.001),\n",
    "                     metrics=['mae'], loss='mse')"
   ]
  },
  {
   "cell_type": "code",
   "execution_count": 12,
   "metadata": {},
   "outputs": [
    {
     "name": "stdout",
     "output_type": "stream",
     "text": [
      "__________________________________________________________________________________________________\n",
      "Layer (type)                    Output Shape         Param #     Connected to                     \n",
      "==================================================================================================\n",
      "previous_actuators (InputLayer) (None, 11, 3)        0                                            \n",
      "__________________________________________________________________________________________________\n",
      "future_actuators (InputLayer)   (None, 4, 3)         0                                            \n",
      "__________________________________________________________________________________________________\n",
      "lstm_1 (LSTM)                   (None, 33)           4884        previous_actuators[0][0]         \n",
      "__________________________________________________________________________________________________\n",
      "lstm_2 (LSTM)                   (None, 33)           4884        future_actuators[0][0]           \n",
      "__________________________________________________________________________________________________\n",
      "previous_profiles (InputLayer)  (None, 33, 3)        0                                            \n",
      "__________________________________________________________________________________________________\n",
      "reshape_1 (Reshape)             (None, 33, 1)        0           lstm_1[0][0]                     \n",
      "__________________________________________________________________________________________________\n",
      "reshape_2 (Reshape)             (None, 33, 1)        0           lstm_2[0][0]                     \n",
      "__________________________________________________________________________________________________\n",
      "concatenate_1 (Concatenate)     (None, 33, 5)        0           previous_profiles[0][0]          \n",
      "                                                                 reshape_1[0][0]                  \n",
      "                                                                 reshape_2[0][0]                  \n",
      "__________________________________________________________________________________________________\n",
      "conv1d_1 (Conv1D)               (None, 33, 8)        88          concatenate_1[0][0]              \n",
      "__________________________________________________________________________________________________\n",
      "conv1d_2 (Conv1D)               (None, 33, 8)        264         conv1d_1[0][0]                   \n",
      "__________________________________________________________________________________________________\n",
      "processed_profiles (Conv1D)     (None, 33, 8)        520         conv1d_2[0][0]                   \n",
      "__________________________________________________________________________________________________\n",
      "concatenate_2 (Concatenate)     (None, 33, 24)       0           conv1d_1[0][0]                   \n",
      "                                                                 conv1d_2[0][0]                   \n",
      "                                                                 processed_profiles[0][0]         \n",
      "__________________________________________________________________________________________________\n",
      "conv1d_3 (Conv1D)               (None, 33, 10)       970         concatenate_2[0][0]              \n",
      "__________________________________________________________________________________________________\n",
      "conv1d_4 (Conv1D)               (None, 33, 1)        41          conv1d_3[0][0]                   \n",
      "==================================================================================================\n",
      "Total params: 11,651\n",
      "Trainable params: 11,651\n",
      "Non-trainable params: 0\n",
      "__________________________________________________________________________________________________\n"
     ]
    }
   ],
   "source": [
    "loaded_model.summary()\n",
    "from keras.utils import plot_model\n",
    "plot_model(loaded_model,to_file='bad_model.png')"
   ]
  },
  {
   "cell_type": "code",
   "execution_count": 7,
   "metadata": {},
   "outputs": [],
   "source": [
    "from data import get_datasets"
   ]
  },
  {
   "cell_type": "code",
   "execution_count": null,
   "metadata": {},
   "outputs": [
    {
     "name": "stdout",
     "output_type": "stream",
     "text": [
      "Normalizing the same across all rho points\n"
     ]
    },
    {
     "name": "stderr",
     "output_type": "stream",
     "text": [
      "/miniconda3/lib/python3.6/site-packages/numpy/lib/nanfunctions.py:1426: RuntimeWarning: invalid value encountered in subtract\n",
      "  np.subtract(arr, avg, out=arr, casting='unsafe')\n"
     ]
    },
    {
     "name": "stdout",
     "output_type": "stream",
     "text": [
      "> /Users/jabbate/plasma-profile-predictor/helpers/helper_functions.py(104)preprocess_data()\n",
      "-> for sig in sigs:\n",
      "(Pdb) l\n",
      " 99  \t        means[sig]=np.nanmean(means[sig])\n",
      "100  \t        stds[sig]=np.nanmean(stds[sig])\n",
      "101  \t\n",
      "102  \t    import pdb; pdb.set_trace()\n",
      "103  \t\n",
      "104  ->\t    for sig in sigs:\n",
      "105  \t        data_all_times[sig]=normalize(data_all_times[sig],means[sig],stds[sig])\n",
      "106  \t        data_all_times[sig]=remove_nans(data_all_times[sig])\n",
      "107  \t    for sig in sigs_1d+sigs_predict:\n",
      "108  \t        data_all_times[sig]=data_all_times[sig][:,::stride]\n",
      "109  \t\n",
      "(Pdb) data_all_times['thomson_temp'].shape\n",
      "(104292, 65)\n",
      "--KeyboardInterrupt--\n",
      "--KeyboardInterrupt--\n",
      "--KeyboardInterrupt--\n"
     ]
    }
   ],
   "source": [
    "train_gen, valid_gen = get_datasets(batch_size=256,**config['data_and_model'],**config['data'])"
   ]
  },
  {
   "cell_type": "code",
   "execution_count": 15,
   "metadata": {},
   "outputs": [
    {
     "data": {
      "text/plain": [
       "[0.07218453981846139, 0.15784296047860297]"
      ]
     },
     "execution_count": 15,
     "metadata": {},
     "output_type": "execute_result"
    }
   ],
   "source": [
    "loaded_model.evaluate_generator(valid_gen)"
   ]
  },
  {
   "cell_type": "code",
   "execution_count": 16,
   "metadata": {},
   "outputs": [],
   "source": [
    "# Get ML model performance for full\n",
    "predictions=loaded_model.predict_generator(valid_gen)"
   ]
  },
  {
   "cell_type": "code",
   "execution_count": 188,
   "metadata": {},
   "outputs": [],
   "source": [
    "valid_gen_array=np.array(valid_gen)\n",
    "prev_actuators=np.concatenate([elem[0] for elem in valid_gen_array[:,0]])\n",
    "prev_profiles=np.concatenate([elem[1] for elem in valid_gen_array[:,0]])\n",
    "future_actuators=np.concatenate([elem[2] for elem in valid_gen_array[:,0]])\n",
    "targets=np.concatenate(np.array(valid_gen_array)[:,1])"
   ]
  },
  {
   "cell_type": "code",
   "execution_count": 18,
   "metadata": {},
   "outputs": [],
   "source": [
    "val_mae=abs(targets-predictions)"
   ]
  },
  {
   "cell_type": "code",
   "execution_count": 19,
   "metadata": {},
   "outputs": [],
   "source": [
    "avg_val_mae=np.mean(val_mae,axis=0)\n",
    "std_val_mae=np.std(val_mae,axis=0)"
   ]
  },
  {
   "cell_type": "code",
   "execution_count": 20,
   "metadata": {},
   "outputs": [
    {
     "data": {
      "image/png": "[encoded data removed]",
      "text/plain": [
       "<Figure size 432x288 with 1 Axes>"
      ]
     },
     "metadata": {
      "needs_background": "light"
     },
     "output_type": "display_data"
    }
   ],
   "source": [
    "plt.plot(avg_val_mae, label='prediction')\n",
    "plt.plot(np.mean(abs(targets),axis=0),label='baseline')\n",
    "plt.legend()\n",
    "plt.show()"
   ]
  },
  {
   "cell_type": "code",
   "execution_count": 173,
   "metadata": {},
   "outputs": [
    {
     "data": {
      "image/png": "[encoded data removed]",
      "text/plain": [
       "<Figure size 432x288 with 1 Axes>"
      ]
     },
     "metadata": {
      "needs_background": "light"
     },
     "output_type": "display_data"
    },
    {
     "name": "stdout",
     "output_type": "stream",
     "text": [
      "11250\n",
      "164912\n",
      "4400.0\n"
     ]
    }
   ],
   "source": [
    "idx=np.random.randint(len(targets))\n",
    "#idx=3060 #2454 #9462 #<-- big transition\n",
    "#idx=idx+1\n",
    "plt.plot(targets[idx],c='r',label='true')\n",
    "plt.plot(predictions[idx],c='g',label='predicted')\n",
    "plt.ylim(-2,2)\n",
    "plt.axhline(0,color='k')\n",
    "plt.show()\n",
    "print(idx)\n",
    "print(val_shot[idx])\n",
    "print(val_time[idx])"
   ]
  },
  {
   "cell_type": "code",
   "execution_count": 179,
   "metadata": {},
   "outputs": [
    {
     "data": {
      "image/png": "[encoded data removed]",
      "text/plain": [
       "<Figure size 432x288 with 1 Axes>"
      ]
     },
     "metadata": {
      "needs_background": "light"
     },
     "output_type": "display_data"
    }
   ],
   "source": [
    "idx=3060\n",
    "\n",
    "inds=range(idx-3,idx+3)\n",
    "times=val_time[inds]\n",
    "shots=val_shot[inds]\n",
    "for i,ind in enumerate(inds):\n",
    "    plt.plot(prev_profiles[ind]*stds['temp']+means['temp'],label=int(times[i]))\n",
    "plt.legend()\n",
    "plt.show()"
   ]
  },
  {
   "cell_type": "code",
   "execution_count": null,
   "metadata": {},
   "outputs": [],
   "source": [
    "# The following must have already been run: \n",
    "# shot_indices_dictionary = helper_functions.load_obj(input_dir+'shot_indices')\n",
    "# train_shots = shot_indices_dictionary['train_shot_names']\n",
    "# val_shots = shot_indices_dictionary['val_shot_names']\n",
    "# train_shot_inds = shot_indices_dictionary['train_shot_indices']\n",
    "# val_shot_inds = shot_indices_dictionary['val_shot_indices']\n",
    "\n",
    "def plot_timestep(index, train=False, normalized=True, \n",
    "                  sig_to_perturb=None):\n",
    "    \n",
    "    delay = config['data_and_model']['delay']\n",
    "    titlesize=20\n",
    "    othersize=20\n",
    "    legendsize=15\n",
    "    linewidth=7\n",
    "    smalllinewidth=3\n",
    "    \n",
    "    if(train):\n",
    "        data=train_data\n",
    "        target=train_target\n",
    "        shot_nums=train_shot\n",
    "        true_times=train_time\n",
    "    else:\n",
    "        data=val_data\n",
    "        target=val_target\n",
    "        shot_nums=val_shot\n",
    "        true_times=val_time\n",
    "        \n",
    "    shot_num=shot_nums[index]\n",
    "    all_indices=np.where([shot_nums[index]==shot for shot in shot_nums])[0]\n",
    "    \n",
    "    input_data=[elem[index:index+1] for elem in data]\n",
    "    #input_data[:,:,:3]=0\n",
    "    \n",
    "    pred=np.ndarray.flatten(loaded_model.predict(input_data))                      \n",
    "    \n",
    "    true=target[index]\n",
    "    # note that timestep 0 will now throw an error \n",
    "    prev=target[index-1] #data[timestep][-1][num_sigs:]\n",
    "    \n",
    "    if normalized:\n",
    "        pred_real=pred\n",
    "        true_real=true\n",
    "        prev_real=prev\n",
    "    else:\n",
    "        pred_real = np.multiply(pred,stds['temp'])+means['temp']\n",
    "        true_real = np.multiply(true,stds['temp'])+means['temp']\n",
    "        prev_real = (np.multiply(prev,stds['thomson_temp'])+means['thomson_temp'])/1000.\n",
    "    \n",
    "    sigs=data[0][index][-1]\n",
    "    sigs_all_times=np.array(data[0])[all_indices,-delay-1,:].T\n",
    "    \n",
    "    fig = plt.figure()\n",
    "    \n",
    "    baseline_error = abs(true) #abs(true-prev)\n",
    "    pred_error = abs(true-pred)\n",
    "    \n",
    "    ax = fig.add_subplot('222')\n",
    "    ax.set_title('Electron temperature predictions by the ML model', fontsize=titlesize)\n",
    "    ax.plot(rho_points,pred_real,label='Predicted', linewidth=smalllinewidth)\n",
    "    \n",
    "    \n",
    "    #### FOR SENSITIVITY ANALYSIS ####\n",
    "    if sig_to_perturb is not None:\n",
    "        if sig_to_perturb in sig_keys_0d:\n",
    "            sig_index=sig_keys_0d.index(sig_to_perturb)\n",
    "        else:\n",
    "            sig_index=range(len(sig_keys_0d),input_data.shape[2])\n",
    "\n",
    "        input_data_perturbed=input_data.copy()\n",
    "\n",
    "\n",
    "        # Flatline at the previous value\n",
    "        input_data_perturbed[:,:,sig_index]=input_data_perturbed[:,0,sig_index]\n",
    "        # Increase linearly\n",
    "        #input_data_perturbed[:,:,sig_index]*=[1+i*.1 for i in range(input_data_perturbed.shape[1])]\n",
    "        # add 10%\n",
    "        #input_data_perturbed[:,:,sig_index] *= 1.1\n",
    "\n",
    "\n",
    "\n",
    "        pred_perturbed=np.ndarray.flatten(loaded_model.predict(input_data_perturbed))\n",
    "        if normalized:\n",
    "            pred_perturbed_real=pred_perturbed\n",
    "        else: \n",
    "            if config['n_components']!='None':\n",
    "                # do the processing with pca, which was already loaded\n",
    "                pred_perturbed = pca.inverse_transform(pred_perturbed)\n",
    "            pred_perturbed_real = np.multiply(pred_perturbed,stds['e_temp'])+means['e_temp']\n",
    "        ax.plot(rho_points,pred_perturbed_real,\n",
    "                label='Predicted with perturbation to {}'.format(sig_to_perturb), \n",
    "                linewidth=smalllinewidth)\n",
    "    ##################################\n",
    "    \n",
    "    \n",
    "    ax.plot(rho_points,true_real,label='True', linewidth=smalllinewidth)\n",
    "    #for differences\n",
    "    if normalized:\n",
    "        ax.axhline(0,label='Baseline',linewidth=smalllinewidth, color='k')\n",
    "    else:\n",
    "        ax.plot(rho_points,prev_real,label='Previous', linewidth=smalllinewidth)\n",
    "    \n",
    "    ax.set_ylabel('Normalized e_temp', fontsize=othersize)\n",
    "    ax.set_xlim(0,1)\n",
    "    #ax.set_xlabel('Normalized rho', fontsize=othersize)\n",
    "    ax.legend(loc='best', fontsize=legendsize)\n",
    "    \n",
    "    ax = fig.add_subplot('224')\n",
    "    ax.set_title('Error in e_temp predictions', fontsize=titlesize)\n",
    "    ax.plot(rho_points, pred_error, color='red', label='Model error for one example', linewidth=linewidth)\n",
    "    ax.plot(rho_points, avg_val_mae, color='red', linestyle='--', label='Average prediction error', linewidth=smalllinewidth)\n",
    "    ax.fill_between(rho_points,avg_val_mae-std_val_mae, avg_val_mae+std_val_mae, color='red', alpha=.2)\n",
    "    ax.axhline(0,color='k')\n",
    "    ax.plot(rho_points, baseline_error, color='b', label='Baseline error for one example', linewidth=linewidth)\n",
    "    ax.plot(rho_points, avg_baseline_mae, color='b', linestyle='--', label='Average baseline error', linewidth=smalllinewidth)\n",
    "    ax.fill_between(rho_points,avg_baseline_mae-std_baseline_mae, avg_baseline_mae+std_baseline_mae, color='blue', alpha=.2)\n",
    "    ax.set_ylim(0,.25)\n",
    "    ax.set_xlim(0,1)\n",
    "    ax.legend(loc='upper left', fontsize=legendsize)\n",
    "    ax.set_ylabel('Error (abs val)', fontsize=othersize)\n",
    "    ax.set_xlabel('Normalized rho', fontsize=othersize)\n",
    "        \n",
    "        #textstr='Baseline error: %.2f \\nModel error: %.3f'%(np.mean(baseline_error),np.mean(pred_error))\n",
    "        #ax.text(0.05,0.1,textstr, transform=ax.transAxes)\n",
    "    \n",
    "    #plt.subplots_adjust(hspace=.5)\n",
    "\n",
    "    for i in range(len(sig_keys_0d)):\n",
    "        which_plot='{}2{}'.format(len(sig_keys_0d)+len(sig_keys_1d),2*i+1) \n",
    "        ax=fig.add_subplot(which_plot) #axes[i+1]\n",
    "        #ax.plot(times,sigs_all_times[i])\n",
    "        if normalized:\n",
    "            ax.plot(true_times[index],sigs_all_times[i])\n",
    "            if sig_to_perturb is not None:\n",
    "                if (i==sig_index):\n",
    "                    ax.plot(true_times[index-config['lookback']:timestep+config['delay']+1],\n",
    "                        input_data_perturbed[0,:,i],\n",
    "                        linewidth=10)\n",
    "        else:\n",
    "            normalized_sig=(sigs_all_times[i]*stds[sig_keys_0d[i]])+means[sig_keys_0d[i]]\n",
    "            ax.plot(true_times[times],normalized_sig)\n",
    "        ax.set_ylabel(sig_keys_0d[i], fontsize=titlesize)\n",
    "        ax.axvline(true_times[timestep],color='r')\n",
    "        ax.axvline(true_times[timestep+delay],color='b')\n",
    "            \n",
    "    for i in range(len(sig_keys_1d)):\n",
    "        which_plot='{}2{}'.format(len(sig_keys_0d)+len(sig_keys_1d),2*(len(sig_keys_0d)+i)+1) \n",
    "        ax=fig.add_subplot(which_plot) #axes[i+1]\n",
    "        #ax.plot(times,sigs_all_times[i])\n",
    "        rho_len_in = int((data.shape[2]-len(sig_keys_0d))/len(sig_keys_1d))\n",
    "        if normalized:\n",
    "            sig_trace_1d = np.mean(sigs_all_times[len(sig_keys_0d)+i*rho_len_in:len(sig_keys_0d)+(i+1)*rho_len_in],axis=0)\n",
    "            ax.plot(true_times[times],sig_trace_1d)\n",
    "        else:\n",
    "            tmp = sigs_all_times[len(sig_keys_0d)+i*rho_len_in:len(sig_keys_0d)+(i+1)*rho_len_in]\n",
    "            if config['n_components']!='None':\n",
    "                # do the processing with pca, which was already loaded\n",
    "                tmp = pca.inverse_transform(tmp)\n",
    "            # convert back by multiplying by std, adding mean\n",
    "            sig_trace_1d = (stds[sig_keys_1d[i]].dot(tmp)+sum(means[sig_keys_1d[i]]))/rho_len_in\n",
    "            ax.plot(true_times[times],sig_trace_1d)\n",
    "        ax.set_ylabel('mean {}'.format(sig_keys_1d[i]), fontsize=titlesize)\n",
    "        ax.axvline(true_times[timestep],color='r')\n",
    "        ax.axvline(true_times[timestep+delay],color='b')\n",
    "        if i==len(sig_keys_0d)+len(sig_keys_1d)-1:\n",
    "            ax.set_xlabel('Time (ms)', fontsize=othersize)\n",
    "    \n",
    "    fig.suptitle('Shot {} (timestep {})'.format(shot_num,timestep))\n",
    "    plt.show()"
   ]
  },
  {
   "cell_type": "code",
   "execution_count": null,
   "metadata": {},
   "outputs": [],
   "source": [
    "plt.rcParams['figure.figsize'] = [20, 15]\n",
    "font={'size': 20, 'weight': 'heavy'}\n",
    "plt.rc('font', **font)"
   ]
  },
  {
   "cell_type": "code",
   "execution_count": null,
   "metadata": {},
   "outputs": [],
   "source": [
    "import random\n",
    "timestep=random.randint(0,len(val_data))\n",
    "\n",
    "#random.randint(0,len(train_data))\n",
    "#timestep=np.random.choice(train_shot_inds)+np.random.randint(10)\n",
    "\n",
    "#i+=2\n",
    "#timestep=val_shot_inds[val_shots.index(163174)]+i\n",
    "#timestep=val_shot_inds[42]+20\n",
    "timestep=918\n",
    "plot_timestep(timestep, train=False, normalized=True, sig_to_perturb=None)"
   ]
  },
  {
   "cell_type": "code",
   "execution_count": null,
   "metadata": {},
   "outputs": [],
   "source": [
    "def plot_timestep_creative(timestep, train=False, normalized=True, \n",
    "                  perturbations=[], sig_to_perturb='pinj'):\n",
    "    \n",
    "    delay = config['delay']\n",
    "    titlesize=20\n",
    "    othersize=20\n",
    "    legendsize=15\n",
    "    linewidth=7\n",
    "    smalllinewidth=3\n",
    "    \n",
    "    if(train):\n",
    "        data=train_data\n",
    "        target=train_target\n",
    "        shot_nums=train_shots\n",
    "        shot_inds=train_shot_inds\n",
    "        true_times=train_time\n",
    "    else:\n",
    "        data=val_data\n",
    "        target=val_target\n",
    "        shot_nums=val_shots\n",
    "        shot_inds=val_shot_inds\n",
    "        true_times=val_time\n",
    "        \n",
    "    index = np.searchsorted(shot_inds, timestep, side='right')-1\n",
    "    times=list(range(shot_inds[index],shot_inds[index+1]))\n",
    "\n",
    "    shot_num=shot_nums[index]\n",
    "    \n",
    "    input_data=np.array(data)[timestep:timestep+1]\n",
    "    #input_data[:,:,:3]=0\n",
    "    \n",
    "    pred=np.ndarray.flatten(loaded_model.predict(input_data))                      \n",
    "    \n",
    "    true=target[timestep]\n",
    "    # note that timestep 0 will now throw an error \n",
    "    prev=target[timestep-1] #data[timestep][-1][num_sigs:]\n",
    "    \n",
    "    if normalized:\n",
    "        pred_real=pred\n",
    "        true_real=true\n",
    "        prev_real=prev\n",
    "    else:\n",
    "        pred_real = np.multiply(pred,stds['e_temp'])+means['e_temp']\n",
    "        true_real = np.multiply(true,stds['e_temp'])+means['e_temp']\n",
    "        prev_real = np.multiply(prev,stds['e_temp'])+means['e_temp']\n",
    "    \n",
    "    sigs=data[timestep][-1][:len(sig_keys_0d)] #pinj, tinj, curr\n",
    "    sigs_all_times=np.array(data)[times,-delay-1,:].T\n",
    "    \n",
    "    fig = plt.figure()\n",
    "    \n",
    "    baseline_error = abs(true) #abs(true-prev)\n",
    "    pred_error = abs(true-pred)\n",
    "    \n",
    "    ax = fig.add_subplot('222')\n",
    "    ax.set_title('Electron temperature predictions by the ML model', fontsize=titlesize)\n",
    "    ax.plot(rho_points,pred_real,label='Predicted', linewidth=smalllinewidth)\n",
    "    \n",
    "    \n",
    "    #### FOR SENSITIVITY ANALYSIS ####\n",
    "    if len(perturbations)>0:\n",
    "        if sig_to_perturb in sig_keys_0d:\n",
    "            sig_index=sig_keys_0d.index(sig_to_perturb)\n",
    "        else:\n",
    "            sig_index=range(len(sig_keys_0d),input_data.shape[2])\n",
    "        for perturbation in perturbations:\n",
    "            input_data_no_actuators=input_data.copy()\n",
    "            input_data_no_actuators[:,:,sig_index]+=perturbation\n",
    "            pred_no_actuators=np.ndarray.flatten(loaded_model.predict(input_data_no_actuators))\n",
    "\n",
    "            if normalized:\n",
    "                pred_no_actuators_real=pred_no_actuators\n",
    "            else: \n",
    "                pred_no_actuators_real = np.multiply(pred_no_actuators,stds['e_temp'])+means['e_temp']\n",
    "\n",
    "            ax.plot(rho_points,pred_no_actuators_real,\n",
    "                    label='Predicted with {} additional std to {}'.format(perturbation, sig_to_perturb), \n",
    "                    linewidth=smalllinewidth)\n",
    "    ##################################\n",
    "    \n",
    "    \n",
    "    ax.plot(rho_points,true_real,label='True', linewidth=smalllinewidth)\n",
    "    #for differences\n",
    "    ax.axhline(0,label='Baseline',linewidth=smalllinewidth, color='k')\n",
    "    ### For regular:\n",
    "    #ax.plot(rho_points,prev_real,label='Previous', linewidth=smalllinewidth)\n",
    "    \n",
    "    ax.set_ylabel('Normalized e_temp', fontsize=othersize)\n",
    "    ax.set_xlim(0,1)\n",
    "    #ax.set_xlabel('Normalized rho', fontsize=othersize)\n",
    "    ax.legend(loc='best', fontsize=legendsize)\n",
    "    \n",
    "    ax = fig.add_subplot('224')\n",
    "    ax.set_title('Error in e_temp predictions', fontsize=titlesize)\n",
    "    ax.plot(rho_points, pred_error, color='red', label='Model error for one example', linewidth=linewidth)\n",
    "    ax.plot(rho_points, avg_val_mae, color='red', linestyle='--', label='Average prediction error', linewidth=smalllinewidth)\n",
    "    ax.fill_between(rho_points,avg_val_mae-std_val_mae, avg_val_mae+std_val_mae, color='red', alpha=.2)\n",
    "    ax.axhline(0,color='k')\n",
    "    ax.plot(rho_points, baseline_error, color='b', label='Baseline error for one example', linewidth=linewidth)\n",
    "    ax.plot(rho_points, avg_baseline_mae, color='b', linestyle='--', label='Average baseline error', linewidth=smalllinewidth)\n",
    "    ax.fill_between(rho_points,avg_baseline_mae-std_baseline_mae, avg_baseline_mae+std_baseline_mae, color='blue', alpha=.2)\n",
    "    ax.set_ylim(0,.25)\n",
    "    ax.set_xlim(0,1)\n",
    "    ax.legend(loc='upper left', fontsize=legendsize)\n",
    "    ax.set_ylabel('Error (abs val)', fontsize=othersize)\n",
    "    ax.set_xlabel('Normalized rho', fontsize=othersize)\n",
    "        \n",
    "        #textstr='Baseline error: %.2f \\nModel error: %.3f'%(np.mean(baseline_error),np.mean(pred_error))\n",
    "        #ax.text(0.05,0.1,textstr, transform=ax.transAxes)\n",
    "    \n",
    "    #plt.subplots_adjust(hspace=.5)\n",
    "\n",
    "    for i in range(len(sig_keys_0d)):\n",
    "        which_plot='{}2{}'.format(len(sig_keys_0d)+len(sig_keys_1d),2*i+1) \n",
    "        ax=fig.add_subplot(which_plot) #axes[i+1]\n",
    "        #ax.plot(times,sigs_all_times[i])\n",
    "        if normalized:\n",
    "            ax.plot(true_times[times],sigs_all_times[i])\n",
    "        else:\n",
    "            normalized_sig=(sigs_all_times[i]*stds[sig_keys_0d[i]])+means[sig_keys_0d[i]]\n",
    "            ax.plot(true_times[times],normalized_sig)\n",
    "        ax.set_ylabel(sig_keys_0d[i], fontsize=titlesize)\n",
    "        ax.axvline(true_times[timestep],color='r')\n",
    "        ax.axvline(true_times[timestep+delay],color='b')\n",
    "            \n",
    "    for i in range(len(sig_keys_1d)):\n",
    "        which_plot='{}2{}'.format(len(sig_keys_0d)+len(sig_keys_1d),2*(len(sig_keys_0d)+i)+1) \n",
    "        ax=fig.add_subplot(which_plot) #axes[i+1]\n",
    "        #ax.plot(times,sigs_all_times[i])\n",
    "        rho_len_in = int((data.shape[2]-len(sig_keys_0d))/len(sig_keys_1d))\n",
    "        if normalized:\n",
    "            sig_trace_1d = np.mean(sigs_all_times[len(sig_keys_0d)+i*rho_len_in:len(sig_keys_0d)+(i+1)*rho_len_in],axis=0)\n",
    "            ax.plot(true_times[times],sig_trace_1d)\n",
    "        else:\n",
    "            if config['n_components'] is not None:\n",
    "                # do the processing with pca, which was already loaded\n",
    "                pass\n",
    "            print(sigs_all_times.shape)\n",
    "            tmp = sigs_all_times[len(sig_keys_0d)+i*rho_len_in:len(sig_keys_0d)+(i+1)*rho_len_in]\n",
    "            # convert back by multiplying by std, adding mean\n",
    "            sig_trace_1d = (stds[sig_keys_1d[i]].dot(tmp)+sum(means[sig_keys_1d[i]]))/rho_len_in\n",
    "            ax.plot(true_times[times],sig_trace_1d)\n",
    "        ax.set_ylabel('mean {}'.format(sig_keys_1d[i]), fontsize=titlesize)\n",
    "        ax.axvline(true_times[timestep],color='r')\n",
    "        ax.axvline(true_times[timestep+delay],color='b')\n",
    "        if i==len(sig_keys_0d)+len(sig_keys_1d)-1:\n",
    "            ax.set_xlabel('Time (ms)', fontsize=othersize)\n",
    "    \n",
    "    fig.suptitle('Shot {} (timestep {})'.format(shot_num,timestep))\n",
    "    plt.show()"
   ]
  },
  {
   "cell_type": "code",
   "execution_count": null,
   "metadata": {},
   "outputs": [],
   "source": [
    "# The following must have already been run: \n",
    "# shot_indices_dictionary = helper_functions.load_obj(input_dir+'shot_indices')\n",
    "# train_shots = shot_indices_dictionary['train_shot_names']\n",
    "# val_shots = shot_indices_dictionary['val_shot_names']\n",
    "# train_shot_inds = shot_indices_dictionary['train_shot_indices']\n",
    "# val_shot_inds = shot_indices_dictionary['val_shot_indices']\n",
    "\n",
    "def plot_presentation_ready(timestep, train=False, normalized=True, \n",
    "                  sig_to_perturb='pinj'):\n",
    "    \n",
    "    titlesize=50\n",
    "    othersize=50\n",
    "    legendsize=30\n",
    "    linewidth=15\n",
    "    smalllinewidth=10\n",
    "    \n",
    "    delay = config['delay']\n",
    "    \n",
    "    if(train):\n",
    "        data=train_data\n",
    "        target=train_target\n",
    "        shot_nums=train_shots\n",
    "        shot_inds=train_shot_inds\n",
    "        true_times=train_time\n",
    "    else:\n",
    "        data=val_data\n",
    "        target=val_target\n",
    "        shot_nums=val_shots\n",
    "        shot_inds=val_shot_inds\n",
    "        true_times=val_time\n",
    "        \n",
    "    index = np.searchsorted(shot_inds, timestep, side='right')-1\n",
    "    times=list(range(shot_inds[index],shot_inds[index+1]))\n",
    "\n",
    "    shot_num=shot_nums[index]\n",
    "    \n",
    "    input_data=np.array(data)[timestep:timestep+1]\n",
    "    #input_data[:,:,:3]=0\n",
    "    \n",
    "    pred=np.ndarray.flatten(loaded_model.predict(input_data))                      \n",
    "    \n",
    "    true=target[timestep]\n",
    "    # note that timestep 0 will now throw an error \n",
    "    prev=target[timestep-1] #data[timestep][-1][num_sigs:]\n",
    "    \n",
    "    if normalized:\n",
    "        pred_real=pred\n",
    "        true_real=true\n",
    "        prev_real=prev\n",
    "    else:\n",
    "        pred_real = np.multiply(pred,stds['e_temp'])+means['e_temp']\n",
    "        true_real = np.multiply(true,stds['e_temp'])+means['e_temp']\n",
    "        prev_real = np.multiply(prev,stds['e_temp'])+means['e_temp']\n",
    "    \n",
    "    sigs=data[timestep][-1][:len(sig_keys_0d)] #pinj, tinj, curr\n",
    "    sigs_all_times=np.array(data)[times,-delay-1,:].T\n",
    "    \n",
    "    fig = plt.figure()\n",
    "    plt.plot(rho_points,pred_real,label='Model Prediction at t+1', linewidth=smalllinewidth,c='r')\n",
    "    \n",
    "    plt.plot(rho_points,true_real,label='True Profile at t+1', linewidth=linewidth,c='b',linestyle=':')\n",
    "    #for differences\n",
    "    plt.plot(rho_points, prev_real,label='Profile at t',linewidth=linewidth, color='k')\n",
    "     \n",
    "    #### FOR SENSITIVITY ANALYSIS ####\n",
    "#     words_for_multipliers=['increasing', 'fixed', 'decreasing']\n",
    "#     colors=['g','y','r']\n",
    "#     multipliers=[1,0,-1]\n",
    "#     for i in range(len(multipliers)):\n",
    "#         multiplier=multipliers[i]\n",
    "#         this_sig_index=sig_keys_0d.index(sig_to_perturb)\n",
    "#         other_sig_indices=range(len(sig_keys_0d),input_data.shape[2])\n",
    "\n",
    "#         input_data_perturbed=input_data.copy()\n",
    "\n",
    "#         # Flatline at the previous value for other signals\n",
    "#         input_data_perturbed[:,-delay:,other_sig_indices]=input_data_perturbed[:,-delay-1,other_sig_indices]\n",
    "#         # Increase linearly for the supplied signal\n",
    "#         input_data_perturbed[:,-delay:,this_sig_index]*=[1+(i+1)*multiplier for i in range(delay)]\n",
    "#         # add 10%\n",
    "#         #input_data_perturbed[:,:,sig_index] *= 1.1\n",
    "\n",
    "#         pred_perturbed=np.ndarray.flatten(loaded_model.predict(input_data_perturbed))\n",
    "#         if normalized:\n",
    "#             pred_perturbed_real=pred_perturbed\n",
    "#         else: \n",
    "#             if config['n_components'] is not None:\n",
    "#                 # do the processing with pca, which was already loaded\n",
    "#                 pred_perturbed = pca.inverse_transform(pred_perturbed)\n",
    "#             pred_perturbed_real = np.multiply(pred_perturbed,stds['e_temp'])+means['e_temp']\n",
    "#         plt.plot(rho_points,pred_perturbed_real,\n",
    "#                 label='t+1 prediction, {} {}'.format(sig_to_perturb, words_for_multipliers[i]), \n",
    "#                 linestyle='--',\n",
    "#                 color=colors[i],\n",
    "#                 linewidth=smalllinewidth)\n",
    "    ##################################\n",
    "    \n",
    "    #plt.title('Electron temperature profile prediction', fontsize=titlesize)    \n",
    "    plt.ylabel('Electron temperature (keV)', fontsize=othersize)\n",
    "    plt.xlabel('Spatial position (normalized)', fontsize=othersize)\n",
    "    plt.xlim(0,1)\n",
    "    #ax.set_xlabel('Normalized rho', fontsize=othersize)\n",
    "    plt.legend(loc='best', fontsize=legendsize)\n",
    "    \n",
    "    print('Shot {}\\nt={:0.0f} ms\\nt+1={:0.0f} ms'.format(shot_num,true_times[timestep],true_times[timestep+delay]))\n",
    "    plt.show()"
   ]
  },
  {
   "cell_type": "code",
   "execution_count": null,
   "metadata": {},
   "outputs": [],
   "source": [
    "import random\n",
    "random.randint(0,len(val_data))\n",
    "timestep=np.random.choice(val_shot_inds)+np.random.randint(10)\n",
    "\n",
    "#random.randint(0,len(train_data))\n",
    "#timestep=np.random.choice(train_shot_inds)+np.random.randint(10)\n",
    "\n",
    "#i+=2\n",
    "#timestep=val_shot_inds[val_shots.index(163174)]+i\n",
    "\n",
    "timestep=1419\n",
    "print(timestep)\n",
    "plot_presentation_ready(timestep, train=False, normalized=False, sig_to_perturb='pinj')"
   ]
  },
  {
   "cell_type": "code",
   "execution_count": null,
   "metadata": {},
   "outputs": [],
   "source": [
    "# plt.plot(rho_points,avg_val_mae, c='r', alpha=.5)\n",
    "# plt.plot(rho_points, avg_baseline_mae, c='b', alpha=.5)\n",
    "\n",
    "baseline_real=np.multiply(avg_baseline_mae,stds['e_temp'])+means['e_temp']\n",
    "baseline_std_real=np.multiply(std_baseline_mae,stds['e_temp'])+means['e_temp']\n",
    "ml_real=np.multiply(avg_val_mae,stds['e_temp'])+means['e_temp']\n",
    "ml_std_real=np.multiply(std_val_mae,stds['e_temp'])+means['e_temp']\n",
    "\n",
    "plt.fill_between(rho_points, baseline_real - baseline_std_real, baseline_real + baseline_std_real, color='b', alpha=0.2)\n",
    "plt.fill_between(rho_points, ml_real - ml_std_real, ml_real + ml_std_real, color='r', alpha=0.2)\n",
    "\n",
    "#plt.plot(rho_points, avg_baseline_reg_mae, c='k', label='Baseline Linear Regression', linewidth=7.0)\n",
    "plt.plot(rho_points, baseline_real, c='b', label='Baseline', linewidth=7.0)\n",
    "plt.plot(rho_points,ml_real, c='r', label='ML', linewidth=7.0)\n",
    "# plt.plot(rho_points,avg_val_mae_holdout, c='b', label='ML no actuators', linewidth=7.0)\n",
    "# plt.fill_between(rho_points, avg_baseline_mae - std_baseline_mae, avg_baseline_mae + std_baseline_mae, color='b', alpha=0.2)\n",
    "# plt.fill_between(rho_points, avg_val_mae - std_val_mae, avg_val_mae + std_val_mae, color='r', alpha=0.2)\n",
    "\n",
    "leg=plt.legend(loc='upper right', edgecolor='k', borderaxespad=1.0, borderpad=1.5, labelspacing=1.0, fontsize=30)\n",
    "leg.get_frame().set_linewidth(3.0)\n",
    "#leg.get_frame().set_edgecolor('k')\n",
    "#plt.title('Comparing prediction error with and without rho=30', fontweight='heavy', fontsize=40)\n",
    "plt.xlabel('Normalized rho', fontweight='heavy', fontsize=30)\n",
    "#plt.ylabel('(Model with rho=30) - (Model without rho=30)', fontweight='heavy', fontsize=30)\n",
    "plt.axhline(0,c='k')\n",
    "plt.xlim(0,1.0)\n",
    "plt.show()"
   ]
  },
  {
   "cell_type": "code",
   "execution_count": null,
   "metadata": {},
   "outputs": [],
   "source": []
  }
 ],
 "metadata": {
  "kernelspec": {
   "display_name": "Python 3",
   "language": "python",
   "name": "python3"
  },
  "language_info": {
   "codemirror_mode": {
    "name": "ipython",
    "version": 3
   },
   "file_extension": ".py",
   "mimetype": "text/x-python",
   "name": "python",
   "nbconvert_exporter": "python",
   "pygments_lexer": "ipython3",
   "version": "3.7.3"
  }
 },
 "nbformat": 4,
 "nbformat_minor": 4
}
