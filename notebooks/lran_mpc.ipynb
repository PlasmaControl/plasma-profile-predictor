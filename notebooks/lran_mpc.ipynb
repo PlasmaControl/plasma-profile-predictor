{
 "cells": [
  {
   "cell_type": "code",
   "execution_count": 6,
   "id": "a5fadc88-9c49-4d8d-9d46-d2aaaa639e11",
   "metadata": {},
   "outputs": [],
   "source": [
    "import os\n",
    "import sys\n",
    "import numpy as np\n",
    "import matplotlib.pyplot as plt\n",
    "%matplotlib inline\n",
    "import keras\n",
    "import pickle"
   ]
  },
  {
   "cell_type": "code",
   "execution_count": 3,
   "id": "7249af0a-8802-4289-b353-e5c1c8b2ff01",
   "metadata": {},
   "outputs": [],
   "source": [
    "sys.path.append(\"./..\")\n",
    "from helpers.mpc_helpers import LRANMPC"
   ]
  },
  {
   "cell_type": "code",
   "execution_count": 7,
   "id": "69f50b96-3b58-44ab-9e1f-7797ee1f3c10",
   "metadata": {},
   "outputs": [],
   "source": [
    "params_path = \"~/Downloads/model-autoencoder_LA-6_18Oct21-16-55_params.pkl\"\n",
    "model_path = \"~/Downloads/model-autoencoder_LA-6_18Oct21-16-55.h5\" \n",
    "model = keras.models.load_model(os.path.expanduser(model_path))\n",
    "with open(os.path.expanduser(params_path), \"rb\") as f:\n",
    "    params = pickle.load(f, encoding=\"latin1\")"
   ]
  },
  {
   "cell_type": "code",
   "execution_count": 8,
   "id": "6b8ed083-02c8-4983-ad68-dba5f4d5761c",
   "metadata": {},
   "outputs": [],
   "source": [
    "state = {key: np.random.random((1,1,33)) for key in params['profile_names']}\n",
    "state.update({key: np.random.random((1,1,1)) for key in params[\"scalar_names\"]})\n",
    "\n",
    "\n"
   ]
  },
  {
   "cell_type": "code",
   "execution_count": 9,
   "id": "332d55ee-6e4a-4df4-9a1c-1089b23995e1",
   "metadata": {},
   "outputs": [
    {
     "data": {
      "text/plain": [
       "{'curr': array([1941600.04447011]),\n",
       " 'gasA': array([-2.38219524]),\n",
       " 'a_EFIT02': array([0.50939068]),\n",
       " 'drsep_EFIT02': array([-0.55656545]),\n",
       " 'kappa_EFIT02': array([1.85309345]),\n",
       " 'rmagx_EFIT02': array([1.53973671]),\n",
       " 'triangularity_top_EFIT02': array([-0.34790725]),\n",
       " 'triangularity_bot_EFIT02': array([-0.2227716]),\n",
       " 'pinj': array([3435.05675808]),\n",
       " 'tinj': array([8.39695937])}"
      ]
     },
     "execution_count": 9,
     "metadata": {},
     "output_type": "execute_result"
    }
   ],
   "source": [
    "mpc = LRANMPC(model, params)\n",
    "mpc.mpc_action(0, state)"
   ]
  }
 ],
 "metadata": {
  "kernelspec": {
   "display_name": "Python 3 (ipykernel)",
   "language": "python",
   "name": "python3"
  },
  "language_info": {
   "codemirror_mode": {
    "name": "ipython",
    "version": 3
   },
   "file_extension": ".py",
   "mimetype": "text/x-python",
   "name": "python",
   "nbconvert_exporter": "python",
   "pygments_lexer": "ipython3",
   "version": "3.7.11"
  }
 },
 "nbformat": 4,
 "nbformat_minor": 5
}
