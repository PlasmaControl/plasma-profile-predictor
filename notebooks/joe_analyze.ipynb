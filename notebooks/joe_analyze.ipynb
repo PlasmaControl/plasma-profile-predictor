{
 "cells": [
  {
   "cell_type": "markdown",
   "metadata": {},
   "source": [
    "# Setup/Imports"
   ]
  },
  {
   "cell_type": "code",
   "execution_count": 1,
   "metadata": {},
   "outputs": [
    {
     "name": "stderr",
     "output_type": "stream",
     "text": [
      "Using TensorFlow backend.\n"
     ]
    }
   ],
   "source": [
    "import pickle\n",
    "import keras\n",
    "import tensorflow as tf\n",
    "#from keras import backend as K\n",
    "import numpy as np\n",
    "import sys\n",
    "import os\n",
    "sys.path.append(os.path.abspath('../'))\n",
    "import helpers\n",
    "import helpers.data_generator\n",
    "from helpers.data_generator import process_data, DataGenerator\n",
    "from helpers.custom_losses import denorm_loss, hinge_mse_loss\n",
    "from helpers.custom_losses import percent_correct_sign, baseline_MAE\n",
    "from models.LSTMConv2D import get_model_lstm_conv2d, get_model_simple_lstm\n",
    "from models.LSTMConv2D import get_model_linear_systems, get_model_conv2d\n",
    "from utils.callbacks import CyclicLR, TensorBoardWrapper\n",
    "from keras.callbacks import ModelCheckpoint, ReduceLROnPlateau\n",
    "from time import strftime, localtime\n",
    "import matplotlib\n",
    "from matplotlib import pyplot as plt\n",
    "import copy\n",
    "\n",
    "from helpers.normalization import normalize, denormalize, renormalize\n",
    "#import tkinter as tk\n",
    "#from tkinter import filedialog\n",
    "#root = tk.Tk()\n",
    "#root.withdraw()"
   ]
  },
  {
   "cell_type": "code",
   "execution_count": 2,
   "metadata": {},
   "outputs": [
    {
     "data": {
      "text/plain": [
       "<module 'helpers.normalization' from '/home/jabbate/plasma-profile-predictor/helpers/normalization.py'>"
      ]
     },
     "execution_count": 2,
     "metadata": {},
     "output_type": "execute_result"
    }
   ],
   "source": [
    "#import importlib\n",
    "#importlib.reload(helpers.normalization)"
   ]
  },
  {
   "cell_type": "code",
   "execution_count": 2,
   "metadata": {},
   "outputs": [],
   "source": [
    "%matplotlib inline\n",
    "font={'family': 'Times New Roman',\n",
    "      'size': 10}\n",
    "plt.rc('font', **font)\n",
    "matplotlib.rcParams['figure.facecolor'] = (1,1,1,1)"
   ]
  },
  {
   "cell_type": "markdown",
   "metadata": {},
   "source": [
    "# Analysis"
   ]
  },
  {
   "cell_type": "code",
   "execution_count": 64,
   "metadata": {},
   "outputs": [
    {
     "name": "stdout",
     "output_type": "stream",
     "text": [
      "loaded model: model-conv1d_profiles-thomson_temp_EFITRT1-thomson_dens_EFITRT1-press_EFITRT1-ffprime_EFITRT1-q_EFIT01_act-pinj-curr-tinj_targ-thomson_temp_EFITRT1-thomson_dens_EFITRT1_profLB-1_actLB-6_ftop-True_03Nov19-22-24.h5\n",
      "loaded dict: model-conv1d_profiles-thomson_temp_EFITRT1-thomson_dens_EFITRT1-press_EFITRT1-ffprime_EFITRT1-q_EFIT01_act-pinj-curr-tinj_targ-thomson_temp_EFITRT1-thomson_dens_EFITRT1_profLB-1_actLB-6_ftop-True_03Nov19-22-24_params.pkl\n",
      "with parameters: dict_keys(['actuator_names', 'input_profile_names', 'target_profile_names', 'scalar_input_names', 'profile_downsample', 'model_type', 'model_kwargs', 'std_activation', 'hinge_weight', 'mse_weight_power', 'mse_weight_edge', 'mse_power', 'batch_size', 'epochs', 'flattop_only', 'predict_deltas', 'raw_data_path', 'process_data', 'processed_filename_base', 'optimizer', 'optimizer_kwargs', 'shuffle_generators', 'pruning_functions', 'normalization_method', 'window_length', 'window_overlap', 'profile_lookback', 'actuator_lookback', 'lookahead', 'sample_step', 'uniform_normalization', 'train_frac', 'val_frac', 'nshots', 'excluded_shots', 'lookbacks', 'sig_names', 'normalization_dict', 'profile_length', 'mse_weight_vector', 'runname', 'steps_per_epoch', 'val_steps', 'model_path', 'history', 'history_params'])\n"
     ]
    }
   ],
   "source": [
    "#file_path='/home/wconlin/run_results_9_26/model-conv1d_profiles-temp-dens_act-pinj-curr-tinj-gasA_targ-temp-dens_profLB-1_actLB-6_norm-RobustScaler_activ-relu_nshots-12000_ftop-True_01Oct19-08-59_Scenario-480.h5'\n",
    "file_path='/home/wconlin/run_results_11_2/model-conv1d_profiles-thomson_temp_EFITRT1-thomson_dens_EFITRT1-press_EFITRT1-ffprime_EFITRT1-q_EFIT01_act-pinj-curr-tinj_targ-thomson_temp_EFITRT1-thomson_dens_EFITRT1_profLB-1_actLB-6_ftop-True_03Nov19-22-24.h5'\n",
    "#file_path='/home/wconlin/run_results_10_4/model-conv1d_profiles-temp-dens-q_EFIT01_act-pinj-curr-tinj-gasA_targ-dens_profLB-1_actLB-6_norm-RobustScaler_activ-relu_nshots-12000_ftop-True_06Oct19-10-12_Scenario-164.h5'\n",
    "#file_path='/home/wconlin/run_results_10_4/model-conv1d_profiles-temp-dens-q_EFIT01_act-pinj-curr-tinj-gasA_targ-dens_profLB-1_actLB-6_norm-RobustScaler_activ-relu_nshots-12000_ftop-True_06Oct19-22-29_Scenario-244.h5'\n",
    "#file_path='/home/wconlin/run_results_9_26/model-conv2d_profiles-temp-dens-press_EFIT01-ffprime_EFIT01-q_EFIT01-itemp-rotation_act-pinj-curr-tinj-gasA_targ-temp-dens_profLB-1_actLB-6_norm-RobustScaler_activ-relu_nshots-12000_ftop-True_28Sep19-03-42_Scenario-138.h5'\n",
    "#file_path='/home/wconlin/run_results_10_4/model-conv2d_profiles-temp-dens-press_EFIT01-ffprime_EFIT01-q_EFIT01_act-pinj-curr-tinj-gasA_targ-temp_profLB-1_actLB-6_norm-RobustScaler_activ-relu_nshots-12000_ftop-True_05Oct19-03-47_Scenario-20.h5'\n",
    "model = keras.models.load_model(file_path, compile=False)\n",
    "print('loaded model: ' + file_path.split('/')[-1])\n",
    "file_path = file_path[:-3] + '_params.pkl'\n",
    "with open(file_path, 'rb') as f:\n",
    "    scenario = pickle.load(f, encoding='latin1')\n",
    "print('loaded dict: ' + file_path.split('/')[-1])\n",
    "print('with parameters: ' + str(scenario.keys()))"
   ]
  },
  {
   "cell_type": "code",
   "execution_count": 65,
   "metadata": {},
   "outputs": [
    {
     "data": {
      "text/plain": [
       "['thomson_temp_EFITRT1',\n",
       " 'thomson_dens_EFITRT1',\n",
       " 'press_EFITRT1',\n",
       " 'ffprime_EFITRT1',\n",
       " 'q_EFIT01',\n",
       " 'thomson_temp_EFITRT1',\n",
       " 'thomson_dens_EFITRT1',\n",
       " 'pinj',\n",
       " 'curr',\n",
       " 'tinj']"
      ]
     },
     "execution_count": 65,
     "metadata": {},
     "output_type": "execute_result"
    }
   ],
   "source": [
    "scenario['sig_names']"
   ]
  },
  {
   "cell_type": "code",
   "execution_count": 66,
   "metadata": {
    "scrolled": false
   },
   "outputs": [
    {
     "name": "stdout",
     "output_type": "stream",
     "text": [
      "Loading\n",
      "Signals: curr, ffprime_EFITRT1, pinj, press_EFITRT1, q_EFIT01, thomson_dens_EFITRT1, thomson_temp_EFITRT1, tinj\n",
      "Number of useable shots:  48\n",
      "Number of shots used:  48\n",
      "Total number of timesteps:  12862\n",
      "Shots with Complete NaN: \n",
      "3159 samples total\n",
      "Removing NaN\n",
      "Removed 0 samples\n",
      "3159 samples remaining\n",
      "Removing dudtrip\n",
      "Removed 65 samples\n",
      "3094 samples remaining\n",
      "Removing weird I-coils\n",
      "Removed 445 samples\n",
      "2649 samples remaining\n",
      "Removing ECH\n",
      "Removed 158 samples\n",
      "2491 samples remaining\n",
      "Removing weird gas\n",
      "Removed 1156 samples\n",
      "1335 samples remaining\n",
      "Removing ECH\n",
      "Removed 0 samples\n",
      "1335 samples remaining\n",
      "Removing weird gas\n",
      "Removed 0 samples\n",
      "1335 samples remaining\n",
      "1335 samples remaining after pruning\n",
      "nonrandomized\n",
      "Total number of samples:  1335\n",
      "Number of training samples:  1335\n",
      "Number of validation samples:  0\n"
     ]
    }
   ],
   "source": [
    "#import importlib\n",
    "#importlib.reload(helpers.data_generator)\n",
    "traindata, valdata, normalization_dict = helpers.data_generator.process_data('/scratch/gpfs/jabbate/mixed_data/final_data_batch_204.pkl', #scenario['raw_data_path'],\n",
    "                                                      scenario['sig_names'],\n",
    "                                                      scenario['normalization_method'],\n",
    "                                                      scenario['window_length'],\n",
    "                                                      scenario['window_overlap'],\n",
    "                                                      scenario['lookbacks'],\n",
    "                                                      scenario['lookahead'],\n",
    "                                                      scenario['sample_step'],\n",
    "                                                      scenario['uniform_normalization'],\n",
    "                                                      1, #scenario['train_frac'],\n",
    "                                                      0, #scenario['val_frac'],\n",
    "                                                      scenario['nshots'],\n",
    "                                                      2,\n",
    "                                                      scenario['flattop_only'],\n",
    "                                                      randomize=False,\n",
    "                                                      pruning_functions=scenario['pruning_functions'], #pruning_functions, \n",
    "                                                      #excluded_shots = scenario['excluded_shots'],\n",
    "                                                      delta_sigs = [])\n",
    "train_generator = DataGenerator(traindata,\n",
    "                                1, #scenario['batch_size'],\n",
    "                                scenario['input_profile_names'],\n",
    "                                scenario['actuator_names'],\n",
    "                                scenario['target_profile_names'],\n",
    "                                scenario['scalar_input_names'],\n",
    "                                scenario['lookbacks'],\n",
    "                                scenario['lookahead'],\n",
    "                                scenario['predict_deltas'],\n",
    "                                scenario['profile_downsample'],\n",
    "                                False) #scenario['shuffle_generators'])"
   ]
  },
  {
   "cell_type": "code",
   "execution_count": 67,
   "metadata": {
    "scrolled": false
   },
   "outputs": [
    {
     "data": {
      "image/png": "[encoded data removed]",
      "text/plain": [
       "<Figure size 720x720 with 1 Axes>"
      ]
     },
     "metadata": {},
     "output_type": "display_data"
    }
   ],
   "source": [
    "plt.plot(scenario['history']['val_loss'],label='validation loss')\n",
    "plt.plot(scenario['history']['loss'],label='train loss')\n",
    "plt.legend()\n",
    "#plt.ylim(0,.1)\n",
    "plt.show()"
   ]
  },
  {
   "cell_type": "code",
   "execution_count": 68,
   "metadata": {},
   "outputs": [
    {
     "name": "stderr",
     "output_type": "stream",
     "text": [
      "Denormalizing: 100%|##########| 21/21 [00:00<00:00, 3595.85it/s]\n"
     ]
    }
   ],
   "source": [
    "denormed_traindata=helpers.normalization.denormalize(traindata,normalization_dict)"
   ]
  },
  {
   "cell_type": "markdown",
   "metadata": {},
   "source": [
    "# Design your own shot"
   ]
  },
  {
   "cell_type": "code",
   "execution_count": 72,
   "metadata": {},
   "outputs": [],
   "source": [
    "def plot_prediction_for_shot_at_time(shotnum,t,filename=None,denormalized=False):\n",
    "\n",
    "    if denormalized:\n",
    "        proper_traindata=denormed_traindata\n",
    "    else:\n",
    "        proper_traindata=traindata\n",
    "    \n",
    "    psi = np.linspace(0,1,scenario['profile_length'])\n",
    "    sigs=scenario['actuator_names']\n",
    "    profiles=scenario['target_profile_names']\n",
    "    input_profiles=scenario['input_profile_names']\n",
    "    changed_input_keys=[]\n",
    "    changed_profile_keys=[] #'thomson_dens_EFITRT1']\n",
    "\n",
    "    sig_names={'curr': 'ip (A)',\n",
    "           'temp':'Te (keV)', \n",
    "           'dens': 'ne (10^19 m^-3)',\n",
    "           'q_EFIT01':'q',\n",
    "           'pinj': 'pinj (kW)', \n",
    "           'gasA': 'gasA (V)',\n",
    "           'tinj':'tinj (Nm)'}\n",
    "    sig_lims={\n",
    "              'thomson_temp_EFITRT1': [0,2e3],             \n",
    "              'curr': [0,2e6],\n",
    "              'temp':[0,10], \n",
    "              'dens': [0,10],\n",
    "              'pinj': [0,1.5e4], \n",
    "              'gasA': [0,8]}\n",
    "    \n",
    "    shot_indices=np.where(traindata['shotnum'][:,0]==shotnum)[0]\n",
    "\n",
    "    time_offset=np.argmin(abs(traindata['time'][shot_indices,-scenario['lookahead']-1]-t))\n",
    "\n",
    "    #prev_targets=train_generator[shot_indices[0]+time_offset-1][1]\n",
    "\n",
    "    inputs=train_generator[shot_indices[0]+time_offset][0]\n",
    "    targets=train_generator[shot_indices[0]+time_offset][1]\n",
    "    \n",
    "    changed_input=copy.deepcopy(inputs)\n",
    "    for key in changed_input_keys:\n",
    "        #changed_input['input_past_{}'.format(key)]=np.array([np.linspace(-2,0,actuator_lookback)])\n",
    "        #changed_input['input_past_{}'.format(key)]=np.zeros(changed_input['input_past_{}'.format(key)].shape)\n",
    "\n",
    "        prev=traindata[key][shot_indices[0]+time_offset][-scenario['lookahead']-1]\n",
    "        #changed_input['input_future_{}'.format(key)]=np.array([[prev]*scenario['lookahead']])\n",
    "        #changed_input['input_future_{}'.format(key)]=np.zeros(changed_input['input_future_{}'.format(key)].shape)\n",
    "        changed_input['input_future_{}'.format(key)]=np.array([np.linspace(prev,prev+1,scenario['lookahead'])]) \n",
    "        #changed_input['input_future_{}'.format(key)]+=2\n",
    "        #changed_input['input_past_{}'.format(key)]+=2\n",
    "        #prev=traindata[key][shot_indices[0]+time_offset][-1]#0]\n",
    "        #changed_input['input_past_{}'.format(key)]=np.array([[prev]*actuator_lookback])\n",
    "\n",
    "    for key in changed_profile_keys:\n",
    "        #changed_input['input_{}'.format(key)]=np.array([[[0]*scenario['profile_length']]])\n",
    "        changed_input['input_{}'.format(key)]-=np.array([[.5*np.linspace(1,1,scenario['profile_length'])]])\n",
    "        #changed_input['input_{}'.format(key)]+=np.array([targets['target_{}'.format(key)]])\n",
    "    \n",
    "    num_cols=2\n",
    "\n",
    "    fig=plt.figure()\n",
    "    for i,sig in enumerate(sigs):\n",
    "        ax=fig.add_subplot(len(sigs),num_cols,i*num_cols+1)\n",
    "        if len(traindata[sig][shot_indices].shape)>2:\n",
    "            ax.plot(traindata['time'][shot_indices,-scenario['lookahead']-1],\n",
    "                    np.mean(proper_traindata[sig][shot_indices,-scenario['lookahead']-1,:],axis=1),\n",
    "                    c='b')\n",
    "    #         ax.contourf(traindata['time'][shot_indices,-lookahead],\n",
    "    #                 psi,\n",
    "    #                 traindata[sig][shot_indices,-lookahead,::scenario['profile_downsample']].T)\n",
    "            if denormalized:\n",
    "                ax.set_ylim(sig_lims[sig])\n",
    "            else:\n",
    "                ax.set_ylim(-2,2)\n",
    "\n",
    "        else:\n",
    "#             ax.plot(traindata['time'][shot_indices[0],:-scenario['lookahead']-1],\n",
    "#                             traindata[sig][shot_indices[0],:-scenario['lookahead']-1],\n",
    "#                    c='b')\n",
    "            #median=scenario['normalization_dict'][sig]['median']\n",
    "            #iqr=scenario['normalization_dict'][sig]['iqr']\n",
    "            ax.plot(traindata['time'][shot_indices,-scenario['lookahead']-1],\n",
    "                    proper_traindata[sig][shot_indices,-scenario['lookahead']-1],\n",
    "                    c='b',\n",
    "                    label='True')\n",
    "            if sig in changed_input_keys:\n",
    "                changed_input_final=np.append(changed_input['input_past_{}'.format(sig)].squeeze(),changed_input['input_future_{}'.format(sig)].squeeze())\n",
    "                if denormalized:\n",
    "                    changed_input_final=helpers.normalization.denormalize_arr(changed_input_final,normalization_dict[sig])\n",
    "                ax.plot(traindata['time'][shot_indices[0]+time_offset,:],\n",
    "                        changed_input_final,\n",
    "                        color='r',\n",
    "                        label='Perturbation')\n",
    "                ax.legend()\n",
    "            if denormalized:\n",
    "                ax.set_ylim(sig_lims[sig])\n",
    "            else:\n",
    "                if sig=='curr':\n",
    "                    ax.set_ylim(-3,3)\n",
    "                else:\n",
    "                    ax.set_ylim(-3,3)\n",
    "\n",
    "\n",
    "        ax.axvline(traindata['time'][shot_indices[0]+time_offset,-scenario['lookahead']-1],\n",
    "                  color='r')\n",
    "        ax.axvline(traindata['time'][shot_indices[0]+time_offset,-1],\n",
    "                  color='g')\n",
    "        ax.axvline(traindata['time'][shot_indices[0]+time_offset,0],\n",
    "                  color='k')\n",
    "        ax.set_xlim(0,np.amax(traindata['time'][shot_indices]))\n",
    "        if sig in profiles:\n",
    "            if sig in sig_names:\n",
    "                ax.set_title('Average {}'.format(sig_names[sig]))\n",
    "            else:\n",
    "                ax.set_title('Average {}'.format(sig))\n",
    "        else: \n",
    "            ax.set_title(sig_names[sig])\n",
    "\n",
    "    # truths=train_generator[shot_indices[0]+time_offset][1]\n",
    "\n",
    "#     for i,profile in enumerate(input_profiles):\n",
    "#         ax=fig.add_subplot(len(input_profiles),num_cols,i*num_cols+1+1)\n",
    "\n",
    "#         ax.plot(psi,inputs['input_{}'.format(profile)].squeeze(),c='g')\n",
    "#         if profile in changed_profile_keys:\n",
    "#             ax.plot(psi,changed_input['input_{}'.format(profile)].squeeze(),c='r')\n",
    "#         ax.set_title('{}'.format(profile))\n",
    "#         ax.axhline(0,color='k',alpha=.5)\n",
    "#         ax.set_ylim(-2,2)\n",
    "\n",
    "    predictions=model.predict_on_batch(inputs)\n",
    "    changed_predictions=model.predict_on_batch(changed_input)\n",
    "    for i,profile in enumerate(profiles):\n",
    "        ax=fig.add_subplot(len(profiles),num_cols,i*num_cols+1+1)\n",
    "        ax.plot(psi,\n",
    "                proper_traindata[profile][shot_indices[0]+time_offset][0][::scenario['profile_downsample']],\n",
    "                label='Previous',\n",
    "                c='k')\n",
    "        ax.plot(psi,\n",
    "                proper_traindata[profile][shot_indices[0]+time_offset][-1][::scenario['profile_downsample']],\n",
    "                label='Next',\n",
    "                c='g')\n",
    "        if scenario['predict_deltas']:\n",
    "            full_profile_prediction=traindata[profile][shot_indices[0]+time_offset][0][::scenario['profile_downsample']]+predictions[i].squeeze()\n",
    "            if denormalized: \n",
    "                full_profile_prediction=helpers.normalization.denormalize_arr(full_profile_prediction,normalization_dict[profile])\n",
    "            ax.plot(psi,\n",
    "                    full_profile_prediction,\n",
    "                    label='Prediction',\n",
    "                    c='b')\n",
    "            full_profile_prediction_perturbed=traindata[profile][shot_indices[0]+time_offset][0][::scenario['profile_downsample']]+changed_predictions[i].squeeze()\n",
    "            if denormalized:\n",
    "                full_profile_prediction_perturbed=helpers.normalization.denormalize_arr(full_profile_prediction_perturbed,normalization_dict[profile])\n",
    "            if len(changed_input_keys)+len(changed_profile_keys)>0:\n",
    "                ax.plot(psi,\n",
    "                        full_profile_prediction_perturbed,\n",
    "                        label='Perturbed Prediction',\n",
    "                        c='r')\n",
    "        else:\n",
    "            ax.plot(psi,\n",
    "                    predictions[i].squeeze(),\n",
    "                    label='Prediction',\n",
    "                    c='b')\n",
    "            if len(changed_input_keys)+len(changed_profile_keys)>0:\n",
    "                ax.plot(psi,\n",
    "                        changed_predictions[i].squeeze(),\n",
    "                        label='Perturbed Prediction',\n",
    "                        c='r')\n",
    "        ax.legend()\n",
    "        if profile in sig_names:\n",
    "            ax.set_title(sig_names[profile])\n",
    "        else: \n",
    "            ax.set_title(profile)\n",
    "        \n",
    "        if denormalized:\n",
    "            ax.set_ylim(sig_lims[profile])\n",
    "        else:\n",
    "            ax.set_ylim(-2,2)\n",
    "        ax.axhline(0,color='k',alpha=.5)\n",
    "        \n",
    "#         ax=fig.add_subplot(len(profiles),num_cols,i*num_cols+1+1)\n",
    "\n",
    "#         if scenario['predict_deltas']:\n",
    "#             ax.plot(psi,targets['target_{}'.format(profile)].squeeze(),label='True',c='g')\n",
    "#             ax.plot(psi,predictions[i].squeeze(),label='Prediction',\n",
    "#                     c='b')\n",
    "#             if len(changed_input_keys)+len(changed_profile_keys)>0:\n",
    "#                 ax.plot(psi,changed_predictions[i].squeeze(),color='r',label='Perturbed Prediction')\n",
    "#         else:\n",
    "#             ax.plot(psi,\n",
    "#                     targets['target_{}'.format(profile)].squeeze()-proper_traindata[profile][shot_indices[0]+time_offset][0][::scenario['profile_downsample']],\n",
    "#                     label='True',\n",
    "#                     c='g')\n",
    "#             ax.plot(psi,\n",
    "#                     predictions[i].squeeze()-proper_traindata[profile][shot_indices[0]+time_offset][0][::scenario['profile_downsample']],\n",
    "#                     label='Prediction',\n",
    "#                     c='b')\n",
    "#             if len(changed_input_keys)+len(changed_profile_keys)>0:\n",
    "#                 ax.plot(psi,\n",
    "#                         changed_predictions[i].squeeze()-proper_traindata[profile][shot_indices[0]+time_offset][0][::scenario['profile_downsample']],\n",
    "#                         color='r',\n",
    "#                         label='Perturbed Prediction')\n",
    "        \n",
    "#         if profile in sig_names:\n",
    "#             ax.set_title('Normalized {} change'.format(sig_names[profile]))\n",
    "#         else:\n",
    "#             ax.set_title('Normalized {} change'.format(profile))\n",
    "#         ax.axhline(0,color='k',alpha=.5)\n",
    "        \n",
    "#         ax.set_ylim(-2,2)\n",
    "#         ax.legend()\n",
    "\n",
    "    time=train_generator.cur_times[:,max(scenario['profile_lookback'], scenario['actuator_lookback'])].squeeze()\n",
    "    fig.suptitle('Shot {:.0f}, {:.0f} ms'.format(shotnum,time),fontsize=30)\n",
    "    plt.subplots_adjust(hspace=.2)\n",
    "    if filename is None:\n",
    "        plt.show()\n",
    "    else:\n",
    "        print(filename)\n",
    "        plt.savefig(filename)\n",
    "        plt.close()"
   ]
  },
  {
   "cell_type": "code",
   "execution_count": 11,
   "metadata": {},
   "outputs": [
    {
     "name": "stdout",
     "output_type": "stream",
     "text": [
      "[175966. 175967. 175968. 175969. 175970. 175971. 175973. 175975. 175976.\n",
      " 175978. 175979. 175981. 175983. 175986. 175987. 175988. 175989. 176003.\n",
      " 176004. 176005. 176007. 176008. 176009. 176011. 176012. 176013. 176014.\n",
      " 176015. 176016. 176017. 176018. 176022. 176031. 176032.]\n"
     ]
    }
   ],
   "source": [
    "print(all_shots)"
   ]
  },
  {
   "cell_type": "code",
   "execution_count": 82,
   "metadata": {},
   "outputs": [
    {
     "data": {
      "image/png": "[encoded data removed]",
      "text/plain": [
       "<Figure size 720x720 with 5 Axes>"
      ]
     },
     "metadata": {},
     "output_type": "display_data"
    }
   ],
   "source": [
    "plt.rcParams[\"figure.figsize\"] = (10,10)\n",
    "\n",
    "all_shots=np.unique(traindata['shotnum'])\n",
    "shotnum=175989 #np.random.choice(all_shots) #179118\n",
    "t+=200 #np.random.choice([1500,2000,2500])\n",
    "plot_prediction_for_shot_at_time(shotnum,t,denormalized=False)"
   ]
  },
  {
   "cell_type": "code",
   "execution_count": null,
   "metadata": {},
   "outputs": [],
   "source": []
  },
  {
   "cell_type": "code",
   "execution_count": 239,
   "metadata": {},
   "outputs": [
    {
     "name": "stdout",
     "output_type": "stream",
     "text": [
      "/home/jabbate/pics/175673_00.png\n",
      "/home/jabbate/pics/175673_01.png\n",
      "/home/jabbate/pics/175673_02.png\n",
      "/home/jabbate/pics/175673_03.png\n",
      "/home/jabbate/pics/175673_04.png\n",
      "/home/jabbate/pics/175673_05.png\n",
      "/home/jabbate/pics/175673_06.png\n",
      "/home/jabbate/pics/175673_07.png\n",
      "/home/jabbate/pics/175673_08.png\n",
      "/home/jabbate/pics/175673_09.png\n",
      "/home/jabbate/pics/175673_10.png\n",
      "/home/jabbate/pics/175673_11.png\n",
      "/home/jabbate/pics/175673_12.png\n",
      "/home/jabbate/pics/175673_13.png\n",
      "/home/jabbate/pics/175673_14.png\n",
      "/home/jabbate/pics/175673_15.png\n",
      "/home/jabbate/pics/175673_16.png\n",
      "/home/jabbate/pics/175673_17.png\n",
      "/home/jabbate/pics/175673_18.png\n",
      "/home/jabbate/pics/175673_19.png\n",
      "/home/jabbate/pics/175673_20.png\n",
      "/home/jabbate/pics/175673_21.png\n",
      "/home/jabbate/pics/175673_22.png\n",
      "/home/jabbate/pics/175673_23.png\n",
      "/home/jabbate/pics/175673_24.png\n",
      "/home/jabbate/pics/175673_25.png\n",
      "/home/jabbate/pics/175673_26.png\n",
      "/home/jabbate/pics/175673_27.png\n",
      "/home/jabbate/pics/175673_28.png\n",
      "/home/jabbate/pics/175673_29.png\n",
      "/home/jabbate/pics/175673_30.png\n",
      "/home/jabbate/pics/175673_31.png\n",
      "/home/jabbate/pics/175673_32.png\n",
      "/home/jabbate/pics/175673_33.png\n",
      "/home/jabbate/pics/175673_34.png\n",
      "/home/jabbate/pics/175673_35.png\n",
      "/home/jabbate/pics/175673_36.png\n",
      "/home/jabbate/pics/175673_37.png\n",
      "/home/jabbate/pics/175673_38.png\n",
      "/home/jabbate/pics/175673_39.png\n",
      "/home/jabbate/pics/175673_40.png\n",
      "/home/jabbate/pics/175673_41.png\n",
      "/home/jabbate/pics/175673_42.png\n",
      "/home/jabbate/pics/175673_43.png\n",
      "/home/jabbate/pics/175673_44.png\n",
      "/home/jabbate/pics/175673_45.png\n",
      "/home/jabbate/pics/175673_46.png\n",
      "/home/jabbate/pics/175673_47.png\n",
      "/home/jabbate/pics/175673_48.png\n",
      "/home/jabbate/pics/175673_49.png\n",
      "/home/jabbate/pics/175673_50.png\n",
      "/home/jabbate/pics/175673_51.png\n",
      "/home/jabbate/pics/175673_52.png\n",
      "/home/jabbate/pics/175673_53.png\n",
      "/home/jabbate/pics/175673_54.png\n",
      "/home/jabbate/pics/175673_55.png\n",
      "/home/jabbate/pics/175673_56.png\n",
      "/home/jabbate/pics/175673_57.png\n",
      "/home/jabbate/pics/175673_58.png\n",
      "/home/jabbate/pics/175673_59.png\n",
      "/home/jabbate/pics/175673_60.png\n",
      "/home/jabbate/pics/175673_61.png\n",
      "/home/jabbate/pics/175673_62.png\n",
      "/home/jabbate/pics/175673_63.png\n",
      "/home/jabbate/pics/175673_64.png\n",
      "/home/jabbate/pics/175673_65.png\n",
      "/home/jabbate/pics/175673_66.png\n",
      "/home/jabbate/pics/175673_67.png\n",
      "/home/jabbate/pics/175673_68.png\n",
      "/home/jabbate/pics/175673_69.png\n",
      "/home/jabbate/pics/175673_70.png\n",
      "/home/jabbate/pics/175673_71.png\n",
      "/home/jabbate/pics/175673_72.png\n",
      "/home/jabbate/pics/175673_73.png\n",
      "/home/jabbate/pics/175673_74.png\n",
      "/home/jabbate/pics/175673_75.png\n",
      "/home/jabbate/pics/175673_76.png\n",
      "/home/jabbate/pics/175673_77.png\n",
      "/home/jabbate/pics/175673_78.png\n",
      "/home/jabbate/pics/175673_79.png\n",
      "/home/jabbate/pics/175673_80.png\n",
      "/home/jabbate/pics/175673_81.png\n",
      "/home/jabbate/pics/175673_82.png\n",
      "/home/jabbate/pics/175673_83.png\n",
      "/home/jabbate/pics/175673_84.png\n"
     ]
    }
   ],
   "source": [
    "basedir='/home/jabbate/pics'\n",
    "\n",
    "shotnum=175673 #np.random.choice(all_shots)\n",
    "shot_indices=np.where(traindata['shotnum'][:,0]==shotnum)[0]\n",
    "time_offset=abs(traindata['time'][shot_indices,-scenario['lookahead']])\n",
    "for i,t in enumerate(time_offset):\n",
    "    plot_prediction_for_shot_at_time(shotnum,t,filename=os.path.join(basedir,'{}_{:02d}.png'.format(int(shotnum),i)))"
   ]
  },
  {
   "cell_type": "code",
   "execution_count": 73,
   "metadata": {},
   "outputs": [
    {
     "name": "stdout",
     "output_type": "stream",
     "text": [
      "[ 800.  860.  920.  980. 1040. 1100. 1160. 1220. 1280. 1340. 1400. 1460.\n",
      " 1520. 1580. 1640. 1700. 1760. 1820. 1880. 1940. 2000. 2060. 2120. 2180.\n",
      " 2240. 2300. 2360. 2420. 2480. 2540. 2600. 2660. 2720. 2780. 2840. 2900.\n",
      " 2960. 3020.]\n"
     ]
    }
   ],
   "source": [
    "print()"
   ]
  },
  {
   "cell_type": "markdown",
   "metadata": {},
   "source": [
    "# Make the colorbar plots"
   ]
  },
  {
   "cell_type": "code",
   "execution_count": null,
   "metadata": {},
   "outputs": [],
   "source": [
    "%matplotlib inline\n",
    "plt.rcParams['figure.figsize'] = [20, 20]\n",
    "plt.rcParams['font.size'] = 22\n",
    "\n",
    "import numpy as np\n",
    "import matplotlib.pyplot as plt\n",
    "\n",
    "shots=list(data.keys())\n",
    "shot=170701 #np.random.choice(shots)\n",
    "sigs=['curr','temp','pinj','tinj','dens','gasA','ech'] #['ffprime_EFITRT1','curr_target','pinj','temp','dens','gas_feedback','target_density','gasA','gasA_voltage', 'beam_feedback_switch', 'beam_feedback_power_target_quantity', 'realtime_betan']\n",
    "sig_names={'curr': 'Current\\n(MA)',\n",
    "           'temp':'Electron Temperature\\n(keV)', \n",
    "           'dens': 'Electron Density\\n(10^19 cm^-3)',\n",
    "           'itemp':'Ion Temperature\\n(keV)', \n",
    "           'pinj': 'NB Power\\n(MW)', \n",
    "           'gasA': 'Gas\\n(V)',\n",
    "           'ech': 'ECH Power\\n(MW)',\n",
    "           'tinj': 'NB Torque\\n(Rad/s)'}\n",
    "conversion_factor={'temp': 1000,\n",
    "                  'dens':1e19,\n",
    "                  'pinj': 1000,\n",
    "                  'tinj': 1,\n",
    "                  'curr': 1e6,\n",
    "                  'gasA': 1,\n",
    "                  'ech': 1}\n",
    "\n",
    "#sigs=['curr_target','pinj','temp','dens','target_source_pinj_30L','beam_feedback_switch','beam_feedback_switch','beam_feedback_power_target_quantity','beam_feedback_power_target_value','realtime_betan']\n",
    "assert(all(data[shot]['gas_density_or_profile_algorithm']==0))\n",
    "\n",
    "def removeOutliers(x, outlierConstant, sig):\n",
    "    #upper_quartile = np.nanpercentile(x, 75)\n",
    "    #lower_quartile = np.nanpercentile(x, 25)\n",
    "    upper_quartile=quartiles[sig]['upper']\n",
    "    lower_quartile=quartiles[sig]['lower']\n",
    "    IQR = (upper_quartile - lower_quartile) * outlierConstant\n",
    "    return np.clip(x,lower_quartile - IQR,upper_quartile + IQR)\n",
    "\n",
    "\n",
    "def my_normalize(arr):\n",
    "    return (arr-np.nanmin(arr))/(np.nanmax(arr)-np.nanmin(arr))\n",
    "\n",
    "fig=plt.figure()\n",
    "for i,sig in enumerate(sigs):\n",
    "    ax=fig.add_subplot(len(sigs),1.5,i+1)\n",
    "    ax.axvline(data[shot]['t_ip_flat'],c='r')\n",
    "    ax.axvline(data[shot]['t_ip_flat']+data[shot]['ip_flat_duration'],c='r')\n",
    "    if sig in ['temp','dens']: #len(data[shot][sig].shape)>1:\n",
    "        #thomson_sig_name='thomson_{}_EFITRT1'.format(sig)\n",
    "        #thomson_sig=data[shot][thomson_sig_name]\n",
    "        #thomson_sig=removeOutliers(thomson_sig,1.5,thomson_sig_name)\n",
    "        #ax.plot(data[shot]['time'],my_normalize(data[shot]['pinj']),c='r')\n",
    "            \n",
    "        zipfit_sig=np.mean(data[shot][sig],axis=1) #my_normalize(np.mean(data[shot][sig],axis=1))\n",
    "        \n",
    "        ax.contourf(data[shot]['time'],\n",
    "            np.linspace(0,np.nanmax(data[shot][sig]),65),\n",
    "            #thomson_sig.T)\n",
    "            data[shot][sig].T)\n",
    "        \n",
    "        ax.plot(data[shot]['time'],zipfit_sig,c='y',linewidth=7)\n",
    "        ax.plot(data[shot]['time'],zipfit_sig,c='r',linewidth=3,label='Fitted')\n",
    "        \n",
    "        #thomson_sig=np.mean(thomson_sig,axis=1)/conversion_factor[sig] #my_normalize(np.mean(thomson_sig,axis=1))\n",
    "        #ax.plot(data[shot]['time'],thomson_sig,c='b',linewidth=7,label='Raw Thomson')\n",
    "        #ax.legend()\n",
    "        #ax.plot(data[shot]['time'],my_normalize(np.mean(data[shot]['thomson_{}_EFITRT1'.format(sig)],axis=1), clip=True, sig=sig),c='g',linewidth=3)\n",
    "    elif len(data[shot][sig].shape)>1:\n",
    "        thomson_sig=removeOutliers(data[shot][sig],1.5,sig)\n",
    "        \n",
    "        ax.contourf(data[shot]['time'],\n",
    "                    np.linspace(0,1,65),\n",
    "                    #thomson_sig.T)\n",
    "                    data[shot][sig].T)\n",
    "            \n",
    "#         zipfit_sig=my_normalize(np.mean(data[shot][sig],axis=1))\n",
    "#         ax.plot(data[shot]['time'],zipfit_sig,c='y',linewidth=7)\n",
    "#         ax.plot(data[shot]['time'],zipfit_sig,c='r',linewidth=3)\n",
    "        \n",
    "       \n",
    "    elif sig=='target_density':\n",
    "        ax.plot(data[shot]['time'],data[shot]['density_estimate'])\n",
    "        ax.plot(data[shot]['time'],data[shot]['target_density'],c='r')\n",
    "    elif sig=='realtime_betan':\n",
    "        ax.plot(data[shot]['time'],data[shot]['realtime_betan'])\n",
    "        ax.plot(data[shot]['time'],data[shot]['beam_feedback_power_target_value'],c='r')\n",
    "    elif sig=='curr_target':\n",
    "        ax.plot(data[shot]['time'],data[shot]['curr'])\n",
    "        ax.plot(data[shot]['time'],data[shot]['curr_target'],c='r')\n",
    "        \n",
    "    else:\n",
    "        ax.plot(data[shot]['time'],data[shot][sig]/conversion_factor[sig])\n",
    "    ax.set_ylabel(sig_names[sig])\n",
    "    ax.set_xlim(min(data[shot]['time']),max(data[shot]['time']))\n",
    "    #ax.axvline(2220)\n",
    "    #ax.axvline(2270)\n",
    "plt.xlabel('Time (ms)')\n",
    "#plt.subplots_adjust(hspace=.5)\n",
    "fig.suptitle('Shot {}'.format(shot),fontsize=30)\n",
    "plt.show()"
   ]
  }
 ],
 "metadata": {
  "kernelspec": {
   "display_name": "Python 3",
   "language": "python",
   "name": "python3"
  },
  "language_info": {
   "codemirror_mode": {
    "name": "ipython",
    "version": 3
   },
   "file_extension": ".py",
   "mimetype": "text/x-python",
   "name": "python",
   "nbconvert_exporter": "python",
   "pygments_lexer": "ipython3",
   "version": "3.6.9"
  },
  "toc": {
   "base_numbering": 1,
   "nav_menu": {},
   "number_sections": true,
   "sideBar": true,
   "skip_h1_title": false,
   "title_cell": "Table of Contents",
   "title_sidebar": "Contents",
   "toc_cell": false,
   "toc_position": {},
   "toc_section_display": true,
   "toc_window_display": false
  },
  "varInspector": {
   "cols": {
    "lenName": 16,
    "lenType": 16,
    "lenVar": 40
   },
   "kernels_config": {
    "python": {
     "delete_cmd_postfix": "",
     "delete_cmd_prefix": "del ",
     "library": "var_list.py",
     "varRefreshCmd": "print(var_dic_list())"
    },
    "r": {
     "delete_cmd_postfix": ") ",
     "delete_cmd_prefix": "rm(",
     "library": "var_list.r",
     "varRefreshCmd": "cat(var_dic_list()) "
    }
   },
   "position": {
    "height": "522.85px",
    "left": "1504px",
    "right": "20px",
    "top": "120px",
    "width": "341px"
   },
   "types_to_exclude": [
    "module",
    "function",
    "builtin_function_or_method",
    "instance",
    "_Feature"
   ],
   "window_display": false
  }
 },
 "nbformat": 4,
 "nbformat_minor": 4
}
