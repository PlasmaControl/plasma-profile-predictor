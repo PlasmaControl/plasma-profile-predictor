{
 "cells": [
  {
   "cell_type": "code",
   "execution_count": 7,
   "metadata": {},
   "outputs": [],
   "source": [
    "import pickle\n",
    "import os\n",
    "import numpy as np\n",
    "from matplotlib import pyplot as plt\n",
    "import copy\n",
    "\n"
   ]
  },
  {
   "cell_type": "code",
   "execution_count": 60,
   "metadata": {},
   "outputs": [
    {
     "data": {
      "text/plain": [
       "['final_data.pkl',\n",
       " 'final_data_batch_0.pkl',\n",
       " 'final_data_batch_1.pkl',\n",
       " 'final_data_batch_10.pkl',\n",
       " 'final_data_batch_100.pkl',\n",
       " 'final_data_batch_101.pkl',\n",
       " 'final_data_batch_102.pkl',\n",
       " 'final_data_batch_103.pkl',\n",
       " 'final_data_batch_104.pkl',\n",
       " 'final_data_batch_105.pkl',\n",
       " 'final_data_batch_106.pkl',\n",
       " 'final_data_batch_107.pkl',\n",
       " 'final_data_batch_108.pkl',\n",
       " 'final_data_batch_109.pkl',\n",
       " 'final_data_batch_11.pkl',\n",
       " 'final_data_batch_110.pkl',\n",
       " 'final_data_batch_111.pkl',\n",
       " 'final_data_batch_112.pkl',\n",
       " 'final_data_batch_113.pkl',\n",
       " 'final_data_batch_114.pkl',\n",
       " 'final_data_batch_115.pkl',\n",
       " 'final_data_batch_116.pkl',\n",
       " 'final_data_batch_117.pkl',\n",
       " 'final_data_batch_118.pkl',\n",
       " 'final_data_batch_119.pkl',\n",
       " 'final_data_batch_12.pkl',\n",
       " 'final_data_batch_120.pkl',\n",
       " 'final_data_batch_121.pkl',\n",
       " 'final_data_batch_122.pkl',\n",
       " 'final_data_batch_123.pkl',\n",
       " 'final_data_batch_124.pkl',\n",
       " 'final_data_batch_125.pkl',\n",
       " 'final_data_batch_126.pkl',\n",
       " 'final_data_batch_127.pkl',\n",
       " 'final_data_batch_128.pkl',\n",
       " 'final_data_batch_129.pkl',\n",
       " 'final_data_batch_13.pkl',\n",
       " 'final_data_batch_130.pkl',\n",
       " 'final_data_batch_131.pkl',\n",
       " 'final_data_batch_132.pkl',\n",
       " 'final_data_batch_133.pkl',\n",
       " 'final_data_batch_134.pkl',\n",
       " 'final_data_batch_135.pkl',\n",
       " 'final_data_batch_136.pkl',\n",
       " 'final_data_batch_137.pkl',\n",
       " 'final_data_batch_138.pkl',\n",
       " 'final_data_batch_139.pkl',\n",
       " 'final_data_batch_14.pkl',\n",
       " 'final_data_batch_140.pkl',\n",
       " 'final_data_batch_141.pkl',\n",
       " 'final_data_batch_142.pkl',\n",
       " 'final_data_batch_143.pkl',\n",
       " 'final_data_batch_144.pkl',\n",
       " 'final_data_batch_145.pkl',\n",
       " 'final_data_batch_146.pkl',\n",
       " 'final_data_batch_147.pkl',\n",
       " 'final_data_batch_148.pkl',\n",
       " 'final_data_batch_149.pkl',\n",
       " 'final_data_batch_15.pkl',\n",
       " 'final_data_batch_150.pkl',\n",
       " 'final_data_batch_151.pkl',\n",
       " 'final_data_batch_152.pkl',\n",
       " 'final_data_batch_153.pkl',\n",
       " 'final_data_batch_154.pkl',\n",
       " 'final_data_batch_155.pkl',\n",
       " 'final_data_batch_156.pkl',\n",
       " 'final_data_batch_157.pkl',\n",
       " 'final_data_batch_158.pkl',\n",
       " 'final_data_batch_159.pkl',\n",
       " 'final_data_batch_16.pkl',\n",
       " 'final_data_batch_160.pkl',\n",
       " 'final_data_batch_161.pkl',\n",
       " 'final_data_batch_162.pkl',\n",
       " 'final_data_batch_163.pkl',\n",
       " 'final_data_batch_164.pkl',\n",
       " 'final_data_batch_165.pkl',\n",
       " 'final_data_batch_166.pkl',\n",
       " 'final_data_batch_167.pkl',\n",
       " 'final_data_batch_168.pkl',\n",
       " 'final_data_batch_169.pkl',\n",
       " 'final_data_batch_17.pkl',\n",
       " 'final_data_batch_170.pkl',\n",
       " 'final_data_batch_171.pkl',\n",
       " 'final_data_batch_172.pkl',\n",
       " 'final_data_batch_173.pkl',\n",
       " 'final_data_batch_174.pkl',\n",
       " 'final_data_batch_175.pkl',\n",
       " 'final_data_batch_176.pkl',\n",
       " 'final_data_batch_177.pkl',\n",
       " 'final_data_batch_178.pkl',\n",
       " 'final_data_batch_179.pkl',\n",
       " 'final_data_batch_18.pkl',\n",
       " 'final_data_batch_180.pkl',\n",
       " 'final_data_batch_181.pkl',\n",
       " 'final_data_batch_182.pkl',\n",
       " 'final_data_batch_183.pkl',\n",
       " 'final_data_batch_184.pkl',\n",
       " 'final_data_batch_185.pkl',\n",
       " 'final_data_batch_186.pkl',\n",
       " 'final_data_batch_187.pkl',\n",
       " 'final_data_batch_188.pkl',\n",
       " 'final_data_batch_189.pkl',\n",
       " 'final_data_batch_19.pkl',\n",
       " 'final_data_batch_190.pkl',\n",
       " 'final_data_batch_191.pkl',\n",
       " 'final_data_batch_192.pkl',\n",
       " 'final_data_batch_193.pkl',\n",
       " 'final_data_batch_194.pkl',\n",
       " 'final_data_batch_195.pkl',\n",
       " 'final_data_batch_196.pkl',\n",
       " 'final_data_batch_197.pkl',\n",
       " 'final_data_batch_198.pkl',\n",
       " 'final_data_batch_199.pkl',\n",
       " 'final_data_batch_2.pkl',\n",
       " 'final_data_batch_20.pkl',\n",
       " 'final_data_batch_200.pkl',\n",
       " 'final_data_batch_201.pkl',\n",
       " 'final_data_batch_202.pkl',\n",
       " 'final_data_batch_203.pkl',\n",
       " 'final_data_batch_204.pkl',\n",
       " 'final_data_batch_205.pkl',\n",
       " 'final_data_batch_206.pkl',\n",
       " 'final_data_batch_207.pkl',\n",
       " 'final_data_batch_208.pkl',\n",
       " 'final_data_batch_209.pkl',\n",
       " 'final_data_batch_21.pkl',\n",
       " 'final_data_batch_210.pkl',\n",
       " 'final_data_batch_211.pkl',\n",
       " 'final_data_batch_212.pkl',\n",
       " 'final_data_batch_213.pkl',\n",
       " 'final_data_batch_214.pkl',\n",
       " 'final_data_batch_215.pkl',\n",
       " 'final_data_batch_216.pkl',\n",
       " 'final_data_batch_217.pkl',\n",
       " 'final_data_batch_218.pkl',\n",
       " 'final_data_batch_219.pkl',\n",
       " 'final_data_batch_22.pkl',\n",
       " 'final_data_batch_220.pkl',\n",
       " 'final_data_batch_221.pkl',\n",
       " 'final_data_batch_222.pkl',\n",
       " 'final_data_batch_223.pkl',\n",
       " 'final_data_batch_224.pkl',\n",
       " 'final_data_batch_225.pkl',\n",
       " 'final_data_batch_226.pkl',\n",
       " 'final_data_batch_23.pkl',\n",
       " 'final_data_batch_24.pkl',\n",
       " 'final_data_batch_25.pkl',\n",
       " 'final_data_batch_26.pkl',\n",
       " 'final_data_batch_27.pkl',\n",
       " 'final_data_batch_28.pkl',\n",
       " 'final_data_batch_29.pkl',\n",
       " 'final_data_batch_3.pkl',\n",
       " 'final_data_batch_30.pkl',\n",
       " 'final_data_batch_31.pkl',\n",
       " 'final_data_batch_32.pkl',\n",
       " 'final_data_batch_33.pkl',\n",
       " 'final_data_batch_34.pkl',\n",
       " 'final_data_batch_35.pkl',\n",
       " 'final_data_batch_36.pkl',\n",
       " 'final_data_batch_37.pkl',\n",
       " 'final_data_batch_38.pkl',\n",
       " 'final_data_batch_39.pkl',\n",
       " 'final_data_batch_4.pkl',\n",
       " 'final_data_batch_40.pkl',\n",
       " 'final_data_batch_41.pkl',\n",
       " 'final_data_batch_42.pkl',\n",
       " 'final_data_batch_43.pkl',\n",
       " 'final_data_batch_44.pkl',\n",
       " 'final_data_batch_45.pkl',\n",
       " 'final_data_batch_46.pkl',\n",
       " 'final_data_batch_47.pkl',\n",
       " 'final_data_batch_48.pkl',\n",
       " 'final_data_batch_49.pkl',\n",
       " 'final_data_batch_5.pkl',\n",
       " 'final_data_batch_50.pkl',\n",
       " 'final_data_batch_51.pkl',\n",
       " 'final_data_batch_52.pkl',\n",
       " 'final_data_batch_53.pkl',\n",
       " 'final_data_batch_54.pkl',\n",
       " 'final_data_batch_55.pkl',\n",
       " 'final_data_batch_56.pkl',\n",
       " 'final_data_batch_57.pkl',\n",
       " 'final_data_batch_58.pkl',\n",
       " 'final_data_batch_59.pkl',\n",
       " 'final_data_batch_6.pkl',\n",
       " 'final_data_batch_60.pkl',\n",
       " 'final_data_batch_61.pkl',\n",
       " 'final_data_batch_62.pkl',\n",
       " 'final_data_batch_63.pkl',\n",
       " 'final_data_batch_64.pkl',\n",
       " 'final_data_batch_65.pkl',\n",
       " 'final_data_batch_66.pkl',\n",
       " 'final_data_batch_67.pkl',\n",
       " 'final_data_batch_68.pkl',\n",
       " 'final_data_batch_69.pkl',\n",
       " 'final_data_batch_7.pkl',\n",
       " 'final_data_batch_70.pkl',\n",
       " 'final_data_batch_71.pkl',\n",
       " 'final_data_batch_72.pkl',\n",
       " 'final_data_batch_73.pkl',\n",
       " 'final_data_batch_74.pkl',\n",
       " 'final_data_batch_75.pkl',\n",
       " 'final_data_batch_76.pkl',\n",
       " 'final_data_batch_77.pkl',\n",
       " 'final_data_batch_78.pkl',\n",
       " 'final_data_batch_79.pkl',\n",
       " 'final_data_batch_8.pkl',\n",
       " 'final_data_batch_80.pkl',\n",
       " 'final_data_batch_81.pkl',\n",
       " 'final_data_batch_82.pkl',\n",
       " 'final_data_batch_83.pkl',\n",
       " 'final_data_batch_84.pkl',\n",
       " 'final_data_batch_85.pkl',\n",
       " 'final_data_batch_86.pkl',\n",
       " 'final_data_batch_87.pkl',\n",
       " 'final_data_batch_88.pkl',\n",
       " 'final_data_batch_89.pkl',\n",
       " 'final_data_batch_9.pkl',\n",
       " 'final_data_batch_90.pkl',\n",
       " 'final_data_batch_91.pkl',\n",
       " 'final_data_batch_92.pkl',\n",
       " 'final_data_batch_93.pkl',\n",
       " 'final_data_batch_94.pkl',\n",
       " 'final_data_batch_95.pkl',\n",
       " 'final_data_batch_96.pkl',\n",
       " 'final_data_batch_97.pkl',\n",
       " 'final_data_batch_98.pkl',\n",
       " 'final_data_batch_99.pkl']"
      ]
     },
     "execution_count": 60,
     "metadata": {},
     "output_type": "execute_result"
    }
   ],
   "source": [
    "os.chdir('/scratch/gpfs/jabbate/new_data/')\n",
    "sorted(os.listdir())"
   ]
  },
  {
   "cell_type": "code",
   "execution_count": 61,
   "metadata": {},
   "outputs": [],
   "source": [
    "### Make directory\n",
    "\n",
    "avail_sigs = {}\n",
    "shot_by_batch = {}\n",
    "batch_by_shot = {}\n",
    "shot_by_sigs = {}\n",
    "files = [f for f in os.listdir() if 'batch' in f]\n",
    "for f in files:\n",
    "    with open(f, 'rb')as fo:\n",
    "        data = pickle.load(fo, encoding='latin1')\n",
    "    shot_by_batch[f] = []\n",
    "    for shot in data.keys():\n",
    "        for sig in data[shot].keys():\n",
    "            if sig in avail_sigs.keys():\n",
    "                avail_sigs[sig] += 1\n",
    "            else:\n",
    "                avail_sigs[sig] = 1\n",
    "            if sig in shot_by_sigs.keys():\n",
    "                shot_by_sigs[sig].append(shot)\n",
    "            else:\n",
    "                shot_by_sigs[sig] = [shot]\n",
    "        shot_by_batch[f].append(shot)\n",
    "        batch_by_shot[shot] = f\n",
    "        \n",
    "directory = {'avail_sigs': avail_sigs,\n",
    "             'shot_by_batch': shot_by_batch,\n",
    "             'batch_by_shot': batch_by_shot,\n",
    "            'shot_by_sigs': shot_by_sigs}\n",
    "\n",
    "with open('directory.pkl', 'wb+') as f:\n",
    "    pickle.dump(copy.deepcopy(directory), f)"
   ]
  },
  {
   "cell_type": "code",
   "execution_count": 62,
   "metadata": {},
   "outputs": [],
   "source": [
    "### Convert float64 to float32\n",
    "\n",
    "files = [f for f in os.listdir() if 'batch' in f]\n",
    "for f in files:\n",
    "    with open(f, 'rb')as fo:\n",
    "        data = pickle.load(fo, encoding='latin1')\n",
    "    for shotnum, shotdata in data.items():\n",
    "        for k,v in shotdata.items():\n",
    "            if isinstance(v,(list,tuple)):\n",
    "                shotdata[k] = np.array(v)\n",
    "            if isinstance(v,np.ndarray) and v.dtype==np.float64:\n",
    "                    shotdata[k] = v.astype('float32')\n",
    "            if isinstance(v,np.ndarray) and v.dtype==np.int64:\n",
    "                    shotdata[k] = v.astype('int32')\n",
    "    with open(f, 'wb+') as fo:\n",
    "        pickle.dump(copy.deepcopy(data), fo)"
   ]
  },
  {
   "cell_type": "code",
   "execution_count": 63,
   "metadata": {},
   "outputs": [],
   "source": [
    "### combine to make full_data\n",
    "full_data = {}\n",
    "files = [f for f in os.listdir() if 'batch' in f]\n",
    "for f in files:   \n",
    "    with open(f, 'rb')as fo:\n",
    "        data = pickle.load(fo, encoding='latin1')\n",
    "    full_data.update(data)\n",
    "with open('final_data.pkl', 'wb+') as fo:\n",
    "    pickle.dump(copy.deepcopy(full_data), fo)"
   ]
  },
  {
   "cell_type": "code",
   "execution_count": null,
   "metadata": {},
   "outputs": [],
   "source": []
  },
  {
   "cell_type": "code",
   "execution_count": 104,
   "metadata": {},
   "outputs": [
    {
     "data": {
      "text/plain": [
       "{4, 6, 9, 10}"
      ]
     },
     "execution_count": 104,
     "metadata": {},
     "output_type": "execute_result"
    }
   ],
   "source": [
    "set(np.where(np.logical_and(a==3,b>np.min(b[a==3])))[0])"
   ]
  },
  {
   "cell_type": "code",
   "execution_count": 87,
   "metadata": {},
   "outputs": [],
   "source": [
    "a = np.array([2,2,3,6,3,1,3,7,4,3,3])\n",
    "b = np.arange(len(a))"
   ]
  },
  {
   "cell_type": "code",
   "execution_count": 82,
   "metadata": {},
   "outputs": [
    {
     "ename": "TypeError",
     "evalue": "'names' is an invalid keyword argument for this function",
     "output_type": "error",
     "traceback": [
      "\u001b[0;31m---------------------------------------------------------------------------\u001b[0m",
      "\u001b[0;31mTypeError\u001b[0m                                 Traceback (most recent call last)",
      "\u001b[0;32m<ipython-input-82-7a39629f17cc>\u001b[0m in \u001b[0;36m<module>\u001b[0;34m\u001b[0m\n\u001b[0;32m----> 1\u001b[0;31m \u001b[0mnp\u001b[0m\u001b[0;34m.\u001b[0m\u001b[0marray\u001b[0m\u001b[0;34m(\u001b[0m\u001b[0;34m[\u001b[0m\u001b[0ma\u001b[0m\u001b[0;34m,\u001b[0m\u001b[0mb\u001b[0m\u001b[0;34m]\u001b[0m\u001b[0;34m,\u001b[0m\u001b[0mnames\u001b[0m\u001b[0;34m=\u001b[0m\u001b[0;34m[\u001b[0m\u001b[0;34m'shotnum'\u001b[0m\u001b[0;34m,\u001b[0m\u001b[0;34m'time'\u001b[0m\u001b[0;34m]\u001b[0m\u001b[0;34m)\u001b[0m\u001b[0;34m\u001b[0m\u001b[0;34m\u001b[0m\u001b[0m\n\u001b[0m",
      "\u001b[0;31mTypeError\u001b[0m: 'names' is an invalid keyword argument for this function"
     ]
    }
   ],
   "source": [
    "np.array([a,b],names=['shotnum','time'])"
   ]
  },
  {
   "cell_type": "code",
   "execution_count": 58,
   "metadata": {},
   "outputs": [],
   "source": [
    "f = directory['batch_by_shot'][163303]\n",
    "with open(f, 'rb')as fo:\n",
    "    data = pickle.load(fo, encoding='latin1')"
   ]
  },
  {
   "cell_type": "code",
   "execution_count": 49,
   "metadata": {},
   "outputs": [
    {
     "data": {
      "text/plain": [
       "dict_keys(['which_gas', 'C_coil_nonstandard_79', 'F_coil_3b', 'F_coil_3a', 'C_coil_19', 'gasD_flow', 'press_EFIT02', 'press_EFIT01', 'gasC_command', 'pfx1_flow', 'rmagx_EFIT02', 'rmagx_EFIT01', 'F_coil_8b', 'pfx1_command', 'F_coil_8a', 'rotation', 'I_coil_nonstandard_30', 'I_coil_330L', 'triangularity_bot_EFIT01', 'triangularity_bot_EFIT02', 'gasD_command', 'triangularity_top_EFIT02', 'I_coil_330U', 'C_coil_199', 'q_EFIT02', 'pprime_EFIT02', 'pprime_EFIT01', 'q_EFIT01', 'I_coil_method', 'F_coil_5a', 'C_coil_139', 'gasA_command', 'F_coil_5b', 'a_EFIT02', 'a_EFIT01', 'C_coil_79', 'gasE_command', 'beam_feedback_torque_target_quantity', 'gas_density_or_profile_algorithm', 'zmagX_EFIT02', 'zmagX_EFIT01', 'pfx2', 'pfx1', 'F_coil_2a', 'F_coil_2b', 'I_coil_nonstandard_90', 'gasE_flow', 'ech', 'bt', 'beam_feedback_switch', 'betan_EFIT02', 'gasB_flow', 'topology', 'gasB_command', 'I_coil_270U', 'I_coil_150U', 'itemp', 'C_coil_method', 'density_estimate', 'I_coil_270L', 'I_coil_150L', 'beam_feedback_torque_target_value', 'I_coil_nonstandard_150', 'kappa_EFIT02', 'kappa_EFIT01', 'F_coil_7b', 'F_coil_7a', 'beam_target_torque', 'drsep_EFIT02', 'drsep_EFIT01', 'beam_target_power', 'gas_feedback', 'tinj', 'F_coil_4b', 'F_coil_4a', 'ffprime_EFIT01', 'ffprime_EFIT02', 'C_coil_319', 'idens', 'temp', 'dens', 'realtime_betan', 'triangularity_top_EFIT01', 'curr', 'F_coil_1a', 'gasE', 'F_coil_1b', 'F_coil_9a', 'F_coil_9b', 'beam_feedback_power_target_quantity', 'betan_EFIT01', 'pinj', 'gasA_flow', 'I_coil_90L', 'curr_target', 'C_coil_nonstandard_139', 'C_coil_259', 'pfx2_command', 'zeff', 'volume_EFIT02', 'I_coil_90U', 'volume_EFIT01', 'ip_flat_duration', 'I_coil_30L', 'target_density', 't_ip_flat', 'I_coil_30U', 'beam_feedback_power_target_value', 'C_coil_nonstandard_199', 'F_coil_6a', 'F_coil_6b', 'gasA', 'gasC', 'gasB', 'I_coil_210L', 'gasD', 'I_coil_210U', 'time', 'cerauto_rotation_EFITRT1', 'cerauto_rotation_EFITRT2', 'cerquick_temp_EFITRT1', 'cerquick_temp_EFITRT2', 'zmagX_EFITRT2', 'gasE_voltage', 'target_source_pinj_15R', 'cerquick_rotation_EFITRT1', 'cerquick_rotation_EFITRT2', 'cerauto_temp_EFIT02', 'a_EFITRT1', 'a_EFITRT2', 'target_source_pinj_15L', 'cerauto_temp_EFIT01', 'target_pinj_15R', 'cerquick_included_channels', 'zmagX_EFITRT1', 'target_pinj_15L', 'gasD_voltage', 'target_pinj_30R', 'thomson_temp_EFITRT1', 'thomson_temp_EFITRT2', 'target_pinj_30L', 'pinj_30L', 'pinj_30R', 'ffprime_EFITRT2', 'betan_EFITRT1', 'target_source_pinj_33R', 'target_pinj_21R', 'target_pinj_21L', 'target_source_pinj_33L', 'gasA_voltage', 'pinj_15L', 'pinj_15R', 'cerquick_temp_EFIT01', 'cerauto_rotation_EFIT01', 'thomson_temp_EFIT01', 'target_pinj_33L', 'thomson_temp_EFIT02', 'target_source_pinj_30R', 'target_source_pinj_30L', 'target_pinj_33R', 'target_source_pinj_21R', 'target_source_pinj_21L', 'gasB_voltage', 'pinj_33R', 'cerauto_rotation_EFIT02', 'thomson_dens_EFITRT2', 'thomson_dens_EFITRT1', 'cerquick_temp_EFIT02', 'ffprime_EFITRT1', 'gasC_voltage', 'pprime_EFITRT2', 'pprime_EFITRT1', 'cerauto_included_channels', 'kappa_EFITRT1', 'kappa_EFITRT2', 'rmagx_EFITRT1', 'pinj_33L', 'rmagx_EFITRT2', 'cerquick_rotation_EFIT01', 'pinj_21L', 'cerquick_rotation_EFIT02', 'thomson_dens_EFIT02', 'thomson_dens_EFIT01', 'pinj_21R', 'cerauto_temp_EFITRT1', 'cerauto_temp_EFITRT2', 'betan_EFITRT2', 'drsep_EFITRT2', 'drsep_EFITRT1'])"
      ]
     },
     "execution_count": 49,
     "metadata": {},
     "output_type": "execute_result"
    }
   ],
   "source": [
    "data[163303].keys()"
   ]
  },
  {
   "cell_type": "code",
   "execution_count": 59,
   "metadata": {},
   "outputs": [
    {
     "data": {
      "text/plain": [
       "dtype('int32')"
      ]
     },
     "execution_count": 59,
     "metadata": {},
     "output_type": "execute_result"
    }
   ],
   "source": [
    "data[163303]['which_gas'].dtype"
   ]
  },
  {
   "cell_type": "code",
   "execution_count": null,
   "metadata": {},
   "outputs": [],
   "source": []
  }
 ],
 "metadata": {
  "kernelspec": {
   "display_name": "Python 3",
   "language": "python",
   "name": "python3"
  },
  "language_info": {
   "codemirror_mode": {
    "name": "ipython",
    "version": 3
   },
   "file_extension": ".py",
   "mimetype": "text/x-python",
   "name": "python",
   "nbconvert_exporter": "python",
   "pygments_lexer": "ipython3",
   "version": "3.6.9"
  }
 },
 "nbformat": 4,
 "nbformat_minor": 4
}
