{
 "cells": [
  {
   "cell_type": "code",
   "execution_count": 1,
   "metadata": {},
   "outputs": [
    {
     "name": "stderr",
     "output_type": "stream",
     "text": [
      "Using TensorFlow backend.\n",
      "/home/wconlin/.conda/envs/tfgpu/lib/python3.6/site-packages/tensorflow/python/framework/dtypes.py:458: FutureWarning: Passing (type, 1) or '1type' as a synonym of type is deprecated; in a future version of numpy, it will be understood as (type, (1,)) / '(1,)type'.\n",
      "  _np_qint8 = np.dtype([(\"qint8\", np.int8, 1)])\n",
      "/home/wconlin/.conda/envs/tfgpu/lib/python3.6/site-packages/tensorflow/python/framework/dtypes.py:459: FutureWarning: Passing (type, 1) or '1type' as a synonym of type is deprecated; in a future version of numpy, it will be understood as (type, (1,)) / '(1,)type'.\n",
      "  _np_quint8 = np.dtype([(\"quint8\", np.uint8, 1)])\n",
      "/home/wconlin/.conda/envs/tfgpu/lib/python3.6/site-packages/tensorflow/python/framework/dtypes.py:460: FutureWarning: Passing (type, 1) or '1type' as a synonym of type is deprecated; in a future version of numpy, it will be understood as (type, (1,)) / '(1,)type'.\n",
      "  _np_qint16 = np.dtype([(\"qint16\", np.int16, 1)])\n",
      "/home/wconlin/.conda/envs/tfgpu/lib/python3.6/site-packages/tensorflow/python/framework/dtypes.py:461: FutureWarning: Passing (type, 1) or '1type' as a synonym of type is deprecated; in a future version of numpy, it will be understood as (type, (1,)) / '(1,)type'.\n",
      "  _np_quint16 = np.dtype([(\"quint16\", np.uint16, 1)])\n",
      "/home/wconlin/.conda/envs/tfgpu/lib/python3.6/site-packages/tensorflow/python/framework/dtypes.py:462: FutureWarning: Passing (type, 1) or '1type' as a synonym of type is deprecated; in a future version of numpy, it will be understood as (type, (1,)) / '(1,)type'.\n",
      "  _np_qint32 = np.dtype([(\"qint32\", np.int32, 1)])\n",
      "/home/wconlin/.conda/envs/tfgpu/lib/python3.6/site-packages/tensorflow/python/framework/dtypes.py:465: FutureWarning: Passing (type, 1) or '1type' as a synonym of type is deprecated; in a future version of numpy, it will be understood as (type, (1,)) / '(1,)type'.\n",
      "  np_resource = np.dtype([(\"resource\", np.ubyte, 1)])\n"
     ]
    }
   ],
   "source": [
    "import pickle\n",
    "import keras\n",
    "import tensorflow as tf\n",
    "#from keras import backend as K\n",
    "import numpy as np\n",
    "import sys\n",
    "import os\n",
    "sys.path.append(os.path.abspath('../'))\n",
    "import helpers\n",
    "import helpers.data_generator\n",
    "from helpers.data_generator import process_data, DataGenerator\n",
    "from helpers.custom_losses import denorm_loss, hinge_mse_loss\n",
    "from helpers.custom_losses import percent_correct_sign, baseline_MAE\n",
    "from models.LSTMConv2D import get_model_lstm_conv2d, get_model_simple_lstm\n",
    "from models.LSTMConv2D import get_model_linear_systems, get_model_conv2d\n",
    "#from utils.callbacks import CyclicLR, TensorBoardWrapper\n",
    "from keras.callbacks import ModelCheckpoint, ReduceLROnPlateau\n",
    "from time import strftime, localtime\n",
    "import matplotlib\n",
    "from matplotlib import pyplot as plt\n",
    "import copy\n",
    "%matplotlib inline\n",
    "from helpers.normalization import normalize, denormalize, renormalize\n",
    "from tqdm import tqdm\n",
    "from sklearn import preprocessing\n",
    "from sklearn import decomposition\n",
    "#import tkinter as tk\n",
    "#from tkinter import filedialog\n",
    "#root = tk.Tk()\n",
    "#root.withdraw()"
   ]
  },
  {
   "cell_type": "code",
   "execution_count": 25,
   "metadata": {},
   "outputs": [],
   "source": [
    "num_components=10\n",
    "full_pca_fitter={}\n",
    "delta_pca_fitter={}\n",
    "kernels = {}"
   ]
  },
  {
   "cell_type": "code",
   "execution_count": 26,
   "metadata": {},
   "outputs": [
    {
     "name": "stderr",
     "output_type": "stream",
     "text": [
      "\n",
      "\n",
      "\n",
      "  0%|          | 0/12 [00:00<?, ?it/s]\u001b[A\u001b[A\u001b[A"
     ]
    },
    {
     "name": "stdout",
     "output_type": "stream",
     "text": [
      "Loading\n",
      "Signals: temp\n",
      "Number of useable shots:  7451\n",
      "Number of shots used:  7451\n",
      "Total number of timesteps:  773682\n",
      "Shots with Complete NaN: \n",
      "529327 samples total\n",
      "Removing ECH\n",
      "Removed 197386 samples\n",
      "331941 samples remaining\n",
      "Removing timesteps WITHOUT gas feedback\n",
      "Removed 54465 samples\n",
      "277476 samples remaining\n",
      "Removing weird I-coils\n",
      "Removed 53742 samples\n",
      "223734 samples remaining\n",
      "Removing NaN\n",
      "Removed 0 samples\n",
      "223734 samples remaining\n",
      "Removing dudtrip\n",
      "Removed 6723 samples\n",
      "217011 samples remaining\n",
      "217011 samples remaining after pruning\n",
      "Total number of samples:  217011\n",
      "Number of training samples:  217011\n",
      "Number of validation samples:  0\n"
     ]
    },
    {
     "name": "stderr",
     "output_type": "stream",
     "text": [
      "\n",
      "\n",
      "\n",
      "  8%|▊         | 1/12 [02:04<22:47, 124.34s/it]\u001b[A\u001b[A\u001b[A"
     ]
    },
    {
     "name": "stdout",
     "output_type": "stream",
     "text": [
      "Loading\n",
      "Signals: dens\n",
      "Number of useable shots:  7440\n",
      "Number of shots used:  7440\n",
      "Total number of timesteps:  772676\n",
      "Shots with Complete NaN: \n",
      "528578 samples total\n",
      "Removing ECH\n",
      "Removed 197076 samples\n",
      "331502 samples remaining\n",
      "Removing timesteps WITHOUT gas feedback\n",
      "Removed 54289 samples\n",
      "277213 samples remaining\n",
      "Removing weird I-coils\n",
      "Removed 53720 samples\n",
      "223493 samples remaining\n",
      "Removing NaN\n",
      "Removed 0 samples\n",
      "223493 samples remaining\n",
      "Removing dudtrip\n",
      "Removed 6723 samples\n",
      "216770 samples remaining\n",
      "216770 samples remaining after pruning\n",
      "Total number of samples:  216770\n",
      "Number of training samples:  216770\n",
      "Number of validation samples:  0\n"
     ]
    },
    {
     "name": "stderr",
     "output_type": "stream",
     "text": [
      "\n",
      "\n",
      "\n",
      " 17%|█▋        | 2/12 [03:35<19:02, 114.28s/it]\u001b[A\u001b[A\u001b[A"
     ]
    },
    {
     "name": "stdout",
     "output_type": "stream",
     "text": [
      "Loading\n",
      "Signals: press_EFIT01\n",
      "Number of useable shots:  7509\n",
      "Number of shots used:  7509\n",
      "Total number of timesteps:  778498\n",
      "Shots with Complete NaN: \n",
      "532517 samples total\n",
      "Removing ECH\n",
      "Removed 198337 samples\n",
      "334180 samples remaining\n",
      "Removing timesteps WITHOUT gas feedback\n",
      "Removed 54909 samples\n",
      "279271 samples remaining\n",
      "Removing weird I-coils\n",
      "Removed 54211 samples\n",
      "225060 samples remaining\n",
      "Removing NaN\n",
      "Removed 0 samples\n",
      "225060 samples remaining\n",
      "Removing dudtrip\n",
      "Removed 6738 samples\n",
      "218322 samples remaining\n",
      "218322 samples remaining after pruning\n",
      "Total number of samples:  218322\n",
      "Number of training samples:  218322\n",
      "Number of validation samples:  0\n"
     ]
    },
    {
     "name": "stderr",
     "output_type": "stream",
     "text": [
      "\n",
      "\n",
      "\n",
      " 25%|██▌       | 3/12 [05:04<16:02, 106.95s/it]\u001b[A\u001b[A\u001b[A"
     ]
    },
    {
     "name": "stdout",
     "output_type": "stream",
     "text": [
      "Loading\n",
      "Signals: press_EFIT01\n",
      "Number of useable shots:  7509\n",
      "Number of shots used:  7509\n",
      "Total number of timesteps:  778498\n",
      "Shots with Complete NaN: \n",
      "532517 samples total\n",
      "Removing ECH\n",
      "Removed 198337 samples\n",
      "334180 samples remaining\n",
      "Removing timesteps WITHOUT gas feedback\n",
      "Removed 54909 samples\n",
      "279271 samples remaining\n",
      "Removing weird I-coils\n",
      "Removed 54211 samples\n",
      "225060 samples remaining\n",
      "Removing NaN\n",
      "Removed 0 samples\n",
      "225060 samples remaining\n",
      "Removing dudtrip\n",
      "Removed 6738 samples\n",
      "218322 samples remaining\n",
      "218322 samples remaining after pruning\n",
      "Total number of samples:  218322\n",
      "Number of training samples:  218322\n",
      "Number of validation samples:  0\n"
     ]
    },
    {
     "name": "stderr",
     "output_type": "stream",
     "text": [
      "\n",
      "\n",
      "\n",
      " 33%|███▎      | 4/12 [06:33<13:32, 101.51s/it]\u001b[A\u001b[A\u001b[A"
     ]
    },
    {
     "name": "stdout",
     "output_type": "stream",
     "text": [
      "Loading\n",
      "Signals: q\n",
      "Number of useable shots:  5836\n",
      "Number of shots used:  5836\n",
      "Total number of timesteps:  616842\n",
      "Shots with Complete NaN: \n",
      "424351 samples total\n",
      "Removing ECH\n",
      "Removed 160977 samples\n",
      "263374 samples remaining\n",
      "Removing timesteps WITHOUT gas feedback\n",
      "Removed 44659 samples\n",
      "218715 samples remaining\n",
      "Removing weird I-coils\n",
      "Removed 43146 samples\n",
      "175569 samples remaining\n",
      "Removing NaN\n",
      "Removed 0 samples\n",
      "175569 samples remaining\n",
      "Removing dudtrip\n",
      "Removed 5205 samples\n",
      "170364 samples remaining\n",
      "170364 samples remaining after pruning\n",
      "Total number of samples:  170364\n",
      "Number of training samples:  170364\n",
      "Number of validation samples:  0\n"
     ]
    },
    {
     "name": "stderr",
     "output_type": "stream",
     "text": [
      "\n",
      "\n",
      "\n",
      " 42%|████▏     | 5/12 [07:40<10:37, 91.13s/it] \u001b[A\u001b[A\u001b[A"
     ]
    },
    {
     "name": "stdout",
     "output_type": "stream",
     "text": [
      "Loading\n",
      "Signals: q_EFIT01\n",
      "Number of useable shots:  7509\n",
      "Number of shots used:  7509\n",
      "Total number of timesteps:  778498\n",
      "Shots with Complete NaN: \n",
      "532517 samples total\n",
      "Removing ECH\n",
      "Removed 198337 samples\n",
      "334180 samples remaining\n",
      "Removing timesteps WITHOUT gas feedback\n",
      "Removed 54909 samples\n",
      "279271 samples remaining\n",
      "Removing weird I-coils\n",
      "Removed 54211 samples\n",
      "225060 samples remaining\n",
      "Removing NaN\n",
      "Removed 0 samples\n",
      "225060 samples remaining\n",
      "Removing dudtrip\n",
      "Removed 6738 samples\n",
      "218322 samples remaining\n",
      "218322 samples remaining after pruning\n",
      "Total number of samples:  218322\n",
      "Number of training samples:  218322\n",
      "Number of validation samples:  0\n"
     ]
    },
    {
     "name": "stderr",
     "output_type": "stream",
     "text": [
      "\n",
      "\n",
      "\n",
      " 50%|█████     | 6/12 [09:08<09:00, 90.16s/it]\u001b[A\u001b[A\u001b[A"
     ]
    },
    {
     "name": "stdout",
     "output_type": "stream",
     "text": [
      "Loading\n",
      "Signals: q_EFIT02\n",
      "Number of useable shots:  6295\n",
      "Number of shots used:  6295\n",
      "Total number of timesteps:  666791\n",
      "Shots with Complete NaN: \n",
      "459520 samples total\n",
      "Removing ECH\n",
      "Removed 173359 samples\n",
      "286161 samples remaining\n",
      "Removing timesteps WITHOUT gas feedback\n",
      "Removed 47201 samples\n",
      "238960 samples remaining\n",
      "Removing weird I-coils\n",
      "Removed 47089 samples\n",
      "191871 samples remaining\n",
      "Removing NaN\n",
      "Removed 0 samples\n",
      "191871 samples remaining\n",
      "Removing dudtrip\n",
      "Removed 5929 samples\n",
      "185942 samples remaining\n",
      "185942 samples remaining after pruning\n",
      "Total number of samples:  185942\n",
      "Number of training samples:  185942\n",
      "Number of validation samples:  0\n"
     ]
    },
    {
     "name": "stderr",
     "output_type": "stream",
     "text": [
      "\n",
      "\n",
      "\n",
      " 58%|█████▊    | 7/12 [10:25<07:11, 86.31s/it]\u001b[A\u001b[A\u001b[A"
     ]
    },
    {
     "name": "stdout",
     "output_type": "stream",
     "text": [
      "Loading\n",
      "Signals: ffprime_EFIT01\n",
      "Number of useable shots:  7509\n",
      "Number of shots used:  7509\n",
      "Total number of timesteps:  778498\n",
      "Shots with Complete NaN: \n",
      "532517 samples total\n",
      "Removing ECH\n",
      "Removed 198337 samples\n",
      "334180 samples remaining\n",
      "Removing timesteps WITHOUT gas feedback\n",
      "Removed 54909 samples\n",
      "279271 samples remaining\n",
      "Removing weird I-coils\n",
      "Removed 54211 samples\n",
      "225060 samples remaining\n",
      "Removing NaN\n",
      "Removed 0 samples\n",
      "225060 samples remaining\n",
      "Removing dudtrip\n",
      "Removed 6738 samples\n",
      "218322 samples remaining\n",
      "218322 samples remaining after pruning\n",
      "Total number of samples:  218322\n",
      "Number of training samples:  218322\n",
      "Number of validation samples:  0\n"
     ]
    },
    {
     "name": "stderr",
     "output_type": "stream",
     "text": [
      "\n",
      "\n",
      "\n",
      " 67%|██████▋   | 8/12 [11:56<05:50, 87.73s/it]\u001b[A\u001b[A\u001b[A"
     ]
    },
    {
     "name": "stdout",
     "output_type": "stream",
     "text": [
      "Loading\n",
      "Signals: ffprime_EFIT02\n",
      "Number of useable shots:  6295\n",
      "Number of shots used:  6295\n",
      "Total number of timesteps:  666791\n",
      "Shots with Complete NaN: \n",
      "459520 samples total\n",
      "Removing ECH\n",
      "Removed 173359 samples\n",
      "286161 samples remaining\n",
      "Removing timesteps WITHOUT gas feedback\n",
      "Removed 47201 samples\n",
      "238960 samples remaining\n",
      "Removing weird I-coils\n",
      "Removed 47089 samples\n",
      "191871 samples remaining\n",
      "Removing NaN\n",
      "Removed 0 samples\n",
      "191871 samples remaining\n",
      "Removing dudtrip\n",
      "Removed 5929 samples\n",
      "185942 samples remaining\n",
      "185942 samples remaining after pruning\n",
      "Total number of samples:  185942\n",
      "Number of training samples:  185942\n",
      "Number of validation samples:  0\n"
     ]
    },
    {
     "name": "stderr",
     "output_type": "stream",
     "text": [
      "\n",
      "\n",
      "\n",
      " 75%|███████▌  | 9/12 [13:10<04:10, 83.59s/it]\u001b[A\u001b[A\u001b[A"
     ]
    },
    {
     "name": "stdout",
     "output_type": "stream",
     "text": [
      "Loading\n",
      "Signals: rotation\n",
      "Number of useable shots:  6957\n",
      "Number of shots used:  6957\n",
      "Total number of timesteps:  729785\n",
      "Shots with Complete NaN: \n",
      "500624 samples total\n",
      "Removing ECH\n",
      "Removed 186728 samples\n",
      "313896 samples remaining\n",
      "Removing timesteps WITHOUT gas feedback\n",
      "Removed 51927 samples\n",
      "261969 samples remaining\n",
      "Removing weird I-coils\n",
      "Removed 51868 samples\n",
      "210101 samples remaining\n",
      "Removing NaN\n",
      "Removed 0 samples\n",
      "210101 samples remaining\n",
      "Removing dudtrip\n",
      "Removed 6485 samples\n",
      "203616 samples remaining\n",
      "203616 samples remaining after pruning\n",
      "Total number of samples:  203616\n",
      "Number of training samples:  203616\n",
      "Number of validation samples:  0\n"
     ]
    },
    {
     "name": "stderr",
     "output_type": "stream",
     "text": [
      "\n",
      "\n",
      "\n",
      " 83%|████████▎ | 10/12 [14:33<02:46, 83.17s/it]\u001b[A\u001b[A\u001b[A"
     ]
    },
    {
     "name": "stdout",
     "output_type": "stream",
     "text": [
      "Loading\n",
      "Signals: itemp\n",
      "Number of useable shots:  7007\n",
      "Number of shots used:  7007\n",
      "Total number of timesteps:  734689\n",
      "Shots with Complete NaN: \n",
      "503701 samples total\n",
      "Removing ECH\n",
      "Removed 187408 samples\n",
      "316293 samples remaining\n",
      "Removing timesteps WITHOUT gas feedback\n",
      "Removed 52015 samples\n",
      "264278 samples remaining\n",
      "Removing weird I-coils\n",
      "Removed 52233 samples\n",
      "212045 samples remaining\n",
      "Removing NaN\n",
      "Removed 0 samples\n",
      "212045 samples remaining\n",
      "Removing dudtrip\n",
      "Removed 6586 samples\n",
      "205459 samples remaining\n",
      "205459 samples remaining after pruning\n",
      "Total number of samples:  205459\n",
      "Number of training samples:  205459\n",
      "Number of validation samples:  0\n"
     ]
    },
    {
     "name": "stderr",
     "output_type": "stream",
     "text": [
      "\n",
      "\n",
      "\n",
      " 92%|█████████▏| 11/12 [15:57<01:23, 83.45s/it]\u001b[A\u001b[A\u001b[A"
     ]
    },
    {
     "name": "stdout",
     "output_type": "stream",
     "text": [
      "Loading\n",
      "Signals: jequil\n",
      "Number of useable shots:  5836\n",
      "Number of shots used:  5836\n",
      "Total number of timesteps:  616842\n",
      "Shots with Complete NaN: \n",
      "424351 samples total\n",
      "Removing ECH\n",
      "Removed 160977 samples\n",
      "263374 samples remaining\n",
      "Removing timesteps WITHOUT gas feedback\n",
      "Removed 44659 samples\n",
      "218715 samples remaining\n",
      "Removing weird I-coils\n",
      "Removed 43146 samples\n",
      "175569 samples remaining\n",
      "Removing NaN\n",
      "Removed 0 samples\n",
      "175569 samples remaining\n",
      "Removing dudtrip\n",
      "Removed 5205 samples\n",
      "170364 samples remaining\n",
      "170364 samples remaining after pruning\n",
      "Total number of samples:  170364\n",
      "Number of training samples:  170364\n",
      "Number of validation samples:  0\n"
     ]
    },
    {
     "name": "stderr",
     "output_type": "stream",
     "text": [
      "\n",
      "\n",
      "\n",
      "100%|██████████| 12/12 [17:16<00:00, 86.40s/it]\u001b[A\u001b[A\u001b[A\n"
     ]
    }
   ],
   "source": [
    "full_data_path = '/scratch/gpfs/jabbate/full_data/train_data_full.pkl'\n",
    "test_data_path = '/scratch/gpfs/jabbate/full_data/test_data.pkl' \n",
    "profiles = ['temp','dens','press_EFIT01','press_EFIT01','q','q_EFIT01','q_EFIT02','ffprime_EFIT01','ffprime_EFIT02','rotation','itemp','jequil']\n",
    "for profile in tqdm(profiles):\n",
    "    traindata, valdata, normalization_dict = helpers.data_generator.process_data(full_data_path,\n",
    "                                                          [profile],\n",
    "                                                          normalization_method='RobustScaler',\n",
    "                                                          window_length=1,\n",
    "                                                          window_overlap=0,\n",
    "                                                          lookbacks={profile:0},\n",
    "                                                          lookahead=1,\n",
    "                                                          sample_step=1,\n",
    "                                                          uniform_normalization=True,\n",
    "                                                          train_frac=1,\n",
    "                                                          val_frac=0,\n",
    "                                                          nshots=10000,\n",
    "                                                          verbose=2,\n",
    "                                                          flattop_only=True,\n",
    "                                                          randomize=False,\n",
    "                                                          pruning_functions=['remove_nan',\n",
    "                                                                             'remove_dudtrip',\n",
    "                                                                             'remove_I_coil',\n",
    "                                                                             'remove_non_gas_feedback',\n",
    "                                                                             'remove_ECH'],\n",
    "                                                          excluded_shots=['topology_TOP', \n",
    "                                                                          'topology_OUT',\n",
    "                                                                          'topology_MAR',\n",
    "                                                                          'topology_IN',\n",
    "                                                                          'topology_DN',\n",
    "                                                                          'topology_BOT'],\n",
    "                                                          delta_sigs=[])\n",
    "    arr = traindata[profile].squeeze()\n",
    "    arr = arr[:,1,::2] - arr[:,0,::2]\n",
    "    full_pca_fitter[profile]=decomposition.IncrementalPCA(n_components=num_components).fit(arr)\n",
    "    kernels[profile] = {}\n",
    "    kernels[profile]['variance'] = full_pca_fitter[profile].explained_variance_\n",
    "    for i in range(num_components):\n",
    "        arr = full_pca_fitter[profile].components_[:i+1,:]\n",
    "        kernels[profile][i] = np.dot(arr.T,arr)"
   ]
  },
  {
   "cell_type": "code",
   "execution_count": 23,
   "metadata": {},
   "outputs": [],
   "source": [
    "with open(os.path.expanduser('~/plasma-profile-predictor/pca_delta_fitters.pkl'),'wb+') as f:\n",
    "    pickle.dump(full_pca_fitter,f)\n",
    "with open(os.path.expanduser('~/plasma-profile-predictor/pca_delta_kernels.pkl'),'wb+') as f:\n",
    "    pickle.dump(kernels,f)"
   ]
  },
  {
   "cell_type": "code",
   "execution_count": 10,
   "metadata": {},
   "outputs": [
    {
     "data": {
      "text/plain": [
       "10"
      ]
     },
     "execution_count": 10,
     "metadata": {},
     "output_type": "execute_result"
    }
   ],
   "source": [
    "full_pca_fitter['temp'].n_components"
   ]
  },
  {
   "cell_type": "code",
   "execution_count": 12,
   "metadata": {},
   "outputs": [
    {
     "data": {
      "text/plain": [
       "(14617, 1, 65)"
      ]
     },
     "execution_count": 12,
     "metadata": {},
     "output_type": "execute_result"
    }
   ],
   "source": [
    "traindata['jequil'].shape"
   ]
  },
  {
   "cell_type": "code",
   "execution_count": 20,
   "metadata": {},
   "outputs": [
    {
     "data": {
      "text/plain": [
       "(32431, 2, 65)"
      ]
     },
     "execution_count": 20,
     "metadata": {},
     "output_type": "execute_result"
    }
   ],
   "source": [
    "traindata['temp'].shape"
   ]
  },
  {
   "cell_type": "code",
   "execution_count": null,
   "metadata": {},
   "outputs": [],
   "source": []
  }
 ],
 "metadata": {
  "kernelspec": {
   "display_name": "Python 3",
   "language": "python",
   "name": "python3"
  },
  "language_info": {
   "codemirror_mode": {
    "name": "ipython",
    "version": 3
   },
   "file_extension": ".py",
   "mimetype": "text/x-python",
   "name": "python",
   "nbconvert_exporter": "python",
   "pygments_lexer": "ipython3",
   "version": "3.6.9"
  }
 },
 "nbformat": 4,
 "nbformat_minor": 4
}
