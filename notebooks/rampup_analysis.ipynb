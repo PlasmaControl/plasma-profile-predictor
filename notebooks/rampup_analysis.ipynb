{
 "cells": [
  {
   "cell_type": "markdown",
   "metadata": {},
   "source": [
    "The goal of this notebook is to look at the model's performance on the rampup phase specifically, versus over the entire shot. The method which we will use for anlayzing performance will be \n",
    "    1. MSE\n",
    "    2. MAE\n",
    "    3. Individual shots\n",
    "\n",
    "We will then also train the model on only the rampup phase, and see how the model performs on rampup and the entire shot history. \n",
    "\n",
    "The goal is to make this notebook easily configurable for different inputs, and comparable between different delay times as well. \n",
    "\n",
    "\n",
    "The following methods are a bit crue and can/should be improved upon:\n",
    "    1. Rampup is defined as the first 10 timesteps\n",
    "    2. A good metric is hard to find\n",
    "    \n",
    "    \n",
    "Brainstorm:\n",
    "To easily subset the rampup for analysis and later to train the model, it might make sense to directly do the work inside the preprocessing file. "
   ]
  },
  {
   "cell_type": "code",
   "execution_count": 4,
   "metadata": {},
   "outputs": [
    {
     "data": {
      "text/plain": [
       "array([[[ 3.,  3.,  3.],\n",
       "        [ 3.,  3.,  3.]]])"
      ]
     },
     "execution_count": 4,
     "metadata": {},
     "output_type": "execute_result"
    }
   ],
   "source": [
    "import numpy as np\n",
    "np.zeros([1,2,3]) + 3"
   ]
  },
  {
   "cell_type": "code",
   "execution_count": null,
   "metadata": {},
   "outputs": [],
   "source": []
  },
  {
   "cell_type": "markdown",
   "metadata": {},
   "source": []
  }
 ],
 "metadata": {
  "kernelspec": {
   "display_name": "Python 3",
   "language": "python",
   "name": "python3"
  },
  "language_info": {
   "codemirror_mode": {
    "name": "ipython",
    "version": 3
   },
   "file_extension": ".py",
   "mimetype": "text/x-python",
   "name": "python",
   "nbconvert_exporter": "python",
   "pygments_lexer": "ipython3",
   "version": "3.6.8"
  }
 },
 "nbformat": 4,
 "nbformat_minor": 2
}
