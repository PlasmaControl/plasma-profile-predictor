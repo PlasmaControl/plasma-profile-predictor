{
 "cells": [
  {
   "cell_type": "code",
   "execution_count": 11,
   "metadata": {},
   "outputs": [],
   "source": [
    "import numpy as np\n",
    "import keras\n",
    "from matplotlib import pyplot as plt\n",
    "import os"
   ]
  },
  {
   "cell_type": "code",
   "execution_count": 41,
   "metadata": {},
   "outputs": [],
   "source": [
    "def array2matlab(array,name):\n",
    "    s = name + ' = ['\n",
    "    shp = array.shape\n",
    "    count=0\n",
    "    if len(shp) is 1:\n",
    "        for i in range(shp[0]):\n",
    "            s += \"{:.16f}\".format(array[i]) + ','\n",
    "            count += 1\n",
    "            if (count)%5 is 0:\n",
    "                s += '...\\n'\n",
    "                \n",
    "    elif len(shp) is 2:\n",
    "        for i in range(shp[0]):\n",
    "            for j in range(shp[1]):\n",
    "                s += \"{:.16f}\".format(array[i,j])\n",
    "                count += 1\n",
    "                if count%shp[1] is 0:\n",
    "                    s += ';'\n",
    "                else:\n",
    "                    s += ','\n",
    "                if (count)%5 is 0:\n",
    "                    s += '...\\n'\n",
    "            \n",
    "    s = s + ']; \\n'\n",
    "    return s\n",
    "        "
   ]
  },
  {
   "cell_type": "code",
   "execution_count": 42,
   "metadata": {},
   "outputs": [],
   "source": [
    "def weights2matlab(model,file):\n",
    "    for layer in model.layers[1:]:\n",
    "        weights = layer.get_weights()\n",
    "        if 'dense' in layer.name:\n",
    "            A = weights[0]\n",
    "            b = weights[1]\n",
    "            if len(layer.output_shape) is 3:\n",
    "                b= np.tile(b,(layer.output_shape[1],1))\n",
    "            file.write(array2matlab(A,layer.name + 'A'))\n",
    "            file.write(array2matlab(b,layer.name + 'b'))\n",
    "        elif 'lstm' in layer.name:\n",
    "            W = weights[0]\n",
    "            U = weights[1]\n",
    "            b = weights[2]\n",
    "            units = layer.get_config()['units']\n",
    "\n",
    "            Wi = W[:, :units]\n",
    "            Wf = W[:, units: units * 2]\n",
    "            Wc = W[:, units * 2: units * 3]\n",
    "            Wo = W[:, units * 3:]\n",
    "\n",
    "            Ui = U[:, :units]\n",
    "            Uf = U[:, units: units * 2]\n",
    "            Uc = U[:, units * 2: units * 3]\n",
    "            Uo = U[:, units * 3:]\n",
    "\n",
    "            bi = b[:units]\n",
    "            bf = b[units: units * 2]\n",
    "            bc = b[units * 2: units * 3]\n",
    "            bo = b[units * 3:]\n",
    "            \n",
    "            file.write(array2matlab(Wi,layer.name + 'Wi'))\n",
    "            file.write(array2matlab(Wf,layer.name + 'Wf'))\n",
    "            file.write(array2matlab(Wc,layer.name + 'Wc'))\n",
    "            file.write(array2matlab(Wo,layer.name + 'Wo'))\n",
    "\n",
    "            file.write(array2matlab(Ui,layer.name + 'Ui'))\n",
    "            file.write(array2matlab(Uf,layer.name + 'Uf'))\n",
    "            file.write(array2matlab(Uc,layer.name + 'Uc'))\n",
    "            file.write(array2matlab(Uo,layer.name + 'Uo'))\n",
    "\n",
    "            file.write(array2matlab(bi,layer.name + 'bi'))\n",
    "            file.write(array2matlab(bf,layer.name + 'bf'))\n",
    "            file.write(array2matlab(bc,layer.name + 'bc'))\n",
    "            file.write(array2matlab(bo,layer.name + 'bo'))"
   ]
  },
  {
   "cell_type": "code",
   "execution_count": 98,
   "metadata": {},
   "outputs": [],
   "source": [
    "def model2matlab(model,file,name):\n",
    "    s = 'function prediction = ' + name + '(input)'\n",
    "    file.write(s + '\\n \\n')\n",
    "    weights2matlab(model,file)\n",
    "    count = 1\n",
    "    activations_to_write = []\n",
    "    layers_to_write = []\n",
    "    for layer in model.layers[1:]:\n",
    "        if len(layer.output_shape[1:]) is 2:\n",
    "            s = 'layer'+str(count) + 'out = single(zeros' + str(layer.output_shape[1:]) + ');'\n",
    "            file.write(s + '\\n')\n",
    "        elif len(layer.output_shape[1:]) is 1:\n",
    "            s = 'layer'+str(count) + 'out = single(zeros(1,' + str(layer.output_shape[1]) + '));'\n",
    "            file.write(s + '\\n')\n",
    "        count += 1\n",
    "    file.write('layer0out = input; \\n \\n')\n",
    "    count = 1\n",
    "    for layer in model.layers[1:]:\n",
    "        if 'dense' in layer.name:\n",
    "            layers_to_write.append(layer)\n",
    "            s = 'layer' + str(count) + 'out = dense(layer' + str(count-1) + 'out,' + layer.name + 'A,' + layer.name + 'b);'\n",
    "            file.write(s + '\\n')\n",
    "            if 'linear' not in layer.get_config()['activation']:\n",
    "                if layer.get_config()['activation'] not in activations_to_write:\n",
    "                    activations_to_write.append(layer.get_config()['activation'])\n",
    "                s = 'layer' + str(count) + 'out = ' + layer.get_config()['activation'] + '(layer' + str(count) + 'out);'\n",
    "                file.write(s + '\\n')\n",
    "        if 'lstm' in layer.name:\n",
    "            layers_to_write.append(layer)\n",
    "            if layer.get_config()['activation'] not in activations_to_write:\n",
    "                    activations_to_write.append(layer.get_config()['activation'])\n",
    "            if layer.get_config()['recurrent_activation'] not in activations_to_write:\n",
    "                    activations_to_write.append(layer.get_config()['recurrent_activation'])\n",
    "            s_weights = ['Wi','Wf','Wc','Wo','Ui','Uf','Uc','Uo','bi','bf','bc','bo']\n",
    "            s_weights = [layer.name + suf for suf in s_weights]\n",
    "            s_weights = \",\".join(s_weights)\n",
    "            s = 'layer' + str(count) + 'out = ' + layer.name + '(layer' + str(count-1) + 'out,' + s_weights + ');'\n",
    "            file.write(s + '\\n')\n",
    "        count += 1\n",
    "    file.write('prediction = layer' + str(len(model.layers[1:])) + 'out; \\n end') \n",
    "    return layers_to_write, activations_to_write\n",
    "\n",
    "\n",
    "        "
   ]
  },
  {
   "cell_type": "code",
   "execution_count": 96,
   "metadata": {},
   "outputs": [],
   "source": [
    "def keras2matlab(model_filepath,function_name):\n",
    "    \n",
    "    model = keras.models.load_model(model_filepath)\n",
    " \n",
    "    dirName = function_name + '_matlab_code'\n",
    " \n",
    "    try:\n",
    "        # Create target Directory\n",
    "        os.mkdir(dirName)\n",
    "        os.chdir(dirName)\n",
    "        print(\"Directory \" , dirName ,  \" Created \") \n",
    "    except FileExistsError:\n",
    "        print(\"Directory \" , dirName ,  \" already exists\")\n",
    "        return\n",
    "    matlab_filepath = './' + function_name + '.m'\n",
    "    file = open(matlab_filepath,\"w+\")\n",
    "    (layers_to_write, activations_to_write) = model2matlab(model,file,function_name)\n",
    "    file.close()\n",
    "    activations2matlab(activations_to_write)\n",
    "    layers2matlab(layers_to_write)\n",
    "    make_test_suite(model,function_name)\n",
    "    os.chdir('..')\n"
   ]
  },
  {
   "cell_type": "code",
   "execution_count": 84,
   "metadata": {},
   "outputs": [],
   "source": [
    "def layers2matlab(layers):\n",
    "    densewritten = False\n",
    "    for layer in layers:\n",
    "        if ('dense' in layer.name) and not densewritten:\n",
    "            densewritten = True\n",
    "            file = open('dense.m',\"w+\")\n",
    "            s = \"\"\"function y = dense(x,A,b)\n",
    "y = zeros(size(A,2));\n",
    "y = x*A+b;\n",
    "end\"\"\"\n",
    "            file.write(s)\n",
    "            file.close()\n",
    "        if 'lstm' in layer.name:\n",
    "            file = open(layer.name + '.m',\"w+\")\n",
    "            s = 'function output = ' + layer.name + '(input,Wi,Wf,Wc,Wo,Ui,Uf,Uc,Uo,bi,bf,bc,bo) \\n'\n",
    "            s += '[num_inputs,input_size] = size(input); \\n'\n",
    "            s += 'state = single(zeros(2,input_size)); \\n'\n",
    "            s += 'for i =1:num_inputs \\n'\n",
    "            s += 'state = ' + layer.name + 'cell(input(i,:),state,Wi,Wf,Wc,Wo,Ui,Uf,Uc,Uo,bi,bf,bc,bo); \\n'\n",
    "            s += 'end \\n'\n",
    "            s += 'output = state(1,:); \\n'\n",
    "            s += 'end'\n",
    "            file.write(s)\n",
    "            file.close()\n",
    "            \n",
    "            file = open(layer.name + 'cell.m',\"w+\")\n",
    "            s = 'function state = ' + layer.name + 'cell(inputs,states,Wi,Wf,Wc,Wo,Ui,Uf,Uc,Uo,bi,bf,bc,bo) \\n'\n",
    "            s += \"\"\"\n",
    "h_tm1 = states(1,:);  % previous memory state\n",
    "c_tm1 = states(2,:);  % previous carry state\n",
    "\n",
    "inputs_i = inputs;\n",
    "inputs_f = inputs;\n",
    "inputs_c = inputs;\n",
    "inputs_o = inputs;\n",
    "\n",
    "x_i = inputs_i*Wi;\n",
    "x_f = inputs_f*Wf;\n",
    "x_c = inputs_c*Wc;\n",
    "x_o = inputs_o*Wo;\n",
    "\n",
    "x_i = x_i +bi;\n",
    "x_f = x_f +bf;\n",
    "x_c = x_c +bc;\n",
    "x_o = x_o +bo;\n",
    "\n",
    "h_tm1_i = h_tm1;\n",
    "h_tm1_f = h_tm1;\n",
    "h_tm1_c = h_tm1;\n",
    "h_tm1_o = h_tm1;\n",
    "\n",
    "\"\"\"\n",
    "            s += 'yi = ' + layer.get_config()['recurrent_activation'] + '(x_i + h_tm1_i*Ui); \\n' \n",
    "            s += 'yf = ' + layer.get_config()['recurrent_activation'] + '(x_f + h_tm1_f*Uf); \\n'\n",
    "            s += 'yc = yf.*c_tm1 + yi .* ' + layer.get_config()['activation'] + '(x_c + h_tm1_c*Uc); \\n'\n",
    "            s += 'yo = ' + layer.get_config()['recurrent_activation'] + '(x_o + h_tm1_o*Uo); \\n'\n",
    "            s += 'h = yo .* ' + layer.get_config()['activation'] + '(yc); \\n'\n",
    "            s += \"\"\"state = [h;yc];\n",
    "\n",
    "end\n",
    "\"\"\"\n",
    "            file.write(s)\n",
    "            file.close()"
   ]
  },
  {
   "cell_type": "code",
   "execution_count": 85,
   "metadata": {},
   "outputs": [],
   "source": [
    "def activations2matlab(activations):\n",
    "    if 'hard_sigmoid' in activations:\n",
    "        file = open('hard_sigmoid.m',\"w+\")\n",
    "        s = \"\"\"function y = hard_sigmoid(x)\n",
    "y=.2*x+.5;\n",
    "y(x<-2.5) = 0;\n",
    "y(x>2.5) = 1;\n",
    "end\"\"\"\n",
    "        file.write(s)\n",
    "        file.close()\n",
    "    if 'relu' in activations:\n",
    "        file = open('relu.m',\"w+\")\n",
    "        s = \"\"\"function y = relu(x)\n",
    "y=x;\n",
    "y(y<0) = 0;\n",
    "end\"\"\"\n",
    "        file.write(s)\n",
    "        file.close()\n",
    "    if 'softmax' in activations:\n",
    "        file = open('softmax.m',\"w+\")\n",
    "        s = \"\"\"function y = softmax(x)\n",
    "y = exp(x-max(x));\n",
    "y = y ./sum(y);\n",
    "end\"\"\"\n",
    "        file.write(s)\n",
    "        file.close()\n",
    "    if 'softplus' in activations:\n",
    "        file = open('softplus.m',\"w+\")\n",
    "        s = \"\"\"function y = softplus(x)\n",
    "y = log(1+exp(x));\n",
    "end\"\"\"\n",
    "        file.write(s)\n",
    "        file.close()\n",
    "    if 'softsign' in activations:\n",
    "        file = open('softsign.m',\"w+\")\n",
    "        s = \"\"\"function y = softsign(x)\n",
    "y = x./(1+abs(x));\n",
    "end\"\"\"\n",
    "        file.write(s)\n",
    "        file.close()\n",
    "    if 'elu' in activations:\n",
    "        file = open('elu.m',\"w+\")\n",
    "        s = \"\"\"function y = elu(x,alpha)\n",
    "y = x;\n",
    "y(x<0) = alpha * (exp(x(x<0)) - 1) ;\n",
    "end\"\"\"\n",
    "        file.write(s)\n",
    "        file.close()\n",
    "    if 'sigmoid' in activations:\n",
    "        file = open('sigmoid.m',\"w+\")\n",
    "        s = \"\"\"function y = sigmoid(x)\n",
    "y = 1 ./ (1+exp(-x));\n",
    "end\"\"\"\n",
    "        file.write(s)\n",
    "        file.close()\n",
    "\n"
   ]
  },
  {
   "cell_type": "code",
   "execution_count": 102,
   "metadata": {},
   "outputs": [],
   "source": [
    "def make_test_suite(model,function_name,num_tests=10):\n",
    "    file = open(function_name + '_test_suite.m',\"w+\")\n",
    "    for i in range(num_tests):\n",
    "        rand_input = np.random.random(model.layers[0].input_shape[1:])\n",
    "        file.write(array2matlab(rand_input,'rand_input' + str(i+1)))\n",
    "        rand_input = rand_input[np.newaxis,...]\n",
    "        output = model.predict(rand_input)\n",
    "        file.write(array2matlab(output,'keras_output' + str(i+1)))\n",
    "    for i in range(num_tests):\n",
    "        s = 'matlab_output' + str(i+1) + ' = ' + function_name + '(rand_input' + str(i+1) + '); \\n'\n",
    "        file.write(s)\n",
    "        s = 'error(' + str(i+1) + ') = norm(keras_output' + str(i+1) + '-matlab_output' + str(i+1) + '); \\n'\n",
    "        file.write(s)\n",
    "    s = 'error \\n'\n",
    "    file.write(s)\n",
    "    file.close()\n",
    "        \n",
    "    "
   ]
  },
  {
   "cell_type": "code",
   "execution_count": 47,
   "metadata": {},
   "outputs": [
    {
     "data": {
      "text/plain": [
       "'/home/fouriest/SCHOOL/Princeton/PPPL/plasma-profile-predictor/ktf2cpp'"
      ]
     },
     "execution_count": 47,
     "metadata": {},
     "output_type": "execute_result"
    }
   ],
   "source": [
    "os.chdir('..')\n",
    "os.getcwd()"
   ]
  },
  {
   "cell_type": "code",
   "execution_count": 71,
   "metadata": {},
   "outputs": [
    {
     "data": {
      "text/plain": [
       "(1, 2)"
      ]
     },
     "execution_count": 71,
     "metadata": {},
     "output_type": "execute_result"
    }
   ],
   "source": [
    "a = (1,)\n",
    "b = (2,)\n",
    "a+b"
   ]
  },
  {
   "cell_type": "code",
   "execution_count": 95,
   "metadata": {},
   "outputs": [],
   "source": [
    "make_test_suite(model,function_name)"
   ]
  },
  {
   "cell_type": "code",
   "execution_count": 63,
   "metadata": {},
   "outputs": [
    {
     "data": {
      "text/plain": [
       "(None, 8, 32)"
      ]
     },
     "execution_count": 63,
     "metadata": {},
     "output_type": "execute_result"
    }
   ],
   "source": [
    "model.layers[0].input_shape"
   ]
  },
  {
   "cell_type": "code",
   "execution_count": 103,
   "metadata": {},
   "outputs": [
    {
     "name": "stdout",
     "output_type": "stream",
     "text": [
      "Directory  test_matlab_code  Created \n"
     ]
    }
   ],
   "source": [
    "os.chdir('/home/fouriest/SCHOOL/Princeton/PPPL/plasma-profile-predictor/ktf2cpp')\n",
    "keras2matlab('model.h5','test')"
   ]
  },
  {
   "cell_type": "code",
   "execution_count": null,
   "metadata": {},
   "outputs": [],
   "source": []
  },
  {
   "cell_type": "code",
   "execution_count": null,
   "metadata": {},
   "outputs": [],
   "source": []
  },
  {
   "cell_type": "code",
   "execution_count": null,
   "metadata": {},
   "outputs": [],
   "source": []
  },
  {
   "cell_type": "code",
   "execution_count": null,
   "metadata": {},
   "outputs": [],
   "source": []
  }
 ],
 "metadata": {
  "kernelspec": {
   "display_name": "Python [conda env:ktf2cpp] *",
   "language": "python",
   "name": "conda-env-ktf2cpp-py"
  },
  "language_info": {
   "codemirror_mode": {
    "name": "ipython",
    "version": 3
   },
   "file_extension": ".py",
   "mimetype": "text/x-python",
   "name": "python",
   "nbconvert_exporter": "python",
   "pygments_lexer": "ipython3",
   "version": "3.6.8"
  }
 },
 "nbformat": 4,
 "nbformat_minor": 2
}
