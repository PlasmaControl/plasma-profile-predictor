{
 "cells": [
  {
   "cell_type": "code",
   "execution_count": 37,
   "metadata": {},
   "outputs": [],
   "source": [
    "import numpy as np\n",
    "import keras\n",
    "from matplotlib import pyplot as plt\n",
    "import os"
   ]
  },
  {
   "cell_type": "code",
   "execution_count": 128,
   "metadata": {},
   "outputs": [],
   "source": [
    "# use const for weights\n",
    "\n",
    "def array2c(array,name):\n",
    "    temp = array.flatten(order='C')\n",
    "    size = array.size\n",
    "    count = 0\n",
    "    s = 'float ' + name + '[' + str(size) + '] = \\n{'\n",
    "    for i in range(size):\n",
    "        s += \"{:.16f}\".format(temp[i]) + ','\n",
    "        count += 1\n",
    "        if (count)%3 is 0:\n",
    "            s += '\\n'\n",
    "    s += '}; \\n'\n",
    "    return s    \n",
    "    "
   ]
  },
  {
   "cell_type": "code",
   "execution_count": 190,
   "metadata": {},
   "outputs": [],
   "source": [
    "def weights2c(model,file):\n",
    "    for layer in model.layers[1:]:\n",
    "        weights = layer.get_weights()\n",
    "        if 'dense' in layer.name:\n",
    "            outshp = layer.output_shape[1:]\n",
    "            inshp = layer.input_shape[1:]\n",
    "            A = weights[0]\n",
    "            b = weights[1]\n",
    "            outrows = outshp[0]\n",
    "            inrows = inshp[0]\n",
    "            insize = np.prod(inshp)\n",
    "            outsize = np.prod(outshp)\n",
    "            if len(outshp)>1:\n",
    "                outcols = outshp[1]\n",
    "            else:\n",
    "                outcols=1\n",
    "            if len(inshp)>1:\n",
    "                incols = inshp[1]\n",
    "            else:\n",
    "                incols=1\n",
    "            s = 'size_t ' + layer.name + '_outrows =' + str(outrows) + ';\\n'\n",
    "            s += 'size_t ' + layer.name + '_outcols =' + str(outcols) + ';\\n'\n",
    "            s += 'size_t ' + layer.name + '_innerdim =' + str(incols) + ';\\n'\n",
    "            s += 'float ' + layer.name + '_output[' + str(outsize) + '] = {0}; \\n \\n'\n",
    "        \n",
    "            file.write(s)\n",
    "            file.write(array2c(A,layer.name + '_kernel'))\n",
    "            file.write(array2c(b,layer.name + '_bias'))\n",
    "            file.write('\\n \\n')\n",
    "\n",
    "        elif 'lstm' in layer.name:\n",
    "            W = weights[0]\n",
    "            U = weights[1]\n",
    "            b = weights[2]\n",
    "            \n",
    "            units = layer.get_config()['units']\n",
    "            inshp = layer.input_shape[1:]\n",
    "            outshp = layer.output_shape[1:]\n",
    "            outrows = outshp[0]\n",
    "            inrows = inshp[0]\n",
    "            insize = np.prod(inshp)\n",
    "            outsize = np.prod(outshp)\n",
    "            if len(outshp)>1:\n",
    "                outcols = outshp[1]\n",
    "            else:\n",
    "                outcols=1\n",
    "            if len(inshp)>1:\n",
    "                incols = inshp[1]\n",
    "            else:\n",
    "                incols=1\n",
    "                \n",
    "            Wi = W[:, :units]\n",
    "            Wf = W[:, units: units * 2]\n",
    "            Wc = W[:, units * 2: units * 3]\n",
    "            Wo = W[:, units * 3:]\n",
    "\n",
    "            Ui = U[:, :units]\n",
    "            Uf = U[:, units: units * 2]\n",
    "            Uc = U[:, units * 2: units * 3]\n",
    "            Uo = U[:, units * 3:]\n",
    "\n",
    "            bi = b[:units]\n",
    "            bf = b[units: units * 2]\n",
    "            bc = b[units * 2: units * 3]\n",
    "            bo = b[units * 3:]\n",
    "            \n",
    "            s = 'size_t ' + layer.name + '_units = ' + str(units) + ';\\n'\n",
    "            s += 'size_t ' + layer.name + '_in_height = ' + str(inrows) + ';\\n'\n",
    "            s += 'size_t ' + layer.name + '_in_width = ' + str(incols) + ';\\n'\n",
    "            s += 'float ' + layer.name + '_xi[' + str(units) + '] = {0}; \\n'\n",
    "            s += 'float ' + layer.name + '_xf[' + str(units) + '] = {0}; \\n'\n",
    "            s += 'float ' + layer.name + '_xc[' + str(units) + '] = {0}; \\n'\n",
    "            s += 'float ' + layer.name + '_xo[' + str(units) + '] = {0}; \\n'\n",
    "            s += 'float ' + layer.name + '_yi[' + str(units) + '] = {0}; \\n'\n",
    "            s += 'float ' + layer.name + '_yf[' + str(units) + '] = {0}; \\n'\n",
    "            s += 'float ' + layer.name + '_yc[' + str(units) + '] = {0}; \\n'\n",
    "            s += 'float ' + layer.name + '_yo[' + str(units) + '] = {0}; \\n'\n",
    "            s += 'float ' + layer.name + '_states[' + str(2*units) + '] = {0}; \\n'\n",
    "            s += 'float ' + layer.name + '_output[' + str(units) + '] = {0}; \\n \\n'\n",
    "            file.write(s)\n",
    "            \n",
    "            file.write(array2c(Wi,layer.name + '_Wi'))\n",
    "            file.write(array2c(Wf,layer.name + '_Wf'))\n",
    "            file.write(array2c(Wc,layer.name + '_Wc'))\n",
    "            file.write(array2c(Wo,layer.name + '_Wo'))\n",
    "\n",
    "            file.write(array2c(Ui,layer.name + '_Ui'))\n",
    "            file.write(array2c(Uf,layer.name + '_Uf'))\n",
    "            file.write(array2c(Uc,layer.name + '_Uc'))\n",
    "            file.write(array2c(Uo,layer.name + '_Uo'))\n",
    "\n",
    "            file.write(array2c(bi,layer.name + '_bi'))\n",
    "            file.write(array2c(bf,layer.name + '_bf'))\n",
    "            file.write(array2c(bc,layer.name + '_bc'))\n",
    "            file.write(array2c(bo,layer.name + '_bo'))\n",
    "            file.write('\\n \\n')\n",
    "            \n",
    "        elif 'conv1d' in layer.name:\n",
    "            filters = weights[0]\n",
    "            bias = weights[1]\n",
    "            inshp = layer.input_shape[1:]\n",
    "            outshp = layer.output_shape[1:]\n",
    "            outrows = outshp[0]\n",
    "            inrows = inshp[0]\n",
    "            insize = np.prod(inshp)\n",
    "            outsize = np.prod(outshp)\n",
    "            if len(outshp)>1:\n",
    "                outcols = outshp[1]\n",
    "            else:\n",
    "                outcols=1\n",
    "            if len(inshp)>1:\n",
    "                incols = inshp[1]\n",
    "            else:\n",
    "                incols=1\n",
    "            pad = layer.get_config()['padding']\n",
    "            stride = layer.get_config()['strides'][0]\n",
    "            dilation = layer.get_config()['dilation_rate'][0]\n",
    "            kernel_size = layer.get_config()['kernel_size'][0]\n",
    "            num_filters = layer.get_config()['filters']\n",
    "            \n",
    "            if pad in 'causal':\n",
    "                pad_along_height = dilation*(kernel_size-1)\n",
    "                pad_top = pad_along_height\n",
    "                pad_bottom = 0\n",
    "            elif pad in 'same':\n",
    "                pad_along_height = max((outshp[0] - 1) * stride*dilation +\n",
    "                        kernel_size - inshp[0], 0)\n",
    "                pad_top = int(pad_along_height // 2)\n",
    "                pad_bottom = int(pad_along_height - pad_top)\n",
    "            elif pad in 'valid':\n",
    "                pad_top=0\n",
    "                pad_bottom=0\n",
    "            \n",
    "            s = 'size_t ' + layer.name + '_stride = ' + str(stride) + '; \\n'\n",
    "            s += 'size_t ' + layer.name + '_dilation = ' + str(dilation) + '; \\n'\n",
    "            s += 'size_t ' + layer.name + '_pad_top = ' + str(pad_top) + '; \\n'\n",
    "            s += 'size_t ' + layer.name + '_pad_bottom = ' + str(pad_bottom) + '; \\n'\n",
    "            s += 'size_t ' + layer.name + '_in_height = ' + str(inrows) + '; \\n'\n",
    "            s += 'size_t ' + layer.name + '_padded_in_height = ' + str(inrows + pad_top + pad_bottom) + '; \\n'\n",
    "            s += 'size_t ' + layer.name + '_in_width = ' + str(incols) + '; \\n'\n",
    "            s += 'size_t ' + layer.name + '_out_height = ' + str(outrows) + '; \\n'\n",
    "            s += 'size_t ' + layer.name + '_out_width = ' + str(outcols) + '; \\n'\n",
    "            s += 'size_t ' + layer.name + '_kernel_size = ' + str(kernel_size) + '; \\n'\n",
    "            s += 'float ' + layer.name + '_padded_input[' + str((inrows + pad_top + pad_bottom)*incols) + \\\n",
    "                '] = {0}; \\n'\n",
    "            s += 'float ' + layer.name + '_fill[' + str(incols) + '] = {0}; \\n'\n",
    "            s += 'float ' + layer.name + '_output[' + str(outsize) + '] = {0}; \\n \\n'\n",
    "            file.write(s)\n",
    "            file.write(array2c(filters, layer.name + '_kernel'))\n",
    "            file.write(array2c(bias, layer.name + '_bias'))\n",
    "            file.write('\\n \\n')\n",
    "            \n",
    "            "
   ]
  },
  {
   "cell_type": "code",
   "execution_count": 171,
   "metadata": {},
   "outputs": [],
   "source": [
    "def layers2c(model,file):\n",
    "    for i in range(1,len(model.layers)):\n",
    "        layer = model.layers[i]\n",
    "        prevlayer = model.layers[i-1]\n",
    "        nm = layer.name\n",
    "        pnm = prevlayer.name\n",
    "        inputs = pnm + '_output'\n",
    "        outputs = nm + '_output'\n",
    "        if i is 1:\n",
    "            inputs = 'inputs'\n",
    "        if i is len(model.layers)-1:\n",
    "            outputs = 'predictions'\n",
    "                   \n",
    "        if 'dense' in nm:\n",
    "            activation = layer.get_config()['activation']\n",
    "            if activation in 'tanh':\n",
    "                activation = 'arrtanh'\n",
    "            s = 'dense(' + outputs + ',' + inputs + ',' + nm + '_kernel, \\n\\t' + \\\n",
    "                   nm + '_bias,' + nm + '_outrows,' + nm + '_outcols, \\n\\t' + \\\n",
    "                   nm + '_innerdim,' + activation + '); \\n'\n",
    "            file.write(s)\n",
    "        elif 'lstm' in nm:\n",
    "            output_activation = layer.get_config()['activation']\n",
    "            if output_activation in 'tanh':\n",
    "                output_activation = 'arrtanh'\n",
    "            recurrent_activation = layer.get_config()['recurrent_activation']\n",
    "            if recurrent_activation in 'tanh':\n",
    "                recurrent_activation = 'arrtanh'\n",
    "            \n",
    "            s = 'lstm(' + inputs + ',' + nm + '_states,' + nm + '_Wi, \\n\\t' + \\\n",
    "                   nm + '_Wf,' + nm + '_Wc,' + nm + '_Wo, \\n\\t' + \\\n",
    "                   nm + '_bi,' + nm + '_bf,' + nm + '_bc, \\n\\t' + \\\n",
    "                   nm + '_bo,' + nm + '_Ui,' + nm + '_Uf, \\n\\t' + \\\n",
    "                   nm + '_Uc,' + nm + '_Uo,' + nm + '_units, \\n\\t' + \\\n",
    "                   nm + '_in_height,' + nm + '_in_width,' + nm + '_xi, \\n\\t' + \\\n",
    "                   nm + '_xf,' + nm + '_xc,' + nm + '_xo, \\n\\t' + \\\n",
    "                   nm + '_yi,' + nm + '_yf,' + nm + '_yc, \\n\\t' + \\\n",
    "                   nm + '_yo,' + recurrent_activation + ',' + output_activation + ', \\n\\t' + \\\n",
    "                   outputs + '); \\n'\n",
    "            file.write(s)\n",
    "        elif 'conv1d' in nm:\n",
    "            activation = layer.get_config()['activation']\n",
    "            if activation in 'tanh':\n",
    "                activation = 'arrtanh'\n",
    "            s = 'padding1d(' + inputs + ',' + nm + '_padded_input,' + nm + '_fill, \\n\\t' + \\\n",
    "                    nm + '_in_height,' + nm + '_in_width,' + nm + '_pad_top,' + nm + '_pad_bottom); \\n'\n",
    "            file.write(s)\n",
    "            s = 'convolution1d(' + nm + '_padded_input,' + outputs + ',' + nm + '_kernel, \\n\\t' + \\\n",
    "               nm + '_bias,' + nm + '_out_height,' + nm + '_out_width, \\n\\t' + \\\n",
    "               nm + '_kernel_size,' + nm + '_padded_in_height,' + nm + '_in_width,' + nm + '_stride, \\n\\t' + \\\n",
    "               nm + '_dilation,' + activation + '); \\n'\n",
    "            file.write(s)"
   ]
  },
  {
   "cell_type": "code",
   "execution_count": 172,
   "metadata": {},
   "outputs": [],
   "source": [
    "def model2c(model,file,function_name):\n",
    "    s = '#include <stdio.h> \\n #include <stddef.h> \\n #include <math.h> \\n'\n",
    "    s += '#include \"keras2c_include.h\" \\n'\n",
    "    s += '\\n \\n'\n",
    "    file.write(s)\n",
    "    s = 'void ' + function_name + '(float inputs[], float predictions[]) { \\n \\n'\n",
    "    file.write(s)\n",
    "    weights2c(model,file)\n",
    "    layers2c(model,file)\n",
    "    file.write('\\n }')"
   ]
  },
  {
   "cell_type": "code",
   "execution_count": 218,
   "metadata": {},
   "outputs": [],
   "source": [
    "def keras2c(model_filepath,function_name,num_tests=10):\n",
    "\n",
    "    function_name = str(function_name)\n",
    "    filename = function_name + '.c'\n",
    "    model = keras.models.load_model(str(model_filepath))\n",
    "    file = open(filename,\"w+\")\n",
    "    model2c(model,file,function_name)\n",
    "    file.close()\n",
    "    make_test_suite(model,function_name,num_tests)"
   ]
  },
  {
   "cell_type": "code",
   "execution_count": 222,
   "metadata": {},
   "outputs": [],
   "source": [
    "def make_test_suite(model,function_name,num_tests=10):\n",
    "    \n",
    "    input_size = np.prod(model.layers[0].input_shape[1:])\n",
    "    output_size = np.prod(model.layers[-1].output_shape[1:])\n",
    "    \n",
    "    file = open(function_name + '_test_suite.c',\"w+\")\n",
    "    s = '#include <stdio.h> \\n#include <math.h> \\n#include <sys/time.h> \\n \\n'\n",
    "    file.write(s)\n",
    "    s = 'void ' + function_name + '(float input[],float prediction[]);\\n' \n",
    "    s += 'float norm2(float array1[], float array2[], size_t numel);\\n'\n",
    "    s += 'struct timeval GetTimeStamp(); \\n \\n'\n",
    "    file.write(s)\n",
    "    s = 'int main(){\\n'\n",
    "    file.write(s)\n",
    "    for i in range(num_tests):\n",
    "        #generate random input and write to file\n",
    "        rand_input = np.random.random(model.layers[0].input_shape[1:])\n",
    "        file.write(array2c(rand_input,'rand_input' + str(i+1)))\n",
    "        rand_input = rand_input[np.newaxis,...]\n",
    "        # make predictions\n",
    "        output = model.predict(rand_input)\n",
    "        output = output[0,:]\n",
    "        outshp = output.shape\n",
    "        # write predictions\n",
    "        file.write(array2c(output,'keras_output' + str(i+1)))\n",
    "        s = 'float coutput' + str(i+1) + '[' + str(output_size) + '] = {0};\\n'\n",
    "        file.write(s)\n",
    "    s = ' float errors[' + str(num_tests) + '];\\n'\n",
    "    s += ' size_t numel = ' + str(output_size) + ';\\n'\n",
    "    s += ' int num_tests = ' + str(num_tests) + '; \\n'\n",
    "    s += ' struct timeval t1 = GetTimeStamp(); \\n'\n",
    "    file.write(s)\n",
    "    for i in range(num_tests):\n",
    "        s = function_name + '(rand_input' + str(i+1) + ',' + 'coutput' + str(i+1) +'); \\n'\n",
    "        file.write(s)\n",
    "    file.write('\\n')\n",
    "    s =  'struct timeval t2 = GetTimeStamp(); \\n'\n",
    "    s += 'typedef unsigned long long u64; \\n'\n",
    "    s += 'u64 t1u = t1.tv_sec*1e6 + t1.tv_usec; \\n'\n",
    "    s += 'u64 t2u = t2.tv_sec*1e6 + t2.tv_usec; \\n'\n",
    "    s += 'printf(\"time (us) %llu \\\\n\", (t2u-t1u)/' + str(num_tests) + '); \\n'\n",
    "    file.write(s)\n",
    "    for i in range(num_tests):\n",
    "        s = 'errors[' + str(i) + '] = norm2(keras_output' + str(i+1) + ',coutput' + str(i+1) + ',numel); \\n'\n",
    "        file.write(s)\n",
    "    s = 'printf(\"L2 norm of output errors for tests:\\\\n\");\\n'\n",
    "    file.write(s)\n",
    "    s = 'for(int i=0; i<' + str(num_tests) + ';i++){ \\n'\n",
    "    s += ' printf(\"test %d : %e \\\\n\",i, errors[i]);}\\n'\n",
    "    file.write(s)\n",
    "    file.write('return 0;\\n } \\n\\n')\n",
    "    s = \"\"\"float norm2(float array1[], float array2[], size_t numel){ \\n\n",
    "    float sum = 0; \\n\n",
    "    for(size_t i=0; i<numel; i++){\\n\n",
    "    sum += (array1[i]-array2[i])*(array1[i]-array2[i]);}\\n\n",
    "    return sqrt(sum);}\\n\\n\"\"\"\n",
    "    file.write(s)\n",
    "    s = \"\"\"struct timeval GetTimeStamp() {\n",
    "    struct timeval tv;\n",
    "    gettimeofday(&tv,NULL);\n",
    "    return tv;\n",
    "}\"\"\"\n",
    "    file.write(s)\n",
    "    file.close()"
   ]
  },
  {
   "cell_type": "code",
   "execution_count": 223,
   "metadata": {},
   "outputs": [],
   "source": [
    "inshape = (8,23,)\n",
    "stride=1\n",
    "dilation=1\n",
    "filter_height=3\n",
    "num_filters=5\n",
    "pad = 'valid'\n",
    "a = keras.layers.Input(inshape)\n",
    "b = keras.layers.Dense(48)(a)\n",
    "c = keras.layers.Conv1D(filters=num_filters, kernel_size=filter_height, strides=stride, padding=pad, \\\n",
    "                        dilation_rate=dilation)(b)\n",
    "d = keras.layers.LSTM(20)(c)\n",
    "# e = keras.layers.Dense(30)(d)\n",
    "#f = keras.layers.add([e,c])\n",
    "\n",
    "model = keras.models.Model(inputs=a, outputs=d)\n",
    "model.save('test1.h5')"
   ]
  },
  {
   "cell_type": "code",
   "execution_count": 224,
   "metadata": {},
   "outputs": [],
   "source": [
    "keras2c('test1.h5','test1',100)"
   ]
  },
  {
   "cell_type": "code",
   "execution_count": 189,
   "metadata": {},
   "outputs": [
    {
     "data": {
      "text/plain": [
       "(None, 20)"
      ]
     },
     "execution_count": 189,
     "metadata": {},
     "output_type": "execute_result"
    }
   ],
   "source": [
    "model.layers[3].output_shape"
   ]
  },
  {
   "cell_type": "code",
   "execution_count": 161,
   "metadata": {},
   "outputs": [
    {
     "data": {
      "text/plain": [
       "(1, 30)"
      ]
     },
     "execution_count": 161,
     "metadata": {},
     "output_type": "execute_result"
    }
   ],
   "source": [
    "a = np.random.random(model.layers[0].input_shape[1:])\n",
    "a = a[np.newaxis,...]\n",
    "b = model.predict(a)\n",
    "b.shape"
   ]
  },
  {
   "cell_type": "code",
   "execution_count": 137,
   "metadata": {},
   "outputs": [
    {
     "data": {
      "text/plain": [
       "(4, 3, 2)"
      ]
     },
     "execution_count": 137,
     "metadata": {},
     "output_type": "execute_result"
    }
   ],
   "source": [
    "a = np.random.random((4,3,2))\n",
    "a.shape"
   ]
  },
  {
   "cell_type": "code",
   "execution_count": 138,
   "metadata": {},
   "outputs": [
    {
     "data": {
      "text/plain": [
       "(3, 2)"
      ]
     },
     "execution_count": 138,
     "metadata": {},
     "output_type": "execute_result"
    }
   ],
   "source": [
    "a[1,:].shape"
   ]
  },
  {
   "cell_type": "code",
   "execution_count": 139,
   "metadata": {},
   "outputs": [
    {
     "data": {
      "text/plain": [
       "array([[0., 0.],\n",
       "       [0., 0.],\n",
       "       [0., 0.]])"
      ]
     },
     "execution_count": 139,
     "metadata": {},
     "output_type": "execute_result"
    }
   ],
   "source": [
    "a[1,:,:]-a[1,:]"
   ]
  },
  {
   "cell_type": "code",
   "execution_count": 163,
   "metadata": {},
   "outputs": [
    {
     "data": {
      "text/plain": [
       "array([[1, 2, 3, 4],\n",
       "       [5, 6, 7, 8]])"
      ]
     },
     "execution_count": 163,
     "metadata": {},
     "output_type": "execute_result"
    }
   ],
   "source": [
    "c = np.array([[1,2,3,4],[5,6,7,8]])\n",
    "c"
   ]
  },
  {
   "cell_type": "code",
   "execution_count": 164,
   "metadata": {},
   "outputs": [
    {
     "data": {
      "text/plain": [
       "array([1, 2, 3, 4, 5, 6, 7, 8])"
      ]
     },
     "execution_count": 164,
     "metadata": {},
     "output_type": "execute_result"
    }
   ],
   "source": [
    "c.flatten(order='C')"
   ]
  },
  {
   "cell_type": "code",
   "execution_count": null,
   "metadata": {},
   "outputs": [],
   "source": []
  }
 ],
 "metadata": {
  "kernelspec": {
   "display_name": "Python [conda env:ktf2cpp] *",
   "language": "python",
   "name": "conda-env-ktf2cpp-py"
  },
  "language_info": {
   "codemirror_mode": {
    "name": "ipython",
    "version": 3
   },
   "file_extension": ".py",
   "mimetype": "text/x-python",
   "name": "python",
   "nbconvert_exporter": "python",
   "pygments_lexer": "ipython3",
   "version": "3.6.8"
  }
 },
 "nbformat": 4,
 "nbformat_minor": 2
}
