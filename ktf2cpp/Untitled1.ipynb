{
 "cells": [
  {
   "cell_type": "code",
   "execution_count": 1,
   "metadata": {},
   "outputs": [
    {
     "name": "stderr",
     "output_type": "stream",
     "text": [
      "Using TensorFlow backend.\n"
     ]
    }
   ],
   "source": [
    "import numpy as np\n",
    "import keras\n",
    "from matplotlib import pyplot as plt\n",
    "import os"
   ]
  },
  {
   "cell_type": "code",
   "execution_count": 569,
   "metadata": {},
   "outputs": [],
   "source": [
    "inshape = (25,43,)\n",
    "stride=1\n",
    "dilation=2\n",
    "num_filters=19\n",
    "kernel_size=9\n",
    "pad = 'causal'\n",
    "a = keras.layers.Input(inshape)\n",
    "b = keras.layers.Dense(48)(a)\n",
    "c = keras.layers.Conv1D(filters=num_filters, kernel_size=kernel_size, strides=stride, padding=pad, dilation_rate=dilation)(b)\n",
    "#d = keras.layers.Input((8,32,))\n",
    "#e = keras.layers.Dense(30)(d)\n",
    "#f = keras.layers.add([e,c])\n",
    "\n",
    "model = keras.models.Model(inputs=a, outputs=c)"
   ]
  },
  {
   "cell_type": "code",
   "execution_count": 570,
   "metadata": {},
   "outputs": [
    {
     "data": {
      "text/plain": [
       "<function ndarray.flatten>"
      ]
     },
     "execution_count": 570,
     "metadata": {},
     "output_type": "execute_result"
    }
   ],
   "source": [
    "x = np.random.random(inshape)\n",
    "x = x[np.newaxis,...]\n",
    "y = model.predict(x)\n",
    "#model.layers[2].get_weights()[0].shape\n",
    "y.flatten"
   ]
  },
  {
   "cell_type": "code",
   "execution_count": 571,
   "metadata": {},
   "outputs": [
    {
     "data": {
      "text/plain": [
       "(9, 48, 19)"
      ]
     },
     "execution_count": 571,
     "metadata": {},
     "output_type": "execute_result"
    }
   ],
   "source": [
    "denseA = model.layers[1].get_weights()[0]\n",
    "denseb = model.layers[1].get_weights()[1]\n",
    "y1 = (x[0,:,:]@denseA)+denseb\n",
    "filters = model.layers[2].get_weights()[0]\n",
    "bias = model.layers[2].get_weights()[1]\n",
    "# for \"same\" padding,\n",
    "# if kernel size is odd, pad by (nk-1)/2 on either side\n",
    "# of even, 1 less on top\n",
    "# for 'causal' padding, pad all on top [dilation_rate * (kernel_shape[0] - 1)]\n",
    "(in_height,in_width) = model.layers[2].input_shape[1:]\n",
    "out_width  = num_filters #int(np.ceil(float(in_width)))\n",
    "\n",
    "if pad is 'causal':\n",
    "    out_height = int(np.ceil(float(in_height) / float(stride)))\n",
    "\n",
    "    pad_along_height = dilation*(kernel_size-1)\n",
    "    pad_top = pad_along_height\n",
    "    pad_bottom = 0\n",
    "elif pad is 'same':\n",
    "    out_height = int(np.ceil(float(in_height) / float(stride)))\n",
    "\n",
    "    pad_along_height = max((out_height - 1) * stride*dilation +\n",
    "                        kernel_size - in_height, 0)\n",
    "    pad_top = int(pad_along_height // 2)\n",
    "    pad_bottom = int(pad_along_height - pad_top)\n",
    "elif pad is 'valid':\n",
    "    out_height =int(np.floor(((in_height-filter_height)/(stride*dilation)+1)))\n",
    "    pad_top=0\n",
    "    pad_bottom=0\n",
    "padded_in_height = in_height + pad_top + pad_bottom\n",
    "\n",
    "#pad_left = pad_along_width // 2\n",
    "#pad_right = pad_along_width - pad_left\n",
    "\n",
    "y1 = np.concatenate((np.zeros((pad_top,48)),y1,np.zeros((pad_bottom,48))),0)\n",
    "#y1 = np.concatenate((np.zeros((11,3)),y1),1)\n",
    "#y1.shape\n",
    "model.layers[2].get_weights()[0].shape\n",
    "#(kernel_size-1)*in_width*out_width + (in_width-1)*in_width"
   ]
  },
  {
   "cell_type": "code",
   "execution_count": 584,
   "metadata": {},
   "outputs": [],
   "source": [
    "#filters[0][47,29]\n",
    "y2 = convolve(y1,filters,out_height,out_width,kernel_size,in_width,padded_in_height,stride,dilation)\n",
    "#y2 = y2 + bias"
   ]
  },
  {
   "cell_type": "code",
   "execution_count": 585,
   "metadata": {},
   "outputs": [
    {
     "data": {
      "text/plain": [
       "9.087181571735171e-08"
      ]
     },
     "execution_count": 585,
     "metadata": {},
     "output_type": "execute_result"
    }
   ],
   "source": [
    "np.mean(np.abs(y.flatten(order='C')-y2.flatten(order='C')))\n",
    "#in_width*out_width*(kernel_size-1)"
   ]
  },
  {
   "cell_type": "code",
   "execution_count": 583,
   "metadata": {},
   "outputs": [],
   "source": [
    "def convolve(x,kernel,out_height,out_width,kernel_size,in_width,padded_in_height,stride,dilation):\n",
    "    x = x.flatten(order='C')\n",
    "    kernel = kernel.flatten(order='C')\n",
    "    out_size = out_height*out_width\n",
    "    output = np.zeros(out_size)\n",
    "   \n",
    "    for p in range(out_height):\n",
    "        outrowidx = p*out_width\n",
    "        for k in range(out_width):\n",
    "            for z in range(kernel_size):\n",
    "                kernelidx = z*in_width*out_width\n",
    "                for q in range(in_width):\n",
    "                    inheightidx = q*out_width\n",
    "                    output[outrowidx+k] += kernel[kernelidx+ inheightidx+ k]*x[(p*stride+ z*dilation)*in_width+q];\n",
    "            output[outrowidx+k] += bias[k]\n",
    "    \n",
    "#     output = np.zeros((out_height,out_width))\n",
    "#     output_shape = output.shape\n",
    "    \n",
    "#     for p in range(out_height):\n",
    "#         for k in range(out_width):\n",
    "#             for z in range(kernel_size):\n",
    "#                 for q in range(in_width):\n",
    "#                     output[p,k] += filters[z][q,k]*x[p*stride+z*dilation,q]\n",
    "#             output[x2,k] += bias[k]\n",
    "\n",
    "#    for x2 in range(output_shape[0]):\n",
    "#        for k in range(output_shape[1]):\n",
    "#            for z in range(kernel_size):\n",
    "#                for q in range(x.shape[1]):\n",
    "#                    output[x2,k] += filters[z][q,k]*x[x2*stride+z*dilation,q]\n",
    "#            output[x2,k] += bias[k]\n",
    "    return output"
   ]
  },
  {
   "cell_type": "code",
   "execution_count": 186,
   "metadata": {},
   "outputs": [
    {
     "data": {
      "text/plain": [
       "(48, 28)"
      ]
     },
     "execution_count": 186,
     "metadata": {},
     "output_type": "execute_result"
    }
   ],
   "source": [
    "model.layers[2].get_weights()[0].shape"
   ]
  },
  {
   "cell_type": "code",
   "execution_count": 257,
   "metadata": {},
   "outputs": [
    {
     "data": {
      "text/plain": [
       "(None, 25, 48)"
      ]
     },
     "execution_count": 257,
     "metadata": {},
     "output_type": "execute_result"
    }
   ],
   "source": [
    "model.layers[1].output_shape"
   ]
  },
  {
   "cell_type": "code",
   "execution_count": 446,
   "metadata": {},
   "outputs": [
    {
     "data": {
      "text/plain": [
       "array([0., 0., 0., 0., 0.])"
      ]
     },
     "execution_count": 446,
     "metadata": {},
     "output_type": "execute_result"
    }
   ],
   "source": [
    "np.zeros(5)"
   ]
  },
  {
   "cell_type": "code",
   "execution_count": 553,
   "metadata": {},
   "outputs": [
    {
     "data": {
      "text/plain": [
       "0.0"
      ]
     },
     "execution_count": 553,
     "metadata": {},
     "output_type": "execute_result"
    }
   ],
   "source": [
    "kernel_size=9\n",
    "in_width=48\n",
    "filters=19\n",
    "b = np.random.random((kernel_size,in_width,filters))\n",
    "a = b.flatten(order='C')\n",
    "idx = (4,17,2)\n",
    "b[idx] - a[idx[0] * (in_width * filters) + (idx[1] * filters) + idx[2]]"
   ]
  },
  {
   "cell_type": "code",
   "execution_count": null,
   "metadata": {},
   "outputs": [],
   "source": [
    "#out_height = ceil(float(in_height) / float(strides[1]))\n",
    "#out_width  = ceil(float(in_width) / float(strides[2]))\n",
    "\n",
    "#pad_along_height = max((out_height - 1) * strides[1] +\n",
    "#                    filter_height - in_height, 0)\n",
    "#pad_along_width = max((out_width - 1) * strides[2] +\n",
    "#                   filter_width - in_width, 0)\n",
    "#pad_top = pad_along_height // 2\n",
    "#pad_bottom = pad_along_height - pad_top\n",
    "#pad_left = pad_along_width // 2\n",
    "#pad_right = pad_along_width - pad_left\n",
    "\n",
    "\n",
    "import pydot\n",
    "#graph = pydot.graph_from_dot_data(str())\n",
    "graph = keras.utils.vis_utils.model_to_dot(model)\n",
    "print(graph.get_nodes()[1])"
   ]
  },
  {
   "cell_type": "code",
   "execution_count": null,
   "metadata": {},
   "outputs": [],
   "source": [
    "def array2c(array,name):\n",
    "    shp = array.shape\n",
    "    count = 0\n",
    "    if len(shp) is 1:\n",
    "        s = 'float ' + name + '[' + str(shp[0]) + '] = \\n{'\n",
    "        for i in range(shp[0]):\n",
    "            s += \"{:.16f}\".format(array[i]) + ','\n",
    "            count += 1\n",
    "            if (count)%3 is 0:\n",
    "                s += '\\n'\n",
    "        s += '}; \\n'\n",
    "        return s    \n",
    "    elif len(shp) is 2:\n",
    "        s = 'float ' + name + '[' + str(shp[0]) + '][' + str(shp[1]) + '] = \\n{'\n",
    "        for row in range(shp[0]):\n",
    "            s += '{'\n",
    "            for col in range(shp[1]):\n",
    "                s += \"{:.16f}\".format(array[row,col]) \n",
    "                if col < shp[1]:\n",
    "                    s += ','\n",
    "                count += 1\n",
    "                if (count)%3 is 0:\n",
    "                    s += '\\n'\n",
    "            s += '}'\n",
    "            if row<shp[0]:\n",
    "                s += ','\n",
    "            s += '\\n'\n",
    "        s += '}; \\n'\n",
    "        return s\n",
    "                \n",
    "    elif len(shp) is 3:\n",
    "        s = 'float ' + name + '[' + str(shp[0]) + '][' + str(shp[1]) + '][' + str(shp[2]) + '] = \\n{'\n",
    "        for filters in range(shp[0]):\n",
    "            s += '{'\n",
    "            for row in range(shp[1]):\n",
    "                s += '{'\n",
    "                for col in range(shp[0]):\n",
    "                    s += \"{:.16f}\".format(array[filters,row,col]) \n",
    "                    if col < shp[1]:\n",
    "                        s += ','\n",
    "                    count += 1\n",
    "                    if (count)%3 is 0:\n",
    "                        s += '\\n'\n",
    "                s += '}'\n",
    "                if row<shp[1]:\n",
    "                    s += ','\n",
    "                s += '\\n'\n",
    "            s += '}'\n",
    "            if filters<shp[0]:\n",
    "                s += ','\n",
    "        s += '}; \\n'\n",
    "        return s"
   ]
  }
 ],
 "metadata": {
  "kernelspec": {
   "display_name": "Python 3",
   "language": "python",
   "name": "python3"
  },
  "language_info": {
   "codemirror_mode": {
    "name": "ipython",
    "version": 3
   },
   "file_extension": ".py",
   "mimetype": "text/x-python",
   "name": "python",
   "nbconvert_exporter": "python",
   "pygments_lexer": "ipython3",
   "version": "3.6.8"
  }
 },
 "nbformat": 4,
 "nbformat_minor": 2
}
